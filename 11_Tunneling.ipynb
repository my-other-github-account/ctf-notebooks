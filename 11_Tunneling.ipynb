{
 "cells": [
  {
   "cell_type": "code",
   "execution_count": 23,
   "id": "07ce1e60-1c69-4586-9e88-599a1b88aecf",
   "metadata": {},
   "outputs": [
    {
     "name": "stdout",
     "output_type": "stream",
     "text": [
      "env: LPORT=444\n",
      "env: RPORT=8080\n",
      "env: USER=aubreanna\n",
      "env: TARGET=internal.thm\n",
      "ssh -L 444:127.0.0.1:8080 aubreanna@internal.thm\n"
     ]
    }
   ],
   "source": [
    "# LPORT on local machine leads to RPORT on remote machine\n",
    "%env LPORT=444\n",
    "%env RPORT=8080\n",
    "%env USER=aubreanna\n",
    "%env TARGET=internal.thm\n",
    "!echo ssh -L $LPORT:127.0.0.1:$RPORT $USER@$TARGET"
   ]
  },
  {
   "cell_type": "code",
   "execution_count": 22,
   "id": "0195d433-e1ab-44b7-8a1c-bb6504012ea9",
   "metadata": {},
   "outputs": [
    {
     "name": "stdout",
     "output_type": "stream",
     "text": [
      "127.0.0.1:444\n"
     ]
    }
   ],
   "source": [
    "!echo 127.0.0.1:$LPORT"
   ]
  },
  {
   "cell_type": "markdown",
   "id": "549ea9c7-bf34-4d28-9d59-9b12abcf7a6c",
   "metadata": {},
   "source": [
    "http://127.0.0.1:10000"
   ]
  },
  {
   "cell_type": "code",
   "execution_count": 18,
   "id": "d26a96d9-244b-49aa-9a23-1cbd53f6e86b",
   "metadata": {},
   "outputs": [
    {
     "name": "stdout",
     "output_type": "stream",
     "text": [
      "<html><head><meta http-equiv='refresh' content='1;url=/login?from=%2F'/><script>window.location.replace('/login?from=%2F');</script></head><body style='background-color:white; color:white;'>\n",
      "\n",
      "\n",
      "Authentication required\n",
      "<!--\n",
      "You are authenticated as: anonymous\n",
      "Groups that you are in:\n",
      "  \n",
      "Permission you need to have (but didn't): hudson.model.Hudson.Read\n",
      " ... which is implied by: hudson.security.Permission.GenericRead\n",
      " ... which is implied by: hudson.model.Hudson.Administer\n",
      "-->\n",
      "\n",
      "</body></html>                                                                                                                                                                                                                                                                                                            "
     ]
    }
   ],
   "source": [
    "!curl 127.0.0.1:$LPORT"
   ]
  },
  {
   "cell_type": "code",
   "execution_count": null,
   "id": "8e5b9eaa-7458-40f4-9aff-5445047eff34",
   "metadata": {},
   "outputs": [],
   "source": []
  }
 ],
 "metadata": {
  "kernelspec": {
   "display_name": "Python 3 (ipykernel)",
   "language": "python",
   "name": "python3"
  },
  "language_info": {
   "codemirror_mode": {
    "name": "ipython",
    "version": 3
   },
   "file_extension": ".py",
   "mimetype": "text/x-python",
   "name": "python",
   "nbconvert_exporter": "python",
   "pygments_lexer": "ipython3",
   "version": "3.9.2"
  }
 },
 "nbformat": 4,
 "nbformat_minor": 5
}
