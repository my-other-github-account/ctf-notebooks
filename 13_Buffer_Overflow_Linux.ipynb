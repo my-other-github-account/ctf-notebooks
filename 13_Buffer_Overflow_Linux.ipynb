{
 "cells": [
  {
   "cell_type": "markdown",
   "id": "b16b8f81-0421-4ac7-830b-d43cf35f5f03",
   "metadata": {},
   "source": [
    "# R2 Overview:"
   ]
  },
  {
   "cell_type": "markdown",
   "id": "caa380e4-bfe7-46db-a9d4-1964f3fdaf44",
   "metadata": {},
   "source": [
    "Remember to do:\n",
    "\n",
    "Setup\n",
    "\n",
    "List functions, then print code for one"
   ]
  },
  {
   "cell_type": "code",
   "execution_count": 145,
   "id": "08440346-e588-45d2-9ec8-fef8c8f42a93",
   "metadata": {},
   "outputs": [],
   "source": [
    "import pexpect\n",
    "import sys\n",
    "import time\n",
    "\n",
    "from IPython.core.magic import (register_line_magic, register_cell_magic,\n",
    "                                register_line_cell_magic)\n",
    "\n",
    "rp = pexpect.spawnu('r2 -d func-pointer', encoding='utf-8')\n",
    "\n",
    "@register_line_magic\n",
    "def r(line):\n",
    "    rp.sendline(line)\n",
    "    time.sleep(.5)\n",
    "    end = \"\"\n",
    "    while not \"]>\" in end:\n",
    "        read = rp.read_nonblocking(100000)\n",
    "        print(read)\n",
    "        end = read[-50:]\n",
    "\n",
    "@register_line_magic\n",
    "def ro():\n",
    "    print(rp.read_nonblocking(100000))\n",
    "\n",
    "@register_line_magic\n",
    "def ri(line):\n",
    "    rp.sendline(line)\n",
    "    time.sleep(.5)\n",
    "    print(rp.read_nonblocking(100000))"
   ]
  },
  {
   "cell_type": "code",
   "execution_count": 141,
   "id": "ca9c02b5-b367-4a25-8c4d-6526a6eba610",
   "metadata": {},
   "outputs": [
    {
     "name": "stdout",
     "output_type": "stream",
     "text": [
      "Process with PID 3969 started...\n",
      "= attach 3969 3969\n",
      "bin.baddr 0x00400000\n",
      "Using 0x400000\n",
      "asm.bits 64\n",
      "Warning: r_bin_file_hash: file exceeds bin.hashlimit\n",
      "\u001b[32m[x]\u001b[0m Analyze all flags starting with sym. and entry0 (aa)\n",
      "0x00400490    1 42           entry0\n",
      "0x004004c0    4 42   -> 37   sym.deregister_tm_clones\n",
      "0x004004f0    4 58   -> 55   sym.register_tm_clones\n",
      "0x00400530    3 34   -> 29   entry.fini0\n",
      "0x00400560    1 7            entry.init0\n",
      "0x00400660    1 2            sym.__libc_csu_fini\n",
      "0x00400664    1 9            sym._fini\n",
      "0x00400593    1 22           sym.other\n",
      "0x00400470    1 6            sym.imp.printf\n",
      "0x004005f0    4 101          sym.__libc_csu_init\n",
      "0x00400567    1 27           sym.special\n",
      "0x00400460    1 6            sym.imp.puts\n",
      "0x004005a9    1 58           main\n",
      "0x00400480    1 6            sym.imp.gets\n",
      "0x00400582    1 17           sym.normal\n",
      "0x00400438    3 23           sym._init\n",
      "\u001b[33m[0x7f316b6ab090]>\u001b[0m \u001b[?1001r\u001b[?1000l len 3722\n"
     ]
    }
   ],
   "source": [
    "%r aa;e asm.syntax=att; afl;"
   ]
  },
  {
   "cell_type": "code",
   "execution_count": 142,
   "id": "d4925339-2c39-4f04-b63c-1261c8d8050e",
   "metadata": {},
   "outputs": [
    {
     "name": "stdout",
     "output_type": "stream",
     "text": [
      "            \u001b[31m\u001b[31m; DATA XREF from entry0 @ \u001b[31m0x4004ad\u001b[31m\u001b[0m\n",
      "\u001b[36m┌\u001b[0m 58: int \u001b[31mmain\u001b[0m (int argc, char **argv, char **envp);\n",
      "\u001b[36m│\u001b[0m           \u001b[37m; \u001b[37mvar \u001b[34mint64_t var_30h \u001b[36m@ rbp-0x30\u001b[0m\n",
      "\u001b[36m│\u001b[0m           \u001b[37m; \u001b[37mvar \u001b[34mint64_t var_24h \u001b[36m@ rbp-0x24\u001b[0m\n",
      "\u001b[36m│\u001b[0m           \u001b[37m; \u001b[37mvar \u001b[34mint64_t var_16h \u001b[36m@ rbp-0x16\u001b[0m\n",
      "\u001b[36m│\u001b[0m           \u001b[37m; \u001b[37mvar \u001b[34mint64_t var_8h \u001b[36m@ rbp-0x8\u001b[0m\n",
      "\u001b[36m│\u001b[0m           \u001b[37m; \u001b[37marg \u001b[34mint argc \u001b[36m@ rdi\u001b[0m\n",
      "\u001b[36m│\u001b[0m           \u001b[37m; \u001b[37marg \u001b[34mchar **argv \u001b[36m@ rsi\u001b[0m\n",
      "\u001b[36m│\u001b[0m           \u001b[32m0x004005a9\u001b[0m      \u001b[33m55\u001b[0m             \u001b[35mpushq\u001b[36m \u001b[0m%\u001b[36mrbp\u001b[0m\u001b[0m\u001b[0m\n",
      "\u001b[36m│\u001b[0m           \u001b[32m0x004005aa\u001b[0m      \u001b[33m48\u001b[37m89\u001b[37me5\u001b[0m         \u001b[37mmovq\u001b[36m \u001b[0m%\u001b[36mrsp\u001b[0m,\u001b[36m\u001b[36m \u001b[0m%\u001b[36mrbp\u001b[0m\u001b[0m\u001b[0m\n",
      "\u001b[36m│\u001b[0m           \u001b[32m0x004005ad\u001b[0m      \u001b[33m48\u001b[37m83\u001b[37mec\u001b[33m30\u001b[0m       \u001b[33msubq\u001b[36m $\u001b[33m0x30\u001b[0m,\u001b[36m\u001b[36m \u001b[0m%\u001b[36mrsp\u001b[0m\u001b[0m\u001b[0m\n",
      "\u001b[36m│\u001b[0m           \u001b[32m0x004005b1\u001b[0m      \u001b[37m89\u001b[33m7d\u001b[37mdc\u001b[0m         \u001b[37mmovl\u001b[36m \u001b[0m%\u001b[36medi\u001b[0m,\u001b[36m\u001b[36m var_24h\u001b[0m\u001b[0m\u001b[0m          \u001b[34m; argc\u001b[0m\n",
      "\u001b[36m│\u001b[0m           \u001b[32m0x004005b4\u001b[0m      \u001b[33m48\u001b[37m89\u001b[33m75\u001b[37md0\u001b[0m       \u001b[37mmovq\u001b[36m \u001b[0m%\u001b[36mrsi\u001b[0m,\u001b[36m\u001b[36m var_30h\u001b[0m\u001b[0m\u001b[0m          \u001b[34m; argv\u001b[0m\n",
      "\u001b[36m│\u001b[0m           \u001b[32m0x004005b8\u001b[0m      \u001b[33m48\u001b[37mc7\u001b[33m45\u001b[37mf8\u001b[37m82\u001b[37m05\u001b[37m.\u001b[0m  \u001b[37mmovq\u001b[36m $\u001b[36msym.normal\u001b[0m,\u001b[36m\u001b[36m var_8h\u001b[0m\u001b[0m\u001b[31m    ; 0x400582\u001b[0m\n",
      "\u001b[36m│\u001b[0m           \u001b[32m0x004005c0\u001b[0m      \u001b[33m48\u001b[37m8d\u001b[33m45\u001b[37mea\u001b[0m       \u001b[37mleaq\u001b[36m var_16h\u001b[0m,\u001b[36m\u001b[36m \u001b[0m%\u001b[36mrax\u001b[0m\u001b[0m\u001b[0m\n",
      "\u001b[36m│\u001b[0m           \u001b[32m0x004005c4\u001b[0m      \u001b[33m48\u001b[37m89\u001b[37mc7\u001b[0m         \u001b[37mmovq\u001b[36m \u001b[0m%\u001b[36mrax\u001b[0m,\u001b[36m\u001b[36m \u001b[0m%\u001b[36mrdi\u001b[0m\u001b[0m\u001b[0m\n",
      "\u001b[36m│\u001b[0m           \u001b[32m0x004005c7\u001b[0m      \u001b[37mb8\u001b[32m00\u001b[32m00\u001b[32m00\u001b[32m00\u001b[0m     \u001b[37mmovl\u001b[36m $0\u001b[0m,\u001b[36m\u001b[36m \u001b[0m%\u001b[36meax\u001b[0m\u001b[0m\u001b[0m\n",
      "\u001b[36m│\u001b[0m           \u001b[32m0x004005cc\u001b[0m      \u001b[37me8\u001b[37maf\u001b[37mfe\u001b[31mff\u001b[31mff\u001b[0m     \u001b[1;92mcallq sym.imp.gets\u001b[0m\u001b[0m\u001b[31m          ; char *gets(char *s)\u001b[0m\n",
      "\u001b[36m│\u001b[0m           \u001b[32m0x004005d1\u001b[0m      \u001b[33m48\u001b[37m8b\u001b[33m55\u001b[37mf8\u001b[0m       \u001b[37mmovq\u001b[36m var_8h\u001b[0m,\u001b[36m\u001b[36m \u001b[0m%\u001b[36mrdx\u001b[0m\u001b[0m\u001b[0m\n",
      "\u001b[36m│\u001b[0m           \u001b[32m0x004005d5\u001b[0m      \u001b[37mb8\u001b[32m00\u001b[32m00\u001b[32m00\u001b[32m00\u001b[0m     \u001b[37mmovl\u001b[36m $0\u001b[0m,\u001b[36m\u001b[36m \u001b[0m%\u001b[36meax\u001b[0m\u001b[0m\u001b[0m\n",
      "\u001b[36m│\u001b[0m           \u001b[32m0x004005da\u001b[0m      \u001b[31mff\u001b[37md2\u001b[0m           \u001b[32mcallq *%rdx\u001b[0m\u001b[0m\n",
      "\u001b[36m│\u001b[0m           \u001b[32m0x004005dc\u001b[0m      \u001b[37mb8\u001b[32m00\u001b[32m00\u001b[32m00\u001b[32m00\u001b[0m     \u001b[37mmovl\u001b[36m $0\u001b[0m,\u001b[36m\u001b[36m \u001b[0m%\u001b[36meax\u001b[0m\u001b[0m\u001b[0m\n",
      "\u001b[36m│\u001b[0m           \u001b[32m0x004005e1\u001b[0m      \u001b[37mc9\u001b[0m             \u001b[1;95mleave\u001b[0m\u001b[0m\u001b[0m\n",
      "\u001b[36m└\u001b[0m           \u001b[32m0x004005e2\u001b[0m      \u001b[37mc3\u001b[0m             \u001b[31mretq\u001b[0m\u001b[0m\u001b[0m\n",
      "\u001b[33m[0x7f316b6ab090]>\u001b[0m \u001b[?1001r\u001b[?1000l len 3765\n"
     ]
    }
   ],
   "source": [
    "%r pdf @main"
   ]
  },
  {
   "cell_type": "markdown",
   "id": "0ebde03d-aaa6-4b4f-ad5b-242feddaad7e",
   "metadata": {},
   "source": [
    "# R2: Set Break Points:\n"
   ]
  },
  {
   "cell_type": "code",
   "execution_count": 10,
   "id": "7468cb77-649d-408c-a5dc-3c1454cf0862",
   "metadata": {},
   "outputs": [
    {
     "name": "stdout",
     "output_type": "stream",
     "text": [
      "ds\n",
      "\n",
      "\n"
     ]
    },
    {
     "name": "stderr",
     "output_type": "stream",
     "text": [
      "\u001b[?1001r\u001b[?1000l"
     ]
    }
   ],
   "source": [
    "%r ds"
   ]
  },
  {
   "cell_type": "code",
   "execution_count": 143,
   "id": "a6e8b0d8-ecd9-4aff-9ba8-94bf3c18b7a5",
   "metadata": {},
   "outputs": [
    {
     "name": "stdout",
     "output_type": "stream",
     "text": [
      "\u001b[33m[0x7f316b6ab090]>\u001b[0m \u001b[?1001r\u001b[?1000l len 1263\n"
     ]
    }
   ],
   "source": [
    "%r db 0x004005d5"
   ]
  },
  {
   "cell_type": "code",
   "execution_count": 144,
   "id": "d2176aea-36d8-4e20-9736-4ded21a26c0c",
   "metadata": {},
   "outputs": [
    {
     "name": "stdout",
     "output_type": "stream",
     "text": [
      " len 1637f316b6ab090]>\u001b[0m dc\u001b[2K\n"
     ]
    }
   ],
   "source": [
    "%r dc"
   ]
  },
  {
   "cell_type": "markdown",
   "id": "9086c23d-d438-4213-88a0-07bfd873ff2e",
   "metadata": {},
   "source": [
    "# R2 Interact:"
   ]
  },
  {
   "cell_type": "code",
   "execution_count": 146,
   "id": "45ebaf44-2032-4e73-9153-8372345561a2",
   "metadata": {},
   "outputs": [
    {
     "name": "stdout",
     "output_type": "stream",
     "text": [
      "aaaaaa\n",
      "hit breakpoint at: 4005d5\n",
      "\u001b[33m[0x004005d5]>\u001b[0m \u001b[?1001r\u001b[?1000l\n"
     ]
    }
   ],
   "source": [
    "%ri aaaaaa"
   ]
  },
  {
   "cell_type": "code",
   "execution_count": 154,
   "id": "771b4d16-6e55-4ff6-87f0-ea1abfaecd83",
   "metadata": {},
   "outputs": [
    {
     "name": "stdout",
     "output_type": "stream",
     "text": [
      "            \u001b[31m\u001b[31m; DATA XREF from entry0 @ \u001b[31m0x4004ad\u001b[31m\u001b[0m\n",
      "\u001b[36m┌\u001b[0m 58: int \u001b[31mmain\u001b[0m (int argc, char **argv, char **envp);\n",
      "\u001b[36m│\u001b[0m           \u001b[37m; \u001b[37mvar \u001b[34mint64_t var_30h \u001b[36m@ rbp-0x30\u001b[0m\n",
      "\u001b[36m│\u001b[0m           \u001b[37m; \u001b[37mvar \u001b[34mint64_t var_24h \u001b[36m@ rbp-0x24\u001b[0m\n",
      "\u001b[36m│\u001b[0m           \u001b[37m; \u001b[37mvar \u001b[34mint64_t var_16h \u001b[36m@ rbp-0x16\u001b[0m\n",
      "\u001b[36m│\u001b[0m           \u001b[37m; \u001b[37mvar \u001b[34mint64_t var_8h \u001b[36m@ rbp-0x8\u001b[0m\n",
      "\u001b[36m│\u001b[0m           \u001b[37m; \u001b[37marg \u001b[34mint argc \u001b[36m@ rdi\u001b[0m\n",
      "\u001b[36m│\u001b[0m           \u001b[37m; \u001b[37marg \u001b[34mchar **argv \u001b[36m@ rsi\u001b[0m\n",
      "\u001b[36m│\u001b[0m           \u001b[32m0x004005a9\u001b[0m      \u001b[33m55\u001b[0m             \u001b[35mpushq\u001b[36m \u001b[0m%\u001b[36mrbp\u001b[0m\u001b[0m\u001b[0m\n",
      "\u001b[36m│\u001b[0m           \u001b[32m0x004005aa\u001b[0m      \u001b[33m48\u001b[37m89\u001b[37me5\u001b[0m         \u001b[37mmovq\u001b[36m \u001b[0m%\u001b[36mrsp\u001b[0m,\u001b[36m\u001b[36m \u001b[0m%\u001b[36mrbp\u001b[0m\u001b[0m\u001b[0m\n",
      "\u001b[36m│\u001b[0m           \u001b[32m0x004005ad\u001b[0m      \u001b[33m48\u001b[37m83\u001b[37mec\u001b[33m30\u001b[0m       \u001b[33msubq\u001b[36m $\u001b[33m0x30\u001b[0m,\u001b[36m\u001b[36m \u001b[0m%\u001b[36mrsp\u001b[0m\u001b[0m\u001b[0m\n",
      "\u001b[36m│\u001b[0m           \u001b[32m0x004005b1\u001b[0m      \u001b[37m89\u001b[33m7d\u001b[37mdc\u001b[0m         \u001b[37mmovl\u001b[36m \u001b[0m%\u001b[36medi\u001b[0m,\u001b[36m\u001b[36m var_24h\u001b[0m\u001b[0m\u001b[0m          \u001b[34m; argc\u001b[0m\n",
      "\u001b[36m│\u001b[0m           \u001b[32m0x004005b4\u001b[0m      \u001b[33m48\u001b[37m89\u001b[33m75\u001b[37md0\u001b[0m       \u001b[37mmovq\u001b[36m \u001b[0m%\u001b[36mrsi\u001b[0m,\u001b[36m\u001b[36m var_30h\u001b[0m\u001b[0m\u001b[0m          \u001b[34m; argv\u001b[0m\n",
      "\u001b[36m│\u001b[0m           \u001b[32m0x004005b8\u001b[0m      \u001b[33m48\u001b[37mc7\u001b[33m45\u001b[37mf8\u001b[37m82\u001b[37m05\u001b[37m.\u001b[0m  \u001b[37mmovq\u001b[36m $\u001b[36msym.normal\u001b[0m,\u001b[36m\u001b[36m var_8h\u001b[0m\u001b[0m\u001b[31m    ; rdx\n",
      "\u001b[36m│\u001b[0m           \u001b[31m                                                           ; 0x400582\u001b[0m\n",
      "\u001b[36m│\u001b[0m           \u001b[32m0x004005c0\u001b[0m      \u001b[33m48\u001b[37m8d\u001b[33m45\u001b[37mea\u001b[0m       \u001b[37mleaq\u001b[36m var_16h\u001b[0m,\u001b[36m\u001b[36m \u001b[0m%\u001b[36mrax\u001b[0m\u001b[0m\u001b[0m\n",
      "\u001b[36m│\u001b[0m           \u001b[32m0x004005c4\u001b[0m      \u001b[33m48\u001b[37m89\u001b[37mc7\u001b[0m         \u001b[37mmovq\u001b[36m \u001b[0m%\u001b[36mrax\u001b[0m,\u001b[36m\u001b[36m \u001b[0m%\u001b[36mrdi\u001b[0m\u001b[0m\u001b[0m\n",
      "\u001b[36m│\u001b[0m           \u001b[32m0x004005c7\u001b[0m      \u001b[37mb8\u001b[32m00\u001b[32m00\u001b[32m00\u001b[32m00\u001b[0m     \u001b[37mmovl\u001b[36m $0\u001b[0m,\u001b[36m\u001b[36m \u001b[0m%\u001b[36meax\u001b[0m\u001b[0m\u001b[0m\n",
      "\u001b[36m│\u001b[0m           \u001b[32m0x004005cc\u001b[0m      \u001b[37me8\u001b[37maf\u001b[37mfe\u001b[31mff\u001b[31mff\u001b[0m     \u001b[1;92mcallq sym.imp.gets\u001b[0m\u001b[0m\u001b[31m          ; char *gets(char *s)\u001b[0m\n",
      "\u001b[36m│\u001b[0m           \u001b[32m0x004005d1\u001b[0m      \u001b[33m48\u001b[37m8b\u001b[33m55\u001b[37mf8\u001b[0m       \u001b[37mmovq\u001b[36m var_8h\u001b[0m,\u001b[36m\u001b[36m \u001b[0m%\u001b[36mrdx\u001b[0m\u001b[0m\u001b[0m\n",
      "\u001b[36m│\u001b[0m           \u001b[36m;-- rip:\u001b[0m\n",
      "\u001b[36m│\u001b[0m           \u001b[32m\u001b[7m0x004005d5\u001b[0m b    \u001b[37mb8\u001b[32m00\u001b[32m00\u001b[32m00\u001b[32m00\u001b[0m     \u001b[37mmovl\u001b[36m $0\u001b[0m,\u001b[36m\u001b[36m \u001b[0m%\u001b[36meax\u001b[0m\u001b[0m\u001b[0m\n",
      "\u001b[36m│\u001b[0m           \u001b[32m0x004005da\u001b[0m      \u001b[31mff\u001b[37md2\u001b[0m           \u001b[32mcallq *%rdx\u001b[0m\u001b[0m\n",
      "\u001b[36m│\u001b[0m           \u001b[32m0x004005dc\u001b[0m      \u001b[37mb8\u001b[32m00\u001b[32m00\u001b[32m00\u001b[32m00\u001b[0m     \u001b[37mmovl\u001b[36m $0\u001b[0m,\u001b[36m\u001b[36m \u001b[0m%\u001b[36meax\u001b[0m\u001b[0m\u001b[0m\n",
      "\u001b[36m│\u001b[0m           \u001b[32m0x004005e1\u001b[0m      \u001b[37mc9\u001b[0m             \u001b[1;95mleave\u001b[0m\u001b[0m\u001b[0m\n",
      "\u001b[36m└\u001b[0m           \u001b[32m0x004005e2\u001b[0m      \u001b[37mc3\u001b[0m             \u001b[31mretq\u001b[0m\u001b[0m\u001b[0m\n",
      "\u001b[33m[0x004005d5]>\u001b[0m \u001b[?1001r\u001b[?1000l\n"
     ]
    }
   ],
   "source": [
    "%r pdf"
   ]
  },
  {
   "cell_type": "code",
   "execution_count": 157,
   "id": "01134707-e288-47e3-8f4f-a091a3d0cbca",
   "metadata": {},
   "outputs": [
    {
     "name": "stdout",
     "output_type": "stream",
     "text": [
      "\u001b[32m- offset -       0 1  2 3  4 5  6 7  8 9  A B  C D  E F  0123456789ABCDEF\n",
      "\u001b[0m\u001b[32m0x7ffc454060c8\u001b[0m  \u001b[37m82\u001b[0m\u001b[37m05\u001b[0m \u001b[33m40\u001b[0m\u001b[32m00\u001b[0m \u001b[32m00\u001b[0m\u001b[32m00\u001b[0m \u001b[32m00\u001b[0m\u001b[32m00\u001b[0m \u001b[37mf0\u001b[0m\u001b[37m05\u001b[0m \u001b[33m40\u001b[0m\u001b[32m00\u001b[0m \u001b[32m00\u001b[0m\u001b[32m00\u001b[0m \u001b[32m00\u001b[0m\u001b[32m00\u001b[0m  \u001b[37m.\u001b[0m\u001b[37m.\u001b[0m\u001b[33m@\u001b[0m\u001b[32m.\u001b[0m\u001b[32m.\u001b[0m\u001b[32m.\u001b[0m\u001b[32m.\u001b[0m\u001b[32m.\u001b[0m\u001b[37m.\u001b[0m\u001b[37m.\u001b[0m\u001b[33m@\u001b[0m\u001b[32m.\u001b[0m\u001b[32m.\u001b[0m\u001b[32m.\u001b[0m\u001b[32m.\u001b[0m\u001b[32m.\u001b[0m\n",
      "\u001b[32m0x7ffc454060d8\u001b[0m  \u001b[37mca\u001b[0m\u001b[33m2c\u001b[0m \u001b[33m4f\u001b[0m\u001b[33m6b\u001b[0m \u001b[33m31\u001b[0m\u001b[36m7f\u001b[0m \u001b[32m00\u001b[0m\u001b[32m00\u001b[0m \u001b[37mc8\u001b[0m\u001b[33m61\u001b[0m \u001b[33m40\u001b[0m\u001b[33m45\u001b[0m \u001b[37mfc\u001b[0m\u001b[36m7f\u001b[0m \u001b[32m00\u001b[0m\u001b[32m00\u001b[0m  \u001b[37m.\u001b[0m\u001b[33m,\u001b[0m\u001b[33mO\u001b[0m\u001b[33mk\u001b[0m\u001b[33m1\u001b[0m\u001b[36m.\u001b[0m\u001b[32m.\u001b[0m\u001b[32m.\u001b[0m\u001b[37m.\u001b[0m\u001b[33ma\u001b[0m\u001b[33m@\u001b[0m\u001b[33mE\u001b[0m\u001b[37m.\u001b[0m\u001b[36m.\u001b[0m\u001b[32m.\u001b[0m\u001b[32m.\u001b[0m\n",
      "\u001b[32m0x7ffc454060e8\u001b[0m  \u001b[32m00\u001b[0m\u001b[32m00\u001b[0m \u001b[32m00\u001b[0m\u001b[32m00\u001b[0m \u001b[37m01\u001b[0m\u001b[32m00\u001b[0m \u001b[32m00\u001b[0m\u001b[32m00\u001b[0m \u001b[37ma9\u001b[0m\u001b[37m05\u001b[0m \u001b[33m40\u001b[0m\u001b[32m00\u001b[0m \u001b[32m00\u001b[0m\u001b[32m00\u001b[0m \u001b[32m00\u001b[0m\u001b[32m00\u001b[0m  \u001b[32m.\u001b[0m\u001b[32m.\u001b[0m\u001b[32m.\u001b[0m\u001b[32m.\u001b[0m\u001b[37m.\u001b[0m\u001b[32m.\u001b[0m\u001b[32m.\u001b[0m\u001b[32m.\u001b[0m\u001b[37m.\u001b[0m\u001b[37m.\u001b[0m\u001b[33m@\u001b[0m\u001b[32m.\u001b[0m\u001b[32m.\u001b[0m\u001b[32m.\u001b[0m\u001b[32m.\u001b[0m\u001b[32m.\u001b[0m\n",
      "\u001b[32m0x7ffc454060f8\u001b[0m  \u001b[37md9\u001b[0m\u001b[33m27\u001b[0m \u001b[33m4f\u001b[0m\u001b[33m6b\u001b[0m \u001b[33m31\u001b[0m\u001b[36m7f\u001b[0m \u001b[32m00\u001b[0m\u001b[32m00\u001b[0m \u001b[32m00\u001b[0m\u001b[32m00\u001b[0m \u001b[32m00\u001b[0m\u001b[32m00\u001b[0m \u001b[32m00\u001b[0m\u001b[32m00\u001b[0m \u001b[32m00\u001b[0m\u001b[32m00\u001b[0m  \u001b[37m.\u001b[0m\u001b[33m'\u001b[0m\u001b[33mO\u001b[0m\u001b[33mk\u001b[0m\u001b[33m1\u001b[0m\u001b[36m.\u001b[0m\u001b[32m.\u001b[0m\u001b[32m.\u001b[0m\u001b[32m.\u001b[0m\u001b[32m.\u001b[0m\u001b[32m.\u001b[0m\u001b[32m.\u001b[0m\u001b[32m.\u001b[0m\u001b[32m.\u001b[0m\u001b[32m.\u001b[0m\u001b[32m.\u001b[0m\n",
      "\u001b[32m0x7ffc45406108\u001b[0m  \u001b[37m93\u001b[0m\u001b[37m9f\u001b[0m \u001b[33m79\u001b[0m\u001b[33m5c\u001b[0m \u001b[37m99\u001b[0m\u001b[33m3b\u001b[0m \u001b[33m75\u001b[0m\u001b[37mda\u001b[0m \u001b[37m90\u001b[0m\u001b[37m04\u001b[0m \u001b[33m40\u001b[0m\u001b[32m00\u001b[0m \u001b[32m00\u001b[0m\u001b[32m00\u001b[0m \u001b[32m00\u001b[0m\u001b[32m00\u001b[0m  \u001b[37m.\u001b[0m\u001b[37m.\u001b[0m\u001b[33my\u001b[0m\u001b[33m\\\u001b[0m\u001b[37m.\u001b[0m\u001b[33m;\u001b[0m\u001b[33mu\u001b[0m\u001b[37m.\u001b[0m\u001b[37m.\u001b[0m\u001b[37m.\u001b[0m\u001b[33m@\u001b[0m\u001b[32m.\u001b[0m\u001b[32m.\u001b[0m\u001b[32m.\u001b[0m\u001b[32m.\u001b[0m\u001b[32m.\u001b[0m\n",
      "\u001b[32m0x7ffc45406118\u001b[0m  \u001b[32m00\u001b[0m\u001b[32m00\u001b[0m \u001b[32m00\u001b[0m\u001b[32m00\u001b[0m \u001b[32m00\u001b[0m\u001b[32m00\u001b[0m \u001b[32m00\u001b[0m\u001b[32m00\u001b[0m \u001b[32m00\u001b[0m\u001b[32m00\u001b[0m \u001b[32m00\u001b[0m\u001b[32m00\u001b[0m \u001b[32m00\u001b[0m\u001b[32m00\u001b[0m \u001b[32m00\u001b[0m\u001b[32m00\u001b[0m  \u001b[32m.\u001b[0m\u001b[32m.\u001b[0m\u001b[32m.\u001b[0m\u001b[32m.\u001b[0m\u001b[32m.\u001b[0m\u001b[32m.\u001b[0m\u001b[32m.\u001b[0m\u001b[32m.\u001b[0m\u001b[32m.\u001b[0m\u001b[32m.\u001b[0m\u001b[32m.\u001b[0m\u001b[32m.\u001b[0m\u001b[32m.\u001b[0m\u001b[32m.\u001b[0m\u001b[32m.\u001b[0m\u001b[32m.\u001b[0m\n",
      "\u001b[32m0x7ffc45406128\u001b[0m  \u001b[32m00\u001b[0m\u001b[32m00\u001b[0m \u001b[32m00\u001b[0m\u001b[32m00\u001b[0m \u001b[32m00\u001b[0m\u001b[32m00\u001b[0m \u001b[32m00\u001b[0m\u001b[32m00\u001b[0m \u001b[37m93\u001b[0m\u001b[37m9f\u001b[0m \u001b[33m59\u001b[0m\u001b[37m96\u001b[0m \u001b[37m99\u001b[0m\u001b[37mb1\u001b[0m \u001b[37m8d\u001b[0m\u001b[33m25\u001b[0m  \u001b[32m.\u001b[0m\u001b[32m.\u001b[0m\u001b[32m.\u001b[0m\u001b[32m.\u001b[0m\u001b[32m.\u001b[0m\u001b[32m.\u001b[0m\u001b[32m.\u001b[0m\u001b[32m.\u001b[0m\u001b[37m.\u001b[0m\u001b[37m.\u001b[0m\u001b[33mY\u001b[0m\u001b[37m.\u001b[0m\u001b[37m.\u001b[0m\u001b[37m.\u001b[0m\u001b[37m.\u001b[0m\u001b[33m%\u001b[0m\n",
      "\u001b[32m0x7ffc45406138\u001b[0m  \u001b[37m93\u001b[0m\u001b[37m9f\u001b[0m \u001b[37m9f\u001b[0m\u001b[37m0e\u001b[0m \u001b[37m87\u001b[0m\u001b[37med\u001b[0m \u001b[37m17\u001b[0m\u001b[33m24\u001b[0m \u001b[32m00\u001b[0m\u001b[32m00\u001b[0m \u001b[32m00\u001b[0m\u001b[32m00\u001b[0m \u001b[32m00\u001b[0m\u001b[32m00\u001b[0m \u001b[32m00\u001b[0m\u001b[32m00\u001b[0m  \u001b[37m.\u001b[0m\u001b[37m.\u001b[0m\u001b[37m.\u001b[0m\u001b[37m.\u001b[0m\u001b[37m.\u001b[0m\u001b[37m.\u001b[0m\u001b[37m.\u001b[0m\u001b[33m$\u001b[0m\u001b[32m.\u001b[0m\u001b[32m.\u001b[0m\u001b[32m.\u001b[0m\u001b[32m.\u001b[0m\u001b[32m.\u001b[0m\u001b[32m.\u001b[0m\u001b[32m.\u001b[0m\u001b[32m.\u001b[0m\n",
      "\u001b[32m0x7ffc45406148\u001b[0m  \u001b[32m00\u001b[0m\u001b[32m00\u001b[0m \u001b[32m00\u001b[0m\u001b[32m00\u001b[0m \u001b[32m00\u001b[0m\u001b[32m00\u001b[0m \u001b[32m00\u001b[0m\u001b[32m00\u001b[0m \u001b[32m00\u001b[0m\u001b[32m00\u001b[0m \u001b[32m00\u001b[0m\u001b[32m00\u001b[0m \u001b[32m00\u001b[0m\u001b[32m00\u001b[0m \u001b[32m00\u001b[0m\u001b[32m00\u001b[0m  \u001b[32m.\u001b[0m\u001b[32m.\u001b[0m\u001b[32m.\u001b[0m\u001b[32m.\u001b[0m\u001b[32m.\u001b[0m\u001b[32m.\u001b[0m\u001b[32m.\u001b[0m\u001b[32m.\u001b[0m\u001b[32m.\u001b[0m\u001b[32m.\u001b[0m\u001b[32m.\u001b[0m\u001b[32m.\u001b[0m\u001b[32m.\u001b[0m\u001b[32m.\u001b[0m\u001b[32m.\u001b[0m\u001b[32m.\u001b[0m\n",
      "\u001b[32m0x7ffc45406158\u001b[0m  \u001b[37m01\u001b[0m\u001b[32m00\u001b[0m \u001b[32m00\u001b[0m\u001b[32m00\u001b[0m \u001b[32m00\u001b[0m\u001b[32m00\u001b[0m \u001b[32m00\u001b[0m\u001b[32m00\u001b[0m \u001b[37mc8\u001b[0m\u001b[33m61\u001b[0m \u001b[33m40\u001b[0m\u001b[33m45\u001b[0m \u001b[37mfc\u001b[0m\u001b[36m7f\u001b[0m \u001b[32m00\u001b[0m\u001b[32m00\u001b[0m  \u001b[37m.\u001b[0m\u001b[32m.\u001b[0m\u001b[32m.\u001b[0m\u001b[32m.\u001b[0m\u001b[32m.\u001b[0m\u001b[32m.\u001b[0m\u001b[32m.\u001b[0m\u001b[32m.\u001b[0m\u001b[37m.\u001b[0m\u001b[33ma\u001b[0m\u001b[33m@\u001b[0m\u001b[33mE\u001b[0m\u001b[37m.\u001b[0m\u001b[36m.\u001b[0m\u001b[32m.\u001b[0m\u001b[32m.\u001b[0m\n",
      "\u001b[32m0x7ffc45406168\u001b[0m  \u001b[37md8\u001b[0m\u001b[33m61\u001b[0m \u001b[33m40\u001b[0m\u001b[33m45\u001b[0m \u001b[37mfc\u001b[0m\u001b[36m7f\u001b[0m \u001b[32m00\u001b[0m\u001b[32m00\u001b[0m \u001b[37m80\u001b[0m\u001b[33m61\u001b[0m \u001b[33m6d\u001b[0m\u001b[33m6b\u001b[0m \u001b[33m31\u001b[0m\u001b[36m7f\u001b[0m \u001b[32m00\u001b[0m\u001b[32m00\u001b[0m  \u001b[37m.\u001b[0m\u001b[33ma\u001b[0m\u001b[33m@\u001b[0m\u001b[33mE\u001b[0m\u001b[37m.\u001b[0m\u001b[36m.\u001b[0m\u001b[32m.\u001b[0m\u001b[32m.\u001b[0m\u001b[37m.\u001b[0m\u001b[33ma\u001b[0m\u001b[33mm\u001b[0m\u001b[33mk\u001b[0m\u001b[33m1\u001b[0m\u001b[36m.\u001b[0m\u001b[32m.\u001b[0m\u001b[32m.\u001b[0m\n",
      "\u001b[32m0x7ffc45406178\u001b[0m  \u001b[32m00\u001b[0m\u001b[32m00\u001b[0m \u001b[32m00\u001b[0m\u001b[32m00\u001b[0m \u001b[32m00\u001b[0m\u001b[32m00\u001b[0m \u001b[32m00\u001b[0m\u001b[32m00\u001b[0m \u001b[32m00\u001b[0m\u001b[32m00\u001b[0m \u001b[32m00\u001b[0m\u001b[32m00\u001b[0m \u001b[32m00\u001b[0m\u001b[32m00\u001b[0m \u001b[32m00\u001b[0m\u001b[32m00\u001b[0m  \u001b[32m.\u001b[0m\u001b[32m.\u001b[0m\u001b[32m.\u001b[0m\u001b[32m.\u001b[0m\u001b[32m.\u001b[0m\u001b[32m.\u001b[0m\u001b[32m.\u001b[0m\u001b[32m.\u001b[0m\u001b[32m.\u001b[0m\u001b[32m.\u001b[0m\u001b[32m.\u001b[0m\u001b[32m.\u001b[0m\u001b[32m.\u001b[0m\u001b[32m.\u001b[0m\u001b[32m.\u001b[0m\u001b[32m.\u001b[0m\n",
      "\u001b[32m0x7ffc45406188\u001b[0m  \u001b[37m90\u001b[0m\u001b[37m04\u001b[0m \u001b[33m40\u001b[0m\u001b[32m00\u001b[0m \u001b[32m00\u001b[0m\u001b[32m00\u001b[0m \u001b[32m00\u001b[0m\u001b[32m00\u001b[0m \u001b[37mc0\u001b[0m\u001b[33m61\u001b[0m \u001b[33m40\u001b[0m\u001b[33m45\u001b[0m \u001b[37mfc\u001b[0m\u001b[36m7f\u001b[0m \u001b[32m00\u001b[0m\u001b[32m00\u001b[0m  \u001b[37m.\u001b[0m\u001b[37m.\u001b[0m\u001b[33m@\u001b[0m\u001b[32m.\u001b[0m\u001b[32m.\u001b[0m\u001b[32m.\u001b[0m\u001b[32m.\u001b[0m\u001b[32m.\u001b[0m\u001b[37m.\u001b[0m\u001b[33ma\u001b[0m\u001b[33m@\u001b[0m\u001b[33mE\u001b[0m\u001b[37m.\u001b[0m\u001b[36m.\u001b[0m\u001b[32m.\u001b[0m\u001b[32m.\u001b[0m\n",
      "\u001b[32m0x7ffc45406198\u001b[0m  \u001b[32m00\u001b[0m\u001b[32m00\u001b[0m \u001b[32m00\u001b[0m\u001b[32m00\u001b[0m \u001b[32m00\u001b[0m\u001b[32m00\u001b[0m \u001b[32m00\u001b[0m\u001b[32m00\u001b[0m \u001b[32m00\u001b[0m\u001b[32m00\u001b[0m \u001b[32m00\u001b[0m\u001b[32m00\u001b[0m \u001b[32m00\u001b[0m\u001b[32m00\u001b[0m \u001b[32m00\u001b[0m\u001b[32m00\u001b[0m  \u001b[32m.\u001b[0m\u001b[32m.\u001b[0m\u001b[32m.\u001b[0m\u001b[32m.\u001b[0m\u001b[32m.\u001b[0m\u001b[32m.\u001b[0m\u001b[32m.\u001b[0m\u001b[32m.\u001b[0m\u001b[32m.\u001b[0m\u001b[32m.\u001b[0m\u001b[32m.\u001b[0m\u001b[32m.\u001b[0m\u001b[32m.\u001b[0m\u001b[32m.\u001b[0m\u001b[32m.\u001b[0m\u001b[32m.\u001b[0m\n",
      "\u001b[32m0x7ffc454061a8\u001b[0m  \u001b[37mba\u001b[0m\u001b[37m04\u001b[0m \u001b[33m40\u001b[0m\u001b[32m00\u001b[0m \u001b[32m00\u001b[0m\u001b[32m00\u001b[0m \u001b[32m00\u001b[0m\u001b[32m00\u001b[0m \u001b[37mb8\u001b[0m\u001b[33m61\u001b[0m \u001b[33m40\u001b[0m\u001b[33m45\u001b[0m \u001b[37mfc\u001b[0m\u001b[36m7f\u001b[0m \u001b[32m00\u001b[0m\u001b[32m00\u001b[0m  \u001b[37m.\u001b[0m\u001b[37m.\u001b[0m\u001b[33m@\u001b[0m\u001b[32m.\u001b[0m\u001b[32m.\u001b[0m\u001b[32m.\u001b[0m\u001b[32m.\u001b[0m\u001b[32m.\u001b[0m\u001b[37m.\u001b[0m\u001b[33ma\u001b[0m\u001b[33m@\u001b[0m\u001b[33mE\u001b[0m\u001b[37m.\u001b[0m\u001b[36m.\u001b[0m\u001b[32m.\u001b[0m\u001b[32m.\u001b[0m\n",
      "\u001b[32m0x7ffc454061b8\u001b[0m  \u001b[37m1c\u001b[0m\u001b[32m00\u001b[0m \u001b[32m00\u001b[0m\u001b[32m00\u001b[0m \u001b[32m00\u001b[0m\u001b[32m00\u001b[0m \u001b[32m00\u001b[0m\u001b[32m00\u001b[0m \u001b[37m01\u001b[0m\u001b[32m00\u001b[0m \u001b[32m00\u001b[0m\u001b[32m00\u001b[0m \u001b[32m00\u001b[0m\u001b[32m00\u001b[0m \u001b[32m00\u001b[0m\u001b[32m00\u001b[0m  \u001b[37m.\u001b[0m\u001b[32m.\u001b[0m\u001b[32m.\u001b[0m\u001b[32m.\u001b[0m\u001b[32m.\u001b[0m\u001b[32m.\u001b[0m\u001b[32m.\u001b[0m\u001b[32m.\u001b[0m\u001b[37m.\u001b[0m\u001b[32m.\u001b[0m\u001b[32m.\u001b[0m\u001b[32m.\u001b[0m\u001b[32m.\u001b[0m\u001b[32m.\u001b[0m\u001b[32m.\u001b[0m\u001b[32m.\u001b[0m\n",
      "\u001b[33m[0x004005d5]>\u001b[0m \u001b[?1001r\u001b[?1000l\n"
     ]
    }
   ],
   "source": [
    "%r px @ rbp-0x8"
   ]
  },
  {
   "cell_type": "code",
   "execution_count": null,
   "id": "8c4d6569-e7eb-4351-8b15-077522970c6f",
   "metadata": {},
   "outputs": [],
   "source": [
    "%r pdf @sym.normal"
   ]
  },
  {
   "cell_type": "markdown",
   "id": "f3023222-2118-4205-86f8-afcc105ce332",
   "metadata": {
    "tags": []
   },
   "source": [
    "# Other Notes:"
   ]
  },
  {
   "cell_type": "raw",
   "id": "a873794a-6d25-4d69-8569-c9602d010a07",
   "metadata": {},
   "source": [
    "%rsp is the stack pointer \n",
    "%rbp is a frame pointer\n",
    "\n",
    "movq $3 rax      would move the constant 3 to the register\n",
    "movq %rax %rbx   which involves moving value from rax to rbx\n",
    "movq %rax (%rbx) which means move value stored in %rax to memory location represented by %rbx"
   ]
  },
  {
   "cell_type": "raw",
   "id": "7ba49c37-0fda-45da-9f05-e01828f00828",
   "metadata": {},
   "source": [
    "(Rb, Ri) = MemoryLocation[Rb + Ri]\n",
    "D(Rb, Ri) = MemoryLocation[Rb + Ri + D]\n",
    "(Rb, Ri, S) = MemoryLocation(Rb + S * Ri]\n",
    "D(Rb, Ri, S) = MemoryLocation[Rb + S * Ri + D]"
   ]
  },
  {
   "cell_type": "raw",
   "id": "85e2f95d-22ca-4663-bee1-9003bf7460ee",
   "metadata": {},
   "source": [
    "leaq source, destination: this instruction sets destination to the address denoted by the expression in source\n",
    "addq source, destination: destination = destination + source\n",
    "subq source, destination: destination = destination - source\n",
    "imulq source, destination: destination = destination * source\n",
    "salq source, destination: destination = destination << sourc where << is the left bit shifting operator\n",
    "sarq source, destination: destination = destination >> source where >> is the right bit shifting operator\n",
    "xorq source, destination: destination = destination XOR source\n",
    "andq source, destination: destination = destination & source\n",
    "orq source, destination: destination = destination | source"
   ]
  }
 ],
 "metadata": {
  "kernelspec": {
   "display_name": "Python 3 (ipykernel)",
   "language": "python",
   "name": "python3"
  },
  "language_info": {
   "codemirror_mode": {
    "name": "ipython",
    "version": 3
   },
   "file_extension": ".py",
   "mimetype": "text/x-python",
   "name": "python",
   "nbconvert_exporter": "python",
   "pygments_lexer": "ipython3",
   "version": "3.9.5"
  }
 },
 "nbformat": 4,
 "nbformat_minor": 5
}
