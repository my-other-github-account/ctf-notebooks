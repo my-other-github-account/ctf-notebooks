{
 "cells": [
  {
   "cell_type": "markdown",
   "id": "b16b8f81-0421-4ac7-830b-d43cf35f5f03",
   "metadata": {},
   "source": [
    "# R2 Overview:"
   ]
  },
  {
   "cell_type": "markdown",
   "id": "caa380e4-bfe7-46db-a9d4-1964f3fdaf44",
   "metadata": {},
   "source": [
    "Remember to do:\n",
    "\n",
    "Setup\n",
    "\n",
    "List functions, then print code for one"
   ]
  },
  {
   "cell_type": "code",
   "execution_count": 199,
   "id": "aaa51e0d-153f-4580-8af0-455ae59fd39d",
   "metadata": {},
   "outputs": [],
   "source": [
    "# Hard to do this without ASLR disabled:\n",
    "# echo 0 | sudo tee /proc/sys/kernel/randomize_va_space\n",
    "# /etc/sysctl.d/01-disable-aslr.conf"
   ]
  },
  {
   "cell_type": "code",
   "execution_count": 326,
   "id": "5c616a6c-7ebd-4b8b-842f-cf105e13d4e3",
   "metadata": {},
   "outputs": [
    {
     "name": "stdout",
     "output_type": "stream",
     "text": [
      "overflow-3/buffer-overflow AAAAAAAAAAAAAAAAAAAAAAAAAAAAAAAAAAAAAAAAAAAAAAAAAAAAAAAAAAAAAAAAAAAAAAAAAAAAAAAAAAAAAAAAAAAAAAAAAAAAAAAAAAAAAAAAAAAAAAAAAAAAAAAAAAAAAAAAAAAAAAAAAAAAAAAA\u0005\n"
     ]
    }
   ],
   "source": [
    "prog_name = \"chatserver.exe\"\n",
    "ssh = False\n",
    "\n",
    "print(prog_name)"
   ]
  },
  {
   "cell_type": "code",
   "execution_count": 327,
   "id": "08440346-e588-45d2-9ec8-fef8c8f42a93",
   "metadata": {},
   "outputs": [],
   "source": [
    "import pexpect\n",
    "import sys\n",
    "import time\n",
    "\n",
    "from IPython.core.magic import (register_line_magic, register_cell_magic,\n",
    "                                register_line_cell_magic)\n",
    "\n",
    "\n",
    "ip_addr = '10.10.214.213'\n",
    "command = 'r2 -d ' + prog_name\n",
    "if ssh:\n",
    "    rp = pexpect.spawnu('ssh user1@%s' % ip_addr, encoding='utf-8')\n",
    "else:\n",
    "    rp = pexpect.spawnu('command, encoding='utf-8')\n",
    "\n",
    "@register_line_magic\n",
    "def r(line):\n",
    "    print(line)\n",
    "    rp.sendline(line)\n",
    "    time.sleep(.5)\n",
    "    end = \"\"\n",
    "    while not \"]>\" in end:\n",
    "        read = rp.read_nonblocking(100000)\n",
    "        print(read)\n",
    "        end = read[-50:]\n",
    "\n",
    "@register_line_magic\n",
    "def ro(line):\n",
    "    print(rp.read_nonblocking(100000))\n",
    "\n",
    "@register_line_magic\n",
    "def ri(line):\n",
    "    rp.sendline(line)\n",
    "    time.sleep(.5)\n",
    "    print(rp.read_nonblocking(100000))"
   ]
  },
  {
   "cell_type": "code",
   "execution_count": 328,
   "id": "64676348-71ef-483f-949e-98f5b7183a7a",
   "metadata": {},
   "outputs": [
    {
     "name": "stdout",
     "output_type": "stream",
     "text": [
      "user1@10.10.214.213's password: \n",
      "Last login: Tue Sep 28 06:47:49 2021 from ip-10-10-156-248.eu-west-1.compute.internal\n",
      "\n",
      "       __|  __|_  )\n",
      "       _|  (     /   Amazon Linux 2 AMI\n",
      "      ___|\\___|___|\n",
      "\n",
      "https://aws.amazon.com/amazon-linux-2/\n",
      "\u001b]0;user1@ip-10-10-214-213:~\u0007[user1@ip-10-10-214-213 ~]$ \n"
     ]
    }
   ],
   "source": [
    "if ssh:\n",
    "    %ri user1password"
   ]
  },
  {
   "cell_type": "code",
   "execution_count": 329,
   "id": "fa610fa1-7f5b-47c1-b4aa-ce69ac326288",
   "metadata": {},
   "outputs": [
    {
     "name": "stdout",
     "output_type": "stream",
     "text": [
      "AAAAAAAAAAAAAAAAAAAAAAAAAAAAAAAAAAAAAAAAAAAAAAAAAAAAAAAAAAAAAAAAAAAAAAAAAAAAAAA \n",
      "Process with PID 5333 started...\n",
      "= attach 5333 5333\n",
      "bin.baddr 0x00400000\n",
      "Using 0x400000\n",
      "asm.bits 64\n",
      " -- You can mark an offset in visual mode with the cursor and the ',' key. Later press '.' to go back\n",
      "\u001b[33m[0x7ffff7dd8ef0]>\u001b[0m \u001b[?1001r\u001b[?1000l\n"
     ]
    }
   ],
   "source": [
    "if ssh:\n",
    "    %ri {command}"
   ]
  },
  {
   "cell_type": "code",
   "execution_count": 330,
   "id": "ca9c02b5-b367-4a25-8c4d-6526a6eba610",
   "metadata": {},
   "outputs": [
    {
     "name": "stdout",
     "output_type": "stream",
     "text": [
      "aa;e asm.syntax=att; afl;\n",
      "[\u001b[0mCannot analyze at 0x00600ff0ng with sym. and entry0 (aa)\n",
      "Invalid address from 0x004005e9\n",
      "\u001b[32m[x]\u001b[0m Analyze all flags starting with sym. and entry0 (aa)\n",
      "0x00400450    1 42           entry0\n",
      "0x00400480    4 42   -> 37   sym.deregister_tm_clones\n",
      "0x004004b0    4 58   -> 55   sym.register_tm_clones\n",
      "0x004004f0    3 34   -> 29   entry.fini0\n",
      "0x00400520    1 7            entry.init0\n",
      "0x00400610    1 2            sym.__libc_csu_fini\n",
      "0x00400527    1 61           sym.copy_arg\n",
      "0x00400430    1 6            sym.imp.strcpy\n",
      "0x00400440    1 6            sym.imp.puts\n",
      "0x00400614    1 9            sym._fini\n",
      "0x004005a0    3 101  -> 92   sym.__libc_csu_init\n",
      "0x00400400    3 23           sym._init\n",
      "0x00400564    1 51           main\n",
      "\u001b[33m[0x7ffff7dd8ef0]>\u001b[0m \u001b[?1001r\u001b[?1000l\n"
     ]
    }
   ],
   "source": [
    "%r aa;e asm.syntax=att; afl;"
   ]
  },
  {
   "cell_type": "code",
   "execution_count": 331,
   "id": "d4925339-2c39-4f04-b63c-1261c8d8050e",
   "metadata": {},
   "outputs": [
    {
     "name": "stdout",
     "output_type": "stream",
     "text": [
      "pdf @main\n",
      "\u001b[36m┌\u001b[0m 51: int \u001b[31mmain\u001b[0m (int argc, char **argv, char **envp);\n",
      "\u001b[36m│\u001b[0m           \u001b[37m; \u001b[37mvar \u001b[34mint64_t var_10h \u001b[36m@ rbp-0x10\u001b[0m\n",
      "\u001b[36m│\u001b[0m           \u001b[37m; \u001b[37mvar \u001b[34mint64_t var_4h \u001b[36m@ rbp-0x4\u001b[0m\n",
      "\u001b[36m│\u001b[0m           \u001b[37m; \u001b[37marg \u001b[34mint argc \u001b[36m@ rdi\u001b[0m\n",
      "\u001b[36m│\u001b[0m           \u001b[37m; \u001b[37marg \u001b[34mchar **argv \u001b[36m@ rsi\u001b[0m\n",
      "\u001b[36m│\u001b[0m           \u001b[31m\u001b[31m; DATA XREF from entry0 @ \u001b[31m0x40046d\u001b[31m\u001b[0m\n",
      "\u001b[36m│\u001b[0m           \u001b[32m0x00400564\u001b[0m      \u001b[33m55\u001b[0m             \u001b[35mpushq\u001b[36m \u001b[0m%\u001b[36mrbp\u001b[0m\u001b[0m\u001b[0m\n",
      "\u001b[36m│\u001b[0m           \u001b[32m0x00400565\u001b[0m      \u001b[33m48\u001b[37m89\u001b[37me5\u001b[0m         \u001b[37mmovq\u001b[36m \u001b[0m%\u001b[36mrsp\u001b[0m,\u001b[36m\u001b[36m \u001b[0m%\u001b[36mrbp\u001b[0m\u001b[0m\u001b[0m\n",
      "\u001b[36m│\u001b[0m           \u001b[32m0x00400568\u001b[0m      \u001b[33m48\u001b[37m83\u001b[37mec\u001b[37m10\u001b[0m       \u001b[33msubq\u001b[36m $\u001b[33m0x10\u001b[0m,\u001b[36m\u001b[36m \u001b[0m%\u001b[36mrsp\u001b[0m\u001b[0m\u001b[0m\n",
      "\u001b[36m│\u001b[0m           \u001b[32m0x0040056c\u001b[0m      \u001b[37m89\u001b[33m7d\u001b[37mfc\u001b[0m         \u001b[37mmovl\u001b[36m \u001b[0m%\u001b[36medi\u001b[0m,\u001b[36m\u001b[36m var_4h\u001b[0m\u001b[0m\u001b[0m           \u001b[34m; argc\u001b[0m\n",
      "\u001b[36m│\u001b[0m           \u001b[32m0x0040056f\u001b[0m      \u001b[33m48\u001b[37m89\u001b[33m75\u001b[37mf0\u001b[0m       \u001b[37mmovq\u001b[36m \u001b[0m%\u001b[36mrsi\u001b[0m,\u001b[36m\u001b[36m var_10h\u001b[0m\u001b[0m\u001b[0m          \u001b[34m; argv\u001b[0m\n",
      "\u001b[36m│\u001b[0m           \u001b[32m0x00400573\u001b[0m      \u001b[37mbf\u001b[33m30\u001b[37m06\u001b[33m40\u001b[32m00\u001b[0m     \u001b[37mmovl\u001b[36m $\u001b[36mstr.Here_s_a_program_that_echo_s_out_your_input\u001b[0m,\u001b[36m\u001b[36m \u001b[0m%\u001b[36medi\u001b[0m\u001b[0m\u001b[31m ; 0x400630\u001b[31m ; \"Here's a program that echo's out your input\"\u001b[0m\n",
      "\u001b[36m│\u001b[0m           \u001b[32m0x00400578\u001b[0m      \u001b[37me8\u001b[37mc3\u001b[37mfe\u001b[31mff\u001b[31mff\u001b[0m     \u001b[1;92mcallq sym.imp.puts\u001b[0m\u001b[0m\u001b[31m          ; int puts(const char *s)\u001b[0m\n",
      "\u001b[36m│\u001b[0m           \u001b[32m0x0040057d\u001b[0m      \u001b[33m48\u001b[37m8b\u001b[33m45\u001b[37mf0\u001b[0m       \u001b[37mmovq\u001b[36m var_10h\u001b[0m,\u001b[36m\u001b[36m \u001b[0m%\u001b[36mrax\u001b[0m\u001b[0m\u001b[0m\n",
      "\u001b[36m│\u001b[0m           \u001b[32m0x00400581\u001b[0m      \u001b[33m48\u001b[37m83\u001b[37mc0\u001b[37m08\u001b[0m       \u001b[33maddq\u001b[36m $8\u001b[0m,\u001b[36m\u001b[36m \u001b[0m%\u001b[36mrax\u001b[0m\u001b[0m\u001b[0m\n",
      "\u001b[36m│\u001b[0m           \u001b[32m0x00400585\u001b[0m      \u001b[33m48\u001b[37m8b\u001b[32m00\u001b[0m         \u001b[37mmovq\u001b[36m \u001b[36m0\u001b[0m(\u001b[36m\u001b[0m%\u001b[36mrax\u001b[0m)\u001b[36m\u001b[0m,\u001b[36m\u001b[36m \u001b[0m%\u001b[36mrax\u001b[0m\u001b[0m\u001b[0m\n",
      "\u001b[36m│\u001b[0m           \u001b[32m0x00400588\u001b[0m      \u001b[33m48\u001b[37m89\u001b[37mc7\u001b[0m         \u001b[37mmovq\u001b[36m \u001b[0m%\u001b[36mrax\u001b[0m,\u001b[36m\u001b[36m \u001b[0m%\u001b[36mrdi\u001b[0m\u001b[0m\u001b[0m\n",
      "\u001b[36m│\u001b[0m           \u001b[32m0x0040058b\u001b[0m      \u001b[37me8\u001b[37m97\u001b[31mff\u001b[31mff\u001b[31mff\u001b[0m     \u001b[1;92mcallq sym.copy_arg\u001b[0m\u001b[0m\n",
      "\u001b[36m│\u001b[0m           \u001b[32m0x00400590\u001b[0m      \u001b[37mb8\u001b[32m00\u001b[32m00\u001b[32m00\u001b[32m00\u001b[0m     \u001b[37mmovl\u001b[36m $0\u001b[0m,\u001b[36m\u001b[36m \u001b[0m%\u001b[36meax\u001b[0m\u001b[0m\u001b[0m\n",
      "\u001b[36m│\u001b[0m           \u001b[32m0x00400595\u001b[0m      \u001b[37mc9\u001b[0m             \u001b[1;95mleave\u001b[0m\u001b[0m\u001b[0m\n",
      "\u001b[36m└\u001b[0m           \u001b[32m0x00400596\u001b[0m      \u001b[37mc3\u001b[0m             \u001b[31mretq\u001b[0m\u001b[0m\u001b[0m\n",
      "\u001b[33m[0x7ffff7dd8ef0]>\u001b[0m \u001b[?1001r\u001b[?1000l\n"
     ]
    }
   ],
   "source": [
    "%r pdf @main"
   ]
  },
  {
   "cell_type": "code",
   "execution_count": 332,
   "id": "3fe0bd34-5307-44a5-8648-d6a81828d2f5",
   "metadata": {},
   "outputs": [
    {
     "name": "stdout",
     "output_type": "stream",
     "text": [
      "pdf @sym.copy_arg\n",
      "\u001b[36m┌\u001b[0m 61: \u001b[31msym.copy_arg\u001b[0m (int64_t arg1);\n",
      "\u001b[36m│\u001b[0m           \u001b[37m; \u001b[37mvar \u001b[34mint64_t var_98h \u001b[36m@ rbp-0x98\u001b[0m\n",
      "\u001b[36m│\u001b[0m           \u001b[37m; \u001b[37mvar \u001b[34mint64_t var_90h \u001b[36m@ rbp-0x90\u001b[0m\n",
      "\u001b[36m│\u001b[0m           \u001b[37m; \u001b[37marg \u001b[34mint64_t arg1 \u001b[36m@ rdi\u001b[0m\n",
      "\u001b[36m│\u001b[0m           \u001b[31m\u001b[31m; CALL XREF from main @ \u001b[31m0x40058b\u001b[31m\u001b[0m\n",
      "\u001b[36m│\u001b[0m           \u001b[32m0x00400527\u001b[0m      \u001b[33m55\u001b[0m             \u001b[35mpushq\u001b[36m \u001b[0m%\u001b[36mrbp\u001b[0m\u001b[0m\u001b[0m\n",
      "\u001b[36m│\u001b[0m           \u001b[32m0x00400528\u001b[0m      \u001b[33m48\u001b[37m89\u001b[37me5\u001b[0m         \u001b[37mmovq\u001b[36m \u001b[0m%\u001b[36mrsp\u001b[0m,\u001b[36m\u001b[36m \u001b[0m%\u001b[36mrbp\u001b[0m\u001b[0m\u001b[0m\n",
      "\u001b[36m│\u001b[0m           \u001b[32m0x0040052b\u001b[0m      \u001b[33m48\u001b[37m81\u001b[37mec\u001b[37ma0\u001b[32m00\u001b[32m00\u001b[37m.\u001b[0m  \u001b[33msubq\u001b[36m $\u001b[33m0xa0\u001b[0m,\u001b[36m\u001b[36m \u001b[0m%\u001b[36mrsp\u001b[0m\u001b[0m\u001b[0m\n",
      "\u001b[36m│\u001b[0m           \u001b[32m0x00400532\u001b[0m      \u001b[33m48\u001b[37m89\u001b[37mbd\u001b[33m68\u001b[31mff\u001b[31mff\u001b[37m.\u001b[0m  \u001b[37mmovq\u001b[36m \u001b[0m%\u001b[36mrdi\u001b[0m,\u001b[36m\u001b[36m var_98h\u001b[0m\u001b[0m\u001b[0m          \u001b[34m; arg1\u001b[0m\n",
      "\u001b[36m│\u001b[0m           \u001b[32m0x00400539\u001b[0m      \u001b[33m48\u001b[37m8b\u001b[37m95\u001b[33m68\u001b[31mff\u001b[31mff\u001b[37m.\u001b[0m  \u001b[37mmovq\u001b[36m var_98h\u001b[0m,\u001b[36m\u001b[36m \u001b[0m%\u001b[36mrdx\u001b[0m\u001b[0m\u001b[0m\n",
      "\u001b[36m│\u001b[0m           \u001b[32m0x00400540\u001b[0m      \u001b[33m48\u001b[37m8d\u001b[37m85\u001b[33m70\u001b[31mff\u001b[31mff\u001b[37m.\u001b[0m  \u001b[37mleaq\u001b[36m var_90h\u001b[0m,\u001b[36m\u001b[36m \u001b[0m%\u001b[36mrax\u001b[0m\u001b[0m\u001b[0m\n",
      "\u001b[36m│\u001b[0m           \u001b[32m0x00400547\u001b[0m      \u001b[33m48\u001b[37m89\u001b[37md6\u001b[0m         \u001b[37mmovq\u001b[36m \u001b[0m%\u001b[36mrdx\u001b[0m,\u001b[36m\u001b[36m \u001b[0m%\u001b[36mrsi\u001b[0m\u001b[0m\u001b[0m\n",
      "\u001b[36m│\u001b[0m           \u001b[32m0x0040054a\u001b[0m      \u001b[33m48\u001b[37m89\u001b[37mc7\u001b[0m         \u001b[37mmovq\u001b[36m \u001b[0m%\u001b[36mrax\u001b[0m,\u001b[36m\u001b[36m \u001b[0m%\u001b[36mrdi\u001b[0m\u001b[0m\u001b[0m\n",
      "\u001b[36m│\u001b[0m           \u001b[32m0x0040054d\u001b[0m      \u001b[37me8\u001b[37mde\u001b[37mfe\u001b[31mff\u001b[31mff\u001b[0m     \u001b[1;92mcallq sym.imp.strcpy\u001b[0m\u001b[0m\u001b[31m        ; char *strcpy(char *dest, const char *src)\u001b[0m\n",
      "\u001b[36m│\u001b[0m           \u001b[32m0x00400552\u001b[0m      \u001b[33m48\u001b[37m8d\u001b[37m85\u001b[33m70\u001b[31mff\u001b[31mff\u001b[37m.\u001b[0m  \u001b[37mleaq\u001b[36m var_90h\u001b[0m,\u001b[36m\u001b[36m \u001b[0m%\u001b[36mrax\u001b[0m\u001b[0m\u001b[0m\n",
      "\u001b[36m│\u001b[0m           \u001b[32m0x00400559\u001b[0m      \u001b[33m48\u001b[37m89\u001b[37mc7\u001b[0m         \u001b[37mmovq\u001b[36m \u001b[0m%\u001b[36mrax\u001b[0m,\u001b[36m\u001b[36m \u001b[0m%\u001b[36mrdi\u001b[0m\u001b[0m\u001b[0m\n",
      "\u001b[36m│\u001b[0m           \u001b[32m0x0040055c\u001b[0m      \u001b[37me8\u001b[37mdf\u001b[37mfe\u001b[31mff\u001b[31mff\u001b[0m     \u001b[1;92mcallq sym.imp.puts\u001b[0m\u001b[0m\u001b[31m          ; int puts(const char *s)\u001b[0m\n",
      "\u001b[36m│\u001b[0m           \u001b[32m0x00400561\u001b[0m      \u001b[37m90\u001b[0m             \u001b[34mnop\u001b[0m\u001b[0m\u001b[0m\n",
      "\u001b[36m│\u001b[0m           \u001b[32m0x00400562\u001b[0m      \u001b[37mc9\u001b[0m             \u001b[1;95mleave\u001b[0m\u001b[0m\u001b[0m\n",
      "\u001b[36m└\u001b[0m           \u001b[32m0x00400563\u001b[0m      \u001b[37mc3\u001b[0m             \u001b[31mretq\u001b[0m\u001b[0m\u001b[0m\n",
      "\u001b[33m[0x7ffff7dd8ef0]>\u001b[0m \u001b[?1001r\u001b[?1000l\n"
     ]
    }
   ],
   "source": [
    "%r pdf @sym.copy_arg"
   ]
  },
  {
   "cell_type": "markdown",
   "id": "0ebde03d-aaa6-4b4f-ad5b-242feddaad7e",
   "metadata": {},
   "source": [
    "# R2: Set Break Points:\n"
   ]
  },
  {
   "cell_type": "code",
   "execution_count": 333,
   "id": "a6e8b0d8-ecd9-4aff-9ba8-94bf3c18b7a5",
   "metadata": {},
   "outputs": [
    {
     "name": "stdout",
     "output_type": "stream",
     "text": [
      "db 0x00400527\n",
      "\u001b[33m[0x7ffff7dd8ef0]>\u001b[0m \u001b[?1001r\u001b[?1000lK\n",
      "db 0x00400552\n",
      "\u001b[33m[0x7ffff7dd8ef0]>\u001b[0m \u001b[?1001r\u001b[?1000lK\n"
     ]
    }
   ],
   "source": [
    "%r db 0x00400527\n",
    "%r db 0x00400552"
   ]
  },
  {
   "cell_type": "code",
   "execution_count": 334,
   "id": "d2176aea-36d8-4e20-9736-4ded21a26c0c",
   "metadata": {},
   "outputs": [
    {
     "name": "stdout",
     "output_type": "stream",
     "text": [
      "dc\n",
      "Here's a program that echo's out your input\n",
      "hit breakpoint at: 400527\n",
      "\u001b[33m[0x00400527]>\u001b[0m \u001b[?1001r\u001b[?1000l\n"
     ]
    }
   ],
   "source": [
    "%r dc"
   ]
  },
  {
   "cell_type": "code",
   "execution_count": 335,
   "id": "8c5673e3-e504-4f7e-a668-af9cc66aa8b5",
   "metadata": {},
   "outputs": [
    {
     "name": "stdout",
     "output_type": "stream",
     "text": [
      "pdf\n",
      "            \u001b[36m;-- rip:\u001b[0mK\n",
      "\u001b[36m┌\u001b[0m 61: \u001b[31msym.copy_arg\u001b[0m (int64_t arg1);\n",
      "\u001b[36m│\u001b[0m           \u001b[37m; \u001b[37mvar \u001b[34mint64_t var_98h \u001b[36m@ rbp-0x98\u001b[0m\n",
      "\u001b[36m│\u001b[0m           \u001b[37m; \u001b[37mvar \u001b[34mint64_t var_90h \u001b[36m@ rbp-0x90\u001b[0m\n",
      "\u001b[36m│\u001b[0m           \u001b[37m; \u001b[37marg \u001b[34mint64_t arg1 \u001b[36m@ rdi\u001b[0m\n",
      "\u001b[36m│\u001b[0m           \u001b[31m\u001b[31m; CALL XREF from main @ \u001b[31m0x40058b\u001b[31m\u001b[0m\n",
      "\u001b[36m│\u001b[0m           \u001b[32m\u001b[7m0x00400527\u001b[0m b    \u001b[33m55\u001b[0m             \u001b[35mpushq\u001b[36m \u001b[0m%\u001b[36mrbp\u001b[0m\u001b[0m\u001b[0m\n",
      "\u001b[36m│\u001b[0m           \u001b[32m0x00400528\u001b[0m      \u001b[33m48\u001b[37m89\u001b[37me5\u001b[0m         \u001b[37mmovq\u001b[36m \u001b[0m%\u001b[36mrsp\u001b[0m,\u001b[36m\u001b[36m \u001b[0m%\u001b[36mrbp\u001b[0m\u001b[0m\u001b[0m\n",
      "\u001b[36m│\u001b[0m           \u001b[32m0x0040052b\u001b[0m      \u001b[33m48\u001b[37m81\u001b[37mec\u001b[37ma0\u001b[32m00\u001b[32m00\u001b[37m.\u001b[0m  \u001b[33msubq\u001b[36m $\u001b[33m0xa0\u001b[0m,\u001b[36m\u001b[36m \u001b[0m%\u001b[36mrsp\u001b[0m\u001b[0m\u001b[0m\n",
      "\u001b[36m│\u001b[0m           \u001b[32m0x00400532\u001b[0m      \u001b[33m48\u001b[37m89\u001b[37mbd\u001b[33m68\u001b[31mff\u001b[31mff\u001b[37m.\u001b[0m  \u001b[37mmovq\u001b[36m \u001b[0m%\u001b[36mrdi\u001b[0m,\u001b[36m\u001b[36m var_98h\u001b[0m\u001b[0m\u001b[0m          \u001b[34m; arg1\u001b[0m\n",
      "\u001b[36m│\u001b[0m           \u001b[32m0x00400539\u001b[0m      \u001b[33m48\u001b[37m8b\u001b[37m95\u001b[33m68\u001b[31mff\u001b[31mff\u001b[37m.\u001b[0m  \u001b[37mmovq\u001b[36m var_98h\u001b[0m,\u001b[36m\u001b[36m \u001b[0m%\u001b[36mrdx\u001b[0m\u001b[0m\u001b[0m\n",
      "\u001b[36m│\u001b[0m           \u001b[32m0x00400540\u001b[0m      \u001b[33m48\u001b[37m8d\u001b[37m85\u001b[33m70\u001b[31mff\u001b[31mff\u001b[37m.\u001b[0m  \u001b[37mleaq\u001b[36m var_90h\u001b[0m,\u001b[36m\u001b[36m \u001b[0m%\u001b[36mrax\u001b[0m\u001b[0m\u001b[0m\n",
      "\u001b[36m│\u001b[0m           \u001b[32m0x00400547\u001b[0m      \u001b[33m48\u001b[37m89\u001b[37md6\u001b[0m         \u001b[37mmovq\u001b[36m \u001b[0m%\u001b[36mrdx\u001b[0m,\u001b[36m\u001b[36m \u001b[0m%\u001b[36mrsi\u001b[0m\u001b[0m\u001b[0m\n",
      "\u001b[36m│\u001b[0m           \u001b[32m0x0040054a\u001b[0m      \u001b[33m48\u001b[37m89\u001b[37mc7\u001b[0m         \u001b[37mmovq\u001b[36m \u001b[0m%\u001b[36mrax\u001b[0m,\u001b[36m\u001b[36m \u001b[0m%\u001b[36mrdi\u001b[0m\u001b[0m\u001b[0m\n",
      "\u001b[36m│\u001b[0m           \u001b[32m0x0040054d\u001b[0m      \u001b[37me8\u001b[37mde\u001b[37mfe\u001b[31mff\u001b[31mff\u001b[0m     \u001b[1;92mcallq sym.imp.strcpy\u001b[0m\u001b[0m\u001b[31m        ; char *strcpy(char *dest, const char *src)\u001b[0m\n",
      "\u001b[36m│\u001b[0m           \u001b[32m0x00400552\u001b[0m b    \u001b[33m48\u001b[37m8d\u001b[37m85\u001b[33m70\u001b[31mff\u001b[31mff\u001b[37m.\u001b[0m  \u001b[37mleaq\u001b[36m var_90h\u001b[0m,\u001b[36m\u001b[36m \u001b[0m%\u001b[36mrax\u001b[0m\u001b[0m\u001b[0m\n",
      "\u001b[36m│\u001b[0m           \u001b[32m0x00400559\u001b[0m      \u001b[33m48\u001b[37m89\u001b[37mc7\u001b[0m         \u001b[37mmovq\u001b[36m \u001b[0m%\u001b[36mrax\u001b[0m,\u001b[36m\u001b[36m \u001b[0m%\u001b[36mrdi\u001b[0m\u001b[0m\u001b[0m\n",
      "\u001b[36m│\u001b[0m           \u001b[32m0x0040055c\u001b[0m      \u001b[37me8\u001b[37mdf\u001b[37mfe\u001b[31mff\u001b[31mff\u001b[0m     \u001b[1;92mcallq sym.imp.puts\u001b[0m\u001b[0m\u001b[31m          ; int puts(const char *s)\u001b[0m\n",
      "\u001b[36m│\u001b[0m           \u001b[32m0x00400561\u001b[0m      \u001b[37m90\u001b[0m             \u001b[34mnop\u001b[0m\u001b[0m\u001b[0m\n",
      "\u001b[36m│\u001b[0m           \u001b[32m0x00400562\u001b[0m      \u001b[37mc9\u001b[0m             \u001b[1;95mleave\u001b[0m\u001b[0m\u001b[0m\n",
      "\u001b[36m└\u001b[0m           \u001b[32m0x00400563\u001b[0m      \u001b[37mc3\u001b[0m             \u001b[31mretq\u001b[0m\u001b[0m\u001b[0m\n",
      "\u001b[33m[0x00400527]>\u001b[0m \u001b[?1001r\u001b[?1000l\n"
     ]
    }
   ],
   "source": [
    "%r pdf"
   ]
  },
  {
   "cell_type": "code",
   "execution_count": 336,
   "id": "f2268913-ddca-47f3-8735-d468c045a314",
   "metadata": {},
   "outputs": [],
   "source": [
    "# %r ds"
   ]
  },
  {
   "cell_type": "markdown",
   "id": "f8564873-5fed-4859-98f0-51e443dc8050",
   "metadata": {},
   "source": [
    "# Inspect Variables:"
   ]
  },
  {
   "cell_type": "code",
   "execution_count": 337,
   "id": "9e7d2160-0a9f-4248-baee-acae880d0c5a",
   "metadata": {},
   "outputs": [
    {
     "name": "stdout",
     "output_type": "stream",
     "text": [
      "px @ rsp\n",
      "\u001b[32m- offset -       0 1  2 3  4 5  6 7  8 9  A B  C D  E F  0123456789ABCDEF\n",
      "\u001b[0m\u001b[32m0x7fffffffe408\u001b[0m  \u001b[37m90\u001b[0m\u001b[37m05\u001b[0m \u001b[33m40\u001b[0m\u001b[32m00\u001b[0m \u001b[32m00\u001b[0m\u001b[32m00\u001b[0m \u001b[32m00\u001b[0m\u001b[32m00\u001b[0m \u001b[37m08\u001b[0m\u001b[37me5\u001b[0m \u001b[31mff\u001b[0m\u001b[31mff\u001b[0m \u001b[31mff\u001b[0m\u001b[36m7f\u001b[0m \u001b[32m00\u001b[0m\u001b[32m00\u001b[0m  \u001b[37m.\u001b[0m\u001b[37m.\u001b[0m\u001b[33m@\u001b[0m\u001b[32m.\u001b[0m\u001b[32m.\u001b[0m\u001b[32m.\u001b[0m\u001b[32m.\u001b[0m\u001b[32m.\u001b[0m\u001b[37m.\u001b[0m\u001b[37m.\u001b[0m\u001b[31m.\u001b[0m\u001b[31m.\u001b[0m\u001b[31m.\u001b[0m\u001b[36m.\u001b[0m\u001b[32m.\u001b[0m\u001b[32m.\u001b[0m\n",
      "\u001b[32m0x7fffffffe418\u001b[0m  \u001b[32m00\u001b[0m\u001b[32m00\u001b[0m \u001b[32m00\u001b[0m\u001b[32m00\u001b[0m \u001b[37m02\u001b[0m\u001b[32m00\u001b[0m \u001b[32m00\u001b[0m\u001b[32m00\u001b[0m \u001b[37ma0\u001b[0m\u001b[37m05\u001b[0m \u001b[33m40\u001b[0m\u001b[32m00\u001b[0m \u001b[32m00\u001b[0m\u001b[32m00\u001b[0m \u001b[32m00\u001b[0m\u001b[32m00\u001b[0m  \u001b[32m.\u001b[0m\u001b[32m.\u001b[0m\u001b[32m.\u001b[0m\u001b[32m.\u001b[0m\u001b[37m.\u001b[0m\u001b[32m.\u001b[0m\u001b[32m.\u001b[0m\u001b[32m.\u001b[0m\u001b[37m.\u001b[0m\u001b[37m.\u001b[0m\u001b[33m@\u001b[0m\u001b[32m.\u001b[0m\u001b[32m.\u001b[0m\u001b[32m.\u001b[0m\u001b[32m.\u001b[0m\u001b[32m.\u001b[0m\n",
      "\u001b[32m0x7fffffffe428\u001b[0m  \u001b[33m2a\u001b[0m\u001b[33m30\u001b[0m \u001b[37ma4\u001b[0m\u001b[37mf7\u001b[0m \u001b[31mff\u001b[0m\u001b[36m7f\u001b[0m \u001b[32m00\u001b[0m\u001b[32m00\u001b[0m \u001b[32m00\u001b[0m\u001b[32m00\u001b[0m \u001b[32m00\u001b[0m\u001b[32m00\u001b[0m \u001b[32m00\u001b[0m\u001b[32m00\u001b[0m \u001b[32m00\u001b[0m\u001b[32m00\u001b[0m  \u001b[33m*\u001b[0m\u001b[33m0\u001b[0m\u001b[37m.\u001b[0m\u001b[37m.\u001b[0m\u001b[31m.\u001b[0m\u001b[36m.\u001b[0m\u001b[32m.\u001b[0m\u001b[32m.\u001b[0m\u001b[32m.\u001b[0m\u001b[32m.\u001b[0m\u001b[32m.\u001b[0m\u001b[32m.\u001b[0m\u001b[32m.\u001b[0m\u001b[32m.\u001b[0m\u001b[32m.\u001b[0m\u001b[32m.\u001b[0m\n",
      "\u001b[32m0x7fffffffe438\u001b[0m  \u001b[37m08\u001b[0m\u001b[37me5\u001b[0m \u001b[31mff\u001b[0m\u001b[31mff\u001b[0m \u001b[31mff\u001b[0m\u001b[36m7f\u001b[0m \u001b[32m00\u001b[0m\u001b[32m00\u001b[0m \u001b[32m00\u001b[0m\u001b[32m00\u001b[0m \u001b[37m04\u001b[0m\u001b[32m00\u001b[0m \u001b[37m02\u001b[0m\u001b[32m00\u001b[0m \u001b[32m00\u001b[0m\u001b[32m00\u001b[0m  \u001b[37m.\u001b[0m\u001b[37m.\u001b[0m\u001b[31m.\u001b[0m\u001b[31m.\u001b[0m\u001b[31m.\u001b[0m\u001b[36m.\u001b[0m\u001b[32m.\u001b[0m\u001b[32m.\u001b[0m\u001b[32m.\u001b[0m\u001b[32m.\u001b[0m\u001b[37m.\u001b[0m\u001b[32m.\u001b[0m\u001b[37m.\u001b[0m\u001b[32m.\u001b[0m\u001b[32m.\u001b[0m\u001b[32m.\u001b[0m\n",
      "\u001b[32m0x7fffffffe448\u001b[0m  \u001b[33m64\u001b[0m\u001b[37m05\u001b[0m \u001b[33m40\u001b[0m\u001b[32m00\u001b[0m \u001b[32m00\u001b[0m\u001b[32m00\u001b[0m \u001b[32m00\u001b[0m\u001b[32m00\u001b[0m \u001b[32m00\u001b[0m\u001b[32m00\u001b[0m \u001b[32m00\u001b[0m\u001b[32m00\u001b[0m \u001b[32m00\u001b[0m\u001b[32m00\u001b[0m \u001b[32m00\u001b[0m\u001b[32m00\u001b[0m  \u001b[33md\u001b[0m\u001b[37m.\u001b[0m\u001b[33m@\u001b[0m\u001b[32m.\u001b[0m\u001b[32m.\u001b[0m\u001b[32m.\u001b[0m\u001b[32m.\u001b[0m\u001b[32m.\u001b[0m\u001b[32m.\u001b[0m\u001b[32m.\u001b[0m\u001b[32m.\u001b[0m\u001b[32m.\u001b[0m\u001b[32m.\u001b[0m\u001b[32m.\u001b[0m\u001b[32m.\u001b[0m\u001b[32m.\u001b[0m\n",
      "\u001b[32m0x7fffffffe458\u001b[0m  \u001b[37m1c\u001b[0m\u001b[33m7a\u001b[0m \u001b[33m28\u001b[0m\u001b[37mcb\u001b[0m \u001b[33m74\u001b[0m\u001b[37m93\u001b[0m \u001b[37mf6\u001b[0m\u001b[33m2b\u001b[0m \u001b[33m50\u001b[0m\u001b[37m04\u001b[0m \u001b[33m40\u001b[0m\u001b[32m00\u001b[0m \u001b[32m00\u001b[0m\u001b[32m00\u001b[0m \u001b[32m00\u001b[0m\u001b[32m00\u001b[0m  \u001b[37m.\u001b[0m\u001b[33mz\u001b[0m\u001b[33m(\u001b[0m\u001b[37m.\u001b[0m\u001b[33mt\u001b[0m\u001b[37m.\u001b[0m\u001b[37m.\u001b[0m\u001b[33m+\u001b[0m\u001b[33mP\u001b[0m\u001b[37m.\u001b[0m\u001b[33m@\u001b[0m\u001b[32m.\u001b[0m\u001b[32m.\u001b[0m\u001b[32m.\u001b[0m\u001b[32m.\u001b[0m\u001b[32m.\u001b[0m\n",
      "\u001b[32m0x7fffffffe468\u001b[0m  \u001b[32m00\u001b[0m\u001b[37me5\u001b[0m \u001b[31mff\u001b[0m\u001b[31mff\u001b[0m \u001b[31mff\u001b[0m\u001b[36m7f\u001b[0m \u001b[32m00\u001b[0m\u001b[32m00\u001b[0m \u001b[32m00\u001b[0m\u001b[32m00\u001b[0m \u001b[32m00\u001b[0m\u001b[32m00\u001b[0m \u001b[32m00\u001b[0m\u001b[32m00\u001b[0m \u001b[32m00\u001b[0m\u001b[32m00\u001b[0m  \u001b[32m.\u001b[0m\u001b[37m.\u001b[0m\u001b[31m.\u001b[0m\u001b[31m.\u001b[0m\u001b[31m.\u001b[0m\u001b[36m.\u001b[0m\u001b[32m.\u001b[0m\u001b[32m.\u001b[0m\u001b[32m.\u001b[0m\u001b[32m.\u001b[0m\u001b[32m.\u001b[0m\u001b[32m.\u001b[0m\u001b[32m.\u001b[0m\u001b[32m.\u001b[0m\u001b[32m.\u001b[0m\u001b[32m.\u001b[0m\n",
      "\u001b[32m0x7fffffffe478\u001b[0m  \u001b[32m00\u001b[0m\u001b[32m00\u001b[0m \u001b[32m00\u001b[0m\u001b[32m00\u001b[0m \u001b[32m00\u001b[0m\u001b[32m00\u001b[0m \u001b[32m00\u001b[0m\u001b[32m00\u001b[0m \u001b[37m1c\u001b[0m\u001b[33m7a\u001b[0m \u001b[37m08\u001b[0m\u001b[37m08\u001b[0m \u001b[37m0b\u001b[0m\u001b[33m6c\u001b[0m \u001b[37m09\u001b[0m\u001b[37md4\u001b[0m  \u001b[32m.\u001b[0m\u001b[32m.\u001b[0m\u001b[32m.\u001b[0m\u001b[32m.\u001b[0m\u001b[32m.\u001b[0m\u001b[32m.\u001b[0m\u001b[32m.\u001b[0m\u001b[32m.\u001b[0m\u001b[37m.\u001b[0m\u001b[33mz\u001b[0m\u001b[37m.\u001b[0m\u001b[37m.\u001b[0m\u001b[37m.\u001b[0m\u001b[33ml\u001b[0m\u001b[37m.\u001b[0m\u001b[37m.\u001b[0m\n",
      "\u001b[32m0x7fffffffe488\u001b[0m  \u001b[37m1c\u001b[0m\u001b[33m7a\u001b[0m \u001b[37mac\u001b[0m\u001b[37m9f\u001b[0m \u001b[37mbc\u001b[0m\u001b[33m7c\u001b[0m \u001b[37m09\u001b[0m\u001b[37md4\u001b[0m \u001b[32m00\u001b[0m\u001b[32m00\u001b[0m \u001b[32m00\u001b[0m\u001b[32m00\u001b[0m \u001b[32m00\u001b[0m\u001b[32m00\u001b[0m \u001b[32m00\u001b[0m\u001b[32m00\u001b[0m  \u001b[37m.\u001b[0m\u001b[33mz\u001b[0m\u001b[37m.\u001b[0m\u001b[37m.\u001b[0m\u001b[37m.\u001b[0m\u001b[33m|\u001b[0m\u001b[37m.\u001b[0m\u001b[37m.\u001b[0m\u001b[32m.\u001b[0m\u001b[32m.\u001b[0m\u001b[32m.\u001b[0m\u001b[32m.\u001b[0m\u001b[32m.\u001b[0m\u001b[32m.\u001b[0m\u001b[32m.\u001b[0m\u001b[32m.\u001b[0m\n",
      "\u001b[32m0x7fffffffe498\u001b[0m  \u001b[32m00\u001b[0m\u001b[32m00\u001b[0m \u001b[32m00\u001b[0m\u001b[32m00\u001b[0m \u001b[32m00\u001b[0m\u001b[32m00\u001b[0m \u001b[32m00\u001b[0m\u001b[32m00\u001b[0m \u001b[32m00\u001b[0m\u001b[32m00\u001b[0m \u001b[32m00\u001b[0m\u001b[32m00\u001b[0m \u001b[32m00\u001b[0m\u001b[32m00\u001b[0m \u001b[32m00\u001b[0m\u001b[32m00\u001b[0m  \u001b[32m.\u001b[0m\u001b[32m.\u001b[0m\u001b[32m.\u001b[0m\u001b[32m.\u001b[0m\u001b[32m.\u001b[0m\u001b[32m.\u001b[0m\u001b[32m.\u001b[0m\u001b[32m.\u001b[0m\u001b[32m.\u001b[0m\u001b[32m.\u001b[0m\u001b[32m.\u001b[0m\u001b[32m.\u001b[0m\u001b[32m.\u001b[0m\u001b[32m.\u001b[0m\u001b[32m.\u001b[0m\u001b[32m.\u001b[0m\n",
      "\u001b[32m0x7fffffffe4a8\u001b[0m  \u001b[33m20\u001b[0m\u001b[37me5\u001b[0m \u001b[31mff\u001b[0m\u001b[31mff\u001b[0m \u001b[31mff\u001b[0m\u001b[36m7f\u001b[0m \u001b[32m00\u001b[0m\u001b[32m00\u001b[0m \u001b[33m30\u001b[0m\u001b[37me1\u001b[0m \u001b[31mff\u001b[0m\u001b[37mf7\u001b[0m \u001b[31mff\u001b[0m\u001b[36m7f\u001b[0m \u001b[32m00\u001b[0m\u001b[32m00\u001b[0m  \u001b[33m \u001b[0m\u001b[37m.\u001b[0m\u001b[31m.\u001b[0m\u001b[31m.\u001b[0m\u001b[31m.\u001b[0m\u001b[36m.\u001b[0m\u001b[32m.\u001b[0m\u001b[32m.\u001b[0m\u001b[33m0\u001b[0m\u001b[37m.\u001b[0m\u001b[31m.\u001b[0m\u001b[37m.\u001b[0m\u001b[31m.\u001b[0m\u001b[36m.\u001b[0m\u001b[32m.\u001b[0m\u001b[32m.\u001b[0m\n",
      "\u001b[32m0x7fffffffe4b8\u001b[0m  \u001b[33m56\u001b[0m\u001b[33m76\u001b[0m \u001b[37mde\u001b[0m\u001b[37mf7\u001b[0m \u001b[31mff\u001b[0m\u001b[36m7f\u001b[0m \u001b[32m00\u001b[0m\u001b[32m00\u001b[0m \u001b[32m00\u001b[0m\u001b[32m00\u001b[0m \u001b[32m00\u001b[0m\u001b[32m00\u001b[0m \u001b[32m00\u001b[0m\u001b[32m00\u001b[0m \u001b[32m00\u001b[0m\u001b[32m00\u001b[0m  \u001b[33mV\u001b[0m\u001b[33mv\u001b[0m\u001b[37m.\u001b[0m\u001b[37m.\u001b[0m\u001b[31m.\u001b[0m\u001b[36m.\u001b[0m\u001b[32m.\u001b[0m\u001b[32m.\u001b[0m\u001b[32m.\u001b[0m\u001b[32m.\u001b[0m\u001b[32m.\u001b[0m\u001b[32m.\u001b[0m\u001b[32m.\u001b[0m\u001b[32m.\u001b[0m\u001b[32m.\u001b[0m\u001b[32m.\u001b[0m\n",
      "\u001b[32m0x7fffffffe4c8\u001b[0m  \u001b[32m00\u001b[0m\u001b[32m00\u001b[0m \u001b[32m00\u001b[0m\u001b[32m00\u001b[0m \u001b[32m00\u001b[0m\u001b[32m00\u001b[0m \u001b[32m00\u001b[0m\u001b[32m00\u001b[0m \u001b[32m00\u001b[0m\u001b[32m00\u001b[0m \u001b[32m00\u001b[0m\u001b[32m00\u001b[0m \u001b[32m00\u001b[0m\u001b[32m00\u001b[0m \u001b[32m00\u001b[0m\u001b[32m00\u001b[0m  \u001b[32m.\u001b[0m\u001b[32m.\u001b[0m\u001b[32m.\u001b[0m\u001b[32m.\u001b[0m\u001b[32m.\u001b[0m\u001b[32m.\u001b[0m\u001b[32m.\u001b[0m\u001b[32m.\u001b[0m\u001b[32m.\u001b[0m\u001b[32m.\u001b[0m\u001b[32m.\u001b[0m\u001b[32m.\u001b[0m\u001b[32m.\u001b[0m\u001b[32m.\u001b[0m\u001b[32m.\u001b[0m\u001b[32m.\u001b[0m\n",
      "\u001b[32m0x7fffffffe4d8\u001b[0m  \u001b[33m50\u001b[0m\u001b[37m04\u001b[0m \u001b[33m40\u001b[0m\u001b[32m00\u001b[0m \u001b[32m00\u001b[0m\u001b[32m00\u001b[0m \u001b[32m00\u001b[0m\u001b[32m00\u001b[0m \u001b[32m00\u001b[0m\u001b[37me5\u001b[0m \u001b[31mff\u001b[0m\u001b[31mff\u001b[0m \u001b[31mff\u001b[0m\u001b[36m7f\u001b[0m \u001b[32m00\u001b[0m\u001b[32m00\u001b[0m  \u001b[33mP\u001b[0m\u001b[37m.\u001b[0m\u001b[33m@\u001b[0m\u001b[32m.\u001b[0m\u001b[32m.\u001b[0m\u001b[32m.\u001b[0m\u001b[32m.\u001b[0m\u001b[32m.\u001b[0m\u001b[32m.\u001b[0m\u001b[37m.\u001b[0m\u001b[31m.\u001b[0m\u001b[31m.\u001b[0m\u001b[31m.\u001b[0m\u001b[36m.\u001b[0m\u001b[32m.\u001b[0m\u001b[32m.\u001b[0m\n",
      "\u001b[32m0x7fffffffe4e8\u001b[0m  \u001b[33m7a\u001b[0m\u001b[37m04\u001b[0m \u001b[33m40\u001b[0m\u001b[32m00\u001b[0m \u001b[32m00\u001b[0m\u001b[32m00\u001b[0m \u001b[32m00\u001b[0m\u001b[32m00\u001b[0m \u001b[37mf8\u001b[0m\u001b[37me4\u001b[0m \u001b[31mff\u001b[0m\u001b[31mff\u001b[0m \u001b[31mff\u001b[0m\u001b[36m7f\u001b[0m \u001b[32m00\u001b[0m\u001b[32m00\u001b[0m  \u001b[33mz\u001b[0m\u001b[37m.\u001b[0m\u001b[33m@\u001b[0m\u001b[32m.\u001b[0m\u001b[32m.\u001b[0m\u001b[32m.\u001b[0m\u001b[32m.\u001b[0m\u001b[32m.\u001b[0m\u001b[37m.\u001b[0m\u001b[37m.\u001b[0m\u001b[31m.\u001b[0m\u001b[31m.\u001b[0m\u001b[31m.\u001b[0m\u001b[36m.\u001b[0m\u001b[32m.\u001b[0m\u001b[32m.\u001b[0m\n",
      "\u001b[32m0x7fffffffe4f8\u001b[0m  \u001b[37m80\u001b[0m\u001b[37mdf\u001b[0m \u001b[31mff\u001b[0m\u001b[37mf7\u001b[0m \u001b[31mff\u001b[0m\u001b[36m7f\u001b[0m \u001b[32m00\u001b[0m\u001b[32m00\u001b[0m \u001b[37m02\u001b[0m\u001b[32m00\u001b[0m \u001b[32m00\u001b[0m\u001b[32m00\u001b[0m \u001b[32m00\u001b[0m\u001b[32m00\u001b[0m \u001b[32m00\u001b[0m\u001b[32m00\u001b[0m  \u001b[37m.\u001b[0m\u001b[37m.\u001b[0m\u001b[31m.\u001b[0m\u001b[37m.\u001b[0m\u001b[31m.\u001b[0m\u001b[36m.\u001b[0m\u001b[32m.\u001b[0m\u001b[32m.\u001b[0m\u001b[37m.\u001b[0m\u001b[32m.\u001b[0m\u001b[32m.\u001b[0m\u001b[32m.\u001b[0m\u001b[32m.\u001b[0m\u001b[32m.\u001b[0m\u001b[32m.\u001b[0m\u001b[32m.\u001b[0m\n",
      "\u001b[33m[0x00400527]>\u001b[0m \u001b[?1001r\u001b[?1000l\n"
     ]
    }
   ],
   "source": [
    "%r px @ rsp"
   ]
  },
  {
   "cell_type": "code",
   "execution_count": 338,
   "id": "b823a4fc-32da-4c87-953c-06b80b713699",
   "metadata": {},
   "outputs": [
    {
     "name": "stdout",
     "output_type": "stream",
     "text": [
      "dc\n",
      "hit breakpoint at: 400552\u001b[2K\n",
      "\u001b[33m[0x00400552]>\u001b[0m \u001b[?1001r\u001b[?1000l\n"
     ]
    }
   ],
   "source": [
    "%r dc"
   ]
  },
  {
   "cell_type": "code",
   "execution_count": 339,
   "id": "0cc04b77-3d48-4f60-aa19-9f997bfb24a3",
   "metadata": {},
   "outputs": [
    {
     "name": "stdout",
     "output_type": "stream",
     "text": [
      "px @ rbp-0x98\n",
      "\u001b[32m- offset -       0 1  2 3  4 5  6 7  8 9  A B  C D  E F  0123456789ABCDEF\n",
      "\u001b[0m\u001b[32m0x7fffffffe368\u001b[0m  \u001b[33m5a\u001b[0m\u001b[37me7\u001b[0m \u001b[31mff\u001b[0m\u001b[31mff\u001b[0m \u001b[31mff\u001b[0m\u001b[36m7f\u001b[0m \u001b[32m00\u001b[0m\u001b[32m00\u001b[0m \u001b[33m41\u001b[0m\u001b[33m41\u001b[0m \u001b[33m41\u001b[0m\u001b[33m41\u001b[0m \u001b[33m41\u001b[0m\u001b[33m41\u001b[0m \u001b[33m41\u001b[0m\u001b[33m41\u001b[0m  \u001b[33mZ\u001b[0m\u001b[37m.\u001b[0m\u001b[31m.\u001b[0m\u001b[31m.\u001b[0m\u001b[31m.\u001b[0m\u001b[36m.\u001b[0m\u001b[32m.\u001b[0m\u001b[32m.\u001b[0m\u001b[33mA\u001b[0m\u001b[33mA\u001b[0m\u001b[33mA\u001b[0m\u001b[33mA\u001b[0m\u001b[33mA\u001b[0m\u001b[33mA\u001b[0m\u001b[33mA\u001b[0m\u001b[33mA\u001b[0m\n",
      "\u001b[32m0x7fffffffe378\u001b[0m  \u001b[33m41\u001b[0m\u001b[33m41\u001b[0m \u001b[33m41\u001b[0m\u001b[33m41\u001b[0m \u001b[33m41\u001b[0m\u001b[33m41\u001b[0m \u001b[33m41\u001b[0m\u001b[33m41\u001b[0m \u001b[33m41\u001b[0m\u001b[33m41\u001b[0m \u001b[33m41\u001b[0m\u001b[33m41\u001b[0m \u001b[33m41\u001b[0m\u001b[33m41\u001b[0m \u001b[33m41\u001b[0m\u001b[33m41\u001b[0m  \u001b[33mA\u001b[0m\u001b[33mA\u001b[0m\u001b[33mA\u001b[0m\u001b[33mA\u001b[0m\u001b[33mA\u001b[0m\u001b[33mA\u001b[0m\u001b[33mA\u001b[0m\u001b[33mA\u001b[0m\u001b[33mA\u001b[0m\u001b[33mA\u001b[0m\u001b[33mA\u001b[0m\u001b[33mA\u001b[0m\u001b[33mA\u001b[0m\u001b[33mA\u001b[0m\u001b[33mA\u001b[0m\u001b[33mA\u001b[0m\n",
      "\u001b[32m0x7fffffffe388\u001b[0m  \u001b[33m41\u001b[0m\u001b[33m41\u001b[0m \u001b[33m41\u001b[0m\u001b[33m41\u001b[0m \u001b[33m41\u001b[0m\u001b[33m41\u001b[0m \u001b[33m41\u001b[0m\u001b[33m41\u001b[0m \u001b[33m41\u001b[0m\u001b[33m41\u001b[0m \u001b[33m41\u001b[0m\u001b[33m41\u001b[0m \u001b[33m41\u001b[0m\u001b[33m41\u001b[0m \u001b[33m41\u001b[0m\u001b[33m41\u001b[0m  \u001b[33mA\u001b[0m\u001b[33mA\u001b[0m\u001b[33mA\u001b[0m\u001b[33mA\u001b[0m\u001b[33mA\u001b[0m\u001b[33mA\u001b[0m\u001b[33mA\u001b[0m\u001b[33mA\u001b[0m\u001b[33mA\u001b[0m\u001b[33mA\u001b[0m\u001b[33mA\u001b[0m\u001b[33mA\u001b[0m\u001b[33mA\u001b[0m\u001b[33mA\u001b[0m\u001b[33mA\u001b[0m\u001b[33mA\u001b[0m\n",
      "\u001b[32m0x7fffffffe398\u001b[0m  \u001b[33m41\u001b[0m\u001b[33m41\u001b[0m \u001b[33m41\u001b[0m\u001b[33m41\u001b[0m \u001b[33m41\u001b[0m\u001b[33m41\u001b[0m \u001b[33m41\u001b[0m\u001b[33m41\u001b[0m \u001b[33m41\u001b[0m\u001b[33m41\u001b[0m \u001b[33m41\u001b[0m\u001b[33m41\u001b[0m \u001b[33m41\u001b[0m\u001b[33m41\u001b[0m \u001b[33m41\u001b[0m\u001b[33m41\u001b[0m  \u001b[33mA\u001b[0m\u001b[33mA\u001b[0m\u001b[33mA\u001b[0m\u001b[33mA\u001b[0m\u001b[33mA\u001b[0m\u001b[33mA\u001b[0m\u001b[33mA\u001b[0m\u001b[33mA\u001b[0m\u001b[33mA\u001b[0m\u001b[33mA\u001b[0m\u001b[33mA\u001b[0m\u001b[33mA\u001b[0m\u001b[33mA\u001b[0m\u001b[33mA\u001b[0m\u001b[33mA\u001b[0m\u001b[33mA\u001b[0m\n",
      "\u001b[32m0x7fffffffe3a8\u001b[0m  \u001b[33m41\u001b[0m\u001b[33m41\u001b[0m \u001b[33m41\u001b[0m\u001b[33m41\u001b[0m \u001b[33m41\u001b[0m\u001b[33m41\u001b[0m \u001b[33m41\u001b[0m\u001b[33m41\u001b[0m \u001b[33m41\u001b[0m\u001b[33m41\u001b[0m \u001b[33m41\u001b[0m\u001b[33m41\u001b[0m \u001b[33m41\u001b[0m\u001b[33m41\u001b[0m \u001b[33m41\u001b[0m\u001b[33m41\u001b[0m  \u001b[33mA\u001b[0m\u001b[33mA\u001b[0m\u001b[33mA\u001b[0m\u001b[33mA\u001b[0m\u001b[33mA\u001b[0m\u001b[33mA\u001b[0m\u001b[33mA\u001b[0m\u001b[33mA\u001b[0m\u001b[33mA\u001b[0m\u001b[33mA\u001b[0m\u001b[33mA\u001b[0m\u001b[33mA\u001b[0m\u001b[33mA\u001b[0m\u001b[33mA\u001b[0m\u001b[33mA\u001b[0m\u001b[33mA\u001b[0m\n",
      "\u001b[32m0x7fffffffe3b8\u001b[0m  \u001b[33m41\u001b[0m\u001b[33m41\u001b[0m \u001b[33m41\u001b[0m\u001b[33m41\u001b[0m \u001b[33m41\u001b[0m\u001b[33m41\u001b[0m \u001b[33m41\u001b[0m\u001b[33m41\u001b[0m \u001b[33m41\u001b[0m\u001b[33m41\u001b[0m \u001b[33m41\u001b[0m\u001b[33m41\u001b[0m \u001b[33m41\u001b[0m\u001b[33m41\u001b[0m \u001b[33m41\u001b[0m\u001b[33m41\u001b[0m  \u001b[33mA\u001b[0m\u001b[33mA\u001b[0m\u001b[33mA\u001b[0m\u001b[33mA\u001b[0m\u001b[33mA\u001b[0m\u001b[33mA\u001b[0m\u001b[33mA\u001b[0m\u001b[33mA\u001b[0m\u001b[33mA\u001b[0m\u001b[33mA\u001b[0m\u001b[33mA\u001b[0m\u001b[33mA\u001b[0m\u001b[33mA\u001b[0m\u001b[33mA\u001b[0m\u001b[33mA\u001b[0m\u001b[33mA\u001b[0m\n",
      "\u001b[32m0x7fffffffe3c8\u001b[0m  \u001b[33m41\u001b[0m\u001b[33m41\u001b[0m \u001b[33m41\u001b[0m\u001b[33m41\u001b[0m \u001b[33m41\u001b[0m\u001b[33m41\u001b[0m \u001b[33m41\u001b[0m\u001b[33m41\u001b[0m \u001b[33m41\u001b[0m\u001b[33m41\u001b[0m \u001b[33m41\u001b[0m\u001b[33m41\u001b[0m \u001b[33m41\u001b[0m\u001b[33m41\u001b[0m \u001b[33m41\u001b[0m\u001b[33m41\u001b[0m  \u001b[33mA\u001b[0m\u001b[33mA\u001b[0m\u001b[33mA\u001b[0m\u001b[33mA\u001b[0m\u001b[33mA\u001b[0m\u001b[33mA\u001b[0m\u001b[33mA\u001b[0m\u001b[33mA\u001b[0m\u001b[33mA\u001b[0m\u001b[33mA\u001b[0m\u001b[33mA\u001b[0m\u001b[33mA\u001b[0m\u001b[33mA\u001b[0m\u001b[33mA\u001b[0m\u001b[33mA\u001b[0m\u001b[33mA\u001b[0m\n",
      "\u001b[32m0x7fffffffe3d8\u001b[0m  \u001b[33m41\u001b[0m\u001b[33m41\u001b[0m \u001b[33m41\u001b[0m\u001b[33m41\u001b[0m \u001b[33m41\u001b[0m\u001b[33m41\u001b[0m \u001b[33m41\u001b[0m\u001b[33m41\u001b[0m \u001b[33m41\u001b[0m\u001b[33m41\u001b[0m \u001b[33m41\u001b[0m\u001b[33m41\u001b[0m \u001b[33m41\u001b[0m\u001b[33m41\u001b[0m \u001b[33m41\u001b[0m\u001b[33m41\u001b[0m  \u001b[33mA\u001b[0m\u001b[33mA\u001b[0m\u001b[33mA\u001b[0m\u001b[33mA\u001b[0m\u001b[33mA\u001b[0m\u001b[33mA\u001b[0m\u001b[33mA\u001b[0m\u001b[33mA\u001b[0m\u001b[33mA\u001b[0m\u001b[33mA\u001b[0m\u001b[33mA\u001b[0m\u001b[33mA\u001b[0m\u001b[33mA\u001b[0m\u001b[33mA\u001b[0m\u001b[33mA\u001b[0m\u001b[33mA\u001b[0m\n",
      "\u001b[32m0x7fffffffe3e8\u001b[0m  \u001b[33m41\u001b[0m\u001b[33m41\u001b[0m \u001b[33m41\u001b[0m\u001b[33m41\u001b[0m \u001b[33m41\u001b[0m\u001b[33m41\u001b[0m \u001b[33m41\u001b[0m\u001b[33m41\u001b[0m \u001b[33m41\u001b[0m\u001b[33m41\u001b[0m \u001b[33m41\u001b[0m\u001b[33m41\u001b[0m \u001b[33m41\u001b[0m\u001b[33m41\u001b[0m \u001b[33m41\u001b[0m\u001b[33m41\u001b[0m  \u001b[33mA\u001b[0m\u001b[33mA\u001b[0m\u001b[33mA\u001b[0m\u001b[33mA\u001b[0m\u001b[33mA\u001b[0m\u001b[33mA\u001b[0m\u001b[33mA\u001b[0m\u001b[33mA\u001b[0m\u001b[33mA\u001b[0m\u001b[33mA\u001b[0m\u001b[33mA\u001b[0m\u001b[33mA\u001b[0m\u001b[33mA\u001b[0m\u001b[33mA\u001b[0m\u001b[33mA\u001b[0m\u001b[33mA\u001b[0m\n",
      "\u001b[32m0x7fffffffe3f8\u001b[0m  \u001b[33m41\u001b[0m\u001b[33m41\u001b[0m \u001b[33m41\u001b[0m\u001b[33m41\u001b[0m \u001b[33m41\u001b[0m\u001b[33m41\u001b[0m \u001b[33m41\u001b[0m\u001b[33m41\u001b[0m \u001b[33m41\u001b[0m\u001b[33m41\u001b[0m \u001b[33m41\u001b[0m\u001b[33m41\u001b[0m \u001b[33m41\u001b[0m\u001b[33m41\u001b[0m \u001b[33m41\u001b[0m\u001b[33m41\u001b[0m  \u001b[33mA\u001b[0m\u001b[33mA\u001b[0m\u001b[33mA\u001b[0m\u001b[33mA\u001b[0m\u001b[33mA\u001b[0m\u001b[33mA\u001b[0m\u001b[33mA\u001b[0m\u001b[33mA\u001b[0m\u001b[33mA\u001b[0m\u001b[33mA\u001b[0m\u001b[33mA\u001b[0m\u001b[33mA\u001b[0m\u001b[33mA\u001b[0m\u001b[33mA\u001b[0m\u001b[33mA\u001b[0m\u001b[33mA\u001b[0m\n",
      "\u001b[32m0x7fffffffe408\u001b[0m  \u001b[37mc2\u001b[0m\u001b[37m90\u001b[0m \u001b[32m00\u001b[0m\u001b[32m00\u001b[0m \u001b[32m00\u001b[0m\u001b[32m00\u001b[0m \u001b[32m00\u001b[0m\u001b[32m00\u001b[0m \u001b[37m08\u001b[0m\u001b[37me5\u001b[0m \u001b[31mff\u001b[0m\u001b[31mff\u001b[0m \u001b[31mff\u001b[0m\u001b[36m7f\u001b[0m \u001b[32m00\u001b[0m\u001b[32m00\u001b[0m  \u001b[37m.\u001b[0m\u001b[37m.\u001b[0m\u001b[32m.\u001b[0m\u001b[32m.\u001b[0m\u001b[32m.\u001b[0m\u001b[32m.\u001b[0m\u001b[32m.\u001b[0m\u001b[32m.\u001b[0m\u001b[37m.\u001b[0m\u001b[37m.\u001b[0m\u001b[31m.\u001b[0m\u001b[31m.\u001b[0m\u001b[31m.\u001b[0m\u001b[36m.\u001b[0m\u001b[32m.\u001b[0m\u001b[32m.\u001b[0m\n",
      "\u001b[32m0x7fffffffe418\u001b[0m  \u001b[32m00\u001b[0m\u001b[32m00\u001b[0m \u001b[32m00\u001b[0m\u001b[32m00\u001b[0m \u001b[37m02\u001b[0m\u001b[32m00\u001b[0m \u001b[32m00\u001b[0m\u001b[32m00\u001b[0m \u001b[37ma0\u001b[0m\u001b[37m05\u001b[0m \u001b[33m40\u001b[0m\u001b[32m00\u001b[0m \u001b[32m00\u001b[0m\u001b[32m00\u001b[0m \u001b[32m00\u001b[0m\u001b[32m00\u001b[0m  \u001b[32m.\u001b[0m\u001b[32m.\u001b[0m\u001b[32m.\u001b[0m\u001b[32m.\u001b[0m\u001b[37m.\u001b[0m\u001b[32m.\u001b[0m\u001b[32m.\u001b[0m\u001b[32m.\u001b[0m\u001b[37m.\u001b[0m\u001b[37m.\u001b[0m\u001b[33m@\u001b[0m\u001b[32m.\u001b[0m\u001b[32m.\u001b[0m\u001b[32m.\u001b[0m\u001b[32m.\u001b[0m\u001b[32m.\u001b[0m\n",
      "\u001b[32m0x7fffffffe428\u001b[0m  \u001b[33m2a\u001b[0m\u001b[33m30\u001b[0m \u001b[37ma4\u001b[0m\u001b[37mf7\u001b[0m \u001b[31mff\u001b[0m\u001b[36m7f\u001b[0m \u001b[32m00\u001b[0m\u001b[32m00\u001b[0m \u001b[32m00\u001b[0m\u001b[32m00\u001b[0m \u001b[32m00\u001b[0m\u001b[32m00\u001b[0m \u001b[32m00\u001b[0m\u001b[32m00\u001b[0m \u001b[32m00\u001b[0m\u001b[32m00\u001b[0m  \u001b[33m*\u001b[0m\u001b[33m0\u001b[0m\u001b[37m.\u001b[0m\u001b[37m.\u001b[0m\u001b[31m.\u001b[0m\u001b[36m.\u001b[0m\u001b[32m.\u001b[0m\u001b[32m.\u001b[0m\u001b[32m.\u001b[0m\u001b[32m.\u001b[0m\u001b[32m.\u001b[0m\u001b[32m.\u001b[0m\u001b[32m.\u001b[0m\u001b[32m.\u001b[0m\u001b[32m.\u001b[0m\u001b[32m.\u001b[0m\n",
      "\u001b[32m0x7fffffffe438\u001b[0m  \u001b[37m08\u001b[0m\u001b[37me5\u001b[0m \u001b[31mff\u001b[0m\u001b[31mff\u001b[0m \u001b[31mff\u001b[0m\u001b[36m7f\u001b[0m \u001b[32m00\u001b[0m\u001b[32m00\u001b[0m \u001b[32m00\u001b[0m\u001b[32m00\u001b[0m \u001b[37m04\u001b[0m\u001b[32m00\u001b[0m \u001b[37m02\u001b[0m\u001b[32m00\u001b[0m \u001b[32m00\u001b[0m\u001b[32m00\u001b[0m  \u001b[37m.\u001b[0m\u001b[37m.\u001b[0m\u001b[31m.\u001b[0m\u001b[31m.\u001b[0m\u001b[31m.\u001b[0m\u001b[36m.\u001b[0m\u001b[32m.\u001b[0m\u001b[32m.\u001b[0m\u001b[32m.\u001b[0m\u001b[32m.\u001b[0m\u001b[37m.\u001b[0m\u001b[32m.\u001b[0m\u001b[37m.\u001b[0m\u001b[32m.\u001b[0m\u001b[32m.\u001b[0m\u001b[32m.\u001b[0m\n",
      "\u001b[32m0x7fffffffe448\u001b[0m  \u001b[33m64\u001b[0m\u001b[37m05\u001b[0m \u001b[33m40\u001b[0m\u001b[32m00\u001b[0m \u001b[32m00\u001b[0m\u001b[32m00\u001b[0m \u001b[32m00\u001b[0m\u001b[32m00\u001b[0m \u001b[32m00\u001b[0m\u001b[32m00\u001b[0m \u001b[32m00\u001b[0m\u001b[32m00\u001b[0m \u001b[32m00\u001b[0m\u001b[32m00\u001b[0m \u001b[32m00\u001b[0m\u001b[32m00\u001b[0m  \u001b[33md\u001b[0m\u001b[37m.\u001b[0m\u001b[33m@\u001b[0m\u001b[32m.\u001b[0m\u001b[32m.\u001b[0m\u001b[32m.\u001b[0m\u001b[32m.\u001b[0m\u001b[32m.\u001b[0m\u001b[32m.\u001b[0m\u001b[32m.\u001b[0m\u001b[32m.\u001b[0m\u001b[32m.\u001b[0m\u001b[32m.\u001b[0m\u001b[32m.\u001b[0m\u001b[32m.\u001b[0m\u001b[32m.\u001b[0m\n",
      "\u001b[32m0x7fffffffe458\u001b[0m  \u001b[37m1c\u001b[0m\u001b[33m7a\u001b[0m \u001b[33m28\u001b[0m\u001b[37mcb\u001b[0m \u001b[33m74\u001b[0m\u001b[37m93\u001b[0m \u001b[37mf6\u001b[0m\u001b[33m2b\u001b[0m \u001b[33m50\u001b[0m\u001b[37m04\u001b[0m \u001b[33m40\u001b[0m\u001b[32m00\u001b[0m \u001b[32m00\u001b[0m\u001b[32m00\u001b[0m \u001b[32m00\u001b[0m\u001b[32m00\u001b[0m  \u001b[37m.\u001b[0m\u001b[33mz\u001b[0m\u001b[33m(\u001b[0m\u001b[37m.\u001b[0m\u001b[33mt\u001b[0m\u001b[37m.\u001b[0m\u001b[37m.\u001b[0m\u001b[33m+\u001b[0m\u001b[33mP\u001b[0m\u001b[37m.\u001b[0m\u001b[33m@\u001b[0m\u001b[32m.\u001b[0m\u001b[32m.\u001b[0m\u001b[32m.\u001b[0m\u001b[32m.\u001b[0m\u001b[32m.\u001b[0m\n",
      "\u001b[33m[0x00400552]>\u001b[0m \u001b[?1001r\u001b[?1000l\n"
     ]
    }
   ],
   "source": [
    "# we need to hit 0x7ffc03344dc8 + 4\n",
    "# safe jump: f00411468\n",
    "%r px @ rbp-0x98"
   ]
  },
  {
   "cell_type": "code",
   "execution_count": 340,
   "id": "7aa50737-6645-4936-b211-c9767213137f",
   "metadata": {},
   "outputs": [],
   "source": [
    "# %r dr"
   ]
  },
  {
   "cell_type": "code",
   "execution_count": null,
   "id": "5972b6d3-f7ae-4008-b2be-037e4627557e",
   "metadata": {},
   "outputs": [],
   "source": [
    "%r ds; pdf;"
   ]
  },
  {
   "cell_type": "code",
   "execution_count": 342,
   "id": "eee84632-f491-46f4-bf42-907a516bdb01",
   "metadata": {},
   "outputs": [
    {
     "name": "stdout",
     "output_type": "stream",
     "text": [
      "dc\n",
      "AAAAAAAAAAAAAAAAAAAAAAAAAAAAAAAAAAAAAAAAAAAAAAAAAAAAAAAAAAAAAAAAAAAAAAAAAAAAAAAAAAAAAAAAAAAAAAAAAAAAAAAAAAAAAAAAAAAAAAAAAAAAAAAAAAAAAAAAAAAAAAAAAAAAAAAA\n",
      "child stopped with signal 11\n",
      "[+] SIGNAL 11 errno=0 addr=0x000090c2 code=1 ret=0\n",
      "\u001b[33m[0x000090c2]>\u001b[0m \u001b[?1001r\u001b[?1000l\n"
     ]
    }
   ],
   "source": [
    "%r dc"
   ]
  },
  {
   "cell_type": "markdown",
   "id": "9086c23d-d438-4213-88a0-07bfd873ff2e",
   "metadata": {
    "tags": []
   },
   "source": [
    "# R2 Interact:"
   ]
  },
  {
   "cell_type": "code",
   "execution_count": 323,
   "id": "073b8e2e-58ec-4153-85c4-275f777d1f03",
   "metadata": {},
   "outputs": [
    {
     "name": "stdout",
     "output_type": "stream",
     "text": [
      "An r2 developer is coming to your place to manually analyze this program. Please wait for it\n",
      "\n",
      "--press any key--\n",
      "\u001b[2K\n"
     ]
    }
   ],
   "source": [
    "my_str = \"aaaaaaaaaaaaaa\"\n",
    "%ri {my_str}"
   ]
  },
  {
   "cell_type": "code",
   "execution_count": 324,
   "id": "771b4d16-6e55-4ff6-87f0-ea1abfaecd83",
   "metadata": {},
   "outputs": [
    {
     "name": "stdout",
     "output_type": "stream",
     "text": [
      "pdf\n",
      "\u001b[33mUsage: d   # Debug commands\u001b[0m00l\u001b[2K\n",
      "| db\u001b[33m[?]                    \u001b[32mBreakpoints commands\u001b[0m\n",
      "| dbt\u001b[33m[?]                   \u001b[32mDisplay backtrace based on dbg.btdepth and dbg.btalgo\u001b[0m\n",
      "| dc\u001b[33m[?]                    \u001b[32mContinue execution\u001b[0m\n",
      "| dd\u001b[33m[?]                    \u001b[32mFile descriptors (!fd in r1)\u001b[0m\n",
      "| de\u001b[33m[-sc] [perm] [rm] [e]  \u001b[32mDebug with ESIL (see de?)\u001b[0m\n",
      "| dg\u001b[33m <file>                \u001b[32mGenerate a core-file (WIP)\u001b[0m\n",
      "| dH\u001b[33m [handler]             \u001b[32mTransplant process to a new handler\u001b[0m\n",
      "| di\u001b[33m[?]                    \u001b[32mShow debugger backend information (See dh)\u001b[0m\n",
      "| dk\u001b[33m[?]                    \u001b[32mList, send, get, set, signal handlers of child\u001b[0m\n",
      "| dL\u001b[33m[?]                    \u001b[32mList or set debugger handler\u001b[0m\n",
      "| dm\u001b[33m[?]                    \u001b[32mShow memory maps\u001b[0m\n",
      "| do\u001b[33m[?]                    \u001b[32mOpen process (reload, alias for 'oo')\u001b[0m\n",
      "| doo\u001b[33m[args]                \u001b[32mReopen in debugger mode with args (alias for 'ood')\u001b[0m\n",
      "| dp\u001b[33m[?]                    \u001b[32mList, attach to process or thread id\u001b[0m\n",
      "| dr\u001b[33m[?]                    \u001b[32mCpu registers\u001b[0m\n",
      "| ds\u001b[33m[?]                    \u001b[32mStep, over, source line\u001b[0m\n",
      "| dt\u001b[33m[?]                    \u001b[32mDisplay instruction traces\u001b[0m\n",
      "| dw\u001b[33m <pid>                 \u001b[32mBlock prompt until pid dies\u001b[0m\n",
      "| dx\u001b[33m[?]                    \u001b[32mInject and run code on target process (See gs)\u001b[0m\n",
      "\u001b[33m[0x00400500]>\u001b[0m \u001b[?1001r\u001b[?1000l\n"
     ]
    }
   ],
   "source": [
    "%r pdf"
   ]
  },
  {
   "cell_type": "markdown",
   "id": "cad06ddd-c406-43a5-a24f-7a1c10b5b246",
   "metadata": {
    "tags": []
   },
   "source": [
    "# Find Target:"
   ]
  },
  {
   "cell_type": "code",
   "execution_count": 120,
   "id": "8c4d6569-e7eb-4351-8b15-077522970c6f",
   "metadata": {},
   "outputs": [
    {
     "name": "stdout",
     "output_type": "stream",
     "text": [
      "pdf @sym.normal\n",
      "Invalid address (sym.normal)sym.normal\u001b[2K\n",
      "|ERROR| Invalid command 'pdf @sym.normal' (0x70)\n",
      "\u001b[33m[0x00400595]>\u001b[0m \u001b[?1001r\u001b[?1000l\n"
     ]
    }
   ],
   "source": [
    "%r pdf @sym.normal"
   ]
  },
  {
   "cell_type": "code",
   "execution_count": 121,
   "id": "429caba0-cba8-4b6c-8c38-63fdec1e4bbb",
   "metadata": {},
   "outputs": [
    {
     "name": "stdout",
     "output_type": "stream",
     "text": [
      "pdf @sym.special\n",
      "Invalid address (sym.special)ym.special\u001b[2K\n",
      "|ERROR| Invalid command 'pdf @sym.special' (0x70)\n",
      "\u001b[33m[0x00400595]>\u001b[0m \u001b[?1001r\u001b[?1000l\n"
     ]
    }
   ],
   "source": [
    "%r pdf @sym.special"
   ]
  },
  {
   "cell_type": "markdown",
   "id": "f3023222-2118-4205-86f8-afcc105ce332",
   "metadata": {
    "tags": []
   },
   "source": [
    "# Other Notes:"
   ]
  },
  {
   "cell_type": "raw",
   "id": "a873794a-6d25-4d69-8569-c9602d010a07",
   "metadata": {},
   "source": [
    "%rsp is the stack pointer \n",
    "%rbp is a frame pointer\n",
    "\n",
    "movq $3 rax      would move the constant 3 to the register\n",
    "movq %rax %rbx   which involves moving value from rax to rbx\n",
    "movq %rax (%rbx) which means move value stored in %rax to memory location represented by %rbx"
   ]
  },
  {
   "cell_type": "raw",
   "id": "7ba49c37-0fda-45da-9f05-e01828f00828",
   "metadata": {},
   "source": [
    "(Rb, Ri) = MemoryLocation[Rb + Ri]\n",
    "D(Rb, Ri) = MemoryLocation[Rb + Ri + D]\n",
    "(Rb, Ri, S) = MemoryLocation(Rb + S * Ri]\n",
    "D(Rb, Ri, S) = MemoryLocation[Rb + S * Ri + D]"
   ]
  },
  {
   "cell_type": "raw",
   "id": "85e2f95d-22ca-4663-bee1-9003bf7460ee",
   "metadata": {},
   "source": [
    "leaq source, destination: this instruction sets destination to the address denoted by the expression in source\n",
    "addq source, destination: destination = destination + source\n",
    "subq source, destination: destination = destination - source\n",
    "imulq source, destination: destination = destination * source\n",
    "salq source, destination: destination = destination << sourc where << is the left bit shifting operator\n",
    "sarq source, destination: destination = destination >> source where >> is the right bit shifting operator\n",
    "xorq source, destination: destination = destination XOR source\n",
    "andq source, destination: destination = destination & source\n",
    "orq source, destination: destination = destination | source"
   ]
  },
  {
   "cell_type": "raw",
   "id": "e38c3297-523f-4d77-ae78-c4a4c715e379",
   "metadata": {},
   "source": [
    "aa;e asm.syntax=att; afl; pdf @main;\n",
    "\n",
    "db\n",
    "dc\n",
    "\n",
    "px@\n",
    "\n",
    "disassemble next instructions\n",
    "    pd \n",
    "    \n",
    "seek to location\n",
    "    s \n",
    "    \n",
    "quickly show current function\n",
    "    pdf \n",
    "\n",
    "get value stored at reference:\n",
    "    pxr @0x561f728459bf\n",
    "    \n",
    "show all registers:\n",
    "    drt all\n",
    "    \n",
    "Stack telescoping: (depends on architecture)\n",
    "    pxr @ esp\n",
    "    pxr @ rsp\n",
    "    pxa @ rsp - to show annotated hexdump\n",
    "    pxw @ rsp - to show hexadecimal words dump (32bit)\n",
    "    pxq @ rsp - to show hexadecimal quad-words dump (64bit)\n",
    "    ad@r:SP - to analyze the stack data\n",
    "    \n",
    "frame pointer(rbp) to point to the start of the new frame. \n",
    "\n",
    "Upto 6 arguments for functions can be stored in the following registers:\n",
    "\n",
    "rdi\n",
    "\n",
    "rsi\n",
    "\n",
    "rdx\n",
    "\n",
    "rcx\n",
    "\n",
    "r8\n",
    "\n",
    "r9\n",
    "\n",
    "\n",
    "rax is return address\n",
    "\n",
    "A NOP instruction is represented using \\x90"
   ]
  }
 ],
 "metadata": {
  "kernelspec": {
   "display_name": "Python 3 (ipykernel)",
   "language": "python",
   "name": "python3"
  },
  "language_info": {
   "codemirror_mode": {
    "name": "ipython",
    "version": 3
   },
   "file_extension": ".py",
   "mimetype": "text/x-python",
   "name": "python",
   "nbconvert_exporter": "python",
   "pygments_lexer": "ipython3",
   "version": "3.9.5"
  }
 },
 "nbformat": 4,
 "nbformat_minor": 5
}
