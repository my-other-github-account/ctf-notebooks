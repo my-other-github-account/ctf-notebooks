{
 "cells": [
  {
   "cell_type": "markdown",
   "id": "b16b8f81-0421-4ac7-830b-d43cf35f5f03",
   "metadata": {},
   "source": [
    "# R2 Overview:"
   ]
  },
  {
   "cell_type": "markdown",
   "id": "caa380e4-bfe7-46db-a9d4-1964f3fdaf44",
   "metadata": {},
   "source": [
    "Remember to do:\n",
    "\n",
    "Setup\n",
    "\n",
    "List functions, then print code for one"
   ]
  },
  {
   "cell_type": "code",
   "execution_count": 1,
   "id": "820c8e20-0efc-407f-9355-a18c4cbfe686",
   "metadata": {},
   "outputs": [
    {
     "name": "stdout",
     "output_type": "stream",
     "text": [
      "Requirement already satisfied: r2pipe in /root/miniconda/lib/python3.9/site-packages (1.6.2)\n",
      "\u001b[33mWARNING: Running pip as the 'root' user can result in broken permissions and conflicting behaviour with the system package manager. It is recommended to use a virtual environment instead: https://pip.pypa.io/warnings/venv\u001b[0m\n",
      "Note: you may need to restart the kernel to use updated packages.\n"
     ]
    }
   ],
   "source": [
    "%pip install r2pipe"
   ]
  },
  {
   "cell_type": "code",
   "execution_count": 1,
   "id": "ecc26dd7-9581-4ff8-b0bd-1ec117c6a028",
   "metadata": {},
   "outputs": [
    {
     "name": "stderr",
     "output_type": "stream",
     "text": [
      "Process with PID 4463 started...\n",
      "= attach 4463 4463\n",
      "bin.baddr 0x55668361c000\n",
      "Using 0x55668361c000\n",
      "asm.bits 64\n",
      "Warning: r_bin_file_hash: file exceeds bin.hashlimit\n",
      "\u001b[?1001r\u001b[?1000l\u001b[?1001r\u001b[?1000l"
     ]
    }
   ],
   "source": [
    "import r2pipe\n",
    "\n",
    "rp = r2pipe.open('loop2', flags=['-d'])"
   ]
  },
  {
   "cell_type": "code",
   "execution_count": 4,
   "id": "be5085a0-b9f9-44fe-96bd-a3e3a6dc508d",
   "metadata": {},
   "outputs": [],
   "source": [
    "from IPython.core.magic import (register_line_magic, register_cell_magic,\n",
    "                                register_line_cell_magic)\n",
    "@register_line_magic\n",
    "def r(line):\n",
    "    print(line)\n",
    "    print()\n",
    "    print(rp.cmd(line))\n",
    "    print(rp.cmd(\"\"))\n",
    "    return"
   ]
  },
  {
   "cell_type": "code",
   "execution_count": 5,
   "id": "13b51c14-646a-405c-90b7-f84a631befc1",
   "metadata": {},
   "outputs": [
    {
     "name": "stdout",
     "output_type": "stream",
     "text": [
      "aa;e asm.syntax=att; afl;\n",
      "\n",
      "0x55668361c4f0    1 42           entry0\n",
      "0x55668381cfe0    1 4124         reloc.__libc_start_main\n",
      "0x55668361c520    4 50   -> 40   sym.deregister_tm_clones\n",
      "0x55668361c560    4 66   -> 57   sym.register_tm_clones\n",
      "0x55668361c5b0    5 58   -> 51   entry.fini0\n",
      "0x55668361c4e0    1 6            sym.imp.__cxa_finalize\n",
      "0x55668361c5f0    1 10           entry.init0\n",
      "0x55668361c6b0    1 2            sym.__libc_csu_fini\n",
      "0x55668361c6b4    1 9            sym._fini\n",
      "0x55668361c640    4 101          sym.__libc_csu_init\n",
      "0x55668361c5fa    4 66           main\n",
      "0x55668361c4b8    3 23           sym._init\n",
      "\n",
      "0x55668361c4f0    1 42           entry0\n",
      "0x55668381cfe0    1 4124         reloc.__libc_start_main\n",
      "0x55668361c520    4 50   -> 40   sym.deregister_tm_clones\n",
      "0x55668361c560    4 66   -> 57   sym.register_tm_clones\n",
      "0x55668361c5b0    5 58   -> 51   entry.fini0\n",
      "0x55668361c4e0    1 6            sym.imp.__cxa_finalize\n",
      "0x55668361c5f0    1 10           entry.init0\n",
      "0x55668361c6b0    1 2            sym.__libc_csu_fini\n",
      "0x55668361c6b4    1 9            sym._fini\n",
      "0x55668361c640    4 101          sym.__libc_csu_init\n",
      "0x55668361c5fa    4 66           main\n",
      "0x55668361c4b8    3 23           sym._init\n",
      "\n"
     ]
    },
    {
     "name": "stderr",
     "output_type": "stream",
     "text": [
      "\u001b[?1001r\u001b[?1000l\u001b[?1001r\u001b[?1000l"
     ]
    }
   ],
   "source": [
    "%r aa;e asm.syntax=att; afl;"
   ]
  },
  {
   "cell_type": "code",
   "execution_count": 6,
   "id": "d4925339-2c39-4f04-b63c-1261c8d8050e",
   "metadata": {},
   "outputs": [
    {
     "name": "stdout",
     "output_type": "stream",
     "text": [
      "pdf @main\n",
      "\n",
      "\n",
      "            ; DATA XREF from entry0 @ 0x55668361c50d\n",
      "┌ 66: int main (int argc, char **argv, char **envp);\n",
      "│           ; var int64_t var_ch @ rbp-0xc\n",
      "│           ; var int64_t var_8h @ rbp-0x8\n",
      "│           ; var int64_t var_4h @ rbp-0x4\n",
      "│           0x55668361c5fa      55             pushq %rbp\n",
      "│           0x55668361c5fb      4889e5         movq %rsp, %rbp\n",
      "│           0x55668361c5fe      c745f4140000.  movl $0x14, var_ch      ; 20\n",
      "│           0x55668361c605      c745f8160000.  movl $0x16, var_8h      ; 22\n",
      "│           0x55668361c60c      c745fc000000.  movl $0, var_4h\n",
      "│           0x55668361c613      c745fc040000.  movl $4, var_4h\n",
      "│       ┌─< 0x55668361c61a      eb13           jmp 0x55668361c62f\n",
      "│      ┌──> 0x55668361c61c      8365f402       andl $2, var_ch\n",
      "│      ╎│   0x55668361c620      d17df8         sarl $1, var_8h\n",
      "│      ╎│   0x55668361c623      8b55fc         movl var_4h, %edx\n",
      "│      ╎│   0x55668361c626      89d0           movl %edx, %eax\n",
      "│      ╎│   0x55668361c628      01c0           addl %eax, %eax\n",
      "│      ╎│   0x55668361c62a      01d0           addl %edx, %eax\n",
      "│      ╎│   0x55668361c62c      8945fc         movl %eax, var_4h\n",
      "│      ╎│   ; CODE XREF from main @ 0x55668361c61a\n",
      "│      ╎└─> 0x55668361c62f      837dfc63       cmpl $0x63, var_4h\n",
      "│      └──< 0x55668361c633      7ee7           jle 0x55668361c61c\n",
      "│           0x55668361c635      b800000000     movl $0, %eax\n",
      "│           0x55668361c63a      5d             popq %rbp\n",
      "└           0x55668361c63b      c3             retq\n",
      "\n"
     ]
    },
    {
     "name": "stderr",
     "output_type": "stream",
     "text": [
      "\u001b[?1001r\u001b[?1000l\u001b[?1001r\u001b[?1000l"
     ]
    }
   ],
   "source": [
    "%r pdf @main"
   ]
  },
  {
   "cell_type": "markdown",
   "id": "f3023222-2118-4205-86f8-afcc105ce332",
   "metadata": {
    "jp-MarkdownHeadingCollapsed": true,
    "tags": []
   },
   "source": [
    "# Other Notes:"
   ]
  },
  {
   "cell_type": "raw",
   "id": "a873794a-6d25-4d69-8569-c9602d010a07",
   "metadata": {},
   "source": [
    "%rsp is the stack pointer \n",
    "%rbp is a frame pointer\n",
    "\n",
    "movq $3 rax      would move the constant 3 to the register\n",
    "movq %rax %rbx   which involves moving value from rax to rbx\n",
    "movq %rax (%rbx) which means move value stored in %rax to memory location represented by %rbx"
   ]
  },
  {
   "cell_type": "raw",
   "id": "7ba49c37-0fda-45da-9f05-e01828f00828",
   "metadata": {},
   "source": [
    "(Rb, Ri) = MemoryLocation[Rb + Ri]\n",
    "D(Rb, Ri) = MemoryLocation[Rb + Ri + D]\n",
    "(Rb, Ri, S) = MemoryLocation(Rb + S * Ri]\n",
    "D(Rb, Ri, S) = MemoryLocation[Rb + S * Ri + D]"
   ]
  },
  {
   "cell_type": "raw",
   "id": "85e2f95d-22ca-4663-bee1-9003bf7460ee",
   "metadata": {},
   "source": [
    "leaq source, destination: this instruction sets destination to the address denoted by the expression in source\n",
    "addq source, destination: destination = destination + source\n",
    "subq source, destination: destination = destination - source\n",
    "imulq source, destination: destination = destination * source\n",
    "salq source, destination: destination = destination << sourc where << is the left bit shifting operator\n",
    "sarq source, destination: destination = destination >> source where >> is the right bit shifting operator\n",
    "xorq source, destination: destination = destination XOR source\n",
    "andq source, destination: destination = destination & source\n",
    "orq source, destination: destination = destination | source"
   ]
  },
  {
   "cell_type": "markdown",
   "id": "0ebde03d-aaa6-4b4f-ad5b-242feddaad7e",
   "metadata": {},
   "source": [
    "# R2: Set Break Points:\n"
   ]
  },
  {
   "cell_type": "code",
   "execution_count": 15,
   "id": "a6e8b0d8-ecd9-4aff-9ba8-94bf3c18b7a5",
   "metadata": {},
   "outputs": [
    {
     "name": "stdout",
     "output_type": "stream",
     "text": [
      "db 0x55668361c63a\n",
      "\n",
      "\n",
      "\n"
     ]
    },
    {
     "name": "stderr",
     "output_type": "stream",
     "text": [
      "\u001b[?1001r\u001b[?1000l\u001b[?1001r\u001b[?1000l"
     ]
    }
   ],
   "source": [
    "%r db 0x55668361c63a"
   ]
  },
  {
   "cell_type": "code",
   "execution_count": 18,
   "id": "addc3b0b-b8ed-4d41-88e9-ce8e60cafa90",
   "metadata": {},
   "outputs": [
    {
     "name": "stdout",
     "output_type": "stream",
     "text": [
      "dc\n",
      "\n",
      "\n",
      "\n"
     ]
    },
    {
     "name": "stderr",
     "output_type": "stream",
     "text": [
      "hit breakpoint at: 55668361c63a\n",
      "\u001b[?1001r\u001b[?1000l\u001b[?1001r\u001b[?1000l"
     ]
    }
   ],
   "source": [
    "%r dc"
   ]
  },
  {
   "cell_type": "code",
   "execution_count": 19,
   "id": "b036f6a7-b3b4-414c-9e6a-583f439e8935",
   "metadata": {},
   "outputs": [
    {
     "name": "stdout",
     "output_type": "stream",
     "text": [
      "pdf @main\n",
      "\n",
      "\n",
      "            ; DATA XREF from entry0 @ 0x55668361c50d\n",
      "┌ 66: int main (int argc, char **argv, char **envp);\n",
      "│           ; var int64_t var_ch @ rbp-0xc\n",
      "│           ; var int64_t var_8h @ rbp-0x8\n",
      "│           ; var int64_t var_4h @ rbp-0x4\n",
      "│           0x55668361c5fa      55             pushq %rbp\n",
      "│           0x55668361c5fb      4889e5         movq %rsp, %rbp\n",
      "│           0x55668361c5fe      c745f4140000.  movl $0x14, var_ch      ; 20\n",
      "│           0x55668361c605      c745f8160000.  movl $0x16, var_8h      ; 22\n",
      "│           0x55668361c60c      c745fc000000.  movl $0, var_4h\n",
      "│           0x55668361c613      c745fc040000.  movl $4, var_4h\n",
      "│       ┌─< 0x55668361c61a      eb13           jmp 0x55668361c62f\n",
      "│      ┌──> 0x55668361c61c      8365f402       andl $2, var_ch\n",
      "│      ╎│   0x55668361c620      d17df8         sarl $1, var_8h\n",
      "│      ╎│   0x55668361c623      8b55fc         movl var_4h, %edx\n",
      "│      ╎│   0x55668361c626      89d0           movl %edx, %eax\n",
      "│      ╎│   0x55668361c628      01c0           addl %eax, %eax\n",
      "│      ╎│   0x55668361c62a      01d0           addl %edx, %eax\n",
      "│      ╎│   0x55668361c62c b    8945fc         movl %eax, var_4h\n",
      "│      ╎│   ; CODE XREF from main @ 0x55668361c61a\n",
      "│      ╎└─> 0x55668361c62f      837dfc63       cmpl $0x63, var_4h\n",
      "│      └──< 0x55668361c633      7ee7           jle 0x55668361c61c\n",
      "│           0x55668361c635      b800000000     movl $0, %eax\n",
      "│           ;-- rip:\n",
      "│           0x55668361c63a b    5d             popq %rbp\n",
      "└           0x55668361c63b      c3             retq\n",
      "\n"
     ]
    },
    {
     "name": "stderr",
     "output_type": "stream",
     "text": [
      "\u001b[?1001r\u001b[?1000l\u001b[?1001r\u001b[?1000l"
     ]
    }
   ],
   "source": [
    "%r pdf @main"
   ]
  },
  {
   "cell_type": "code",
   "execution_count": 21,
   "id": "f4165093-1f77-450a-b7f2-ff1ce26e1357",
   "metadata": {},
   "outputs": [
    {
     "name": "stdout",
     "output_type": "stream",
     "text": [
      "px @ rbp-0x8\n",
      "\n",
      "\n",
      "- offset -       0 1  2 3  4 5  6 7  8 9  A B  C D  E F  0123456789ABCDEF\n",
      "0x7fff8c567578  0200 0000 6c00 0000 40c6 6183 6655 0000  ....l...@.a.fU..\n",
      "0x7fff8c567588  ca5c 6ea3 bc7f 0000 7876 568c ff7f 0000  .\\n.....xvV.....\n",
      "0x7fff8c567598  0000 0000 0100 0000 fac5 6183 6655 0000  ..........a.fU..\n",
      "0x7fff8c5675a8  d957 6ea3 bc7f 0000 0000 0000 0000 0000  .Wn.............\n",
      "0x7fff8c5675b8  52db 23b4 1801 e0cd f0c4 6183 6655 0000  R.#.......a.fU..\n",
      "0x7fff8c5675c8  0000 0000 0000 0000 0000 0000 0000 0000  ................\n",
      "0x7fff8c5675d8  0000 0000 0000 0000 52db 83d3 771f d298  ........R...w...\n",
      "0x7fff8c5675e8  52db a581 0741 5498 0000 0000 0000 0000  R....AT.........\n",
      "0x7fff8c5675f8  0000 0000 0000 0000 0000 0000 0000 0000  ................\n",
      "0x7fff8c567608  0100 0000 0000 0000 7876 568c ff7f 0000  ........xvV.....\n",
      "0x7fff8c567618  8876 568c ff7f 0000 8091 8ca3 bc7f 0000  .vV.............\n",
      "0x7fff8c567628  0000 0000 0000 0000 0000 0000 0000 0000  ................\n",
      "0x7fff8c567638  f0c4 6183 6655 0000 7076 568c ff7f 0000  ..a.fU..pvV.....\n",
      "0x7fff8c567648  0000 0000 0000 0000 0000 0000 0000 0000  ................\n",
      "0x7fff8c567658  1ac5 6183 6655 0000 6876 568c ff7f 0000  ..a.fU..hvV.....\n",
      "0x7fff8c567668  1c00 0000 0000 0000 0100 0000 0000 0000  ................\n",
      "\n"
     ]
    },
    {
     "name": "stderr",
     "output_type": "stream",
     "text": [
      "\u001b[?1001r\u001b[?1000l\u001b[?1001r\u001b[?1000l"
     ]
    }
   ],
   "source": [
    "%r px @ rbp-0x8"
   ]
  },
  {
   "cell_type": "code",
   "execution_count": 10,
   "id": "7468cb77-649d-408c-a5dc-3c1454cf0862",
   "metadata": {},
   "outputs": [
    {
     "name": "stdout",
     "output_type": "stream",
     "text": [
      "ds\n",
      "\n",
      "\n"
     ]
    },
    {
     "name": "stderr",
     "output_type": "stream",
     "text": [
      "\u001b[?1001r\u001b[?1000l"
     ]
    }
   ],
   "source": [
    "%r ds"
   ]
  },
  {
   "cell_type": "code",
   "execution_count": 10,
   "id": "252ff0a9-9d23-4d01-8fef-80a0e4a65b2d",
   "metadata": {},
   "outputs": [
    {
     "name": "stdout",
     "output_type": "stream",
     "text": [
      "dc\n",
      "\n",
      "rax = 0xffffffffffffffda\n",
      "rbx = 0x7fdb70d3b610\n",
      "rcx = 0x7fdb70c46659\n",
      "rdx = 0x0000003c\n",
      "r8 = 0xffffffffffffff80\n",
      "r9 = 0x00000001\n",
      "r10 = 0x00000001\n",
      "r11 = 0x00000246\n",
      "r12 = 0x7fdb70d3b610\n",
      "r13 = 0x00000001\n",
      "r14 = 0x7fdb70d3bae8\n",
      "r15 = 0x00000000\n",
      "rsi = 0x000000e7\n",
      "rdi = 0x00000000\n",
      "rsp = 0x7fff9e019e68\n",
      "rbp = 0x00000000\n",
      "rip = 0x7fdb70c46659\n",
      "rflags = 0x00000246\n",
      "orax = 0x000000e7\n",
      "\n",
      "px @rbp-0x4\n",
      "\n",
      "\n",
      "ds\n",
      "\n",
      "- offset -           0 1  2 3  4 5  6 7  8 9  A B  C D  E F  0123456789ABCDEF\n",
      "0xfffffffffffffffc  ffff ffff ffff ffff ffff ffff ffff ffff  ................\n",
      "0x0000000c  ffff ffff ffff ffff ffff ffff ffff ffff  ................\n",
      "0x0000001c  ffff ffff ffff ffff ffff ffff ffff ffff  ................\n",
      "0x0000002c  ffff ffff ffff ffff ffff ffff ffff ffff  ................\n",
      "0x0000003c  ffff ffff ffff ffff ffff ffff ffff ffff  ................\n",
      "0x0000004c  ffff ffff ffff ffff ffff ffff ffff ffff  ................\n",
      "0x0000005c  ffff ffff ffff ffff ffff ffff ffff ffff  ................\n",
      "0x0000006c  ffff ffff ffff ffff ffff ffff ffff ffff  ................\n",
      "0x0000007c  ffff ffff ffff ffff ffff ffff ffff ffff  ................\n",
      "0x0000008c  ffff ffff ffff ffff ffff ffff ffff ffff  ................\n",
      "0x0000009c  ffff ffff ffff ffff ffff ffff ffff ffff  ................\n",
      "0x000000ac  ffff ffff ffff ffff ffff ffff ffff ffff  ................\n",
      "0x000000bc  ffff ffff ffff ffff ffff ffff ffff ffff  ................\n",
      "0x000000cc  ffff ffff ffff ffff ffff ffff ffff ffff  ................\n",
      "0x000000dc  ffff ffff ffff ffff ffff ffff ffff ffff  ................\n",
      "0x000000ec  ffff ffff ffff ffff ffff ffff ffff ffff  ................\n",
      "\n"
     ]
    },
    {
     "name": "stderr",
     "output_type": "stream",
     "text": [
      "child exited with status 0\n",
      "\n",
      "==> Process finished\n",
      "\n",
      "\u001b[?1001r\u001b[?1000l\u001b[?1001r\u001b[?1000ltrace_pc: cannot get opcode size at 0x7fdb70c46659\n",
      "Step failed\n",
      "\u001b[?1001r\u001b[?1000l"
     ]
    }
   ],
   "source": [
    "%r dc\n",
    "%r px @rbp-0x4\n",
    "%r ds"
   ]
  }
 ],
 "metadata": {
  "kernelspec": {
   "display_name": "Python 3 (ipykernel)",
   "language": "python",
   "name": "python3"
  },
  "language_info": {
   "codemirror_mode": {
    "name": "ipython",
    "version": 3
   },
   "file_extension": ".py",
   "mimetype": "text/x-python",
   "name": "python",
   "nbconvert_exporter": "python",
   "pygments_lexer": "ipython3",
   "version": "3.9.5"
  }
 },
 "nbformat": 4,
 "nbformat_minor": 5
}
