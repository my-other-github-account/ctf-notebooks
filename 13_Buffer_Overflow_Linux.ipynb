{
 "cells": [
  {
   "cell_type": "markdown",
   "id": "6b3b745e-87f2-4c92-b3ae-2b2a0134394b",
   "metadata": {},
   "source": [
    "# ASSIGNMENT"
   ]
  },
  {
   "cell_type": "markdown",
   "id": "b16b8f81-0421-4ac7-830b-d43cf35f5f03",
   "metadata": {},
   "source": [
    "# R2 Overview:"
   ]
  },
  {
   "cell_type": "markdown",
   "id": "caa380e4-bfe7-46db-a9d4-1964f3fdaf44",
   "metadata": {},
   "source": [
    "Remember to do:\n",
    "\n",
    "Setup\n",
    "\n",
    "List functions, then print code for one"
   ]
  },
  {
   "cell_type": "code",
   "execution_count": 199,
   "id": "aaa51e0d-153f-4580-8af0-455ae59fd39d",
   "metadata": {},
   "outputs": [],
   "source": [
    "# Hard to do this without ASLR disabled:\n",
    "# echo 0 | sudo tee /proc/sys/kernel/randomize_va_space\n",
    "# /etc/sysctl.d/01-disable-aslr.conf"
   ]
  },
  {
   "cell_type": "code",
   "execution_count": 4,
   "id": "5c616a6c-7ebd-4b8b-842f-cf105e13d4e3",
   "metadata": {},
   "outputs": [
    {
     "name": "stdout",
     "output_type": "stream",
     "text": [
      "brainpan.exe\n"
     ]
    }
   ],
   "source": [
    "prog_name = \"brainpan.exe\"\n",
    "ssh = False\n",
    "\n",
    "print(prog_name)"
   ]
  },
  {
   "cell_type": "code",
   "execution_count": 9,
   "id": "f58968a8-f5bc-4679-9325-cf82c22576f5",
   "metadata": {},
   "outputs": [],
   "source": [
    "!chmod 777 {prog_name}"
   ]
  },
  {
   "cell_type": "code",
   "execution_count": 10,
   "id": "08440346-e588-45d2-9ec8-fef8c8f42a93",
   "metadata": {},
   "outputs": [],
   "source": [
    "import pexpect\n",
    "import sys\n",
    "import time\n",
    "\n",
    "from IPython.core.magic import (register_line_magic, register_cell_magic,\n",
    "                                register_line_cell_magic)\n",
    "\n",
    "\n",
    "ip_addr = '10.10.214.213'\n",
    "command = 'r2 -d ' + prog_name\n",
    "if ssh:\n",
    "    rp = pexpect.spawnu('ssh user1@%s' % ip_addr, encoding='utf-8')\n",
    "else:\n",
    "    rp = pexpect.spawnu(command, encoding='utf-8')\n",
    "\n",
    "@register_line_magic\n",
    "def r(line):\n",
    "    print(line)\n",
    "    rp.sendline(line)\n",
    "    time.sleep(.5)\n",
    "    end = \"\"\n",
    "    while not \"]>\" in end:\n",
    "        read = rp.read_nonblocking(100000)\n",
    "        print(read)\n",
    "        end = read[-50:]\n",
    "\n",
    "@register_line_magic\n",
    "def ro(line):\n",
    "    print(rp.read_nonblocking(100000))\n",
    "\n",
    "@register_line_magic\n",
    "def ri(line):\n",
    "    rp.sendline(line)\n",
    "    time.sleep(.5)\n",
    "    print(rp.read_nonblocking(100000))"
   ]
  },
  {
   "cell_type": "code",
   "execution_count": 11,
   "id": "64676348-71ef-483f-949e-98f5b7183a7a",
   "metadata": {},
   "outputs": [],
   "source": [
    "if ssh:\n",
    "    %ri user1password"
   ]
  },
  {
   "cell_type": "code",
   "execution_count": 12,
   "id": "fa610fa1-7f5b-47c1-b4aa-ce69ac326288",
   "metadata": {},
   "outputs": [],
   "source": [
    "if ssh:\n",
    "    %ri {command}"
   ]
  },
  {
   "cell_type": "code",
   "execution_count": 13,
   "id": "ca9c02b5-b367-4a25-8c4d-6526a6eba610",
   "metadata": {},
   "outputs": [
    {
     "name": "stdout",
     "output_type": "stream",
     "text": [
      "aa;e asm.syntax=att; afl;\n",
      "Process with PID 2760 started...\n",
      "= attach 2760 2760\n",
      "bin.baddr 0x55b7034bb000\n",
      "Using 0x55b7034bb000\n",
      "asm.bits 64\n",
      "Warning: r_bin_file_hash: file exceeds bin.hashlimit\n",
      "[\u001b[0m[33mAnalyze all flags starting with sym. and entry0 (aa)\n",
      "\u001b[32m[x]\u001b[0m Analyze all flags starting with sym. and entry0 (aa)\n",
      "\u001b[2K\n",
      "0x55b7034bf760    1 42           entry0\n",
      "0x55b7034d8fc0    1 96           reloc.__libc_start_main\n",
      "0x55b7034bf030    1 6            sym.imp.sigprocmask\n",
      "0x55b7034bf040    1 6            sym.imp.raise\n",
      "0x55b7034bf050    1 6            sym.imp.free\n",
      "0x55b7034bf060    1 6            sym.imp.strcasecmp\n",
      "0x55b7034bf070    1 6            sym.imp.abort\n",
      "0x55b7034bf080    1 6            sym.imp.__errno_location\n",
      "0x55b7034bf090    1 6            sym.imp._exit\n",
      "0x55b7034bf0a0    1 6            sym.imp.strcpy\n",
      "0x55b7034bf0b0    1 6            sym.imp.qsort\n",
      "0x55b7034bf0c0    1 6            sym.imp.isatty\n",
      "0x55b7034bf0d0    1 6            sym.imp.sigaction\n",
      "0x55b7034bf0e0    1 6            sym.imp.strtod\n",
      "0x55b7034bf0f0    1 6            sym.imp.strchrnul\n",
      "0x55b7034bf100    1 6            sym.imp.faccessat\n",
      "0x55b7034bf110    1 6            sym.imp.fcntl\n",
      "0x55b7034bf120    1 6            sym.imp.write\n",
      "0x55b7034bf130    1 6            sym.imp.getpid\n",
      "0x55b7034bf140    1 6            sym.imp.__strtol_internal\n",
      "0x55b7034bf150    1 6            sym.imp.__xstat64\n",
      "0x55b7034bf160    1 6            sym.imp.wait3\n",
      "0x55b7034bf170    1 6            sym.imp.opendir\n",
      "\n",
      "0x55b7034bf180    1 6            sym.imp.stpcpy\n",
      "0x55b7034bf190    1 6            sym.imp.strlen\n",
      "0x55b7034bf1a0    1 6            sym.imp.chdir\n",
      "0x55b7034bf1b0    1 6            sym.imp.__stack_chk_fail\n",
      "0x55b7034bf1c0    1 6            sym.imp.getuid\n",
      "0x55b7034bf1d0    1 6            sym.imp.dup2\n",
      "0x55b7034bf1e0    1 6            sym.imp.strchr\n",
      "0x55b7034bf1f0    1 6            sym.imp.__strtoul_internal\n",
      "0x55b7034bf200    1 6            sym.imp.fnmatch\n",
      "0x55b7034bf210    1 6            sym.imp.memset\n",
      "0x55b7034bf220    1 6            sym.imp.geteuid\n",
      "0x55b7034bf230    1 6            sym.imp.getcwd\n",
      "0x55b7034bf240    1 6            sym.imp.close\n",
      "0x55b7034bf250    1 6            sym.imp.pipe\n",
      "0x55b7034bf260    1 6            sym.imp.strspn\n",
      "0x55b7034bf270    1 6            sym.imp.closedir\n",
      "0x55b7034bf280    1 6            sym.imp.strcspn\n",
      "0x55b7034bf290    1 6            sym.imp.read\n",
      "0x55b7034bb000    3 305  -> 298  loc.imp._ITM_deregisterTMCloneTable\n",
      "0x55b7034bf2a0    1 6            sym.imp._setjmp\n",
      "0x55b7034bf2b0    1 6            sym.imp.execve\n",
      "0x55b7034bf2c0    1 6            sym.imp.__fxstat64\n",
      "0x55b7034bf2d0    1 6            sym.imp.strcmp\n",
      "0x55b7034bf2e0    1 6            sym.imp.signal\n",
      "0x55b7034bf2f0    1 6            sym.imp.getpwnam\n",
      "0x55b7034bf300    1 6            sym.imp.umask\n",
      "0x55b7034bf310    1 6            sym.imp.strtol\n",
      "0x55b7034bf320    1 6            sym.imp.sigfillset\n",
      "0x55b7034bf330    1 6            sym.imp.memcpy\n",
      "0x55b7034bf340    1 6            sym.imp.kill\n",
      "0x55b7034bf350    1 6            sym.imp.getgid\n",
      "0x55b7034bf360    1 6            sym.imp.tcgetpgrp\n",
      "0x55b7034bf370    1 6            sym.imp.__xstat\n",
      "0x55b7034bf380    1 6            sym.imp.readdir\n",
      "0x55b7034bf390    1 6            sym.imp.malloc\n",
      "0x55b7034bf3a0    1 6            sym.imp.killpg\n",
      "0x55b7034bf3b0    1 6            sym.imp.getegid\n",
      "0x55b7034bf3c0    1 6            sym.imp.strpbrk\n",
      "0x55b7034bf3d0    1 6            sym.imp.sigsuspend\n",
      "0x55b7034bf3e0    1 6            sym.imp.__vsnprintf_chk\n",
      "0x55b7034bf3f0    1 6            sym.imp.setrlimit\n",
      "0x55b7034bf400    1 6            sym.imp.strsignal\n",
      "0x55b7034bf410    1 6            sym.imp.realloc\n",
      "0x55b7034bf420    1 6            sym.imp.stpncpy\n",
      "0x55b7034bf430    1 6            sym.imp.sigsetmask\n",
      "0x55b7034bf440    1 6            sym.imp.__longjmp_chk\n",
      "0x55b7034bf450    1 6            sym.imp.open64\n",
      "0x55b7034bf460    1 6            sym.imp.mempcpy\n",
      "0x55b7034bf470    1 6            sym.imp.memmove\n",
      "0x55b7034bf480    1 6            sym.imp.setgid\n",
      "0x55b7034bf490    1 6            sym.imp.getpgrp\n",
      "0x55b7034bf4a0    1 6            sym.imp.tcsetpgrp\n",
      "0x55b7034bf4b0    1 6            sym.imp.open\n",
      "0x55b7034bf4c0    1 6            sym.imp.times\n",
      "0x55b7034bf4d0    1 6            sym.imp.strtok\n",
      "0x55b7034bf4e0    1 6            sym.imp.sysconf\n",
      "0x55b7034bf4f0    1 6            sym.imp.__lxstat64\n",
      "0x55b7034bf500    1 6            sym.imp.setpgid\n",
      "0x55b7034bf510    1 6            sym.imp.getppid\n",
      "0x55b7034bf520    1 6            sym.imp.getrlimit\n",
      "0x55b7034bf530    1 6            sym.imp.setuid\n",
      "0x55b7034bf540    1 6            sym.imp.strdup\n",
      "0x55b7034bf550    1 6            sym.imp.strerror\n",
      "0x55b7034bf560    1 6            sym.imp.fork\n",
      "0x55b7034bf570    1 6            sym.imp.__ctype_b_loc\n",
      "0x55b7034bf590   25 464          main\n",
      "0x55b7034bf840    5 133  -> 56   entry.init0\n",
      "0x55b7034bf800    5 57   -> 50   entry.fini0\n",
      "0x55b7034bf580    1 6            fcn.55b7034bf580\n",
      "0x55b7034bf790    4 41   -> 34   fcn.55b7034bf790\n",
      "\n",
      "\u001b[33m[0x7f1d6d0d7090]>\u001b[0m \u001b[?1001r\u001b[?1000l\n"
     ]
    }
   ],
   "source": [
    "%r aa;e asm.syntax=att; afl;"
   ]
  },
  {
   "cell_type": "code",
   "execution_count": 15,
   "id": "d4925339-2c39-4f04-b63c-1261c8d8050e",
   "metadata": {},
   "outputs": [
    {
     "name": "stdout",
     "output_type": "stream",
     "text": [
      "pdf @main\n",
      "            \u001b[31m\u001b[31m; DATA XREF from entry0 @ \u001b[31m0x55b7034bf77d\u001b[31m\u001b[0m\n",
      "            \u001b[36m;-- section..text:\u001b[0m\n",
      "\u001b[36m┌\u001b[0m 464: int \u001b[31mmain\u001b[0m (int argc, char **argv, char **envp);\n",
      "\u001b[36m│\u001b[0m           \u001b[37m; \u001b[37mvar \u001b[34mint64_t var_114h \u001b[36m@ rsp+0x4\u001b[0m\n",
      "\u001b[36m│\u001b[0m           \u001b[37m; \u001b[37mvar \u001b[34mint64_t var_110h \u001b[36m@ rsp+0x8\u001b[0m\n",
      "\u001b[36m│\u001b[0m           \u001b[37m; \u001b[37mvar \u001b[34mint64_t var_fch \u001b[36m@ rsp+0x1c\u001b[0m\n",
      "\u001b[36m│\u001b[0m           \u001b[37m; \u001b[37mvar \u001b[34mint64_t var_f8h \u001b[36m@ rsp+0x20\u001b[0m\n",
      "\u001b[36m│\u001b[0m           \u001b[37m; \u001b[37mvar \u001b[34mint64_t var_d8h \u001b[36m@ rsp+0x40\u001b[0m\n",
      "\u001b[36m│\u001b[0m           \u001b[37m; \u001b[37mvar \u001b[34mint64_t var_10h \u001b[36m@ rsp+0x108\u001b[0m\n",
      "\u001b[36m│\u001b[0m           \u001b[37m; \u001b[37marg \u001b[34mint argc \u001b[36m@ rdi\u001b[0m\n",
      "\u001b[36m│\u001b[0m           \u001b[37m; \u001b[37marg \u001b[34mchar **argv \u001b[36m@ rsi\u001b[0m\n",
      "\u001b[36m│\u001b[0m           \u001b[32m0x55b7034bf590\u001b[0m      \u001b[33m53\u001b[0m             \u001b[35mpushq\u001b[36m \u001b[0m%\u001b[36mrbx\u001b[0m\u001b[0m\u001b[0m              \u001b[37m; [14] -r-x section size 71793 named .text\u001b[0m\n",
      "\u001b[36m│\u001b[0m           \u001b[32m0x55b7034bf591\u001b[0m      \u001b[33m48\u001b[37m81\u001b[37mec\u001b[37m10\u001b[37m01\u001b[32m00\u001b[37m.\u001b[0m  \u001b[33msubq\u001b[36m $\u001b[33m0x110\u001b[0m,\u001b[36m\u001b[36m \u001b[0m%\u001b[36mrsp\u001b[0m\u001b[0m\u001b[0m\n",
      "\u001b[36m│\u001b[0m           \u001b[32m0x55b7034bf598\u001b[0m      \u001b[37m89\u001b[33m7c\u001b[33m24\u001b[37m04\u001b[0m       \u001b[37mmovl\u001b[36m \u001b[0m%\u001b[36medi\u001b[0m,\u001b[36m\u001b[36m var_114h\u001b[0m\u001b[0m\u001b[0m     \u001b[34m; argc\u001b[0m\n",
      "\u001b[36m│\u001b[0m           \u001b[32m0x55b7034bf59c\u001b[0m      \u001b[33m48\u001b[37m89\u001b[33m74\u001b[33m24\u001b[37m08\u001b[0m     \u001b[37mmovq\u001b[36m \u001b[0m%\u001b[36mrsi\u001b[0m,\u001b[36m\u001b[36m var_110h\u001b[0m\u001b[0m\u001b[0m     \u001b[34m; argv\u001b[0m\n",
      "\u001b[36m│\u001b[0m           \u001b[32m0x55b7034bf5a1\u001b[0m      \u001b[33m64\u001b[33m48\u001b[37m8b\u001b[37m04\u001b[33m25\u001b[33m28\u001b[37m.\u001b[0m  \u001b[37mmovq\u001b[36m \u001b[0m%\u001b[36mfs:0x28\u001b[0m,\u001b[36m\u001b[36m \u001b[0m%\u001b[36mrax\u001b[0m\u001b[0m\u001b[0m\n",
      "\u001b[36m│\u001b[0m           \u001b[32m0x55b7034bf5aa\u001b[0m      \u001b[33m48\u001b[37m89\u001b[37m84\u001b[33m24\u001b[37m08\u001b[37m01\u001b[37m.\u001b[0m  \u001b[37mmovq\u001b[36m \u001b[0m%\u001b[36mrax\u001b[0m,\u001b[36m\u001b[36m var_10h\u001b[0m\u001b[0m\u001b[0m\n",
      "\u001b[36m│\u001b[0m           \u001b[32m0x55b7034bf5b2\u001b[0m      \u001b[33m31\u001b[37mc0\u001b[0m           \u001b[36mxorl\u001b[36m \u001b[0m%\u001b[36meax\u001b[0m,\u001b[36m\u001b[36m \u001b[0m%\u001b[36meax\u001b[0m\u001b[0m\u001b[0m\n",
      "\u001b[36m│\u001b[0m           \u001b[32m0x55b7034bf5b4\u001b[0m      \u001b[37me8\u001b[37mc7\u001b[37mfa\u001b[31mff\u001b[31mff\u001b[0m     \u001b[1;92mcallq sym.imp.__errno_location\u001b[0m\u001b[0m\n",
      "\u001b[36m│\u001b[0m           \u001b[32m0x55b7034bf5b9\u001b[0m      \u001b[33m48\u001b[37m89\u001b[37m05\u001b[37mf0\u001b[37mc4\u001b[37m01\u001b[37m.\u001b[0m  \u001b[37mmovq\u001b[36m \u001b[0m%\u001b[36mrax\u001b[0m,\u001b[36m\u001b[36m \u001b[33m0x55b7034dbab0\u001b[0m\u001b[0m\u001b[31m ; [0x55b7034dbab0:8]=0\u001b[0m\n",
      "\u001b[36m│\u001b[0m           \u001b[32m0x55b7034bf5c0\u001b[0m      \u001b[37me8\u001b[37mfb\u001b[37mfb\u001b[31mff\u001b[31mff\u001b[0m     \u001b[1;92mcallq sym.imp.getuid\u001b[0m\u001b[0m\u001b[31m    ; uid_t getuid(void)\u001b[0m\n",
      "\u001b[36m│\u001b[0m           \u001b[32m0x55b7034bf5c5\u001b[0m      \u001b[37m89\u001b[37m05\u001b[37mb1\u001b[37mc7\u001b[37m01\u001b[32m00\u001b[0m   \u001b[37mmovl\u001b[36m \u001b[0m%\u001b[36meax\u001b[0m,\u001b[36m\u001b[36m \u001b[33m0x55b7034dbd7c\u001b[0m\u001b[0m\u001b[31m ; [0x55b7034dbd7c:4]=0\u001b[0m\n",
      "\u001b[36m│\u001b[0m           \u001b[32m0x55b7034bf5cb\u001b[0m      \u001b[37me8\u001b[37m80\u001b[37mfd\u001b[31mff\u001b[31mff\u001b[0m     \u001b[1;92mcallq sym.imp.getgid\u001b[0m\u001b[0m\n",
      "\u001b[36m│\u001b[0m           \u001b[32m0x55b7034bf5d0\u001b[0m      \u001b[33m48\u001b[37m8d\u001b[33m7c\u001b[33m24\u001b[33m40\u001b[0m     \u001b[37mleaq\u001b[36m var_d8h\u001b[0m,\u001b[36m\u001b[36m \u001b[0m%\u001b[36mrdi\u001b[0m\u001b[0m\u001b[0m\n",
      "\u001b[36m│\u001b[0m           \u001b[32m0x55b7034bf5d5\u001b[0m      \u001b[37mc7\u001b[33m44\u001b[33m24\u001b[37m1c\u001b[32m00\u001b[32m00\u001b[37m.\u001b[0m  \u001b[37mmovl\u001b[36m $0\u001b[0m,\u001b[36m\u001b[36m var_fch\u001b[0m\u001b[0m\u001b[0m\n",
      "\u001b[36m│\u001b[0m           \u001b[32m0x55b7034bf5dd\u001b[0m      \u001b[37m89\u001b[37m05\u001b[37m95\u001b[37mc7\u001b[37m01\u001b[32m00\u001b[0m   \u001b[37mmovl\u001b[36m \u001b[0m%\u001b[36meax\u001b[0m,\u001b[36m\u001b[36m \u001b[33m0x55b7034dbd78\u001b[0m\u001b[0m\u001b[31m ; [0x55b7034dbd78:4]=0\u001b[0m\n",
      "\u001b[36m│\u001b[0m           \u001b[32m0x55b7034bf5e3\u001b[0m      \u001b[37me8\u001b[37mb8\u001b[37mfc\u001b[31mff\u001b[31mff\u001b[0m     \u001b[1;92mcallq sym.imp._setjmp\u001b[0m\u001b[0m\u001b[31m   ; int setjmp(jmpbuf env)\u001b[0m\n",
      "\u001b[36m│\u001b[0m           \u001b[32m0x55b7034bf5e8\u001b[0m      \u001b[37m85\u001b[37mc0\u001b[0m           \u001b[36mtestl\u001b[36m \u001b[0m%\u001b[36meax\u001b[0m,\u001b[36m\u001b[36m \u001b[0m%\u001b[36meax\u001b[0m\u001b[0m\u001b[0m\n",
      "\u001b[36m│\u001b[0m       \u001b[36m┌\u001b[0m\u001b[36m─\u001b[0m\u001b[36m<\u001b[0m \u001b[32m0x55b7034bf5ea\u001b[0m      \u001b[37m0f\u001b[37m85\u001b[37mac\u001b[32m00\u001b[32m00\u001b[32m00\u001b[0m   \u001b[32mjne 0x55b7034bf69c\u001b[0m\u001b[0m\n",
      "\u001b[36m│\u001b[0m       \u001b[36m│\u001b[0m   \u001b[32m0x55b7034bf5f0\u001b[0m      \u001b[33m48\u001b[37m8d\u001b[33m44\u001b[33m24\u001b[33m40\u001b[0m     \u001b[37mleaq\u001b[36m var_d8h\u001b[0m,\u001b[36m\u001b[36m \u001b[0m%\u001b[36mrax\u001b[0m\u001b[0m\u001b[0m\n",
      "\u001b[36m│\u001b[0m       \u001b[36m│\u001b[0m   \u001b[32m0x55b7034bf5f5\u001b[0m      \u001b[33m48\u001b[37m89\u001b[37m05\u001b[37mb4\u001b[37ma3\u001b[37m01\u001b[37m.\u001b[0m  \u001b[37mmovq\u001b[36m \u001b[0m%\u001b[36mrax\u001b[0m,\u001b[36m\u001b[36m \u001b[33m0x55b7034d99b0\u001b[0m\u001b[0m\u001b[31m ; [0x55b7034d99b0:8]=0\u001b[0m\n",
      "\u001b[36m│\u001b[0m       \u001b[36m│\u001b[0m   \u001b[32m0x55b7034bf5fc\u001b[0m      \u001b[37me8\u001b[33m2f\u001b[37mfb\u001b[31mff\u001b[31mff\u001b[0m     \u001b[1;92mcallq sym.imp.getpid\u001b[0m\u001b[0m\u001b[31m    ; int getpid(void)\u001b[0m\n",
      "\u001b[36m│\u001b[0m       \u001b[36m│\u001b[0m   \u001b[32m0x55b7034bf601\u001b[0m      \u001b[37m89\u001b[37m05\u001b[37mb5\u001b[37mc4\u001b[37m01\u001b[32m00\u001b[0m   \u001b[37mmovl\u001b[36m \u001b[0m%\u001b[36meax\u001b[0m,\u001b[36m\u001b[36m \u001b[33m0x55b7034dbabc\u001b[0m\u001b[0m\u001b[31m ; [0x55b7034dbabc:4]=0\u001b[0m\n",
      "\u001b[36m│\u001b[0m       \u001b[36m│\u001b[0m   \u001b[32m0x55b7034bf607\u001b[0m      \u001b[37me8\u001b[37m04\u001b[37m11\u001b[37m01\u001b[32m00\u001b[0m     \u001b[1;92mcallq 0x55b7034d0710\u001b[0m\u001b[0m\n",
      "\u001b[36m│\u001b[0m       \u001b[36m│\u001b[0m   \u001b[32m0x55b7034bf60c\u001b[0m      \u001b[33m48\u001b[37m8d\u001b[33m7c\u001b[33m24\u001b[33m20\u001b[0m     \u001b[37mleaq\u001b[36m var_f8h\u001b[0m,\u001b[36m\u001b[36m \u001b[0m%\u001b[36mrdi\u001b[0m\u001b[0m\u001b[0m\n",
      "\u001b[36m│\u001b[0m       \u001b[36m│\u001b[0m   \u001b[32m0x55b7034bf611\u001b[0m      \u001b[37me8\u001b[37mca\u001b[37m91\u001b[32m00\u001b[32m00\u001b[0m     \u001b[1;92mcallq 0x55b7034c87e0\u001b[0m\u001b[0m\n",
      "\u001b[36m│\u001b[0m       \u001b[36m│\u001b[0m   \u001b[32m0x55b7034bf616\u001b[0m      \u001b[33m48\u001b[37m8b\u001b[33m74\u001b[33m24\u001b[37m08\u001b[0m     \u001b[37mmovq\u001b[36m var_110h\u001b[0m,\u001b[36m\u001b[36m \u001b[0m%\u001b[36mrsi\u001b[0m\u001b[0m\u001b[0m\n",
      "\u001b[36m│\u001b[0m       \u001b[36m│\u001b[0m   \u001b[32m0x55b7034bf61b\u001b[0m      \u001b[37m8b\u001b[33m7c\u001b[33m24\u001b[37m04\u001b[0m       \u001b[37mmovl\u001b[36m var_114h\u001b[0m,\u001b[36m\u001b[36m \u001b[0m%\u001b[36medi\u001b[0m\u001b[0m\u001b[0m\n",
      "\u001b[36m│\u001b[0m       \u001b[36m│\u001b[0m   \u001b[32m0x55b7034bf61f\u001b[0m      \u001b[37me8\u001b[37m1c\u001b[37ma7\u001b[32m00\u001b[32m00\u001b[0m     \u001b[1;92mcallq 0x55b7034c9d40\u001b[0m\u001b[0m\n",
      "\u001b[36m│\u001b[0m       \u001b[36m│\u001b[0m   \u001b[32m0x55b7034bf624\u001b[0m      \u001b[37m85\u001b[37mc0\u001b[0m           \u001b[36mtestl\u001b[36m \u001b[0m%\u001b[36meax\u001b[0m,\u001b[36m\u001b[36m \u001b[0m%\u001b[36meax\u001b[0m\u001b[0m\u001b[0m\n",
      "\u001b[36m│\u001b[0m      \u001b[36m┌\u001b[0m\u001b[36m─\u001b[0m\u001b[36m─\u001b[0m\u001b[36m<\u001b[0m \u001b[32m0x55b7034bf626\u001b[0m      \u001b[37m0f\u001b[37m85\u001b[37mf3\u001b[32m00\u001b[32m00\u001b[32m00\u001b[0m   \u001b[32mjne 0x55b7034bf71f\u001b[0m\u001b[0m\n",
      "\u001b[36m│\u001b[0m      \u001b[36m│\u001b[0m\u001b[36m│\u001b[0m   \u001b[31m\u001b[31m; CODE XREF from main @ \u001b[31m0x55b7034bf747\u001b[31m\u001b[0m\n",
      "\u001b[36m│\u001b[0m    \u001b[34m┌\u001b[0m\u001b[34m┌\u001b[0m\u001b[34m─\u001b[0m\u001b[34m─\u001b[0m\u001b[34m─\u001b[0m\u001b[34m>\u001b[0m \u001b[32m0x55b7034bf62c\u001b[0m      \u001b[37m80\u001b[33m3d\u001b[37mb0\u001b[37mc6\u001b[37m01\u001b[32m00\u001b[37m.\u001b[0m  \u001b[36mcmpb\u001b[36m $0\u001b[0m,\u001b[36m\u001b[36m \u001b[33m0x55b7034dbce3\u001b[0m\u001b[0m\u001b[31m ; [0x55b7034dbce3:1]=0\u001b[0m\n",
      "\u001b[36m│\u001b[0m    \u001b[34m╎\u001b[0m\u001b[34m╎\u001b[0m\u001b[36m│\u001b[0m\u001b[36m│\u001b[0m   \u001b[32m0x55b7034bf633\u001b[0m      \u001b[37mc7\u001b[33m44\u001b[33m24\u001b[37m1c\u001b[37m03\u001b[32m00\u001b[37m.\u001b[0m  \u001b[37mmovl\u001b[36m $3\u001b[0m,\u001b[36m\u001b[36m var_fch\u001b[0m\u001b[0m\u001b[0m\n",
      "\u001b[36m│\u001b[0m   \u001b[36m┌\u001b[0m\u001b[36m─\u001b[0m\u001b[36m─\u001b[0m\u001b[36m─\u001b[0m\u001b[36m─\u001b[0m\u001b[36m─\u001b[0m\u001b[36m<\u001b[0m \u001b[32m0x55b7034bf63b\u001b[0m      \u001b[33m74\u001b[37m1a\u001b[0m           \u001b[32mje 0x55b7034bf657\u001b[0m\u001b[0m\n",
      "\u001b[36m│\u001b[0m   \u001b[36m│\u001b[0m\u001b[34m╎\u001b[0m\u001b[34m╎\u001b[0m\u001b[36m│\u001b[0m\u001b[36m│\u001b[0m   \u001b[32m0x55b7034bf63d\u001b[0m      \u001b[33m48\u001b[37m8d\u001b[33m3d\u001b[37mc3\u001b[33m23\u001b[37m01\u001b[37m.\u001b[0m  \u001b[37mleaq\u001b[36m \u001b[33m0x55b7034d1a07\u001b[0m,\u001b[36m\u001b[36m \u001b[0m%\u001b[36mrdi\u001b[0m\u001b[0m\u001b[31m ; \"ENV\"\u001b[0m\n",
      "\u001b[36m│\u001b[0m   \u001b[36m│\u001b[0m\u001b[34m╎\u001b[0m\u001b[34m╎\u001b[0m\u001b[36m│\u001b[0m\u001b[36m│\u001b[0m   \u001b[32m0x55b7034bf644\u001b[0m      \u001b[37me8\u001b[37m07\u001b[37m08\u001b[37m01\u001b[32m00\u001b[0m     \u001b[1;92mcallq 0x55b7034cfe50\u001b[0m\u001b[0m\n",
      "\u001b[36m│\u001b[0m   \u001b[36m│\u001b[0m\u001b[34m╎\u001b[0m\u001b[34m╎\u001b[0m\u001b[36m│\u001b[0m\u001b[36m│\u001b[0m   \u001b[32m0x55b7034bf649\u001b[0m      \u001b[33m48\u001b[37m85\u001b[37mc0\u001b[0m         \u001b[36mtestq\u001b[36m \u001b[0m%\u001b[36mrax\u001b[0m,\u001b[36m\u001b[36m \u001b[0m%\u001b[36mrax\u001b[0m\u001b[0m\u001b[0m\n",
      "\u001b[36m│\u001b[0m  \u001b[36m┌\u001b[0m\u001b[36m─\u001b[0m\u001b[36m─\u001b[0m\u001b[36m─\u001b[0m\u001b[36m─\u001b[0m\u001b[36m─\u001b[0m\u001b[36m─\u001b[0m\u001b[36m<\u001b[0m \u001b[32m0x55b7034bf64c\u001b[0m      \u001b[33m74\u001b[37m09\u001b[0m           \u001b[32mje 0x55b7034bf657\u001b[0m\u001b[0m\n",
      "\u001b[36m│\u001b[0m  \u001b[36m│\u001b[0m\u001b[36m│\u001b[0m\u001b[34m╎\u001b[0m\u001b[34m╎\u001b[0m\u001b[36m│\u001b[0m\u001b[36m│\u001b[0m   \u001b[32m0x55b7034bf64e\u001b[0m      \u001b[37m80\u001b[33m38\u001b[32m00\u001b[0m         \u001b[36mcmpb\u001b[36m $0\u001b[0m,\u001b[36m\u001b[36m \u001b[36m0\u001b[0m(\u001b[36m\u001b[0m%\u001b[36mrax\u001b[0m)\u001b[36m\u001b[0m\u001b[0m\u001b[0m\n",
      "\u001b[36m│\u001b[0m \u001b[36m┌\u001b[0m\u001b[36m─\u001b[0m\u001b[36m─\u001b[0m\u001b[36m─\u001b[0m\u001b[36m─\u001b[0m\u001b[36m─\u001b[0m\u001b[36m─\u001b[0m\u001b[36m─\u001b[0m\u001b[36m<\u001b[0m \u001b[32m0x55b7034bf651\u001b[0m      \u001b[37m0f\u001b[37m85\u001b[37mf5\u001b[32m00\u001b[32m00\u001b[32m00\u001b[0m   \u001b[32mjne 0x55b7034bf74c\u001b[0m\u001b[0m\n",
      "\u001b[36m│\u001b[0m \u001b[36m│\u001b[0m\u001b[36m│\u001b[0m\u001b[36m│\u001b[0m\u001b[34m╎\u001b[0m\u001b[34m╎\u001b[0m\u001b[36m│\u001b[0m\u001b[36m│\u001b[0m   \u001b[31m\u001b[31m; CODE XREF from main @ \u001b[31m0x55b7034bf754\u001b[31m\u001b[0m\n",
      "\u001b[36m│\u001b[0m \u001b[34m─\u001b[0m\u001b[36m└\u001b[0m\u001b[36m└\u001b[0m\u001b[36m─\u001b[0m\u001b[36m─\u001b[0m\u001b[36m─\u001b[0m\u001b[36m─\u001b[0m\u001b[36m─\u001b[0m\u001b[36m>\u001b[0m \u001b[32m0x55b7034bf657\u001b[0m      \u001b[33m48\u001b[37m8d\u001b[33m7c\u001b[33m24\u001b[33m20\u001b[0m     \u001b[37mleaq\u001b[36m var_f8h\u001b[0m,\u001b[36m\u001b[36m \u001b[0m%\u001b[36mrdi\u001b[0m\u001b[0m\u001b[0m\n",
      "\u001b[36m│\u001b[0m \u001b[36m│\u001b[0m  \u001b[34m╎\u001b[0m\u001b[34m╎\u001b[0m\u001b[36m│\u001b[0m\u001b[36m│\u001b[0m   \u001b[32m0x55b7034bf65c\u001b[0m      \u001b[37me8\u001b[37mcf\u001b[37m91\u001b[32m00\u001b[32m00\u001b[0m     \u001b[1;92mcallq 0x55b7034c8830\u001b[0m\u001b[0m\n",
      "\u001b[36m│\u001b[0m \u001b[36m│\u001b[0m \u001b[34m┌\u001b[0m\u001b[34m─\u001b[0m\u001b[34m─\u001b[0m\u001b[34m─\u001b[0m\u001b[34m─\u001b[0m\u001b[34m─\u001b[0m\u001b[34m>\u001b[0m \u001b[32m0x55b7034bf661\u001b[0m      \u001b[33m48\u001b[37m8b\u001b[33m3d\u001b[37mc0\u001b[37mc6\u001b[37m01\u001b[37m.\u001b[0m  \u001b[37mmovq\u001b[36m \u001b[33m0x55b7034dbd28\u001b[0m,\u001b[36m\u001b[36m \u001b[0m%\u001b[36mrdi\u001b[0m\u001b[0m\u001b[31m ; [0x55b7034dbd28:8]=0\u001b[0m\n",
      "\u001b[36m│\u001b[0m \u001b[36m│\u001b[0m \u001b[34m╎\u001b[0m\u001b[34m╎\u001b[0m\u001b[34m╎\u001b[0m\u001b[36m│\u001b[0m\u001b[36m│\u001b[0m   \u001b[32m0x55b7034bf668\u001b[0m      \u001b[37mc7\u001b[33m44\u001b[33m24\u001b[37m1c\u001b[37m04\u001b[32m00\u001b[37m.\u001b[0m  \u001b[37mmovl\u001b[36m $4\u001b[0m,\u001b[36m\u001b[36m var_fch\u001b[0m\u001b[0m\u001b[0m\n",
      "\u001b[36m│\u001b[0m \u001b[36m│\u001b[0m \u001b[34m╎\u001b[0m\u001b[34m╎\u001b[0m\u001b[34m╎\u001b[0m\u001b[36m│\u001b[0m\u001b[36m│\u001b[0m   \u001b[32m0x55b7034bf670\u001b[0m      \u001b[33m48\u001b[37m85\u001b[31mff\u001b[0m         \u001b[36mtestq\u001b[36m \u001b[0m%\u001b[36mrdi\u001b[0m,\u001b[36m\u001b[36m \u001b[0m%\u001b[36mrdi\u001b[0m\u001b[0m\u001b[0m\n",
      "\u001b[36m│\u001b[0m \u001b[36m│\u001b[0m\u001b[36m┌\u001b[0m\u001b[36m─\u001b[0m\u001b[36m─\u001b[0m\u001b[36m─\u001b[0m\u001b[36m─\u001b[0m\u001b[36m─\u001b[0m\u001b[36m─\u001b[0m\u001b[36m<\u001b[0m \u001b[32m0x55b7034bf673\u001b[0m      \u001b[37m0f\u001b[37m84\u001b[37m97\u001b[32m00\u001b[32m00\u001b[32m00\u001b[0m   \u001b[32mje 0x55b7034bf710\u001b[0m\u001b[0m\n",
      "\u001b[36m│\u001b[0m \u001b[36m│\u001b[0m\u001b[36m│\u001b[0m\u001b[34m╎\u001b[0m\u001b[34m╎\u001b[0m\u001b[34m╎\u001b[0m\u001b[36m│\u001b[0m\u001b[36m│\u001b[0m   \u001b[32m0x55b7034bf679\u001b[0m      \u001b[33m31\u001b[37mf6\u001b[0m           \u001b[36mxorl\u001b[36m \u001b[0m%\u001b[36mesi\u001b[0m,\u001b[36m\u001b[36m \u001b[0m%\u001b[36mesi\u001b[0m\u001b[0m\u001b[0m\n",
      "\u001b[36m│\u001b[0m \u001b[36m│\u001b[0m\u001b[36m│\u001b[0m\u001b[34m╎\u001b[0m\u001b[34m╎\u001b[0m\u001b[34m╎\u001b[0m\u001b[36m│\u001b[0m\u001b[36m│\u001b[0m   \u001b[32m0x55b7034bf67b\u001b[0m      \u001b[37me8\u001b[37mb0\u001b[33m24\u001b[32m00\u001b[32m00\u001b[0m     \u001b[1;92mcallq 0x55b7034c1b30\u001b[0m\u001b[0m\n",
      "\u001b[36m│\u001b[0m \u001b[36m│\u001b[0m\u001b[36m│\u001b[0m\u001b[34m╎\u001b[0m\u001b[34m╎\u001b[0m\u001b[34m╎\u001b[0m\u001b[36m│\u001b[0m\u001b[36m│\u001b[0m   \u001b[32m0x55b7034bf680\u001b[0m      \u001b[37m80\u001b[33m3d\u001b[33m5f\u001b[37mc6\u001b[37m01\u001b[32m00\u001b[37m.\u001b[0m  \u001b[36mcmpb\u001b[36m $0\u001b[0m,\u001b[36m\u001b[36m \u001b[33m0x55b7034dbce6\u001b[0m\u001b[0m\u001b[31m ; [0x55b7034dbce6:1]=0\u001b[0m\n",
      "\u001b[36m│\u001b[0m \u001b[36m─\u001b[0m\u001b[36m─\u001b[0m\u001b[36m─\u001b[0m\u001b[36m─\u001b[0m\u001b[36m─\u001b[0m\u001b[36m─\u001b[0m\u001b[36m─\u001b[0m\u001b[36m─\u001b[0m\u001b[36m<\u001b[0m \u001b[32m0x55b7034bf687\u001b[0m      \u001b[37m0f\u001b[37m85\u001b[37m83\u001b[32m00\u001b[32m00\u001b[32m00\u001b[0m   \u001b[32mjne 0x55b7034bf710\u001b[0m\u001b[0m\n",
      "\u001b[36m│\u001b[0m \u001b[36m│\u001b[0m\u001b[36m│\u001b[0m\u001b[34m╎\u001b[0m\u001b[34m╎\u001b[0m\u001b[34m╎\u001b[0m\u001b[36m│\u001b[0m\u001b[36m│\u001b[0m   \u001b[32m0x55b7034bf68d\u001b[0m      \u001b[33m48\u001b[37m83\u001b[33m3d\u001b[37m93\u001b[37mc6\u001b[37m01\u001b[37m.\u001b[0m  \u001b[36mcmpq\u001b[36m $0\u001b[0m,\u001b[36m\u001b[36m \u001b[33m0x55b7034dbd28\u001b[0m\u001b[0m\u001b[31m ; [0x55b7034dbd28:8]=0\u001b[0m\n",
      "\u001b[36m│\u001b[0m \u001b[36m─\u001b[0m\u001b[36m─\u001b[0m\u001b[36m─\u001b[0m\u001b[36m─\u001b[0m\u001b[36m─\u001b[0m\u001b[36m─\u001b[0m\u001b[36m─\u001b[0m\u001b[36m─\u001b[0m\u001b[36m<\u001b[0m \u001b[32m0x55b7034bf695\u001b[0m      \u001b[33m74\u001b[33m79\u001b[0m           \u001b[32mje 0x55b7034bf710\u001b[0m\u001b[0m\n",
      "\u001b[36m│\u001b[0m \u001b[36m│\u001b[0m\u001b[36m│\u001b[0m\u001b[34m╎\u001b[0m\u001b[34m╎\u001b[0m\u001b[34m╎\u001b[0m\u001b[36m│\u001b[0m\u001b[36m│\u001b[0m   \u001b[31m\u001b[31m; CODE XREF from main @ \u001b[31m0x55b7034bf71a\u001b[31m\u001b[0m\n",
      "\u001b[36m│\u001b[0m \u001b[34m─\u001b[0m\u001b[34m─\u001b[0m\u001b[34m─\u001b[0m\u001b[34m─\u001b[0m\u001b[34m─\u001b[0m\u001b[34m─\u001b[0m\u001b[34m─\u001b[0m\u001b[34m─\u001b[0m\u001b[34m>\u001b[0m \u001b[32m0x55b7034bf697\u001b[0m      \u001b[37me8\u001b[37m04\u001b[37me1\u001b[32m00\u001b[32m00\u001b[0m     \u001b[1;92mcallq 0x55b7034cd7a0\u001b[0m\u001b[0m\n",
      "\u001b[36m│\u001b[0m \u001b[36m│\u001b[0m\u001b[36m│\u001b[0m\u001b[34m╎\u001b[0m\u001b[34m╎\u001b[0m\u001b[34m╎\u001b[0m\u001b[36m│\u001b[0m\u001b[36m└\u001b[0m\u001b[36m─\u001b[0m\u001b[36m>\u001b[0m \u001b[32m0x55b7034bf69c\u001b[0m      \u001b[37me8\u001b[31mff\u001b[37m11\u001b[37m01\u001b[32m00\u001b[0m     \u001b[1;92mcallq 0x55b7034d08a0\u001b[0m\u001b[0m\n",
      "\u001b[36m│\u001b[0m \u001b[36m│\u001b[0m\u001b[36m│\u001b[0m\u001b[34m╎\u001b[0m\u001b[34m╎\u001b[0m\u001b[34m╎\u001b[0m\u001b[36m│\u001b[0m    \u001b[32m0x55b7034bf6a1\u001b[0m      \u001b[37m8b\u001b[37m05\u001b[37m19\u001b[37ma3\u001b[37m01\u001b[32m00\u001b[0m   \u001b[37mmovl\u001b[36m \u001b[33m0x55b7034d99c0\u001b[0m,\u001b[36m\u001b[36m \u001b[0m%\u001b[36meax\u001b[0m\u001b[0m\u001b[31m ; [0x55b7034d99c0:4]=0\u001b[0m\n",
      "\u001b[36m│\u001b[0m \u001b[36m│\u001b[0m\u001b[36m│\u001b[0m\u001b[34m╎\u001b[0m\u001b[34m╎\u001b[0m\u001b[34m╎\u001b[0m\u001b[36m│\u001b[0m    \u001b[32m0x55b7034bf6a7\u001b[0m      \u001b[37m8b\u001b[33m5c\u001b[33m24\u001b[37m1c\u001b[0m       \u001b[37mmovl\u001b[36m var_fch\u001b[0m,\u001b[36m\u001b[36m \u001b[0m%\u001b[36mebx\u001b[0m\u001b[0m\u001b[0m\n",
      "\u001b[36m│\u001b[0m \u001b[36m│\u001b[0m\u001b[36m│\u001b[0m\u001b[34m╎\u001b[0m\u001b[34m╎\u001b[0m\u001b[34m╎\u001b[0m\u001b[36m│\u001b[0m    \u001b[32m0x55b7034bf6ab\u001b[0m      \u001b[37m83\u001b[37mf8\u001b[37m04\u001b[0m         \u001b[36mcmpl\u001b[36m $4\u001b[0m,\u001b[36m\u001b[36m \u001b[0m%\u001b[36meax\u001b[0m\u001b[0m\u001b[31m           ; 4\u001b[0m\n",
      "\u001b[36m│\u001b[0m \u001b[34m─\u001b[0m\u001b[34m─\u001b[0m\u001b[34m─\u001b[0m\u001b[34m─\u001b[0m\u001b[34m─\u001b[0m\u001b[34m─\u001b[0m\u001b[34m─\u001b[0m\u001b[34m─\u001b[0m\u001b[34m<\u001b[0m \u001b[32m0x55b7034bf6ae\u001b[0m      \u001b[33m74\u001b[37me7\u001b[0m           \u001b[32mje 0x55b7034bf697\u001b[0m\u001b[0m\n",
      "\u001b[36m│\u001b[0m \u001b[36m│\u001b[0m\u001b[36m│\u001b[0m\u001b[34m╎\u001b[0m\u001b[34m╎\u001b[0m\u001b[34m╎\u001b[0m\u001b[36m│\u001b[0m    \u001b[32m0x55b7034bf6b0\u001b[0m      \u001b[37m85\u001b[37mdb\u001b[0m           \u001b[36mtestl\u001b[36m \u001b[0m%\u001b[36mebx\u001b[0m,\u001b[36m\u001b[36m \u001b[0m%\u001b[36mebx\u001b[0m\u001b[0m\u001b[0m\n",
      "\u001b[36m│\u001b[0m \u001b[34m─\u001b[0m\u001b[34m─\u001b[0m\u001b[34m─\u001b[0m\u001b[34m─\u001b[0m\u001b[34m─\u001b[0m\u001b[34m─\u001b[0m\u001b[34m─\u001b[0m\u001b[34m─\u001b[0m\u001b[34m<\u001b[0m \u001b[32m0x55b7034bf6b2\u001b[0m      \u001b[33m74\u001b[37me3\u001b[0m           \u001b[32mje 0x55b7034bf697\u001b[0m\u001b[0m\n",
      "\u001b[36m│\u001b[0m \u001b[36m│\u001b[0m\u001b[36m│\u001b[0m\u001b[34m╎\u001b[0m\u001b[34m╎\u001b[0m\u001b[34m╎\u001b[0m\u001b[36m│\u001b[0m    \u001b[32m0x55b7034bf6b4\u001b[0m      \u001b[37m80\u001b[33m3d\u001b[33m28\u001b[37mc6\u001b[37m01\u001b[32m00\u001b[37m.\u001b[0m  \u001b[36mcmpb\u001b[36m $0\u001b[0m,\u001b[36m\u001b[36m \u001b[33m0x55b7034dbce3\u001b[0m\u001b[0m\u001b[31m ; [0x55b7034dbce3:1]=0\u001b[0m\n",
      "\u001b[36m│\u001b[0m \u001b[34m─\u001b[0m\u001b[34m─\u001b[0m\u001b[34m─\u001b[0m\u001b[34m─\u001b[0m\u001b[34m─\u001b[0m\u001b[34m─\u001b[0m\u001b[34m─\u001b[0m\u001b[34m─\u001b[0m\u001b[34m<\u001b[0m \u001b[32m0x55b7034bf6bb\u001b[0m      \u001b[33m74\u001b[37mda\u001b[0m           \u001b[32mje 0x55b7034bf697\u001b[0m\u001b[0m\n",
      "\u001b[36m│\u001b[0m \u001b[36m│\u001b[0m\u001b[36m│\u001b[0m\u001b[34m╎\u001b[0m\u001b[34m╎\u001b[0m\u001b[34m╎\u001b[0m\u001b[36m│\u001b[0m    \u001b[32m0x55b7034bf6bd\u001b[0m      \u001b[37m83\u001b[33m3d\u001b[37mf4\u001b[37mc3\u001b[37m01\u001b[32m00\u001b[37m.\u001b[0m  \u001b[36mcmpl\u001b[36m $0\u001b[0m,\u001b[36m\u001b[36m \u001b[33m0x55b7034dbab8\u001b[0m\u001b[0m\u001b[31m ; [0x55b7034dbab8:4]=0\u001b[0m\n",
      "\u001b[36m│\u001b[0m \u001b[34m─\u001b[0m\u001b[34m─\u001b[0m\u001b[34m─\u001b[0m\u001b[34m─\u001b[0m\u001b[34m─\u001b[0m\u001b[34m─\u001b[0m\u001b[34m─\u001b[0m\u001b[34m─\u001b[0m\u001b[34m<\u001b[0m \u001b[32m0x55b7034bf6c4\u001b[0m      \u001b[33m75\u001b[37md1\u001b[0m           \u001b[32mjne 0x55b7034bf697\u001b[0m\u001b[0m\n",
      "\u001b[36m│\u001b[0m \u001b[36m│\u001b[0m\u001b[36m│\u001b[0m\u001b[34m╎\u001b[0m\u001b[34m╎\u001b[0m\u001b[34m╎\u001b[0m\u001b[36m│\u001b[0m    \u001b[32m0x55b7034bf6c6\u001b[0m      \u001b[37m85\u001b[37mc0\u001b[0m           \u001b[36mtestl\u001b[36m \u001b[0m%\u001b[36meax\u001b[0m,\u001b[36m\u001b[36m \u001b[0m%\u001b[36meax\u001b[0m\u001b[0m\u001b[0m\n",
      "\u001b[36m│\u001b[0m \u001b[36m│\u001b[0m\u001b[36m│\u001b[0m\u001b[34m╎\u001b[0m\u001b[34m╎\u001b[0m\u001b[34m╎\u001b[0m\u001b[36m│\u001b[0m\u001b[36m┌\u001b[0m\u001b[36m─\u001b[0m\u001b[36m<\u001b[0m \u001b[32m0x55b7034bf6c8\u001b[0m      \u001b[33m75\u001b[37m11\u001b[0m           \u001b[32mjne 0x55b7034bf6db\u001b[0m\u001b[0m\n",
      "\u001b[36m│\u001b[0m \u001b[36m│\u001b[0m\u001b[36m│\u001b[0m\u001b[34m╎\u001b[0m\u001b[34m╎\u001b[0m\u001b[34m╎\u001b[0m\u001b[36m│\u001b[0m\u001b[36m│\u001b[0m   \u001b[32m0x55b7034bf6ca\u001b[0m      \u001b[33m48\u001b[37m8b\u001b[33m35\u001b[37mf7\u001b[37m99\u001b[37m01\u001b[37m.\u001b[0m  \u001b[37mmovq\u001b[36m \u001b[33m0x55b7034d90c8\u001b[0m,\u001b[36m\u001b[36m \u001b[0m%\u001b[36mrsi\u001b[0m\u001b[0m\u001b[31m ; [\u001b[31m0x55b7034d90c8\u001b[31m:8]=0x1e060\u001b[0m\n",
      "\u001b[36m│\u001b[0m \u001b[36m│\u001b[0m\u001b[36m│\u001b[0m\u001b[34m╎\u001b[0m\u001b[34m╎\u001b[0m\u001b[34m╎\u001b[0m\u001b[36m│\u001b[0m\u001b[36m│\u001b[0m   \u001b[32m0x55b7034bf6d1\u001b[0m      \u001b[37mbf\u001b[37m0a\u001b[32m00\u001b[32m00\u001b[32m00\u001b[0m     \u001b[37mmovl\u001b[36m $\u001b[33m0xa\u001b[0m,\u001b[36m\u001b[36m \u001b[0m%\u001b[36medi\u001b[0m\u001b[0m\u001b[0m\n",
      "\u001b[36m│\u001b[0m \u001b[36m│\u001b[0m\u001b[36m│\u001b[0m\u001b[34m╎\u001b[0m\u001b[34m╎\u001b[0m\u001b[34m╎\u001b[0m\u001b[36m│\u001b[0m\u001b[36m│\u001b[0m   \u001b[32m0x55b7034bf6d6\u001b[0m      \u001b[37me8\u001b[37m05\u001b[37me8\u001b[32m00\u001b[32m00\u001b[0m     \u001b[1;92mcallq 0x55b7034cdee0\u001b[0m\u001b[0m\n",
      "\u001b[36m│\u001b[0m \u001b[36m│\u001b[0m\u001b[36m│\u001b[0m\u001b[34m╎\u001b[0m\u001b[34m╎\u001b[0m\u001b[34m╎\u001b[0m\u001b[36m│\u001b[0m\u001b[36m└\u001b[0m\u001b[36m─\u001b[0m\u001b[36m>\u001b[0m \u001b[32m0x55b7034bf6db\u001b[0m      \u001b[33m48\u001b[37m8d\u001b[33m7c\u001b[33m24\u001b[33m20\u001b[0m     \u001b[37mleaq\u001b[36m var_f8h\u001b[0m,\u001b[36m\u001b[36m \u001b[0m%\u001b[36mrdi\u001b[0m\u001b[0m\u001b[0m\n",
      "\u001b[36m│\u001b[0m \u001b[36m│\u001b[0m\u001b[36m│\u001b[0m\u001b[34m╎\u001b[0m\u001b[34m╎\u001b[0m\u001b[34m╎\u001b[0m\u001b[36m│\u001b[0m    \u001b[32m0x55b7034bf6e0\u001b[0m      \u001b[37me8\u001b[33m4b\u001b[37m91\u001b[32m00\u001b[32m00\u001b[0m     \u001b[1;92mcallq 0x55b7034c8830\u001b[0m\u001b[0m\n",
      "\u001b[36m│\u001b[0m \u001b[36m│\u001b[0m\u001b[36m│\u001b[0m\u001b[34m╎\u001b[0m\u001b[34m╎\u001b[0m\u001b[34m╎\u001b[0m\u001b[36m│\u001b[0m    \u001b[32m0x55b7034bf6e5\u001b[0m      \u001b[37mc7\u001b[37m05\u001b[37mb9\u001b[37ma2\u001b[37m01\u001b[32m00\u001b[37m.\u001b[0m  \u001b[37mmovl\u001b[36m $0\u001b[0m,\u001b[36m\u001b[36m \u001b[33m0x55b7034d99a8\u001b[0m\u001b[0m\u001b[31m ; [0x55b7034d99a8:4]=0\u001b[0m\n",
      "\u001b[36m│\u001b[0m \u001b[36m│\u001b[0m\u001b[36m│\u001b[0m\u001b[34m╎\u001b[0m\u001b[34m╎\u001b[0m\u001b[34m╎\u001b[0m\u001b[36m│\u001b[0m    \u001b[32m0x55b7034bf6ef\u001b[0m      \u001b[37m8b\u001b[37m05\u001b[37mc3\u001b[37ma2\u001b[37m01\u001b[32m00\u001b[0m   \u001b[37mmovl\u001b[36m \u001b[33m0x55b7034d99b8\u001b[0m,\u001b[36m\u001b[36m \u001b[0m%\u001b[36meax\u001b[0m\u001b[0m\u001b[31m ; [0x55b7034d99b8:4]=0\u001b[0m\n",
      "\u001b[36m│\u001b[0m \u001b[36m│\u001b[0m\u001b[36m│\u001b[0m\u001b[34m╎\u001b[0m\u001b[34m╎\u001b[0m\u001b[34m╎\u001b[0m\u001b[36m│\u001b[0m    \u001b[32m0x55b7034bf6f5\u001b[0m      \u001b[37m85\u001b[37mc0\u001b[0m           \u001b[36mtestl\u001b[36m \u001b[0m%\u001b[36meax\u001b[0m,\u001b[36m\u001b[36m \u001b[0m%\u001b[36meax\u001b[0m\u001b[0m\u001b[0m\n",
      "\u001b[36m│\u001b[0m \u001b[36m│\u001b[0m\u001b[36m│\u001b[0m\u001b[34m╎\u001b[0m\u001b[34m╎\u001b[0m\u001b[34m╎\u001b[0m\u001b[36m│\u001b[0m\u001b[36m┌\u001b[0m\u001b[36m─\u001b[0m\u001b[36m<\u001b[0m \u001b[32m0x55b7034bf6f7\u001b[0m      \u001b[33m75\u001b[33m60\u001b[0m           \u001b[32mjne 0x55b7034bf759\u001b[0m\u001b[0m\n",
      "\u001b[36m│\u001b[0m \u001b[36m│\u001b[0m\u001b[36m│\u001b[0m\u001b[34m╎\u001b[0m\u001b[34m╎\u001b[0m\u001b[34m╎\u001b[0m\u001b[36m│\u001b[0m\u001b[36m│\u001b[0m   \u001b[31m\u001b[31m; CODE XREF from main @ \u001b[31m0x55b7034bf75e\u001b[31m\u001b[0m\n",
      "\u001b[36m│\u001b[0m \u001b[34m─\u001b[0m\u001b[34m─\u001b[0m\u001b[34m─\u001b[0m\u001b[34m─\u001b[0m\u001b[34m─\u001b[0m\u001b[34m─\u001b[0m\u001b[34m─\u001b[0m\u001b[34m─\u001b[0m\u001b[34m>\u001b[0m \u001b[32m0x55b7034bf6f9\u001b[0m      \u001b[37m83\u001b[37mfb\u001b[37m01\u001b[0m         \u001b[36mcmpl\u001b[36m $1\u001b[0m,\u001b[36m\u001b[36m \u001b[0m%\u001b[36mebx\u001b[0m\u001b[0m\u001b[31m           ; 1\n",
      "\u001b[0m\n",
      "\u001b[36m│\u001b[0m \u001b[36m─\u001b[0m\u001b[36m─\u001b[0m\u001b[36m─\u001b[0m\u001b[36m─\u001b[0m\u001b[36m─\u001b[0m\u001b[36m─\u001b[0m\u001b[36m─\u001b[0m\u001b[36m─\u001b[0m\u001b[36m<\u001b[0m \u001b[32m0x55b7034bf6fc\u001b[0m      \u001b[33m74\u001b[33m35\u001b[0m           \u001b[32mje 0x55b7034bf733\u001b[0m\u001b[0m\n",
      "\u001b[36m│\u001b[0m \u001b[36m│\u001b[0m\u001b[36m│\u001b[0m\u001b[34m╎\u001b[0m\u001b[34m╎\u001b[0m\u001b[34m╎\u001b[0m\u001b[36m│\u001b[0m\u001b[36m│\u001b[0m   \u001b[32m0x55b7034bf6fe\u001b[0m      \u001b[37m83\u001b[37mfb\u001b[37m02\u001b[0m         \u001b[36mcmpl\u001b[36m $2\u001b[0m,\u001b[36m\u001b[36m \u001b[0m%\u001b[36mebx\u001b[0m\u001b[0m\u001b[31m           ; 2\u001b[0m\n",
      "\u001b[36m│\u001b[0m \u001b[36m│\u001b[0m\u001b[36m│\u001b[0m\u001b[34m╎\u001b[0m\u001b[34m└\u001b[0m\u001b[34m─\u001b[0m\u001b[34m─\u001b[0m\u001b[34m─\u001b[0m\u001b[34m─\u001b[0m\u001b[34m<\u001b[0m \u001b[32m0x55b7034bf701\u001b[0m      \u001b[37m0f\u001b[37m84\u001b[33m25\u001b[31mff\u001b[31mff\u001b[31mff\u001b[0m   \u001b[32mje 0x55b7034bf62c\u001b[0m\u001b[0m\n",
      "\u001b[36m│\u001b[0m \u001b[36m│\u001b[0m\u001b[36m│\u001b[0m\u001b[34m╎\u001b[0m \u001b[34m╎\u001b[0m\u001b[36m│\u001b[0m\u001b[36m│\u001b[0m   \u001b[32m0x55b7034bf707\u001b[0m      \u001b[37m83\u001b[37mfb\u001b[37m03\u001b[0m         \u001b[36mcmpl\u001b[36m $3\u001b[0m,\u001b[36m\u001b[36m \u001b[0m%\u001b[36mebx\u001b[0m\u001b[0m\u001b[31m           ; 3\u001b[0m\n",
      "\u001b[36m│\u001b[0m \u001b[36m│\u001b[0m\u001b[36m│\u001b[0m\u001b[34m└\u001b[0m\u001b[34m─\u001b[0m\u001b[34m─\u001b[0m\u001b[34m─\u001b[0m\u001b[34m─\u001b[0m\u001b[34m─\u001b[0m\u001b[34m<\u001b[0m \u001b[32m0x55b7034bf70a\u001b[0m      \u001b[37m0f\u001b[37m84\u001b[33m51\u001b[31mff\u001b[31mff\u001b[31mff\u001b[0m   \u001b[32mje 0x55b7034bf661\u001b[0m\u001b[0m\n",
      "\u001b[36m│\u001b[0m \u001b[36m─\u001b[0m\u001b[36m└\u001b[0m\u001b[36m─\u001b[0m\u001b[36m─\u001b[0m\u001b[36m─\u001b[0m\u001b[36m─\u001b[0m\u001b[36m─\u001b[0m\u001b[36m─\u001b[0m\u001b[36m>\u001b[0m \u001b[32m0x55b7034bf710\u001b[0m      \u001b[37mbf\u001b[37m01\u001b[32m00\u001b[32m00\u001b[32m00\u001b[0m     \u001b[37mmovl\u001b[36m $1\u001b[0m,\u001b[36m\u001b[36m \u001b[0m%\u001b[36medi\u001b[0m\u001b[0m\u001b[0m\n",
      "\u001b[36m│\u001b[0m \u001b[36m│\u001b[0m   \u001b[34m╎\u001b[0m\u001b[36m│\u001b[0m\u001b[36m│\u001b[0m   \u001b[32m0x55b7034bf715\u001b[0m      \u001b[37me8\u001b[37md6\u001b[37m8b\u001b[32m00\u001b[32m00\u001b[0m     \u001b[1;92mcallq 0x55b7034c82f0\u001b[0m\u001b[0m\n",
      "\u001b[36m│\u001b[0m \u001b[34m─\u001b[0m\u001b[34m─\u001b[0m\u001b[34m─\u001b[0m\u001b[34m─\u001b[0m\u001b[34m─\u001b[0m\u001b[34m─\u001b[0m\u001b[34m─\u001b[0m\u001b[34m─\u001b[0m\u001b[34m<\u001b[0m \u001b[32m0x55b7034bf71a\u001b[0m      \u001b[37me9\u001b[33m78\u001b[31mff\u001b[31mff\u001b[31mff\u001b[0m     \u001b[32mjmp 0x55b7034bf697\u001b[0m\u001b[0m\n",
      "\u001b[36m│\u001b[0m \u001b[36m│\u001b[0m   \u001b[34m╎\u001b[0m\u001b[36m└\u001b[0m\u001b[36m─\u001b[0m\u001b[36m─\u001b[0m\u001b[36m>\u001b[0m \u001b[32m0x55b7034bf71f\u001b[0m      \u001b[33m48\u001b[37m8d\u001b[33m3d\u001b[37md4\u001b[33m22\u001b[37m01\u001b[37m.\u001b[0m  \u001b[37mleaq\u001b[36m \u001b[36mstr.etc_profile\u001b[0m,\u001b[36m\u001b[36m \u001b[0m%\u001b[36mrdi\u001b[0m\u001b[0m\u001b[31m ; 0x55b7034d19fa\u001b[31m ; \"/etc/profile\"\u001b[0m\n",
      "\u001b[36m│\u001b[0m \u001b[36m│\u001b[0m   \u001b[34m╎\u001b[0m \u001b[36m│\u001b[0m   \u001b[32m0x55b7034bf726\u001b[0m      \u001b[37mc7\u001b[33m44\u001b[33m24\u001b[37m1c\u001b[37m01\u001b[32m00\u001b[37m.\u001b[0m  \u001b[37mmovl\u001b[36m $1\u001b[0m,\u001b[36m\u001b[36m var_fch\u001b[0m\u001b[0m\u001b[0m\n",
      "\u001b[36m│\u001b[0m \u001b[36m│\u001b[0m   \u001b[34m╎\u001b[0m \u001b[36m│\u001b[0m   \u001b[32m0x55b7034bf72e\u001b[0m      \u001b[37me8\u001b[33m6d\u001b[37m8d\u001b[32m00\u001b[32m00\u001b[0m     \u001b[1;92mcallq 0x55b7034c84a0\u001b[0m\u001b[0m\n",
      "\u001b[36m│\u001b[0m \u001b[36m─\u001b[0m\u001b[36m─\u001b[0m\u001b[36m─\u001b[0m\u001b[36m─\u001b[0m\u001b[36m─\u001b[0m\u001b[36m─\u001b[0m\u001b[36m─\u001b[0m\u001b[36m─\u001b[0m\u001b[36m>\u001b[0m \u001b[32m0x55b7034bf733\u001b[0m      \u001b[33m48\u001b[37m8d\u001b[33m3d\u001b[37mb1\u001b[33m22\u001b[37m01\u001b[37m.\u001b[0m  \u001b[37mleaq\u001b[36m \u001b[36mstr.HOME_.profile\u001b[0m,\u001b[36m\u001b[36m \u001b[0m%\u001b[36mrdi\u001b[0m\u001b[0m\u001b[31m ; 0x55b7034d19eb\u001b[31m ; \"$HOME/.profile\"\u001b[0m\n",
      "\u001b[36m│\u001b[0m \u001b[36m│\u001b[0m   \u001b[34m╎\u001b[0m \u001b[36m│\u001b[0m   \u001b[32m0x55b7034bf73a\u001b[0m      \u001b[37mc7\u001b[33m44\u001b[33m24\u001b[37m1c\u001b[37m02\u001b[32m00\u001b[37m.\u001b[0m  \u001b[37mmovl\u001b[36m $2\u001b[0m,\u001b[36m\u001b[36m var_fch\u001b[0m\u001b[0m\u001b[0m\n",
      "\u001b[36m│\u001b[0m \u001b[36m│\u001b[0m   \u001b[34m╎\u001b[0m \u001b[36m│\u001b[0m   \u001b[32m0x55b7034bf742\u001b[0m      \u001b[37me8\u001b[33m59\u001b[37m8d\u001b[32m00\u001b[32m00\u001b[0m     \u001b[1;92mcallq 0x55b7034c84a0\u001b[0m\u001b[0m\n",
      "\u001b[36m│\u001b[0m \u001b[36m│\u001b[0m   \u001b[34m└\u001b[0m\u001b[34m─\u001b[0m\u001b[34m─\u001b[0m\u001b[34m─\u001b[0m\u001b[34m<\u001b[0m \u001b[32m0x55b7034bf747\u001b[0m      \u001b[37me9\u001b[37me0\u001b[37mfe\u001b[31mff\u001b[31mff\u001b[0m     \u001b[32mjmp 0x55b7034bf62c\u001b[0m\u001b[0m\n",
      "\u001b[36m│\u001b[0m \u001b[36m└\u001b[0m\u001b[36m─\u001b[0m\u001b[36m─\u001b[0m\u001b[36m─\u001b[0m\u001b[36m─\u001b[0m\u001b[36m─\u001b[0m\u001b[36m─\u001b[0m\u001b[36m─\u001b[0m\u001b[36m>\u001b[0m \u001b[32m0x55b7034bf74c\u001b[0m      \u001b[33m48\u001b[37m89\u001b[37mc7\u001b[0m         \u001b[37mmovq\u001b[36m \u001b[0m%\u001b[36mrax\u001b[0m,\u001b[36m\u001b[36m \u001b[0m%\u001b[36mrdi\u001b[0m\u001b[0m\u001b[0m\n",
      "\u001b[36m│\u001b[0m       \u001b[36m│\u001b[0m   \u001b[32m0x55b7034bf74f\u001b[0m      \u001b[37me8\u001b[33m4c\u001b[37m8d\u001b[32m00\u001b[32m00\u001b[0m     \u001b[1;92mcallq 0x55b7034c84a0\u001b[0m\u001b[0m\n",
      "\u001b[36m│\u001b[0m \u001b[34m─\u001b[0m\u001b[34m─\u001b[0m\u001b[34m─\u001b[0m\u001b[34m─\u001b[0m\u001b[34m─\u001b[0m\u001b[34m─\u001b[0m\u001b[34m─\u001b[0m\u001b[34m─\u001b[0m\u001b[34m<\u001b[0m \u001b[32m0x55b7034bf754\u001b[0m      \u001b[37me9\u001b[37mfe\u001b[37mfe\u001b[31mff\u001b[31mff\u001b[0m     \u001b[32mjmp 0x55b7034bf657\u001b[0m\u001b[0m\n",
      "\u001b[36m│\u001b[0m       \u001b[36m└\u001b[0m\u001b[36m─\u001b[0m\u001b[36m>\u001b[0m \u001b[32m0x55b7034bf759\u001b[0m      \u001b[37me8\u001b[37ma2\u001b[37m15\u001b[32m00\u001b[32m00\u001b[0m     \u001b[1;92mcallq 0x55b7034c0d00\u001b[0m\u001b[0m\n",
      "\u001b[36m└\u001b[0m \u001b[34m─\u001b[0m\u001b[34m─\u001b[0m\u001b[34m─\u001b[0m\u001b[34m─\u001b[0m\u001b[34m─\u001b[0m\u001b[34m─\u001b[0m\u001b[34m─\u001b[0m\u001b[34m─\u001b[0m\u001b[34m<\u001b[0m \u001b[32m0x55b7034bf75e\u001b[0m      \u001b[37meb\u001b[37m99\u001b[0m           \u001b[32mjmp 0x55b7034bf6f9\u001b[0m\u001b[0m\n",
      "\n",
      "\u001b[33m[0x7f1d6d0d7090]>\u001b[0m \u001b[?1001r\u001b[?1000l\n"
     ]
    }
   ],
   "source": [
    "%r pdf @main"
   ]
  },
  {
   "cell_type": "code",
   "execution_count": 23,
   "id": "1a81f59e-7767-47ce-9bf9-3fea93fc5b5e",
   "metadata": {},
   "outputs": [
    {
     "name": "stdout",
     "output_type": "stream",
     "text": [
      "pd @0x55b7034c82f0\n",
      "            \u001b[31m\u001b[31m; CALL XREF from main @ \u001b[31m0x55b7034bf715\u001b[31m\u001b[0m\n",
      "            \u001b[32m0x55b7034c82f0\u001b[0m b    \u001b[33m41\u001b[33m57\u001b[0m           \u001b[35mpushq\u001b[36m \u001b[0m%\u001b[36mr15\u001b[0m\u001b[0m\u001b[0m\n",
      "            \u001b[32m0x55b7034c82f2\u001b[0m      \u001b[33m45\u001b[33m31\u001b[31mff\u001b[0m         \u001b[36mxorl\u001b[36m \u001b[0m%\u001b[36mr15d\u001b[0m,\u001b[36m\u001b[36m \u001b[0m%\u001b[36mr15d\u001b[0m\u001b[0m\u001b[0m\n",
      "            \u001b[32m0x55b7034c82f5\u001b[0m      \u001b[33m41\u001b[33m56\u001b[0m           \u001b[35mpushq\u001b[36m \u001b[0m%\u001b[36mr14\u001b[0m\u001b[0m\u001b[0m\n",
      "            \u001b[32m0x55b7034c82f7\u001b[0m      \u001b[33m41\u001b[37m89\u001b[37mfe\u001b[0m         \u001b[37mmovl\u001b[36m \u001b[0m%\u001b[36medi\u001b[0m,\u001b[36m\u001b[36m \u001b[0m%\u001b[36mr14d\u001b[0m\u001b[0m\u001b[0m\n",
      "            \u001b[32m0x55b7034c82fa\u001b[0m      \u001b[33m41\u001b[33m55\u001b[0m           \u001b[35mpushq\u001b[36m \u001b[0m%\u001b[36mr13\u001b[0m\u001b[0m\u001b[0m\n",
      "            \u001b[32m0x55b7034c82fc\u001b[0m      \u001b[33m41\u001b[37m89\u001b[37mfd\u001b[0m         \u001b[37mmovl\u001b[36m \u001b[0m%\u001b[36medi\u001b[0m,\u001b[36m\u001b[36m \u001b[0m%\u001b[36mr13d\u001b[0m\u001b[0m\u001b[0m\n",
      "            \u001b[32m0x55b7034c82ff\u001b[0m      \u001b[33m41\u001b[37m83\u001b[37me6\u001b[37m01\u001b[0m       \u001b[36mandl\u001b[36m $1\u001b[0m,\u001b[36m\u001b[36m \u001b[0m%\u001b[36mr14d\u001b[0m\u001b[0m\u001b[0m\n",
      "            \u001b[32m0x55b7034c8303\u001b[0m      \u001b[33m41\u001b[33m54\u001b[0m           \u001b[35mpushq\u001b[36m \u001b[0m%\u001b[36mr12\u001b[0m\u001b[0m\u001b[0m\n",
      "            \u001b[32m0x55b7034c8305\u001b[0m      \u001b[33m41\u001b[37m83\u001b[37mf5\u001b[37m01\u001b[0m       \u001b[36mxorl\u001b[36m $1\u001b[0m,\u001b[36m\u001b[36m \u001b[0m%\u001b[36mr13d\u001b[0m\u001b[0m\u001b[0m\n",
      "            \u001b[32m0x55b7034c8309\u001b[0m      \u001b[33m4c\u001b[37m8d\u001b[33m25\u001b[33m20\u001b[33m3a\u001b[37m01\u001b[37m.\u001b[0m  \u001b[37mleaq\u001b[36m \u001b[33m0x55b7034dbd30\u001b[0m,\u001b[36m\u001b[36m \u001b[0m%\u001b[36mr12\u001b[0m\u001b[0m\u001b[0m\n",
      "            \u001b[32m0x55b7034c8310\u001b[0m      \u001b[33m55\u001b[0m             \u001b[35mpushq\u001b[36m \u001b[0m%\u001b[36mrbp\u001b[0m\u001b[0m\u001b[0m\n",
      "            \u001b[32m0x55b7034c8311\u001b[0m      \u001b[33m31\u001b[37med\u001b[0m           \u001b[36mxorl\u001b[36m \u001b[0m%\u001b[36mebp\u001b[0m,\u001b[36m\u001b[36m \u001b[0m%\u001b[36mebp\u001b[0m\u001b[0m\u001b[0m\n",
      "            \u001b[32m0x55b7034c8313\u001b[0m      \u001b[33m53\u001b[0m             \u001b[35mpushq\u001b[36m \u001b[0m%\u001b[36mrbx\u001b[0m\u001b[0m\u001b[0m\n",
      "            \u001b[32m0x55b7034c8314\u001b[0m      \u001b[33m48\u001b[37m83\u001b[37mec\u001b[33m38\u001b[0m       \u001b[33msubq\u001b[36m $\u001b[33m0x38\u001b[0m,\u001b[36m\u001b[36m \u001b[0m%\u001b[36mrsp\u001b[0m\u001b[0m\u001b[0m\n",
      "            \u001b[32m0x55b7034c8318\u001b[0m      \u001b[33m64\u001b[33m48\u001b[37m8b\u001b[37m04\u001b[33m25\u001b[33m28\u001b[37m.\u001b[0m  \u001b[37mmovq\u001b[36m \u001b[0m%\u001b[36mfs:0x28\u001b[0m,\u001b[36m\u001b[36m \u001b[0m%\u001b[36mrax\u001b[0m\u001b[0m\u001b[0m\n",
      "            \u001b[32m0x55b7034c8321\u001b[0m      \u001b[33m48\u001b[37m89\u001b[33m44\u001b[33m24\u001b[33m28\u001b[0m     \u001b[37mmovq\u001b[36m \u001b[0m%\u001b[36mrax\u001b[0m,\u001b[36m\u001b[36m \u001b[33m0x28\u001b[0m(\u001b[36m\u001b[0m%\u001b[36mrsp\u001b[0m)\u001b[36m\u001b[0m\u001b[0m\u001b[0m\n",
      "            \u001b[32m0x55b7034c8326\u001b[0m      \u001b[33m31\u001b[37mc0\u001b[0m           \u001b[36mxorl\u001b[36m \u001b[0m%\u001b[36meax\u001b[0m,\u001b[36m\u001b[36m \u001b[0m%\u001b[36meax\u001b[0m\u001b[0m\u001b[0m\n",
      "            \u001b[32m0x55b7034c8328\u001b[0m      \u001b[33m44\u001b[37m89\u001b[37me8\u001b[0m         \u001b[37mmovl\u001b[36m \u001b[0m%\u001b[36mr13d\u001b[0m,\u001b[36m\u001b[36m \u001b[0m%\u001b[36meax\u001b[0m\u001b[0m\u001b[0m\n",
      "            \u001b[32m0x55b7034c832b\u001b[0m      \u001b[33m48\u001b[37m8d\u001b[33m5c\u001b[33m24\u001b[37m10\u001b[0m     \u001b[37mleaq\u001b[36m \u001b[33m0x10\u001b[0m(\u001b[36m\u001b[0m%\u001b[36mrsp\u001b[0m)\u001b[36m\u001b[0m,\u001b[36m\u001b[36m \u001b[0m%\u001b[36mrbx\u001b[0m\u001b[0m\u001b[0m\n",
      "            \u001b[32m0x55b7034c8330\u001b[0m      \u001b[37m83\u001b[37me0\u001b[37m01\u001b[0m         \u001b[36mandl\u001b[36m $1\u001b[0m,\u001b[36m\u001b[36m \u001b[0m%\u001b[36meax\u001b[0m\u001b[0m\u001b[0m\n",
      "            \u001b[32m0x55b7034c8333\u001b[0m      \u001b[37m88\u001b[33m44\u001b[33m24\u001b[37m0f\u001b[0m       \u001b[37mmovb\u001b[36m \u001b[0m%\u001b[36mal\u001b[0m,\u001b[36m\u001b[36m \u001b[33m0xf\u001b[0m(\u001b[36m\u001b[0m%\u001b[36mrsp\u001b[0m)\u001b[36m\u001b[0m\u001b[0m\u001b[0m\n",
      "            \u001b[32m0x55b7034c8337\u001b[0m      \u001b[33m66\u001b[37m0f\u001b[37m1f\u001b[37m84\u001b[32m00\u001b[32m00\u001b[37m.\u001b[0m  \u001b[34mnopw\u001b[36m \u001b[36m0\u001b[0m(\u001b[36m\u001b[0m%\u001b[36mrax\u001b[0m,\u001b[36m\u001b[36m \u001b[0m%\u001b[36mrax\u001b[0m)\u001b[36m\u001b[0m\u001b[0m\u001b[0m\n",
      "        \u001b[34m┌\u001b[0m\u001b[34m─\u001b[0m\u001b[34m>\u001b[0m \u001b[32m0x55b7034c8340\u001b[0m      \u001b[33m48\u001b[37m89\u001b[37mdf\u001b[0m         \u001b[37mmovq\u001b[36m \u001b[0m%\u001b[36mrbx\u001b[0m,\u001b[36m\u001b[36m \u001b[0m%\u001b[36mrdi\u001b[0m\u001b[0m\u001b[0m\n",
      "        \u001b[34m╎\u001b[0m   \u001b[32m0x55b7034c8343\u001b[0m      \u001b[37me8\u001b[37m98\u001b[37m04\u001b[32m00\u001b[32m00\u001b[0m     \u001b[1;92mcallq 0x55b7034c87e0\u001b[0m\u001b[0m\n",
      "        \u001b[34m╎\u001b[0m   \u001b[32m0x55b7034c8348\u001b[0m      \u001b[37m8b\u001b[37m05\u001b[33m5a\u001b[33m37\u001b[37m01\u001b[32m00\u001b[0m   \u001b[37mmovl\u001b[36m \u001b[33m0x55b7034dbaa8\u001b[0m,\u001b[36m\u001b[36m \u001b[0m%\u001b[36meax\u001b[0m\u001b[0m\u001b[31m ; [0x55b7034dbaa8:4]=0\u001b[0m\n",
      "        \u001b[34m╎\u001b[0m   \u001b[32m0x55b7034c834e\u001b[0m      \u001b[37m85\u001b[37mc0\u001b[0m           \u001b[36mtestl\u001b[36m \u001b[0m%\u001b[36meax\u001b[0m,\u001b[36m\u001b[36m \u001b[0m%\u001b[36meax\u001b[0m\u001b[0m\u001b[0m\n",
      "       \u001b[36m┌\u001b[0m\u001b[36m─\u001b[0m\u001b[36m─\u001b[0m\u001b[36m<\u001b[0m \u001b[32m0x55b7034c8350\u001b[0m      \u001b[37m0f\u001b[37m85\u001b[37mca\u001b[32m00\u001b[32m00\u001b[32m00\u001b[0m   \u001b[32mjne 0x55b7034c8420\u001b[0m\u001b[0m\n",
      "       \u001b[36m│\u001b[0m\u001b[34m╎\u001b[0m   \u001b[32m0x55b7034c8356\u001b[0m      \u001b[37m80\u001b[33m3d\u001b[37m86\u001b[33m39\u001b[37m01\u001b[32m00\u001b[37m.\u001b[0m  \u001b[36mcmpb\u001b[36m $0\u001b[0m,\u001b[36m\u001b[36m \u001b[33m0x55b7034dbce3\u001b[0m\u001b[0m\u001b[31m ; [0x55b7034dbce3:1]=0\u001b[0m\n",
      "      \u001b[36m┌\u001b[0m\u001b[36m─\u001b[0m\u001b[36m─\u001b[0m\u001b[36m─\u001b[0m\u001b[36m<\u001b[0m \u001b[32m0x55b7034c835d\u001b[0m      \u001b[33m74\u001b[37m05\u001b[0m           \u001b[32mje 0x55b7034c8364\u001b[0m\u001b[0m\n",
      "      \u001b[36m│\u001b[0m\u001b[36m│\u001b[0m\u001b[34m╎\u001b[0m   \u001b[32m0x55b7034c835f\u001b[0m      \u001b[33m45\u001b[37m84\u001b[37mf6\u001b[0m         \u001b[36mtestb\u001b[36m \u001b[0m%\u001b[36mr14b\u001b[0m,\u001b[36m\u001b[36m \u001b[0m%\u001b[36mr14b\u001b[0m\u001b[0m\u001b[0m\n",
      "     \u001b[36m┌\u001b[0m\u001b[36m─\u001b[0m\u001b[36m─\u001b[0m\u001b[36m─\u001b[0m\u001b[36m─\u001b[0m\u001b[36m<\u001b[0m \u001b[32m0x55b7034c8362\u001b[0m      \u001b[33m75\u001b[33m64\u001b[0m           \u001b[32mjne 0x55b7034c83c8\u001b[0m\u001b[0m\n",
      "     \u001b[36m│\u001b[0m\u001b[36m└\u001b[0m\u001b[36m─\u001b[0m\u001b[36m─\u001b[0m\u001b[36m─\u001b[0m\u001b[36m>\u001b[0m \u001b[32m0x55b7034c8364\u001b[0m      \u001b[33m31\u001b[31mff\u001b[0m           \u001b[36mxorl\u001b[36m \u001b[0m%\u001b[36medi\u001b[0m,\u001b[36m\u001b[36m \u001b[0m%\u001b[36medi\u001b[0m\u001b[0m\u001b[0m\n",
      "     \u001b[36m│\u001b[0m \u001b[36m│\u001b[0m\u001b[34m╎\u001b[0m   \u001b[32m0x55b7034c8366\u001b[0m      \u001b[37me8\u001b[33m25\u001b[33m47\u001b[32m00\u001b[32m00\u001b[0m     \u001b[1;92mcallq 0x55b7034cca90\u001b[0m\u001b[0m\n",
      "     \u001b[36m│\u001b[0m \u001b[36m│\u001b[0m\u001b[34m╎\u001b[0m   \u001b[32m0x55b7034c836b\u001b[0m      \u001b[33m49\u001b[37m89\u001b[37mc5\u001b[0m         \u001b[37mmovq\u001b[36m \u001b[0m%\u001b[36mrax\u001b[0m,\u001b[36m\u001b[36m \u001b[0m%\u001b[36mr13\u001b[0m\u001b[0m\u001b[0m\n",
      "     \u001b[36m│\u001b[0m \u001b[36m│\u001b[0m\u001b[34m╎\u001b[0m   \u001b[32m0x55b7034c836e\u001b[0m      \u001b[33m4c\u001b[33m39\u001b[37me0\u001b[0m         \u001b[36mcmpq\u001b[36m \u001b[0m%\u001b[36mr12\u001b[0m,\u001b[36m\u001b[36m \u001b[0m%\u001b[36mrax\u001b[0m\u001b[0m\u001b[0m\n",
      "     \u001b[36m│\u001b[0m\u001b[36m┌\u001b[0m\u001b[36m─\u001b[0m\u001b[36m─\u001b[0m\u001b[36m─\u001b[0m\u001b[36m<\u001b[0m \u001b[32m0x55b7034c8371\u001b[0m      \u001b[33m74\u001b[33m6d\u001b[0m           \u001b[32mje 0x55b7034c83e0\u001b[0m\u001b[0m\n",
      "    \u001b[34m┌\u001b[0m\u001b[34m─\u001b[0m\u001b[34m─\u001b[0m\u001b[34m─\u001b[0m\u001b[34m─\u001b[0m\u001b[34m─\u001b[0m\u001b[34m>\u001b[0m \u001b[32m0x55b7034c8373\u001b[0m      \u001b[37m80\u001b[33m3d\u001b[33m6b\u001b[33m39\u001b[37m01\u001b[32m00\u001b[37m.\u001b[0m  \u001b[36mcmpb\u001b[36m $0\u001b[0m,\u001b[36m\u001b[36m \u001b[33m0x55b7034dbce5\u001b[0m\u001b[0m\u001b[31m ; [0x55b7034dbce5:1]=0\u001b[0m\n",
      "   \u001b[36m┌\u001b[0m\u001b[36m─\u001b[0m\u001b[36m─\u001b[0m\u001b[36m─\u001b[0m\u001b[36m─\u001b[0m\u001b[36m─\u001b[0m\u001b[36m─\u001b[0m\u001b[36m<\u001b[0m \u001b[32m0x55b7034c837a\u001b[0m      \u001b[37m0f\u001b[37m84\u001b[37mc0\u001b[32m00\u001b[32m00\u001b[32m00\u001b[0m   \u001b[32mje 0x55b7034c8440\u001b[0m\u001b[0m\n",
      "   \u001b[36m│\u001b[0m\u001b[34m╎\u001b[0m\u001b[36m│\u001b[0m\u001b[36m│\u001b[0m\u001b[36m│\u001b[0m\u001b[34m╎\u001b[0m   \u001b[32m0x55b7034c8380\u001b[0m      \u001b[33m48\u001b[37m89\u001b[37mdf\u001b[0m         \u001b[37mmovq\u001b[36m \u001b[0m%\u001b[36mrbx\u001b[0m,\u001b[36m\u001b[36m \u001b[0m%\u001b[36mrdi\u001b[0m\u001b[0m\u001b[0m\n",
      "   \u001b[36m│\u001b[0m\u001b[34m╎\u001b[0m\u001b[36m│\u001b[0m\u001b[36m│\u001b[0m\u001b[36m│\u001b[0m\u001b[34m╎\u001b[0m   \u001b[32m0x55b7034c8383\u001b[0m      \u001b[37me8\u001b[37ma8\u001b[37m04\u001b[32m00\u001b[32m00\u001b[0m     \u001b[1;92mcallq 0x55b7034c8830\u001b[0m\u001b[0m\n",
      "   \u001b[36m│\u001b[0m\u001b[34m╎\u001b[0m\u001b[36m│\u001b[0m\u001b[36m│\u001b[0m\u001b[36m│\u001b[0m\u001b[34m╎\u001b[0m   \u001b[32m0x55b7034c8388\u001b[0m      \u001b[37m8b\u001b[37m05\u001b[33m46\u001b[37m16\u001b[37m01\u001b[32m00\u001b[0m   \u001b[37mmovl\u001b[36m \u001b[33m0x55b7034d99d4\u001b[0m,\u001b[36m\u001b[36m \u001b[0m%\u001b[36meax\u001b[0m\u001b[0m\u001b[31m ; [0x55b7034d99d4:4]=0\u001b[0m\n",
      "   \u001b[36m│\u001b[0m\u001b[34m╎\u001b[0m\u001b[36m│\u001b[0m\u001b[36m│\u001b[0m\u001b[36m│\u001b[0m\u001b[34m╎\u001b[0m   \u001b[32m0x55b7034c838e\u001b[0m      \u001b[37m85\u001b[37mc0\u001b[0m           \u001b[36mtestl\u001b[36m \u001b[0m%\u001b[36meax\u001b[0m,\u001b[36m\u001b[36m \u001b[0m%\u001b[36meax\u001b[0m\u001b[0m\u001b[0m\n",
      "   \u001b[36m│\u001b[0m\u001b[34m╎\u001b[0m\u001b[36m│\u001b[0m\u001b[36m│\u001b[0m\u001b[36m│\u001b[0m\u001b[34m└\u001b[0m\u001b[34m─\u001b[0m\u001b[34m<\u001b[0m \u001b[32m0x55b7034c8390\u001b[0m      \u001b[33m74\u001b[37mae\u001b[0m           \u001b[32mje 0x55b7034c8340\u001b[0m\u001b[0m\n",
      "   \u001b[36m│\u001b[0m\u001b[34m╎\u001b[0m\u001b[36m│\u001b[0m\u001b[36m│\u001b[0m\u001b[36m│\u001b[0m    \u001b[32m0x55b7034c8392\u001b[0m      \u001b[37m83\u001b[37me0\u001b[37mf3\u001b[0m         \u001b[36mandl\u001b[36m $\u001b[33m0xfffffff3\u001b[0m,\u001b[36m\u001b[36m \u001b[0m%\u001b[36meax\u001b[0m\u001b[0m\u001b[31m  ; 4294967283\u001b[0m\n",
      "   \u001b[36m│\u001b[0m\u001b[34m╎\u001b[0m\u001b[36m│\u001b[0m\u001b[36m│\u001b[0m\u001b[36m│\u001b[0m    \u001b[32m0x55b7034c8395\u001b[0m      \u001b[37m89\u001b[37m05\u001b[33m39\u001b[37m16\u001b[37m01\u001b[32m00\u001b[0m   \u001b[37mmovl\u001b[36m \u001b[0m%\u001b[36meax\u001b[0m,\u001b[36m\u001b[36m \u001b[33m0x55b7034d99d4\u001b[0m\u001b[0m\u001b[31m ; [0x55b7034d99d4:4]=0\u001b[0m\n",
      "   \u001b[36m│\u001b[0m\u001b[34m╎\u001b[0m\u001b[36m│\u001b[0m\u001b[36m│\u001b[0m\u001b[36m│\u001b[0m    \u001b[32m0x55b7034c839b\u001b[0m      \u001b[33m48\u001b[37m8b\u001b[33m44\u001b[33m24\u001b[33m28\u001b[0m     \u001b[37mmovq\u001b[36m \u001b[33m0x28\u001b[0m(\u001b[36m\u001b[0m%\u001b[36mrsp\u001b[0m)\u001b[36m\u001b[0m,\u001b[36m\u001b[36m \u001b[0m%\u001b[36mrax\u001b[0m\u001b[0m\u001b[0m\n",
      "   \u001b[36m│\u001b[0m\u001b[34m╎\u001b[0m\u001b[36m│\u001b[0m\u001b[36m│\u001b[0m\u001b[36m│\u001b[0m    \u001b[32m0x55b7034c83a0\u001b[0m      \u001b[33m64\u001b[33m48\u001b[33m33\u001b[37m04\u001b[33m25\u001b[33m28\u001b[37m.\u001b[0m  \u001b[36mxorq\u001b[36m \u001b[0m%\u001b[36mfs:0x28\u001b[0m,\u001b[36m\u001b[36m \u001b[0m%\u001b[36mrax\u001b[0m\u001b[0m\u001b[0m\n",
      "   \u001b[36m│\u001b[0m\u001b[34m╎\u001b[0m\u001b[36m│\u001b[0m\u001b[36m│\u001b[0m\u001b[36m│\u001b[0m\u001b[36m┌\u001b[0m\u001b[36m─\u001b[0m\u001b[36m<\u001b[0m \u001b[32m0x55b7034c83a9\u001b[0m      \u001b[37m0f\u001b[37m85\u001b[37mde\u001b[32m00\u001b[32m00\u001b[32m00\u001b[0m   \u001b[32mjne 0x55b7034c848d\u001b[0m\u001b[0m\n",
      "   \u001b[36m│\u001b[0m\u001b[34m╎\u001b[0m\u001b[36m│\u001b[0m\u001b[36m│\u001b[0m\u001b[36m│\u001b[0m\u001b[36m│\u001b[0m   \u001b[32m0x55b7034c83af\u001b[0m      \u001b[33m48\u001b[37m83\u001b[37mc4\u001b[33m38\u001b[0m       \u001b[33maddq\u001b[36m $\u001b[33m0x38\u001b[0m,\u001b[36m\u001b[36m \u001b[0m%\u001b[36mrsp\u001b[0m\u001b[0m\u001b[0m\n",
      "   \u001b[36m│\u001b[0m\u001b[34m╎\u001b[0m\u001b[36m│\u001b[0m\u001b[36m│\u001b[0m\u001b[36m│\u001b[0m\u001b[36m│\u001b[0m   \u001b[32m0x55b7034c83b3\u001b[0m      \u001b[33m44\u001b[37m89\u001b[37mf8\u001b[0m         \u001b[37mmovl\u001b[36m \u001b[0m%\u001b[36mr15d\u001b[0m,\u001b[36m\u001b[36m \u001b[0m%\u001b[36meax\u001b[0m\u001b[0m\u001b[0m\n",
      "   \u001b[36m│\u001b[0m\u001b[34m╎\u001b[0m\u001b[36m│\u001b[0m\u001b[36m│\u001b[0m\u001b[36m│\u001b[0m\u001b[36m│\u001b[0m   \u001b[32m0x55b7034c83b6\u001b[0m      \u001b[33m5b\u001b[0m             \u001b[1;95mpopq\u001b[36m \u001b[0m%\u001b[36mrbx\u001b[0m\u001b[0m\u001b[0m\n",
      "   \u001b[36m│\u001b[0m\u001b[34m╎\u001b[0m\u001b[36m│\u001b[0m\u001b[36m│\u001b[0m\u001b[36m│\u001b[0m\u001b[36m│\u001b[0m   \u001b[32m0x55b7034c83b7\u001b[0m      \u001b[33m5d\u001b[0m             \u001b[1;95mpopq\u001b[36m \u001b[0m%\u001b[36mrbp\u001b[0m\u001b[0m\u001b[0m\n",
      "   \u001b[36m│\u001b[0m\u001b[34m╎\u001b[0m\u001b[36m│\u001b[0m\u001b[36m│\u001b[0m\u001b[36m│\u001b[0m\u001b[36m│\u001b[0m   \u001b[32m0x55b7034c83b8\u001b[0m      \u001b[33m41\u001b[33m5c\u001b[0m           \u001b[1;95mpopq\u001b[36m \u001b[0m%\u001b[36mr12\u001b[0m\u001b[0m\u001b[0m\n",
      "   \u001b[36m│\u001b[0m\u001b[34m╎\u001b[0m\u001b[36m│\u001b[0m\u001b[36m│\u001b[0m\u001b[36m│\u001b[0m\u001b[36m│\u001b[0m   \u001b[32m0x55b7034c83ba\u001b[0m      \u001b[33m41\u001b[33m5d\u001b[0m           \u001b[1;95mpopq\u001b[36m \u001b[0m%\u001b[36mr13\u001b[0m\u001b[0m\u001b[0m\n",
      "   \u001b[36m│\u001b[0m\u001b[34m╎\u001b[0m\u001b[36m│\u001b[0m\u001b[36m│\u001b[0m\u001b[36m│\u001b[0m\u001b[36m│\u001b[0m   \u001b[32m0x55b7034c83bc\u001b[0m      \u001b[33m41\u001b[33m5e\u001b[0m           \u001b[1;95mpopq\u001b[36m \u001b[0m%\u001b[36mr14\u001b[0m\u001b[0m\u001b[0m\n",
      "   \u001b[36m│\u001b[0m\u001b[34m╎\u001b[0m\u001b[36m│\u001b[0m\u001b[36m│\u001b[0m\u001b[36m│\u001b[0m\u001b[36m│\u001b[0m   \u001b[32m0x55b7034c83be\u001b[0m      \u001b[33m41\u001b[33m5f\u001b[0m           \u001b[1;95mpopq\u001b[36m \u001b[0m%\u001b[36mr15\u001b[0m\u001b[0m\u001b[0m\n",
      "   \u001b[36m│\u001b[0m\u001b[34m╎\u001b[0m\u001b[36m│\u001b[0m\u001b[36m│\u001b[0m\u001b[36m│\u001b[0m\u001b[36m│\u001b[0m   \u001b[32m0x55b7034c83c0\u001b[0m      \u001b[37mc3\u001b[0m             \u001b[31mretq\u001b[0m\u001b[0m\u001b[0m\n",
      "   \u001b[36m│\u001b[0m\u001b[34m╎\u001b[0m\u001b[36m│\u001b[0m\u001b[36m│\u001b[0m\u001b[36m│\u001b[0m\u001b[36m│\u001b[0m   \u001b[32m0x55b7034c83c1\u001b[0m      \u001b[37m0f\u001b[37m1f\u001b[37m80\u001b[32m00\u001b[32m00\u001b[32m00\u001b[37m.\u001b[0m  \u001b[34mnopl\u001b[36m \u001b[36m0\u001b[0m(\u001b[36m\u001b[0m%\u001b[36mrax\u001b[0m)\u001b[36m\u001b[0m\u001b[0m\u001b[0m\n",
      "   \u001b[36m│\u001b[0m\u001b[34m╎\u001b[0m\u001b[36m└\u001b[0m\u001b[36m─\u001b[0m\u001b[36m─\u001b[0m\u001b[36m─\u001b[0m\u001b[36m─\u001b[0m\u001b[36m>\u001b[0m \u001b[32m0x55b7034c83c8\u001b[0m      \u001b[37me8\u001b[37m93\u001b[37mfd\u001b[31mff\u001b[31mff\u001b[0m     \u001b[1;92mcallq 0x55b7034c8160\u001b[0m\u001b[0m\n",
      "   \u001b[36m│\u001b[0m\u001b[34m╎\u001b[0m \u001b[36m│\u001b[0m\u001b[36m│\u001b[0m\u001b[36m│\u001b[0m   \u001b[32m0x55b7034c83cd\u001b[0m      \u001b[37mbf\u001b[37m01\u001b[32m00\u001b[32m00\u001b[32m00\u001b[0m     \u001b[37mmovl\u001b[36m $1\u001b[0m,\u001b[36m\u001b[36m \u001b[0m%\u001b[36medi\u001b[0m\u001b[0m\u001b[0m\n",
      "   \u001b[36m│\u001b[0m\u001b[34m╎\u001b[0m \u001b[36m│\u001b[0m\u001b[36m│\u001b[0m\u001b[36m│\u001b[0m   \u001b[32m0x55b7034c83d2\u001b[0m      \u001b[37me8\u001b[37mb9\u001b[33m46\u001b[32m00\u001b[32m00\u001b[0m     \u001b[1;92mcallq 0x55b7034cca90\u001b[0m\u001b[0m\n",
      "   \u001b[36m│\u001b[0m\u001b[34m╎\u001b[0m \u001b[36m│\u001b[0m\u001b[36m│\u001b[0m\u001b[36m│\u001b[0m   \u001b[32m0x55b7034c83d7\u001b[0m      \u001b[33m49\u001b[37m89\u001b[37mc5\u001b[0m         \u001b[37mmovq\u001b[36m \u001b[0m%\u001b[36mrax\u001b[0m,\u001b[36m\u001b[36m \u001b[0m%\u001b[36mr13\u001b[0m\u001b[0m\u001b[0m\n",
      "   \u001b[36m│\u001b[0m\u001b[34m╎\u001b[0m \u001b[36m│\u001b[0m\u001b[36m│\u001b[0m\u001b[36m│\u001b[0m   \u001b[32m0x55b7034c83da\u001b[0m      \u001b[33m4c\u001b[33m39\u001b[37me0\u001b[0m         \u001b[36mcmpq\u001b[36m \u001b[0m%\u001b[36mr12\u001b[0m,\u001b[36m\u001b[36m \u001b[0m%\u001b[36mrax\u001b[0m\u001b[0m\u001b[0m\n",
      "   \u001b[36m│\u001b[0m\u001b[34m└\u001b[0m\u001b[34m─\u001b[0m\u001b[34m─\u001b[0m\u001b[34m─\u001b[0m\u001b[34m─\u001b[0m\u001b[34m─\u001b[0m\u001b[34m<\u001b[0m \u001b[32m0x55b7034c83dd\u001b[0m      \u001b[33m75\u001b[37m94\u001b[0m           \u001b[32mjne 0x55b7034c8373\u001b[0m\u001b[0m\n",
      "\u001b[33m[0x55b7034c82f0]>\u001b[0m \u001b[?1001r\u001b[?1000l\n"
     ]
    }
   ],
   "source": [
    "%r pd @0x55b7034c82f0"
   ]
  },
  {
   "cell_type": "code",
   "execution_count": 18,
   "id": "3fe0bd34-5307-44a5-8648-d6a81828d2f5",
   "metadata": {},
   "outputs": [
    {
     "name": "stdout",
     "output_type": "stream",
     "text": [
      "pdf @0x55b7034d0710\n",
      "p: Cannot find function at 0x55b7034d0710d0710\u001b[2K\n",
      "\u001b[33m[0x7f1d6d0d7090]>\u001b[0m \u001b[?1001r\u001b[?1000l\n"
     ]
    }
   ],
   "source": [
    "# %r pdf @0x55b7034d0710"
   ]
  },
  {
   "cell_type": "markdown",
   "id": "0ebde03d-aaa6-4b4f-ad5b-242feddaad7e",
   "metadata": {},
   "source": [
    "# R2: Set Break Points:\n"
   ]
  },
  {
   "cell_type": "code",
   "execution_count": 333,
   "id": "a6e8b0d8-ecd9-4aff-9ba8-94bf3c18b7a5",
   "metadata": {},
   "outputs": [
    {
     "name": "stdout",
     "output_type": "stream",
     "text": [
      "db 0x00400527\n",
      "\u001b[33m[0x7ffff7dd8ef0]>\u001b[0m \u001b[?1001r\u001b[?1000lK\n",
      "db 0x00400552\n",
      "\u001b[33m[0x7ffff7dd8ef0]>\u001b[0m \u001b[?1001r\u001b[?1000lK\n"
     ]
    }
   ],
   "source": [
    "# %r db 0x00400527\n",
    "# %r db 0x00400552"
   ]
  },
  {
   "cell_type": "code",
   "execution_count": 25,
   "id": "d2176aea-36d8-4e20-9736-4ded21a26c0c",
   "metadata": {},
   "outputs": [
    {
     "name": "stdout",
     "output_type": "stream",
     "text": [
      "dc\n"
     ]
    },
    {
     "ename": "UnicodeDecodeError",
     "evalue": "'utf-8' codec can't decode byte 0x90 in position 184: invalid start byte",
     "output_type": "error",
     "traceback": [
      "\u001b[0;31m---------------------------------------------------------------------------\u001b[0m",
      "\u001b[0;31mUnicodeDecodeError\u001b[0m                        Traceback (most recent call last)",
      "\u001b[0;32m/tmp/ipykernel_2736/534401659.py\u001b[0m in \u001b[0;36m<module>\u001b[0;34m\u001b[0m\n\u001b[0;32m----> 1\u001b[0;31m \u001b[0mget_ipython\u001b[0m\u001b[0;34m(\u001b[0m\u001b[0;34m)\u001b[0m\u001b[0;34m.\u001b[0m\u001b[0mrun_line_magic\u001b[0m\u001b[0;34m(\u001b[0m\u001b[0;34m'r'\u001b[0m\u001b[0;34m,\u001b[0m \u001b[0;34m'dc'\u001b[0m\u001b[0;34m)\u001b[0m\u001b[0;34m\u001b[0m\u001b[0;34m\u001b[0m\u001b[0m\n\u001b[0m",
      "\u001b[0;32m~/miniconda/lib/python3.9/site-packages/IPython/core/interactiveshell.py\u001b[0m in \u001b[0;36mrun_line_magic\u001b[0;34m(self, magic_name, line, _stack_depth)\u001b[0m\n\u001b[1;32m   2346\u001b[0m                 \u001b[0mkwargs\u001b[0m\u001b[0;34m[\u001b[0m\u001b[0;34m'local_ns'\u001b[0m\u001b[0;34m]\u001b[0m \u001b[0;34m=\u001b[0m \u001b[0mself\u001b[0m\u001b[0;34m.\u001b[0m\u001b[0mget_local_scope\u001b[0m\u001b[0;34m(\u001b[0m\u001b[0mstack_depth\u001b[0m\u001b[0;34m)\u001b[0m\u001b[0;34m\u001b[0m\u001b[0;34m\u001b[0m\u001b[0m\n\u001b[1;32m   2347\u001b[0m             \u001b[0;32mwith\u001b[0m \u001b[0mself\u001b[0m\u001b[0;34m.\u001b[0m\u001b[0mbuiltin_trap\u001b[0m\u001b[0;34m:\u001b[0m\u001b[0;34m\u001b[0m\u001b[0;34m\u001b[0m\u001b[0m\n\u001b[0;32m-> 2348\u001b[0;31m                 \u001b[0mresult\u001b[0m \u001b[0;34m=\u001b[0m \u001b[0mfn\u001b[0m\u001b[0;34m(\u001b[0m\u001b[0;34m*\u001b[0m\u001b[0margs\u001b[0m\u001b[0;34m,\u001b[0m \u001b[0;34m**\u001b[0m\u001b[0mkwargs\u001b[0m\u001b[0;34m)\u001b[0m\u001b[0;34m\u001b[0m\u001b[0;34m\u001b[0m\u001b[0m\n\u001b[0m\u001b[1;32m   2349\u001b[0m             \u001b[0;32mreturn\u001b[0m \u001b[0mresult\u001b[0m\u001b[0;34m\u001b[0m\u001b[0;34m\u001b[0m\u001b[0m\n\u001b[1;32m   2350\u001b[0m \u001b[0;34m\u001b[0m\u001b[0m\n",
      "\u001b[0;32m/tmp/ipykernel_2736/188467121.py\u001b[0m in \u001b[0;36mr\u001b[0;34m(line)\u001b[0m\n\u001b[1;32m     21\u001b[0m     \u001b[0mend\u001b[0m \u001b[0;34m=\u001b[0m \u001b[0;34m\"\"\u001b[0m\u001b[0;34m\u001b[0m\u001b[0;34m\u001b[0m\u001b[0m\n\u001b[1;32m     22\u001b[0m     \u001b[0;32mwhile\u001b[0m \u001b[0;32mnot\u001b[0m \u001b[0;34m\"]>\"\u001b[0m \u001b[0;32min\u001b[0m \u001b[0mend\u001b[0m\u001b[0;34m:\u001b[0m\u001b[0;34m\u001b[0m\u001b[0;34m\u001b[0m\u001b[0m\n\u001b[0;32m---> 23\u001b[0;31m         \u001b[0mread\u001b[0m \u001b[0;34m=\u001b[0m \u001b[0mrp\u001b[0m\u001b[0;34m.\u001b[0m\u001b[0mread_nonblocking\u001b[0m\u001b[0;34m(\u001b[0m\u001b[0;36m100000\u001b[0m\u001b[0;34m)\u001b[0m\u001b[0;34m\u001b[0m\u001b[0;34m\u001b[0m\u001b[0m\n\u001b[0m\u001b[1;32m     24\u001b[0m         \u001b[0mprint\u001b[0m\u001b[0;34m(\u001b[0m\u001b[0mread\u001b[0m\u001b[0;34m)\u001b[0m\u001b[0;34m\u001b[0m\u001b[0;34m\u001b[0m\u001b[0m\n\u001b[1;32m     25\u001b[0m         \u001b[0mend\u001b[0m \u001b[0;34m=\u001b[0m \u001b[0mread\u001b[0m\u001b[0;34m[\u001b[0m\u001b[0;34m-\u001b[0m\u001b[0;36m50\u001b[0m\u001b[0;34m:\u001b[0m\u001b[0;34m]\u001b[0m\u001b[0;34m\u001b[0m\u001b[0;34m\u001b[0m\u001b[0m\n",
      "\u001b[0;32m~/miniconda/lib/python3.9/site-packages/pexpect/pty_spawn.py\u001b[0m in \u001b[0;36mread_nonblocking\u001b[0;34m(self, size, timeout)\u001b[0m\n\u001b[1;32m    458\u001b[0m         \u001b[0;32mif\u001b[0m \u001b[0mselect\u001b[0m\u001b[0;34m(\u001b[0m\u001b[0;36m0\u001b[0m\u001b[0;34m)\u001b[0m\u001b[0;34m:\u001b[0m\u001b[0;34m\u001b[0m\u001b[0;34m\u001b[0m\u001b[0m\n\u001b[1;32m    459\u001b[0m             \u001b[0;32mtry\u001b[0m\u001b[0;34m:\u001b[0m\u001b[0;34m\u001b[0m\u001b[0;34m\u001b[0m\u001b[0m\n\u001b[0;32m--> 460\u001b[0;31m                 \u001b[0mincoming\u001b[0m \u001b[0;34m=\u001b[0m \u001b[0msuper\u001b[0m\u001b[0;34m(\u001b[0m\u001b[0mspawn\u001b[0m\u001b[0;34m,\u001b[0m \u001b[0mself\u001b[0m\u001b[0;34m)\u001b[0m\u001b[0;34m.\u001b[0m\u001b[0mread_nonblocking\u001b[0m\u001b[0;34m(\u001b[0m\u001b[0msize\u001b[0m\u001b[0;34m)\u001b[0m\u001b[0;34m\u001b[0m\u001b[0;34m\u001b[0m\u001b[0m\n\u001b[0m\u001b[1;32m    461\u001b[0m             \u001b[0;32mexcept\u001b[0m \u001b[0mEOF\u001b[0m\u001b[0;34m:\u001b[0m\u001b[0;34m\u001b[0m\u001b[0;34m\u001b[0m\u001b[0m\n\u001b[1;32m    462\u001b[0m                 \u001b[0;31m# Maybe the child is dead: update some attributes in that case\u001b[0m\u001b[0;34m\u001b[0m\u001b[0;34m\u001b[0m\u001b[0;34m\u001b[0m\u001b[0m\n",
      "\u001b[0;32m~/miniconda/lib/python3.9/site-packages/pexpect/spawnbase.py\u001b[0m in \u001b[0;36mread_nonblocking\u001b[0;34m(self, size, timeout)\u001b[0m\n\u001b[1;32m    179\u001b[0m             \u001b[0;32mraise\u001b[0m \u001b[0mEOF\u001b[0m\u001b[0;34m(\u001b[0m\u001b[0;34m'End Of File (EOF). Empty string style platform.'\u001b[0m\u001b[0;34m)\u001b[0m\u001b[0;34m\u001b[0m\u001b[0;34m\u001b[0m\u001b[0m\n\u001b[1;32m    180\u001b[0m \u001b[0;34m\u001b[0m\u001b[0m\n\u001b[0;32m--> 181\u001b[0;31m         \u001b[0ms\u001b[0m \u001b[0;34m=\u001b[0m \u001b[0mself\u001b[0m\u001b[0;34m.\u001b[0m\u001b[0m_decoder\u001b[0m\u001b[0;34m.\u001b[0m\u001b[0mdecode\u001b[0m\u001b[0;34m(\u001b[0m\u001b[0ms\u001b[0m\u001b[0;34m,\u001b[0m \u001b[0mfinal\u001b[0m\u001b[0;34m=\u001b[0m\u001b[0;32mFalse\u001b[0m\u001b[0;34m)\u001b[0m\u001b[0;34m\u001b[0m\u001b[0;34m\u001b[0m\u001b[0m\n\u001b[0m\u001b[1;32m    182\u001b[0m         \u001b[0mself\u001b[0m\u001b[0;34m.\u001b[0m\u001b[0m_log\u001b[0m\u001b[0;34m(\u001b[0m\u001b[0ms\u001b[0m\u001b[0;34m,\u001b[0m \u001b[0;34m'read'\u001b[0m\u001b[0;34m)\u001b[0m\u001b[0;34m\u001b[0m\u001b[0;34m\u001b[0m\u001b[0m\n\u001b[1;32m    183\u001b[0m         \u001b[0;32mreturn\u001b[0m \u001b[0ms\u001b[0m\u001b[0;34m\u001b[0m\u001b[0;34m\u001b[0m\u001b[0m\n",
      "\u001b[0;32m~/miniconda/lib/python3.9/codecs.py\u001b[0m in \u001b[0;36mdecode\u001b[0;34m(self, input, final)\u001b[0m\n\u001b[1;32m    320\u001b[0m         \u001b[0;31m# decode input (taking the buffer into account)\u001b[0m\u001b[0;34m\u001b[0m\u001b[0;34m\u001b[0m\u001b[0;34m\u001b[0m\u001b[0m\n\u001b[1;32m    321\u001b[0m         \u001b[0mdata\u001b[0m \u001b[0;34m=\u001b[0m \u001b[0mself\u001b[0m\u001b[0;34m.\u001b[0m\u001b[0mbuffer\u001b[0m \u001b[0;34m+\u001b[0m \u001b[0minput\u001b[0m\u001b[0;34m\u001b[0m\u001b[0;34m\u001b[0m\u001b[0m\n\u001b[0;32m--> 322\u001b[0;31m         \u001b[0;34m(\u001b[0m\u001b[0mresult\u001b[0m\u001b[0;34m,\u001b[0m \u001b[0mconsumed\u001b[0m\u001b[0;34m)\u001b[0m \u001b[0;34m=\u001b[0m \u001b[0mself\u001b[0m\u001b[0;34m.\u001b[0m\u001b[0m_buffer_decode\u001b[0m\u001b[0;34m(\u001b[0m\u001b[0mdata\u001b[0m\u001b[0;34m,\u001b[0m \u001b[0mself\u001b[0m\u001b[0;34m.\u001b[0m\u001b[0merrors\u001b[0m\u001b[0;34m,\u001b[0m \u001b[0mfinal\u001b[0m\u001b[0;34m)\u001b[0m\u001b[0;34m\u001b[0m\u001b[0;34m\u001b[0m\u001b[0m\n\u001b[0m\u001b[1;32m    323\u001b[0m         \u001b[0;31m# keep undecoded input until the next call\u001b[0m\u001b[0;34m\u001b[0m\u001b[0;34m\u001b[0m\u001b[0;34m\u001b[0m\u001b[0m\n\u001b[1;32m    324\u001b[0m         \u001b[0mself\u001b[0m\u001b[0;34m.\u001b[0m\u001b[0mbuffer\u001b[0m \u001b[0;34m=\u001b[0m \u001b[0mdata\u001b[0m\u001b[0;34m[\u001b[0m\u001b[0mconsumed\u001b[0m\u001b[0;34m:\u001b[0m\u001b[0;34m]\u001b[0m\u001b[0;34m\u001b[0m\u001b[0;34m\u001b[0m\u001b[0m\n",
      "\u001b[0;31mUnicodeDecodeError\u001b[0m: 'utf-8' codec can't decode byte 0x90 in position 184: invalid start byte"
     ]
    }
   ],
   "source": [
    "%r dc"
   ]
  },
  {
   "cell_type": "code",
   "execution_count": 335,
   "id": "8c5673e3-e504-4f7e-a668-af9cc66aa8b5",
   "metadata": {},
   "outputs": [
    {
     "name": "stdout",
     "output_type": "stream",
     "text": [
      "pdf\n",
      "            \u001b[36m;-- rip:\u001b[0mK\n",
      "\u001b[36m┌\u001b[0m 61: \u001b[31msym.copy_arg\u001b[0m (int64_t arg1);\n",
      "\u001b[36m│\u001b[0m           \u001b[37m; \u001b[37mvar \u001b[34mint64_t var_98h \u001b[36m@ rbp-0x98\u001b[0m\n",
      "\u001b[36m│\u001b[0m           \u001b[37m; \u001b[37mvar \u001b[34mint64_t var_90h \u001b[36m@ rbp-0x90\u001b[0m\n",
      "\u001b[36m│\u001b[0m           \u001b[37m; \u001b[37marg \u001b[34mint64_t arg1 \u001b[36m@ rdi\u001b[0m\n",
      "\u001b[36m│\u001b[0m           \u001b[31m\u001b[31m; CALL XREF from main @ \u001b[31m0x40058b\u001b[31m\u001b[0m\n",
      "\u001b[36m│\u001b[0m           \u001b[32m\u001b[7m0x00400527\u001b[0m b    \u001b[33m55\u001b[0m             \u001b[35mpushq\u001b[36m \u001b[0m%\u001b[36mrbp\u001b[0m\u001b[0m\u001b[0m\n",
      "\u001b[36m│\u001b[0m           \u001b[32m0x00400528\u001b[0m      \u001b[33m48\u001b[37m89\u001b[37me5\u001b[0m         \u001b[37mmovq\u001b[36m \u001b[0m%\u001b[36mrsp\u001b[0m,\u001b[36m\u001b[36m \u001b[0m%\u001b[36mrbp\u001b[0m\u001b[0m\u001b[0m\n",
      "\u001b[36m│\u001b[0m           \u001b[32m0x0040052b\u001b[0m      \u001b[33m48\u001b[37m81\u001b[37mec\u001b[37ma0\u001b[32m00\u001b[32m00\u001b[37m.\u001b[0m  \u001b[33msubq\u001b[36m $\u001b[33m0xa0\u001b[0m,\u001b[36m\u001b[36m \u001b[0m%\u001b[36mrsp\u001b[0m\u001b[0m\u001b[0m\n",
      "\u001b[36m│\u001b[0m           \u001b[32m0x00400532\u001b[0m      \u001b[33m48\u001b[37m89\u001b[37mbd\u001b[33m68\u001b[31mff\u001b[31mff\u001b[37m.\u001b[0m  \u001b[37mmovq\u001b[36m \u001b[0m%\u001b[36mrdi\u001b[0m,\u001b[36m\u001b[36m var_98h\u001b[0m\u001b[0m\u001b[0m          \u001b[34m; arg1\u001b[0m\n",
      "\u001b[36m│\u001b[0m           \u001b[32m0x00400539\u001b[0m      \u001b[33m48\u001b[37m8b\u001b[37m95\u001b[33m68\u001b[31mff\u001b[31mff\u001b[37m.\u001b[0m  \u001b[37mmovq\u001b[36m var_98h\u001b[0m,\u001b[36m\u001b[36m \u001b[0m%\u001b[36mrdx\u001b[0m\u001b[0m\u001b[0m\n",
      "\u001b[36m│\u001b[0m           \u001b[32m0x00400540\u001b[0m      \u001b[33m48\u001b[37m8d\u001b[37m85\u001b[33m70\u001b[31mff\u001b[31mff\u001b[37m.\u001b[0m  \u001b[37mleaq\u001b[36m var_90h\u001b[0m,\u001b[36m\u001b[36m \u001b[0m%\u001b[36mrax\u001b[0m\u001b[0m\u001b[0m\n",
      "\u001b[36m│\u001b[0m           \u001b[32m0x00400547\u001b[0m      \u001b[33m48\u001b[37m89\u001b[37md6\u001b[0m         \u001b[37mmovq\u001b[36m \u001b[0m%\u001b[36mrdx\u001b[0m,\u001b[36m\u001b[36m \u001b[0m%\u001b[36mrsi\u001b[0m\u001b[0m\u001b[0m\n",
      "\u001b[36m│\u001b[0m           \u001b[32m0x0040054a\u001b[0m      \u001b[33m48\u001b[37m89\u001b[37mc7\u001b[0m         \u001b[37mmovq\u001b[36m \u001b[0m%\u001b[36mrax\u001b[0m,\u001b[36m\u001b[36m \u001b[0m%\u001b[36mrdi\u001b[0m\u001b[0m\u001b[0m\n",
      "\u001b[36m│\u001b[0m           \u001b[32m0x0040054d\u001b[0m      \u001b[37me8\u001b[37mde\u001b[37mfe\u001b[31mff\u001b[31mff\u001b[0m     \u001b[1;92mcallq sym.imp.strcpy\u001b[0m\u001b[0m\u001b[31m        ; char *strcpy(char *dest, const char *src)\u001b[0m\n",
      "\u001b[36m│\u001b[0m           \u001b[32m0x00400552\u001b[0m b    \u001b[33m48\u001b[37m8d\u001b[37m85\u001b[33m70\u001b[31mff\u001b[31mff\u001b[37m.\u001b[0m  \u001b[37mleaq\u001b[36m var_90h\u001b[0m,\u001b[36m\u001b[36m \u001b[0m%\u001b[36mrax\u001b[0m\u001b[0m\u001b[0m\n",
      "\u001b[36m│\u001b[0m           \u001b[32m0x00400559\u001b[0m      \u001b[33m48\u001b[37m89\u001b[37mc7\u001b[0m         \u001b[37mmovq\u001b[36m \u001b[0m%\u001b[36mrax\u001b[0m,\u001b[36m\u001b[36m \u001b[0m%\u001b[36mrdi\u001b[0m\u001b[0m\u001b[0m\n",
      "\u001b[36m│\u001b[0m           \u001b[32m0x0040055c\u001b[0m      \u001b[37me8\u001b[37mdf\u001b[37mfe\u001b[31mff\u001b[31mff\u001b[0m     \u001b[1;92mcallq sym.imp.puts\u001b[0m\u001b[0m\u001b[31m          ; int puts(const char *s)\u001b[0m\n",
      "\u001b[36m│\u001b[0m           \u001b[32m0x00400561\u001b[0m      \u001b[37m90\u001b[0m             \u001b[34mnop\u001b[0m\u001b[0m\u001b[0m\n",
      "\u001b[36m│\u001b[0m           \u001b[32m0x00400562\u001b[0m      \u001b[37mc9\u001b[0m             \u001b[1;95mleave\u001b[0m\u001b[0m\u001b[0m\n",
      "\u001b[36m└\u001b[0m           \u001b[32m0x00400563\u001b[0m      \u001b[37mc3\u001b[0m             \u001b[31mretq\u001b[0m\u001b[0m\u001b[0m\n",
      "\u001b[33m[0x00400527]>\u001b[0m \u001b[?1001r\u001b[?1000l\n"
     ]
    }
   ],
   "source": [
    "%r pdf"
   ]
  },
  {
   "cell_type": "code",
   "execution_count": 336,
   "id": "f2268913-ddca-47f3-8735-d468c045a314",
   "metadata": {},
   "outputs": [],
   "source": [
    "# %r ds"
   ]
  },
  {
   "cell_type": "markdown",
   "id": "f8564873-5fed-4859-98f0-51e443dc8050",
   "metadata": {},
   "source": [
    "# Inspect Variables:"
   ]
  },
  {
   "cell_type": "code",
   "execution_count": 337,
   "id": "9e7d2160-0a9f-4248-baee-acae880d0c5a",
   "metadata": {},
   "outputs": [
    {
     "name": "stdout",
     "output_type": "stream",
     "text": [
      "px @ rsp\n",
      "\u001b[32m- offset -       0 1  2 3  4 5  6 7  8 9  A B  C D  E F  0123456789ABCDEF\n",
      "\u001b[0m\u001b[32m0x7fffffffe408\u001b[0m  \u001b[37m90\u001b[0m\u001b[37m05\u001b[0m \u001b[33m40\u001b[0m\u001b[32m00\u001b[0m \u001b[32m00\u001b[0m\u001b[32m00\u001b[0m \u001b[32m00\u001b[0m\u001b[32m00\u001b[0m \u001b[37m08\u001b[0m\u001b[37me5\u001b[0m \u001b[31mff\u001b[0m\u001b[31mff\u001b[0m \u001b[31mff\u001b[0m\u001b[36m7f\u001b[0m \u001b[32m00\u001b[0m\u001b[32m00\u001b[0m  \u001b[37m.\u001b[0m\u001b[37m.\u001b[0m\u001b[33m@\u001b[0m\u001b[32m.\u001b[0m\u001b[32m.\u001b[0m\u001b[32m.\u001b[0m\u001b[32m.\u001b[0m\u001b[32m.\u001b[0m\u001b[37m.\u001b[0m\u001b[37m.\u001b[0m\u001b[31m.\u001b[0m\u001b[31m.\u001b[0m\u001b[31m.\u001b[0m\u001b[36m.\u001b[0m\u001b[32m.\u001b[0m\u001b[32m.\u001b[0m\n",
      "\u001b[32m0x7fffffffe418\u001b[0m  \u001b[32m00\u001b[0m\u001b[32m00\u001b[0m \u001b[32m00\u001b[0m\u001b[32m00\u001b[0m \u001b[37m02\u001b[0m\u001b[32m00\u001b[0m \u001b[32m00\u001b[0m\u001b[32m00\u001b[0m \u001b[37ma0\u001b[0m\u001b[37m05\u001b[0m \u001b[33m40\u001b[0m\u001b[32m00\u001b[0m \u001b[32m00\u001b[0m\u001b[32m00\u001b[0m \u001b[32m00\u001b[0m\u001b[32m00\u001b[0m  \u001b[32m.\u001b[0m\u001b[32m.\u001b[0m\u001b[32m.\u001b[0m\u001b[32m.\u001b[0m\u001b[37m.\u001b[0m\u001b[32m.\u001b[0m\u001b[32m.\u001b[0m\u001b[32m.\u001b[0m\u001b[37m.\u001b[0m\u001b[37m.\u001b[0m\u001b[33m@\u001b[0m\u001b[32m.\u001b[0m\u001b[32m.\u001b[0m\u001b[32m.\u001b[0m\u001b[32m.\u001b[0m\u001b[32m.\u001b[0m\n",
      "\u001b[32m0x7fffffffe428\u001b[0m  \u001b[33m2a\u001b[0m\u001b[33m30\u001b[0m \u001b[37ma4\u001b[0m\u001b[37mf7\u001b[0m \u001b[31mff\u001b[0m\u001b[36m7f\u001b[0m \u001b[32m00\u001b[0m\u001b[32m00\u001b[0m \u001b[32m00\u001b[0m\u001b[32m00\u001b[0m \u001b[32m00\u001b[0m\u001b[32m00\u001b[0m \u001b[32m00\u001b[0m\u001b[32m00\u001b[0m \u001b[32m00\u001b[0m\u001b[32m00\u001b[0m  \u001b[33m*\u001b[0m\u001b[33m0\u001b[0m\u001b[37m.\u001b[0m\u001b[37m.\u001b[0m\u001b[31m.\u001b[0m\u001b[36m.\u001b[0m\u001b[32m.\u001b[0m\u001b[32m.\u001b[0m\u001b[32m.\u001b[0m\u001b[32m.\u001b[0m\u001b[32m.\u001b[0m\u001b[32m.\u001b[0m\u001b[32m.\u001b[0m\u001b[32m.\u001b[0m\u001b[32m.\u001b[0m\u001b[32m.\u001b[0m\n",
      "\u001b[32m0x7fffffffe438\u001b[0m  \u001b[37m08\u001b[0m\u001b[37me5\u001b[0m \u001b[31mff\u001b[0m\u001b[31mff\u001b[0m \u001b[31mff\u001b[0m\u001b[36m7f\u001b[0m \u001b[32m00\u001b[0m\u001b[32m00\u001b[0m \u001b[32m00\u001b[0m\u001b[32m00\u001b[0m \u001b[37m04\u001b[0m\u001b[32m00\u001b[0m \u001b[37m02\u001b[0m\u001b[32m00\u001b[0m \u001b[32m00\u001b[0m\u001b[32m00\u001b[0m  \u001b[37m.\u001b[0m\u001b[37m.\u001b[0m\u001b[31m.\u001b[0m\u001b[31m.\u001b[0m\u001b[31m.\u001b[0m\u001b[36m.\u001b[0m\u001b[32m.\u001b[0m\u001b[32m.\u001b[0m\u001b[32m.\u001b[0m\u001b[32m.\u001b[0m\u001b[37m.\u001b[0m\u001b[32m.\u001b[0m\u001b[37m.\u001b[0m\u001b[32m.\u001b[0m\u001b[32m.\u001b[0m\u001b[32m.\u001b[0m\n",
      "\u001b[32m0x7fffffffe448\u001b[0m  \u001b[33m64\u001b[0m\u001b[37m05\u001b[0m \u001b[33m40\u001b[0m\u001b[32m00\u001b[0m \u001b[32m00\u001b[0m\u001b[32m00\u001b[0m \u001b[32m00\u001b[0m\u001b[32m00\u001b[0m \u001b[32m00\u001b[0m\u001b[32m00\u001b[0m \u001b[32m00\u001b[0m\u001b[32m00\u001b[0m \u001b[32m00\u001b[0m\u001b[32m00\u001b[0m \u001b[32m00\u001b[0m\u001b[32m00\u001b[0m  \u001b[33md\u001b[0m\u001b[37m.\u001b[0m\u001b[33m@\u001b[0m\u001b[32m.\u001b[0m\u001b[32m.\u001b[0m\u001b[32m.\u001b[0m\u001b[32m.\u001b[0m\u001b[32m.\u001b[0m\u001b[32m.\u001b[0m\u001b[32m.\u001b[0m\u001b[32m.\u001b[0m\u001b[32m.\u001b[0m\u001b[32m.\u001b[0m\u001b[32m.\u001b[0m\u001b[32m.\u001b[0m\u001b[32m.\u001b[0m\n",
      "\u001b[32m0x7fffffffe458\u001b[0m  \u001b[37m1c\u001b[0m\u001b[33m7a\u001b[0m \u001b[33m28\u001b[0m\u001b[37mcb\u001b[0m \u001b[33m74\u001b[0m\u001b[37m93\u001b[0m \u001b[37mf6\u001b[0m\u001b[33m2b\u001b[0m \u001b[33m50\u001b[0m\u001b[37m04\u001b[0m \u001b[33m40\u001b[0m\u001b[32m00\u001b[0m \u001b[32m00\u001b[0m\u001b[32m00\u001b[0m \u001b[32m00\u001b[0m\u001b[32m00\u001b[0m  \u001b[37m.\u001b[0m\u001b[33mz\u001b[0m\u001b[33m(\u001b[0m\u001b[37m.\u001b[0m\u001b[33mt\u001b[0m\u001b[37m.\u001b[0m\u001b[37m.\u001b[0m\u001b[33m+\u001b[0m\u001b[33mP\u001b[0m\u001b[37m.\u001b[0m\u001b[33m@\u001b[0m\u001b[32m.\u001b[0m\u001b[32m.\u001b[0m\u001b[32m.\u001b[0m\u001b[32m.\u001b[0m\u001b[32m.\u001b[0m\n",
      "\u001b[32m0x7fffffffe468\u001b[0m  \u001b[32m00\u001b[0m\u001b[37me5\u001b[0m \u001b[31mff\u001b[0m\u001b[31mff\u001b[0m \u001b[31mff\u001b[0m\u001b[36m7f\u001b[0m \u001b[32m00\u001b[0m\u001b[32m00\u001b[0m \u001b[32m00\u001b[0m\u001b[32m00\u001b[0m \u001b[32m00\u001b[0m\u001b[32m00\u001b[0m \u001b[32m00\u001b[0m\u001b[32m00\u001b[0m \u001b[32m00\u001b[0m\u001b[32m00\u001b[0m  \u001b[32m.\u001b[0m\u001b[37m.\u001b[0m\u001b[31m.\u001b[0m\u001b[31m.\u001b[0m\u001b[31m.\u001b[0m\u001b[36m.\u001b[0m\u001b[32m.\u001b[0m\u001b[32m.\u001b[0m\u001b[32m.\u001b[0m\u001b[32m.\u001b[0m\u001b[32m.\u001b[0m\u001b[32m.\u001b[0m\u001b[32m.\u001b[0m\u001b[32m.\u001b[0m\u001b[32m.\u001b[0m\u001b[32m.\u001b[0m\n",
      "\u001b[32m0x7fffffffe478\u001b[0m  \u001b[32m00\u001b[0m\u001b[32m00\u001b[0m \u001b[32m00\u001b[0m\u001b[32m00\u001b[0m \u001b[32m00\u001b[0m\u001b[32m00\u001b[0m \u001b[32m00\u001b[0m\u001b[32m00\u001b[0m \u001b[37m1c\u001b[0m\u001b[33m7a\u001b[0m \u001b[37m08\u001b[0m\u001b[37m08\u001b[0m \u001b[37m0b\u001b[0m\u001b[33m6c\u001b[0m \u001b[37m09\u001b[0m\u001b[37md4\u001b[0m  \u001b[32m.\u001b[0m\u001b[32m.\u001b[0m\u001b[32m.\u001b[0m\u001b[32m.\u001b[0m\u001b[32m.\u001b[0m\u001b[32m.\u001b[0m\u001b[32m.\u001b[0m\u001b[32m.\u001b[0m\u001b[37m.\u001b[0m\u001b[33mz\u001b[0m\u001b[37m.\u001b[0m\u001b[37m.\u001b[0m\u001b[37m.\u001b[0m\u001b[33ml\u001b[0m\u001b[37m.\u001b[0m\u001b[37m.\u001b[0m\n",
      "\u001b[32m0x7fffffffe488\u001b[0m  \u001b[37m1c\u001b[0m\u001b[33m7a\u001b[0m \u001b[37mac\u001b[0m\u001b[37m9f\u001b[0m \u001b[37mbc\u001b[0m\u001b[33m7c\u001b[0m \u001b[37m09\u001b[0m\u001b[37md4\u001b[0m \u001b[32m00\u001b[0m\u001b[32m00\u001b[0m \u001b[32m00\u001b[0m\u001b[32m00\u001b[0m \u001b[32m00\u001b[0m\u001b[32m00\u001b[0m \u001b[32m00\u001b[0m\u001b[32m00\u001b[0m  \u001b[37m.\u001b[0m\u001b[33mz\u001b[0m\u001b[37m.\u001b[0m\u001b[37m.\u001b[0m\u001b[37m.\u001b[0m\u001b[33m|\u001b[0m\u001b[37m.\u001b[0m\u001b[37m.\u001b[0m\u001b[32m.\u001b[0m\u001b[32m.\u001b[0m\u001b[32m.\u001b[0m\u001b[32m.\u001b[0m\u001b[32m.\u001b[0m\u001b[32m.\u001b[0m\u001b[32m.\u001b[0m\u001b[32m.\u001b[0m\n",
      "\u001b[32m0x7fffffffe498\u001b[0m  \u001b[32m00\u001b[0m\u001b[32m00\u001b[0m \u001b[32m00\u001b[0m\u001b[32m00\u001b[0m \u001b[32m00\u001b[0m\u001b[32m00\u001b[0m \u001b[32m00\u001b[0m\u001b[32m00\u001b[0m \u001b[32m00\u001b[0m\u001b[32m00\u001b[0m \u001b[32m00\u001b[0m\u001b[32m00\u001b[0m \u001b[32m00\u001b[0m\u001b[32m00\u001b[0m \u001b[32m00\u001b[0m\u001b[32m00\u001b[0m  \u001b[32m.\u001b[0m\u001b[32m.\u001b[0m\u001b[32m.\u001b[0m\u001b[32m.\u001b[0m\u001b[32m.\u001b[0m\u001b[32m.\u001b[0m\u001b[32m.\u001b[0m\u001b[32m.\u001b[0m\u001b[32m.\u001b[0m\u001b[32m.\u001b[0m\u001b[32m.\u001b[0m\u001b[32m.\u001b[0m\u001b[32m.\u001b[0m\u001b[32m.\u001b[0m\u001b[32m.\u001b[0m\u001b[32m.\u001b[0m\n",
      "\u001b[32m0x7fffffffe4a8\u001b[0m  \u001b[33m20\u001b[0m\u001b[37me5\u001b[0m \u001b[31mff\u001b[0m\u001b[31mff\u001b[0m \u001b[31mff\u001b[0m\u001b[36m7f\u001b[0m \u001b[32m00\u001b[0m\u001b[32m00\u001b[0m \u001b[33m30\u001b[0m\u001b[37me1\u001b[0m \u001b[31mff\u001b[0m\u001b[37mf7\u001b[0m \u001b[31mff\u001b[0m\u001b[36m7f\u001b[0m \u001b[32m00\u001b[0m\u001b[32m00\u001b[0m  \u001b[33m \u001b[0m\u001b[37m.\u001b[0m\u001b[31m.\u001b[0m\u001b[31m.\u001b[0m\u001b[31m.\u001b[0m\u001b[36m.\u001b[0m\u001b[32m.\u001b[0m\u001b[32m.\u001b[0m\u001b[33m0\u001b[0m\u001b[37m.\u001b[0m\u001b[31m.\u001b[0m\u001b[37m.\u001b[0m\u001b[31m.\u001b[0m\u001b[36m.\u001b[0m\u001b[32m.\u001b[0m\u001b[32m.\u001b[0m\n",
      "\u001b[32m0x7fffffffe4b8\u001b[0m  \u001b[33m56\u001b[0m\u001b[33m76\u001b[0m \u001b[37mde\u001b[0m\u001b[37mf7\u001b[0m \u001b[31mff\u001b[0m\u001b[36m7f\u001b[0m \u001b[32m00\u001b[0m\u001b[32m00\u001b[0m \u001b[32m00\u001b[0m\u001b[32m00\u001b[0m \u001b[32m00\u001b[0m\u001b[32m00\u001b[0m \u001b[32m00\u001b[0m\u001b[32m00\u001b[0m \u001b[32m00\u001b[0m\u001b[32m00\u001b[0m  \u001b[33mV\u001b[0m\u001b[33mv\u001b[0m\u001b[37m.\u001b[0m\u001b[37m.\u001b[0m\u001b[31m.\u001b[0m\u001b[36m.\u001b[0m\u001b[32m.\u001b[0m\u001b[32m.\u001b[0m\u001b[32m.\u001b[0m\u001b[32m.\u001b[0m\u001b[32m.\u001b[0m\u001b[32m.\u001b[0m\u001b[32m.\u001b[0m\u001b[32m.\u001b[0m\u001b[32m.\u001b[0m\u001b[32m.\u001b[0m\n",
      "\u001b[32m0x7fffffffe4c8\u001b[0m  \u001b[32m00\u001b[0m\u001b[32m00\u001b[0m \u001b[32m00\u001b[0m\u001b[32m00\u001b[0m \u001b[32m00\u001b[0m\u001b[32m00\u001b[0m \u001b[32m00\u001b[0m\u001b[32m00\u001b[0m \u001b[32m00\u001b[0m\u001b[32m00\u001b[0m \u001b[32m00\u001b[0m\u001b[32m00\u001b[0m \u001b[32m00\u001b[0m\u001b[32m00\u001b[0m \u001b[32m00\u001b[0m\u001b[32m00\u001b[0m  \u001b[32m.\u001b[0m\u001b[32m.\u001b[0m\u001b[32m.\u001b[0m\u001b[32m.\u001b[0m\u001b[32m.\u001b[0m\u001b[32m.\u001b[0m\u001b[32m.\u001b[0m\u001b[32m.\u001b[0m\u001b[32m.\u001b[0m\u001b[32m.\u001b[0m\u001b[32m.\u001b[0m\u001b[32m.\u001b[0m\u001b[32m.\u001b[0m\u001b[32m.\u001b[0m\u001b[32m.\u001b[0m\u001b[32m.\u001b[0m\n",
      "\u001b[32m0x7fffffffe4d8\u001b[0m  \u001b[33m50\u001b[0m\u001b[37m04\u001b[0m \u001b[33m40\u001b[0m\u001b[32m00\u001b[0m \u001b[32m00\u001b[0m\u001b[32m00\u001b[0m \u001b[32m00\u001b[0m\u001b[32m00\u001b[0m \u001b[32m00\u001b[0m\u001b[37me5\u001b[0m \u001b[31mff\u001b[0m\u001b[31mff\u001b[0m \u001b[31mff\u001b[0m\u001b[36m7f\u001b[0m \u001b[32m00\u001b[0m\u001b[32m00\u001b[0m  \u001b[33mP\u001b[0m\u001b[37m.\u001b[0m\u001b[33m@\u001b[0m\u001b[32m.\u001b[0m\u001b[32m.\u001b[0m\u001b[32m.\u001b[0m\u001b[32m.\u001b[0m\u001b[32m.\u001b[0m\u001b[32m.\u001b[0m\u001b[37m.\u001b[0m\u001b[31m.\u001b[0m\u001b[31m.\u001b[0m\u001b[31m.\u001b[0m\u001b[36m.\u001b[0m\u001b[32m.\u001b[0m\u001b[32m.\u001b[0m\n",
      "\u001b[32m0x7fffffffe4e8\u001b[0m  \u001b[33m7a\u001b[0m\u001b[37m04\u001b[0m \u001b[33m40\u001b[0m\u001b[32m00\u001b[0m \u001b[32m00\u001b[0m\u001b[32m00\u001b[0m \u001b[32m00\u001b[0m\u001b[32m00\u001b[0m \u001b[37mf8\u001b[0m\u001b[37me4\u001b[0m \u001b[31mff\u001b[0m\u001b[31mff\u001b[0m \u001b[31mff\u001b[0m\u001b[36m7f\u001b[0m \u001b[32m00\u001b[0m\u001b[32m00\u001b[0m  \u001b[33mz\u001b[0m\u001b[37m.\u001b[0m\u001b[33m@\u001b[0m\u001b[32m.\u001b[0m\u001b[32m.\u001b[0m\u001b[32m.\u001b[0m\u001b[32m.\u001b[0m\u001b[32m.\u001b[0m\u001b[37m.\u001b[0m\u001b[37m.\u001b[0m\u001b[31m.\u001b[0m\u001b[31m.\u001b[0m\u001b[31m.\u001b[0m\u001b[36m.\u001b[0m\u001b[32m.\u001b[0m\u001b[32m.\u001b[0m\n",
      "\u001b[32m0x7fffffffe4f8\u001b[0m  \u001b[37m80\u001b[0m\u001b[37mdf\u001b[0m \u001b[31mff\u001b[0m\u001b[37mf7\u001b[0m \u001b[31mff\u001b[0m\u001b[36m7f\u001b[0m \u001b[32m00\u001b[0m\u001b[32m00\u001b[0m \u001b[37m02\u001b[0m\u001b[32m00\u001b[0m \u001b[32m00\u001b[0m\u001b[32m00\u001b[0m \u001b[32m00\u001b[0m\u001b[32m00\u001b[0m \u001b[32m00\u001b[0m\u001b[32m00\u001b[0m  \u001b[37m.\u001b[0m\u001b[37m.\u001b[0m\u001b[31m.\u001b[0m\u001b[37m.\u001b[0m\u001b[31m.\u001b[0m\u001b[36m.\u001b[0m\u001b[32m.\u001b[0m\u001b[32m.\u001b[0m\u001b[37m.\u001b[0m\u001b[32m.\u001b[0m\u001b[32m.\u001b[0m\u001b[32m.\u001b[0m\u001b[32m.\u001b[0m\u001b[32m.\u001b[0m\u001b[32m.\u001b[0m\u001b[32m.\u001b[0m\n",
      "\u001b[33m[0x00400527]>\u001b[0m \u001b[?1001r\u001b[?1000l\n"
     ]
    }
   ],
   "source": [
    "%r px @ rsp"
   ]
  },
  {
   "cell_type": "code",
   "execution_count": 338,
   "id": "b823a4fc-32da-4c87-953c-06b80b713699",
   "metadata": {},
   "outputs": [
    {
     "name": "stdout",
     "output_type": "stream",
     "text": [
      "dc\n",
      "hit breakpoint at: 400552\u001b[2K\n",
      "\u001b[33m[0x00400552]>\u001b[0m \u001b[?1001r\u001b[?1000l\n"
     ]
    }
   ],
   "source": [
    "%r dc"
   ]
  },
  {
   "cell_type": "code",
   "execution_count": 339,
   "id": "0cc04b77-3d48-4f60-aa19-9f997bfb24a3",
   "metadata": {},
   "outputs": [
    {
     "name": "stdout",
     "output_type": "stream",
     "text": [
      "px @ rbp-0x98\n",
      "\u001b[32m- offset -       0 1  2 3  4 5  6 7  8 9  A B  C D  E F  0123456789ABCDEF\n",
      "\u001b[0m\u001b[32m0x7fffffffe368\u001b[0m  \u001b[33m5a\u001b[0m\u001b[37me7\u001b[0m \u001b[31mff\u001b[0m\u001b[31mff\u001b[0m \u001b[31mff\u001b[0m\u001b[36m7f\u001b[0m \u001b[32m00\u001b[0m\u001b[32m00\u001b[0m \u001b[33m41\u001b[0m\u001b[33m41\u001b[0m \u001b[33m41\u001b[0m\u001b[33m41\u001b[0m \u001b[33m41\u001b[0m\u001b[33m41\u001b[0m \u001b[33m41\u001b[0m\u001b[33m41\u001b[0m  \u001b[33mZ\u001b[0m\u001b[37m.\u001b[0m\u001b[31m.\u001b[0m\u001b[31m.\u001b[0m\u001b[31m.\u001b[0m\u001b[36m.\u001b[0m\u001b[32m.\u001b[0m\u001b[32m.\u001b[0m\u001b[33mA\u001b[0m\u001b[33mA\u001b[0m\u001b[33mA\u001b[0m\u001b[33mA\u001b[0m\u001b[33mA\u001b[0m\u001b[33mA\u001b[0m\u001b[33mA\u001b[0m\u001b[33mA\u001b[0m\n",
      "\u001b[32m0x7fffffffe378\u001b[0m  \u001b[33m41\u001b[0m\u001b[33m41\u001b[0m \u001b[33m41\u001b[0m\u001b[33m41\u001b[0m \u001b[33m41\u001b[0m\u001b[33m41\u001b[0m \u001b[33m41\u001b[0m\u001b[33m41\u001b[0m \u001b[33m41\u001b[0m\u001b[33m41\u001b[0m \u001b[33m41\u001b[0m\u001b[33m41\u001b[0m \u001b[33m41\u001b[0m\u001b[33m41\u001b[0m \u001b[33m41\u001b[0m\u001b[33m41\u001b[0m  \u001b[33mA\u001b[0m\u001b[33mA\u001b[0m\u001b[33mA\u001b[0m\u001b[33mA\u001b[0m\u001b[33mA\u001b[0m\u001b[33mA\u001b[0m\u001b[33mA\u001b[0m\u001b[33mA\u001b[0m\u001b[33mA\u001b[0m\u001b[33mA\u001b[0m\u001b[33mA\u001b[0m\u001b[33mA\u001b[0m\u001b[33mA\u001b[0m\u001b[33mA\u001b[0m\u001b[33mA\u001b[0m\u001b[33mA\u001b[0m\n",
      "\u001b[32m0x7fffffffe388\u001b[0m  \u001b[33m41\u001b[0m\u001b[33m41\u001b[0m \u001b[33m41\u001b[0m\u001b[33m41\u001b[0m \u001b[33m41\u001b[0m\u001b[33m41\u001b[0m \u001b[33m41\u001b[0m\u001b[33m41\u001b[0m \u001b[33m41\u001b[0m\u001b[33m41\u001b[0m \u001b[33m41\u001b[0m\u001b[33m41\u001b[0m \u001b[33m41\u001b[0m\u001b[33m41\u001b[0m \u001b[33m41\u001b[0m\u001b[33m41\u001b[0m  \u001b[33mA\u001b[0m\u001b[33mA\u001b[0m\u001b[33mA\u001b[0m\u001b[33mA\u001b[0m\u001b[33mA\u001b[0m\u001b[33mA\u001b[0m\u001b[33mA\u001b[0m\u001b[33mA\u001b[0m\u001b[33mA\u001b[0m\u001b[33mA\u001b[0m\u001b[33mA\u001b[0m\u001b[33mA\u001b[0m\u001b[33mA\u001b[0m\u001b[33mA\u001b[0m\u001b[33mA\u001b[0m\u001b[33mA\u001b[0m\n",
      "\u001b[32m0x7fffffffe398\u001b[0m  \u001b[33m41\u001b[0m\u001b[33m41\u001b[0m \u001b[33m41\u001b[0m\u001b[33m41\u001b[0m \u001b[33m41\u001b[0m\u001b[33m41\u001b[0m \u001b[33m41\u001b[0m\u001b[33m41\u001b[0m \u001b[33m41\u001b[0m\u001b[33m41\u001b[0m \u001b[33m41\u001b[0m\u001b[33m41\u001b[0m \u001b[33m41\u001b[0m\u001b[33m41\u001b[0m \u001b[33m41\u001b[0m\u001b[33m41\u001b[0m  \u001b[33mA\u001b[0m\u001b[33mA\u001b[0m\u001b[33mA\u001b[0m\u001b[33mA\u001b[0m\u001b[33mA\u001b[0m\u001b[33mA\u001b[0m\u001b[33mA\u001b[0m\u001b[33mA\u001b[0m\u001b[33mA\u001b[0m\u001b[33mA\u001b[0m\u001b[33mA\u001b[0m\u001b[33mA\u001b[0m\u001b[33mA\u001b[0m\u001b[33mA\u001b[0m\u001b[33mA\u001b[0m\u001b[33mA\u001b[0m\n",
      "\u001b[32m0x7fffffffe3a8\u001b[0m  \u001b[33m41\u001b[0m\u001b[33m41\u001b[0m \u001b[33m41\u001b[0m\u001b[33m41\u001b[0m \u001b[33m41\u001b[0m\u001b[33m41\u001b[0m \u001b[33m41\u001b[0m\u001b[33m41\u001b[0m \u001b[33m41\u001b[0m\u001b[33m41\u001b[0m \u001b[33m41\u001b[0m\u001b[33m41\u001b[0m \u001b[33m41\u001b[0m\u001b[33m41\u001b[0m \u001b[33m41\u001b[0m\u001b[33m41\u001b[0m  \u001b[33mA\u001b[0m\u001b[33mA\u001b[0m\u001b[33mA\u001b[0m\u001b[33mA\u001b[0m\u001b[33mA\u001b[0m\u001b[33mA\u001b[0m\u001b[33mA\u001b[0m\u001b[33mA\u001b[0m\u001b[33mA\u001b[0m\u001b[33mA\u001b[0m\u001b[33mA\u001b[0m\u001b[33mA\u001b[0m\u001b[33mA\u001b[0m\u001b[33mA\u001b[0m\u001b[33mA\u001b[0m\u001b[33mA\u001b[0m\n",
      "\u001b[32m0x7fffffffe3b8\u001b[0m  \u001b[33m41\u001b[0m\u001b[33m41\u001b[0m \u001b[33m41\u001b[0m\u001b[33m41\u001b[0m \u001b[33m41\u001b[0m\u001b[33m41\u001b[0m \u001b[33m41\u001b[0m\u001b[33m41\u001b[0m \u001b[33m41\u001b[0m\u001b[33m41\u001b[0m \u001b[33m41\u001b[0m\u001b[33m41\u001b[0m \u001b[33m41\u001b[0m\u001b[33m41\u001b[0m \u001b[33m41\u001b[0m\u001b[33m41\u001b[0m  \u001b[33mA\u001b[0m\u001b[33mA\u001b[0m\u001b[33mA\u001b[0m\u001b[33mA\u001b[0m\u001b[33mA\u001b[0m\u001b[33mA\u001b[0m\u001b[33mA\u001b[0m\u001b[33mA\u001b[0m\u001b[33mA\u001b[0m\u001b[33mA\u001b[0m\u001b[33mA\u001b[0m\u001b[33mA\u001b[0m\u001b[33mA\u001b[0m\u001b[33mA\u001b[0m\u001b[33mA\u001b[0m\u001b[33mA\u001b[0m\n",
      "\u001b[32m0x7fffffffe3c8\u001b[0m  \u001b[33m41\u001b[0m\u001b[33m41\u001b[0m \u001b[33m41\u001b[0m\u001b[33m41\u001b[0m \u001b[33m41\u001b[0m\u001b[33m41\u001b[0m \u001b[33m41\u001b[0m\u001b[33m41\u001b[0m \u001b[33m41\u001b[0m\u001b[33m41\u001b[0m \u001b[33m41\u001b[0m\u001b[33m41\u001b[0m \u001b[33m41\u001b[0m\u001b[33m41\u001b[0m \u001b[33m41\u001b[0m\u001b[33m41\u001b[0m  \u001b[33mA\u001b[0m\u001b[33mA\u001b[0m\u001b[33mA\u001b[0m\u001b[33mA\u001b[0m\u001b[33mA\u001b[0m\u001b[33mA\u001b[0m\u001b[33mA\u001b[0m\u001b[33mA\u001b[0m\u001b[33mA\u001b[0m\u001b[33mA\u001b[0m\u001b[33mA\u001b[0m\u001b[33mA\u001b[0m\u001b[33mA\u001b[0m\u001b[33mA\u001b[0m\u001b[33mA\u001b[0m\u001b[33mA\u001b[0m\n",
      "\u001b[32m0x7fffffffe3d8\u001b[0m  \u001b[33m41\u001b[0m\u001b[33m41\u001b[0m \u001b[33m41\u001b[0m\u001b[33m41\u001b[0m \u001b[33m41\u001b[0m\u001b[33m41\u001b[0m \u001b[33m41\u001b[0m\u001b[33m41\u001b[0m \u001b[33m41\u001b[0m\u001b[33m41\u001b[0m \u001b[33m41\u001b[0m\u001b[33m41\u001b[0m \u001b[33m41\u001b[0m\u001b[33m41\u001b[0m \u001b[33m41\u001b[0m\u001b[33m41\u001b[0m  \u001b[33mA\u001b[0m\u001b[33mA\u001b[0m\u001b[33mA\u001b[0m\u001b[33mA\u001b[0m\u001b[33mA\u001b[0m\u001b[33mA\u001b[0m\u001b[33mA\u001b[0m\u001b[33mA\u001b[0m\u001b[33mA\u001b[0m\u001b[33mA\u001b[0m\u001b[33mA\u001b[0m\u001b[33mA\u001b[0m\u001b[33mA\u001b[0m\u001b[33mA\u001b[0m\u001b[33mA\u001b[0m\u001b[33mA\u001b[0m\n",
      "\u001b[32m0x7fffffffe3e8\u001b[0m  \u001b[33m41\u001b[0m\u001b[33m41\u001b[0m \u001b[33m41\u001b[0m\u001b[33m41\u001b[0m \u001b[33m41\u001b[0m\u001b[33m41\u001b[0m \u001b[33m41\u001b[0m\u001b[33m41\u001b[0m \u001b[33m41\u001b[0m\u001b[33m41\u001b[0m \u001b[33m41\u001b[0m\u001b[33m41\u001b[0m \u001b[33m41\u001b[0m\u001b[33m41\u001b[0m \u001b[33m41\u001b[0m\u001b[33m41\u001b[0m  \u001b[33mA\u001b[0m\u001b[33mA\u001b[0m\u001b[33mA\u001b[0m\u001b[33mA\u001b[0m\u001b[33mA\u001b[0m\u001b[33mA\u001b[0m\u001b[33mA\u001b[0m\u001b[33mA\u001b[0m\u001b[33mA\u001b[0m\u001b[33mA\u001b[0m\u001b[33mA\u001b[0m\u001b[33mA\u001b[0m\u001b[33mA\u001b[0m\u001b[33mA\u001b[0m\u001b[33mA\u001b[0m\u001b[33mA\u001b[0m\n",
      "\u001b[32m0x7fffffffe3f8\u001b[0m  \u001b[33m41\u001b[0m\u001b[33m41\u001b[0m \u001b[33m41\u001b[0m\u001b[33m41\u001b[0m \u001b[33m41\u001b[0m\u001b[33m41\u001b[0m \u001b[33m41\u001b[0m\u001b[33m41\u001b[0m \u001b[33m41\u001b[0m\u001b[33m41\u001b[0m \u001b[33m41\u001b[0m\u001b[33m41\u001b[0m \u001b[33m41\u001b[0m\u001b[33m41\u001b[0m \u001b[33m41\u001b[0m\u001b[33m41\u001b[0m  \u001b[33mA\u001b[0m\u001b[33mA\u001b[0m\u001b[33mA\u001b[0m\u001b[33mA\u001b[0m\u001b[33mA\u001b[0m\u001b[33mA\u001b[0m\u001b[33mA\u001b[0m\u001b[33mA\u001b[0m\u001b[33mA\u001b[0m\u001b[33mA\u001b[0m\u001b[33mA\u001b[0m\u001b[33mA\u001b[0m\u001b[33mA\u001b[0m\u001b[33mA\u001b[0m\u001b[33mA\u001b[0m\u001b[33mA\u001b[0m\n",
      "\u001b[32m0x7fffffffe408\u001b[0m  \u001b[37mc2\u001b[0m\u001b[37m90\u001b[0m \u001b[32m00\u001b[0m\u001b[32m00\u001b[0m \u001b[32m00\u001b[0m\u001b[32m00\u001b[0m \u001b[32m00\u001b[0m\u001b[32m00\u001b[0m \u001b[37m08\u001b[0m\u001b[37me5\u001b[0m \u001b[31mff\u001b[0m\u001b[31mff\u001b[0m \u001b[31mff\u001b[0m\u001b[36m7f\u001b[0m \u001b[32m00\u001b[0m\u001b[32m00\u001b[0m  \u001b[37m.\u001b[0m\u001b[37m.\u001b[0m\u001b[32m.\u001b[0m\u001b[32m.\u001b[0m\u001b[32m.\u001b[0m\u001b[32m.\u001b[0m\u001b[32m.\u001b[0m\u001b[32m.\u001b[0m\u001b[37m.\u001b[0m\u001b[37m.\u001b[0m\u001b[31m.\u001b[0m\u001b[31m.\u001b[0m\u001b[31m.\u001b[0m\u001b[36m.\u001b[0m\u001b[32m.\u001b[0m\u001b[32m.\u001b[0m\n",
      "\u001b[32m0x7fffffffe418\u001b[0m  \u001b[32m00\u001b[0m\u001b[32m00\u001b[0m \u001b[32m00\u001b[0m\u001b[32m00\u001b[0m \u001b[37m02\u001b[0m\u001b[32m00\u001b[0m \u001b[32m00\u001b[0m\u001b[32m00\u001b[0m \u001b[37ma0\u001b[0m\u001b[37m05\u001b[0m \u001b[33m40\u001b[0m\u001b[32m00\u001b[0m \u001b[32m00\u001b[0m\u001b[32m00\u001b[0m \u001b[32m00\u001b[0m\u001b[32m00\u001b[0m  \u001b[32m.\u001b[0m\u001b[32m.\u001b[0m\u001b[32m.\u001b[0m\u001b[32m.\u001b[0m\u001b[37m.\u001b[0m\u001b[32m.\u001b[0m\u001b[32m.\u001b[0m\u001b[32m.\u001b[0m\u001b[37m.\u001b[0m\u001b[37m.\u001b[0m\u001b[33m@\u001b[0m\u001b[32m.\u001b[0m\u001b[32m.\u001b[0m\u001b[32m.\u001b[0m\u001b[32m.\u001b[0m\u001b[32m.\u001b[0m\n",
      "\u001b[32m0x7fffffffe428\u001b[0m  \u001b[33m2a\u001b[0m\u001b[33m30\u001b[0m \u001b[37ma4\u001b[0m\u001b[37mf7\u001b[0m \u001b[31mff\u001b[0m\u001b[36m7f\u001b[0m \u001b[32m00\u001b[0m\u001b[32m00\u001b[0m \u001b[32m00\u001b[0m\u001b[32m00\u001b[0m \u001b[32m00\u001b[0m\u001b[32m00\u001b[0m \u001b[32m00\u001b[0m\u001b[32m00\u001b[0m \u001b[32m00\u001b[0m\u001b[32m00\u001b[0m  \u001b[33m*\u001b[0m\u001b[33m0\u001b[0m\u001b[37m.\u001b[0m\u001b[37m.\u001b[0m\u001b[31m.\u001b[0m\u001b[36m.\u001b[0m\u001b[32m.\u001b[0m\u001b[32m.\u001b[0m\u001b[32m.\u001b[0m\u001b[32m.\u001b[0m\u001b[32m.\u001b[0m\u001b[32m.\u001b[0m\u001b[32m.\u001b[0m\u001b[32m.\u001b[0m\u001b[32m.\u001b[0m\u001b[32m.\u001b[0m\n",
      "\u001b[32m0x7fffffffe438\u001b[0m  \u001b[37m08\u001b[0m\u001b[37me5\u001b[0m \u001b[31mff\u001b[0m\u001b[31mff\u001b[0m \u001b[31mff\u001b[0m\u001b[36m7f\u001b[0m \u001b[32m00\u001b[0m\u001b[32m00\u001b[0m \u001b[32m00\u001b[0m\u001b[32m00\u001b[0m \u001b[37m04\u001b[0m\u001b[32m00\u001b[0m \u001b[37m02\u001b[0m\u001b[32m00\u001b[0m \u001b[32m00\u001b[0m\u001b[32m00\u001b[0m  \u001b[37m.\u001b[0m\u001b[37m.\u001b[0m\u001b[31m.\u001b[0m\u001b[31m.\u001b[0m\u001b[31m.\u001b[0m\u001b[36m.\u001b[0m\u001b[32m.\u001b[0m\u001b[32m.\u001b[0m\u001b[32m.\u001b[0m\u001b[32m.\u001b[0m\u001b[37m.\u001b[0m\u001b[32m.\u001b[0m\u001b[37m.\u001b[0m\u001b[32m.\u001b[0m\u001b[32m.\u001b[0m\u001b[32m.\u001b[0m\n",
      "\u001b[32m0x7fffffffe448\u001b[0m  \u001b[33m64\u001b[0m\u001b[37m05\u001b[0m \u001b[33m40\u001b[0m\u001b[32m00\u001b[0m \u001b[32m00\u001b[0m\u001b[32m00\u001b[0m \u001b[32m00\u001b[0m\u001b[32m00\u001b[0m \u001b[32m00\u001b[0m\u001b[32m00\u001b[0m \u001b[32m00\u001b[0m\u001b[32m00\u001b[0m \u001b[32m00\u001b[0m\u001b[32m00\u001b[0m \u001b[32m00\u001b[0m\u001b[32m00\u001b[0m  \u001b[33md\u001b[0m\u001b[37m.\u001b[0m\u001b[33m@\u001b[0m\u001b[32m.\u001b[0m\u001b[32m.\u001b[0m\u001b[32m.\u001b[0m\u001b[32m.\u001b[0m\u001b[32m.\u001b[0m\u001b[32m.\u001b[0m\u001b[32m.\u001b[0m\u001b[32m.\u001b[0m\u001b[32m.\u001b[0m\u001b[32m.\u001b[0m\u001b[32m.\u001b[0m\u001b[32m.\u001b[0m\u001b[32m.\u001b[0m\n",
      "\u001b[32m0x7fffffffe458\u001b[0m  \u001b[37m1c\u001b[0m\u001b[33m7a\u001b[0m \u001b[33m28\u001b[0m\u001b[37mcb\u001b[0m \u001b[33m74\u001b[0m\u001b[37m93\u001b[0m \u001b[37mf6\u001b[0m\u001b[33m2b\u001b[0m \u001b[33m50\u001b[0m\u001b[37m04\u001b[0m \u001b[33m40\u001b[0m\u001b[32m00\u001b[0m \u001b[32m00\u001b[0m\u001b[32m00\u001b[0m \u001b[32m00\u001b[0m\u001b[32m00\u001b[0m  \u001b[37m.\u001b[0m\u001b[33mz\u001b[0m\u001b[33m(\u001b[0m\u001b[37m.\u001b[0m\u001b[33mt\u001b[0m\u001b[37m.\u001b[0m\u001b[37m.\u001b[0m\u001b[33m+\u001b[0m\u001b[33mP\u001b[0m\u001b[37m.\u001b[0m\u001b[33m@\u001b[0m\u001b[32m.\u001b[0m\u001b[32m.\u001b[0m\u001b[32m.\u001b[0m\u001b[32m.\u001b[0m\u001b[32m.\u001b[0m\n",
      "\u001b[33m[0x00400552]>\u001b[0m \u001b[?1001r\u001b[?1000l\n"
     ]
    }
   ],
   "source": [
    "# we need to hit 0x7ffc03344dc8 + 4\n",
    "# safe jump: f00411468\n",
    "%r px @ rbp-0x98"
   ]
  },
  {
   "cell_type": "code",
   "execution_count": 340,
   "id": "7aa50737-6645-4936-b211-c9767213137f",
   "metadata": {},
   "outputs": [],
   "source": [
    "# %r dr"
   ]
  },
  {
   "cell_type": "code",
   "execution_count": null,
   "id": "5972b6d3-f7ae-4008-b2be-037e4627557e",
   "metadata": {},
   "outputs": [],
   "source": [
    "%r ds; pdf;"
   ]
  },
  {
   "cell_type": "code",
   "execution_count": 342,
   "id": "eee84632-f491-46f4-bf42-907a516bdb01",
   "metadata": {},
   "outputs": [
    {
     "name": "stdout",
     "output_type": "stream",
     "text": [
      "dc\n",
      "AAAAAAAAAAAAAAAAAAAAAAAAAAAAAAAAAAAAAAAAAAAAAAAAAAAAAAAAAAAAAAAAAAAAAAAAAAAAAAAAAAAAAAAAAAAAAAAAAAAAAAAAAAAAAAAAAAAAAAAAAAAAAAAAAAAAAAAAAAAAAAAAAAAAAAAA\n",
      "child stopped with signal 11\n",
      "[+] SIGNAL 11 errno=0 addr=0x000090c2 code=1 ret=0\n",
      "\u001b[33m[0x000090c2]>\u001b[0m \u001b[?1001r\u001b[?1000l\n"
     ]
    }
   ],
   "source": [
    "%r dc"
   ]
  },
  {
   "cell_type": "markdown",
   "id": "9086c23d-d438-4213-88a0-07bfd873ff2e",
   "metadata": {
    "tags": []
   },
   "source": [
    "# R2 Interact:"
   ]
  },
  {
   "cell_type": "code",
   "execution_count": 323,
   "id": "073b8e2e-58ec-4153-85c4-275f777d1f03",
   "metadata": {},
   "outputs": [
    {
     "name": "stdout",
     "output_type": "stream",
     "text": [
      "An r2 developer is coming to your place to manually analyze this program. Please wait for it\n",
      "\n",
      "--press any key--\n",
      "\u001b[2K\n"
     ]
    }
   ],
   "source": [
    "my_str = \"aaaaaaaaaaaaaa\"\n",
    "%ri {my_str}"
   ]
  },
  {
   "cell_type": "code",
   "execution_count": 324,
   "id": "771b4d16-6e55-4ff6-87f0-ea1abfaecd83",
   "metadata": {},
   "outputs": [
    {
     "name": "stdout",
     "output_type": "stream",
     "text": [
      "pdf\n",
      "\u001b[33mUsage: d   # Debug commands\u001b[0m00l\u001b[2K\n",
      "| db\u001b[33m[?]                    \u001b[32mBreakpoints commands\u001b[0m\n",
      "| dbt\u001b[33m[?]                   \u001b[32mDisplay backtrace based on dbg.btdepth and dbg.btalgo\u001b[0m\n",
      "| dc\u001b[33m[?]                    \u001b[32mContinue execution\u001b[0m\n",
      "| dd\u001b[33m[?]                    \u001b[32mFile descriptors (!fd in r1)\u001b[0m\n",
      "| de\u001b[33m[-sc] [perm] [rm] [e]  \u001b[32mDebug with ESIL (see de?)\u001b[0m\n",
      "| dg\u001b[33m <file>                \u001b[32mGenerate a core-file (WIP)\u001b[0m\n",
      "| dH\u001b[33m [handler]             \u001b[32mTransplant process to a new handler\u001b[0m\n",
      "| di\u001b[33m[?]                    \u001b[32mShow debugger backend information (See dh)\u001b[0m\n",
      "| dk\u001b[33m[?]                    \u001b[32mList, send, get, set, signal handlers of child\u001b[0m\n",
      "| dL\u001b[33m[?]                    \u001b[32mList or set debugger handler\u001b[0m\n",
      "| dm\u001b[33m[?]                    \u001b[32mShow memory maps\u001b[0m\n",
      "| do\u001b[33m[?]                    \u001b[32mOpen process (reload, alias for 'oo')\u001b[0m\n",
      "| doo\u001b[33m[args]                \u001b[32mReopen in debugger mode with args (alias for 'ood')\u001b[0m\n",
      "| dp\u001b[33m[?]                    \u001b[32mList, attach to process or thread id\u001b[0m\n",
      "| dr\u001b[33m[?]                    \u001b[32mCpu registers\u001b[0m\n",
      "| ds\u001b[33m[?]                    \u001b[32mStep, over, source line\u001b[0m\n",
      "| dt\u001b[33m[?]                    \u001b[32mDisplay instruction traces\u001b[0m\n",
      "| dw\u001b[33m <pid>                 \u001b[32mBlock prompt until pid dies\u001b[0m\n",
      "| dx\u001b[33m[?]                    \u001b[32mInject and run code on target process (See gs)\u001b[0m\n",
      "\u001b[33m[0x00400500]>\u001b[0m \u001b[?1001r\u001b[?1000l\n"
     ]
    }
   ],
   "source": [
    "%r pdf"
   ]
  },
  {
   "cell_type": "markdown",
   "id": "cad06ddd-c406-43a5-a24f-7a1c10b5b246",
   "metadata": {
    "tags": []
   },
   "source": [
    "# Find Target:"
   ]
  },
  {
   "cell_type": "code",
   "execution_count": 120,
   "id": "8c4d6569-e7eb-4351-8b15-077522970c6f",
   "metadata": {},
   "outputs": [
    {
     "name": "stdout",
     "output_type": "stream",
     "text": [
      "pdf @sym.normal\n",
      "Invalid address (sym.normal)sym.normal\u001b[2K\n",
      "|ERROR| Invalid command 'pdf @sym.normal' (0x70)\n",
      "\u001b[33m[0x00400595]>\u001b[0m \u001b[?1001r\u001b[?1000l\n"
     ]
    }
   ],
   "source": [
    "%r pdf @sym.normal"
   ]
  },
  {
   "cell_type": "code",
   "execution_count": 121,
   "id": "429caba0-cba8-4b6c-8c38-63fdec1e4bbb",
   "metadata": {},
   "outputs": [
    {
     "name": "stdout",
     "output_type": "stream",
     "text": [
      "pdf @sym.special\n",
      "Invalid address (sym.special)ym.special\u001b[2K\n",
      "|ERROR| Invalid command 'pdf @sym.special' (0x70)\n",
      "\u001b[33m[0x00400595]>\u001b[0m \u001b[?1001r\u001b[?1000l\n"
     ]
    }
   ],
   "source": [
    "%r pdf @sym.special"
   ]
  },
  {
   "cell_type": "markdown",
   "id": "f3023222-2118-4205-86f8-afcc105ce332",
   "metadata": {
    "tags": []
   },
   "source": [
    "# Other Notes:"
   ]
  },
  {
   "cell_type": "raw",
   "id": "a873794a-6d25-4d69-8569-c9602d010a07",
   "metadata": {},
   "source": [
    "%rsp is the stack pointer \n",
    "%rbp is a frame pointer\n",
    "\n",
    "movq $3 rax      would move the constant 3 to the register\n",
    "movq %rax %rbx   which involves moving value from rax to rbx\n",
    "movq %rax (%rbx) which means move value stored in %rax to memory location represented by %rbx"
   ]
  },
  {
   "cell_type": "raw",
   "id": "7ba49c37-0fda-45da-9f05-e01828f00828",
   "metadata": {},
   "source": [
    "(Rb, Ri) = MemoryLocation[Rb + Ri]\n",
    "D(Rb, Ri) = MemoryLocation[Rb + Ri + D]\n",
    "(Rb, Ri, S) = MemoryLocation(Rb + S * Ri]\n",
    "D(Rb, Ri, S) = MemoryLocation[Rb + S * Ri + D]"
   ]
  },
  {
   "cell_type": "raw",
   "id": "85e2f95d-22ca-4663-bee1-9003bf7460ee",
   "metadata": {},
   "source": [
    "leaq source, destination: this instruction sets destination to the address denoted by the expression in source\n",
    "addq source, destination: destination = destination + source\n",
    "subq source, destination: destination = destination - source\n",
    "imulq source, destination: destination = destination * source\n",
    "salq source, destination: destination = destination << sourc where << is the left bit shifting operator\n",
    "sarq source, destination: destination = destination >> source where >> is the right bit shifting operator\n",
    "xorq source, destination: destination = destination XOR source\n",
    "andq source, destination: destination = destination & source\n",
    "orq source, destination: destination = destination | source"
   ]
  },
  {
   "cell_type": "raw",
   "id": "e38c3297-523f-4d77-ae78-c4a4c715e379",
   "metadata": {},
   "source": [
    "aa;e asm.syntax=att; afl; pdf @main;\n",
    "\n",
    "db\n",
    "dc\n",
    "\n",
    "px@\n",
    "\n",
    "disassemble next instructions\n",
    "    pd \n",
    "    \n",
    "seek to location\n",
    "    s \n",
    "    \n",
    "quickly show current function\n",
    "    pdf \n",
    "\n",
    "get value stored at reference:\n",
    "    pxr @0x561f728459bf\n",
    "    \n",
    "show all registers:\n",
    "    drt all\n",
    "    \n",
    "Stack telescoping: (depends on architecture)\n",
    "    pxr @ esp\n",
    "    pxr @ rsp\n",
    "    pxa @ rsp - to show annotated hexdump\n",
    "    pxw @ rsp - to show hexadecimal words dump (32bit)\n",
    "    pxq @ rsp - to show hexadecimal quad-words dump (64bit)\n",
    "    ad@r:SP - to analyze the stack data\n",
    "    \n",
    "frame pointer(rbp) to point to the start of the new frame. \n",
    "\n",
    "Upto 6 arguments for functions can be stored in the following registers:\n",
    "\n",
    "rdi\n",
    "\n",
    "rsi\n",
    "\n",
    "rdx\n",
    "\n",
    "rcx\n",
    "\n",
    "r8\n",
    "\n",
    "r9\n",
    "\n",
    "\n",
    "rax is return address\n",
    "\n",
    "A NOP instruction is represented using \\x90"
   ]
  }
 ],
 "metadata": {
  "kernelspec": {
   "display_name": "Python 3 (ipykernel)",
   "language": "python",
   "name": "python3"
  },
  "language_info": {
   "codemirror_mode": {
    "name": "ipython",
    "version": 3
   },
   "file_extension": ".py",
   "mimetype": "text/x-python",
   "name": "python",
   "nbconvert_exporter": "python",
   "pygments_lexer": "ipython3",
   "version": "3.9.2"
  }
 },
 "nbformat": 4,
 "nbformat_minor": 5
}
