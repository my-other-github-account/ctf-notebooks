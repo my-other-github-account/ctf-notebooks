{
 "cells": [
  {
   "cell_type": "markdown",
   "id": "b16b8f81-0421-4ac7-830b-d43cf35f5f03",
   "metadata": {},
   "source": [
    "# R2 Overview:"
   ]
  },
  {
   "cell_type": "markdown",
   "id": "caa380e4-bfe7-46db-a9d4-1964f3fdaf44",
   "metadata": {},
   "source": [
    "Remember to do:\n",
    "\n",
    "Setup\n",
    "\n",
    "List functions, then print code for one"
   ]
  },
  {
   "cell_type": "code",
   "execution_count": 2,
   "id": "820c8e20-0efc-407f-9355-a18c4cbfe686",
   "metadata": {},
   "outputs": [
    {
     "name": "stdout",
     "output_type": "stream",
     "text": [
      "Collecting r2pipe\n",
      "  Using cached r2pipe-1.6.2.tar.gz (10 kB)\n",
      "Building wheels for collected packages: r2pipe\n",
      "  Building wheel for r2pipe (setup.py) ... \u001b[?25ldone\n",
      "\u001b[?25h  Created wheel for r2pipe: filename=r2pipe-1.6.2-py3-none-any.whl size=11425 sha256=2200c4cca56119981a660c687ac36dadb1c0ad7c5c5951d7e67774086fa142e1\n",
      "  Stored in directory: /home/parallels/.cache/pip/wheels/6f/b8/69/be0a45b6727965affea5a36445a16c8eb06622d1e088ca192b\n",
      "Successfully built r2pipe\n",
      "Installing collected packages: r2pipe\n",
      "Successfully installed r2pipe-1.6.2\n",
      "Note: you may need to restart the kernel to use updated packages.\n"
     ]
    }
   ],
   "source": [
    "%pip install r2pipe"
   ]
  },
  {
   "cell_type": "code",
   "execution_count": 19,
   "id": "ecc26dd7-9581-4ff8-b0bd-1ec117c6a028",
   "metadata": {},
   "outputs": [
    {
     "name": "stderr",
     "output_type": "stream",
     "text": [
      "Warning: run r2 with -e io.cache=true to fix relocations in disassembly\n"
     ]
    }
   ],
   "source": [
    "import r2pipe\n",
    "\n",
    "rp = r2pipe.open('if1')"
   ]
  },
  {
   "cell_type": "code",
   "execution_count": 20,
   "id": "be5085a0-b9f9-44fe-96bd-a3e3a6dc508d",
   "metadata": {},
   "outputs": [],
   "source": [
    "from IPython.core.magic import (register_line_magic, register_cell_magic,\n",
    "                                register_line_cell_magic)\n",
    "@register_line_magic\n",
    "def r(line):\n",
    "    print(line)\n",
    "    print()\n",
    "    print(rp.cmd(line))\n",
    "    return"
   ]
  },
  {
   "cell_type": "code",
   "execution_count": 21,
   "id": "13b51c14-646a-405c-90b7-f84a631befc1",
   "metadata": {},
   "outputs": [
    {
     "name": "stdout",
     "output_type": "stream",
     "text": [
      "aa;e asm.syntax=att;afl;\n",
      "\n",
      "0x000004f0    1 42           entry0\n",
      "0x00000520    4 50   -> 40   sym.deregister_tm_clones\n",
      "0x00000560    4 66   -> 57   sym.register_tm_clones\n",
      "0x000005b0    5 58   -> 51   sym.__do_global_dtors_aux\n",
      "0x000004e0    1 6            sym.imp.__cxa_finalize\n",
      "0x000005f0    1 10           entry.init0\n",
      "0x000006a0    1 2            sym.__libc_csu_fini\n",
      "0x000006a4    1 9            sym._fini\n",
      "0x00000630    4 101          sym.__libc_csu_init\n",
      "0x000005fa    4 43           main\n",
      "0x000004b8    3 23           sym._init\n",
      "0x00000000    5 97   -> 121  loc.imp._ITM_deregisterTMCloneTable\n",
      "\n"
     ]
    },
    {
     "name": "stderr",
     "output_type": "stream",
     "text": [
      "\u001b[2K\r"
     ]
    }
   ],
   "source": [
    "%r aa;e asm.syntax=att;afl;"
   ]
  },
  {
   "cell_type": "code",
   "execution_count": 22,
   "id": "d4925339-2c39-4f04-b63c-1261c8d8050e",
   "metadata": {},
   "outputs": [
    {
     "name": "stdout",
     "output_type": "stream",
     "text": [
      "pdf @main\n",
      "\n",
      "            ; DATA XREF from entry0 @ 0x50d\n",
      "┌ 43: int main (int argc, char **argv, char **envp);\n",
      "│           ; var int64_t var_8h @ rbp-0x8\n",
      "│           ; var int64_t var_4h @ rbp-0x4\n",
      "│           0x000005fa      55             pushq %rbp\n",
      "│           0x000005fb      4889e5         movq %rsp, %rbp\n",
      "│           0x000005fe      c745f8030000.  movl $3, var_8h\n",
      "│           0x00000605      c745fc040000.  movl $4, var_4h\n",
      "│           0x0000060c      8b45f8         movl var_8h, %eax\n",
      "│           0x0000060f      3b45fc         cmpl var_4h, %eax\n",
      "│       ┌─< 0x00000612      7d06           jge 0x61a\n",
      "│       │   0x00000614      8345f805       addl $5, var_8h\n",
      "│      ┌──< 0x00000618      eb04           jmp 0x61e\n",
      "│      │└─> 0x0000061a      8345fc03       addl $3, var_4h\n",
      "│      │    ; CODE XREF from main @ 0x618\n",
      "│      └──> 0x0000061e      b800000000     movl $0, %eax\n",
      "│           0x00000623      5d             popq %rbp\n",
      "└           0x00000624      c3             retq\n",
      "\n"
     ]
    }
   ],
   "source": [
    "%r pdf @main"
   ]
  },
  {
   "cell_type": "markdown",
   "id": "f3023222-2118-4205-86f8-afcc105ce332",
   "metadata": {
    "jp-MarkdownHeadingCollapsed": true,
    "tags": []
   },
   "source": [
    "# Other Notes:"
   ]
  },
  {
   "cell_type": "raw",
   "id": "a873794a-6d25-4d69-8569-c9602d010a07",
   "metadata": {},
   "source": [
    "%rsp is the stack pointer \n",
    "%rbp is a frame pointer\n",
    "\n",
    "movq $3 rax      would move the constant 3 to the register\n",
    "movq %rax %rbx   which involves moving value from rax to rbx\n",
    "movq %rax (%rbx) which means move value stored in %rax to memory location represented by %rbx"
   ]
  },
  {
   "cell_type": "raw",
   "id": "7ba49c37-0fda-45da-9f05-e01828f00828",
   "metadata": {},
   "source": [
    "(Rb, Ri) = MemoryLocation[Rb + Ri]\n",
    "D(Rb, Ri) = MemoryLocation[Rb + Ri + D]\n",
    "(Rb, Ri, S) = MemoryLocation(Rb + S * Ri]\n",
    "D(Rb, Ri, S) = MemoryLocation[Rb + S * Ri + D]"
   ]
  },
  {
   "cell_type": "raw",
   "id": "85e2f95d-22ca-4663-bee1-9003bf7460ee",
   "metadata": {},
   "source": [
    "leaq source, destination: this instruction sets destination to the address denoted by the expression in source\n",
    "addq source, destination: destination = destination + source\n",
    "subq source, destination: destination = destination - source\n",
    "imulq source, destination: destination = destination * source\n",
    "salq source, destination: destination = destination << sourc where << is the left bit shifting operator\n",
    "sarq source, destination: destination = destination >> source where >> is the right bit shifting operator\n",
    "xorq source, destination: destination = destination XOR source\n",
    "andq source, destination: destination = destination & source\n",
    "orq source, destination: destination = destination | source"
   ]
  },
  {
   "cell_type": "markdown",
   "id": "0ebde03d-aaa6-4b4f-ad5b-242feddaad7e",
   "metadata": {},
   "source": [
    "# R2: Set Break Points:\n"
   ]
  },
  {
   "cell_type": "code",
   "execution_count": 10,
   "id": "a6e8b0d8-ecd9-4aff-9ba8-94bf3c18b7a5",
   "metadata": {},
   "outputs": [
    {
     "name": "stdout",
     "output_type": "stream",
     "text": [
      "\n",
      "\n"
     ]
    }
   ],
   "source": [
    "%r db 0x00000612\n",
    "%r db 0x00000618"
   ]
  },
  {
   "cell_type": "code",
   "execution_count": 23,
   "id": "b036f6a7-b3b4-414c-9e6a-583f439e8935",
   "metadata": {},
   "outputs": [
    {
     "name": "stdout",
     "output_type": "stream",
     "text": [
      "pdf @main\n",
      "\n",
      "            ; DATA XREF from entry0 @ 0x50d\n",
      "┌ 43: int main (int argc, char **argv, char **envp);\n",
      "│           ; var int64_t var_8h @ rbp-0x8\n",
      "│           ; var int64_t var_4h @ rbp-0x4\n",
      "│           0x000005fa      55             pushq %rbp\n",
      "│           0x000005fb      4889e5         movq %rsp, %rbp\n",
      "│           0x000005fe      c745f8030000.  movl $3, var_8h\n",
      "│           0x00000605      c745fc040000.  movl $4, var_4h\n",
      "│           0x0000060c      8b45f8         movl var_8h, %eax\n",
      "│           0x0000060f      3b45fc         cmpl var_4h, %eax\n",
      "│       ┌─< 0x00000612      7d06           jge 0x61a\n",
      "│       │   0x00000614      8345f805       addl $5, var_8h\n",
      "│      ┌──< 0x00000618      eb04           jmp 0x61e\n",
      "│      │└─> 0x0000061a      8345fc03       addl $3, var_4h\n",
      "│      │    ; CODE XREF from main @ 0x618\n",
      "│      └──> 0x0000061e      b800000000     movl $0, %eax\n",
      "│           0x00000623      5d             popq %rbp\n",
      "└           0x00000624      c3             retq\n",
      "\n"
     ]
    }
   ],
   "source": [
    "%r pdf @main"
   ]
  },
  {
   "cell_type": "code",
   "execution_count": 12,
   "id": "addc3b0b-b8ed-4d41-88e9-ce8e60cafa90",
   "metadata": {},
   "outputs": [
    {
     "name": "stdout",
     "output_type": "stream",
     "text": [
      "\n"
     ]
    },
    {
     "name": "stderr",
     "output_type": "stream",
     "text": [
      "Cannot continue, run ood?\n"
     ]
    }
   ],
   "source": [
    "%r dc"
   ]
  },
  {
   "cell_type": "code",
   "execution_count": 13,
   "id": "60da076d-2b9b-4315-86e7-861667f9435e",
   "metadata": {},
   "outputs": [
    {
     "name": "stdout",
     "output_type": "stream",
     "text": [
      "rax = 0x00000000\n",
      "rbx = 0x00000000\n",
      "rcx = 0x00000000\n",
      "rdx = 0x00000000\n",
      "rsi = 0x00000000\n",
      "rdi = 0x00000000\n",
      "r8 = 0x00000000\n",
      "r9 = 0x00000000\n",
      "r10 = 0x00000000\n",
      "r11 = 0x00000000\n",
      "r12 = 0x00000000\n",
      "r13 = 0x00000000\n",
      "r14 = 0x00000000\n",
      "r15 = 0x00000000\n",
      "rip = 0x00000000\n",
      "rbp = 0x00000000\n",
      "rflags = 0x00000000\n",
      "rsp = 0x00000000\n",
      "\n"
     ]
    }
   ],
   "source": [
    "%r dr"
   ]
  },
  {
   "cell_type": "code",
   "execution_count": null,
   "id": "252ff0a9-9d23-4d01-8fef-80a0e4a65b2d",
   "metadata": {},
   "outputs": [],
   "source": [
    "%r dc\n",
    "%r px @rbp-0x4\n",
    "%r ds"
   ]
  }
 ],
 "metadata": {
  "kernelspec": {
   "display_name": "Python 3 (ipykernel)",
   "language": "python",
   "name": "python3"
  },
  "language_info": {
   "codemirror_mode": {
    "name": "ipython",
    "version": 3
   },
   "file_extension": ".py",
   "mimetype": "text/x-python",
   "name": "python",
   "nbconvert_exporter": "python",
   "pygments_lexer": "ipython3",
   "version": "3.9.2"
  }
 },
 "nbformat": 4,
 "nbformat_minor": 5
}
