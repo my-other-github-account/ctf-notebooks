{
 "cells": [
  {
   "cell_type": "markdown",
   "id": "38c8a7d9-f325-4217-a4da-0d236e40f317",
   "metadata": {},
   "source": [
    "# ASSIGNMENT:"
   ]
  },
  {
   "cell_type": "code",
   "execution_count": 5,
   "id": "66799668-67b5-47bc-9594-872895532e7f",
   "metadata": {},
   "outputs": [
    {
     "data": {
      "text/plain": [
       "'10.11.1.35'"
      ]
     },
     "execution_count": 5,
     "metadata": {},
     "output_type": "execute_result"
    }
   ],
   "source": [
    "target = open('00_target.txt').read()"
   ]
  },
  {
   "cell_type": "code",
   "execution_count": 6,
   "id": "72a2e9f9-6dbc-4bfa-ac51-4388216738e7",
   "metadata": {},
   "outputs": [
    {
     "name": "stdout",
     "output_type": "stream",
     "text": [
      "env: TARGET=10.11.1.35\n"
     ]
    }
   ],
   "source": [
    "%env TARGET={target}"
   ]
  },
  {
   "cell_type": "code",
   "execution_count": 2,
   "id": "468003e4-1621-4d21-a12e-27385902cb48",
   "metadata": {},
   "outputs": [
    {
     "name": "stdout",
     "output_type": "stream",
     "text": [
      "\u001b[34m[\u001b[1m*\u001b[22m]\u001b[39m Scanning target \u001b[33m\u001b[1m10.11.1.95\u001b[22m\u001b[39m\n",
      "\u001b[34m[\u001b[1m*\u001b[22m]\u001b[39m \u001b[32m\u001b[1m16:27:19\u001b[22m\u001b[39m - There are \u001b[33m\u001b[1m3\u001b[22m\u001b[39m scans still running against \u001b[33m\u001b[1m10.11.1.95\u001b[22m\u001b[39m\n",
      "\u001b[34m[\u001b[1m*\u001b[22m]\u001b[39m \u001b[32m\u001b[1m16:28:19\u001b[22m\u001b[39m - There are \u001b[33m\u001b[1m2\u001b[22m\u001b[39m scans still running against \u001b[33m\u001b[1m10.11.1.95\u001b[22m\u001b[39m\n",
      "\u001b[34m[\u001b[1m*\u001b[22m]\u001b[39m \u001b[32m\u001b[1m16:29:19\u001b[22m\u001b[39m - There are \u001b[33m\u001b[1m2\u001b[22m\u001b[39m scans still running against \u001b[33m\u001b[1m10.11.1.95\u001b[22m\u001b[39m\n",
      "\u001b[34m[\u001b[1m*\u001b[22m]\u001b[39m \u001b[32m\u001b[1m16:30:19\u001b[22m\u001b[39m - There is \u001b[33m\u001b[1m1\u001b[22m\u001b[39m scan still running against \u001b[33m\u001b[1m10.11.1.95\u001b[22m\u001b[39m\n",
      "\u001b[34m[\u001b[1m*\u001b[22m]\u001b[39m Finished scanning target \u001b[33m\u001b[1m10.11.1.95\u001b[22m\u001b[39m in 4 minutes, 18 seconds\n",
      "\u001b[34m[\u001b[1m*\u001b[22m]\u001b[39m \u001b[1mFinished scanning all targets in 4 minutes, 19 seconds!\u001b[22m\u001b[39m\n",
      "\u001b[34m[\u001b[1m*\u001b[22m]\u001b[39m \u001b[1mDon't forget to check out more commands to run manually in the _manual_commands.txt file in each target's scans directory!\n",
      "\u001b[33m[\u001b[1m!\u001b[22m]\u001b[39m \u001b[33m\u001b[1mAutoRecon identified the following services, but could not match them to any plugins based on the service name. Please report these to Tib3rius: tcp/4555/james-admin/insecure\u001b[22m\u001b[39m\n",
      "\u001b[0m"
     ]
    }
   ],
   "source": [
    "!sudo autorecon $TARGET"
   ]
  },
  {
   "cell_type": "code",
   "execution_count": 4,
   "id": "d8bf0ce6-f63b-4f81-88f1-97b58a11ac8d",
   "metadata": {},
   "outputs": [
    {
     "name": "stdout",
     "output_type": "stream",
     "text": [
      "total 40\n",
      "-rw-r--r-- 1 root root 2721 Oct 18 16:27 _commands.log\n",
      "-rw-r--r-- 1 root root 3488 Oct 18 16:30 _full_tcp_nmap.txt\n",
      "-rw-r--r-- 1 root root  995 Oct 18 16:26 _manual_commands.txt\n",
      "-rw-r--r-- 1 root root 3054 Oct 18 16:26 _quick_tcp_nmap.txt\n",
      "drwxr-xr-x 3 root root 4096 Oct 18 16:26 tcp110\n",
      "drwxr-xr-x 3 root root 4096 Oct 18 16:26 tcp119\n",
      "drwxr-xr-x 3 root root 4096 Oct 18 16:26 tcp22\n",
      "drwxr-xr-x 3 root root 4096 Oct 18 16:27 tcp25\n",
      "-rw-r--r-- 1 root root 2477 Oct 18 16:29 _top_100_udp_nmap.txt\n",
      "drwxr-xr-x 2 root root 4096 Oct 18 16:26 xml\n"
     ]
    }
   ],
   "source": [
    "!ls -l results/$TARGET/scans"
   ]
  },
  {
   "cell_type": "code",
   "execution_count": 5,
   "id": "e0ea6e1d-f228-49a7-96db-d278528d134e",
   "metadata": {},
   "outputs": [
    {
     "name": "stdout",
     "output_type": "stream",
     "text": [
      "# Nmap 7.91 scan initiated Mon Oct 18 16:26:19 2021 as: nmap -vv --reason -Pn -T4 -sV -sC --version-all -A --osscan-guess -p- -oN /home/parallels/ctf-notebooks/LabNotebooks/Beginner/James/ctf-notebooks/results/10.11.1.95/scans/_full_tcp_nmap.txt -oX /home/parallels/ctf-notebooks/LabNotebooks/Beginner/James/ctf-notebooks/results/10.11.1.95/scans/xml/_full_tcp_nmap.xml 10.11.1.95\n",
      "adjust_timeouts2: packet supposedly had rtt of -189060 microseconds.  Ignoring time.\n",
      "adjust_timeouts2: packet supposedly had rtt of -189060 microseconds.  Ignoring time.\n",
      "adjust_timeouts2: packet supposedly had rtt of -186605 microseconds.  Ignoring time.\n",
      "adjust_timeouts2: packet supposedly had rtt of -186605 microseconds.  Ignoring time.\n",
      "Nmap scan report for 10.11.1.95\n",
      "Host is up, received user-set (0.073s latency).\n",
      "Scanned at 2021-10-18 16:26:19 PDT for 257s\n",
      "Not shown: 65530 closed ports\n",
      "Reason: 65530 resets\n",
      "PORT     STATE SERVICE     REASON         VERSION\n",
      "22/tcp   open  ssh         syn-ack ttl 63 OpenSSH 7.2p2 Ubuntu 4ubuntu2.1 (Ubuntu Linux; protocol 2.0)\n",
      "| ssh-hostkey: \n",
      "|   2048 f2:7d:fd:ff:67:07:9e:d7:fd:67:29:c8:8b:24:a5:d0 (RSA)\n",
      "| ssh-rsa AAAAB3NzaC1yc2EAAAADAQABAAABAQC8YTDG92l323tYiXOU02tBevYpt0hsG3OxbCEGnJAR1IGK+L9e+AgFZ5s4CVaN+3xX/n70geOvprZ8tUghN4UgGvD94triqS2ALk3l7n9h8xEky0W5wEdEV3nz32p3ur6mHvfkLDMB0iqvQmV+UQ/3hXrJ0FIwGjKTW1dfXslilgE0TEI9r3kSZUguAkKPmS04jSqeZbuRBK8zmUw+0ETjtjqGpeNeBEQ57tQAGXNIfxntV3Ho6JK1yEuEQYzKVutwCRcGofy/qnVpiMqdf13YOndGxEFgvfWxMyXTkkSNbNYUEAjjub8CjvxAvtcymBCe2IKmIk0IPiaTlcsC8HOx\n",
      "|   256 f6:8b:f0:c6:60:85:ba:68:02:b0:3c:18:31:47:53:20 (ECDSA)\n",
      "| ecdsa-sha2-nistp256 AAAAE2VjZHNhLXNoYTItbmlzdHAyNTYAAAAIbmlzdHAyNTYAAABBBPT1pqzG+ArPeZG2rro7DteefH8ZEsI5/ZmGscSGI9TcpRNcdrtkoxWhR3qcEZuzLltilSBdGKMimCecCMXbhmY=\n",
      "|   256 05:52:2f:32:0c:36:f5:fb:98:00:e9:c1:6e:81:94:1f (ED25519)\n",
      "|_ssh-ed25519 AAAAC3NzaC1lZDI1NTE5AAAAIBL6hc9yLsY8skEL+c8P6FgOgroTSMk0PKrWsfhFymkS\n",
      "25/tcp   open  smtp        syn-ack ttl 63 JAMES smtpd 2.3.2\n",
      "|_smtp-commands: james Hello nmap.scanme.org (172.16.1.2 [172.16.1.2]), \n",
      "110/tcp  open  pop3        syn-ack ttl 63 JAMES pop3d 2.3.2\n",
      "119/tcp  open  nntp        syn-ack ttl 63 JAMES nntpd (posting ok)\n",
      "4555/tcp open  james-admin syn-ack ttl 63 JAMES Remote Admin 2.3.2\n",
      "Device type: general purpose\n",
      "Running: Linux 3.X|4.X\n",
      "OS CPE: cpe:/o:linux:linux_kernel:3 cpe:/o:linux:linux_kernel:4\n",
      "OS details: Linux 3.11 - 4.1\n",
      "TCP/IP fingerprint:\n",
      "OS:SCAN(V=7.91%E=4%D=10/18%OT=22%CT=1%CU=30451%PV=Y%DS=2%DC=I%G=Y%TM=616E03\n",
      "OS:9D%P=aarch64-unknown-linux-gnu)SEQ(SP=104%GCD=1%ISR=10D%TI=Z%TS=8)OPS(O1\n",
      "OS:=M5B4ST11NW7%O2=M5B4ST11NW7%O3=M5B4NNT11NW7%O4=M5B4ST11NW7%O5=M5B4ST11NW\n",
      "OS:7%O6=M5B4ST11)WIN(W1=7120%W2=7120%W3=7120%W4=7120%W5=7120%W6=7120)ECN(R=\n",
      "OS:Y%DF=Y%T=40%W=7210%O=M5B4NNSNW7%CC=Y%Q=)T1(R=Y%DF=Y%T=40%S=O%A=S+%F=AS%R\n",
      "OS:D=0%Q=)T2(R=N)T3(R=N)T4(R=N)T5(R=Y%DF=Y%T=40%W=0%S=Z%A=S+%F=AR%O=%RD=0%Q\n",
      "OS:=)T6(R=N)T7(R=N)U1(R=Y%DF=N%T=40%IPL=164%UN=0%RIPL=G%RID=G%RIPCK=G%RUCK=\n",
      "OS:G%RUD=G)IE(R=Y%DFI=N%T=40%CD=S)\n",
      "\n",
      "Uptime guess: 3.353 days (since Fri Oct 15 08:02:25 2021)\n",
      "Network Distance: 2 hops\n",
      "TCP Sequence Prediction: Difficulty=260 (Good luck!)\n",
      "IP ID Sequence Generation: All zeros\n",
      "Service Info: Host: james; OS: Linux; CPE: cpe:/o:linux:linux_kernel\n",
      "\n",
      "TRACEROUTE\n",
      "HOP RTT      ADDRESS\n",
      "1   72.98 ms 10.11.1.95\n",
      "\n",
      "Read data files from: /usr/bin/../share/nmap\n",
      "OS and Service detection performed. Please report any incorrect results at https://nmap.org/submit/ .\n",
      "# Nmap done at Mon Oct 18 16:30:37 2021 -- 1 IP address (1 host up) scanned in 257.85 seconds\n"
     ]
    }
   ],
   "source": [
    "!cat results/$TARGET/scans/_full_tcp_nmap.txt"
   ]
  },
  {
   "cell_type": "code",
   "execution_count": null,
   "id": "ad7bb827-1b39-47d5-ba38-8876f9a298a8",
   "metadata": {},
   "outputs": [],
   "source": []
  }
 ],
 "metadata": {
  "kernelspec": {
   "display_name": "Python 3 (ipykernel)",
   "language": "python",
   "name": "python3"
  },
  "language_info": {
   "codemirror_mode": {
    "name": "ipython",
    "version": 3
   },
   "file_extension": ".py",
   "mimetype": "text/x-python",
   "name": "python",
   "nbconvert_exporter": "python",
   "pygments_lexer": "ipython3",
   "version": "3.9.2"
  }
 },
 "nbformat": 4,
 "nbformat_minor": 5
}
