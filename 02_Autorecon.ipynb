{
 "cells": [
  {
   "cell_type": "code",
   "execution_count": 4,
   "id": "72a2e9f9-6dbc-4bfa-ac51-4388216738e7",
   "metadata": {},
   "outputs": [
    {
     "name": "stdout",
     "output_type": "stream",
     "text": [
      "env: TARGET=10.11.1.95\n"
     ]
    }
   ],
   "source": [
    "%env TARGET=10.11.1.95"
   ]
  },
  {
   "cell_type": "code",
   "execution_count": null,
   "id": "468003e4-1621-4d21-a12e-27385902cb48",
   "metadata": {},
   "outputs": [
    {
     "name": "stdout",
     "output_type": "stream",
     "text": [
      "\u001b[34m[\u001b[1m*\u001b[22m]\u001b[39m Scanning target \u001b[33m\u001b[1m10.11.1.95\u001b[22m\u001b[39m\n"
     ]
    }
   ],
   "source": [
    "!sudo autorecon $TARGET"
   ]
  },
  {
   "cell_type": "code",
   "execution_count": null,
   "id": "e0ea6e1d-f228-49a7-96db-d278528d134e",
   "metadata": {},
   "outputs": [],
   "source": []
  }
 ],
 "metadata": {
  "kernelspec": {
   "display_name": "Python 3 (ipykernel)",
   "language": "python",
   "name": "python3"
  },
  "language_info": {
   "codemirror_mode": {
    "name": "ipython",
    "version": 3
   },
   "file_extension": ".py",
   "mimetype": "text/x-python",
   "name": "python",
   "nbconvert_exporter": "python",
   "pygments_lexer": "ipython3",
   "version": "3.9.2"
  }
 },
 "nbformat": 4,
 "nbformat_minor": 5
}
