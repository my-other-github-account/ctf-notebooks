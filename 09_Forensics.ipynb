{
 "cells": [
  {
   "cell_type": "code",
   "execution_count": null,
   "id": "0fba2607-4b84-48cb-aa43-81bea9715639",
   "metadata": {},
   "outputs": [],
   "source": [
    "python3"
   ]
  },
  {
   "cell_type": "code",
   "execution_count": null,
   "id": "46052397-01f0-42d5-a356-747e6127e2ec",
   "metadata": {},
   "outputs": [],
   "source": [
    "import os\n",
    "import fnmatch\n",
    "\n",
    "print(\"RUN ME ON ALL POSSIBLE USERS!!\")\n",
    "\n",
    "def get_all(ftype = '*.txt', max_it=30, readable=True):\n",
    "    print('----------------------------')\n",
    "    print(ftype)\n",
    "    matches = []\n",
    "    for root, dirnames, filenames in os.walk(\"/\"):\n",
    "        for filename in fnmatch.filter(filenames, ftype):\n",
    "            if '/proc' in os.path.join(root, filename):\n",
    "                continue\n",
    "            try:\n",
    "                os.path.getmtime(os.path.join(root, filename))\n",
    "                os.stat(os.path.join(root, filename)).st_mtime\n",
    "                if os.access(os.path.join(root, filename), os.R_OK) or readable:\n",
    "                    matches.append(os.path.join(root, filename))\n",
    "            except: pass\n",
    "    for idx, match in enumerate(sorted(matches, key=os.path.getmtime)):\n",
    "        if idx < len(matches) - max_it:\n",
    "            continue\n",
    "        print(match)\n",
    "    print('----------------------------')\n",
    "\n",
    "\n",
    "ftype_list = ['*', '*.*', '*.conf', '*.gz*', '*.zip', '*.bak', '*.php','*.xml', '*.csv', '*.bat', '*.sh', '*.rtf', '*.pdf', '*.doc*', '*.log', '*.txt']\n",
    "\n",
    "print('----------------------------'*2)\n",
    "print(\"Not Only Readable:\")\n",
    "for ftype in ftype_list:\n",
    "    get_all(ftype)\n",
    "\n",
    "\n",
    "print('----------------------------'*2)\n",
    "print(\"Only Readable:\")\n",
    "for ftype in ftype_list:\n",
    "    get_all(ftype, readable=False)\n",
    "\n"
   ]
  }
 ],
 "metadata": {
  "kernelspec": {
   "display_name": "Python 3 (ipykernel)",
   "language": "python",
   "name": "python3"
  },
  "language_info": {
   "codemirror_mode": {
    "name": "ipython",
    "version": 3
   },
   "file_extension": ".py",
   "mimetype": "text/x-python",
   "name": "python",
   "nbconvert_exporter": "python",
   "pygments_lexer": "ipython3",
   "version": "3.9.2"
  }
 },
 "nbformat": 4,
 "nbformat_minor": 5
}
