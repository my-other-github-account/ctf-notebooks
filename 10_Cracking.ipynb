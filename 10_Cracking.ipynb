{
 "cells": [
  {
   "cell_type": "code",
   "execution_count": 10,
   "id": "00a9cf7b-b0d1-4161-bd75-41c3ba6f98fa",
   "metadata": {},
   "outputs": [
    {
     "name": "stdout",
     "output_type": "stream",
     "text": [
      "descrypt, bsdicrypt, md5crypt, md5crypt-long, bcrypt, scrypt, LM, AFS, \n",
      "tripcode, AndroidBackup, adxcrypt, agilekeychain, aix-ssha1, aix-ssha256, \n",
      "aix-ssha512, andOTP, ansible, argon2, as400-des, as400-ssha1, asa-md5, \n",
      "AxCrypt, AzureAD, BestCrypt, bfegg, Bitcoin, BitLocker, bitshares, Bitwarden, \n",
      "BKS, Blackberry-ES10, WoWSRP, Blockchain, chap, Clipperz, cloudkeychain, \n",
      "dynamic_n, cq, CRC32, sha1crypt, sha256crypt, sha512crypt, Citrix_NS10, \n",
      "dahua, dashlane, diskcryptor, Django, django-scrypt, dmd5, dmg, dominosec, \n",
      "dominosec8, DPAPImk, dragonfly3-32, dragonfly3-64, dragonfly4-32, \n",
      "dragonfly4-64, Drupal7, eCryptfs, eigrp, electrum, EncFS, enpass, EPI, \n",
      "EPiServer, ethereum, fde, Fortigate256, Fortigate, FormSpring, FVDE, geli, \n",
      "gost, gpg, HAVAL-128-4, HAVAL-256-3, hdaa, hMailServer, hsrp, IKE, ipb2, \n",
      "itunes-backup, iwork, KeePass, keychain, keyring, keystore, known_hosts, \n",
      "krb4, krb5, krb5asrep, krb5pa-sha1, krb5tgs, krb5-17, krb5-18, krb5-3, \n",
      "kwallet, lp, lpcli, leet, lotus5, lotus85, LUKS, MD2, mdc2, MediaWiki, \n",
      "monero, money, MongoDB, scram, Mozilla, mscash, mscash2, MSCHAPv2, \n",
      "mschapv2-naive, krb5pa-md5, mssql, mssql05, mssql12, multibit, mysqlna, \n",
      "mysql-sha1, mysql, net-ah, nethalflm, netlm, netlmv2, net-md5, netntlmv2, \n",
      "netntlm, netntlm-naive, net-sha1, nk, notes, md5ns, nsec3, NT, o10glogon, \n",
      "o3logon, o5logon, ODF, Office, oldoffice, OpenBSD-SoftRAID, openssl-enc, \n",
      "oracle, oracle11, Oracle12C, osc, ospf, Padlock, Palshop, Panama, \n",
      "PBKDF2-HMAC-MD4, PBKDF2-HMAC-MD5, PBKDF2-HMAC-SHA1, PBKDF2-HMAC-SHA256, \n",
      "PBKDF2-HMAC-SHA512, PDF, PEM, pfx, pgpdisk, pgpsda, pgpwde, phpass, PHPS, \n",
      "PHPS2, pix-md5, PKZIP, po, postgres, PST, PuTTY, pwsafe, qnx, RACF, \n",
      "RACF-KDFAES, radius, RAdmin, RAKP, RAR5, Raw-SHA512, Raw-Blake2, Raw-Keccak, \n",
      "Raw-Keccak-256, Raw-MD4, Raw-MD5, Raw-MD5u, Raw-SHA1, Raw-SHA1-AxCrypt, \n",
      "Raw-SHA1-Linkedin, Raw-SHA224, Raw-SHA256, Raw-SHA3, Raw-SHA384, ripemd-128, \n",
      "ripemd-160, rsvp, Siemens-S7, Salted-SHA1, SSHA512, sapb, sapg, saph, sappse, \n",
      "securezip, 7z, Signal, SIP, skein-256, skein-512, skey, SL3, Snefru-128, \n",
      "Snefru-256, LastPass, SNMP, solarwinds, SSH, sspr, STRIP, SunMD5, SybaseASE, \n",
      "Sybase-PROP, tacacs-plus, tcp-md5, telegram, tezos, Tiger, tc_aes_xts, \n",
      "tc_ripemd160, tc_ripemd160boot, tc_sha512, tc_whirlpool, vdi, OpenVMS, vmx, \n",
      "VNC, vtp, wbb3, whirlpool, whirlpool0, whirlpool1, wpapsk, wpapsk-pmk, \n",
      "xmpp-scram, xsha, xsha512, ZIP, ZipMonster, plaintext, has-160, HMAC-MD5, \n",
      "HMAC-SHA1, HMAC-SHA224, HMAC-SHA256, HMAC-SHA384, HMAC-SHA512, dummy, crypt\n"
     ]
    }
   ],
   "source": [
    "!john --list=formats"
   ]
  },
  {
   "cell_type": "code",
   "execution_count": 1,
   "id": "52c54624-f146-4f7e-a654-805d6f5408aa",
   "metadata": {},
   "outputs": [],
   "source": [
    "!echo ab5db915fc9cea6c78df88106c6500c57f2b52901ca6c0c6218f04122c3efd14 > hash.txt"
   ]
  },
  {
   "cell_type": "code",
   "execution_count": 14,
   "id": "1eebefb0-d6a5-4de4-8ae3-cfa767abdc38",
   "metadata": {},
   "outputs": [
    {
     "name": "stdout",
     "output_type": "stream",
     "text": [
      "Using default input encoding: UTF-8\n",
      "Loaded 1 password hash (Raw-SHA256 [SHA256 128/128 ASIMD 4x])\n",
      "No password hashes left to crack (see FAQ)\n"
     ]
    }
   ],
   "source": [
    "!john --format=Raw-SHA256 --pot=whatever.pot --wordlist=/usr/share/wordlists/rockyou.txt hash.txt"
   ]
  },
  {
   "cell_type": "code",
   "execution_count": 15,
   "id": "8a452a7a-56b2-4494-9a35-0d4c506187e2",
   "metadata": {},
   "outputs": [
    {
     "name": "stdout",
     "output_type": "stream",
     "text": [
      "$SHA256$ab5db915fc9cea6c78df88106c6500c57f2b52901ca6c0c6218f04122c3efd14:videogamer124\n"
     ]
    }
   ],
   "source": [
    "!cat whatever.pot"
   ]
  },
  {
   "cell_type": "code",
   "execution_count": 1,
   "id": "ac06a8fe-cc04-4dce-8365-0fbfc0b9b480",
   "metadata": {},
   "outputs": [],
   "source": [
    "!echo '$2y$10$0veO/JSFh4389Lluc4Xya.dfy2MF.bZhz0jVMw.V.d3p12kBtZutm' > sqlhash.txt"
   ]
  },
  {
   "cell_type": "code",
   "execution_count": 7,
   "id": "254d4337-7b95-4675-8bef-2fec5813244c",
   "metadata": {},
   "outputs": [
    {
     "name": "stdout",
     "output_type": "stream",
     "text": [
      "Using default input encoding: UTF-8\n",
      "Loaded 1 password hash (bcrypt [Blowfish 32/64 X2])\n",
      "Cost 1 (iteration count) is 1024 for all loaded hashes\n",
      "Will run 8 OpenMP threads\n",
      "Press 'q' or Ctrl-C to abort, almost any other key for status\n",
      "0g 0:00:00:25 DONE (2021-09-20 14:56) 0g/s 61.66p/s 61.66c/s 61.66C/s Passw0rd..134679\n",
      "Session completed\n",
      "yes: standard output: Broken pipe\n"
     ]
    }
   ],
   "source": [
    "!OMP_NUM_THREADS=4 john --pot=whatever.pot --wordlist=/usr/share/wordlists/SecLists/Passwords/probable-v2-top1575.txt sqlhash.txt"
   ]
  },
  {
   "cell_type": "code",
   "execution_count": 8,
   "id": "2ce77f2a-551e-4468-a462-6ce29c9a9012",
   "metadata": {},
   "outputs": [
    {
     "name": "stdout",
     "output_type": "stream",
     "text": [
      "Using default input encoding: UTF-8\n",
      "Loaded 1 password hash (bcrypt [Blowfish 32/64 X2])\n",
      "Cost 1 (iteration count) is 1024 for all loaded hashes\n",
      "Will run 8 OpenMP threads\n",
      "Press 'q' or Ctrl-C to abort, almost any other key for status\n",
      "0g 0:00:00:48 0.02% (ETA: 2021-09-23 21:30) 0g/s 61.74p/s 61.74c/s 61.74C/s lance..love06\n",
      "Session aborted\n"
     ]
    }
   ],
   "source": [
    "!OMP_NUM_THREADS=4 john --pot=whatever.pot --wordlist=/usr/share/wordlists/rockyou.txt sqlhash.txt"
   ]
  },
  {
   "cell_type": "code",
   "execution_count": 1,
   "id": "fd70b877-a448-4c37-b420-fbe0e6581ffe",
   "metadata": {},
   "outputs": [
    {
     "name": "stdout",
     "output_type": "stream",
     "text": [
      "env: HASH=untitled.txt\n",
      "Using default input encoding: UTF-8\n",
      "No password hashes loaded (see FAQ)\n"
     ]
    }
   ],
   "source": [
    "%env HASH=untitled.txt\n",
    "!OMP_NUM_THREADS=4 john --pot=whatever.pot --wordlist=/usr/share/wordlists/rockyou.txt $HASH"
   ]
  },
  {
   "cell_type": "code",
   "execution_count": null,
   "id": "b177f247-9e99-4bb8-b6be-8a8970ba0e42",
   "metadata": {},
   "outputs": [],
   "source": []
  }
 ],
 "metadata": {
  "kernelspec": {
   "display_name": "Python 3 (ipykernel)",
   "language": "python",
   "name": "python3"
  },
  "language_info": {
   "codemirror_mode": {
    "name": "ipython",
    "version": 3
   },
   "file_extension": ".py",
   "mimetype": "text/x-python",
   "name": "python",
   "nbconvert_exporter": "python",
   "pygments_lexer": "ipython3",
   "version": "3.9.2"
  }
 },
 "nbformat": 4,
 "nbformat_minor": 5
}
