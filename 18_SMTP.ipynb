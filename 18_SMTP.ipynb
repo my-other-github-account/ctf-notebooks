{
 "cells": [
  {
   "cell_type": "markdown",
   "id": "2ac6ab03-4d4b-4454-a9c0-de1df3e4870f",
   "metadata": {},
   "source": [
    "# James"
   ]
  },
  {
   "cell_type": "markdown",
   "id": "70b5f6e7-b7d9-4eca-8555-1f6d68821ac3",
   "metadata": {},
   "source": [
    "https://book.hacktricks.xyz/pentesting/pentesting-pop"
   ]
  },
  {
   "cell_type": "code",
   "execution_count": 3,
   "id": "19812e03-a9c7-4a6b-9e36-74b2adc6792f",
   "metadata": {},
   "outputs": [
    {
     "name": "stdout",
     "output_type": "stream",
     "text": [
      "env: TARGET=10.11.1.95\n"
     ]
    }
   ],
   "source": [
    "%env TARGET=10.11.1.95"
   ]
  },
  {
   "cell_type": "code",
   "execution_count": 4,
   "id": "b4d46e37-c65a-4194-a904-9dd5301d7abf",
   "metadata": {},
   "outputs": [
    {
     "name": "stdout",
     "output_type": "stream",
     "text": [
      "Ncat: Version 7.91 ( https://nmap.org/ncat )\n",
      "Ncat: Connected to 10.11.1.95:110.\n",
      "+OK james POP3 server (JAMES POP3 Server 2.3.2) ready \n",
      "^C\n"
     ]
    }
   ],
   "source": [
    "!nc -nv $TARGET 110"
   ]
  },
  {
   "cell_type": "code",
   "execution_count": 5,
   "id": "27dd1ddf-b29b-4c21-b641-cb8c29afbcfe",
   "metadata": {},
   "outputs": [
    {
     "name": "stdout",
     "output_type": "stream",
     "text": [
      "281473134148144:error:0200206F:system library:connect:Connection refused:../crypto/bio/b_sock2.c:110:\n",
      "281473134148144:error:2008A067:BIO routines:BIO_connect:connect error:../crypto/bio/b_sock2.c:111:\n",
      "connect:errno=111\n"
     ]
    }
   ],
   "source": [
    "!openssl s_client -connect $TARGET:995 -crlf -quiet"
   ]
  },
  {
   "cell_type": "code",
   "execution_count": 6,
   "id": "20b28478-1fe9-4c55-be79-72204ecc4cb3",
   "metadata": {},
   "outputs": [
    {
     "name": "stdout",
     "output_type": "stream",
     "text": [
      "Starting Nmap 7.91 ( https://nmap.org ) at 2021-10-18 16:32 PDT\n",
      "Nmap scan report for 10.11.1.95\n",
      "Host is up (0.061s latency).\n",
      "\n",
      "PORT    STATE SERVICE VERSION\n",
      "110/tcp open  pop3    JAMES pop3d 2.3.2\n",
      "Service Info: Host: james\n",
      "\n",
      "Service detection performed. Please report any incorrect results at https://nmap.org/submit/ .\n",
      "Nmap done: 1 IP address (1 host up) scanned in 11.79 seconds\n"
     ]
    }
   ],
   "source": [
    "!nmap --script \"pop3-capabilities or pop3-ntlm-info\" -sV -p 110 $TARGET"
   ]
  },
  {
   "cell_type": "code",
   "execution_count": 9,
   "id": "19705e78-a15e-4fda-ad35-cc5680713334",
   "metadata": {},
   "outputs": [
    {
     "name": "stdout",
     "output_type": "stream",
     "text": [
      "env: UL=SecLists/Usernames/Names/names.txt\n",
      "env: UL_S=/usr/share/wordlists/SecLists/Usernames/top-usernames-shortlist.txt\n"
     ]
    }
   ],
   "source": [
    "%env UL=SecLists/Usernames/Names/names.txt\n",
    "%env UL_S=/usr/share/wordlists/SecLists/Usernames/top-usernames-shortlist.txt"
   ]
  },
  {
   "cell_type": "code",
   "execution_count": 10,
   "id": "ebd93e5a-acfb-4fe3-85ad-a222adf5b223",
   "metadata": {},
   "outputs": [
    {
     "name": "stdout",
     "output_type": "stream",
     "text": [
      "Starting smtp-user-enum v1.2 ( http://pentestmonkey.net/tools/smtp-user-enum )\n",
      "\n",
      " ----------------------------------------------------------\n",
      "|                   Scan Information                       |\n",
      " ----------------------------------------------------------\n",
      "\n",
      "Mode ..................... VRFY\n",
      "Worker Processes ......... 5\n",
      "Target count ............. 1\n",
      "Username count ........... 1\n",
      "Target TCP port .......... 25\n",
      "Query timeout ............ 5 secs\n",
      "Target domain ............ \n",
      "\n",
      "######## Scan started at Mon Oct 18 16:34:20 2021 #########\n",
      "######## Scan completed at Mon Oct 18 16:34:20 2021 #########\n",
      "0 results.\n",
      "\n",
      "1 queries in 1 seconds (1.0 queries / sec)\n"
     ]
    }
   ],
   "source": [
    "!smtp-user-enum -u james -t $TARGET -v"
   ]
  },
  {
   "cell_type": "code",
   "execution_count": 13,
   "id": "f1c9884c-e247-4849-ade8-617cf83a717b",
   "metadata": {},
   "outputs": [
    {
     "name": "stdout",
     "output_type": "stream",
     "text": [
      "Starting smtp-user-enum v1.2 ( http://pentestmonkey.net/tools/smtp-user-enum )\n",
      "\n",
      " ----------------------------------------------------------\n",
      "|                   Scan Information                       |\n",
      " ----------------------------------------------------------\n",
      "\n",
      "Mode ..................... VRFY\n",
      "Worker Processes ......... 5\n",
      "Usernames file ........... /usr/share/wordlists/SecLists/Usernames/top-usernames-shortlist.txt\n",
      "Target count ............. 1\n",
      "Username count ........... 17\n",
      "Target TCP port .......... 25\n",
      "Query timeout ............ 5 secs\n",
      "Target domain ............ \n",
      "\n",
      "######## Scan started at Mon Oct 18 16:35:07 2021 #########\n",
      "10.11.1.95: root <no such user>\n",
      "10.11.1.95: guest <no such user>\n",
      "10.11.1.95: info <no such user>\n",
      "10.11.1.95: admin <no such user>\n",
      "10.11.1.95: test <no such user>\n",
      "10.11.1.95: adm <no such user>\n",
      "10.11.1.95: user <no such user>\n",
      "10.11.1.95: mysql <no such user>\n",
      "10.11.1.95: administrator <no such user>\n",
      "10.11.1.95: oracle <no such user>\n",
      "10.11.1.95: ftp <no such user>\n",
      "10.11.1.95: puppet <no such user>\n",
      "10.11.1.95: ec2-user <no such user>\n",
      "10.11.1.95: pi <no such user>\n",
      "10.11.1.95: ansible <no such user>\n",
      "10.11.1.95: vagrant <no such user>\n",
      "10.11.1.95: azureuser <no such user>\n",
      "######## Scan completed at Mon Oct 18 16:35:08 2021 #########\n",
      "0 results.\n",
      "\n",
      "17 queries in 1 seconds (17.0 queries / sec)\n"
     ]
    }
   ],
   "source": [
    "!smtp-user-enum -U $UL_S -t $TARGET -v"
   ]
  },
  {
   "cell_type": "code",
   "execution_count": null,
   "id": "fedf04ce-2c6b-45bd-9bbb-494902599f78",
   "metadata": {
    "scrolled": true,
    "tags": []
   },
   "outputs": [],
   "source": [
    "!smtp-user-enum -U $UL -t $TARGET"
   ]
  },
  {
   "cell_type": "code",
   "execution_count": 15,
   "id": "c2264150-a13e-441d-8f83-6915857bc57f",
   "metadata": {
    "tags": []
   },
   "outputs": [
    {
     "name": "stdout",
     "output_type": "stream",
     "text": [
      "Starting smtp-user-enum v1.2 ( http://pentestmonkey.net/tools/smtp-user-enum )\n",
      "\n",
      " ----------------------------------------------------------\n",
      "|                   Scan Information                       |\n",
      " ----------------------------------------------------------\n",
      "\n",
      "Mode ..................... EXPN\n",
      "Worker Processes ......... 5\n",
      "Target count ............. 1\n",
      "Username count ........... 1\n",
      "Target TCP port .......... 25\n",
      "Query timeout ............ 5 secs\n",
      "Target domain ............ \n",
      "\n",
      "######## Scan started at Mon Oct 18 16:47:16 2021 #########\n",
      "######## Scan completed at Mon Oct 18 16:47:16 2021 #########\n",
      "0 results.\n",
      "\n",
      "1 queries in 1 seconds (1.0 queries / sec)\n",
      "Starting smtp-user-enum v1.2 ( http://pentestmonkey.net/tools/smtp-user-enum )\n",
      "\n",
      " ----------------------------------------------------------\n",
      "|                   Scan Information                       |\n",
      " ----------------------------------------------------------\n",
      "\n",
      "Mode ..................... EXPN\n",
      "Worker Processes ......... 5\n",
      "Usernames file ........... /usr/share/wordlists/SecLists/Usernames/top-usernames-shortlist.txt\n",
      "Target count ............. 1\n",
      "Username count ........... 17\n",
      "Target TCP port .......... 25\n",
      "Query timeout ............ 5 secs\n",
      "Target domain ............ \n",
      "\n",
      "######## Scan started at Mon Oct 18 16:47:17 2021 #########\n"
     ]
    },
    {
     "name": "stderr",
     "output_type": "stream",
     "text": [
      "ERROR:root:Internal Python error in the inspect module.\n",
      "Below is the traceback from this internal error.\n",
      "\n"
     ]
    },
    {
     "name": "stdout",
     "output_type": "stream",
     "text": [
      "Traceback (most recent call last):\n",
      "  File \"/home/parallels/.local/lib/python3.9/site-packages/IPython/utils/_process_posix.py\", line 162, in system\n",
      "    res_idx = child.expect_list(patterns, self.read_timeout)\n",
      "  File \"/usr/lib/python3/dist-packages/pexpect/spawnbase.py\", line 372, in expect_list\n",
      "    return exp.expect_loop(timeout)\n",
      "  File \"/usr/lib/python3/dist-packages/pexpect/expect.py\", line 169, in expect_loop\n",
      "    incoming = spawn.read_nonblocking(spawn.maxread, timeout)\n",
      "  File \"/usr/lib/python3/dist-packages/pexpect/pty_spawn.py\", line 500, in read_nonblocking\n",
      "    if (timeout != 0) and select(timeout):\n",
      "  File \"/usr/lib/python3/dist-packages/pexpect/pty_spawn.py\", line 450, in select\n",
      "    return select_ignore_interrupts([self.child_fd], [], [], timeout)[0]\n",
      "  File \"/usr/lib/python3/dist-packages/pexpect/utils.py\", line 143, in select_ignore_interrupts\n",
      "    return select.select(iwtd, owtd, ewtd, timeout)\n",
      "KeyboardInterrupt\n",
      "\n",
      "During handling of the above exception, another exception occurred:\n",
      "\n",
      "Traceback (most recent call last):\n",
      "  File \"/home/parallels/.local/lib/python3.9/site-packages/IPython/core/interactiveshell.py\", line 3441, in run_code\n",
      "    exec(code_obj, self.user_global_ns, self.user_ns)\n",
      "  File \"/tmp/ipykernel_6702/443865302.py\", line 2, in <module>\n",
      "    get_ipython().system('smtp-user-enum -M EXPN -U $UL_S -t $TARGET')\n",
      "  File \"/home/parallels/.local/lib/python3.9/site-packages/ipykernel/zmqshell.py\", line 636, in system_piped\n",
      "    self.user_ns['_exit_code'] = system(self.var_expand(cmd, depth=1))\n",
      "  File \"/home/parallels/.local/lib/python3.9/site-packages/IPython/utils/_process_posix.py\", line 173, in system\n",
      "    child.sendline(chr(3))\n",
      "  File \"/usr/lib/python3/dist-packages/pexpect/pty_spawn.py\", line 578, in sendline\n",
      "    return self.send(s + self.linesep)\n",
      "  File \"/usr/lib/python3/dist-packages/pexpect/pty_spawn.py\", line 563, in send\n",
      "    time.sleep(self.delaybeforesend)\n",
      "KeyboardInterrupt\n",
      "\n",
      "During handling of the above exception, another exception occurred:\n",
      "\n",
      "Traceback (most recent call last):\n",
      "  File \"/home/parallels/.local/lib/python3.9/site-packages/IPython/core/interactiveshell.py\", line 2061, in showtraceback\n",
      "    stb = value._render_traceback_()\n",
      "AttributeError: 'KeyboardInterrupt' object has no attribute '_render_traceback_'\n",
      "\n",
      "During handling of the above exception, another exception occurred:\n",
      "\n",
      "Traceback (most recent call last):\n",
      "  File \"/home/parallels/.local/lib/python3.9/site-packages/IPython/core/ultratb.py\", line 1101, in get_records\n",
      "    return _fixed_getinnerframes(etb, number_of_lines_of_context, tb_offset)\n",
      "  File \"/home/parallels/.local/lib/python3.9/site-packages/IPython/core/ultratb.py\", line 248, in wrapped\n",
      "    return f(*args, **kwargs)\n",
      "  File \"/home/parallels/.local/lib/python3.9/site-packages/IPython/core/ultratb.py\", line 281, in _fixed_getinnerframes\n",
      "    records = fix_frame_records_filenames(inspect.getinnerframes(etb, context))\n",
      "  File \"/usr/lib/python3.9/inspect.py\", line 1541, in getinnerframes\n",
      "    frameinfo = (tb.tb_frame,) + getframeinfo(tb, context)\n",
      "  File \"/usr/lib/python3.9/inspect.py\", line 1499, in getframeinfo\n",
      "    filename = getsourcefile(frame) or getfile(frame)\n",
      "  File \"/usr/lib/python3.9/inspect.py\", line 709, in getsourcefile\n",
      "    if getattr(getmodule(object, filename), '__loader__', None) is not None:\n",
      "  File \"/usr/lib/python3.9/inspect.py\", line 755, in getmodule\n",
      "    os.path.realpath(f)] = module.__name__\n",
      "  File \"/usr/lib/python3.9/posixpath.py\", line 391, in realpath\n",
      "    path, ok = _joinrealpath(filename[:0], filename, {})\n",
      "  File \"/usr/lib/python3.9/posixpath.py\", line 425, in _joinrealpath\n",
      "    if not islink(newpath):\n",
      "  File \"/usr/lib/python3.9/posixpath.py\", line 167, in islink\n",
      "    st = os.lstat(path)\n",
      "KeyboardInterrupt\n"
     ]
    },
    {
     "ename": "TypeError",
     "evalue": "object of type 'NoneType' has no len()",
     "output_type": "error",
     "traceback": [
      "\u001b[0;31m---------------------------------------------------------------------------\u001b[0m",
      "\u001b[0;31mKeyboardInterrupt\u001b[0m                         Traceback (most recent call last)",
      "\u001b[0;32m~/.local/lib/python3.9/site-packages/IPython/utils/_process_posix.py\u001b[0m in \u001b[0;36msystem\u001b[0;34m(self, cmd)\u001b[0m\n\u001b[1;32m    161\u001b[0m                 \u001b[0;31m# know whether we've finished (if we matched EOF) or not\u001b[0m\u001b[0;34m\u001b[0m\u001b[0;34m\u001b[0m\u001b[0;34m\u001b[0m\u001b[0m\n\u001b[0;32m--> 162\u001b[0;31m                 \u001b[0mres_idx\u001b[0m \u001b[0;34m=\u001b[0m \u001b[0mchild\u001b[0m\u001b[0;34m.\u001b[0m\u001b[0mexpect_list\u001b[0m\u001b[0;34m(\u001b[0m\u001b[0mpatterns\u001b[0m\u001b[0;34m,\u001b[0m \u001b[0mself\u001b[0m\u001b[0;34m.\u001b[0m\u001b[0mread_timeout\u001b[0m\u001b[0;34m)\u001b[0m\u001b[0;34m\u001b[0m\u001b[0;34m\u001b[0m\u001b[0m\n\u001b[0m\u001b[1;32m    163\u001b[0m                 \u001b[0mprint\u001b[0m\u001b[0;34m(\u001b[0m\u001b[0mchild\u001b[0m\u001b[0;34m.\u001b[0m\u001b[0mbefore\u001b[0m\u001b[0;34m[\u001b[0m\u001b[0mout_size\u001b[0m\u001b[0;34m:\u001b[0m\u001b[0;34m]\u001b[0m\u001b[0;34m.\u001b[0m\u001b[0mdecode\u001b[0m\u001b[0;34m(\u001b[0m\u001b[0menc\u001b[0m\u001b[0;34m,\u001b[0m \u001b[0;34m'replace'\u001b[0m\u001b[0;34m)\u001b[0m\u001b[0;34m,\u001b[0m \u001b[0mend\u001b[0m\u001b[0;34m=\u001b[0m\u001b[0;34m''\u001b[0m\u001b[0;34m)\u001b[0m\u001b[0;34m\u001b[0m\u001b[0;34m\u001b[0m\u001b[0m\n",
      "\u001b[0;32m/usr/lib/python3/dist-packages/pexpect/spawnbase.py\u001b[0m in \u001b[0;36mexpect_list\u001b[0;34m(self, pattern_list, timeout, searchwindowsize, async_, **kw)\u001b[0m\n\u001b[1;32m    371\u001b[0m         \u001b[0;32melse\u001b[0m\u001b[0;34m:\u001b[0m\u001b[0;34m\u001b[0m\u001b[0;34m\u001b[0m\u001b[0m\n\u001b[0;32m--> 372\u001b[0;31m             \u001b[0;32mreturn\u001b[0m \u001b[0mexp\u001b[0m\u001b[0;34m.\u001b[0m\u001b[0mexpect_loop\u001b[0m\u001b[0;34m(\u001b[0m\u001b[0mtimeout\u001b[0m\u001b[0;34m)\u001b[0m\u001b[0;34m\u001b[0m\u001b[0;34m\u001b[0m\u001b[0m\n\u001b[0m\u001b[1;32m    373\u001b[0m \u001b[0;34m\u001b[0m\u001b[0m\n",
      "\u001b[0;32m/usr/lib/python3/dist-packages/pexpect/expect.py\u001b[0m in \u001b[0;36mexpect_loop\u001b[0;34m(self, timeout)\u001b[0m\n\u001b[1;32m    168\u001b[0m                 \u001b[0;31m# Still have time left, so read more data\u001b[0m\u001b[0;34m\u001b[0m\u001b[0;34m\u001b[0m\u001b[0;34m\u001b[0m\u001b[0m\n\u001b[0;32m--> 169\u001b[0;31m                 \u001b[0mincoming\u001b[0m \u001b[0;34m=\u001b[0m \u001b[0mspawn\u001b[0m\u001b[0;34m.\u001b[0m\u001b[0mread_nonblocking\u001b[0m\u001b[0;34m(\u001b[0m\u001b[0mspawn\u001b[0m\u001b[0;34m.\u001b[0m\u001b[0mmaxread\u001b[0m\u001b[0;34m,\u001b[0m \u001b[0mtimeout\u001b[0m\u001b[0;34m)\u001b[0m\u001b[0;34m\u001b[0m\u001b[0;34m\u001b[0m\u001b[0m\n\u001b[0m\u001b[1;32m    170\u001b[0m                 \u001b[0;32mif\u001b[0m \u001b[0mself\u001b[0m\u001b[0;34m.\u001b[0m\u001b[0mspawn\u001b[0m\u001b[0;34m.\u001b[0m\u001b[0mdelayafterread\u001b[0m \u001b[0;32mis\u001b[0m \u001b[0;32mnot\u001b[0m \u001b[0;32mNone\u001b[0m\u001b[0;34m:\u001b[0m\u001b[0;34m\u001b[0m\u001b[0;34m\u001b[0m\u001b[0m\n",
      "\u001b[0;32m/usr/lib/python3/dist-packages/pexpect/pty_spawn.py\u001b[0m in \u001b[0;36mread_nonblocking\u001b[0;34m(self, size, timeout)\u001b[0m\n\u001b[1;32m    499\u001b[0m         \u001b[0;31m# (possibly timeout=None), we call select() with a timeout.\u001b[0m\u001b[0;34m\u001b[0m\u001b[0;34m\u001b[0m\u001b[0;34m\u001b[0m\u001b[0m\n\u001b[0;32m--> 500\u001b[0;31m         \u001b[0;32mif\u001b[0m \u001b[0;34m(\u001b[0m\u001b[0mtimeout\u001b[0m \u001b[0;34m!=\u001b[0m \u001b[0;36m0\u001b[0m\u001b[0;34m)\u001b[0m \u001b[0;32mand\u001b[0m \u001b[0mselect\u001b[0m\u001b[0;34m(\u001b[0m\u001b[0mtimeout\u001b[0m\u001b[0;34m)\u001b[0m\u001b[0;34m:\u001b[0m\u001b[0;34m\u001b[0m\u001b[0;34m\u001b[0m\u001b[0m\n\u001b[0m\u001b[1;32m    501\u001b[0m             \u001b[0;32mreturn\u001b[0m \u001b[0msuper\u001b[0m\u001b[0;34m(\u001b[0m\u001b[0mspawn\u001b[0m\u001b[0;34m,\u001b[0m \u001b[0mself\u001b[0m\u001b[0;34m)\u001b[0m\u001b[0;34m.\u001b[0m\u001b[0mread_nonblocking\u001b[0m\u001b[0;34m(\u001b[0m\u001b[0msize\u001b[0m\u001b[0;34m)\u001b[0m\u001b[0;34m\u001b[0m\u001b[0;34m\u001b[0m\u001b[0m\n",
      "\u001b[0;32m/usr/lib/python3/dist-packages/pexpect/pty_spawn.py\u001b[0m in \u001b[0;36mselect\u001b[0;34m(timeout)\u001b[0m\n\u001b[1;32m    449\u001b[0m             \u001b[0;32mdef\u001b[0m \u001b[0mselect\u001b[0m\u001b[0;34m(\u001b[0m\u001b[0mtimeout\u001b[0m\u001b[0;34m)\u001b[0m\u001b[0;34m:\u001b[0m\u001b[0;34m\u001b[0m\u001b[0;34m\u001b[0m\u001b[0m\n\u001b[0;32m--> 450\u001b[0;31m                 \u001b[0;32mreturn\u001b[0m \u001b[0mselect_ignore_interrupts\u001b[0m\u001b[0;34m(\u001b[0m\u001b[0;34m[\u001b[0m\u001b[0mself\u001b[0m\u001b[0;34m.\u001b[0m\u001b[0mchild_fd\u001b[0m\u001b[0;34m]\u001b[0m\u001b[0;34m,\u001b[0m \u001b[0;34m[\u001b[0m\u001b[0;34m]\u001b[0m\u001b[0;34m,\u001b[0m \u001b[0;34m[\u001b[0m\u001b[0;34m]\u001b[0m\u001b[0;34m,\u001b[0m \u001b[0mtimeout\u001b[0m\u001b[0;34m)\u001b[0m\u001b[0;34m[\u001b[0m\u001b[0;36m0\u001b[0m\u001b[0;34m]\u001b[0m\u001b[0;34m\u001b[0m\u001b[0;34m\u001b[0m\u001b[0m\n\u001b[0m\u001b[1;32m    451\u001b[0m \u001b[0;34m\u001b[0m\u001b[0m\n",
      "\u001b[0;32m/usr/lib/python3/dist-packages/pexpect/utils.py\u001b[0m in \u001b[0;36mselect_ignore_interrupts\u001b[0;34m(iwtd, owtd, ewtd, timeout)\u001b[0m\n\u001b[1;32m    142\u001b[0m         \u001b[0;32mtry\u001b[0m\u001b[0;34m:\u001b[0m\u001b[0;34m\u001b[0m\u001b[0;34m\u001b[0m\u001b[0m\n\u001b[0;32m--> 143\u001b[0;31m             \u001b[0;32mreturn\u001b[0m \u001b[0mselect\u001b[0m\u001b[0;34m.\u001b[0m\u001b[0mselect\u001b[0m\u001b[0;34m(\u001b[0m\u001b[0miwtd\u001b[0m\u001b[0;34m,\u001b[0m \u001b[0mowtd\u001b[0m\u001b[0;34m,\u001b[0m \u001b[0mewtd\u001b[0m\u001b[0;34m,\u001b[0m \u001b[0mtimeout\u001b[0m\u001b[0;34m)\u001b[0m\u001b[0;34m\u001b[0m\u001b[0;34m\u001b[0m\u001b[0m\n\u001b[0m\u001b[1;32m    144\u001b[0m         \u001b[0;32mexcept\u001b[0m \u001b[0mInterruptedError\u001b[0m\u001b[0;34m:\u001b[0m\u001b[0;34m\u001b[0m\u001b[0;34m\u001b[0m\u001b[0m\n",
      "\u001b[0;31mKeyboardInterrupt\u001b[0m: ",
      "\nDuring handling of the above exception, another exception occurred:\n",
      "\u001b[0;31mKeyboardInterrupt\u001b[0m                         Traceback (most recent call last)",
      "    \u001b[0;31m[... skipping hidden 1 frame]\u001b[0m\n",
      "\u001b[0;32m/tmp/ipykernel_6702/443865302.py\u001b[0m in \u001b[0;36m<module>\u001b[0;34m\u001b[0m\n\u001b[1;32m      1\u001b[0m \u001b[0mget_ipython\u001b[0m\u001b[0;34m(\u001b[0m\u001b[0;34m)\u001b[0m\u001b[0;34m.\u001b[0m\u001b[0msystem\u001b[0m\u001b[0;34m(\u001b[0m\u001b[0;34m'smtp-user-enum -M EXPN -u james -t $TARGET'\u001b[0m\u001b[0;34m)\u001b[0m\u001b[0;34m\u001b[0m\u001b[0;34m\u001b[0m\u001b[0m\n\u001b[0;32m----> 2\u001b[0;31m \u001b[0mget_ipython\u001b[0m\u001b[0;34m(\u001b[0m\u001b[0;34m)\u001b[0m\u001b[0;34m.\u001b[0m\u001b[0msystem\u001b[0m\u001b[0;34m(\u001b[0m\u001b[0;34m'smtp-user-enum -M EXPN -U $UL_S -t $TARGET'\u001b[0m\u001b[0;34m)\u001b[0m\u001b[0;34m\u001b[0m\u001b[0;34m\u001b[0m\u001b[0m\n\u001b[0m\u001b[1;32m      3\u001b[0m \u001b[0mget_ipython\u001b[0m\u001b[0;34m(\u001b[0m\u001b[0;34m)\u001b[0m\u001b[0;34m.\u001b[0m\u001b[0msystem\u001b[0m\u001b[0;34m(\u001b[0m\u001b[0;34m'smtp-user-enum -M EXPN -U $UL -t $TARGET'\u001b[0m\u001b[0;34m)\u001b[0m\u001b[0;34m\u001b[0m\u001b[0;34m\u001b[0m\u001b[0m\n",
      "\u001b[0;32m~/.local/lib/python3.9/site-packages/ipykernel/zmqshell.py\u001b[0m in \u001b[0;36msystem_piped\u001b[0;34m(self, cmd)\u001b[0m\n\u001b[1;32m    635\u001b[0m         \u001b[0;32melse\u001b[0m\u001b[0;34m:\u001b[0m\u001b[0;34m\u001b[0m\u001b[0;34m\u001b[0m\u001b[0m\n\u001b[0;32m--> 636\u001b[0;31m             \u001b[0mself\u001b[0m\u001b[0;34m.\u001b[0m\u001b[0muser_ns\u001b[0m\u001b[0;34m[\u001b[0m\u001b[0;34m'_exit_code'\u001b[0m\u001b[0;34m]\u001b[0m \u001b[0;34m=\u001b[0m \u001b[0msystem\u001b[0m\u001b[0;34m(\u001b[0m\u001b[0mself\u001b[0m\u001b[0;34m.\u001b[0m\u001b[0mvar_expand\u001b[0m\u001b[0;34m(\u001b[0m\u001b[0mcmd\u001b[0m\u001b[0;34m,\u001b[0m \u001b[0mdepth\u001b[0m\u001b[0;34m=\u001b[0m\u001b[0;36m1\u001b[0m\u001b[0;34m)\u001b[0m\u001b[0;34m)\u001b[0m\u001b[0;34m\u001b[0m\u001b[0;34m\u001b[0m\u001b[0m\n\u001b[0m\u001b[1;32m    637\u001b[0m \u001b[0;34m\u001b[0m\u001b[0m\n",
      "\u001b[0;32m~/.local/lib/python3.9/site-packages/IPython/utils/_process_posix.py\u001b[0m in \u001b[0;36msystem\u001b[0;34m(self, cmd)\u001b[0m\n\u001b[1;32m    172\u001b[0m             \u001b[0;31m# curses.ascii.ETX).\u001b[0m\u001b[0;34m\u001b[0m\u001b[0;34m\u001b[0m\u001b[0;34m\u001b[0m\u001b[0m\n\u001b[0;32m--> 173\u001b[0;31m             \u001b[0mchild\u001b[0m\u001b[0;34m.\u001b[0m\u001b[0msendline\u001b[0m\u001b[0;34m(\u001b[0m\u001b[0mchr\u001b[0m\u001b[0;34m(\u001b[0m\u001b[0;36m3\u001b[0m\u001b[0;34m)\u001b[0m\u001b[0;34m)\u001b[0m\u001b[0;34m\u001b[0m\u001b[0;34m\u001b[0m\u001b[0m\n\u001b[0m\u001b[1;32m    174\u001b[0m             \u001b[0;31m# Read and print any more output the program might produce on its\u001b[0m\u001b[0;34m\u001b[0m\u001b[0;34m\u001b[0m\u001b[0;34m\u001b[0m\u001b[0m\n",
      "\u001b[0;32m/usr/lib/python3/dist-packages/pexpect/pty_spawn.py\u001b[0m in \u001b[0;36msendline\u001b[0;34m(self, s)\u001b[0m\n\u001b[1;32m    577\u001b[0m         \u001b[0ms\u001b[0m \u001b[0;34m=\u001b[0m \u001b[0mself\u001b[0m\u001b[0;34m.\u001b[0m\u001b[0m_coerce_send_string\u001b[0m\u001b[0;34m(\u001b[0m\u001b[0ms\u001b[0m\u001b[0;34m)\u001b[0m\u001b[0;34m\u001b[0m\u001b[0;34m\u001b[0m\u001b[0m\n\u001b[0;32m--> 578\u001b[0;31m         \u001b[0;32mreturn\u001b[0m \u001b[0mself\u001b[0m\u001b[0;34m.\u001b[0m\u001b[0msend\u001b[0m\u001b[0;34m(\u001b[0m\u001b[0ms\u001b[0m \u001b[0;34m+\u001b[0m \u001b[0mself\u001b[0m\u001b[0;34m.\u001b[0m\u001b[0mlinesep\u001b[0m\u001b[0;34m)\u001b[0m\u001b[0;34m\u001b[0m\u001b[0;34m\u001b[0m\u001b[0m\n\u001b[0m\u001b[1;32m    579\u001b[0m \u001b[0;34m\u001b[0m\u001b[0m\n",
      "\u001b[0;32m/usr/lib/python3/dist-packages/pexpect/pty_spawn.py\u001b[0m in \u001b[0;36msend\u001b[0;34m(self, s)\u001b[0m\n\u001b[1;32m    562\u001b[0m         \u001b[0;32mif\u001b[0m \u001b[0mself\u001b[0m\u001b[0;34m.\u001b[0m\u001b[0mdelaybeforesend\u001b[0m \u001b[0;32mis\u001b[0m \u001b[0;32mnot\u001b[0m \u001b[0;32mNone\u001b[0m\u001b[0;34m:\u001b[0m\u001b[0;34m\u001b[0m\u001b[0;34m\u001b[0m\u001b[0m\n\u001b[0;32m--> 563\u001b[0;31m             \u001b[0mtime\u001b[0m\u001b[0;34m.\u001b[0m\u001b[0msleep\u001b[0m\u001b[0;34m(\u001b[0m\u001b[0mself\u001b[0m\u001b[0;34m.\u001b[0m\u001b[0mdelaybeforesend\u001b[0m\u001b[0;34m)\u001b[0m\u001b[0;34m\u001b[0m\u001b[0;34m\u001b[0m\u001b[0m\n\u001b[0m\u001b[1;32m    564\u001b[0m \u001b[0;34m\u001b[0m\u001b[0m\n",
      "\u001b[0;31mKeyboardInterrupt\u001b[0m: ",
      "\nDuring handling of the above exception, another exception occurred:\n",
      "\u001b[0;31mAttributeError\u001b[0m                            Traceback (most recent call last)",
      "\u001b[0;32m~/.local/lib/python3.9/site-packages/IPython/core/interactiveshell.py\u001b[0m in \u001b[0;36mshowtraceback\u001b[0;34m(self, exc_tuple, filename, tb_offset, exception_only, running_compiled_code)\u001b[0m\n\u001b[1;32m   2060\u001b[0m                         \u001b[0;31m# in the engines. This should return a list of strings.\u001b[0m\u001b[0;34m\u001b[0m\u001b[0;34m\u001b[0m\u001b[0;34m\u001b[0m\u001b[0m\n\u001b[0;32m-> 2061\u001b[0;31m                         \u001b[0mstb\u001b[0m \u001b[0;34m=\u001b[0m \u001b[0mvalue\u001b[0m\u001b[0;34m.\u001b[0m\u001b[0m_render_traceback_\u001b[0m\u001b[0;34m(\u001b[0m\u001b[0;34m)\u001b[0m\u001b[0;34m\u001b[0m\u001b[0;34m\u001b[0m\u001b[0m\n\u001b[0m\u001b[1;32m   2062\u001b[0m                     \u001b[0;32mexcept\u001b[0m \u001b[0mException\u001b[0m\u001b[0;34m:\u001b[0m\u001b[0;34m\u001b[0m\u001b[0;34m\u001b[0m\u001b[0m\n",
      "\u001b[0;31mAttributeError\u001b[0m: 'KeyboardInterrupt' object has no attribute '_render_traceback_'",
      "\nDuring handling of the above exception, another exception occurred:\n",
      "\u001b[0;31mTypeError\u001b[0m                                 Traceback (most recent call last)",
      "    \u001b[0;31m[... skipping hidden 1 frame]\u001b[0m\n",
      "\u001b[0;32m~/.local/lib/python3.9/site-packages/IPython/core/interactiveshell.py\u001b[0m in \u001b[0;36mshowtraceback\u001b[0;34m(self, exc_tuple, filename, tb_offset, exception_only, running_compiled_code)\u001b[0m\n\u001b[1;32m   2061\u001b[0m                         \u001b[0mstb\u001b[0m \u001b[0;34m=\u001b[0m \u001b[0mvalue\u001b[0m\u001b[0;34m.\u001b[0m\u001b[0m_render_traceback_\u001b[0m\u001b[0;34m(\u001b[0m\u001b[0;34m)\u001b[0m\u001b[0;34m\u001b[0m\u001b[0;34m\u001b[0m\u001b[0m\n\u001b[1;32m   2062\u001b[0m                     \u001b[0;32mexcept\u001b[0m \u001b[0mException\u001b[0m\u001b[0;34m:\u001b[0m\u001b[0;34m\u001b[0m\u001b[0;34m\u001b[0m\u001b[0m\n\u001b[0;32m-> 2063\u001b[0;31m                         stb = self.InteractiveTB.structured_traceback(etype,\n\u001b[0m\u001b[1;32m   2064\u001b[0m                                             value, tb, tb_offset=tb_offset)\n\u001b[1;32m   2065\u001b[0m \u001b[0;34m\u001b[0m\u001b[0m\n",
      "\u001b[0;32m~/.local/lib/python3.9/site-packages/IPython/core/ultratb.py\u001b[0m in \u001b[0;36mstructured_traceback\u001b[0;34m(self, etype, value, tb, tb_offset, number_of_lines_of_context)\u001b[0m\n\u001b[1;32m   1365\u001b[0m         \u001b[0;32melse\u001b[0m\u001b[0;34m:\u001b[0m\u001b[0;34m\u001b[0m\u001b[0;34m\u001b[0m\u001b[0m\n\u001b[1;32m   1366\u001b[0m             \u001b[0mself\u001b[0m\u001b[0;34m.\u001b[0m\u001b[0mtb\u001b[0m \u001b[0;34m=\u001b[0m \u001b[0mtb\u001b[0m\u001b[0;34m\u001b[0m\u001b[0;34m\u001b[0m\u001b[0m\n\u001b[0;32m-> 1367\u001b[0;31m         return FormattedTB.structured_traceback(\n\u001b[0m\u001b[1;32m   1368\u001b[0m             self, etype, value, tb, tb_offset, number_of_lines_of_context)\n\u001b[1;32m   1369\u001b[0m \u001b[0;34m\u001b[0m\u001b[0m\n",
      "\u001b[0;32m~/.local/lib/python3.9/site-packages/IPython/core/ultratb.py\u001b[0m in \u001b[0;36mstructured_traceback\u001b[0;34m(self, etype, value, tb, tb_offset, number_of_lines_of_context)\u001b[0m\n\u001b[1;32m   1265\u001b[0m         \u001b[0;32mif\u001b[0m \u001b[0mmode\u001b[0m \u001b[0;32min\u001b[0m \u001b[0mself\u001b[0m\u001b[0;34m.\u001b[0m\u001b[0mverbose_modes\u001b[0m\u001b[0;34m:\u001b[0m\u001b[0;34m\u001b[0m\u001b[0;34m\u001b[0m\u001b[0m\n\u001b[1;32m   1266\u001b[0m             \u001b[0;31m# Verbose modes need a full traceback\u001b[0m\u001b[0;34m\u001b[0m\u001b[0;34m\u001b[0m\u001b[0;34m\u001b[0m\u001b[0m\n\u001b[0;32m-> 1267\u001b[0;31m             return VerboseTB.structured_traceback(\n\u001b[0m\u001b[1;32m   1268\u001b[0m                 \u001b[0mself\u001b[0m\u001b[0;34m,\u001b[0m \u001b[0metype\u001b[0m\u001b[0;34m,\u001b[0m \u001b[0mvalue\u001b[0m\u001b[0;34m,\u001b[0m \u001b[0mtb\u001b[0m\u001b[0;34m,\u001b[0m \u001b[0mtb_offset\u001b[0m\u001b[0;34m,\u001b[0m \u001b[0mnumber_of_lines_of_context\u001b[0m\u001b[0;34m\u001b[0m\u001b[0;34m\u001b[0m\u001b[0m\n\u001b[1;32m   1269\u001b[0m             )\n",
      "\u001b[0;32m~/.local/lib/python3.9/site-packages/IPython/core/ultratb.py\u001b[0m in \u001b[0;36mstructured_traceback\u001b[0;34m(self, etype, evalue, etb, tb_offset, number_of_lines_of_context)\u001b[0m\n\u001b[1;32m   1122\u001b[0m         \u001b[0;34m\"\"\"Return a nice text document describing the traceback.\"\"\"\u001b[0m\u001b[0;34m\u001b[0m\u001b[0;34m\u001b[0m\u001b[0m\n\u001b[1;32m   1123\u001b[0m \u001b[0;34m\u001b[0m\u001b[0m\n\u001b[0;32m-> 1124\u001b[0;31m         formatted_exception = self.format_exception_as_a_whole(etype, evalue, etb, number_of_lines_of_context,\n\u001b[0m\u001b[1;32m   1125\u001b[0m                                                                tb_offset)\n\u001b[1;32m   1126\u001b[0m \u001b[0;34m\u001b[0m\u001b[0m\n",
      "\u001b[0;32m~/.local/lib/python3.9/site-packages/IPython/core/ultratb.py\u001b[0m in \u001b[0;36mformat_exception_as_a_whole\u001b[0;34m(self, etype, evalue, etb, number_of_lines_of_context, tb_offset)\u001b[0m\n\u001b[1;32m   1080\u001b[0m \u001b[0;34m\u001b[0m\u001b[0m\n\u001b[1;32m   1081\u001b[0m \u001b[0;34m\u001b[0m\u001b[0m\n\u001b[0;32m-> 1082\u001b[0;31m         \u001b[0mlast_unique\u001b[0m\u001b[0;34m,\u001b[0m \u001b[0mrecursion_repeat\u001b[0m \u001b[0;34m=\u001b[0m \u001b[0mfind_recursion\u001b[0m\u001b[0;34m(\u001b[0m\u001b[0morig_etype\u001b[0m\u001b[0;34m,\u001b[0m \u001b[0mevalue\u001b[0m\u001b[0;34m,\u001b[0m \u001b[0mrecords\u001b[0m\u001b[0;34m)\u001b[0m\u001b[0;34m\u001b[0m\u001b[0;34m\u001b[0m\u001b[0m\n\u001b[0m\u001b[1;32m   1083\u001b[0m \u001b[0;34m\u001b[0m\u001b[0m\n\u001b[1;32m   1084\u001b[0m         \u001b[0mframes\u001b[0m \u001b[0;34m=\u001b[0m \u001b[0mself\u001b[0m\u001b[0;34m.\u001b[0m\u001b[0mformat_records\u001b[0m\u001b[0;34m(\u001b[0m\u001b[0mrecords\u001b[0m\u001b[0;34m,\u001b[0m \u001b[0mlast_unique\u001b[0m\u001b[0;34m,\u001b[0m \u001b[0mrecursion_repeat\u001b[0m\u001b[0;34m)\u001b[0m\u001b[0;34m\u001b[0m\u001b[0;34m\u001b[0m\u001b[0m\n",
      "\u001b[0;32m~/.local/lib/python3.9/site-packages/IPython/core/ultratb.py\u001b[0m in \u001b[0;36mfind_recursion\u001b[0;34m(etype, value, records)\u001b[0m\n\u001b[1;32m    380\u001b[0m     \u001b[0;31m# first frame (from in to out) that looks different.\u001b[0m\u001b[0;34m\u001b[0m\u001b[0;34m\u001b[0m\u001b[0;34m\u001b[0m\u001b[0m\n\u001b[1;32m    381\u001b[0m     \u001b[0;32mif\u001b[0m \u001b[0;32mnot\u001b[0m \u001b[0mis_recursion_error\u001b[0m\u001b[0;34m(\u001b[0m\u001b[0metype\u001b[0m\u001b[0;34m,\u001b[0m \u001b[0mvalue\u001b[0m\u001b[0;34m,\u001b[0m \u001b[0mrecords\u001b[0m\u001b[0;34m)\u001b[0m\u001b[0;34m:\u001b[0m\u001b[0;34m\u001b[0m\u001b[0;34m\u001b[0m\u001b[0m\n\u001b[0;32m--> 382\u001b[0;31m         \u001b[0;32mreturn\u001b[0m \u001b[0mlen\u001b[0m\u001b[0;34m(\u001b[0m\u001b[0mrecords\u001b[0m\u001b[0;34m)\u001b[0m\u001b[0;34m,\u001b[0m \u001b[0;36m0\u001b[0m\u001b[0;34m\u001b[0m\u001b[0;34m\u001b[0m\u001b[0m\n\u001b[0m\u001b[1;32m    383\u001b[0m \u001b[0;34m\u001b[0m\u001b[0m\n\u001b[1;32m    384\u001b[0m     \u001b[0;31m# Select filename, lineno, func_name to track frames with\u001b[0m\u001b[0;34m\u001b[0m\u001b[0;34m\u001b[0m\u001b[0;34m\u001b[0m\u001b[0m\n",
      "\u001b[0;31mTypeError\u001b[0m: object of type 'NoneType' has no len()"
     ]
    }
   ],
   "source": [
    "!smtp-user-enum -M EXPN -u james -t $TARGET\n",
    "!smtp-user-enum -M EXPN -U $UL_S -t $TARGET\n",
    "!smtp-user-enum -M EXPN -U $UL -t $TARGET"
   ]
  },
  {
   "cell_type": "code",
   "execution_count": 17,
   "id": "87ba1872-760b-4fc3-9031-3887106ee3b4",
   "metadata": {},
   "outputs": [
    {
     "name": "stdout",
     "output_type": "stream",
     "text": [
      "Starting smtp-user-enum v1.2 ( http://pentestmonkey.net/tools/smtp-user-enum )\n",
      "\n",
      " ----------------------------------------------------------\n",
      "|                   Scan Information                       |\n",
      " ----------------------------------------------------------\n",
      "\n",
      "Mode ..................... RCPT\n",
      "Worker Processes ......... 5\n",
      "Target count ............. 1\n",
      "Username count ........... 1\n",
      "Target TCP port .......... 25\n",
      "Query timeout ............ 5 secs\n",
      "Target domain ............ \n",
      "\n",
      "######## Scan started at Mon Oct 18 16:48:20 2021 #########\n",
      "######## Scan completed at Mon Oct 18 16:48:21 2021 #########\n",
      "0 results.\n",
      "\n",
      "1 queries in 1 seconds (1.0 queries / sec)\n",
      "Starting smtp-user-enum v1.2 ( http://pentestmonkey.net/tools/smtp-user-enum )\n",
      "\n",
      " ----------------------------------------------------------\n",
      "|                   Scan Information                       |\n",
      " ----------------------------------------------------------\n",
      "\n",
      "Mode ..................... RCPT\n",
      "Worker Processes ......... 5\n",
      "Usernames file ........... /usr/share/wordlists/SecLists/Usernames/top-usernames-shortlist.txt\n",
      "Target count ............. 1\n",
      "Username count ........... 17\n",
      "Target TCP port .......... 25\n",
      "Query timeout ............ 5 secs\n",
      "Target domain ............ \n",
      "\n",
      "######## Scan started at Mon Oct 18 16:48:21 2021 #########\n",
      "######## Scan completed at Mon Oct 18 16:48:22 2021 #########\n",
      "0 results.\n",
      "\n",
      "17 queries in 1 seconds (17.0 queries / sec)\n",
      "Starting smtp-user-enum v1.2 ( http://pentestmonkey.net/tools/smtp-user-enum )\n",
      "\n",
      " ----------------------------------------------------------\n",
      "|                   Scan Information                       |\n",
      " ----------------------------------------------------------\n",
      "\n",
      "Mode ..................... RCPT\n",
      "Worker Processes ......... 5\n",
      "Usernames file ........... SecLists/Usernames/Names/names.txt\n",
      "Target count ............. 1\n",
      "Username count ........... 10177\n",
      "Target TCP port .......... 25\n",
      "Query timeout ............ 5 secs\n",
      "Target domain ............ \n",
      "\n",
      "######## Scan started at Mon Oct 18 16:48:22 2021 #########\n",
      "^C\n"
     ]
    }
   ],
   "source": [
    "!smtp-user-enum -M RCPT -u james -t $TARGET\n",
    "!smtp-user-enum -M RCPT -U $UL_S -t $TARGET\n",
    "!smtp-user-enum -M RCPT -U $UL -t $TARGET"
   ]
  },
  {
   "cell_type": "code",
   "execution_count": 18,
   "id": "3cd1312e-ccef-4467-9190-073c300e014d",
   "metadata": {},
   "outputs": [
    {
     "name": "stdout",
     "output_type": "stream",
     "text": [
      "env: PL=SecLists/Passwords/probable-v2-top1575.txt\n",
      "env: PLRY=/usr/share/wordlists/rockyou.txt\n"
     ]
    }
   ],
   "source": [
    "%env PL=SecLists/Passwords/probable-v2-top1575.txt\n",
    "%env PLRY=/usr/share/wordlists/rockyou.txt"
   ]
  },
  {
   "cell_type": "code",
   "execution_count": 23,
   "id": "398a236e-7cdd-43a2-b4cf-c83c2ef103ba",
   "metadata": {},
   "outputs": [
    {
     "name": "stdout",
     "output_type": "stream",
     "text": [
      "Writing smtp_userlist.txt\n"
     ]
    }
   ],
   "source": [
    "%%writefile smtp_userlist.txt\n",
    "avalon\n",
    "james"
   ]
  },
  {
   "cell_type": "code",
   "execution_count": 24,
   "id": "0991aa23-182e-4ed7-bb04-f93ad5a4626a",
   "metadata": {},
   "outputs": [
    {
     "name": "stdout",
     "output_type": "stream",
     "text": [
      "Hydra v9.1 (c) 2020 by van Hauser/THC & David Maciejak - Please do not use in military or secret service organizations, or for illegal purposes (this is non-binding, these *** ignore laws and ethics anyway).\n",
      "\n",
      "Hydra (https://github.com/vanhauser-thc/thc-hydra) starting at 2021-10-18 16:53:29\n",
      "[INFO] several providers have implemented cracking protection, check with a small wordlist first - and stay legal!\n",
      "[WARNING] Restorefile (you have 10 seconds to abort... (use option -I to skip waiting)) from a previous session found, to prevent overwriting, ./hydra.restore\n",
      "[DATA] max 16 tasks per 1 server, overall 16 tasks, 3150 login tries (l:2/p:1575), ~197 tries per task\n",
      "[DATA] attacking smtp://10.11.1.95:25/\n",
      "[WARNING] SMTP does not allow connecting: \n",
      "[WARNING] SMTP does not allow connecting: \n",
      "[WARNING] SMTP does not allow connecting: \n",
      "[WARNING] SMTP does not allow connecting: \n",
      "[STATUS] 1467.00 tries/min, 1467 tries in 00:01h, 1683 to do in 00:02h, 16 active\n",
      "1 of 1 target completed, 0 valid password found\n",
      "Hydra (https://github.com/vanhauser-thc/thc-hydra) finished at 2021-10-18 16:55:33\n"
     ]
    }
   ],
   "source": [
    "!hydra -L smtp_userlist.txt -P $PL -f $TARGET smtp"
   ]
  },
  {
   "cell_type": "code",
   "execution_count": 25,
   "id": "28ca2ec6-885e-44f5-bf5f-26b046dadb52",
   "metadata": {},
   "outputs": [
    {
     "name": "stdout",
     "output_type": "stream",
     "text": [
      "Hydra v9.1 (c) 2020 by van Hauser/THC & David Maciejak - Please do not use in military or secret service organizations, or for illegal purposes (this is non-binding, these *** ignore laws and ethics anyway).\n",
      "\n",
      "Hydra (https://github.com/vanhauser-thc/thc-hydra) starting at 2021-10-18 16:55:33\n",
      "[INFO] several providers have implemented cracking protection, check with a small wordlist first - and stay legal!\n",
      "[DATA] max 16 tasks per 1 server, overall 16 tasks, 3150 login tries (l:2/p:1575), ~197 tries per task\n",
      "[DATA] attacking pop3://10.11.1.95:110/\n",
      "[STATUS] 2714.00 tries/min, 2714 tries in 00:01h, 436 to do in 00:01h, 16 active\n",
      "1 of 1 target completed, 0 valid password found\n",
      "Hydra (https://github.com/vanhauser-thc/thc-hydra) finished at 2021-10-18 16:56:43\n"
     ]
    }
   ],
   "source": [
    "!hydra -L smtp_userlist.txt -P $PL -f $TARGET pop3"
   ]
  },
  {
   "cell_type": "code",
   "execution_count": null,
   "id": "250ed83c-bfda-4ede-9c72-b5b9947ac020",
   "metadata": {},
   "outputs": [
    {
     "name": "stdout",
     "output_type": "stream",
     "text": [
      "Hydra v9.1 (c) 2020 by van Hauser/THC & David Maciejak - Please do not use in military or secret service organizations, or for illegal purposes (this is non-binding, these *** ignore laws and ethics anyway).\n",
      "\n",
      "Hydra (https://github.com/vanhauser-thc/thc-hydra) starting at 2021-10-18 16:56:43\n",
      "[INFO] several providers have implemented cracking protection, check with a small wordlist first - and stay legal!\n",
      "[DATA] max 16 tasks per 1 server, overall 16 tasks, 28688798 login tries (l:2/p:14344399), ~1793050 tries per task\n",
      "[DATA] attacking smtp://10.11.1.95:25/\n",
      "[STATUS] 1869.00 tries/min, 1869 tries in 00:01h, 28686929 to do in 255:49h, 16 active\n",
      "[STATUS] 1888.33 tries/min, 5665 tries in 00:03h, 28683133 to do in 253:10h, 16 active\n",
      "[STATUS] 1815.14 tries/min, 12706 tries in 00:07h, 28676092 to do in 263:19h, 16 active\n",
      "[STATUS] 1796.47 tries/min, 26947 tries in 00:15h, 28661851 to do in 265:55h, 16 active\n",
      "[STATUS] 1692.52 tries/min, 52468 tries in 00:31h, 28636330 to do in 281:60h, 16 active\n",
      "[STATUS] 1678.98 tries/min, 78912 tries in 00:47h, 28609886 to do in 284:01h, 16 active\n",
      "[STATUS] 1613.11 tries/min, 101626 tries in 01:03h, 28587174 to do in 295:22h, 16 active\n",
      "[STATUS] 1626.06 tries/min, 128459 tries in 01:19h, 28560341 to do in 292:45h, 16 active\n",
      "[STATUS] 1620.81 tries/min, 153977 tries in 01:35h, 28534823 to do in 293:26h, 16 active\n",
      "[STATUS] 1615.63 tries/min, 179335 tries in 01:51h, 28509465 to do in 294:07h, 16 active\n",
      "[STATUS] 1622.14 tries/min, 206012 tries in 02:07h, 28482788 to do in 292:39h, 16 active\n",
      "[STATUS] 1578.10 tries/min, 225669 tries in 02:23h, 28463162 to do in 300:37h, 16 active\n",
      "[STATUS] 1585.65 tries/min, 252119 tries in 02:39h, 28436712 to do in 298:54h, 16 active\n",
      "[STATUS] 1600.10 tries/min, 280018 tries in 02:55h, 28408813 to do in 295:55h, 16 active\n",
      "[ERROR] SMTP LOGIN AUTH : \n",
      "[ERROR] SMTP LOGIN AUTH, either this auth is disabled or server is not using auth: \n",
      "[ERROR] SMTP LOGIN AUTH, either this auth is disabled or server is not using auth: \n",
      "[ERROR] SMTP LOGIN AUTH, either this auth is disabled or server is not using auth: \n",
      "[ERROR] SMTP LOGIN AUTH, either this auth is disabled or server is not using auth: \n",
      "[ERROR] SMTP LOGIN AUTH : \n",
      "[ERROR] SMTP LOGIN AUTH, either this auth is disabled or server is not using auth: \n",
      "[ERROR] SMTP LOGIN AUTH : \n",
      "[ERROR] SMTP LOGIN AUTH, either this auth is disabled or server is not using auth: \n",
      "[ERROR] SMTP LOGIN AUTH, either this auth is disabled or server is not using auth: \n",
      "[ERROR] SMTP LOGIN AUTH, either this auth is disabled or server is not using auth: \n",
      "[ERROR] SMTP LOGIN AUTH : \n",
      "[ERROR] SMTP LOGIN AUTH : \n",
      "[ERROR] SMTP LOGIN AUTH : \n",
      "[ERROR] SMTP LOGIN AUTH, either this auth is disabled or server is not using auth: \n",
      "[ERROR] SMTP LOGIN AUTH : \n",
      "[ERROR] SMTP LOGIN AUTH : \n",
      "[ERROR] SMTP LOGIN AUTH : \n",
      "[ERROR] SMTP LOGIN AUTH : \n",
      "[ERROR] SMTP LOGIN AUTH : \n",
      "[ERROR] SMTP LOGIN AUTH, either this auth is disabled or server is not using auth: \n",
      "[STATUS] 1601.29 tries/min, 305846 tries in 03:11h, 28382985 to do in 295:26h, 16 active\n"
     ]
    }
   ],
   "source": [
    "!hydra -L smtp_userlist.txt -P $PLRY -f $TARGET smtp"
   ]
  },
  {
   "cell_type": "code",
   "execution_count": null,
   "id": "0dd22507-d123-4994-815c-603469cabff8",
   "metadata": {},
   "outputs": [],
   "source": [
    "!hydra -L smtp_userlist.txt -P $PLRY -f $TARGET pop3"
   ]
  },
  {
   "cell_type": "code",
   "execution_count": null,
   "id": "d976ff59-79cc-44d0-9a42-e6884c7ab7dd",
   "metadata": {},
   "outputs": [],
   "source": []
  }
 ],
 "metadata": {
  "kernelspec": {
   "display_name": "Python 3 (ipykernel)",
   "language": "python",
   "name": "python3"
  },
  "language_info": {
   "codemirror_mode": {
    "name": "ipython",
    "version": 3
   },
   "file_extension": ".py",
   "mimetype": "text/x-python",
   "name": "python",
   "nbconvert_exporter": "python",
   "pygments_lexer": "ipython3",
   "version": "3.9.2"
  }
 },
 "nbformat": 4,
 "nbformat_minor": 5
}
