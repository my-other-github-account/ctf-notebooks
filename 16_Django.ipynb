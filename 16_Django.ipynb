{
 "cells": [
  {
   "cell_type": "markdown",
   "id": "6541f5f0-d547-43a1-b8fb-47248ba50bba",
   "metadata": {},
   "source": [
    "# ASSIGNMENT"
   ]
  },
  {
   "cell_type": "code",
   "execution_count": 1,
   "id": "8dacdfba-7fed-4ad8-9cae-6a20f9985919",
   "metadata": {},
   "outputs": [
    {
     "name": "stdout",
     "output_type": "stream",
     "text": [
      "WARNING: pip is being invoked by an old script wrapper. This will fail in a future version of pip.\n",
      "Please see https://github.com/pypa/pip/issues/5599 for advice on fixing the underlying issue.\n",
      "To avoid this problem you can invoke Python with '-m pip' instead of running pip directly.\n",
      "Collecting Django==2.2.12\n",
      "  Downloading Django-2.2.12-py3-none-any.whl (7.5 MB)\n",
      "\u001b[K     |████████████████████████████████| 7.5 MB 23.0 MB/s eta 0:00:01\n",
      "\u001b[?25hCollecting sqlparse\n",
      "  Downloading sqlparse-0.4.2-py3-none-any.whl (42 kB)\n",
      "\u001b[K     |████████████████████████████████| 42 kB 1.4 MB/s  eta 0:00:01\n",
      "\u001b[?25hCollecting pytz\n",
      "  Downloading pytz-2021.3-py2.py3-none-any.whl (503 kB)\n",
      "\u001b[K     |████████████████████████████████| 503 kB 45.6 MB/s eta 0:00:01\n",
      "\u001b[?25hInstalling collected packages: sqlparse, pytz, Django\n",
      "Successfully installed Django-2.2.12 pytz-2021.3 sqlparse-0.4.2\n",
      "\u001b[33mWARNING: You are using pip version 20.2.2; however, version 21.2.4 is available.\n",
      "You should consider upgrading via the '/usr/bin/python3 -m pip install --upgrade pip' command.\u001b[0m\n"
     ]
    }
   ],
   "source": [
    "!pip3 install Django==2.2.12"
   ]
  },
  {
   "cell_type": "code",
   "execution_count": 2,
   "id": "9e2798e7-e245-4379-ae06-c762c7f9ef0f",
   "metadata": {},
   "outputs": [],
   "source": [
    "!django-admin startproject my_proj"
   ]
  },
  {
   "cell_type": "code",
   "execution_count": 3,
   "id": "6b8ed853-7e62-46c4-a813-a3c1e5507945",
   "metadata": {},
   "outputs": [
    {
     "name": "stdout",
     "output_type": "stream",
     "text": [
      "/root/ctf-notebooks/my_proj\n"
     ]
    }
   ],
   "source": [
    "%cd my_proj"
   ]
  },
  {
   "cell_type": "code",
   "execution_count": 6,
   "id": "761dabe7-7346-4a27-beea-4bc5c7787616",
   "metadata": {},
   "outputs": [
    {
     "name": "stdout",
     "output_type": "stream",
     "text": [
      "\u001b[36;1mOperations to perform:\u001b[0m\n",
      "\u001b[1m  Apply all migrations: \u001b[0madmin, auth, contenttypes, sessions\n",
      "\u001b[36;1mRunning migrations:\u001b[0m\n",
      "  Applying contenttypes.0001_initial...\u001b[32;1m OK\u001b[0m\n",
      "  Applying auth.0001_initial...\u001b[32;1m OK\u001b[0m\n",
      "  Applying admin.0001_initial...\u001b[32;1m OK\u001b[0m\n",
      "  Applying admin.0002_logentry_remove_auto_add...\u001b[32;1m OK\u001b[0m\n",
      "  Applying admin.0003_logentry_add_action_flag_choices...\u001b[32;1m OK\u001b[0m\n",
      "  Applying contenttypes.0002_remove_content_type_name...\u001b[32;1m OK\u001b[0m\n",
      "  Applying auth.0002_alter_permission_name_max_length...\u001b[32;1m OK\u001b[0m\n",
      "  Applying auth.0003_alter_user_email_max_length...\u001b[32;1m OK\u001b[0m\n",
      "  Applying auth.0004_alter_user_username_opts...\u001b[32;1m OK\u001b[0m\n",
      "  Applying auth.0005_alter_user_last_login_null...\u001b[32;1m OK\u001b[0m\n",
      "  Applying auth.0006_require_contenttypes_0002...\u001b[32;1m OK\u001b[0m\n",
      "  Applying auth.0007_alter_validators_add_error_messages...\u001b[32;1m OK\u001b[0m\n",
      "  Applying auth.0008_alter_user_username_max_length...\u001b[32;1m OK\u001b[0m\n",
      "  Applying auth.0009_alter_user_last_name_max_length...\u001b[32;1m OK\u001b[0m\n",
      "  Applying auth.0010_alter_group_name_max_length...\u001b[32;1m OK\u001b[0m\n",
      "  Applying auth.0011_update_proxy_permissions...\u001b[32;1m OK\u001b[0m\n",
      "  Applying sessions.0001_initial...\u001b[32;1m OK\u001b[0m\n"
     ]
    }
   ],
   "source": [
    "!python3 manage.py migrate"
   ]
  },
  {
   "cell_type": "code",
   "execution_count": null,
   "id": "19218176-8e3b-4f4e-a855-10792bf676e0",
   "metadata": {},
   "outputs": [
    {
     "name": "stdout",
     "output_type": "stream",
     "text": [
      "Watching for file changes with StatReloader\n",
      "Performing system checks...\n",
      "\n",
      "System check identified no issues (0 silenced).\n",
      "October 07, 2021 - 22:44:26\n",
      "Django version 2.2.12, using settings 'my_proj.settings'\n",
      "Starting development server at http://0.0.0.0:9999/\n",
      "Quit the server with CONTROL-C.\n",
      "[07/Oct/2021 22:44:41] \u001b[m\"GET / HTTP/1.1\" 200 16348\u001b[0m\n",
      "[07/Oct/2021 22:44:41] \u001b[m\"GET /static/admin/css/fonts.css HTTP/1.1\" 200 423\u001b[0m\n",
      "Not Found: /favicon.ico\n",
      "[07/Oct/2021 22:44:41] \u001b[33m\"GET /favicon.ico HTTP/1.1\" 404 1973\u001b[0m\n",
      "[07/Oct/2021 22:44:41] \u001b[m\"GET /static/admin/fonts/Roboto-Regular-webfont.woff HTTP/1.1\" 200 85876\u001b[0m\n",
      "[07/Oct/2021 22:44:41] \u001b[m\"GET /static/admin/fonts/Roboto-Bold-webfont.woff HTTP/1.1\" 200 86184\u001b[0m\n",
      "[07/Oct/2021 22:44:41] \u001b[m\"GET /static/admin/fonts/Roboto-Light-webfont.woff HTTP/1.1\" 200 85692\u001b[0m\n",
      "[07/Oct/2021 22:47:14] \u001b[m\"GET / HTTP/1.1\" 200 16348\u001b[0m\n",
      "[07/Oct/2021 22:47:14] \u001b[m\"GET /static/admin/css/fonts.css HTTP/1.1\" 200 423\u001b[0m\n",
      "Not Found: /favicon.ico\n",
      "[07/Oct/2021 22:47:14] \u001b[33m\"GET /favicon.ico HTTP/1.1\" 404 1973\u001b[0m\n",
      "[07/Oct/2021 22:47:14] \u001b[m\"GET /static/admin/fonts/Roboto-Bold-webfont.woff HTTP/1.1\" 200 86184\u001b[0m\n",
      "[07/Oct/2021 22:47:14] \u001b[m\"GET /static/admin/fonts/Roboto-Regular-webfont.woff HTTP/1.1\" 200 85876\u001b[0m\n",
      "[07/Oct/2021 22:47:14] \u001b[m\"GET /static/admin/fonts/Roboto-Light-webfont.woff HTTP/1.1\" 200 85692\u001b[0m\n"
     ]
    }
   ],
   "source": [
    "!python3 manage.py runserver 0.0.0.0:9999"
   ]
  },
  {
   "cell_type": "code",
   "execution_count": null,
   "id": "c68487c4-d129-4839-89fc-d949712ba684",
   "metadata": {},
   "outputs": [],
   "source": [
    "python3 manage.py startapp test"
   ]
  },
  {
   "cell_type": "code",
   "execution_count": null,
   "id": "7af6be34-b980-4e53-94fa-b70ad5330a31",
   "metadata": {},
   "outputs": [],
   "source": []
  }
 ],
 "metadata": {
  "kernelspec": {
   "display_name": "Python 3 (ipykernel)",
   "language": "python",
   "name": "python3"
  },
  "language_info": {
   "codemirror_mode": {
    "name": "ipython",
    "version": 3
   },
   "file_extension": ".py",
   "mimetype": "text/x-python",
   "name": "python",
   "nbconvert_exporter": "python",
   "pygments_lexer": "ipython3",
   "version": "3.9.2"
  }
 },
 "nbformat": 4,
 "nbformat_minor": 5
}
