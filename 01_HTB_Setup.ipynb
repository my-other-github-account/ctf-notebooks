{
 "cells": [
  {
   "cell_type": "code",
   "execution_count": 1,
   "id": "aeb58b9f-398c-43f3-b02c-3a45baab78cc",
   "metadata": {},
   "outputs": [],
   "source": [
    "from getpass import getpass"
   ]
  },
  {
   "cell_type": "code",
   "execution_count": 2,
   "id": "e5e4288e-b263-4c89-91cb-e9e7ca3db90c",
   "metadata": {},
   "outputs": [],
   "source": [
    "# https://www.kali.org/docs/containers/installing-docker-on-kali/"
   ]
  },
  {
   "cell_type": "code",
   "execution_count": 3,
   "id": "94f502dc-08ef-4a13-a81c-60449454b17a",
   "metadata": {},
   "outputs": [],
   "source": [
    "# !cargo install feroxbuster"
   ]
  },
  {
   "cell_type": "code",
   "execution_count": 11,
   "id": "78c25f2b-fc15-44fc-b817-6d6120e85f93",
   "metadata": {},
   "outputs": [
    {
     "name": "stdout",
     "output_type": "stream",
     "text": [
      "gzip: /usr/share/wordlists/rockyou.txt.gz: No such file or directory\n",
      "fatal: destination path 'SecLists' already exists and is not an empty directory.\n"
     ]
    }
   ],
   "source": [
    "!gunzip /usr/share/wordlists/rockyou.txt.gz\n",
    "!git clone https://github.com/danielmiessler/SecLists.git"
   ]
  },
  {
   "cell_type": "code",
   "execution_count": 7,
   "id": "ad5d982a-150e-4147-8a78-d467cc3a93ff",
   "metadata": {},
   "outputs": [
    {
     "name": "stdout",
     "output_type": "stream",
     "text": [
      "\u001b[33mDEPRECATION: Python 2.7 reached the end of its life on January 1st, 2020. Please upgrade your Python as Python 2.7 is no longer maintained. pip 21.0 will drop support for Python 2.7 in January 2021. More details about Python 2 support in pip can be found at https://pip.pypa.io/en/latest/development/release-process/#python-2-support pip 21.0 will remove support for this functionality.\u001b[0m\n",
      "Defaulting to user installation because normal site-packages is not writeable\n",
      "Requirement already satisfied: xmltodict in /home/parallels/.local/lib/python2.7/site-packages (0.12.0)\n",
      "Requirement already satisfied: termcolor in /home/parallels/.local/lib/python2.7/site-packages (1.1.0)\n"
     ]
    }
   ],
   "source": [
    "%pip install xmltodict termcolor bs4 git+https://github.com/Nekmo/dirhunt selenium matplotlib"
   ]
  },
  {
   "cell_type": "code",
   "execution_count": 4,
   "id": "2f92e84b-f428-4195-ab5f-286c63c80c42",
   "metadata": {},
   "outputs": [
    {
     "name": "stdout",
     "output_type": "stream",
     "text": [
      "--2021-09-26 08:24:22--  https://raw.githubusercontent.com/CiscoCXSecurity/enum4linux/master/enum4linux.pl\n",
      "Resolving raw.githubusercontent.com (raw.githubusercontent.com)... 185.199.110.133, 185.199.109.133, 185.199.108.133, ...\n",
      "Connecting to raw.githubusercontent.com (raw.githubusercontent.com)|185.199.110.133|:443... connected.\n",
      "HTTP request sent, awaiting response... 200 OK\n",
      "Length: 42963 (42K) [text/plain]\n",
      "Saving to: ‘enum4linux.pl’\n",
      "\n",
      "enum4linux.pl       100%[===================>]  41.96K  --.-KB/s    in 0.01s   \n",
      "\n",
      "2021-09-26 08:24:23 (3.20 MB/s) - ‘enum4linux.pl’ saved [42963/42963]\n",
      "\n"
     ]
    }
   ],
   "source": [
    "!wget https://raw.githubusercontent.com/CiscoCXSecurity/enum4linux/master/enum4linux.pl\n",
    "!chmod +x enum4linux.pl"
   ]
  },
  {
   "cell_type": "code",
   "execution_count": 5,
   "id": "1d4a63e3-3f65-4dd8-8c62-637aecef8a3e",
   "metadata": {},
   "outputs": [
    {
     "name": "stdout",
     "output_type": "stream",
     "text": [
      "Cloning into 'okadminfinder3'...\n",
      "remote: Enumerating objects: 323, done.\u001b[K\n",
      "remote: Counting objects: 100% (59/59), done.\u001b[K\n",
      "remote: Compressing objects: 100% (48/48), done.\u001b[K\n",
      "remote: Total 323 (delta 20), reused 28 (delta 7), pack-reused 264\u001b[K\n",
      "Receiving objects: 100% (323/323), 296.44 KiB | 2.49 MiB/s, done.\n",
      "Resolving deltas: 100% (159/159), done.\n"
     ]
    }
   ],
   "source": [
    "!rm -rf okadminfinder3\n",
    "!git clone https://github.com/mIcHyAmRaNe/okadminfinder3.git\n",
    "!chmod +x okadminfinder3/okadminfinder.py\n",
    "\n",
    "import fileinput\n",
    "\n",
    "for line in fileinput.input(\"okadminfinder3/okadminfinder.py\", inplace = 1): \n",
    "    to_replace=\"\"\"messenger.writeInput('  [/] Scanning over; Press Enter to Exit', 'green')\"\"\"\n",
    "    print(line.replace(to_replace, \"exit()\"), end = \"\")"
   ]
  },
  {
   "cell_type": "code",
   "execution_count": 6,
   "id": "4e3b9864-4a21-4871-a718-0ea37815cd32",
   "metadata": {},
   "outputs": [
    {
     "name": "stdout",
     "output_type": "stream",
     "text": [
      "Cloning into 'CeWL'...\n",
      "remote: Enumerating objects: 382, done.\u001b[K\n",
      "remote: Counting objects: 100% (95/95), done.\u001b[K\n",
      "remote: Compressing objects: 100% (63/63), done.\u001b[K\n",
      "remote: Total 382 (delta 54), reused 56 (delta 32), pack-reused 287\u001b[K\n",
      "Receiving objects: 100% (382/382), 173.49 KiB | 2.02 MiB/s, done.\n",
      "Resolving deltas: 100% (222/222), done.\n"
     ]
    },
    {
     "name": "stdin",
     "output_type": "stream",
     "text": [
      " \n"
     ]
    },
    {
     "name": "stdout",
     "output_type": "stream",
     "text": [
      "[sudo] password for parallels: Sorry, try again.\n",
      "[sudo] password for parallels: \n",
      "sudo: no password was provided\n",
      "sudo: 1 incorrect password attempt\n"
     ]
    },
    {
     "name": "stdin",
     "output_type": "stream",
     "text": [
      " ···········\n"
     ]
    },
    {
     "name": "stdout",
     "output_type": "stream",
     "text": [
      "[sudo] password for parallels: \u001b[33mDon't run Bundler as root. Bundler can ask for sudo if it is needed, and\n",
      "installing your bundle as root will break this application for all non-root\n",
      "users on this machine.\u001b[0m\n",
      "Fetching gem metadata from https://rubygems.org/.......\n",
      "Resolving dependencies...\n",
      "Using mime 0.4.4\n",
      "Using mime-types-data 3.2021.0225\n",
      "Using mini_exiftool 2.10.1\n",
      "Using bundler 2.2.27\n",
      "Using mini_portile2 2.5.3\n",
      "Using racc 1.5.2\n",
      "Using rexml 3.2.5\n",
      "Using rubyzip 2.3.0\n",
      "Using spider 0.5.4\n",
      "Using mime-types 3.3.1\n",
      "Using nokogiri 1.11.7\n",
      "\u001b[32mBundle complete! 7 Gemfile dependencies, 11 gems now installed.\u001b[0m\n",
      "\u001b[32mUse `bundle info [gemname]` to see where a bundled gem is installed.\u001b[0m\n"
     ]
    }
   ],
   "source": [
    "!git clone https://github.com/digininja/CeWL\n",
    "!echo { getpass() } | sudo -S gem install bundler\n",
    "!cd CeWL && echo { getpass() } | sudo -S bundle install\n",
    "!cd CeWL && chmod +x cewl.rb"
   ]
  },
  {
   "cell_type": "code",
   "execution_count": 9,
   "id": "4c68858f-de77-4050-a207-6f0ae9c4a1e0",
   "metadata": {},
   "outputs": [
    {
     "name": "stdin",
     "output_type": "stream",
     "text": [
      " ···········\n"
     ]
    },
    {
     "name": "stdout",
     "output_type": "stream",
     "text": [
      "Reading package lists... Done: \n",
      "Building dependency tree... Done\n",
      "Reading state information... Done\n",
      "ffuf is already the newest version (1.3.1-0kali1).\n",
      "gobuster is already the newest version (3.1.0-0kali1).\n",
      "0 upgraded, 0 newly installed, 0 to remove and 350 not upgraded.\n"
     ]
    }
   ],
   "source": [
    "!echo { getpass() } | sudo -S apt install gobuster ffuf"
   ]
  },
  {
   "cell_type": "code",
   "execution_count": 10,
   "id": "d744e9ae-deb1-4ec3-9e12-b026cc255d23",
   "metadata": {},
   "outputs": [
    {
     "name": "stdin",
     "output_type": "stream",
     "text": [
      " ···········\n"
     ]
    },
    {
     "name": "stdout",
     "output_type": "stream",
     "text": [
      "[sudo] password for parallels: Cloning into 'SecLists'...\n",
      "remote: Enumerating objects: 10408, done.\u001b[K\n",
      "remote: Counting objects: 100% (554/554), done.\u001b[K\n",
      "remote: Compressing objects: 100% (223/223), done.\u001b[K\n",
      "remote: Total 10408 (delta 344), reused 527 (delta 323), pack-reused 9854\u001b[K\n",
      "Receiving objects: 100% (10408/10408), 895.00 MiB | 15.96 MiB/s, done.\n",
      "Resolving deltas: 100% (5493/5493), done.\n",
      "Updating files: 100% (5371/5371), done.\n"
     ]
    }
   ],
   "source": [
    "!echo { getpass() } | sudo -S git clone https://github.com/danielmiessler/SecLists.git"
   ]
  }
 ],
 "metadata": {
  "kernelspec": {
   "display_name": "Python 3 (ipykernel)",
   "language": "python",
   "name": "python3"
  },
  "language_info": {
   "codemirror_mode": {
    "name": "ipython",
    "version": 3
   },
   "file_extension": ".py",
   "mimetype": "text/x-python",
   "name": "python",
   "nbconvert_exporter": "python",
   "pygments_lexer": "ipython3",
   "version": "3.9.2"
  }
 },
 "nbformat": 4,
 "nbformat_minor": 5
}
