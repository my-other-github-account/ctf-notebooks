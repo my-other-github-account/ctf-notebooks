{
 "cells": [
  {
   "cell_type": "code",
   "execution_count": 1,
   "id": "e5e4288e-b263-4c89-91cb-e9e7ca3db90c",
   "metadata": {},
   "outputs": [],
   "source": [
    "# https://www.kali.org/docs/containers/installing-docker-on-kali/"
   ]
  },
  {
   "cell_type": "code",
   "execution_count": 2,
   "id": "94f502dc-08ef-4a13-a81c-60449454b17a",
   "metadata": {},
   "outputs": [],
   "source": [
    "# !cargo install feroxbuster"
   ]
  },
  {
   "cell_type": "code",
   "execution_count": null,
   "id": "ed9e0885-598c-4378-8b1b-2d7f2edfa941",
   "metadata": {},
   "outputs": [
    {
     "name": "stdout",
     "output_type": "stream",
     "text": [
      "Warning: apt-key is deprecated. Manage keyring files in trusted.gpg.d instead (see apt-key(8)).\n",
      "OK\n",
      "Get:1 https://dl.google.com/linux/chrome/deb stable InRelease [1,811 B]\n",
      "Get:2 https://dl.google.com/linux/chrome/deb stable/main amd64 Packages [1,094 B]\n",
      "Get:3 http://kali.download/kali kali-rolling InRelease [30.6 kB]\n",
      "Get:4 http://kali.download/kali kali-rolling/main amd64 Packages [17.9 MB]\n",
      "Get:5 http://kali.download/kali kali-rolling/non-free amd64 Packages [209 kB]\n",
      "Get:6 http://kali.download/kali kali-rolling/contrib amd64 Packages [111 kB]\n",
      "Fetched 18.3 MB in 2s (9,827 kB/s)                   \n",
      "Reading package lists... Done\n",
      "Reading package lists... Done\n",
      "Building dependency tree       \n",
      "Reading state information... Done\n",
      "The following packages were automatically installed and are no longer required:\n",
      "  fonts-glyphicons-halflings libbind9-161 libboost-iostreams1.67.0 libc6-i386\n",
      "  libcdio18 libclang1-8 libcroco3 libdns-export1107 libdns1107 libdns1110\n",
      "  libdvdread7 libexiv2-14 libffi-dev libgc1c2 libgcc-8-dev libgeos-3.8.0\n",
      "  libgtkmm-2.4-1v5 libicu63 libirs161 libisc-export1104 libisc1104 libisc1105\n",
      "  libisccc161 libisccfg163 libllvm8 libllvm9 liblwres161 libmpdec2 libmpx2\n",
      "  libmysofa0 libncurses-dev liboauth0 libobjc-8-dev libobjc4 libomp-8-dev\n",
      "  libomp5-8 libpfm4 libpocl2-common libproj15 libprotobuf17 libpython3.7\n",
      "  libpython3.7-dev libpython3.7-minimal libpython3.7-stdlib libqt5script5\n",
      "  libradare2-3.9 libre2-5 libruby2.5 libstdc++-8-dev libtinfo-dev libx264-155\n",
      "  libx265-179 linux-image-5.4.0-kali2-amd64 llvm-8 llvm-8-dev llvm-8-runtime\n",
      "  openjdk-8-jre php7.3-mysql python-backports.functools-lru-cache python-bs4\n",
      "  python-dnspython python-html5lib python-lxml python-netaddr python-soupsieve\n",
      "  python-webencodings python3-flask-session python3-pcapfile\n",
      "  python3-simplegeneric python3.7-minimal ruby-did-you-mean ruby2.5\n",
      "  ruby2.5-dev ruby2.5-doc\n",
      "Use 'apt autoremove' to remove them.\n",
      "The following NEW packages will be installed:\n",
      "  google-chrome-stable\n",
      "0 upgraded, 1 newly installed, 0 to remove and 1782 not upgraded.\n",
      "Need to get 90.2 MB of archives.\n",
      "After this operation, 283 MB of additional disk space will be used.\n",
      "Get:1 https://dl.google.com/linux/chrome/deb stable/main amd64 google-chrome-stable amd64 94.0.4606.81-1 [90.2 MB]\n",
      "Fetched 90.2 MB in 3s (34.8 MB/s)                \n",
      "Selecting previously unselected package google-chrome-stable.\n",
      "(Reading database ... 370420 files and directories currently installed.)\n",
      "Preparing to unpack .../google-chrome-stable_94.0.4606.81-1_amd64.deb ...\n",
      "Unpacking google-chrome-stable (94.0.4606.81-1) ...\n"
     ]
    }
   ],
   "source": [
    "!curl -sS -o - https://dl-ssl.google.com/linux/linux_signing_key.pub | apt-key add\n",
    "!echo \"deb https://dl.google.com/linux/chrome/deb/ stable main\" >> /etc/apt/sources.list.d/google-chrome.list\n",
    "!apt-get -y update\n",
    "!apt-get -y install google-chrome-stable"
   ]
  },
  {
   "cell_type": "code",
   "execution_count": null,
   "id": "9855554a-6960-4611-9d7c-ae9f77212488",
   "metadata": {},
   "outputs": [],
   "source": [
    "!echo \"deb https://dl.google.com/linux/chrome/deb/ stable main\" >> /etc/apt/sources.list.d/google-chrome.list\n",
    "!apt-get -y update\n",
    "!apt-get -y install google-chrome-stable"
   ]
  },
  {
   "cell_type": "code",
   "execution_count": null,
   "id": "ad5d982a-150e-4147-8a78-d467cc3a93ff",
   "metadata": {
    "scrolled": true,
    "tags": []
   },
   "outputs": [],
   "source": [
    "%pip install xmltodict termcolor bs4 git+https://github.com/Nekmo/dirhunt selenium matplotlib lxml r2pipe"
   ]
  },
  {
   "cell_type": "code",
   "execution_count": null,
   "id": "e4ac32e8-2b37-4bb2-a7f5-acc76d7af069",
   "metadata": {},
   "outputs": [],
   "source": [
    "!sudo apt update\n",
    "!sudo apt install -y python3-pip ncat rlwrap"
   ]
  },
  {
   "cell_type": "code",
   "execution_count": null,
   "id": "bb898865-ad36-4bb1-9c95-e292c64063f1",
   "metadata": {},
   "outputs": [],
   "source": [
    "!wget https://chromedriver.storage.googleapis.com/94.0.4606.41/chromedriver_linux64.zip\n",
    "!unzip chromedriver_linux64.zip"
   ]
  },
  {
   "cell_type": "code",
   "execution_count": null,
   "id": "2f92e84b-f428-4195-ab5f-286c63c80c42",
   "metadata": {},
   "outputs": [],
   "source": [
    "!wget https://raw.githubusercontent.com/CiscoCXSecurity/enum4linux/master/enum4linux.pl\n",
    "!chmod +x enum4linux.pl"
   ]
  },
  {
   "cell_type": "code",
   "execution_count": null,
   "id": "78c25f2b-fc15-44fc-b817-6d6120e85f93",
   "metadata": {},
   "outputs": [],
   "source": [
    "!gunzip /usr/share/wordlists/rockyou.txt.gz\n",
    "!git clone https://github.com/danielmiessler/SecLists.git"
   ]
  },
  {
   "cell_type": "code",
   "execution_count": null,
   "id": "1d4a63e3-3f65-4dd8-8c62-637aecef8a3e",
   "metadata": {},
   "outputs": [],
   "source": [
    "!rm -rf okadminfinder3\n",
    "!git clone https://github.com/mIcHyAmRaNe/okadminfinder3.git\n",
    "!chmod +x okadminfinder3/okadminfinder.py\n",
    "\n",
    "import fileinput\n",
    "\n",
    "for line in fileinput.input(\"okadminfinder3/okadminfinder.py\", inplace = 1): \n",
    "    to_replace=\"\"\"messenger.writeInput('  [/] Scanning over; Press Enter to Exit', 'green')\"\"\"\n",
    "    print(line.replace(to_replace, \"exit()\"), end = \"\")"
   ]
  },
  {
   "cell_type": "code",
   "execution_count": null,
   "id": "f399696e-7d3a-435b-8cab-42027c726163",
   "metadata": {},
   "outputs": [],
   "source": [
    "!sudo apt install -y gobuster ffuf"
   ]
  },
  {
   "cell_type": "code",
   "execution_count": null,
   "id": "abf2a046-9fa4-4d93-8bdc-391331f9bbce",
   "metadata": {},
   "outputs": [],
   "source": [
    "!git clone https://github.com/digininja/CeWL\n",
    "!sudo gem install bundler\n",
    "!cd CeWL && sudo bundle install\n",
    "!cd CeWL && chmod +x cewl.rb"
   ]
  },
  {
   "cell_type": "code",
   "execution_count": null,
   "id": "5fddb036-e7c1-4d62-9104-76435cd113d6",
   "metadata": {},
   "outputs": [],
   "source": [
    "!sudo apt install -y sudo apt install seclists curl enum4linux feroxbuster impacket-scripts nbtscan nikto nmap onesixtyone oscanner redis-tools smbclient smbmap snmp sslscan sipvicious tnscmd10g whatweb wkhtmltopdf"
   ]
  },
  {
   "cell_type": "code",
   "execution_count": null,
   "id": "3aee747f-f797-419c-8384-9224ccb64b0d",
   "metadata": {},
   "outputs": [],
   "source": [
    "!sudo python3 -m pip install git+https://github.com/Tib3rius/AutoRecon.git"
   ]
  },
  {
   "cell_type": "code",
   "execution_count": null,
   "id": "224cd4a6-8b79-41e8-a1b1-1d1b597fe6c4",
   "metadata": {
    "scrolled": true,
    "tags": []
   },
   "outputs": [],
   "source": [
    "!sudo apt install -y wine\n",
    "!sudo dpkg --add-architecture i386 && apt-get update && apt-get install -y wine32"
   ]
  },
  {
   "cell_type": "markdown",
   "id": "52dea70a-d493-40f7-8e46-88213fbc7b8d",
   "metadata": {},
   "source": [
    "# Extra/Needs Auth:"
   ]
  },
  {
   "cell_type": "code",
   "execution_count": null,
   "id": "aeb58b9f-398c-43f3-b02c-3a45baab78cc",
   "metadata": {},
   "outputs": [],
   "source": [
    "from getpass import getpass"
   ]
  },
  {
   "cell_type": "code",
   "execution_count": null,
   "id": "c4c744c5-aa73-492c-9290-04b95eaf03d6",
   "metadata": {
    "scrolled": true,
    "tags": []
   },
   "outputs": [],
   "source": [
    "!sudo apt update\n",
    "!sudo apt install -y docker.io\n",
    "!sudo systemctl enable docker --now"
   ]
  },
  {
   "cell_type": "code",
   "execution_count": null,
   "id": "5d350daa-08a1-42be-bae6-11932b96c13d",
   "metadata": {
    "tags": []
   },
   "outputs": [],
   "source": [
    "!git clone https://github.com/RustScan/RustScan.git\n",
    "!docker build -t my-other-github-account/rustscan RustScan"
   ]
  },
  {
   "cell_type": "code",
   "execution_count": null,
   "id": "4c68858f-de77-4050-a207-6f0ae9c4a1e0",
   "metadata": {},
   "outputs": [],
   "source": [
    "!echo { getpass() } | sudo -S apt install gobuster ffuf"
   ]
  },
  {
   "cell_type": "code",
   "execution_count": null,
   "id": "4e3b9864-4a21-4871-a718-0ea37815cd32",
   "metadata": {},
   "outputs": [],
   "source": [
    "!git clone https://github.com/digininja/CeWL\n",
    "!echo { getpass() } | sudo -S gem install bundler\n",
    "!cd CeWL && echo { getpass() } | sudo -S bundle install\n",
    "!cd CeWL && chmod +x cewl.rb"
   ]
  }
 ],
 "metadata": {
  "kernelspec": {
   "display_name": "Python 3 (ipykernel)",
   "language": "python",
   "name": "python3"
  },
  "language_info": {
   "codemirror_mode": {
    "name": "ipython",
    "version": 3
   },
   "file_extension": ".py",
   "mimetype": "text/x-python",
   "name": "python",
   "nbconvert_exporter": "python",
   "pygments_lexer": "ipython3",
   "version": "3.9.5"
  }
 },
 "nbformat": 4,
 "nbformat_minor": 5
}
