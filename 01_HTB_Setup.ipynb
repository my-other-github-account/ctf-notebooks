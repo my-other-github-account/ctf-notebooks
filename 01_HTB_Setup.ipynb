{
 "cells": [
  {
   "cell_type": "code",
   "execution_count": 1,
   "id": "aeb58b9f-398c-43f3-b02c-3a45baab78cc",
   "metadata": {},
   "outputs": [],
   "source": [
    "from getpass import getpass"
   ]
  },
  {
   "cell_type": "code",
   "execution_count": 2,
   "id": "e5e4288e-b263-4c89-91cb-e9e7ca3db90c",
   "metadata": {},
   "outputs": [],
   "source": [
    "# https://www.kali.org/docs/containers/installing-docker-on-kali/"
   ]
  },
  {
   "cell_type": "code",
   "execution_count": 3,
   "id": "94f502dc-08ef-4a13-a81c-60449454b17a",
   "metadata": {},
   "outputs": [],
   "source": [
    "# !cargo install feroxbuster"
   ]
  },
  {
   "cell_type": "code",
   "execution_count": 4,
   "id": "78c25f2b-fc15-44fc-b817-6d6120e85f93",
   "metadata": {},
   "outputs": [
    {
     "name": "stdout",
     "output_type": "stream",
     "text": [
      "gzip: /usr/share/wordlists/rockyou.txt.gz: No such file or directory\n",
      "fatal: destination path 'SecLists' already exists and is not an empty directory.\n"
     ]
    }
   ],
   "source": [
    "!gunzip /usr/share/wordlists/rockyou.txt.gz\n",
    "!git clone https://github.com/danielmiessler/SecLists.git"
   ]
  },
  {
   "cell_type": "code",
   "execution_count": 5,
   "id": "ad5d982a-150e-4147-8a78-d467cc3a93ff",
   "metadata": {},
   "outputs": [
    {
     "name": "stdout",
     "output_type": "stream",
     "text": [
      "Collecting git+https://github.com/Nekmo/dirhunt\n",
      "  Cloning https://github.com/Nekmo/dirhunt to /tmp/pip-req-build-4n9knqfu\n",
      "  Running command git clone -q https://github.com/Nekmo/dirhunt /tmp/pip-req-build-4n9knqfu\n",
      "Requirement already satisfied: xmltodict in /root/miniconda/lib/python3.9/site-packages (0.12.0)\n",
      "Requirement already satisfied: termcolor in /root/miniconda/lib/python3.9/site-packages (1.1.0)\n",
      "Requirement already satisfied: bs4 in /root/miniconda/lib/python3.9/site-packages (0.0.1)\n",
      "Requirement already satisfied: selenium in /root/miniconda/lib/python3.9/site-packages (3.141.0)\n",
      "Requirement already satisfied: matplotlib in /root/miniconda/lib/python3.9/site-packages (3.4.3)\n",
      "Requirement already satisfied: beautifulsoup4 in /root/miniconda/lib/python3.9/site-packages (from dirhunt==0.8.1) (4.10.0)\n",
      "Requirement already satisfied: requests in /root/miniconda/lib/python3.9/site-packages (from dirhunt==0.8.1) (2.25.1)\n",
      "Requirement already satisfied: click in /root/miniconda/lib/python3.9/site-packages (from dirhunt==0.8.1) (8.0.1)\n",
      "Requirement already satisfied: humanize in /root/miniconda/lib/python3.9/site-packages (from dirhunt==0.8.1) (3.11.0)\n",
      "Requirement already satisfied: colorama in /root/miniconda/lib/python3.9/site-packages (from dirhunt==0.8.1) (0.4.4)\n",
      "Requirement already satisfied: requests-mock in /root/miniconda/lib/python3.9/site-packages (from dirhunt==0.8.1) (1.9.3)\n",
      "Requirement already satisfied: google in /root/miniconda/lib/python3.9/site-packages (from dirhunt==0.8.1) (3.0.0)\n",
      "Requirement already satisfied: proxy-db in /root/miniconda/lib/python3.9/site-packages (from dirhunt==0.8.1) (0.3.1)\n",
      "Requirement already satisfied: urllib3 in /root/miniconda/lib/python3.9/site-packages (from selenium) (1.26.6)\n",
      "Requirement already satisfied: numpy>=1.16 in /root/miniconda/lib/python3.9/site-packages (from matplotlib) (1.21.2)\n",
      "Requirement already satisfied: pyparsing>=2.2.1 in /root/miniconda/lib/python3.9/site-packages (from matplotlib) (2.4.7)\n",
      "Requirement already satisfied: cycler>=0.10 in /root/miniconda/lib/python3.9/site-packages (from matplotlib) (0.10.0)\n",
      "Requirement already satisfied: pillow>=6.2.0 in /root/miniconda/lib/python3.9/site-packages (from matplotlib) (8.3.2)\n",
      "Requirement already satisfied: python-dateutil>=2.7 in /root/miniconda/lib/python3.9/site-packages (from matplotlib) (2.8.2)\n",
      "Requirement already satisfied: kiwisolver>=1.0.1 in /root/miniconda/lib/python3.9/site-packages (from matplotlib) (1.3.2)\n",
      "Requirement already satisfied: six in /root/miniconda/lib/python3.9/site-packages (from cycler>=0.10->matplotlib) (1.16.0)\n",
      "Requirement already satisfied: soupsieve>1.2 in /root/miniconda/lib/python3.9/site-packages (from beautifulsoup4->dirhunt==0.8.1) (2.2.1)\n",
      "Requirement already satisfied: setuptools in /root/miniconda/lib/python3.9/site-packages (from humanize->dirhunt==0.8.1) (52.0.0.post20210125)\n",
      "Requirement already satisfied: sqlalchemy in /root/miniconda/lib/python3.9/site-packages (from proxy-db->dirhunt==0.8.1) (1.4.25)\n",
      "Requirement already satisfied: idna<3,>=2.5 in /root/miniconda/lib/python3.9/site-packages (from requests->dirhunt==0.8.1) (2.10)\n",
      "Requirement already satisfied: chardet<5,>=3.0.2 in /root/miniconda/lib/python3.9/site-packages (from requests->dirhunt==0.8.1) (4.0.0)\n",
      "Requirement already satisfied: certifi>=2017.4.17 in /root/miniconda/lib/python3.9/site-packages (from requests->dirhunt==0.8.1) (2021.5.30)\n",
      "Requirement already satisfied: greenlet!=0.4.17 in /root/miniconda/lib/python3.9/site-packages (from sqlalchemy->proxy-db->dirhunt==0.8.1) (1.1.1)\n",
      "\u001b[33mWARNING: Running pip as the 'root' user can result in broken permissions and conflicting behaviour with the system package manager. It is recommended to use a virtual environment instead: https://pip.pypa.io/warnings/venv\u001b[0m\n",
      "Note: you may need to restart the kernel to use updated packages.\n"
     ]
    }
   ],
   "source": [
    "%pip install xmltodict termcolor bs4 git+https://github.com/Nekmo/dirhunt selenium matplotlib"
   ]
  },
  {
   "cell_type": "code",
   "execution_count": 6,
   "id": "2f92e84b-f428-4195-ab5f-286c63c80c42",
   "metadata": {},
   "outputs": [
    {
     "name": "stdout",
     "output_type": "stream",
     "text": [
      "--2021-09-26 18:22:05--  https://raw.githubusercontent.com/CiscoCXSecurity/enum4linux/master/enum4linux.pl\n",
      "Resolving raw.githubusercontent.com (raw.githubusercontent.com)... 185.199.110.133, 185.199.109.133, 185.199.108.133, ...\n",
      "Connecting to raw.githubusercontent.com (raw.githubusercontent.com)|185.199.110.133|:443... connected.\n",
      "HTTP request sent, awaiting response... 200 OK\n",
      "Length: 42963 (42K) [text/plain]\n",
      "Saving to: ‘enum4linux.pl.1’\n",
      "\n",
      "enum4linux.pl.1     100%[===================>]  41.96K  --.-KB/s    in 0.01s   \n",
      "\n",
      "2021-09-26 18:22:05 (3.76 MB/s) - ‘enum4linux.pl.1’ saved [42963/42963]\n",
      "\n"
     ]
    }
   ],
   "source": [
    "!wget https://raw.githubusercontent.com/CiscoCXSecurity/enum4linux/master/enum4linux.pl\n",
    "!chmod +x enum4linux.pl"
   ]
  },
  {
   "cell_type": "code",
   "execution_count": 7,
   "id": "1d4a63e3-3f65-4dd8-8c62-637aecef8a3e",
   "metadata": {},
   "outputs": [
    {
     "name": "stdout",
     "output_type": "stream",
     "text": [
      "Cloning into 'okadminfinder3'...\n",
      "remote: Enumerating objects: 323, done.\u001b[K\n",
      "remote: Counting objects: 100% (59/59), done.\u001b[K\n",
      "remote: Compressing objects: 100% (48/48), done.\u001b[K\n",
      "remote: Total 323 (delta 20), reused 28 (delta 7), pack-reused 264\u001b[K\n",
      "Receiving objects: 100% (323/323), 296.44 KiB | 1.70 MiB/s, done.\n",
      "Resolving deltas: 100% (159/159), done.\n"
     ]
    }
   ],
   "source": [
    "!rm -rf okadminfinder3\n",
    "!git clone https://github.com/mIcHyAmRaNe/okadminfinder3.git\n",
    "!chmod +x okadminfinder3/okadminfinder.py\n",
    "\n",
    "import fileinput\n",
    "\n",
    "for line in fileinput.input(\"okadminfinder3/okadminfinder.py\", inplace = 1): \n",
    "    to_replace=\"\"\"messenger.writeInput('  [/] Scanning over; Press Enter to Exit', 'green')\"\"\"\n",
    "    print(line.replace(to_replace, \"exit()\"), end = \"\")"
   ]
  },
  {
   "cell_type": "code",
   "execution_count": 8,
   "id": "4e3b9864-4a21-4871-a718-0ea37815cd32",
   "metadata": {},
   "outputs": [
    {
     "name": "stdout",
     "output_type": "stream",
     "text": [
      "fatal: destination path 'CeWL' already exists and is not an empty directory.\n"
     ]
    },
    {
     "name": "stdin",
     "output_type": "stream",
     "text": [
      " \n"
     ]
    },
    {
     "name": "stdout",
     "output_type": "stream",
     "text": [
      "Successfully installed bundler-2.2.28\n",
      "Parsing documentation for bundler-2.2.28\n",
      "Done installing documentation for bundler after 4 seconds\n",
      "1 gem installed\n"
     ]
    },
    {
     "name": "stdin",
     "output_type": "stream",
     "text": [
      " \n"
     ]
    },
    {
     "name": "stdout",
     "output_type": "stream",
     "text": [
      "\u001b[33mDon't run Bundler as root. Bundler can ask for sudo if it is needed, and\n",
      "installing your bundle as root will break this application for all non-root\n",
      "users on this machine.\u001b[0m\n",
      "Using bundler 2.2.28\n",
      "Using mime 0.4.4\n",
      "Using mime-types-data 3.2021.0225\n",
      "Using mime-types 3.3.1\n",
      "Using mini_exiftool 2.10.1\n",
      "Using racc 1.5.2\n",
      "Using nokogiri 1.11.7 (x86_64-linux)\n",
      "Using rexml 3.2.5\n",
      "Using rubyzip 2.3.0\n",
      "Using spider 0.5.4\n",
      "\u001b[32mBundle complete! 7 Gemfile dependencies, 10 gems now installed.\u001b[0m\n",
      "\u001b[32mUse `bundle info [gemname]` to see where a bundled gem is installed.\u001b[0m\n"
     ]
    }
   ],
   "source": [
    "!git clone https://github.com/digininja/CeWL\n",
    "!echo { getpass() } | sudo -S gem install bundler\n",
    "!cd CeWL && echo { getpass() } | sudo -S bundle install\n",
    "!cd CeWL && chmod +x cewl.rb"
   ]
  },
  {
   "cell_type": "code",
   "execution_count": 9,
   "id": "4c68858f-de77-4050-a207-6f0ae9c4a1e0",
   "metadata": {},
   "outputs": [
    {
     "name": "stdin",
     "output_type": "stream",
     "text": [
      " \n"
     ]
    },
    {
     "name": "stdout",
     "output_type": "stream",
     "text": [
      "Reading package lists... Done\n",
      "Building dependency tree       \n",
      "Reading state information... Done\n",
      "E: Unable to locate package gobuster\n",
      "E: Unable to locate package ffuf\n"
     ]
    }
   ],
   "source": [
    "!echo { getpass() } | sudo -S apt install gobuster ffuf"
   ]
  },
  {
   "cell_type": "code",
   "execution_count": 10,
   "id": "d744e9ae-deb1-4ec3-9e12-b026cc255d23",
   "metadata": {},
   "outputs": [
    {
     "name": "stdin",
     "output_type": "stream",
     "text": [
      " \n"
     ]
    },
    {
     "name": "stdout",
     "output_type": "stream",
     "text": [
      "fatal: destination path 'SecLists' already exists and is not an empty directory.\n"
     ]
    }
   ],
   "source": [
    "!echo { getpass() } | sudo -S git clone https://github.com/danielmiessler/SecLists.git"
   ]
  }
 ],
 "metadata": {
  "kernelspec": {
   "display_name": "Python 3 (ipykernel)",
   "language": "python",
   "name": "python3"
  },
  "language_info": {
   "codemirror_mode": {
    "name": "ipython",
    "version": 3
   },
   "file_extension": ".py",
   "mimetype": "text/x-python",
   "name": "python",
   "nbconvert_exporter": "python",
   "pygments_lexer": "ipython3",
   "version": "3.9.5"
  }
 },
 "nbformat": 4,
 "nbformat_minor": 5
}
