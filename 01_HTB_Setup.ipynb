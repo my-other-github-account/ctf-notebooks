{
 "cells": [
  {
   "cell_type": "code",
   "execution_count": 1,
   "id": "aeb58b9f-398c-43f3-b02c-3a45baab78cc",
   "metadata": {},
   "outputs": [],
   "source": [
    "from getpass import getpass"
   ]
  },
  {
   "cell_type": "code",
   "execution_count": 2,
   "id": "e5e4288e-b263-4c89-91cb-e9e7ca3db90c",
   "metadata": {},
   "outputs": [],
   "source": [
    "# https://www.kali.org/docs/containers/installing-docker-on-kali/"
   ]
  },
  {
   "cell_type": "code",
   "execution_count": 3,
   "id": "94f502dc-08ef-4a13-a81c-60449454b17a",
   "metadata": {},
   "outputs": [],
   "source": [
    "# !cargo install feroxbuster"
   ]
  },
  {
   "cell_type": "code",
   "execution_count": 12,
   "id": "5d350daa-08a1-42be-bae6-11932b96c13d",
   "metadata": {},
   "outputs": [
    {
     "name": "stdout",
     "output_type": "stream",
     "text": [
      "Cloning into 'RustScan'...\n",
      "remote: Enumerating objects: 2930, done.\u001b[K\n",
      "remote: Counting objects: 100% (67/67), done.\u001b[K\n",
      "remote: Compressing objects: 100% (66/66), done.\u001b[K\n",
      "remote: Total 2930 (delta 41), reused 3 (delta 1), pack-reused 2863\u001b[K\n",
      "Receiving objects: 100% (2930/2930), 13.65 MiB | 6.95 MiB/s, done.\n",
      "Resolving deltas: 100% (1618/1618), done.\n",
      "Sending build context to Docker daemon  3.619MB\n",
      "Step 1/13 : FROM rust:alpine as builder\n",
      "alpine: Pulling from library/rust\n",
      "\n",
      "\u001b[1Ba0d46f8b: Pulling fs layer \n",
      "\u001b[1B2bb3df17: Pulling fs layer \n",
      "\u001b[1B54686f1e: Pull complete 0.4MB/240.4MBB\u001b[3A\u001b[2K\u001b[3A\u001b[2K\u001b[3A\u001b[2K\u001b[2A\u001b[2K\u001b[2A\u001b[2K\u001b[2A\u001b[2K\u001b[2A\u001b[2K\u001b[2A\u001b[2K\u001b[2A\u001b[2K\u001b[2A\u001b[2K\u001b[2A\u001b[2K\u001b[1A\u001b[2K\u001b[2A\u001b[2K\u001b[1A\u001b[2K\u001b[1A\u001b[2K\u001b[2A\u001b[2K\u001b[2A\u001b[2K\u001b[2A\u001b[2K\u001b[1A\u001b[2K\u001b[2A\u001b[2K\u001b[1A\u001b[2K\u001b[2A\u001b[2K\u001b[1A\u001b[2K\u001b[2A\u001b[2K\u001b[1A\u001b[2K\u001b[2A\u001b[2K\u001b[2A\u001b[2K\u001b[1A\u001b[2K\u001b[1A\u001b[2K\u001b[1A\u001b[2K\u001b[1A\u001b[2K\u001b[1A\u001b[2K\u001b[1A\u001b[2K\u001b[1A\u001b[2K\u001b[1A\u001b[2K\u001b[1A\u001b[2K\u001b[1A\u001b[2K\u001b[1A\u001b[2K\u001b[1A\u001b[2K\u001b[1A\u001b[2K\u001b[1A\u001b[2K\u001b[1A\u001b[2K\u001b[1A\u001b[2K\u001b[1A\u001b[2K\u001b[1A\u001b[2K\u001b[1A\u001b[2K\u001b[1A\u001b[2K\u001b[1A\u001b[2K\u001b[1A\u001b[2K\u001b[1A\u001b[2K\u001b[1A\u001b[2K\u001b[1A\u001b[2K\u001b[1A\u001b[2K\u001b[1A\u001b[2K\u001b[1A\u001b[2K\u001b[1A\u001b[2K\u001b[1A\u001b[2K\u001b[1A\u001b[2K\u001b[1A\u001b[2K\u001b[1A\u001b[2K\u001b[1A\u001b[2K\u001b[1A\u001b[2K\u001b[1A\u001b[2K\u001b[1A\u001b[2K\u001b[1A\u001b[2K\u001b[1A\u001b[2K\u001b[1A\u001b[2K\u001b[1A\u001b[2K\u001b[1A\u001b[2K\u001b[1A\u001b[2K\u001b[1A\u001b[2K\u001b[1A\u001b[2K\u001b[1A\u001b[2K\u001b[1A\u001b[2K\u001b[1A\u001b[2K\u001b[1A\u001b[2K\u001b[1A\u001b[2K\u001b[1A\u001b[2K\u001b[1A\u001b[2K\u001b[1A\u001b[2K\u001b[1A\u001b[2K\u001b[1A\u001b[2K\u001b[1A\u001b[2K\u001b[1A\u001b[2K\u001b[1A\u001b[2K\u001b[1A\u001b[2K\u001b[1A\u001b[2K\u001b[1A\u001b[2K\u001b[1A\u001b[2K\u001b[1A\u001b[2K\u001b[1A\u001b[2K\u001b[1A\u001b[2K\u001b[1A\u001b[2K\u001b[1A\u001b[2K\u001b[1A\u001b[2K\u001b[1A\u001b[2K\u001b[1A\u001b[2K\u001b[1A\u001b[2K\u001b[1A\u001b[2KDownloading  214.7MB/240.4MB\u001b[1A\u001b[2K\u001b[1A\u001b[2K\u001b[1A\u001b[2K\u001b[1A\u001b[2K\u001b[1A\u001b[2K\u001b[1A\u001b[2K\u001b[1A\u001b[2K\u001b[1A\u001b[2K\u001b[1A\u001b[2K\u001b[1A\u001b[2K\u001b[1A\u001b[2K\u001b[1A\u001b[2K\u001b[1A\u001b[2K\u001b[1A\u001b[2K\u001b[1A\u001b[2K\u001b[1A\u001b[2K\u001b[1A\u001b[2K\u001b[1A\u001b[2K\u001b[1A\u001b[2K\u001b[1A\u001b[2K\u001b[1A\u001b[2K\u001b[1A\u001b[2K\u001b[1A\u001b[2K\u001b[1A\u001b[2K\u001b[1A\u001b[2K\u001b[1A\u001b[2K\u001b[1A\u001b[2K\u001b[1A\u001b[2K\u001b[1A\u001b[2K\u001b[1A\u001b[2K\u001b[1A\u001b[2K\u001b[1A\u001b[2K\u001b[1A\u001b[2K\u001b[1A\u001b[2K\u001b[1A\u001b[2K\u001b[1A\u001b[2K\u001b[1A\u001b[2K\u001b[1A\u001b[2K\u001b[1A\u001b[2K\u001b[1A\u001b[2K\u001b[1A\u001b[2K\u001b[1A\u001b[2K\u001b[1A\u001b[2K\u001b[1A\u001b[2K\u001b[1A\u001b[2K\u001b[1A\u001b[2K\u001b[1A\u001b[2K\u001b[1A\u001b[2K\u001b[1A\u001b[2K\u001b[1A\u001b[2K\u001b[1A\u001b[2K\u001b[1A\u001b[2K\u001b[1A\u001b[2K\u001b[1A\u001b[2K\u001b[1A\u001b[2K\u001b[1A\u001b[2K\u001b[1A\u001b[2K\u001b[1A\u001b[2K\u001b[1A\u001b[2K\u001b[1A\u001b[2K\u001b[1A\u001b[2K\u001b[1A\u001b[2K\u001b[1A\u001b[2K\u001b[1A\u001b[2K\u001b[1A\u001b[2K\u001b[1A\u001b[2K\u001b[1A\u001b[2K\u001b[1A\u001b[2K\u001b[1A\u001b[2K\u001b[1A\u001b[2K\u001b[1A\u001b[2K\u001b[1A\u001b[2K\u001b[1A\u001b[2K\u001b[1A\u001b[2K\u001b[1A\u001b[2K\u001b[1A\u001b[2K\u001b[1A\u001b[2K\u001b[1A\u001b[2KDigest: sha256:1c01fb410179b21f809ef935fd66277e964b5a8ad20431ad49b1c52b5778fd34\n",
      "Status: Downloaded newer image for rust:alpine\n",
      " ---> ac41586fb44e\n",
      "Step 2/13 : LABEL maintainer=\"RustScan <https://github.com/RustScan>\"\n",
      " ---> Running in d01c1aff9080\n",
      "Removing intermediate container d01c1aff9080\n",
      " ---> a4f89056dbee\n",
      "Step 3/13 : RUN apk add --no-cache build-base\n",
      " ---> Running in f6716ba806d8\n",
      "fetch https://dl-cdn.alpinelinux.org/alpine/v3.14/main/x86_64/APKINDEX.tar.gz\n",
      "fetch https://dl-cdn.alpinelinux.org/alpine/v3.14/community/x86_64/APKINDEX.tar.gz\n",
      "(1/9) Installing libmagic (5.40-r1)\n",
      "(2/9) Installing file (5.40-r1)\n",
      "(3/9) Installing musl-dev (1.2.2-r3)\n",
      "(4/9) Installing libc-dev (0.7.2-r3)\n",
      "(5/9) Installing g++ (10.3.1_git20210424-r2)\n",
      "(6/9) Installing make (4.3-r0)\n",
      "(7/9) Installing fortify-headers (1.1-r1)\n",
      "(8/9) Installing patch (2.7.6-r7)\n",
      "(9/9) Installing build-base (0.5-r2)\n",
      "Executing busybox-1.33.1-r3.trigger\n",
      "OK: 197 MiB in 35 packages\n",
      "Removing intermediate container f6716ba806d8\n",
      " ---> e76826cde583\n",
      "Step 4/13 : WORKDIR /usr/src/rustscan\n",
      " ---> Running in 876ad412a8b1\n",
      "Removing intermediate container 876ad412a8b1\n",
      " ---> a8a6d665caf9\n",
      "Step 5/13 : COPY Cargo.toml Cargo.lock ./\n",
      " ---> 55a45d59a114\n",
      "Step 6/13 : COPY src/ src/\n",
      " ---> e83ef45419c6\n",
      "Step 7/13 : RUN cargo install --path .\n",
      " ---> Running in d810c7bbe24a\n",
      "\u001b[91m  Installing rustscan v2.0.0 (/usr/src/rustscan)\n",
      "\u001b[0m\u001b[91m    Updating crates.io index\n",
      "\u001b[0m\u001b[91m Downloading crates ...\n",
      "\u001b[0m\u001b[91m  Downloaded env_logger v0.8.4\n",
      "\u001b[0m\u001b[91m  Downloaded futures-executor v0.3.17\n",
      "\u001b[0m\u001b[91m  Downloaded matches v0.1.9\n",
      "\u001b[0m\u001b[91m  Downloaded linked-hash-map v0.5.4\n",
      "\u001b[0m\u001b[91m  Downloaded ppv-lite86 v0.2.10\n",
      "\u001b[0m\u001b[91m  Downloaded rand_core v0.5.1\n",
      "\u001b[0m\u001b[91m  Downloaded quick-error v1.2.3\n",
      "\u001b[0m\u001b[91m  Downloaded proc-macro-hack v0.5.19\n",
      "\u001b[0m\u001b[91m  Downloaded regex v1.5.4\n",
      "\u001b[0m\u001b[91m  Downloaded polling v2.1.0\n",
      "\u001b[0m\u001b[91m  Downloaded serde_json v1.0.68\n",
      "\u001b[0m\u001b[91m  Downloaded strsim v0.8.0\n",
      "\u001b[0m\u001b[91m  Downloaded spin v0.5.2\n",
      "\u001b[0m\u001b[91m  Downloaded smallvec v1.6.1\n",
      "\u001b[0m\u001b[91m  Downloaded atty v0.2.14\n",
      "\u001b[0m\u001b[91m  Downloaded bytes v0.5.6\n",
      "\u001b[0m\u001b[91m  Downloaded heck v0.3.3\n",
      "\u001b[0m\u001b[91m  Downloaded miniz_oxide v0.4.4\n",
      "\u001b[0m\u001b[91m  Downloaded once_cell v1.8.0\n",
      "\u001b[0m\u001b[91m  Downloaded rustls v0.17.0\n",
      "\u001b[0m\u001b[91m \u001b[0m\u001b[91m Downloaded unicode-segmentation v1.8.0\n",
      "\u001b[0m\u001b[91m  Downloaded untrusted v0.7.1\n",
      "\u001b[0m\u001b[91m  Downloaded idna v0.2.3\n",
      "\u001b[0m\u001b[91m  Downloaded kv-log-macro v1.0.7\n",
      "\u001b[0m\u001b[91m  Downloaded tokio-rustls v0.13.1\n",
      "\u001b[0m\u001b[91m  Downloaded bitflags v1.3.2\n",
      "\u001b[0m\u001b[91m  Downloaded crossbeam-utils v0.8.5\n",
      "\u001b[0m\u001b[91m  Downloaded async-channel v1.6.1\n",
      "\u001b[0m\u001b[91m  Downloaded trust-dns-proto v0.19.7\n",
      "\u001b[0m\u001b[91m  Downloaded ctor v0.1.21\n",
      "\u001b[0m\u001b[91m  Downloaded colored v2.0.0\n",
      "\u001b[0m\u001b[91m  Downloaded clap v2.33.3\n",
      "\u001b[0m\u001b[91m  Downloaded enum-as-inner v0.3.3\n",
      "\u001b[0m\u001b[91m  Downloaded trust-dns-rustls v0.19.7\n",
      "\u001b[0m\u001b[91m  Downloaded tinyvec_macros v0.1.0\n",
      "\u001b[0m\u001b[91m  Downloaded slab v0.4.4\n",
      "\u001b[0m\u001b[91m  Downloaded ryu v1.0.5\n",
      "\u001b[0m\u001b[91m  Downloaded shell-words v1.0.0\n",
      "\u001b[0m\u001b[91m  Downloaded socket2 v0.4.2\n",
      "\u001b[0m\u001b[91m  Downloaded serde_derive v1.0.130\n",
      "\u001b[0m\u001b[91m  Downloaded thiserror v1.0.29\n",
      "\u001b[0m\u001b[91m  Downloaded url v2.2.2\n",
      "\u001b[0m\u001b[91m  Downloaded version_check v0.9.3\n",
      "\u001b[0m\u001b[91m  Downloaded waker-fn v1.1.0\n",
      "\u001b[0m\u001b[91m  Downloaded toml v0.5.8\n",
      "\u001b[0m\u001b[91m  Downloaded webpki v0.21.4\n",
      "\u001b[0m\u001b[91m  Downloaded futures-macro v0.3.17\n",
      "\u001b[0m\u001b[91m  Downloaded value-bag v1.0.0-alpha.7\n",
      "\u001b[0m\u001b[91m  Downloaded tokio v0.2.25\n",
      "\u001b[0m\u001b[91m  Downloaded unicode-xid v0.2.2\n",
      "\u001b[0m\u001b[91m  Downloaded trust-dns-resolver v0.19.7\n",
      "\u001b[0m\u001b[91m  Downloaded webpki-roots v0.19.0\n",
      "\u001b[0m\u001b[91m  Downloaded text_placeholder v0.4.0\n",
      "\u001b[0m\u001b[91m  Downloaded num-bigint v0.4.2\n",
      "\u001b[0m\u001b[91m  Downloaded futures-util v0.3.17\n",
      "\u001b[0m\u001b[91m  Downloaded libc v0.2.102\n",
      "\u001b[0m\u001b[91m  Downloaded log v0.4.14\n",
      "\u001b[0m\u001b[91m  Downloaded tinyvec v1.5.0\n",
      "\u001b[0m\u001b[91m  Downloaded unicode-bidi v0.3.6\n",
      "\u001b[0m\u001b[91m  Downloaded futures-sink v0.3.17\n",
      "\u001b[0m\u001b[91m  Downloaded regex-syntax v0.6.25\n",
      "\u001b[0m\u001b[91m  Downloaded num_cpus v1.13.0\n",
      "\u001b[0m\u001b[91m  Downloaded atomic-waker v1.0.0\n",
      "\u001b[0m\u001b[91m  Downloaded ring v0.16.20\n",
      "\u001b[0m\u001b[91m  Downloaded memchr v2.4.1\n",
      "\u001b[0m\u001b[91m  Downloaded futures-io v0.3.17\n",
      "\u001b[0m\u001b[91m  Downloaded proc-macro-error v1.0.4\n",
      "\u001b[0m\u001b[91m  Downloaded percent-encoding v2.1.0\n",
      "\u001b[0m\u001b[91m  Downloaded futures-core v0.3.17\n",
      "\u001b[0m\u001b[91m  Downloaded resolv-conf v0.7.0\n",
      "\u001b[0m\u001b[91m  Downloaded cfg-if v0.1.10\n",
      "\u001b[0m\u001b[91m  Downloaded rand v0.7.3\n",
      "\u001b[0m\u001b[91m  Downloaded event-listener v2.5.1\n",
      "\u001b[0m\u001b[91m  Downloaded dirs v3.0.2\n",
      "\u001b[0m\u001b[91m  Downloaded proc-macro2 v1.0.29\n",
      "\u001b[0m\u001b[91m  Downloaded object v0.26.2\n",
      "\u001b[0m\u001b[91m  Downloaded gimli v0.25.0\n",
      "\u001b[0m\u001b[91m  Downloaded structopt v0.3.23\n",
      "\u001b[0m\u001b[91m  Downloaded vec_map v0.8.2\n",
      "\u001b[0m\u001b[91m  Downloaded proc-macro-nested v0.1.7\n",
      "\u001b[0m\u001b[91m  Downloaded termcolor v1.1.2\n",
      "\u001b[0m\u001b[91m  Downloaded mio v0.6.23\n",
      "\u001b[0m\u001b[91m  Downloaded hostname v0.3.1\n",
      "\u001b[0m\u001b[91m  Downloaded futures-lite v1.12.0\n",
      "\u001b[0m\u001b[91m  Downloaded either v1.6.1\n",
      "\u001b[0m\u001b[91m  Downloaded dirs-sys v0.3.6\n",
      "\u001b[0m\u001b[91m  Downloaded concurrent-queue v1.2.2\n",
      "\u001b[0m\u001b[91m  Downloaded anyhow v1.0.44\n",
      "\u001b[0m\u001b[91m  Downloaded syn v1.0.77\n",
      "\u001b[0m\u001b[91m  Downloaded serde v1.0.130\n",
      "\u001b[0m\u001b[91m  Downloaded colorful v0.2.1\n",
      "\u001b[0m\u001b[91m  Downloaded rand_chacha v0.2.2\n",
      "\u001b[0m\u001b[91m  Downloaded sct v0.6.1\n",
      "\u001b[0m\u001b[91m  Downloaded pin-utils v0.1.0\n",
      "\u001b[0m\u001b[91m  Downloaded ansi_term v0.11.0\n",
      "\u001b[0m\u001b[91m  Downloaded adler v1.0.2\n",
      "\u001b[0m\u001b[91m  Downloaded itoa v0.4.8\n",
      "\u001b[0m\u001b[91m  Downloaded iovec v0.1.4\n",
      "\u001b[0m\u001b[91m  Downloaded form_urlencoded v1.0.1\n",
      "\u001b[0m\u001b[91m  Downloaded base64 v0.11.0\n",
      "\u001b[0m\u001b[91m  Downloaded autocfg v1.0.1\n",
      "\u001b[0m\u001b[91m  Downloaded async-executor v1.4.1\n",
      "\u001b[0m\u001b[91m  Downloaded unicode-width v0.1.9\n",
      "\u001b[0m\u001b[91m  Downloaded unicode-normalization v0.1.19\n",
      "\u001b[0m\u001b[91m  Downloaded subprocess v0.2.8\n",
      "\u001b[0m\u001b[91m  Downloaded structopt-derive v0.4.16\n",
      "\u001b[0m\u001b[91m  Downloaded getrandom v0.1.16\n",
      "\u001b[0m\u001b[91m  Downloaded lazy_static v1.4.0\n",
      "\u001b[0m\u001b[91m  Downloaded futures-task v0.3.17\n",
      "\u001b[0m\u001b[91m  Downloaded quote v1.0.9\n",
      "\u001b[0m\u001b[91m  Downloaded cc v1.0.70\n",
      "\u001b[0m\u001b[91m  Downloaded rlimit v0.5.4\n",
      "\u001b[0m\u001b[91m  Downloaded gcd v2.0.2\n",
      "\u001b[0m\u001b[91m  Downloaded aho-corasick v0.7.18\n",
      "\u001b[0m\u001b[91m  Downloaded async-global-executor v2.0.2\n",
      "\u001b[0m\u001b[91m  Downloaded async-std v1.10.0\n",
      "\u001b[0m\u001b[91m  Downloaded cidr-utils v0.5.5\n",
      "\u001b[0m\u001b[91m  Downloaded cache-padded v1.1.1\n",
      "\u001b[0m\u001b[91m  Downloaded async-io v1.6.0\n",
      "\u001b[0m\u001b[91m  Downloaded async-trait v0.1.51\n",
      "\u001b[0m\u001b[91m  Downloaded debug-helper v0.3.12\n",
      "\u001b[0m\u001b[91m  Downloaded thiserror-impl v1.0.29\n",
      "\u001b[0m\u001b[91m  Downloaded textwrap v0.11.0\n",
      "\u001b[0m\u001b[91m  Downloaded pin-project-lite v0.2.7\n",
      "\u001b[0m\u001b[91m  Downloaded humantime v2.1.0\n",
      "\u001b[0m\u001b[91m  Downloaded parking v2.0.0\n",
      "\u001b[0m\u001b[91m  Downloaded pin-project-lite v0.1.12\n",
      "\u001b[0m\u001b[91m  Downloaded num-traits v0.2.14\n",
      "\u001b[0m\u001b[91m  Downloaded num-integer v0.1.44\n",
      "\u001b[0m\u001b[91m  Downloaded futures v0.3.17\n",
      "\u001b[0m\u001b[91m  Downloaded lru-cache v0.1.2\n",
      "\u001b[0m\u001b[91m  Downloaded fastrand v1.5.0\n",
      "\u001b[0m\u001b[91m  Downloaded backtrace v0.3.61\n",
      "\u001b[0m\u001b[91m  Downloaded blocking v1.0.2\n",
      "\u001b[0m\u001b[91m  Downloaded async-mutex v1.4.0\n",
      "\u001b[0m\u001b[91m  Downloaded async-lock v2.4.0\n",
      "\u001b[0m\u001b[91m  Downloaded addr2line v0.16.0\n",
      "\u001b[0m\u001b[91m  Downloaded rustc-demangle v0.1.21\n",
      "\u001b[0m\u001b[91m  Downloaded match_cfg v0.1.0\n",
      "\u001b[0m\u001b[91m  Downloaded proc-macro-error-attr v1.0.4\n",
      "\u001b[0m\u001b[91m  Downloaded net2 v0.2.37\n",
      "\u001b[0m\u001b[91m  Downloaded itertools v0.9.0\n",
      "\u001b[0m\u001b[91m  Downloaded futures-channel v0.3.17\n",
      "\u001b[0m\u001b[91m  Downloaded async-task v4.0.3\n",
      "\u001b[0m\u001b[91m  Downloaded cfg-if v1.0.0\n",
      "\u001b[0m\u001b[91m  Downloaded ansi_term v0.12.1\n",
      "\u001b[0m\u001b[91m   Compiling proc-macro2 v1.0.29\n",
      "   Compiling libc v0.2.102\n",
      "\u001b[0m\u001b[91m   Compiling\u001b[0m\u001b[91m unicode-xid v0.\u001b[0m\u001b[91m2\u001b[0m\u001b[91m.\u001b[0m\u001b[91m2\n",
      "\u001b[0m\u001b[91m \u001b[0m\u001b[91m \u001b[0m\u001b[91m \u001b[0m\u001b[91mCompiling\u001b[0m\u001b[91m \u001b[0m\u001b[91msyn\u001b[0m\u001b[91m v\u001b[0m\u001b[91m1\u001b[0m\u001b[91m.\u001b[0m\u001b[91m0\u001b[0m\u001b[91m.\u001b[0m\u001b[91m77\u001b[0m\u001b[91m\n",
      "\u001b[0m\u001b[91m   Compiling \u001b[0m\u001b[91mautocfg v1.\u001b[0m\u001b[91m0.\u001b[0m\u001b[91m1\u001b[0m\u001b[91m\n",
      "\u001b[0m\u001b[91m \u001b[0m\u001b[91m \u001b[0m\u001b[91m \u001b[0m\u001b[91mCompiling\u001b[0m\u001b[91m \u001b[0m\u001b[91mversion_check\u001b[0m\u001b[91m v\u001b[0m\u001b[91m0\u001b[0m\u001b[91m.\u001b[0m\u001b[91m9\u001b[0m\u001b[91m.\u001b[0m\u001b[91m3\u001b[0m\u001b[91m\n",
      "\u001b[0m\u001b[91m \u001b[0m\u001b[91m \u001b[0m\u001b[91m \u001b[0m\u001b[91mCompiling\u001b[0m\u001b[91m \u001b[0m\u001b[91mmemchr\u001b[0m\u001b[91m v\u001b[0m\u001b[91m2\u001b[0m\u001b[91m.\u001b[0m\u001b[91m4\u001b[0m\u001b[91m.\u001b[0m\u001b[91m1\u001b[0m\u001b[91m\n",
      "\u001b[0m\u001b[91m \u001b[0m\u001b[91m \u001b[0m\u001b[91m \u001b[0m\u001b[91mCompiling\u001b[0m\u001b[91m \u001b[0m\u001b[91mcfg-if\u001b[0m\u001b[91m v\u001b[0m\u001b[91m1\u001b[0m\u001b[91m.\u001b[0m\u001b[91m0\u001b[0m\u001b[91m.\u001b[0m\u001b[91m0\u001b[0m\u001b[91m\n",
      "\u001b[0m\u001b[91m   Compiling \u001b[0m\u001b[91mfutures-core v0.3\u001b[0m\u001b[91m.\u001b[0m\u001b[91m17\n",
      "\u001b[0m\u001b[91m \u001b[0m\u001b[91m \u001b[0m\u001b[91m \u001b[0m\u001b[91mCompiling\u001b[0m\u001b[91m \u001b[0m\u001b[91mlog\u001b[0m\u001b[91m v\u001b[0m\u001b[91m0\u001b[0m\u001b[91m.\u001b[0m\u001b[91m4\u001b[0m\u001b[91m.\u001b[0m\u001b[91m14\u001b[0m\u001b[91m\n",
      "\u001b[0m\u001b[91m \u001b[0m\u001b[91m \u001b[0m\u001b[91m \u001b[0m\u001b[91mCompiling cc v1.0.70\n",
      "\u001b[0m\u001b[91m   Compiling\u001b[0m\u001b[91m once_cell v\u001b[0m\u001b[91m1\u001b[0m\u001b[91m.\u001b[0m\u001b[91m8\u001b[0m\u001b[91m.\u001b[0m\u001b[91m0\n",
      "\u001b[0m\u001b[91m   Compiling \u001b[0m\u001b[91mslab v0.\u001b[0m\u001b[91m4\u001b[0m\u001b[91m.\u001b[0m\u001b[91m4\u001b[0m\u001b[91m\n",
      "\u001b[0m\u001b[91m   Compiling\u001b[0m\u001b[91m pin-project-lite v0.\u001b[0m\u001b[91m2\u001b[0m\u001b[91m.\u001b[0m\u001b[91m7\n",
      "\u001b[0m\u001b[91m   Compiling\u001b[0m\u001b[91m futures-io v0.\u001b[0m\u001b[91m3\u001b[0m\u001b[91m.17\u001b[0m\u001b[91m\n",
      "\u001b[0m\u001b[91m   Compiling proc-macro-hack v0.5.19\n",
      "\u001b[0m\u001b[91m   Compiling lazy_static v1.4.0\n",
      "\u001b[0m\u001b[91m \u001b[0m\u001b[91m \u001b[0m\u001b[91m \u001b[0m\u001b[91mCompiling\u001b[0m\u001b[91m \u001b[0m\u001b[91muntrusted\u001b[0m\u001b[91m v\u001b[0m\u001b[91m0.7.1\n",
      "\u001b[0m\u001b[91m \u001b[0m\u001b[91m \u001b[0m\u001b[91m \u001b[0m\u001b[91mCompiling\u001b[0m\u001b[91m \u001b[0m\u001b[91mfutures-task\u001b[0m\u001b[91m v\u001b[0m\u001b[91m0\u001b[0m\u001b[91m.\u001b[0m\u001b[91m3\u001b[0m\u001b[91m.\u001b[0m\u001b[91m17\u001b[0m\u001b[91m\n",
      "\u001b[0m\u001b[91m   Compiling proc-macro-nested v0.1.7\n",
      "\u001b[0m\u001b[91m \u001b[0m\u001b[91m \u001b[0m\u001b[91m \u001b[0m\u001b[91mCompiling\u001b[0m\u001b[91m \u001b[0m\u001b[91mgetrandom\u001b[0m\u001b[91m v\u001b[0m\u001b[91m0\u001b[0m\u001b[91m.\u001b[0m\u001b[91m1\u001b[0m\u001b[91m.\u001b[0m\u001b[91m16\u001b[0m\u001b[91m\n",
      "\u001b[0m\u001b[91m   Compiling spin v0.5.2\n",
      "\u001b[0m\u001b[91m \u001b[0m\u001b[91m \u001b[0m\u001b[91m \u001b[0m\u001b[91mCompiling\u001b[0m\u001b[91m \u001b[0m\u001b[91mfutures-channel\u001b[0m\u001b[91m v\u001b[0m\u001b[91m0\u001b[0m\u001b[91m.\u001b[0m\u001b[91m3\u001b[0m\u001b[91m.\u001b[0m\u001b[91m17\u001b[0m\u001b[91m\n",
      "\u001b[0m\u001b[91m   Compiling tinyvec_macros v0.1.0\n",
      "\u001b[0m\u001b[91m   Compiling cfg-if v0.1.10\n",
      "\u001b[0m\u001b[91m   Compiling futures-sink v0.3.17\n",
      "\u001b[0m\u001b[91m \u001b[0m\u001b[91m \u001b[0m\u001b[91m \u001b[0m\u001b[91mCompiling\u001b[0m\u001b[91m \u001b[0m\u001b[91municode-segmentation\u001b[0m\u001b[91m v\u001b[0m\u001b[91m1\u001b[0m\u001b[91m.\u001b[0m\u001b[91m8\u001b[0m\u001b[91m.\u001b[0m\u001b[91m0\u001b[0m\u001b[91m\n",
      "\u001b[0m\u001b[91m   Compiling pin-utils v0.1.0\n",
      "\u001b[0m\u001b[91m   Compiling cache-padded v1.1.1\n",
      "\u001b[0m\u001b[91m   Compiling event-listener v2.5.1\n",
      "\u001b[0m\u001b[91m   Compiling parking v2.0.0\n",
      "\u001b[0m\u001b[91m   Compiling waker-fn v1.1.0\n",
      "\u001b[0m\u001b[91m   Compiling matches v0.1.9\n",
      "\u001b[0m\u001b[91m   Compiling fastrand v1.5.0\n",
      "\u001b[0m\u001b[91m   Compiling serde_derive v1.0.130\n",
      "\u001b[0m\u001b[91m   Compiling async-trait v0.1.51\n",
      "\u001b[0m\u001b[91m \u001b[0m\u001b[91m \u001b[0m\u001b[91m \u001b[0m\u001b[91mCompiling\u001b[0m\u001b[91m \u001b[0m\u001b[91mpercent-encoding\u001b[0m\u001b[91m v\u001b[0m\u001b[91m2\u001b[0m\u001b[91m.\u001b[0m\u001b[91m1\u001b[0m\u001b[91m.\u001b[0m\u001b[91m0\u001b[0m\u001b[91m\n",
      "\u001b[0m\u001b[91m   Compiling pin-project-lite v0.1.12\n",
      "\u001b[0m\u001b[91m \u001b[0m\u001b[91m \u001b[0m\u001b[91m \u001b[0m\u001b[91mCompiling\u001b[0m\u001b[91m \u001b[0m\u001b[91municode-bidi\u001b[0m\u001b[91m v\u001b[0m\u001b[91m0\u001b[0m\u001b[91m.\u001b[0m\u001b[91m3\u001b[0m\u001b[91m.\u001b[0m\u001b[91m6\u001b[0m\u001b[91m\n",
      "\u001b[0m\u001b[91m   Compiling bytes v0.5.6\n",
      "\u001b[0m\u001b[91m   Compiling gimli v0.25.0\n",
      "\u001b[0m\u001b[91m \u001b[0m\u001b[91m  \u001b[0m\u001b[91mCompiling\u001b[0m\u001b[91m \u001b[0m\u001b[91madler\u001b[0m\u001b[91m v\u001b[0m\u001b[91m1\u001b[0m\u001b[91m.\u001b[0m\u001b[91m0\u001b[0m\u001b[91m.\u001b[0m\u001b[91m2\u001b[0m\u001b[91m\n",
      "\u001b[0m\u001b[91m \u001b[0m\u001b[91m \u001b[0m\u001b[91m \u001b[0m\u001b[91mCompiling\u001b[0m\u001b[91m \u001b[0m\u001b[91mserde\u001b[0m\u001b[91m v\u001b[0m\u001b[91m1\u001b[0m\u001b[91m.\u001b[0m\u001b[91m0\u001b[0m\u001b[91m.\u001b[0m\u001b[91m130\u001b[0m\u001b[91m\n",
      "\u001b[0m\u001b[91m \u001b[0m\u001b[91m \u001b[0m\u001b[91m \u001b[0m\u001b[91mCompiling\u001b[0m\u001b[91m \u001b[0m\u001b[91mppv-lite86\u001b[0m\u001b[91m v\u001b[0m\u001b[91m0\u001b[0m\u001b[91m.\u001b[0m\u001b[91m2\u001b[0m\u001b[91m.\u001b[0m\u001b[91m10\u001b[0m\u001b[91m\n",
      "\u001b[0m\u001b[91m \u001b[0m\u001b[91m \u001b[0m\u001b[91m \u001b[0m\u001b[91mCompiling\u001b[0m\u001b[91m \u001b[0m\u001b[91mbase64\u001b[0m\u001b[91m v\u001b[0m\u001b[91m0\u001b[0m\u001b[91m.\u001b[0m\u001b[91m11\u001b[0m\u001b[91m.\u001b[0m\u001b[91m0\u001b[0m\u001b[91m\n",
      "\u001b[0m\u001b[91m \u001b[0m\u001b[91m \u001b[0m\u001b[91m \u001b[0m\u001b[91mCompiling\u001b[0m\u001b[91m \u001b[0m\u001b[91mryu\u001b[0m\u001b[91m v\u001b[0m\u001b[91m1\u001b[0m\u001b[91m.\u001b[0m\u001b[91m0\u001b[0m\u001b[91m.\u001b[0m\u001b[91m5\u001b[0m\u001b[91m\n",
      "\u001b[0m\u001b[91m \u001b[0m\u001b[91m \u001b[0m\u001b[91m \u001b[0m\u001b[91mCompiling\u001b[0m\u001b[91m \u001b[0m\u001b[91mrustc-demangle\u001b[0m\u001b[91m v\u001b[0m\u001b[91m0\u001b[0m\u001b[91m.\u001b[0m\u001b[91m1\u001b[0m\u001b[91m.\u001b[0m\u001b[91m21\u001b[0m\u001b[91m\n",
      "\u001b[0m\u001b[91m   Compiling async-task v4.0.3\n",
      "\u001b[0m\u001b[91m \u001b[0m\u001b[91m  \u001b[0m\u001b[91mCompiling crossbeam-utils v0.8.5\n",
      "\u001b[0m\u001b[91m \u001b[0m\u001b[91m \u001b[0m\u001b[91m \u001b[0m\u001b[91mCompiling\u001b[0m\u001b[91m \u001b[0m\u001b[91municode-width\u001b[0m\u001b[91m v\u001b[0m\u001b[91m0\u001b[0m\u001b[91m.\u001b[0m\u001b[91m1\u001b[0m\u001b[91m.\u001b[0m\u001b[91m9\u001b[0m\u001b[91m\n",
      "\u001b[0m\u001b[91m   Compiling regex-syntax v0.6.25\n",
      "\u001b[0m\u001b[91m \u001b[0m\u001b[91m \u001b[0m\u001b[91m \u001b[0m\u001b[91mCompiling\u001b[0m\u001b[91m \u001b[0m\u001b[91msmallvec\u001b[0m\u001b[91m v\u001b[0m\u001b[91m1\u001b[0m\u001b[91m.\u001b[0m\u001b[91m6\u001b[0m\u001b[91m.\u001b[0m\u001b[91m1\u001b[0m\u001b[91m\n",
      "\u001b[0m\u001b[91m \u001b[0m\u001b[91m \u001b[0m\u001b[91m \u001b[0m\u001b[91mCompiling\u001b[0m\u001b[91m \u001b[0m\u001b[91mserde_json\u001b[0m\u001b[91m v\u001b[0m\u001b[91m1\u001b[0m\u001b[91m.\u001b[0m\u001b[91m0\u001b[0m\u001b[91m.\u001b[0m\u001b[91m68\u001b[0m\u001b[91m\n",
      "\u001b[0m\u001b[91m \u001b[0m\u001b[91m \u001b[0m\u001b[91m \u001b[0m\u001b[91mCompiling\u001b[0m\u001b[91m \u001b[0m\u001b[91mmatch_cfg\u001b[0m\u001b[91m v\u001b[0m\u001b[91m0\u001b[0m\u001b[91m.\u001b[0m\u001b[91m1\u001b[0m\u001b[91m.\u001b[0m\u001b[91m0\u001b[0m\u001b[91m\n",
      "\u001b[0m\u001b[91m \u001b[0m\u001b[91m \u001b[0m\u001b[91m \u001b[0m\u001b[91mCompiling\u001b[0m\u001b[91m \u001b[0m\u001b[91matomic-waker\u001b[0m\u001b[91m v\u001b[0m\u001b[91m1\u001b[0m\u001b[91m.\u001b[0m\u001b[91m0\u001b[0m\u001b[91m.\u001b[0m\u001b[91m0\u001b[0m\u001b[91m\n",
      "\u001b[0m\u001b[91m \u001b[0m\u001b[91m \u001b[0m\u001b[91m \u001b[0m\u001b[91mCompiling\u001b[0m\u001b[91m \u001b[0m\u001b[91mitoa v0.4.8\n",
      "\u001b[0m\u001b[91m \u001b[0m\u001b[91m \u001b[0m\u001b[91m \u001b[0m\u001b[91mCompiling\u001b[0m\u001b[91m \u001b[0m\u001b[91mlinked-hash-map\u001b[0m\u001b[91m v\u001b[0m\u001b[91m0\u001b[0m\u001b[91m.\u001b[0m\u001b[91m5\u001b[0m\u001b[91m.\u001b[0m\u001b[91m4\u001b[0m\u001b[91m\n",
      "\u001b[0m\u001b[91m \u001b[0m\u001b[91m \u001b[0m\u001b[91m \u001b[0m\u001b[91mCompiling\u001b[0m\u001b[91m \u001b[0m\u001b[91mansi_term\u001b[0m\u001b[91m v\u001b[0m\u001b[91m0\u001b[0m\u001b[91m.\u001b[0m\u001b[91m11\u001b[0m\u001b[91m.\u001b[0m\u001b[91m0\u001b[0m\u001b[91m\n",
      "\u001b[0m\u001b[91m \u001b[0m\u001b[91m \u001b[0m\u001b[91m \u001b[0m\u001b[91mCompiling\u001b[0m\u001b[91m \u001b[0m\u001b[91mquick-error\u001b[0m\u001b[91m v\u001b[0m\u001b[91m1\u001b[0m\u001b[91m.\u001b[0m\u001b[91m2\u001b[0m\u001b[91m.\u001b[0m\u001b[91m3\u001b[0m\u001b[91m\n",
      "\u001b[0m\u001b[91m \u001b[0m\u001b[91m \u001b[0m\u001b[91m \u001b[0m\u001b[91mCompiling\u001b[0m\u001b[91m \u001b[0m\u001b[91mbitflags\u001b[0m\u001b[91m v\u001b[0m\u001b[91m1\u001b[0m\u001b[91m.\u001b[0m\u001b[91m3\u001b[0m\u001b[91m.\u001b[0m\u001b[91m2\u001b[0m\u001b[91m\n",
      "\u001b[0m\u001b[91m \u001b[0m\u001b[91m \u001b[0m\u001b[91m \u001b[0m\u001b[91mCompiling\u001b[0m\u001b[91m \u001b[0m\u001b[91manyhow\u001b[0m\u001b[91m v\u001b[0m\u001b[91m1\u001b[0m\u001b[91m.\u001b[0m\u001b[91m0\u001b[0m\u001b[91m.\u001b[0m\u001b[91m44\u001b[0m\u001b[91m\n",
      "\u001b[0m\u001b[91m \u001b[0m\u001b[91m \u001b[0m\u001b[91m \u001b[0m\u001b[91mCompiling\u001b[0m\u001b[91m \u001b[0m\u001b[91mstrsim\u001b[0m\u001b[91m v\u001b[0m\u001b[91m0\u001b[0m\u001b[91m.\u001b[0m\u001b[91m8\u001b[0m\u001b[91m.\u001b[0m\u001b[91m0\u001b[0m\u001b[91m\n",
      "\u001b[0m\u001b[91m \u001b[0m\u001b[91m \u001b[0m\u001b[91m \u001b[0m\u001b[91mCompiling\u001b[0m\u001b[91m \u001b[0m\u001b[91mvec_map\u001b[0m\u001b[91m v\u001b[0m\u001b[91m0\u001b[0m\u001b[91m.\u001b[0m\u001b[91m8\u001b[0m\u001b[91m.\u001b[0m\u001b[91m2\u001b[0m\u001b[91m\n",
      "\u001b[0m\u001b[91m \u001b[0m\u001b[91m \u001b[0m\u001b[91m \u001b[0m\u001b[91mCompiling\u001b[0m\u001b[91m \u001b[0m\u001b[91meither\u001b[0m\u001b[91m v\u001b[0m\u001b[91m1\u001b[0m\u001b[91m.\u001b[0m\u001b[91m6\u001b[0m\u001b[91m.\u001b[0m\u001b[91m1\u001b[0m\u001b[91m\n",
      "\u001b[0m\u001b[91m   Compiling debug-helper v0.3.12\n",
      "\u001b[0m\u001b[91m   Compiling humantime v2.1.0\n",
      "\u001b[0m\u001b[91m   Compiling termcolor v1.1.2\n",
      "\u001b[0m\u001b[91m   Compiling gcd v2.0.2\n",
      "\u001b[0m\u001b[91m   Compiling colorful v0.2.1\n",
      "\u001b[0m\u001b[91m   Compiling ansi_term v0.12.1\n",
      "\u001b[0m\u001b[91m   Compiling shell-words v1.0.0\n",
      "\u001b[0m\u001b[91m   \u001b[0m\u001b[91mCompiling futures-macro v\u001b[0m\u001b[91m0\u001b[0m\u001b[91m.3.\u001b[0m\u001b[91m17\u001b[0m\u001b[91m\n",
      "\u001b[0m\u001b[91m   Compiling futures-util v0.3.17\n",
      "\u001b[0m\u001b[91m \u001b[0m\u001b[91m \u001b[0m\u001b[91m \u001b[0m\u001b[91mCompiling\u001b[0m\u001b[91m \u001b[0m\u001b[91mminiz_oxide\u001b[0m\u001b[91m v\u001b[0m\u001b[91m0\u001b[0m\u001b[91m.\u001b[0m\u001b[91m4\u001b[0m\u001b[91m.\u001b[0m\u001b[91m4\u001b[0m\u001b[91m\n",
      "\u001b[0m\u001b[91m   Compiling num-traits v0.2.14\n",
      "\u001b[0m\u001b[91m \u001b[0m\u001b[91m \u001b[0m\u001b[91m \u001b[0m\u001b[91mCompiling\u001b[0m\u001b[91m \u001b[0m\u001b[91mnum-integer\u001b[0m\u001b[91m v\u001b[0m\u001b[91m0\u001b[0m\u001b[91m.\u001b[0m\u001b[91m1\u001b[0m\u001b[91m.\u001b[0m\u001b[91m44\u001b[0m\u001b[91m\n",
      "\u001b[0m\u001b[91m   Compiling num-bigint v0.4.2\n",
      "\u001b[0m\u001b[91m   Compiling value-bag v1.0.0-alpha.7\n",
      "\u001b[0m\u001b[91m \u001b[0m\u001b[91m \u001b[0m\u001b[91m \u001b[0m\u001b[91mCompiling\u001b[0m\u001b[91m \u001b[0m\u001b[91mproc-macro-error-attr\u001b[0m\u001b[91m v\u001b[0m\u001b[91m1\u001b[0m\u001b[91m.\u001b[0m\u001b[91m0\u001b[0m\u001b[91m.\u001b[0m\u001b[91m4\u001b[0m\u001b[91m\n",
      "\u001b[0m\u001b[91m   Compiling proc-macro-error v1.0.4\n",
      "\u001b[0m\u001b[91m \u001b[0m\u001b[91m \u001b[0m\u001b[91m \u001b[0m\u001b[91mCompiling\u001b[0m\u001b[91m \u001b[0m\u001b[91mring\u001b[0m\u001b[91m v\u001b[0m\u001b[91m0\u001b[0m\u001b[91m.\u001b[0m\u001b[91m16\u001b[0m\u001b[91m.\u001b[0m\u001b[91m20\u001b[0m\u001b[91m\n",
      "\u001b[0m\u001b[91m   Compiling backtrace v0.3.61\n",
      "\u001b[0m\u001b[91m \u001b[0m\u001b[91m \u001b[0m\u001b[91m \u001b[0m\u001b[91mCompiling\u001b[0m\u001b[91m \u001b[0m\u001b[91mtinyvec\u001b[0m\u001b[91m v\u001b[0m\u001b[91m1\u001b[0m\u001b[91m.\u001b[0m\u001b[91m5\u001b[0m\u001b[91m.\u001b[0m\u001b[91m0\u001b[0m\u001b[91m\n",
      "\u001b[0m\u001b[91m \u001b[0m\u001b[91m \u001b[0m\u001b[91m \u001b[0m\u001b[91mCompiling\u001b[0m\u001b[91m \u001b[0m\u001b[91mconcurrent-queue\u001b[0m\u001b[91m v\u001b[0m\u001b[91m1\u001b[0m\u001b[91m.\u001b[0m\u001b[91m2\u001b[0m\u001b[91m.\u001b[0m\u001b[91m2\u001b[0m\u001b[91m\n",
      "\u001b[0m\u001b[91m \u001b[0m\u001b[91m \u001b[0m\u001b[91m \u001b[0m\u001b[91mCompiling\u001b[0m\u001b[91m \u001b[0m\u001b[91masync-mutex\u001b[0m\u001b[91m v\u001b[0m\u001b[91m1\u001b[0m\u001b[91m.\u001b[0m\u001b[91m4\u001b[0m\u001b[91m.\u001b[0m\u001b[91m0\u001b[0m\u001b[91m\n",
      "\u001b[0m\u001b[91m \u001b[0m\u001b[91m \u001b[0m\u001b[91m \u001b[0m\u001b[91mCompiling\u001b[0m\u001b[91m \u001b[0m\u001b[91masync-lock\u001b[0m\u001b[91m v\u001b[0m\u001b[91m2\u001b[0m\u001b[91m.\u001b[0m\u001b[91m4\u001b[0m\u001b[91m.\u001b[0m\u001b[91m0\u001b[0m\u001b[91m\n",
      "\u001b[0m\u001b[91m \u001b[0m\u001b[91m \u001b[0m\u001b[91m \u001b[0m\u001b[91mCompiling\u001b[0m\u001b[91m \u001b[0m\u001b[91mheck\u001b[0m\u001b[91m v\u001b[0m\u001b[91m0\u001b[0m\u001b[91m.\u001b[0m\u001b[91m3\u001b[0m\u001b[91m.\u001b[0m\u001b[91m3\u001b[0m\u001b[91m\n",
      "\u001b[0m\u001b[91m \u001b[0m\u001b[91m \u001b[0m\u001b[91m \u001b[0m\u001b[91mCompiling\u001b[0m\u001b[91m \u001b[0m\u001b[91mform_urlencoded\u001b[0m\u001b[91m v\u001b[0m\u001b[91m1\u001b[0m\u001b[91m.\u001b[0m\u001b[91m0\u001b[0m\u001b[91m.\u001b[0m\u001b[91m1\u001b[0m\u001b[91m\n",
      "\u001b[0m\u001b[91m \u001b[0m\u001b[91m \u001b[0m\u001b[91m \u001b[0m\u001b[91mCompiling\u001b[0m\u001b[91m \u001b[0m\u001b[91maddr2line\u001b[0m\u001b[91m v\u001b[0m\u001b[91m0\u001b[0m\u001b[91m.\u001b[0m\u001b[91m16\u001b[0m\u001b[91m.\u001b[0m\u001b[91m0\u001b[0m\u001b[91m\n",
      "\u001b[0m\u001b[91m   Compiling textwrap v0.11.0\n",
      "\u001b[0m\u001b[91m \u001b[0m\u001b[91m \u001b[0m\u001b[91m \u001b[0m\u001b[91mCompiling\u001b[0m\u001b[91m \u001b[0m\u001b[91mlru-cache\u001b[0m\u001b[91m v\u001b[0m\u001b[91m0\u001b[0m\u001b[91m.\u001b[0m\u001b[91m1\u001b[0m\u001b[91m.\u001b[0m\u001b[91m2\u001b[0m\u001b[91m\n",
      "\u001b[0m\u001b[91m \u001b[0m\u001b[91m \u001b[0m\u001b[91m \u001b[0m\u001b[91mCompiling\u001b[0m\u001b[91m \u001b[0m\u001b[91mitertools\u001b[0m\u001b[91m v\u001b[0m\u001b[91m0\u001b[0m\u001b[91m.\u001b[0m\u001b[91m9\u001b[0m\u001b[91m.\u001b[0m\u001b[91m0\u001b[0m\u001b[91m\n",
      "\u001b[0m\u001b[91m   Compiling unicode-normalization v0.1.19\n",
      "\u001b[0m\u001b[91m   Compiling quote v1.0.9\n",
      "\u001b[0m\u001b[91m  \u001b[0m\u001b[91m \u001b[0m\u001b[91mCompiling\u001b[0m\u001b[91m iovec\u001b[0m\u001b[91m v\u001b[0m\u001b[91m0.\u001b[0m\u001b[91m1\u001b[0m\u001b[91m.4\u001b[0m\u001b[91m\n",
      "\u001b[0m\u001b[91m   \u001b[0m\u001b[91mCompiling\u001b[0m\u001b[91m \u001b[0m\u001b[91mnet2\u001b[0m\u001b[91m v\u001b[0m\u001b[91m0\u001b[0m\u001b[91m.\u001b[0m\u001b[91m2\u001b[0m\u001b[91m.\u001b[0m\u001b[91m37\u001b[0m\u001b[91m\n",
      "\u001b[0m\u001b[91m \u001b[0m\u001b[91m \u001b[0m\u001b[91m \u001b[0m\u001b[91mCompiling\u001b[0m\u001b[91m \u001b[0m\u001b[91matty\u001b[0m\u001b[91m v\u001b[0m\u001b[91m0\u001b[0m\u001b[91m.\u001b[0m\u001b[91m2\u001b[0m\u001b[91m.\u001b[0m\u001b[91m14\u001b[0m\u001b[91m\n",
      "\u001b[0m\u001b[91m \u001b[0m\u001b[91m \u001b[0m\u001b[91m \u001b[0m\u001b[91mCompiling\u001b[0m\u001b[91m \u001b[0m\u001b[91msocket2\u001b[0m\u001b[91m v\u001b[0m\u001b[91m0\u001b[0m\u001b[91m.\u001b[0m\u001b[91m4\u001b[0m\u001b[91m.\u001b[0m\u001b[91m2\u001b[0m\u001b[91m\n",
      "\u001b[0m\u001b[91m   Compiling num_cpus v1.13.0\n",
      "\u001b[0m\u001b[91m \u001b[0m\u001b[91m \u001b[0m\u001b[91m \u001b[0m\u001b[91mCompiling\u001b[0m\u001b[91m \u001b[0m\u001b[91mhostname\u001b[0m\u001b[91m v\u001b[0m\u001b[91m0\u001b[0m\u001b[91m.\u001b[0m\u001b[91m3\u001b[0m\u001b[91m.\u001b[0m\u001b[91m1\u001b[0m\u001b[91m\n",
      "\u001b[0m\u001b[91m \u001b[0m\u001b[91m \u001b[0m\u001b[91m \u001b[0m\u001b[91mCompiling\u001b[0m\u001b[91m \u001b[0m\u001b[91mdirs-sys\u001b[0m\u001b[91m v\u001b[0m\u001b[91m0\u001b[0m\u001b[91m.\u001b[0m\u001b[91m3\u001b[0m\u001b[91m.\u001b[0m\u001b[91m6\u001b[0m\u001b[91m\n",
      "\u001b[0m\u001b[91m   Compiling rlimit v0.5.4\n",
      "\u001b[0m\u001b[91m   Compiling subprocess v0.2.8\n",
      "\u001b[0m\u001b[91m \u001b[0m\u001b[91m \u001b[0m\u001b[91m \u001b[0m\u001b[91mCompiling\u001b[0m\u001b[91m \u001b[0m\u001b[91masync-channel\u001b[0m\u001b[91m v\u001b[0m\u001b[91m1\u001b[0m\u001b[91m.\u001b[0m\u001b[91m6\u001b[0m\u001b[91m.\u001b[0m\u001b[91m1\u001b[0m\u001b[91m\n",
      "\u001b[0m\u001b[91m \u001b[0m\u001b[91m \u001b[0m\u001b[91m \u001b[0m\u001b[91mCompiling\u001b[0m\u001b[91m \u001b[0m\u001b[91mfutures-lite\u001b[0m\u001b[91m v\u001b[0m\u001b[91m1\u001b[0m\u001b[91m.\u001b[0m\u001b[91m12\u001b[0m\u001b[91m.\u001b[0m\u001b[91m0\u001b[0m\u001b[91m\n",
      "\u001b[0m\u001b[91m   Compiling object v0.26.2\n",
      "\u001b[0m\u001b[91m \u001b[0m\u001b[91m  Compiling aho-corasick v0.7.18\n",
      "\u001b[0m\u001b[91m \u001b[0m\u001b[91m \u001b[0m\u001b[91m \u001b[0m\u001b[91mCompiling\u001b[0m\u001b[91m \u001b[0m\u001b[91midna\u001b[0m\u001b[91m v\u001b[0m\u001b[91m0\u001b[0m\u001b[91m.\u001b[0m\u001b[91m2\u001b[0m\u001b[91m.\u001b[0m\u001b[91m3\u001b[0m\u001b[91m\n",
      "\u001b[0m\u001b[91m   Compiling rand_core v0.5.1\n",
      "\u001b[0m\u001b[91m \u001b[0m\u001b[91m \u001b[0m\u001b[91m \u001b[0m\u001b[91mCompiling\u001b[0m\u001b[91m \u001b[0m\u001b[91mclap\u001b[0m\u001b[91m v\u001b[0m\u001b[91m2\u001b[0m\u001b[91m.\u001b[0m\u001b[91m33\u001b[0m\u001b[91m.\u001b[0m\u001b[91m3\u001b[0m\u001b[91m\n",
      "\u001b[0m\u001b[91mLLVM ERROR: IO failure on output stream: No space left on device\n",
      "\u001b[0m\u001b[91merror: could not compile `syn`\n",
      "warning: build failed, waiting for other jobs to finish...\n",
      "\u001b[0m\u001b[91merror: couldn't create a temp dir: No space left on device (os error 28) at path \"/usr/src/rustscan/target/release/deps/rmetaYgeLj7\"\n",
      "\n",
      "\u001b[0m\u001b[91merror: failed to compile `rustscan v2.0.0 (/usr/src/rustscan)`, intermediate artifacts can be found at `/usr/src/rustscan/target`\n",
      "\n",
      "Caused by:\n",
      "  build failed\n",
      "\u001b[0mThe command '/bin/sh -c cargo install --path .' returned a non-zero code: 101\n"
     ]
    }
   ],
   "source": [
    "!git clone https://github.com/RustScan/RustScan.git\n",
    "!docker build -t my-other-github-account/rustscan RustScan"
   ]
  },
  {
   "cell_type": "code",
   "execution_count": null,
   "id": "bb898865-ad36-4bb1-9c95-e292c64063f1",
   "metadata": {},
   "outputs": [],
   "source": [
    "!wget https://chromedriver.storage.googleapis.com/93.0.4577.63/chromedriver_linux64.zip\n",
    "!unzip chromedriver_linux64.zip"
   ]
  },
  {
   "cell_type": "code",
   "execution_count": 4,
   "id": "78c25f2b-fc15-44fc-b817-6d6120e85f93",
   "metadata": {},
   "outputs": [
    {
     "name": "stdout",
     "output_type": "stream",
     "text": [
      "gzip: /usr/share/wordlists/rockyou.txt.gz: No such file or directory\n",
      "fatal: destination path 'SecLists' already exists and is not an empty directory.\n"
     ]
    }
   ],
   "source": [
    "!gunzip /usr/share/wordlists/rockyou.txt.gz\n",
    "!git clone https://github.com/danielmiessler/SecLists.git"
   ]
  },
  {
   "cell_type": "code",
   "execution_count": 5,
   "id": "ad5d982a-150e-4147-8a78-d467cc3a93ff",
   "metadata": {},
   "outputs": [
    {
     "name": "stdout",
     "output_type": "stream",
     "text": [
      "Collecting git+https://github.com/Nekmo/dirhunt\n",
      "  Cloning https://github.com/Nekmo/dirhunt to /tmp/pip-req-build-4n9knqfu\n",
      "  Running command git clone -q https://github.com/Nekmo/dirhunt /tmp/pip-req-build-4n9knqfu\n",
      "Requirement already satisfied: xmltodict in /root/miniconda/lib/python3.9/site-packages (0.12.0)\n",
      "Requirement already satisfied: termcolor in /root/miniconda/lib/python3.9/site-packages (1.1.0)\n",
      "Requirement already satisfied: bs4 in /root/miniconda/lib/python3.9/site-packages (0.0.1)\n",
      "Requirement already satisfied: selenium in /root/miniconda/lib/python3.9/site-packages (3.141.0)\n",
      "Requirement already satisfied: matplotlib in /root/miniconda/lib/python3.9/site-packages (3.4.3)\n",
      "Requirement already satisfied: beautifulsoup4 in /root/miniconda/lib/python3.9/site-packages (from dirhunt==0.8.1) (4.10.0)\n",
      "Requirement already satisfied: requests in /root/miniconda/lib/python3.9/site-packages (from dirhunt==0.8.1) (2.25.1)\n",
      "Requirement already satisfied: click in /root/miniconda/lib/python3.9/site-packages (from dirhunt==0.8.1) (8.0.1)\n",
      "Requirement already satisfied: humanize in /root/miniconda/lib/python3.9/site-packages (from dirhunt==0.8.1) (3.11.0)\n",
      "Requirement already satisfied: colorama in /root/miniconda/lib/python3.9/site-packages (from dirhunt==0.8.1) (0.4.4)\n",
      "Requirement already satisfied: requests-mock in /root/miniconda/lib/python3.9/site-packages (from dirhunt==0.8.1) (1.9.3)\n",
      "Requirement already satisfied: google in /root/miniconda/lib/python3.9/site-packages (from dirhunt==0.8.1) (3.0.0)\n",
      "Requirement already satisfied: proxy-db in /root/miniconda/lib/python3.9/site-packages (from dirhunt==0.8.1) (0.3.1)\n",
      "Requirement already satisfied: urllib3 in /root/miniconda/lib/python3.9/site-packages (from selenium) (1.26.6)\n",
      "Requirement already satisfied: numpy>=1.16 in /root/miniconda/lib/python3.9/site-packages (from matplotlib) (1.21.2)\n",
      "Requirement already satisfied: pyparsing>=2.2.1 in /root/miniconda/lib/python3.9/site-packages (from matplotlib) (2.4.7)\n",
      "Requirement already satisfied: cycler>=0.10 in /root/miniconda/lib/python3.9/site-packages (from matplotlib) (0.10.0)\n",
      "Requirement already satisfied: pillow>=6.2.0 in /root/miniconda/lib/python3.9/site-packages (from matplotlib) (8.3.2)\n",
      "Requirement already satisfied: python-dateutil>=2.7 in /root/miniconda/lib/python3.9/site-packages (from matplotlib) (2.8.2)\n",
      "Requirement already satisfied: kiwisolver>=1.0.1 in /root/miniconda/lib/python3.9/site-packages (from matplotlib) (1.3.2)\n",
      "Requirement already satisfied: six in /root/miniconda/lib/python3.9/site-packages (from cycler>=0.10->matplotlib) (1.16.0)\n",
      "Requirement already satisfied: soupsieve>1.2 in /root/miniconda/lib/python3.9/site-packages (from beautifulsoup4->dirhunt==0.8.1) (2.2.1)\n",
      "Requirement already satisfied: setuptools in /root/miniconda/lib/python3.9/site-packages (from humanize->dirhunt==0.8.1) (52.0.0.post20210125)\n",
      "Requirement already satisfied: sqlalchemy in /root/miniconda/lib/python3.9/site-packages (from proxy-db->dirhunt==0.8.1) (1.4.25)\n",
      "Requirement already satisfied: idna<3,>=2.5 in /root/miniconda/lib/python3.9/site-packages (from requests->dirhunt==0.8.1) (2.10)\n",
      "Requirement already satisfied: chardet<5,>=3.0.2 in /root/miniconda/lib/python3.9/site-packages (from requests->dirhunt==0.8.1) (4.0.0)\n",
      "Requirement already satisfied: certifi>=2017.4.17 in /root/miniconda/lib/python3.9/site-packages (from requests->dirhunt==0.8.1) (2021.5.30)\n",
      "Requirement already satisfied: greenlet!=0.4.17 in /root/miniconda/lib/python3.9/site-packages (from sqlalchemy->proxy-db->dirhunt==0.8.1) (1.1.1)\n",
      "\u001b[33mWARNING: Running pip as the 'root' user can result in broken permissions and conflicting behaviour with the system package manager. It is recommended to use a virtual environment instead: https://pip.pypa.io/warnings/venv\u001b[0m\n",
      "Note: you may need to restart the kernel to use updated packages.\n"
     ]
    }
   ],
   "source": [
    "%pip install xmltodict termcolor bs4 git+https://github.com/Nekmo/dirhunt selenium matplotlib"
   ]
  },
  {
   "cell_type": "code",
   "execution_count": 6,
   "id": "2f92e84b-f428-4195-ab5f-286c63c80c42",
   "metadata": {},
   "outputs": [
    {
     "name": "stdout",
     "output_type": "stream",
     "text": [
      "--2021-09-26 18:22:05--  https://raw.githubusercontent.com/CiscoCXSecurity/enum4linux/master/enum4linux.pl\n",
      "Resolving raw.githubusercontent.com (raw.githubusercontent.com)... 185.199.110.133, 185.199.109.133, 185.199.108.133, ...\n",
      "Connecting to raw.githubusercontent.com (raw.githubusercontent.com)|185.199.110.133|:443... connected.\n",
      "HTTP request sent, awaiting response... 200 OK\n",
      "Length: 42963 (42K) [text/plain]\n",
      "Saving to: ‘enum4linux.pl.1’\n",
      "\n",
      "enum4linux.pl.1     100%[===================>]  41.96K  --.-KB/s    in 0.01s   \n",
      "\n",
      "2021-09-26 18:22:05 (3.76 MB/s) - ‘enum4linux.pl.1’ saved [42963/42963]\n",
      "\n"
     ]
    }
   ],
   "source": [
    "!wget https://raw.githubusercontent.com/CiscoCXSecurity/enum4linux/master/enum4linux.pl\n",
    "!chmod +x enum4linux.pl"
   ]
  },
  {
   "cell_type": "code",
   "execution_count": 7,
   "id": "1d4a63e3-3f65-4dd8-8c62-637aecef8a3e",
   "metadata": {},
   "outputs": [
    {
     "name": "stdout",
     "output_type": "stream",
     "text": [
      "Cloning into 'okadminfinder3'...\n",
      "remote: Enumerating objects: 323, done.\u001b[K\n",
      "remote: Counting objects: 100% (59/59), done.\u001b[K\n",
      "remote: Compressing objects: 100% (48/48), done.\u001b[K\n",
      "remote: Total 323 (delta 20), reused 28 (delta 7), pack-reused 264\u001b[K\n",
      "Receiving objects: 100% (323/323), 296.44 KiB | 1.70 MiB/s, done.\n",
      "Resolving deltas: 100% (159/159), done.\n"
     ]
    }
   ],
   "source": [
    "!rm -rf okadminfinder3\n",
    "!git clone https://github.com/mIcHyAmRaNe/okadminfinder3.git\n",
    "!chmod +x okadminfinder3/okadminfinder.py\n",
    "\n",
    "import fileinput\n",
    "\n",
    "for line in fileinput.input(\"okadminfinder3/okadminfinder.py\", inplace = 1): \n",
    "    to_replace=\"\"\"messenger.writeInput('  [/] Scanning over; Press Enter to Exit', 'green')\"\"\"\n",
    "    print(line.replace(to_replace, \"exit()\"), end = \"\")"
   ]
  },
  {
   "cell_type": "code",
   "execution_count": 8,
   "id": "4e3b9864-4a21-4871-a718-0ea37815cd32",
   "metadata": {},
   "outputs": [
    {
     "name": "stdout",
     "output_type": "stream",
     "text": [
      "fatal: destination path 'CeWL' already exists and is not an empty directory.\n"
     ]
    },
    {
     "name": "stdin",
     "output_type": "stream",
     "text": [
      " \n"
     ]
    },
    {
     "name": "stdout",
     "output_type": "stream",
     "text": [
      "Successfully installed bundler-2.2.28\n",
      "Parsing documentation for bundler-2.2.28\n",
      "Done installing documentation for bundler after 4 seconds\n",
      "1 gem installed\n"
     ]
    },
    {
     "name": "stdin",
     "output_type": "stream",
     "text": [
      " \n"
     ]
    },
    {
     "name": "stdout",
     "output_type": "stream",
     "text": [
      "\u001b[33mDon't run Bundler as root. Bundler can ask for sudo if it is needed, and\n",
      "installing your bundle as root will break this application for all non-root\n",
      "users on this machine.\u001b[0m\n",
      "Using bundler 2.2.28\n",
      "Using mime 0.4.4\n",
      "Using mime-types-data 3.2021.0225\n",
      "Using mime-types 3.3.1\n",
      "Using mini_exiftool 2.10.1\n",
      "Using racc 1.5.2\n",
      "Using nokogiri 1.11.7 (x86_64-linux)\n",
      "Using rexml 3.2.5\n",
      "Using rubyzip 2.3.0\n",
      "Using spider 0.5.4\n",
      "\u001b[32mBundle complete! 7 Gemfile dependencies, 10 gems now installed.\u001b[0m\n",
      "\u001b[32mUse `bundle info [gemname]` to see where a bundled gem is installed.\u001b[0m\n"
     ]
    }
   ],
   "source": [
    "!git clone https://github.com/digininja/CeWL\n",
    "!echo { getpass() } | sudo -S gem install bundler\n",
    "!cd CeWL && echo { getpass() } | sudo -S bundle install\n",
    "!cd CeWL && chmod +x cewl.rb"
   ]
  },
  {
   "cell_type": "code",
   "execution_count": 9,
   "id": "4c68858f-de77-4050-a207-6f0ae9c4a1e0",
   "metadata": {},
   "outputs": [
    {
     "name": "stdin",
     "output_type": "stream",
     "text": [
      " \n"
     ]
    },
    {
     "name": "stdout",
     "output_type": "stream",
     "text": [
      "Reading package lists... Done\n",
      "Building dependency tree       \n",
      "Reading state information... Done\n",
      "E: Unable to locate package gobuster\n",
      "E: Unable to locate package ffuf\n"
     ]
    }
   ],
   "source": [
    "!echo { getpass() } | sudo -S apt install gobuster ffuf"
   ]
  },
  {
   "cell_type": "code",
   "execution_count": 10,
   "id": "d744e9ae-deb1-4ec3-9e12-b026cc255d23",
   "metadata": {},
   "outputs": [
    {
     "name": "stdin",
     "output_type": "stream",
     "text": [
      " \n"
     ]
    },
    {
     "name": "stdout",
     "output_type": "stream",
     "text": [
      "fatal: destination path 'SecLists' already exists and is not an empty directory.\n"
     ]
    }
   ],
   "source": [
    "!echo { getpass() } | sudo -S git clone https://github.com/danielmiessler/SecLists.git"
   ]
  }
 ],
 "metadata": {
  "kernelspec": {
   "display_name": "Python 3 (ipykernel)",
   "language": "python",
   "name": "python3"
  },
  "language_info": {
   "codemirror_mode": {
    "name": "ipython",
    "version": 3
   },
   "file_extension": ".py",
   "mimetype": "text/x-python",
   "name": "python",
   "nbconvert_exporter": "python",
   "pygments_lexer": "ipython3",
   "version": "3.9.5"
  }
 },
 "nbformat": 4,
 "nbformat_minor": 5
}
