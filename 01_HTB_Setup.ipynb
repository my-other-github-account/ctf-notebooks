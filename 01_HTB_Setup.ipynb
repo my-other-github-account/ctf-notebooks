{
 "cells": [
  {
   "cell_type": "code",
   "execution_count": 3,
   "id": "aeb58b9f-398c-43f3-b02c-3a45baab78cc",
   "metadata": {},
   "outputs": [],
   "source": [
    "from getpass import getpass"
   ]
  },
  {
   "cell_type": "code",
   "execution_count": 2,
   "id": "e5e4288e-b263-4c89-91cb-e9e7ca3db90c",
   "metadata": {},
   "outputs": [],
   "source": [
    "# https://www.kali.org/docs/containers/installing-docker-on-kali/"
   ]
  },
  {
   "cell_type": "code",
   "execution_count": 3,
   "id": "94f502dc-08ef-4a13-a81c-60449454b17a",
   "metadata": {},
   "outputs": [],
   "source": [
    "# !cargo install feroxbuster"
   ]
  },
  {
   "cell_type": "code",
   "execution_count": 6,
   "id": "78c25f2b-fc15-44fc-b817-6d6120e85f93",
   "metadata": {},
   "outputs": [
    {
     "name": "stdout",
     "output_type": "stream",
     "text": [
      "Cloning into 'SecLists'...\n",
      "remote: Enumerating objects: 10408, done.\u001b[K\n",
      "remote: Counting objects: 100% (496/496), done.\u001b[K\n",
      "remote: Compressing objects: 100% (194/194), done.\u001b[K\n",
      "remote: Total 10408 (delta 318), reused 474 (delta 301), pack-reused 9912\u001b[K\n",
      "Receiving objects: 100% (10408/10408), 883.34 MiB | 11.06 MiB/s, done.\n",
      "Resolving deltas: 100% (5501/5501), done.\n",
      "Updating files: 100% (5371/5371), done.\n"
     ]
    }
   ],
   "source": [
    "!gunzip /usr/share/wordlists/rockyou.txt.gz\n",
    "!git clone https://github.com/danielmiessler/SecLists.git"
   ]
  },
  {
   "cell_type": "code",
   "execution_count": 8,
   "id": "2f92e84b-f428-4195-ab5f-286c63c80c42",
   "metadata": {},
   "outputs": [
    {
     "name": "stdout",
     "output_type": "stream",
     "text": [
      "--2021-09-26 18:56:15--  https://raw.githubusercontent.com/CiscoCXSecurity/enum4linux/master/enum4linux.pl\n",
      "Resolving raw.githubusercontent.com (raw.githubusercontent.com)... 185.199.108.133, 185.199.109.133, 185.199.110.133, ...\n",
      "Connecting to raw.githubusercontent.com (raw.githubusercontent.com)|185.199.108.133|:443... connected.\n",
      "HTTP request sent, awaiting response... 200 OK\n",
      "Length: 42963 (42K) [text/plain]\n",
      "Saving to: ‘enum4linux.pl’\n",
      "\n",
      "enum4linux.pl       100%[===================>]  41.96K  --.-KB/s    in 0.01s   \n",
      "\n",
      "2021-09-26 18:56:15 (4.30 MB/s) - ‘enum4linux.pl’ saved [42963/42963]\n",
      "\n"
     ]
    }
   ],
   "source": [
    "!wget https://raw.githubusercontent.com/CiscoCXSecurity/enum4linux/master/enum4linux.pl\n",
    "!chmod +x enum4linux.pl"
   ]
  },
  {
   "cell_type": "code",
   "execution_count": 4,
   "id": "5d350daa-08a1-42be-bae6-11932b96c13d",
   "metadata": {},
   "outputs": [
    {
     "name": "stdout",
     "output_type": "stream",
     "text": [
      "Cloning into 'RustScan'...\n",
      "remote: Enumerating objects: 2930, done.\u001b[K\n",
      "remote: Counting objects: 100% (67/67), done.\u001b[K\n",
      "remote: Compressing objects: 100% (66/66), done.\u001b[K\n",
      "remote: Total 2930 (delta 41), reused 3 (delta 1), pack-reused 2863\u001b[K\n",
      "Receiving objects: 100% (2930/2930), 13.65 MiB | 1.77 MiB/s, done.\n",
      "Resolving deltas: 100% (1618/1618), done.\n",
      "/bin/bash: docker: command not found\n"
     ]
    }
   ],
   "source": [
    "!git clone https://github.com/RustScan/RustScan.git\n",
    "!docker build -t my-other-github-account/rustscan RustScan"
   ]
  },
  {
   "cell_type": "code",
   "execution_count": 7,
   "id": "ad5d982a-150e-4147-8a78-d467cc3a93ff",
   "metadata": {
    "scrolled": true,
    "tags": []
   },
   "outputs": [
    {
     "name": "stdout",
     "output_type": "stream",
     "text": [
      "Collecting git+https://github.com/Nekmo/dirhunt\n",
      "  Cloning https://github.com/Nekmo/dirhunt to /tmp/pip-req-build-ic_47tzy\n",
      "  Running command git clone -q https://github.com/Nekmo/dirhunt /tmp/pip-req-build-ic_47tzy\n",
      "Collecting xmltodict\n",
      "  Downloading xmltodict-0.12.0-py2.py3-none-any.whl (9.2 kB)\n",
      "Collecting termcolor\n",
      "  Downloading termcolor-1.1.0.tar.gz (3.9 kB)\n",
      "Collecting bs4\n",
      "  Downloading bs4-0.0.1.tar.gz (1.1 kB)\n",
      "Collecting selenium\n",
      "  Downloading selenium-3.141.0-py2.py3-none-any.whl (904 kB)\n",
      "\u001b[K     |████████████████████████████████| 904 kB 28.1 MB/s eta 0:00:01\n",
      "\u001b[?25hCollecting matplotlib\n",
      "  Downloading matplotlib-3.4.3-cp39-cp39-manylinux1_x86_64.whl (10.3 MB)\n",
      "\u001b[K     |████████████████████████████████| 10.3 MB 28.8 MB/s eta 0:00:01\n",
      "\u001b[?25hCollecting beautifulsoup4\n",
      "  Downloading beautifulsoup4-4.10.0-py3-none-any.whl (97 kB)\n",
      "\u001b[K     |████████████████████████████████| 97 kB 2.0 MB/s  eta 0:00:01\n",
      "\u001b[?25hRequirement already satisfied: requests in /root/miniconda/lib/python3.9/site-packages (from dirhunt==0.8.1) (2.25.1)\n",
      "Collecting click\n",
      "  Downloading click-8.0.1-py3-none-any.whl (97 kB)\n",
      "\u001b[K     |████████████████████████████████| 97 kB 766 kB/s  eta 0:00:01\n",
      "\u001b[?25hCollecting humanize\n",
      "  Downloading humanize-3.11.0-py3-none-any.whl (90 kB)\n",
      "\u001b[K     |████████████████████████████████| 90 kB 2.5 MB/s  eta 0:00:01\n",
      "\u001b[?25hCollecting colorama\n",
      "  Downloading colorama-0.4.4-py2.py3-none-any.whl (16 kB)\n",
      "Collecting requests-mock\n",
      "  Downloading requests_mock-1.9.3-py2.py3-none-any.whl (27 kB)\n",
      "Collecting google\n",
      "  Downloading google-3.0.0-py2.py3-none-any.whl (45 kB)\n",
      "\u001b[K     |████████████████████████████████| 45 kB 135 kB/s  eta 0:00:01\n",
      "\u001b[?25hCollecting proxy-db\n",
      "  Downloading proxy_db-0.3.1-py2.py3-none-any.whl (21 kB)\n",
      "Requirement already satisfied: urllib3 in /root/miniconda/lib/python3.9/site-packages (from selenium) (1.26.6)\n",
      "Collecting pillow>=6.2.0\n",
      "  Downloading Pillow-8.3.2-cp39-cp39-manylinux_2_17_x86_64.manylinux2014_x86_64.whl (3.0 MB)\n",
      "\u001b[K     |████████████████████████████████| 3.0 MB 67.3 MB/s eta 0:00:01\n",
      "\u001b[?25hRequirement already satisfied: pyparsing>=2.2.1 in /root/miniconda/lib/python3.9/site-packages (from matplotlib) (2.4.7)\n",
      "Collecting numpy>=1.16\n",
      "  Downloading numpy-1.21.2-cp39-cp39-manylinux_2_12_x86_64.manylinux2010_x86_64.whl (15.8 MB)\n",
      "\u001b[K     |████████████████████████████████| 15.8 MB 68.1 MB/s eta 0:00:01\n",
      "\u001b[?25hCollecting cycler>=0.10\n",
      "  Downloading cycler-0.10.0-py2.py3-none-any.whl (6.5 kB)\n",
      "Requirement already satisfied: python-dateutil>=2.7 in /root/miniconda/lib/python3.9/site-packages (from matplotlib) (2.8.2)\n",
      "Collecting kiwisolver>=1.0.1\n",
      "  Downloading kiwisolver-1.3.2-cp39-cp39-manylinux_2_12_x86_64.manylinux2010_x86_64.whl (1.6 MB)\n",
      "\u001b[K     |████████████████████████████████| 1.6 MB 71.5 MB/s eta 0:00:01\n",
      "\u001b[?25hRequirement already satisfied: six in /root/miniconda/lib/python3.9/site-packages (from cycler>=0.10->matplotlib) (1.16.0)\n",
      "Collecting soupsieve>1.2\n",
      "  Downloading soupsieve-2.2.1-py3-none-any.whl (33 kB)\n",
      "Requirement already satisfied: setuptools in /root/miniconda/lib/python3.9/site-packages (from humanize->dirhunt==0.8.1) (52.0.0.post20210125)\n",
      "Collecting sqlalchemy\n",
      "  Downloading SQLAlchemy-1.4.25-cp39-cp39-manylinux_2_5_x86_64.manylinux1_x86_64.manylinux_2_17_x86_64.manylinux2014_x86_64.whl (1.6 MB)\n",
      "\u001b[K     |████████████████████████████████| 1.6 MB 68.8 MB/s eta 0:00:01\n",
      "\u001b[?25hRequirement already satisfied: idna<3,>=2.5 in /root/miniconda/lib/python3.9/site-packages (from requests->dirhunt==0.8.1) (2.10)\n",
      "Requirement already satisfied: certifi>=2017.4.17 in /root/miniconda/lib/python3.9/site-packages (from requests->dirhunt==0.8.1) (2021.5.30)\n",
      "Requirement already satisfied: chardet<5,>=3.0.2 in /root/miniconda/lib/python3.9/site-packages (from requests->dirhunt==0.8.1) (4.0.0)\n",
      "Collecting greenlet!=0.4.17\n",
      "  Downloading greenlet-1.1.1-cp39-cp39-manylinux_2_17_x86_64.manylinux2014_x86_64.whl (147 kB)\n",
      "\u001b[K     |████████████████████████████████| 147 kB 71.5 MB/s eta 0:00:01\n",
      "\u001b[?25hBuilding wheels for collected packages: dirhunt, termcolor, bs4\n",
      "  Building wheel for dirhunt (setup.py) ... \u001b[?25ldone\n",
      "\u001b[?25h  Created wheel for dirhunt: filename=dirhunt-0.8.1-py3-none-any.whl size=44795 sha256=a4561cabaec8805d3ac62df87a15b6b1339b96a030098c8d7455432138623110\n",
      "  Stored in directory: /tmp/pip-ephem-wheel-cache-lwsb1eei/wheels/6e/7e/d4/65efb72f3f8d7a2383f36826fd10729057195f865b4bbbe0ba\n",
      "  Building wheel for termcolor (setup.py) ... \u001b[?25ldone\n",
      "\u001b[?25h  Created wheel for termcolor: filename=termcolor-1.1.0-py3-none-any.whl size=4829 sha256=aa99bce8bbed9c568154fe1c8f45f27667ae663da86062c99e6b4001652a283e\n",
      "  Stored in directory: /root/.cache/pip/wheels/b6/0d/90/0d1bbd99855f99cb2f6c2e5ff96f8023fad8ec367695f7d72d\n",
      "  Building wheel for bs4 (setup.py) ... \u001b[?25ldone\n",
      "\u001b[?25h  Created wheel for bs4: filename=bs4-0.0.1-py3-none-any.whl size=1273 sha256=33858445463e07af1de10e905ca12ce3b949e4684816d3e767b65fe757f873ff\n",
      "  Stored in directory: /root/.cache/pip/wheels/73/2b/cb/099980278a0c9a3e57ff1a89875ec07bfa0b6fcbebb9a8cad3\n",
      "Successfully built dirhunt termcolor bs4\n",
      "Installing collected packages: soupsieve, greenlet, sqlalchemy, click, beautifulsoup4, requests-mock, proxy-db, pillow, numpy, kiwisolver, humanize, google, cycler, colorama, xmltodict, termcolor, selenium, matplotlib, dirhunt, bs4\n",
      "Successfully installed beautifulsoup4-4.10.0 bs4-0.0.1 click-8.0.1 colorama-0.4.4 cycler-0.10.0 dirhunt-0.8.1 google-3.0.0 greenlet-1.1.1 humanize-3.11.0 kiwisolver-1.3.2 matplotlib-3.4.3 numpy-1.21.2 pillow-8.3.2 proxy-db-0.3.1 requests-mock-1.9.3 selenium-3.141.0 soupsieve-2.2.1 sqlalchemy-1.4.25 termcolor-1.1.0 xmltodict-0.12.0\n",
      "\u001b[33mWARNING: Running pip as the 'root' user can result in broken permissions and conflicting behaviour with the system package manager. It is recommended to use a virtual environment instead: https://pip.pypa.io/warnings/venv\u001b[0m\n",
      "Note: you may need to restart the kernel to use updated packages.\n"
     ]
    }
   ],
   "source": [
    "%pip install xmltodict termcolor bs4 git+https://github.com/Nekmo/dirhunt selenium matplotlib lxml"
   ]
  },
  {
   "cell_type": "code",
   "execution_count": 1,
   "id": "bb898865-ad36-4bb1-9c95-e292c64063f1",
   "metadata": {},
   "outputs": [
    {
     "name": "stdout",
     "output_type": "stream",
     "text": [
      "--2021-09-26 19:07:41--  https://chromedriver.storage.googleapis.com/94.0.4606.41/chromedriver_linux64.zip\n",
      "Resolving chromedriver.storage.googleapis.com (chromedriver.storage.googleapis.com)... 74.125.193.128, 2a00:1450:400b:c01::80\n",
      "Connecting to chromedriver.storage.googleapis.com (chromedriver.storage.googleapis.com)|74.125.193.128|:443... connected.\n",
      "HTTP request sent, awaiting response... 200 OK\n",
      "Length: 9875677 (9.4M) [application/zip]\n",
      "Saving to: ‘chromedriver_linux64.zip’\n",
      "\n",
      "chromedriver_linux6 100%[===================>]   9.42M  --.-KB/s    in 0.1s    \n",
      "\n",
      "2021-09-26 19:07:41 (67.3 MB/s) - ‘chromedriver_linux64.zip’ saved [9875677/9875677]\n",
      "\n",
      "Archive:  chromedriver_linux64.zip\n",
      "  inflating: chromedriver            \n"
     ]
    }
   ],
   "source": [
    "!wget https://chromedriver.storage.googleapis.com/94.0.4606.41/chromedriver_linux64.zip\n",
    "!unzip chromedriver_linux64.zip"
   ]
  },
  {
   "cell_type": "code",
   "execution_count": null,
   "id": "ed9e0885-598c-4378-8b1b-2d7f2edfa941",
   "metadata": {},
   "outputs": [],
   "source": [
    "!curl -sS -o - https://dl-ssl.google.com/linux/linux_signing_key.pub | apt-key add\n",
    "!echo \"deb https://dl.google.com/linux/chrome/deb/ stable main\" >> /etc/apt/sources.list.d/google-chrome.list\n",
    "!apt-get -y update\n",
    "!apt-get -y install google-chrome-stable"
   ]
  },
  {
   "cell_type": "code",
   "execution_count": 4,
   "id": "4c68858f-de77-4050-a207-6f0ae9c4a1e0",
   "metadata": {},
   "outputs": [
    {
     "name": "stdin",
     "output_type": "stream",
     "text": [
      " \n"
     ]
    },
    {
     "name": "stdout",
     "output_type": "stream",
     "text": [
      "Reading package lists... Done\n",
      "Building dependency tree       \n",
      "Reading state information... Done\n",
      "The following packages were automatically installed and are no longer required:\n",
      "  fonts-glyphicons-halflings libbind9-161 libboost-iostreams1.67.0 libc6-i386\n",
      "  libcdio18 libclang1-8 libcroco3 libdns-export1107 libdns1107 libdns1110\n",
      "  libdvdread7 libexiv2-14 libffi-dev libgc1c2 libgcc-8-dev libgeos-3.8.0\n",
      "  libgtkmm-2.4-1v5 libicu63 libirs161 libisc-export1104 libisc1104 libisc1105\n",
      "  libisccc161 libisccfg163 libllvm8 libllvm9 liblwres161 libmpdec2 libmpx2\n",
      "  libmysofa0 libncurses-dev liboauth0 libobjc-8-dev libobjc4 libomp-8-dev\n",
      "  libomp5-8 libpfm4 libpocl2-common libproj15 libprotobuf17 libpython3.7\n",
      "  libpython3.7-dev libpython3.7-minimal libpython3.7-stdlib libqt5script5\n",
      "  libradare2-3.9 libre2-5 libruby2.5 libstdc++-8-dev libtinfo-dev libx264-155\n",
      "  libx265-179 linux-image-5.4.0-kali2-amd64 llvm-8 llvm-8-dev llvm-8-runtime\n",
      "  openjdk-8-jre php7.3-mysql python-backports.functools-lru-cache python-bs4\n",
      "  python-dnspython python-html5lib python-lxml python-netaddr python-soupsieve\n",
      "  python-webencodings python3-flask-session python3-pcapfile\n",
      "  python3-simplegeneric python3.7-minimal ruby-did-you-mean ruby2.5\n",
      "  ruby2.5-dev ruby2.5-doc\n",
      "Use 'sudo apt autoremove' to remove them.\n",
      "The following NEW packages will be installed:\n",
      "  ffuf gobuster\n",
      "0 upgraded, 2 newly installed, 0 to remove and 1757 not upgraded.\n",
      "Need to get 4,441 kB of archives.\n",
      "After this operation, 15.0 MB of additional disk space will be used.\n",
      "Get:1 http://kali.download/kali kali-rolling/main amd64 ffuf amd64 1.3.1-0kali1 [2,252 kB]\n",
      "Get:2 http://kali.download/kali kali-rolling/main amd64 gobuster amd64 3.1.0-0kali1 [2,189 kB]\n",
      "Fetched 4,441 kB in 1s (7,010 kB/s) \u001b[0m\u001b[33m\n",
      "\n",
      "\u001b7\u001b[0;23r\u001b8\u001b[1ASelecting previously unselected package ffuf.\n",
      "(Reading database ... 370531 files and directories currently installed.)\n",
      "Preparing to unpack .../ffuf_1.3.1-0kali1_amd64.deb ...\n",
      "\u001b7\u001b[24;0f\u001b[42m\u001b[30mProgress: [  0%]\u001b[49m\u001b[39m [..........................................................] \u001b8\u001b7\u001b[24;0f\u001b[42m\u001b[30mProgress: [ 11%]\u001b[49m\u001b[39m [######....................................................] \u001b8Unpacking ffuf (1.3.1-0kali1) ...\n",
      "\u001b7\u001b[24;0f\u001b[42m\u001b[30mProgress: [ 22%]\u001b[49m\u001b[39m [############..............................................] \u001b8Selecting previously unselected package gobuster.\n",
      "Preparing to unpack .../gobuster_3.1.0-0kali1_amd64.deb ...\n",
      "\u001b7\u001b[24;0f\u001b[42m\u001b[30mProgress: [ 33%]\u001b[49m\u001b[39m [###################.......................................] \u001b8Unpacking gobuster (3.1.0-0kali1) ...\n",
      "\u001b7\u001b[24;0f\u001b[42m\u001b[30mProgress: [ 44%]\u001b[49m\u001b[39m [#########################.................................] \u001b8Setting up ffuf (1.3.1-0kali1) ...\n",
      "\u001b7\u001b[24;0f\u001b[42m\u001b[30mProgress: [ 56%]\u001b[49m\u001b[39m [################################..........................] \u001b8\u001b7\u001b[24;0f\u001b[42m\u001b[30mProgress: [ 67%]\u001b[49m\u001b[39m [######################################....................] \u001b8Setting up gobuster (3.1.0-0kali1) ...\n",
      "\u001b7\u001b[24;0f\u001b[42m\u001b[30mProgress: [ 78%]\u001b[49m\u001b[39m [#############################################.............] \u001b8\u001b7\u001b[24;0f\u001b[42m\u001b[30mProgress: [ 89%]\u001b[49m\u001b[39m [###################################################.......] \u001b8Processing triggers for man-db (2.9.3-2) ...\n",
      "Processing triggers for kali-menu (2020.3.2) ...\n",
      "\n",
      "\u001b7\u001b[0;24r\u001b8\u001b[1A\u001b[J"
     ]
    }
   ],
   "source": [
    "!echo { getpass() } | sudo -S apt install gobuster ffuf"
   ]
  },
  {
   "cell_type": "code",
   "execution_count": 9,
   "id": "1d4a63e3-3f65-4dd8-8c62-637aecef8a3e",
   "metadata": {},
   "outputs": [
    {
     "name": "stdout",
     "output_type": "stream",
     "text": [
      "Cloning into 'okadminfinder3'...\n",
      "remote: Enumerating objects: 323, done.\u001b[K\n",
      "remote: Counting objects: 100% (59/59), done.\u001b[K\n",
      "remote: Compressing objects: 100% (48/48), done.\u001b[K\n",
      "remote: Total 323 (delta 20), reused 28 (delta 7), pack-reused 264\u001b[K\n",
      "Receiving objects: 100% (323/323), 296.44 KiB | 2.02 MiB/s, done.\n",
      "Resolving deltas: 100% (159/159), done.\n"
     ]
    }
   ],
   "source": [
    "!rm -rf okadminfinder3\n",
    "!git clone https://github.com/mIcHyAmRaNe/okadminfinder3.git\n",
    "!chmod +x okadminfinder3/okadminfinder.py\n",
    "\n",
    "import fileinput\n",
    "\n",
    "for line in fileinput.input(\"okadminfinder3/okadminfinder.py\", inplace = 1): \n",
    "    to_replace=\"\"\"messenger.writeInput('  [/] Scanning over; Press Enter to Exit', 'green')\"\"\"\n",
    "    print(line.replace(to_replace, \"exit()\"), end = \"\")"
   ]
  },
  {
   "cell_type": "code",
   "execution_count": null,
   "id": "4e3b9864-4a21-4871-a718-0ea37815cd32",
   "metadata": {},
   "outputs": [
    {
     "name": "stdout",
     "output_type": "stream",
     "text": [
      "Cloning into 'CeWL'...\n",
      "remote: Enumerating objects: 382, done.\u001b[K\n",
      "remote: Counting objects: 100% (95/95), done.\u001b[K\n",
      "remote: Compressing objects: 100% (63/63), done.\u001b[K\n",
      "remote: Total 382 (delta 54), reused 56 (delta 32), pack-reused 287\u001b[K\n",
      "Receiving objects: 100% (382/382), 173.49 KiB | 2.44 MiB/s, done.\n",
      "Resolving deltas: 100% (222/222), done.\n"
     ]
    },
    {
     "name": "stdin",
     "output_type": "stream",
     "text": [
      " \n"
     ]
    },
    {
     "name": "stdout",
     "output_type": "stream",
     "text": [
      "Fetching bundler-2.2.28.gem\n",
      "Successfully installed bundler-2.2.28\n",
      "Parsing documentation for bundler-2.2.28\n",
      "Installing ri documentation for bundler-2.2.28\n",
      "Done installing documentation for bundler after 3 seconds\n",
      "1 gem installed\n"
     ]
    }
   ],
   "source": [
    "!git clone https://github.com/digininja/CeWL\n",
    "!echo { getpass() } | sudo -S gem install bundler\n",
    "!cd CeWL && echo { getpass() } | sudo -S bundle install\n",
    "!cd CeWL && chmod +x cewl.rb"
   ]
  }
 ],
 "metadata": {
  "kernelspec": {
   "display_name": "Python 3 (ipykernel)",
   "language": "python",
   "name": "python3"
  },
  "language_info": {
   "codemirror_mode": {
    "name": "ipython",
    "version": 3
   },
   "file_extension": ".py",
   "mimetype": "text/x-python",
   "name": "python",
   "nbconvert_exporter": "python",
   "pygments_lexer": "ipython3",
   "version": "3.9.5"
  }
 },
 "nbformat": 4,
 "nbformat_minor": 5
}
