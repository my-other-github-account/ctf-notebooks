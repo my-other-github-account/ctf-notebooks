{
 "cells": [
  {
   "cell_type": "markdown",
   "id": "62095b45-eb51-4cfd-8f65-71ec3e575db9",
   "metadata": {},
   "source": [
    "# Service Enumeration:"
   ]
  },
  {
   "cell_type": "code",
   "execution_count": 1,
   "id": "c46c7063-380b-4802-84fe-c65b0f6c47a6",
   "metadata": {},
   "outputs": [
    {
     "name": "stdout",
     "output_type": "stream",
     "text": [
      "env: TARGET=10.10.133.181\n"
     ]
    }
   ],
   "source": [
    "%env TARGET=10.10.133.181"
   ]
  },
  {
   "cell_type": "markdown",
   "id": "0d326b74-d767-4baa-9ebe-57984c5ca3df",
   "metadata": {
    "tags": []
   },
   "source": [
    "# SMB:"
   ]
  },
  {
   "cell_type": "code",
   "execution_count": 2,
   "id": "3e707234-9bfd-441d-a6f6-7c58a11c0663",
   "metadata": {},
   "outputs": [
    {
     "name": "stdout",
     "output_type": "stream",
     "text": [
      "Host discovery disabled (-Pn). All addresses will be marked 'up' and scan times will be slower.\n",
      "Starting Nmap 7.91 ( https://nmap.org ) at 2021-10-05 02:37 UTC\n",
      "NSE: Loaded 46 scripts for scanning.\n",
      "NSE: Script Pre-scanning.\n",
      "Initiating NSE at 02:37\n",
      "Completed NSE at 02:37, 0.00s elapsed\n",
      "Initiating NSE at 02:37\n",
      "Completed NSE at 02:37, 0.00s elapsed\n",
      "Initiating ARP Ping Scan at 02:37\n",
      "Scanning 10.10.133.181 [1 port]\n",
      "Completed ARP Ping Scan at 02:37, 0.04s elapsed (1 total hosts)\n",
      "Initiating Parallel DNS resolution of 1 host. at 02:37\n",
      "Completed Parallel DNS resolution of 1 host. at 02:37, 0.00s elapsed\n",
      "Initiating SYN Stealth Scan at 02:37\n",
      "Scanning ip-10-10-133-181.eu-west-1.compute.internal (10.10.133.181) [3 ports]\n",
      "Discovered open port 139/tcp on 10.10.133.181\n",
      "Discovered open port 445/tcp on 10.10.133.181\n",
      "Completed SYN Stealth Scan at 02:37, 0.04s elapsed (3 total ports)\n",
      "Initiating Service scan at 02:37\n",
      "Scanning 2 services on ip-10-10-133-181.eu-west-1.compute.internal (10.10.133.181)\n",
      "Completed Service scan at 02:37, 6.18s elapsed (2 services on 1 host)\n",
      "NSE: Script scanning 10.10.133.181.\n",
      "Initiating NSE at 02:37\n",
      "Completed NSE at 02:37, 0.00s elapsed\n",
      "Initiating NSE at 02:37\n",
      "Completed NSE at 02:37, 0.01s elapsed\n",
      "Nmap scan report for ip-10-10-133-181.eu-west-1.compute.internal (10.10.133.181)\n",
      "Host is up (0.0013s latency).\n",
      "Not shown: 1 closed port\n",
      "PORT    STATE SERVICE       VERSION\n",
      "139/tcp open  netbios-ssn   Microsoft Windows netbios-ssn\n",
      "445/tcp open  microsoft-ds?\n",
      "MAC Address: 02:78:B8:6F:29:65 (Unknown)\n",
      "Service Info: OS: Windows; CPE: cpe:/o:microsoft:windows\n",
      "\n",
      "NSE: Script Post-scanning.\n",
      "Initiating NSE at 02:37\n",
      "Completed NSE at 02:37, 0.00s elapsed\n",
      "Initiating NSE at 02:37\n",
      "Completed NSE at 02:37, 0.00s elapsed\n",
      "Read data files from: /usr/bin/../share/nmap\n",
      "Service detection performed. Please report any incorrect results at https://nmap.org/submit/ .\n",
      "Nmap done: 1 IP address (1 host up) scanned in 6.77 seconds\n",
      "           Raw packets sent: 4 (160B) | Rcvd: 6 (236B)\n"
     ]
    }
   ],
   "source": [
    "!nmap -v -sV --open -Pn  -p 137,139,445 --script=smb-ls $TARGET"
   ]
  },
  {
   "cell_type": "code",
   "execution_count": 3,
   "id": "271f01bd-59db-4b97-adc8-ae825cc59ab5",
   "metadata": {},
   "outputs": [
    {
     "name": "stdout",
     "output_type": "stream",
     "text": [
      "Host discovery disabled (-Pn). All addresses will be marked 'up' and scan times will be slower.\n",
      "Starting Nmap 7.91 ( https://nmap.org ) at 2021-10-05 02:37 UTC\n",
      "NSE: Loaded 48 scripts for scanning.\n",
      "NSE: Script Pre-scanning.\n",
      "Initiating NSE at 02:37\n",
      "Completed NSE at 02:37, 0.00s elapsed\n",
      "Initiating NSE at 02:37\n",
      "Completed NSE at 02:37, 0.00s elapsed\n",
      "Initiating ARP Ping Scan at 02:37\n",
      "Scanning 10.10.133.181 [1 port]\n",
      "Completed ARP Ping Scan at 02:37, 0.05s elapsed (1 total hosts)\n",
      "Initiating Parallel DNS resolution of 1 host. at 02:37\n",
      "Completed Parallel DNS resolution of 1 host. at 02:37, 0.00s elapsed\n",
      "Initiating SYN Stealth Scan at 02:37\n",
      "Scanning ip-10-10-133-181.eu-west-1.compute.internal (10.10.133.181) [3 ports]\n",
      "Discovered open port 445/tcp on 10.10.133.181\n",
      "Discovered open port 139/tcp on 10.10.133.181\n",
      "Completed SYN Stealth Scan at 02:37, 0.04s elapsed (3 total ports)\n",
      "Initiating Service scan at 02:37\n",
      "Scanning 2 services on ip-10-10-133-181.eu-west-1.compute.internal (10.10.133.181)\n",
      "Completed Service scan at 02:37, 6.14s elapsed (2 services on 1 host)\n",
      "NSE: Script scanning 10.10.133.181.\n",
      "Initiating NSE at 02:37\n",
      "Completed NSE at 02:37, 0.04s elapsed\n",
      "Initiating NSE at 02:37\n",
      "Completed NSE at 02:37, 0.02s elapsed\n",
      "Nmap scan report for ip-10-10-133-181.eu-west-1.compute.internal (10.10.133.181)\n",
      "Host is up (0.00075s latency).\n",
      "Not shown: 1 closed port\n",
      "PORT    STATE SERVICE       VERSION\n",
      "139/tcp open  netbios-ssn   Microsoft Windows netbios-ssn\n",
      "445/tcp open  microsoft-ds?\n",
      "MAC Address: 02:78:B8:6F:29:65 (Unknown)\n",
      "Service Info: OS: Windows; CPE: cpe:/o:microsoft:windows\n",
      "\n",
      "NSE: Script Post-scanning.\n",
      "Initiating NSE at 02:37\n",
      "Completed NSE at 02:37, 0.00s elapsed\n",
      "Initiating NSE at 02:37\n",
      "Completed NSE at 02:37, 0.00s elapsed\n",
      "Read data files from: /usr/bin/../share/nmap\n",
      "Service detection performed. Please report any incorrect results at https://nmap.org/submit/ .\n",
      "Nmap done: 1 IP address (1 host up) scanned in 6.79 seconds\n",
      "           Raw packets sent: 4 (160B) | Rcvd: 7 (276B)\n"
     ]
    }
   ],
   "source": [
    "!nmap -v -sV --open -Pn  -p 137,139,445 --script=smb-os-discovery,smb-enum-shares,smb-security-mode $TARGET --script-args=smbbasic=1,smbsign=ignore | tee smb_results.txt"
   ]
  },
  {
   "cell_type": "code",
   "execution_count": 4,
   "id": "8ce94cf9-8d82-4161-9b3f-7ffba4712207",
   "metadata": {},
   "outputs": [
    {
     "data": {
      "text/plain": [
       "'guest'"
      ]
     },
     "execution_count": 4,
     "metadata": {},
     "output_type": "execute_result"
    }
   ],
   "source": [
    "import os\n",
    "\n",
    "try:\n",
    "    result = !cat smb_results.txt | grep account_used\n",
    "\n",
    "    anon_user = result[0].split(':')[-1].strip()\n",
    "except:\n",
    "    anon_user = \"guest\"\n",
    "\n",
    "anon_user"
   ]
  },
  {
   "cell_type": "code",
   "execution_count": 10,
   "id": "beb8729d-1cbe-4971-a6f3-c58847a7e312",
   "metadata": {},
   "outputs": [
    {
     "name": "stdout",
     "output_type": "stream",
     "text": [
      "WARNING: polenum is not in your path.  Check that package is installed and your PATH is sane.\n",
      "WARNING: ldapsearch is not in your path.  Check that package is installed and your PATH is sane.\n",
      "Starting enum4linux v0.9.1 ( http://labs.portcullis.co.uk/application/enum4linux/ ) on Tue Oct  5 02:38:49 2021\n",
      "\n",
      "\u001b[34m =========================================( \u001b[0m\u001b[32mTarget Information\u001b[0m\u001b[34m )=========================================\n",
      "\n",
      "\u001b[0mTarget ........... 10.10.133.181\n",
      "RID Range ........ 500-550,1000-1050\n",
      "Username ......... 'guest'\n",
      "Password ......... ''\n",
      "Known Usernames .. administrator, guest, krbtgt, domain admins, root, bin, none\n",
      "\n",
      "\n",
      "\u001b[34m ===========================( \u001b[0m\u001b[32mEnumerating Workgroup/Domain on 10.10.133.181\u001b[0m\u001b[34m )===========================\n",
      "\n",
      "\u001b[0m\u001b[33m\n",
      "[+] \u001b[0m\u001b[32mGot domain/workgroup name: THM-AD\n",
      "\n",
      "\u001b[0m\n",
      "\u001b[34m ===============================( \u001b[0m\u001b[32mNbtstat Information for 10.10.133.181\u001b[0m\u001b[34m )===============================\n",
      "\n",
      "\u001b[0mLooking up status of 10.10.133.181\n",
      "\tATTACKTIVEDIREC <00> -         B <ACTIVE>  Workstation Service\n",
      "\tTHM-AD          <00> - <GROUP> B <ACTIVE>  Domain/Workgroup Name\n",
      "\tTHM-AD          <1c> - <GROUP> B <ACTIVE>  Domain Controllers\n",
      "\tTHM-AD          <1b> -         B <ACTIVE>  Domain Master Browser\n",
      "\tATTACKTIVEDIREC <20> -         B <ACTIVE>  File Server Service\n",
      "\n",
      "\tMAC Address = 02-78-B8-6F-29-65\n",
      "\n",
      "\u001b[34m ===================================( \u001b[0m\u001b[32mSession Check on 10.10.133.181\u001b[0m\u001b[34m )===================================\n",
      "\n",
      "\u001b[0m\u001b[33m\n",
      "[E] \u001b[0m\u001b[31mServer doesn't allow session using username 'guest', password ''.  Aborting remainder of tests.\n",
      "\n",
      "\u001b[0m"
     ]
    }
   ],
   "source": [
    "!./enum4linux.pl -a -u {anon_user} {os.environ['TARGET']}"
   ]
  },
  {
   "cell_type": "code",
   "execution_count": 14,
   "id": "495cc72a-75b3-4d6b-8d4f-dd957ad3c56c",
   "metadata": {},
   "outputs": [
    {
     "name": "stdout",
     "output_type": "stream",
     "text": [
      "Starting enum4linux v0.9.1 ( http://labs.portcullis.co.uk/application/enum4linux/ ) on Tue Oct  5 03:44:43 2021\n",
      "\n",
      "\u001b[34m =========================================( \u001b[0m\u001b[32mTarget Information\u001b[0m\u001b[34m )=========================================\n",
      "\n",
      "\u001b[0mTarget ........... 10.10.133.181\n",
      "RID Range ........ 500-550,1000-1050\n",
      "Username ......... ''\n",
      "Password ......... ''\n",
      "Known Usernames .. administrator, guest, krbtgt, domain admins, root, bin, none\n",
      "\n",
      "\n",
      "\u001b[34m ===========================( \u001b[0m\u001b[32mEnumerating Workgroup/Domain on 10.10.133.181\u001b[0m\u001b[34m )===========================\n",
      "\n",
      "\u001b[0m\u001b[33m\n",
      "[+] \u001b[0m\u001b[32mGot domain/workgroup name: THM-AD\n",
      "\n",
      "\u001b[0m\n",
      "\u001b[34m ===============================( \u001b[0m\u001b[32mNbtstat Information for 10.10.133.181\u001b[0m\u001b[34m )===============================\n",
      "\n",
      "\u001b[0mLooking up status of 10.10.133.181\n",
      "\tATTACKTIVEDIREC <00> -         B <ACTIVE>  Workstation Service\n",
      "\tTHM-AD          <00> - <GROUP> B <ACTIVE>  Domain/Workgroup Name\n",
      "\tTHM-AD          <1c> - <GROUP> B <ACTIVE>  Domain Controllers\n",
      "\tTHM-AD          <1b> -         B <ACTIVE>  Domain Master Browser\n",
      "\tATTACKTIVEDIREC <20> -         B <ACTIVE>  File Server Service\n",
      "\n",
      "\tMAC Address = 02-78-B8-6F-29-65\n",
      "\n",
      "\u001b[34m ===================================( \u001b[0m\u001b[32mSession Check on 10.10.133.181\u001b[0m\u001b[34m )===================================\n",
      "\n",
      "\u001b[0m\u001b[33m\n",
      "[+] \u001b[0m\u001b[32mServer 10.10.133.181 allows sessions using username '', password ''\n",
      "\n",
      "\u001b[0m\n",
      "\u001b[34m ================================( \u001b[0m\u001b[32mGetting domain SID for 10.10.133.181\u001b[0m\u001b[34m )================================\n",
      "\n",
      "\u001b[0mDomain Name: THM-AD\n",
      "Domain Sid: S-1-5-21-3591857110-2884097990-301047963\n",
      "\u001b[33m\n",
      "[+] \u001b[0m\u001b[32mHost is part of a domain (not a workgroup)\n",
      "\n",
      "\u001b[0m\n",
      "\u001b[34m ==================================( \u001b[0m\u001b[32mOS information on 10.10.133.181\u001b[0m\u001b[34m )==================================\n",
      "\n",
      "\u001b[0m\u001b[33m\n",
      "[E] \u001b[0m\u001b[31mCan't get OS info with smbclient\n",
      "\n",
      "\u001b[0m\u001b[33m\n",
      "[+] \u001b[0m\u001b[32mGot OS info for 10.10.133.181 from srvinfo: \n",
      "\u001b[0mCould not initialise srvsvc. Error was NT_STATUS_ACCESS_DENIED\n",
      "\n",
      "\n",
      "\u001b[34m =======================================( \u001b[0m\u001b[32mUsers on 10.10.133.181\u001b[0m\u001b[34m )=======================================\n",
      "\n",
      "\u001b[0m\u001b[33m\n",
      "[E] \u001b[0m\u001b[31mCouldn't find users using querydispinfo: NT_STATUS_ACCESS_DENIED\n",
      "\n",
      "\u001b[0m\n",
      "\u001b[33m\n",
      "[E] \u001b[0m\u001b[31mCouldn't find users using enumdomusers: NT_STATUS_ACCESS_DENIED\n",
      "\n",
      "\u001b[0m\n",
      "\u001b[34m =================================( \u001b[0m\u001b[32mShare Enumeration on 10.10.133.181\u001b[0m\u001b[34m )=================================\n",
      "\n",
      "\u001b[0m\n",
      "\tSharename       Type      Comment\n",
      "\t---------       ----      -------\n",
      "SMB1 disabled -- no workgroup available\n",
      "\u001b[33m\n",
      "[+] \u001b[0m\u001b[32mAttempting to map shares on 10.10.133.181\n",
      "\n",
      "\u001b[0m\n",
      "\u001b[34m ===========================( \u001b[0m\u001b[32mPassword Policy Information for 10.10.133.181\u001b[0m\u001b[34m )===========================\n",
      "\n",
      "\u001b[0m\u001b[33m\n",
      "[E] \u001b[0m\u001b[31mUnexpected error from polenum:\n",
      "\n",
      "\u001b[0m\n",
      "\n",
      "[+] Attaching to 10.10.133.181 using a NULL share\n",
      "\n",
      "[+] Trying protocol 139/SMB...\n",
      "\n",
      "\t[!] Protocol failed: Cannot request session (Called Name:10.10.133.181)\n",
      "\n",
      "[+] Trying protocol 445/SMB...\n",
      "\n",
      "\t[!] Protocol failed: SAMR SessionError: code: 0xc0000022 - STATUS_ACCESS_DENIED - {Access Denied} A process has requested access to an object but has not been granted those access rights.\n",
      "\n",
      "\n",
      "\u001b[33m\n",
      "[E] \u001b[0m\u001b[31mFailed to get password policy with rpcclient\n",
      "\n",
      "\u001b[0m\n",
      "\n",
      "\u001b[34m ======================================( \u001b[0m\u001b[32mGroups on 10.10.133.181\u001b[0m\u001b[34m )======================================\n",
      "\n",
      "\u001b[0m\u001b[33m\n",
      "[+] \u001b[0m\u001b[32mGetting builtin groups:\n",
      "\n",
      "\u001b[0m\u001b[33m\n",
      "[+] \u001b[0m\u001b[32m Getting builtin group memberships:\n",
      "\n",
      "\u001b[0m\u001b[33m\n",
      "[+] \u001b[0m\u001b[32m Getting local groups:\n",
      "\n",
      "\u001b[0m\u001b[33m\n",
      "[+] \u001b[0m\u001b[32m Getting local group memberships:\n",
      "\n",
      "\u001b[0m\u001b[33m\n",
      "[+] \u001b[0m\u001b[32m Getting domain groups:\n",
      "\n",
      "\u001b[0m\u001b[33m\n",
      "[+] \u001b[0m\u001b[32m Getting domain group memberships:\n",
      "\n",
      "\u001b[0m\n",
      "\u001b[34m ==================( \u001b[0m\u001b[32mUsers on 10.10.133.181 via RID cycling (RIDS: 500-550,1000-1050)\u001b[0m\u001b[34m )==================\n",
      "\n",
      "\u001b[0m\u001b[33m\n",
      "[I] \u001b[0m\u001b[36mFound new SID: \n",
      "\u001b[0mS-1-5-21-3591857110-2884097990-301047963\n",
      "\u001b[33m\n",
      "[I] \u001b[0m\u001b[36mFound new SID: \n",
      "\u001b[0mS-1-5-21-3591857110-2884097990-301047963\n",
      "\u001b[33m\n",
      "[+] \u001b[0m\u001b[32mEnumerating users using SID S-1-5-21-3591857110-2884097990-301047963 and logon username '', password ''\n",
      "\n",
      "\u001b[0mS-1-5-21-3591857110-2884097990-301047963-500 THM-AD\\Administrator (Local User)\n",
      "S-1-5-21-3591857110-2884097990-301047963-501 THM-AD\\Guest (Local User)\n",
      "S-1-5-21-3591857110-2884097990-301047963-502 THM-AD\\krbtgt (Local User)\n",
      "S-1-5-21-3591857110-2884097990-301047963-512 THM-AD\\Domain Admins (Domain Group)\n",
      "S-1-5-21-3591857110-2884097990-301047963-513 THM-AD\\Domain Users (Domain Group)\n",
      "S-1-5-21-3591857110-2884097990-301047963-514 THM-AD\\Domain Guests (Domain Group)\n",
      "S-1-5-21-3591857110-2884097990-301047963-515 THM-AD\\Domain Computers (Domain Group)\n",
      "S-1-5-21-3591857110-2884097990-301047963-516 THM-AD\\Domain Controllers (Domain Group)\n",
      "S-1-5-21-3591857110-2884097990-301047963-517 THM-AD\\Cert Publishers (Local Group)\n",
      "S-1-5-21-3591857110-2884097990-301047963-518 THM-AD\\Schema Admins (Domain Group)\n",
      "S-1-5-21-3591857110-2884097990-301047963-519 THM-AD\\Enterprise Admins (Domain Group)\n",
      "S-1-5-21-3591857110-2884097990-301047963-520 THM-AD\\Group Policy Creator Owners (Domain Group)\n",
      "S-1-5-21-3591857110-2884097990-301047963-521 THM-AD\\Read-only Domain Controllers (Domain Group)\n",
      "S-1-5-21-3591857110-2884097990-301047963-522 THM-AD\\Cloneable Domain Controllers (Domain Group)\n",
      "S-1-5-21-3591857110-2884097990-301047963-525 THM-AD\\Protected Users (Domain Group)\n",
      "S-1-5-21-3591857110-2884097990-301047963-526 THM-AD\\Key Admins (Domain Group)\n",
      "S-1-5-21-3591857110-2884097990-301047963-527 THM-AD\\Enterprise Key Admins (Domain Group)\n",
      "S-1-5-21-3591857110-2884097990-301047963-1000 THM-AD\\ATTACKTIVEDIREC$ (Local User)\n",
      "\u001b[33m\n",
      "[+] \u001b[0m\u001b[32mEnumerating users using SID S-1-5-21-3532885019-1334016158-1514108833 and logon username '', password ''\n",
      "\n",
      "\u001b[0mS-1-5-21-3532885019-1334016158-1514108833-500 ATTACKTIVEDIREC\\Administrator (Local User)\n",
      "S-1-5-21-3532885019-1334016158-1514108833-501 ATTACKTIVEDIREC\\Guest (Local User)\n",
      "S-1-5-21-3532885019-1334016158-1514108833-503 ATTACKTIVEDIREC\\DefaultAccount (Local User)\n",
      "S-1-5-21-3532885019-1334016158-1514108833-504 ATTACKTIVEDIREC\\WDAGUtilityAccount (Local User)\n",
      "S-1-5-21-3532885019-1334016158-1514108833-513 ATTACKTIVEDIREC\\None (Domain Group)\n",
      "\n",
      "\u001b[34m ===============================( \u001b[0m\u001b[32mGetting printer info for 10.10.133.181\u001b[0m\u001b[34m )===============================\n",
      "\n",
      "\u001b[0mCould not initialise spoolss. Error was NT_STATUS_ACCESS_DENIED\n",
      "\n",
      "\n",
      "enum4linux complete on Tue Oct  5 03:45:07 2021\n",
      "\n"
     ]
    }
   ],
   "source": [
    "!./enum4linux.pl $TARGET -u svc-admin -p management2005"
   ]
  },
  {
   "cell_type": "code",
   "execution_count": 15,
   "id": "e5648ca8-75fa-47fc-8439-890fca91f590",
   "metadata": {},
   "outputs": [
    {
     "name": "stdout",
     "output_type": "stream",
     "text": [
      "Enter WORKGROUP\\svc-admin's password: "
     ]
    }
   ],
   "source": [
    "!smbclient -L 10.10.133.181 -U svc-admin"
   ]
  },
  {
   "cell_type": "code",
   "execution_count": 7,
   "id": "ff8b062b-0e5d-40fb-a6a8-18576165a8ba",
   "metadata": {},
   "outputs": [
    {
     "name": "stdout",
     "output_type": "stream",
     "text": [
      "env: SHARE=Users\n"
     ]
    }
   ],
   "source": [
    "%env SHARE=Users"
   ]
  },
  {
   "cell_type": "code",
   "execution_count": 8,
   "id": "7731ed9e-b27b-49ce-9a9c-24d14e60f3d6",
   "metadata": {},
   "outputs": [
    {
     "name": "stdout",
     "output_type": "stream",
     "text": [
      "Run this:\n",
      "cd '/workspace/ctf-notebooks'\n",
      "smbclient //10.10.133.181/Users -U guest\n"
     ]
    }
   ],
   "source": [
    "!echo Run this:\n",
    "!echo cd \\'$(pwd)\\'\n",
    "!echo smbclient //$TARGET/$SHARE -U guest"
   ]
  },
  {
   "cell_type": "code",
   "execution_count": 9,
   "id": "59613e52-7f58-429e-932c-b43edc35d829",
   "metadata": {},
   "outputs": [
    {
     "ename": "TypeError",
     "evalue": "show_term() missing 1 required positional argument: 'ip'",
     "output_type": "error",
     "traceback": [
      "\u001b[0;31m---------------------------------------------------------------------------\u001b[0m",
      "\u001b[0;31mTypeError\u001b[0m                                 Traceback (most recent call last)",
      "\u001b[0;32m/tmp/ipykernel_244/1246063979.py\u001b[0m in \u001b[0;36m<module>\u001b[0;34m\u001b[0m\n\u001b[1;32m      1\u001b[0m \u001b[0;32mfrom\u001b[0m \u001b[0mweb_footprinting_utils\u001b[0m \u001b[0;32mimport\u001b[0m \u001b[0mshow_term\u001b[0m\u001b[0;34m\u001b[0m\u001b[0;34m\u001b[0m\u001b[0m\n\u001b[1;32m      2\u001b[0m \u001b[0;34m\u001b[0m\u001b[0m\n\u001b[0;32m----> 3\u001b[0;31m \u001b[0mshow_term\u001b[0m\u001b[0;34m(\u001b[0m\u001b[0;34m)\u001b[0m\u001b[0;34m\u001b[0m\u001b[0;34m\u001b[0m\u001b[0m\n\u001b[0m",
      "\u001b[0;31mTypeError\u001b[0m: show_term() missing 1 required positional argument: 'ip'"
     ]
    }
   ],
   "source": [
    "from web_footprinting_utils import show_term\n",
    "\n",
    "show_term()"
   ]
  },
  {
   "cell_type": "markdown",
   "id": "327a1317-eaa4-45e2-b771-152a7ddd740d",
   "metadata": {},
   "source": [
    "#### Use ls, get, cd to pull down any needed files in SMB..."
   ]
  },
  {
   "cell_type": "code",
   "execution_count": null,
   "id": "325c30c0-5b52-4aba-bd80-9e3390b94736",
   "metadata": {},
   "outputs": [],
   "source": [
    "!ls"
   ]
  },
  {
   "cell_type": "code",
   "execution_count": null,
   "id": "1c3a562d-a81b-4e1f-a5f4-962257726baa",
   "metadata": {
    "tags": []
   },
   "outputs": [],
   "source": [
    "!cat log.txt"
   ]
  },
  {
   "cell_type": "markdown",
   "id": "b0ecc06b-a7c4-4bf8-abe7-425a4b38defa",
   "metadata": {
    "jp-MarkdownHeadingCollapsed": true,
    "tags": []
   },
   "source": [
    "# NFS Anonymous Mounting:"
   ]
  },
  {
   "cell_type": "code",
   "execution_count": null,
   "id": "0492f285-b455-4edd-b3eb-1aadb42387ff",
   "metadata": {},
   "outputs": [],
   "source": [
    "from getpass import getpass\n",
    "import os\n",
    "\n",
    "%env RDIR = /var"
   ]
  },
  {
   "cell_type": "code",
   "execution_count": null,
   "id": "73745c96-001a-4ad3-9fb8-9288ba2bdc09",
   "metadata": {},
   "outputs": [],
   "source": [
    "# !mkdir -p my_mount\n",
    "# !echo { getpass() } | sudo -S sudo mount {os.environ['TARGET']}:{os.environ['RDIR']} my_mount\n",
    "# !ls -la my_mount"
   ]
  },
  {
   "cell_type": "markdown",
   "id": "f115675d-e198-4d00-a50b-48e09f525ba0",
   "metadata": {
    "tags": []
   },
   "source": [
    "# SQL Map:"
   ]
  },
  {
   "cell_type": "code",
   "execution_count": null,
   "id": "c7df2415-8125-4f69-beba-462d0efbf3fb",
   "metadata": {},
   "outputs": [],
   "source": [
    "!sqlmap -r bugle_user.txt --dbms=mariadb --dump --batch"
   ]
  },
  {
   "cell_type": "code",
   "execution_count": null,
   "id": "30839a99-5f75-4813-8fea-9f4d6dea2eff",
   "metadata": {},
   "outputs": [],
   "source": [
    "!sqlmap -r bugle_admin.txt --dbms=mariadb --dump --batch"
   ]
  },
  {
   "cell_type": "code",
   "execution_count": null,
   "id": "7adb8392-3cb5-4535-bcef-416d04fcd97c",
   "metadata": {},
   "outputs": [],
   "source": [
    "!sqlmap -r bugle_admin.txt --dbms=mariadb --dump --batch --level=5"
   ]
  },
  {
   "cell_type": "markdown",
   "id": "e2e5b3a6-ae0d-4d7c-a2dd-afbc3eeb489b",
   "metadata": {},
   "source": [
    "# FTP:"
   ]
  },
  {
   "cell_type": "markdown",
   "id": "0f7b1b1c-296c-4039-9542-7f784236cb98",
   "metadata": {},
   "source": [
    "ftp 10.10.28.39\n",
    "\n",
    "anonymous\n",
    "\n",
    "no password"
   ]
  },
  {
   "cell_type": "markdown",
   "id": "1e283a13-9fec-48af-b58c-8d1aed40b4ad",
   "metadata": {},
   "source": [
    "#### remember to enable binary mode to download binaries:\n",
    "\n",
    "binary"
   ]
  },
  {
   "cell_type": "code",
   "execution_count": null,
   "id": "f8383462-e93d-4a36-9073-e11377cf5959",
   "metadata": {},
   "outputs": [],
   "source": []
  }
 ],
 "metadata": {
  "kernelspec": {
   "display_name": "Python 3 (ipykernel)",
   "language": "python",
   "name": "python3"
  },
  "language_info": {
   "codemirror_mode": {
    "name": "ipython",
    "version": 3
   },
   "file_extension": ".py",
   "mimetype": "text/x-python",
   "name": "python",
   "nbconvert_exporter": "python",
   "pygments_lexer": "ipython3",
   "version": "3.9.5"
  }
 },
 "nbformat": 4,
 "nbformat_minor": 5
}
