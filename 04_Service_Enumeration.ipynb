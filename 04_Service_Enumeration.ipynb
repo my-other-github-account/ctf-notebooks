{
 "cells": [
  {
   "cell_type": "markdown",
   "id": "0c48b964-c29a-490b-afaf-9fe29dbca0bd",
   "metadata": {},
   "source": [
    "# ASSIGNMENT"
   ]
  },
  {
   "cell_type": "markdown",
   "id": "62095b45-eb51-4cfd-8f65-71ec3e575db9",
   "metadata": {},
   "source": [
    "# Service Enumeration:"
   ]
  },
  {
   "cell_type": "code",
   "execution_count": 1,
   "id": "c46c7063-380b-4802-84fe-c65b0f6c47a6",
   "metadata": {},
   "outputs": [
    {
     "name": "stdout",
     "output_type": "stream",
     "text": [
      "env: TARGET=10.11.1.17\n"
     ]
    }
   ],
   "source": [
    "%env TARGET=10.11.1.17"
   ]
  },
  {
   "cell_type": "markdown",
   "id": "0d326b74-d767-4baa-9ebe-57984c5ca3df",
   "metadata": {
    "tags": []
   },
   "source": [
    "# SMB:"
   ]
  },
  {
   "cell_type": "code",
   "execution_count": 2,
   "id": "3e707234-9bfd-441d-a6f6-7c58a11c0663",
   "metadata": {},
   "outputs": [
    {
     "name": "stdout",
     "output_type": "stream",
     "text": [
      "Host discovery disabled (-Pn). All addresses will be marked 'up' and scan times will be slower.\n",
      "Starting Nmap 7.91 ( https://nmap.org ) at 2021-10-27 15:15 PDT\n",
      "NSE: Loaded 46 scripts for scanning.\n",
      "NSE: Script Pre-scanning.\n",
      "Initiating NSE at 15:15\n",
      "Completed NSE at 15:15, 0.00s elapsed\n",
      "Initiating NSE at 15:15\n",
      "Completed NSE at 15:15, 0.00s elapsed\n",
      "Initiating Parallel DNS resolution of 1 host. at 15:15\n",
      "Completed Parallel DNS resolution of 1 host. at 15:15, 0.01s elapsed\n",
      "Initiating Connect Scan at 15:15\n",
      "Scanning 10.11.1.17 [3 ports]\n",
      "Discovered open port 445/tcp on 10.11.1.17\n",
      "Discovered open port 139/tcp on 10.11.1.17\n",
      "Completed Connect Scan at 15:15, 2.06s elapsed (3 total ports)\n",
      "Initiating Service scan at 15:15\n",
      "Scanning 2 services on 10.11.1.17\n",
      "Completed Service scan at 15:15, 11.22s elapsed (2 services on 1 host)\n",
      "NSE: Script scanning 10.11.1.17.\n",
      "Initiating NSE at 15:15\n",
      "Completed NSE at 15:15, 0.01s elapsed\n",
      "Initiating NSE at 15:15\n",
      "Completed NSE at 15:15, 0.00s elapsed\n",
      "Nmap scan report for 10.11.1.17\n",
      "Host is up (0.061s latency).\n",
      "Not shown: 1 closed port\n",
      "PORT    STATE SERVICE     VERSION\n",
      "139/tcp open  netbios-ssn Samba smbd 3.X - 4.X (workgroup: WORKGROUP)\n",
      "445/tcp open  netbios-ssn Samba smbd 3.X - 4.X (workgroup: WORKGROUP)\n",
      "Service Info: Host: PBX\n",
      "\n",
      "NSE: Script Post-scanning.\n",
      "Initiating NSE at 15:15\n",
      "Completed NSE at 15:15, 0.00s elapsed\n",
      "Initiating NSE at 15:15\n",
      "Completed NSE at 15:15, 0.00s elapsed\n",
      "Read data files from: /usr/bin/../share/nmap\n",
      "Service detection performed. Please report any incorrect results at https://nmap.org/submit/ .\n",
      "Nmap done: 1 IP address (1 host up) scanned in 13.54 seconds\n"
     ]
    }
   ],
   "source": [
    "!nmap -v -sV --open -Pn  -p 137,139,445 --script=smb-ls $TARGET"
   ]
  },
  {
   "cell_type": "code",
   "execution_count": 3,
   "id": "271f01bd-59db-4b97-adc8-ae825cc59ab5",
   "metadata": {},
   "outputs": [
    {
     "name": "stdout",
     "output_type": "stream",
     "text": [
      "Host discovery disabled (-Pn). All addresses will be marked 'up' and scan times will be slower.\n",
      "Starting Nmap 7.91 ( https://nmap.org ) at 2021-10-27 15:15 PDT\n",
      "NSE: Loaded 48 scripts for scanning.\n",
      "NSE: Script Pre-scanning.\n",
      "Initiating NSE at 15:15\n",
      "Completed NSE at 15:15, 0.00s elapsed\n",
      "Initiating NSE at 15:15\n",
      "Completed NSE at 15:15, 0.00s elapsed\n",
      "Initiating Parallel DNS resolution of 1 host. at 15:15\n",
      "Completed Parallel DNS resolution of 1 host. at 15:15, 0.01s elapsed\n",
      "Initiating Connect Scan at 15:15\n",
      "Scanning 10.11.1.17 [3 ports]\n",
      "Discovered open port 445/tcp on 10.11.1.17\n",
      "Discovered open port 139/tcp on 10.11.1.17\n",
      "Completed Connect Scan at 15:15, 0.06s elapsed (3 total ports)\n",
      "Initiating Service scan at 15:15\n",
      "Scanning 2 services on 10.11.1.17\n",
      "Completed Service scan at 15:15, 11.21s elapsed (2 services on 1 host)\n",
      "NSE: Script scanning 10.11.1.17.\n",
      "Initiating NSE at 15:15\n",
      "Completed NSE at 15:15, 6.97s elapsed\n",
      "Initiating NSE at 15:15\n",
      "Completed NSE at 15:15, 0.00s elapsed\n",
      "Nmap scan report for 10.11.1.17\n",
      "Host is up (0.059s latency).\n",
      "Not shown: 1 closed port\n",
      "PORT    STATE SERVICE     VERSION\n",
      "139/tcp open  netbios-ssn Samba smbd 3.X - 4.X (workgroup: WORKGROUP)\n",
      "445/tcp open  netbios-ssn Samba smbd 4.1.6-Ubuntu (workgroup: WORKGROUP)\n",
      "Service Info: Host: PBX\n",
      "\n",
      "Host script results:\n",
      "| smb-enum-shares: \n",
      "|   account_used: guest\n",
      "|   \\\\10.11.1.17\\IPC$: \n",
      "|     Type: STYPE_IPC_HIDDEN\n",
      "|     Comment: IPC Service (pbx server (Samba, Ubuntu))\n",
      "|     Users: 3\n",
      "|     Max Users: <unlimited>\n",
      "|     Path: C:\\tmp\n",
      "|     Anonymous access: READ/WRITE\n",
      "|     Current user access: READ/WRITE\n",
      "|   \\\\10.11.1.17\\print$: \n",
      "|     Type: STYPE_DISKTREE\n",
      "|     Comment: Printer Drivers\n",
      "|     Users: 0\n",
      "|     Max Users: <unlimited>\n",
      "|     Path: C:\\var\\lib\\samba\\printers\n",
      "|     Anonymous access: <none>\n",
      "|_    Current user access: <none>\n",
      "| smb-os-discovery: \n",
      "|   OS: Unix (Samba 4.1.6-Ubuntu)\n",
      "|   NetBIOS computer name: PBX\\x00\n",
      "|   Workgroup: WORKGROUP\\x00\n",
      "|_  System time: 2021-10-28T00:15:52+02:00\n",
      "| smb-security-mode: \n",
      "|   account_used: guest\n",
      "|   authentication_level: user\n",
      "|   challenge_response: supported\n",
      "|_  message_signing: disabled (dangerous, but default)\n",
      "\n",
      "NSE: Script Post-scanning.\n",
      "Initiating NSE at 15:15\n",
      "Completed NSE at 15:15, 0.00s elapsed\n",
      "Initiating NSE at 15:15\n",
      "Completed NSE at 15:15, 0.00s elapsed\n",
      "Read data files from: /usr/bin/../share/nmap\n",
      "Service detection performed. Please report any incorrect results at https://nmap.org/submit/ .\n",
      "Nmap done: 1 IP address (1 host up) scanned in 18.49 seconds\n"
     ]
    }
   ],
   "source": [
    "!nmap -v -sV --open -Pn  -p 137,139,445 --script=smb-os-discovery,smb-enum-shares,smb-security-mode $TARGET --script-args=smbbasic=1,smbsign=ignore | tee smb_results.txt"
   ]
  },
  {
   "cell_type": "code",
   "execution_count": 4,
   "id": "8ce94cf9-8d82-4161-9b3f-7ffba4712207",
   "metadata": {},
   "outputs": [
    {
     "data": {
      "text/plain": [
       "'guest'"
      ]
     },
     "execution_count": 4,
     "metadata": {},
     "output_type": "execute_result"
    }
   ],
   "source": [
    "import os\n",
    "\n",
    "try:\n",
    "    result = !cat smb_results.txt | grep account_used\n",
    "\n",
    "    anon_user = result[0].split(':')[-1].strip()\n",
    "except:\n",
    "    anon_user = \"guest\"\n",
    "\n",
    "if anon_user == '<blank>':\n",
    "    anon_user = \"guest\"\n",
    "anon_user"
   ]
  },
  {
   "cell_type": "code",
   "execution_count": 5,
   "id": "beb8729d-1cbe-4971-a6f3-c58847a7e312",
   "metadata": {},
   "outputs": [
    {
     "name": "stdout",
     "output_type": "stream",
     "text": [
      "Starting enum4linux v0.9.1 ( http://labs.portcullis.co.uk/application/enum4linux/ ) on Wed Oct 27 15:15:58 2021\n",
      "\n",
      "\u001b[34m =========================================( \u001b[0m\u001b[32mTarget Information\u001b[0m\u001b[34m )=========================================\n",
      "\n",
      "\u001b[0mTarget ........... 10.11.1.17\n",
      "RID Range ........ 500-550,1000-1050\n",
      "Username ......... 'guest'\n",
      "Password ......... ''\n",
      "Known Usernames .. administrator, guest, krbtgt, domain admins, root, bin, none\n",
      "\n",
      "\n",
      "\u001b[34m =============================( \u001b[0m\u001b[32mEnumerating Workgroup/Domain on 10.11.1.17\u001b[0m\u001b[34m )=============================\n",
      "\n",
      "\u001b[0m\u001b[33m\n",
      "[+] \u001b[0m\u001b[32mGot domain/workgroup name: WORKGROUP\n",
      "\n",
      "\u001b[0m\n",
      "\u001b[34m =================================( \u001b[0m\u001b[32mNbtstat Information for 10.11.1.17\u001b[0m\u001b[34m )=================================\n",
      "\n",
      "\u001b[0mLooking up status of 10.11.1.17\n",
      "\tPBX             <00> -         B <ACTIVE>  Workstation Service\n",
      "\tPBX             <03> -         B <ACTIVE>  Messenger Service\n",
      "\tPBX             <20> -         B <ACTIVE>  File Server Service\n",
      "\tWORKGROUP       <00> - <GROUP> B <ACTIVE>  Domain/Workgroup Name\n",
      "\tWORKGROUP       <1e> - <GROUP> B <ACTIVE>  Browser Service Elections\n",
      "\n",
      "\tMAC Address = 00-00-00-00-00-00\n",
      "\n",
      "\u001b[34m ====================================( \u001b[0m\u001b[32mSession Check on 10.11.1.17\u001b[0m\u001b[34m )====================================\n",
      "\n",
      "\u001b[0m\u001b[33m\n",
      "[+] \u001b[0m\u001b[32mServer 10.11.1.17 allows sessions using username 'guest', password ''\n",
      "\n",
      "\u001b[0m\n",
      "\u001b[34m =================================( \u001b[0m\u001b[32mGetting domain SID for 10.11.1.17\u001b[0m\u001b[34m )=================================\n",
      "\n",
      "\u001b[0mBad SMB2 signature for message\n",
      "[0000] 00 00 00 00 00 00 00 00   00 00 00 00 00 00 00 00   ........ ........\n",
      "[0000] FF 74 E4 14 07 29 65 F5   DA 2B 44 18 E3 FA 9C 4E   .t...)e. .+D....N\n",
      "Cannot connect to server.  Error was NT_STATUS_ACCESS_DENIED\n",
      "\u001b[33m\n",
      "[+] \u001b[0m\u001b[32mCan't determine if host is part of domain or part of a workgroup\n",
      "\n",
      "\u001b[0m\n",
      "\u001b[34m ====================================( \u001b[0m\u001b[32mOS information on 10.11.1.17\u001b[0m\u001b[34m )====================================\n",
      "\n",
      "\u001b[0m\u001b[33m\n",
      "[E] \u001b[0m\u001b[31mCan't get OS info with smbclient\n",
      "\n",
      "\u001b[0m\u001b[33m\n",
      "[+] \u001b[0m\u001b[32mGot OS info for 10.11.1.17 from srvinfo: \n",
      "\u001b[0mBad SMB2 signature for message\n",
      "[0000] 00 00 00 00 00 00 00 00   00 00 00 00 00 00 00 00   ........ ........\n",
      "[0000] 92 09 D6 69 E5 42 6A B1   FE D5 28 26 5D 08 88 BF   ...i.Bj. ..(&]...\n",
      "Cannot connect to server.  Error was NT_STATUS_ACCESS_DENIED\n",
      "\n",
      "\n",
      "\u001b[34m ========================================( \u001b[0m\u001b[32mUsers on 10.11.1.17\u001b[0m\u001b[34m )========================================\n",
      "\n",
      "\u001b[0m\u001b[33m\n",
      "[E] \u001b[0m\u001b[31mCouldn't find users using querydispinfo: NT_STATUS_ACCESS_DENIED\n",
      "\n",
      "\u001b[0m\n",
      "\u001b[33m\n",
      "[E] \u001b[0m\u001b[31mCouldn't find users using enumdomusers: NT_STATUS_ACCESS_DENIED\n",
      "\n",
      "\u001b[0m\n",
      "\u001b[34m ==================================( \u001b[0m\u001b[32mShare Enumeration on 10.11.1.17\u001b[0m\u001b[34m )==================================\n",
      "\n",
      "\u001b[0m\n",
      "\tSharename       Type      Comment\n",
      "\t---------       ----      -------\n",
      "\tprint$          Disk      Printer Drivers\n",
      "\tIPC$            IPC       IPC Service (pbx server (Samba, Ubuntu))\n",
      "SMB1 disabled -- no workgroup available\n",
      "\u001b[33m\n",
      "[+] \u001b[0m\u001b[32mAttempting to map shares on 10.11.1.17\n",
      "\n",
      "\u001b[0m//10.11.1.17/print$\t\u001b[35mMapping: \u001b[0mDENIED\u001b[35m Listing: \u001b[0mN/A\u001b[35m Writing: \u001b[0mN/A\n",
      "\u001b[33m\n",
      "[E] \u001b[0m\u001b[31mCan't understand response:\n",
      "\n",
      "\u001b[0mNT_STATUS_OBJECT_NAME_NOT_FOUND listing \\*\n",
      "//10.11.1.17/IPC$\t\u001b[35mMapping: \u001b[0mN/A\u001b[35m Listing: \u001b[0mN/A\u001b[35m Writing: \u001b[0mN/A\n",
      "\n",
      "\u001b[34m =============================( \u001b[0m\u001b[32mPassword Policy Information for 10.11.1.17\u001b[0m\u001b[34m )=============================\n",
      "\n",
      "\u001b[0m\n",
      "\n",
      "[+] Attaching to 10.11.1.17 using guest\n",
      "\n",
      "[+] Trying protocol 139/SMB...\n",
      "\n",
      "[+] Found domain(s):\n",
      "\n",
      "\t[+] PBX\n",
      "\t[+] Builtin\n",
      "\n",
      "[+] Password Info for Domain: PBX\n",
      "\n",
      "\t[+] Minimum password length: 5\n",
      "\t[+] Password history length: None\n",
      "\t[+] Maximum password age: 37 days 6 hours 21 minutes \n",
      "\t[+] Password Complexity Flags: 000000\n",
      "\n",
      "\t\t[+] Domain Refuse Password Change: 0\n",
      "\t\t[+] Domain Password Store Cleartext: 0\n",
      "\t\t[+] Domain Password Lockout Admins: 0\n",
      "\t\t[+] Domain Password No Clear Change: 0\n",
      "\t\t[+] Domain Password No Anon Change: 0\n",
      "\t\t[+] Domain Password Complex: 0\n",
      "\n",
      "\t[+] Minimum password age: None\n",
      "\t[+] Reset Account Lockout Counter: 30 minutes \n",
      "\t[+] Locked Account Duration: 30 minutes \n",
      "\t[+] Account Lockout Threshold: None\n",
      "\t[+] Forced Log off Time: 37 days 6 hours 21 minutes \n",
      "\n",
      "\n",
      "\u001b[33m\n",
      "[E] \u001b[0m\u001b[31mFailed to get password policy with rpcclient\n",
      "\n",
      "\u001b[0m\n",
      "\n",
      "\u001b[34m ========================================( \u001b[0m\u001b[32mGroups on 10.11.1.17\u001b[0m\u001b[34m )========================================\n",
      "\n",
      "\u001b[0m\u001b[33m\n",
      "[+] \u001b[0m\u001b[32mGetting builtin groups:\n",
      "\n",
      "\u001b[0m\u001b[33m\n",
      "[+] \u001b[0m\u001b[32m Getting builtin group memberships:\n",
      "\n",
      "\u001b[0m\u001b[33m\n",
      "[+] \u001b[0m\u001b[32m Getting local groups:\n",
      "\n",
      "\u001b[0m\u001b[33m\n",
      "[+] \u001b[0m\u001b[32m Getting local group memberships:\n",
      "\n",
      "\u001b[0m\u001b[33m\n",
      "[+] \u001b[0m\u001b[32m Getting domain groups:\n",
      "\n",
      "\u001b[0m\u001b[33m\n",
      "[+] \u001b[0m\u001b[32m Getting domain group memberships:\n",
      "\n",
      "\u001b[0m\n",
      "\u001b[34m ===================( \u001b[0m\u001b[32mUsers on 10.11.1.17 via RID cycling (RIDS: 500-550,1000-1050)\u001b[0m\u001b[34m )===================\n",
      "\n",
      "\u001b[0m\u001b[33m\n",
      "[E] \u001b[0m\u001b[31mCouldn't get SID: NT_STATUS_ACCESS_DENIED.  RID cycling not possible.\n",
      "\n",
      "\u001b[0m\n",
      "\u001b[34m ================================( \u001b[0m\u001b[32mGetting printer info for 10.11.1.17\u001b[0m\u001b[34m )================================\n",
      "\n",
      "\u001b[0mBad SMB2 signature for message\n",
      "[0000] 00 00 00 00 00 00 00 00   00 00 00 00 00 00 00 00   ........ ........\n",
      "[0000] 0A B2 1F CC 9F A0 DF F1   BB 55 60 EF 64 AF CF 6C   ........ .U`.d..l\n",
      "Cannot connect to server.  Error was NT_STATUS_ACCESS_DENIED\n",
      "\n",
      "\n",
      "enum4linux complete on Wed Oct 27 15:16:07 2021\n",
      "\n"
     ]
    }
   ],
   "source": [
    "!~/hax/enum4linux.pl -a -u {anon_user} {os.environ['TARGET']}"
   ]
  },
  {
   "cell_type": "code",
   "execution_count": 6,
   "id": "495cc72a-75b3-4d6b-8d4f-dd957ad3c56c",
   "metadata": {},
   "outputs": [
    {
     "name": "stdout",
     "output_type": "stream",
     "text": [
      "Starting enum4linux v0.9.1 ( http://labs.portcullis.co.uk/application/enum4linux/ ) on Wed Oct 27 15:16:07 2021\n",
      "\n",
      "\u001b[34m =========================================( \u001b[0m\u001b[32mTarget Information\u001b[0m\u001b[34m )=========================================\n",
      "\n",
      "\u001b[0mTarget ........... 10.11.1.17\n",
      "RID Range ........ 500-550,1000-1050\n",
      "Username ......... ''\n",
      "Password ......... ''\n",
      "Known Usernames .. administrator, guest, krbtgt, domain admins, root, bin, none\n",
      "\n",
      "\n",
      "\u001b[34m =============================( \u001b[0m\u001b[32mEnumerating Workgroup/Domain on 10.11.1.17\u001b[0m\u001b[34m )=============================\n",
      "\n",
      "\u001b[0m\u001b[33m\n",
      "[+] \u001b[0m\u001b[32mGot domain/workgroup name: WORKGROUP\n",
      "\n",
      "\u001b[0m\n",
      "\u001b[34m =================================( \u001b[0m\u001b[32mNbtstat Information for 10.11.1.17\u001b[0m\u001b[34m )=================================\n",
      "\n",
      "\u001b[0mLooking up status of 10.11.1.17\n",
      "\tPBX             <00> -         B <ACTIVE>  Workstation Service\n",
      "\tPBX             <03> -         B <ACTIVE>  Messenger Service\n",
      "\tPBX             <20> -         B <ACTIVE>  File Server Service\n",
      "\tWORKGROUP       <00> - <GROUP> B <ACTIVE>  Domain/Workgroup Name\n",
      "\tWORKGROUP       <1e> - <GROUP> B <ACTIVE>  Browser Service Elections\n",
      "\n",
      "\tMAC Address = 00-00-00-00-00-00\n",
      "\n",
      "\u001b[34m ====================================( \u001b[0m\u001b[32mSession Check on 10.11.1.17\u001b[0m\u001b[34m )====================================\n",
      "\n",
      "\u001b[0m\u001b[33m\n",
      "[+] \u001b[0m\u001b[32mServer 10.11.1.17 allows sessions using username '', password ''\n",
      "\n",
      "\u001b[0m\n",
      "\u001b[34m =================================( \u001b[0m\u001b[32mGetting domain SID for 10.11.1.17\u001b[0m\u001b[34m )=================================\n",
      "\n",
      "\u001b[0mDomain Name: WORKGROUP\n",
      "Domain Sid: (NULL SID)\n",
      "\u001b[33m\n",
      "[+] \u001b[0m\u001b[32mCan't determine if host is part of domain or part of a workgroup\n",
      "\n",
      "\u001b[0m\n",
      "\u001b[34m ====================================( \u001b[0m\u001b[32mOS information on 10.11.1.17\u001b[0m\u001b[34m )====================================\n",
      "\n",
      "\u001b[0m\u001b[33m\n",
      "[E] \u001b[0m\u001b[31mCan't get OS info with smbclient\n",
      "\n",
      "\u001b[0m\u001b[33m\n",
      "[+] \u001b[0m\u001b[32mGot OS info for 10.11.1.17 from srvinfo: \n",
      "\u001b[0m\tPBX            Wk Sv PrQ Unx NT SNT pbx server (Samba, Ubuntu)\n",
      "\tplatform_id     :\t500\n",
      "\tos version      :\t4.9\n",
      "\tserver type     :\t0x809a03\n",
      "\n",
      "\n",
      "\u001b[34m ========================================( \u001b[0m\u001b[32mUsers on 10.11.1.17\u001b[0m\u001b[34m )========================================\n",
      "\n",
      "\u001b[0mindex: 0x1 RID: 0x3e8 acb: 0x00000010 Account: pbx\tName: pbx\tDesc: \n",
      "\n",
      "user:[pbx] rid:[0x3e8]\n",
      "\n",
      "\u001b[34m ==================================( \u001b[0m\u001b[32mShare Enumeration on 10.11.1.17\u001b[0m\u001b[34m )==================================\n",
      "\n",
      "\u001b[0m\n",
      "\tSharename       Type      Comment\n",
      "\t---------       ----      -------\n",
      "\tprint$          Disk      Printer Drivers\n",
      "\tIPC$            IPC       IPC Service (pbx server (Samba, Ubuntu))\n",
      "SMB1 disabled -- no workgroup available\n",
      "\u001b[33m\n",
      "[+] \u001b[0m\u001b[32mAttempting to map shares on 10.11.1.17\n",
      "\n",
      "\u001b[0m//10.11.1.17/print$\t\u001b[35mMapping: \u001b[0mDENIED\u001b[35m Listing: \u001b[0mN/A\u001b[35m Writing: \u001b[0mN/A\n",
      "\u001b[33m\n",
      "[E] \u001b[0m\u001b[31mCan't understand response:\n",
      "\n",
      "\u001b[0mNT_STATUS_OBJECT_NAME_NOT_FOUND listing \\*\n",
      "//10.11.1.17/IPC$\t\u001b[35mMapping: \u001b[0mN/A\u001b[35m Listing: \u001b[0mN/A\u001b[35m Writing: \u001b[0mN/A\n",
      "\n",
      "\u001b[34m =============================( \u001b[0m\u001b[32mPassword Policy Information for 10.11.1.17\u001b[0m\u001b[34m )=============================\n",
      "\n",
      "\u001b[0m\n",
      "\n",
      "[+] Attaching to 10.11.1.17 using a NULL share\n",
      "\n",
      "[+] Trying protocol 139/SMB...\n",
      "\n",
      "[+] Found domain(s):\n",
      "\n",
      "\t[+] PBX\n",
      "\t[+] Builtin\n",
      "\n",
      "[+] Password Info for Domain: PBX\n",
      "\n",
      "\t[+] Minimum password length: 5\n",
      "\t[+] Password history length: None\n",
      "\t[+] Maximum password age: 37 days 6 hours 21 minutes \n",
      "\t[+] Password Complexity Flags: 000000\n",
      "\n",
      "\t\t[+] Domain Refuse Password Change: 0\n",
      "\t\t[+] Domain Password Store Cleartext: 0\n",
      "\t\t[+] Domain Password Lockout Admins: 0\n",
      "\t\t[+] Domain Password No Clear Change: 0\n",
      "\t\t[+] Domain Password No Anon Change: 0\n",
      "\t\t[+] Domain Password Complex: 0\n",
      "\n",
      "\t[+] Minimum password age: None\n",
      "\t[+] Reset Account Lockout Counter: 30 minutes \n",
      "\t[+] Locked Account Duration: 30 minutes \n",
      "\t[+] Account Lockout Threshold: None\n",
      "\t[+] Forced Log off Time: 37 days 6 hours 21 minutes \n",
      "\n",
      "\n",
      "\u001b[33m\n",
      "[+] \u001b[0m\u001b[32mRetieved partial password policy with rpcclient:\n",
      "\n",
      "\n",
      "\u001b[0mPassword Complexity: Disabled\n",
      "Minimum Password Length: 5\n",
      "\n",
      "\n",
      "\u001b[34m ========================================( \u001b[0m\u001b[32mGroups on 10.11.1.17\u001b[0m\u001b[34m )========================================\n",
      "\n",
      "\u001b[0m\u001b[33m\n",
      "[+] \u001b[0m\u001b[32mGetting builtin groups:\n",
      "\n",
      "\u001b[0m\u001b[33m\n",
      "[+] \u001b[0m\u001b[32m Getting builtin group memberships:\n",
      "\n",
      "\u001b[0m\u001b[33m\n",
      "[+] \u001b[0m\u001b[32m Getting local groups:\n",
      "\n",
      "\u001b[0m\u001b[33m\n",
      "[+] \u001b[0m\u001b[32m Getting local group memberships:\n",
      "\n",
      "\u001b[0m\u001b[33m\n",
      "[+] \u001b[0m\u001b[32m Getting domain groups:\n",
      "\n",
      "\u001b[0m\u001b[33m\n",
      "[+] \u001b[0m\u001b[32m Getting domain group memberships:\n",
      "\n",
      "\u001b[0m\n",
      "\u001b[34m ===================( \u001b[0m\u001b[32mUsers on 10.11.1.17 via RID cycling (RIDS: 500-550,1000-1050)\u001b[0m\u001b[34m )===================\n",
      "\n",
      "\u001b[0m\u001b[33m\n",
      "[I] \u001b[0m\u001b[36mFound new SID: \n",
      "\u001b[0mS-1-22-1\n",
      "\u001b[33m\n",
      "[I] \u001b[0m\u001b[36mFound new SID: \n",
      "\u001b[0mS-1-5-32\n",
      "\u001b[33m\n",
      "[I] \u001b[0m\u001b[36mFound new SID: \n",
      "\u001b[0mS-1-5-32\n",
      "\u001b[33m\n",
      "[I] \u001b[0m\u001b[36mFound new SID: \n",
      "\u001b[0mS-1-5-32\n",
      "\u001b[33m\n",
      "[I] \u001b[0m\u001b[36mFound new SID: \n",
      "\u001b[0mS-1-5-32\n",
      "\u001b[33m\n",
      "[+] \u001b[0m\u001b[32mEnumerating users using SID S-1-5-32 and logon username '', password ''\n",
      "\n",
      "\u001b[0mS-1-5-32-544 BUILTIN\\Administrators (Local Group)\n",
      "S-1-5-32-545 BUILTIN\\Users (Local Group)\n",
      "S-1-5-32-546 BUILTIN\\Guests (Local Group)\n",
      "S-1-5-32-547 BUILTIN\\Power Users (Local Group)\n",
      "S-1-5-32-548 BUILTIN\\Account Operators (Local Group)\n",
      "S-1-5-32-549 BUILTIN\\Server Operators (Local Group)\n",
      "S-1-5-32-550 BUILTIN\\Print Operators (Local Group)\n",
      "\u001b[33m\n",
      "[+] \u001b[0m\u001b[32mEnumerating users using SID S-1-5-21-532510730-1394270290-3802288464 and logon username '', password ''\n",
      "\n",
      "\u001b[0mS-1-5-21-532510730-1394270290-3802288464-501 PBX\\nobody (Local User)\n",
      "S-1-5-21-532510730-1394270290-3802288464-513 PBX\\None (Domain Group)\n",
      "S-1-5-21-532510730-1394270290-3802288464-1000 PBX\\pbx (Local User)\n",
      "\u001b[33m\n",
      "[+] \u001b[0m\u001b[32mEnumerating users using SID S-1-22-1 and logon username '', password ''\n",
      "\n",
      "\u001b[0mS-1-22-1-1000 Unix User\\pbx (Local User)\n",
      "S-1-22-1-1001 Unix User\\asterisk (Local User)\n",
      "\n",
      "\u001b[34m ================================( \u001b[0m\u001b[32mGetting printer info for 10.11.1.17\u001b[0m\u001b[34m )================================\n",
      "\n",
      "\u001b[0mNo printers returned.\n",
      "\n",
      "\n",
      "enum4linux complete on Wed Oct 27 15:23:43 2021\n",
      "\n"
     ]
    }
   ],
   "source": [
    "!~/hax/enum4linux.pl $TARGET"
   ]
  },
  {
   "cell_type": "code",
   "execution_count": 7,
   "id": "6facd749-edae-4470-8dd1-59be1fdc0972",
   "metadata": {},
   "outputs": [
    {
     "name": "stdout",
     "output_type": "stream",
     "text": [
      "Starting enum4linux v0.9.1 ( http://labs.portcullis.co.uk/application/enum4linux/ ) on Wed Oct 27 15:23:44 2021\n",
      "\n",
      "\u001b[34m =========================================( \u001b[0m\u001b[32mTarget Information\u001b[0m\u001b[34m )=========================================\n",
      "\n",
      "\u001b[0mTarget ........... 10.11.1.17\n",
      "RID Range ........ 500-550,1000-1050\n",
      "Username ......... 'administrator'\n",
      "Password ......... ''\n",
      "Known Usernames .. administrator, guest, krbtgt, domain admins, root, bin, none\n",
      "\n",
      "\n",
      "\u001b[34m =============================( \u001b[0m\u001b[32mEnumerating Workgroup/Domain on 10.11.1.17\u001b[0m\u001b[34m )=============================\n",
      "\n",
      "\u001b[0m\u001b[33m\n",
      "[+] \u001b[0m\u001b[32mGot domain/workgroup name: WORKGROUP\n",
      "\n",
      "\u001b[0m\n",
      "\u001b[34m ====================================( \u001b[0m\u001b[32mSession Check on 10.11.1.17\u001b[0m\u001b[34m )====================================\n",
      "\n",
      "\u001b[0m\u001b[33m\n",
      "[+] \u001b[0m\u001b[32mServer 10.11.1.17 allows sessions using username 'administrator', password ''\n",
      "\n",
      "\u001b[0m\n",
      "\u001b[34m =================================( \u001b[0m\u001b[32mGetting domain SID for 10.11.1.17\u001b[0m\u001b[34m )=================================\n",
      "\n",
      "\u001b[0mBad SMB2 signature for message\n",
      "[0000] 00 00 00 00 00 00 00 00   00 00 00 00 00 00 00 00   ........ ........\n",
      "[0000] 0B 72 F3 EF 26 50 C7 5C   7C 28 11 A8 7B F7 DA E6   .r..&P.\\ |(..{...\n",
      "Cannot connect to server.  Error was NT_STATUS_ACCESS_DENIED\n",
      "\u001b[33m\n",
      "[+] \u001b[0m\u001b[32mCan't determine if host is part of domain or part of a workgroup\n",
      "\n",
      "\u001b[0menum4linux complete on Wed Oct 27 15:23:45 2021\n",
      "\n"
     ]
    }
   ],
   "source": [
    "!~/hax/enum4linux.pl -u administrator $TARGET "
   ]
  },
  {
   "cell_type": "code",
   "execution_count": 8,
   "id": "781c280d-8532-43d7-80a3-8ea305ba08ab",
   "metadata": {},
   "outputs": [
    {
     "name": "stdout",
     "output_type": "stream",
     "text": [
      "Starting enum4linux v0.9.1 ( http://labs.portcullis.co.uk/application/enum4linux/ ) on Wed Oct 27 15:23:45 2021\n",
      "\n",
      "\u001b[34m =========================================( \u001b[0m\u001b[32mTarget Information\u001b[0m\u001b[34m )=========================================\n",
      "\n",
      "\u001b[0mTarget ........... 10.11.1.17\n",
      "RID Range ........ 500-550,1000-1050\n",
      "Username ......... 'guest'\n",
      "Password ......... ''\n",
      "Known Usernames .. administrator, guest, krbtgt, domain admins, root, bin, none\n",
      "\n",
      "\n",
      "\u001b[34m =============================( \u001b[0m\u001b[32mEnumerating Workgroup/Domain on 10.11.1.17\u001b[0m\u001b[34m )=============================\n",
      "\n",
      "\u001b[0m\u001b[33m\n",
      "[+] \u001b[0m\u001b[32mGot domain/workgroup name: WORKGROUP\n",
      "\n",
      "\u001b[0m\n",
      "\u001b[34m ====================================( \u001b[0m\u001b[32mSession Check on 10.11.1.17\u001b[0m\u001b[34m )====================================\n",
      "\n",
      "\u001b[0m\u001b[33m\n",
      "[+] \u001b[0m\u001b[32mServer 10.11.1.17 allows sessions using username 'guest', password ''\n",
      "\n",
      "\u001b[0m\n",
      "\u001b[34m =================================( \u001b[0m\u001b[32mGetting domain SID for 10.11.1.17\u001b[0m\u001b[34m )=================================\n",
      "\n",
      "\u001b[0mBad SMB2 signature for message\n",
      "[0000] 00 00 00 00 00 00 00 00   00 00 00 00 00 00 00 00   ........ ........\n",
      "[0000] 73 2D 73 F8 B6 00 F7 C7   4A 08 6D 3E 0E 2F 68 64   s-s..... J.m>./hd\n",
      "Cannot connect to server.  Error was NT_STATUS_ACCESS_DENIED\n",
      "\u001b[33m\n",
      "[+] \u001b[0m\u001b[32mCan't determine if host is part of domain or part of a workgroup\n",
      "\n",
      "\u001b[0menum4linux complete on Wed Oct 27 15:23:46 2021\n",
      "\n"
     ]
    }
   ],
   "source": [
    "!~/hax/enum4linux.pl -u guest $TARGET "
   ]
  },
  {
   "cell_type": "code",
   "execution_count": 9,
   "id": "a627629f-1537-44e7-8727-a2fc946b6c80",
   "metadata": {},
   "outputs": [
    {
     "name": "stdout",
     "output_type": "stream",
     "text": [
      "Starting enum4linux v0.9.1 ( http://labs.portcullis.co.uk/application/enum4linux/ ) on Wed Oct 27 15:23:47 2021\n",
      "\n",
      "\u001b[34m =========================================( \u001b[0m\u001b[32mTarget Information\u001b[0m\u001b[34m )=========================================\n",
      "\n",
      "\u001b[0mTarget ........... 10.11.1.17\n",
      "RID Range ........ 500-550,1000-1050\n",
      "Username ......... 'john'\n",
      "Password ......... ''\n",
      "Known Usernames .. administrator, guest, krbtgt, domain admins, root, bin, none\n",
      "\n",
      "\n",
      "\u001b[34m =============================( \u001b[0m\u001b[32mEnumerating Workgroup/Domain on 10.11.1.17\u001b[0m\u001b[34m )=============================\n",
      "\n",
      "\u001b[0m\u001b[33m\n",
      "[+] \u001b[0m\u001b[32mGot domain/workgroup name: WORKGROUP\n",
      "\n",
      "\u001b[0m\n",
      "\u001b[34m ====================================( \u001b[0m\u001b[32mSession Check on 10.11.1.17\u001b[0m\u001b[34m )====================================\n",
      "\n",
      "\u001b[0m\u001b[33m\n",
      "[+] \u001b[0m\u001b[32mServer 10.11.1.17 allows sessions using username 'john', password ''\n",
      "\n",
      "\u001b[0m\n",
      "\u001b[34m =================================( \u001b[0m\u001b[32mGetting domain SID for 10.11.1.17\u001b[0m\u001b[34m )=================================\n",
      "\n",
      "\u001b[0mBad SMB2 signature for message\n",
      "[0000] 00 00 00 00 00 00 00 00   00 00 00 00 00 00 00 00   ........ ........\n",
      "[0000] 36 C8 5C A8 CB 5E 94 E8   F4 7F 24 F9 94 E4 24 0A   6.\\..^.. ..$...$.\n",
      "Cannot connect to server.  Error was NT_STATUS_ACCESS_DENIED\n",
      "\u001b[33m\n",
      "[+] \u001b[0m\u001b[32mCan't determine if host is part of domain or part of a workgroup\n",
      "\n",
      "\u001b[0menum4linux complete on Wed Oct 27 15:23:48 2021\n",
      "\n"
     ]
    }
   ],
   "source": [
    "!~/hax/enum4linux.pl -u john $TARGET "
   ]
  },
  {
   "cell_type": "code",
   "execution_count": null,
   "id": "e5648ca8-75fa-47fc-8439-890fca91f590",
   "metadata": {},
   "outputs": [
    {
     "name": "stdout",
     "output_type": "stream",
     "text": [
      "Enter WORKGROUP\\guest's password: "
     ]
    }
   ],
   "source": [
    "!smbclient -L $TARGET -U guest"
   ]
  },
  {
   "cell_type": "code",
   "execution_count": null,
   "id": "ff8b062b-0e5d-40fb-a6a8-18576165a8ba",
   "metadata": {},
   "outputs": [],
   "source": [
    "%env SHARE=Users"
   ]
  },
  {
   "cell_type": "code",
   "execution_count": null,
   "id": "7731ed9e-b27b-49ce-9a9c-24d14e60f3d6",
   "metadata": {},
   "outputs": [],
   "source": [
    "!echo Run this:\n",
    "!echo cd \\'$(pwd)\\'\n",
    "!echo smbclient //$TARGET/$SHARE -U guest"
   ]
  },
  {
   "cell_type": "code",
   "execution_count": null,
   "id": "59613e52-7f58-429e-932c-b43edc35d829",
   "metadata": {},
   "outputs": [],
   "source": [
    "from web_footprinting_utils import show_term\n",
    "\n",
    "show_term()"
   ]
  },
  {
   "cell_type": "markdown",
   "id": "327a1317-eaa4-45e2-b771-152a7ddd740d",
   "metadata": {},
   "source": [
    "#### Use ls, get, cd to pull down any needed files in SMB..."
   ]
  },
  {
   "cell_type": "code",
   "execution_count": null,
   "id": "325c30c0-5b52-4aba-bd80-9e3390b94736",
   "metadata": {},
   "outputs": [],
   "source": [
    "!ls"
   ]
  },
  {
   "cell_type": "code",
   "execution_count": null,
   "id": "1c3a562d-a81b-4e1f-a5f4-962257726baa",
   "metadata": {
    "tags": []
   },
   "outputs": [],
   "source": [
    "!cat log.txt"
   ]
  },
  {
   "cell_type": "markdown",
   "id": "b0ecc06b-a7c4-4bf8-abe7-425a4b38defa",
   "metadata": {
    "jp-MarkdownHeadingCollapsed": true,
    "tags": []
   },
   "source": [
    "# NFS Anonymous Mounting:"
   ]
  },
  {
   "cell_type": "code",
   "execution_count": null,
   "id": "0492f285-b455-4edd-b3eb-1aadb42387ff",
   "metadata": {},
   "outputs": [],
   "source": [
    "from getpass import getpass\n",
    "import os\n",
    "\n",
    "%env RDIR = /var"
   ]
  },
  {
   "cell_type": "code",
   "execution_count": null,
   "id": "73745c96-001a-4ad3-9fb8-9288ba2bdc09",
   "metadata": {},
   "outputs": [],
   "source": [
    "# !mkdir -p my_mount\n",
    "# !echo { getpass() } | sudo -S sudo mount {os.environ['TARGET']}:{os.environ['RDIR']} my_mount\n",
    "# !ls -la my_mount"
   ]
  },
  {
   "cell_type": "markdown",
   "id": "f115675d-e198-4d00-a50b-48e09f525ba0",
   "metadata": {
    "tags": []
   },
   "source": [
    "# SQL Map:"
   ]
  },
  {
   "cell_type": "code",
   "execution_count": null,
   "id": "c7df2415-8125-4f69-beba-462d0efbf3fb",
   "metadata": {},
   "outputs": [],
   "source": [
    "!sqlmap -r bugle_user.txt --dbms=mariadb --dump --batch"
   ]
  },
  {
   "cell_type": "code",
   "execution_count": null,
   "id": "30839a99-5f75-4813-8fea-9f4d6dea2eff",
   "metadata": {},
   "outputs": [],
   "source": [
    "!sqlmap -r bugle_admin.txt --dbms=mariadb --dump --batch"
   ]
  },
  {
   "cell_type": "code",
   "execution_count": null,
   "id": "7adb8392-3cb5-4535-bcef-416d04fcd97c",
   "metadata": {},
   "outputs": [],
   "source": [
    "!sqlmap -r bugle_admin.txt --dbms=mariadb --dump --batch --level=5"
   ]
  },
  {
   "cell_type": "markdown",
   "id": "b3167879-28aa-4f4a-b3fa-ae784d2cd58e",
   "metadata": {},
   "source": [
    "# SQL Login:"
   ]
  },
  {
   "cell_type": "code",
   "execution_count": null,
   "id": "90644d00-50a9-4039-a4dc-bd2b03d46150",
   "metadata": {},
   "outputs": [],
   "source": [
    "mysql -h 127.0.0.1 -u techblog -p'z8n#DZf@Sa#X!4@tqG'"
   ]
  },
  {
   "cell_type": "markdown",
   "id": "e2e5b3a6-ae0d-4d7c-a2dd-afbc3eeb489b",
   "metadata": {},
   "source": [
    "# FTP:"
   ]
  },
  {
   "cell_type": "markdown",
   "id": "0f7b1b1c-296c-4039-9542-7f784236cb98",
   "metadata": {},
   "source": [
    "ftp 10.10.28.39\n",
    "\n",
    "anonymous\n",
    "\n",
    "no password"
   ]
  },
  {
   "cell_type": "markdown",
   "id": "1e283a13-9fec-48af-b58c-8d1aed40b4ad",
   "metadata": {},
   "source": [
    "#### remember to enable binary mode to download binaries:\n",
    "\n",
    "binary"
   ]
  },
  {
   "cell_type": "code",
   "execution_count": null,
   "id": "f8383462-e93d-4a36-9073-e11377cf5959",
   "metadata": {},
   "outputs": [],
   "source": []
  }
 ],
 "metadata": {
  "kernelspec": {
   "display_name": "Python 3 (ipykernel)",
   "language": "python",
   "name": "python3"
  },
  "language_info": {
   "codemirror_mode": {
    "name": "ipython",
    "version": 3
   },
   "file_extension": ".py",
   "mimetype": "text/x-python",
   "name": "python",
   "nbconvert_exporter": "python",
   "pygments_lexer": "ipython3",
   "version": "3.9.2"
  }
 },
 "nbformat": 4,
 "nbformat_minor": 5
}
