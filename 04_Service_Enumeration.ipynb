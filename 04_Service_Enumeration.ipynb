{
 "cells": [
  {
   "cell_type": "markdown",
   "id": "62095b45-eb51-4cfd-8f65-71ec3e575db9",
   "metadata": {},
   "source": [
    "# Service Enumeration:"
   ]
  },
  {
   "cell_type": "code",
   "execution_count": 5,
   "id": "c46c7063-380b-4802-84fe-c65b0f6c47a6",
   "metadata": {},
   "outputs": [
    {
     "name": "stdout",
     "output_type": "stream",
     "text": [
      "env: TARGET=10.10.235.216\n"
     ]
    }
   ],
   "source": [
    "%env TARGET=10.10.235.216"
   ]
  },
  {
   "cell_type": "markdown",
   "id": "0d326b74-d767-4baa-9ebe-57984c5ca3df",
   "metadata": {},
   "source": [
    "# SMB:"
   ]
  },
  {
   "cell_type": "code",
   "execution_count": 2,
   "id": "271f01bd-59db-4b97-adc8-ae825cc59ab5",
   "metadata": {},
   "outputs": [
    {
     "name": "stdout",
     "output_type": "stream",
     "text": [
      "Host discovery disabled (-Pn). All addresses will be marked 'up' and scan times will be slower.\n",
      "Starting Nmap 7.91 ( https://nmap.org ) at 2021-09-22 12:12 PDT\n",
      "NSE: Loaded 49 scripts for scanning.\n",
      "NSE: Script Pre-scanning.\n",
      "Initiating NSE at 12:12\n",
      "Completed NSE at 12:12, 0.00s elapsed\n",
      "Initiating NSE at 12:12\n",
      "Completed NSE at 12:12, 0.00s elapsed\n",
      "Initiating Parallel DNS resolution of 1 host. at 12:12\n",
      "Completed Parallel DNS resolution of 1 host. at 12:12, 0.02s elapsed\n",
      "Initiating Connect Scan at 12:12\n",
      "Scanning 10.10.74.115 [3 ports]\n",
      "Discovered open port 139/tcp on 10.10.74.115\n",
      "Discovered open port 445/tcp on 10.10.74.115\n",
      "Completed Connect Scan at 12:12, 2.31s elapsed (3 total ports)\n",
      "Initiating Service scan at 12:12\n",
      "Scanning 2 services on 10.10.74.115\n",
      "Completed Service scan at 12:12, 6.67s elapsed (2 services on 1 host)\n",
      "NSE: Script scanning 10.10.74.115.\n",
      "Initiating NSE at 12:12\n",
      "Completed NSE at 12:13, 52.23s elapsed\n",
      "Initiating NSE at 12:13\n",
      "Completed NSE at 12:13, 5.80s elapsed\n",
      "Nmap scan report for 10.10.74.115\n",
      "Host is up (0.16s latency).\n",
      "Not shown: 1 filtered port\n",
      "Some closed ports may be reported as filtered due to --defeat-rst-ratelimit\n",
      "PORT    STATE SERVICE      VERSION\n",
      "139/tcp open  netbios-ssn  Microsoft Windows netbios-ssn\n",
      "445/tcp open  microsoft-ds Windows Server 2016 Standard Evaluation 14393 microsoft-ds\n",
      "Service Info: OSs: Windows, Windows Server 2008 R2 - 2012; CPE: cpe:/o:microsoft:windows\n",
      "\n",
      "Host script results:\n",
      "| smb-enum-shares: \n",
      "|   account_used: guest\n",
      "|   \\\\10.10.74.115\\ADMIN$: \n",
      "|     Type: STYPE_DISKTREE_HIDDEN\n",
      "|     Comment: Remote Admin\n",
      "|     Anonymous access: <none>\n",
      "|     Current user access: <none>\n",
      "|   \\\\10.10.74.115\\C$: \n",
      "|     Type: STYPE_DISKTREE_HIDDEN\n",
      "|     Comment: Default share\n",
      "|     Anonymous access: <none>\n",
      "|     Current user access: <none>\n",
      "|   \\\\10.10.74.115\\IPC$: \n",
      "|     Type: STYPE_IPC_HIDDEN\n",
      "|     Comment: Remote IPC\n",
      "|     Anonymous access: <none>\n",
      "|     Current user access: READ/WRITE\n",
      "|   \\\\10.10.74.115\\nt4wrksv: \n",
      "|     Type: STYPE_DISKTREE\n",
      "|     Comment: \n",
      "|     Anonymous access: <none>\n",
      "|_    Current user access: READ/WRITE\n",
      "| smb-ls: Volume \\\\10.10.74.115\\nt4wrksv\n",
      "| SIZE   TIME                 FILENAME\n",
      "| <DIR>  2020-07-25T15:10:05  .\n",
      "| <DIR>  2020-07-25T15:10:05  ..\n",
      "| 98     2020-07-25T15:13:05  passwords.txt\n",
      "|_\n",
      "| smb-os-discovery: \n",
      "|   OS: Windows Server 2016 Standard Evaluation 14393 (Windows Server 2016 Standard Evaluation 6.3)\n",
      "|   NetBIOS computer name: RELEVANT\\x00\n",
      "|   Workgroup: WORKGROUP\\x00\n",
      "|_  System time: 2021-09-22T12:12:44-07:00\n",
      "| smb-security-mode: \n",
      "|   account_used: guest\n",
      "|   authentication_level: user\n",
      "|   challenge_response: supported\n",
      "|_  message_signing: disabled (dangerous, but default)\n",
      "\n",
      "NSE: Script Post-scanning.\n",
      "Initiating NSE at 12:13\n",
      "Completed NSE at 12:13, 0.00s elapsed\n",
      "Initiating NSE at 12:13\n",
      "Completed NSE at 12:13, 0.00s elapsed\n",
      "Read data files from: /usr/bin/../share/nmap\n",
      "Service detection performed. Please report any incorrect results at https://nmap.org/submit/ .\n",
      "Nmap done: 1 IP address (1 host up) scanned in 67.35 seconds\n"
     ]
    }
   ],
   "source": [
    "!nmap -v -sV --open -Pn  -p 137,139,445 --script=smb-os-discovery,smb-enum-shares,smb-ls,smb-security-mode $TARGET --script-args=smbbasic=1,smbsign=ignore | tee smb_results.txt"
   ]
  },
  {
   "cell_type": "code",
   "execution_count": 3,
   "id": "8ce94cf9-8d82-4161-9b3f-7ffba4712207",
   "metadata": {},
   "outputs": [
    {
     "data": {
      "text/plain": [
       "'guest'"
      ]
     },
     "execution_count": 3,
     "metadata": {},
     "output_type": "execute_result"
    }
   ],
   "source": [
    "import os\n",
    "\n",
    "result = !cat smb_results.txt | grep account_used\n",
    "\n",
    "anon_user = result[0].split(':')[-1].strip()\n",
    "\n",
    "anon_user"
   ]
  },
  {
   "cell_type": "code",
   "execution_count": 4,
   "id": "beb8729d-1cbe-4971-a6f3-c58847a7e312",
   "metadata": {},
   "outputs": [
    {
     "name": "stdout",
     "output_type": "stream",
     "text": [
      "Starting enum4linux v0.9.1 ( http://labs.portcullis.co.uk/application/enum4linux/ ) on Wed Sep 22 12:13:38 2021\n",
      "\n",
      "\u001b[34m =========================================( \u001b[0m\u001b[32mTarget Information\u001b[0m\u001b[34m )=========================================\n",
      "\n",
      "\u001b[0mTarget ........... 10.10.74.115\n",
      "RID Range ........ 500-550,1000-1050\n",
      "Username ......... 'guest'\n",
      "Password ......... ''\n",
      "Known Usernames .. administrator, guest, krbtgt, domain admins, root, bin, none\n",
      "\n",
      "\n",
      "\u001b[34m ============================( \u001b[0m\u001b[32mEnumerating Workgroup/Domain on 10.10.74.115\u001b[0m\u001b[34m )============================\n",
      "\n",
      "\u001b[0m\u001b[33m\n",
      "[E] \u001b[0m\u001b[31mCan't find workgroup/domain\n",
      "\n",
      "\u001b[0m\n",
      "\n",
      "\u001b[34m ================================( \u001b[0m\u001b[32mNbtstat Information for 10.10.74.115\u001b[0m\u001b[34m )================================\n",
      "\n",
      "\u001b[0mLooking up status of 10.10.74.115\n",
      "No reply from 10.10.74.115\n",
      "\n",
      "\u001b[34m ===================================( \u001b[0m\u001b[32mSession Check on 10.10.74.115\u001b[0m\u001b[34m )===================================\n",
      "\n",
      "\u001b[0m\u001b[33m\n",
      "[+] \u001b[0m\u001b[32mServer 10.10.74.115 allows sessions using username 'guest', password ''\n",
      "\n",
      "\u001b[0m\n",
      "\u001b[34m ================================( \u001b[0m\u001b[32mGetting domain SID for 10.10.74.115\u001b[0m\u001b[34m )================================\n",
      "\n",
      "\u001b[0mDomain Name: WORKGROUP\n",
      "Domain Sid: (NULL SID)\n",
      "\u001b[33m\n",
      "[+] \u001b[0m\u001b[32mCan't determine if host is part of domain or part of a workgroup\n",
      "\n",
      "\u001b[0m\n",
      "\u001b[34m ===================================( \u001b[0m\u001b[32mOS information on 10.10.74.115\u001b[0m\u001b[34m )===================================\n",
      "\n",
      "\u001b[0m\u001b[33m\n",
      "[E] \u001b[0m\u001b[31mCan't get OS info with smbclient\n",
      "\n",
      "\u001b[0m\u001b[33m\n",
      "[+] \u001b[0m\u001b[32mGot OS info for 10.10.74.115 from srvinfo: \n",
      "\u001b[0m\t10.10.74.115   Wk Sv NT SNT         \n",
      "\tplatform_id     :\t500\n",
      "\tos version      :\t10.0\n",
      "\tserver type     :\t0x9003\n",
      "\n",
      "\n",
      "\u001b[34m =======================================( \u001b[0m\u001b[32mUsers on 10.10.74.115\u001b[0m\u001b[34m )=======================================\n",
      "\n",
      "\u001b[0mUse of uninitialized value $users in print at ./enum4linux.pl line 972.\n",
      "Use of uninitialized value $users in pattern match (m//) at ./enum4linux.pl line 975.\n",
      "\n",
      "Use of uninitialized value $users in print at ./enum4linux.pl line 986.\n",
      "Use of uninitialized value $users in pattern match (m//) at ./enum4linux.pl line 988.\n",
      "\n",
      "\u001b[34m =================================( \u001b[0m\u001b[32mShare Enumeration on 10.10.74.115\u001b[0m\u001b[34m )=================================\n",
      "\n",
      "\u001b[0m\n",
      "\tSharename       Type      Comment\n",
      "\t---------       ----      -------\n",
      "\tADMIN$          Disk      Remote Admin\n",
      "\tC$              Disk      Default share\n",
      "\tIPC$            IPC       Remote IPC\n",
      "\tnt4wrksv        Disk      \n",
      "SMB1 disabled -- no workgroup available\n",
      "\u001b[33m\n",
      "[+] \u001b[0m\u001b[32mAttempting to map shares on 10.10.74.115\n",
      "\n",
      "\u001b[0m//10.10.74.115/ADMIN$\t\u001b[35mMapping: \u001b[0mDENIED\u001b[35m Listing: \u001b[0mN/A\u001b[35m Writing: \u001b[0mN/A\n",
      "//10.10.74.115/C$\t\u001b[35mMapping: \u001b[0mDENIED\u001b[35m Listing: \u001b[0mN/A\u001b[35m Writing: \u001b[0mN/A\n",
      "\u001b[33m\n",
      "[E] \u001b[0m\u001b[31mCan't understand response:\n",
      "\n",
      "\u001b[0mNT_STATUS_INVALID_INFO_CLASS listing \\*\n",
      "//10.10.74.115/IPC$\t\u001b[35mMapping: \u001b[0mN/A\u001b[35m Listing: \u001b[0mN/A\u001b[35m Writing: \u001b[0mN/A\n",
      "//10.10.74.115/nt4wrksv\t\u001b[35mMapping: \u001b[0mOK\u001b[35m Listing: \u001b[0mOK\u001b[35m Writing: \u001b[0mN/A\n",
      "\n",
      "\u001b[34m ============================( \u001b[0m\u001b[32mPassword Policy Information for 10.10.74.115\u001b[0m\u001b[34m )============================\n",
      "\n",
      "\u001b[0m\u001b[33m\n",
      "[E] \u001b[0m\u001b[31mUnexpected error from polenum:\n",
      "\n",
      "\u001b[0m\n",
      "\n",
      "[+] Attaching to 10.10.74.115 using guest\n",
      "\n",
      "[+] Trying protocol 139/SMB...\n",
      "\n",
      "\t[!] Protocol failed: Cannot request session (Called Name:10.10.74.115)\n",
      "\n",
      "[+] Trying protocol 445/SMB...\n",
      "\n",
      "\t[!] Protocol failed: rpc_s_access_denied\n",
      "\n",
      "\n",
      "\u001b[33m\n",
      "[E] \u001b[0m\u001b[31mFailed to get password policy with rpcclient\n",
      "\n",
      "\u001b[0m\n",
      "\n",
      "\u001b[34m =======================================( \u001b[0m\u001b[32mGroups on 10.10.74.115\u001b[0m\u001b[34m )=======================================\n",
      "\n",
      "\u001b[0m\u001b[33m\n",
      "[+] \u001b[0m\u001b[32mGetting builtin groups:\n",
      "\n",
      "\u001b[0m\u001b[33m\n",
      "[+] \u001b[0m\u001b[32m Getting builtin group memberships:\n",
      "\n",
      "\u001b[0m\u001b[33m\n",
      "[+] \u001b[0m\u001b[32m Getting local groups:\n",
      "\n",
      "\u001b[0m\u001b[33m\n",
      "[+] \u001b[0m\u001b[32m Getting local group memberships:\n",
      "\n",
      "\u001b[0m\u001b[33m\n",
      "[+] \u001b[0m\u001b[32m Getting domain groups:\n",
      "\n",
      "\u001b[0m\u001b[33m\n",
      "[+] \u001b[0m\u001b[32m Getting domain group memberships:\n",
      "\n",
      "\u001b[0m\n",
      "\u001b[34m ==================( \u001b[0m\u001b[32mUsers on 10.10.74.115 via RID cycling (RIDS: 500-550,1000-1050)\u001b[0m\u001b[34m )==================\n",
      "\n",
      "\u001b[0m\u001b[33m\n",
      "[I] \u001b[0m\u001b[36mFound new SID: \n",
      "\u001b[0mS-1-5-21-3981879597-1135670737-2718083060\n",
      "\u001b[33m\n",
      "[I] \u001b[0m\u001b[36mFound new SID: \n",
      "\u001b[0mS-1-5-21-3981879597-1135670737-2718083060\n",
      "\u001b[33m\n",
      "[I] \u001b[0m\u001b[36mFound new SID: \n",
      "\u001b[0mS-1-5-32\n",
      "\u001b[33m\n",
      "[I] \u001b[0m\u001b[36mFound new SID: \n",
      "\u001b[0mS-1-5-32\n",
      "\u001b[33m\n",
      "[I] \u001b[0m\u001b[36mFound new SID: \n",
      "\u001b[0mS-1-5-32\n",
      "\u001b[33m\n",
      "[I] \u001b[0m\u001b[36mFound new SID: \n",
      "\u001b[0mS-1-5-32\n",
      "\u001b[33m\n",
      "[I] \u001b[0m\u001b[36mFound new SID: \n",
      "\u001b[0mS-1-5-32\n",
      "\u001b[33m\n",
      "[+] \u001b[0m\u001b[32mEnumerating users using SID S-1-5-21-3981879597-1135670737-2718083060 and logon username 'guest', password ''\n",
      "\n",
      "\u001b[0mS-1-5-21-3981879597-1135670737-2718083060-500 RELEVANT\\Administrator (Local User)\n",
      "S-1-5-21-3981879597-1135670737-2718083060-501 RELEVANT\\Guest (Local User)\n",
      "S-1-5-21-3981879597-1135670737-2718083060-503 RELEVANT\\DefaultAccount (Local User)\n",
      "S-1-5-21-3981879597-1135670737-2718083060-513 RELEVANT\\None (Domain Group)\n",
      "S-1-5-21-3981879597-1135670737-2718083060-1002 RELEVANT\\Bob (Local User)\n",
      "\u001b[33m\n",
      "[+] \u001b[0m\u001b[32mEnumerating users using SID S-1-5-82-2094419441-2301267808-272098454-1219398644 and logon username 'guest', password ''\n",
      "\n",
      "\u001b[0m^C\n"
     ]
    }
   ],
   "source": [
    "!./enum4linux.pl -a -u {anon_user} {os.environ['TARGET']}"
   ]
  },
  {
   "cell_type": "code",
   "execution_count": 5,
   "id": "495cc72a-75b3-4d6b-8d4f-dd957ad3c56c",
   "metadata": {},
   "outputs": [
    {
     "name": "stdout",
     "output_type": "stream",
     "text": [
      "Starting enum4linux v0.9.1 ( http://labs.portcullis.co.uk/application/enum4linux/ ) on Wed Sep 22 12:18:24 2021\n",
      "\n",
      "\u001b[34m =========================================( \u001b[0m\u001b[32mTarget Information\u001b[0m\u001b[34m )=========================================\n",
      "\n",
      "\u001b[0mTarget ........... 10.10.74.115\n",
      "RID Range ........ 500-550,1000-1050\n",
      "Username ......... ''\n",
      "Password ......... ''\n",
      "Known Usernames .. administrator, guest, krbtgt, domain admins, root, bin, none\n",
      "\n",
      "\n",
      "\u001b[34m ============================( \u001b[0m\u001b[32mEnumerating Workgroup/Domain on 10.10.74.115\u001b[0m\u001b[34m )============================\n",
      "\n",
      "\u001b[0m^C\n"
     ]
    }
   ],
   "source": [
    "!./enum4linux.pl -A $TARGET"
   ]
  },
  {
   "cell_type": "code",
   "execution_count": 6,
   "id": "ff8b062b-0e5d-40fb-a6a8-18576165a8ba",
   "metadata": {},
   "outputs": [
    {
     "name": "stdout",
     "output_type": "stream",
     "text": [
      "env: SHARE=nt4wrksv\n"
     ]
    }
   ],
   "source": [
    "%env SHARE=nt4wrksv"
   ]
  },
  {
   "cell_type": "code",
   "execution_count": 7,
   "id": "7731ed9e-b27b-49ce-9a9c-24d14e60f3d6",
   "metadata": {},
   "outputs": [
    {
     "name": "stdout",
     "output_type": "stream",
     "text": [
      "Run this:\n",
      "cd '/home/parallels/Desktop/HTB Academy/7_THM_CTF'\n",
      "smbclient //10.10.235.216/nt4wrksv -U guest\n"
     ]
    }
   ],
   "source": [
    "!echo Run this:\n",
    "!echo cd \\'$(pwd)\\'\n",
    "!echo smbclient //$TARGET/$SHARE -U guest"
   ]
  },
  {
   "cell_type": "code",
   "execution_count": 8,
   "id": "59613e52-7f58-429e-932c-b43edc35d829",
   "metadata": {},
   "outputs": [
    {
     "data": {
      "text/html": [
       "\n",
       "        <iframe\n",
       "            width=\"1200\"\n",
       "            height=\"500\"\n",
       "            src=\"http://192.168.1.21:8888/lab/tree/7_THM_CTF\"\n",
       "            frameborder=\"0\"\n",
       "            allowfullscreen\n",
       "        ></iframe>\n",
       "        "
      ],
      "text/plain": [
       "<IPython.lib.display.IFrame at 0xffffa807ecd0>"
      ]
     },
     "metadata": {},
     "output_type": "display_data"
    }
   ],
   "source": [
    "from web_footprinting_utils import show_term\n",
    "\n",
    "show_term()"
   ]
  },
  {
   "cell_type": "markdown",
   "id": "327a1317-eaa4-45e2-b771-152a7ddd740d",
   "metadata": {},
   "source": [
    "#### Use ls, get, cd to pull down any needed files in SMB..."
   ]
  },
  {
   "cell_type": "code",
   "execution_count": 9,
   "id": "325c30c0-5b52-4aba-bd80-9e3390b94736",
   "metadata": {},
   "outputs": [
    {
     "name": "stdout",
     "output_type": "stream",
     "text": [
      "0_HTB_VPN.ipynb\t\t\t\t  ffuf_out.json\n",
      "1_HTB_Setup.ipynb\t\t\t  ffuf_out.txt\n",
      "2\t\t\t\t\t  gobuster_out.txt\n",
      "2_Nmap_Enumeration.ipynb\t\t  hydra.restore\n",
      "2_Rustscan_Enumeration.ipynb\t\t  my_mount\n",
      "3_Web_Footprinting_V2-Copy1.ipynb\t  my_passwords.txt\n",
      "3_Web_Footprinting_V2.ipynb\t\t  mysmb.py\n",
      "3_Web_Footprinting_V2.py\t\t  my_usernames.txt\n",
      "4_Service_Enumeration.ipynb\t\t  okadminfinder3\n",
      "5_PrivEsc.ipynb\t\t\t\t  pairs.txt\n",
      "6_Brute_Force.ipynb\t\t\t  passwords.txt\n",
      "7_Cracking.ipynb\t\t\t  __pycache__\n",
      "blue.py\t\t\t\t\t  scans\n",
      "CeWL\t\t\t\t\t  SecLists\n",
      "enum4linux.pl\t\t\t\t  smb_results.txt\n",
      "enum4linux.pl.1\t\t\t\t  tmp_screenshot.png\n",
      "ferox-http_10_10_84_142-1632333753.state  web_footprinting_utils.py\n",
      "ferrox2.txt\t\t\t\t  xplatform.txt\n",
      "ferrox.txt\n"
     ]
    }
   ],
   "source": [
    "!ls"
   ]
  },
  {
   "cell_type": "code",
   "execution_count": 10,
   "id": "1c3a562d-a81b-4e1f-a5f4-962257726baa",
   "metadata": {
    "tags": []
   },
   "outputs": [
    {
     "name": "stdout",
     "output_type": "stream",
     "text": [
      "cat: log.txt: No such file or directory\n"
     ]
    }
   ],
   "source": [
    "!cat log.txt"
   ]
  },
  {
   "cell_type": "markdown",
   "id": "b0ecc06b-a7c4-4bf8-abe7-425a4b38defa",
   "metadata": {},
   "source": [
    "# NFS Anonymous Mounting:"
   ]
  },
  {
   "cell_type": "code",
   "execution_count": 11,
   "id": "0492f285-b455-4edd-b3eb-1aadb42387ff",
   "metadata": {},
   "outputs": [
    {
     "name": "stdout",
     "output_type": "stream",
     "text": [
      "env: TARGET=10.10.40.236\n",
      "env: RDIR=/var\n"
     ]
    }
   ],
   "source": [
    "from getpass import getpass\n",
    "import os\n",
    "\n",
    "%env RDIR = /var"
   ]
  },
  {
   "cell_type": "code",
   "execution_count": null,
   "id": "73745c96-001a-4ad3-9fb8-9288ba2bdc09",
   "metadata": {},
   "outputs": [],
   "source": [
    "# !mkdir -p my_mount\n",
    "# !echo { getpass() } | sudo -S sudo mount {os.environ['TARGET']}:{os.environ['RDIR']} my_mount\n",
    "# !ls -la my_mount"
   ]
  },
  {
   "cell_type": "markdown",
   "id": "f115675d-e198-4d00-a50b-48e09f525ba0",
   "metadata": {},
   "source": [
    "# SQL Map:"
   ]
  },
  {
   "cell_type": "code",
   "execution_count": null,
   "id": "c7df2415-8125-4f69-beba-462d0efbf3fb",
   "metadata": {},
   "outputs": [],
   "source": [
    "!sqlmap -r bugle_user.txt --dbms=mariadb --dump --batch"
   ]
  },
  {
   "cell_type": "code",
   "execution_count": null,
   "id": "30839a99-5f75-4813-8fea-9f4d6dea2eff",
   "metadata": {},
   "outputs": [],
   "source": [
    "!sqlmap -r bugle_admin.txt --dbms=mariadb --dump --batch"
   ]
  },
  {
   "cell_type": "code",
   "execution_count": null,
   "id": "7adb8392-3cb5-4535-bcef-416d04fcd97c",
   "metadata": {},
   "outputs": [],
   "source": [
    "!sqlmap -r bugle_admin.txt --dbms=mariadb --dump --batch --level=5"
   ]
  },
  {
   "cell_type": "code",
   "execution_count": null,
   "id": "077a4da8-1106-45c2-8f01-adfa0d7f5b4e",
   "metadata": {},
   "outputs": [],
   "source": []
  }
 ],
 "metadata": {
  "kernelspec": {
   "display_name": "Python 3 (ipykernel)",
   "language": "python",
   "name": "python3"
  },
  "language_info": {
   "codemirror_mode": {
    "name": "ipython",
    "version": 3
   },
   "file_extension": ".py",
   "mimetype": "text/x-python",
   "name": "python",
   "nbconvert_exporter": "python",
   "pygments_lexer": "ipython3",
   "version": "3.9.2"
  }
 },
 "nbformat": 4,
 "nbformat_minor": 5
}
