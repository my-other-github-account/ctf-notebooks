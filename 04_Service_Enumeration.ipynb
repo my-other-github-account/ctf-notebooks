{
 "cells": [
  {
   "cell_type": "markdown",
   "id": "0c48b964-c29a-490b-afaf-9fe29dbca0bd",
   "metadata": {},
   "source": [
    "# ASSIGNMENT"
   ]
  },
  {
   "cell_type": "markdown",
   "id": "62095b45-eb51-4cfd-8f65-71ec3e575db9",
   "metadata": {},
   "source": [
    "# Service Enumeration:"
   ]
  },
  {
   "cell_type": "code",
   "execution_count": 1,
   "id": "c46c7063-380b-4802-84fe-c65b0f6c47a6",
   "metadata": {},
   "outputs": [
    {
     "name": "stdout",
     "output_type": "stream",
     "text": [
      "env: TARGET=10.11.1.74\n"
     ]
    }
   ],
   "source": [
    "%env TARGET=10.11.1.74"
   ]
  },
  {
   "cell_type": "markdown",
   "id": "0d326b74-d767-4baa-9ebe-57984c5ca3df",
   "metadata": {
    "tags": []
   },
   "source": [
    "# SMB:"
   ]
  },
  {
   "cell_type": "code",
   "execution_count": 2,
   "id": "3e707234-9bfd-441d-a6f6-7c58a11c0663",
   "metadata": {},
   "outputs": [
    {
     "name": "stdout",
     "output_type": "stream",
     "text": [
      "Host discovery disabled (-Pn). All addresses will be marked 'up' and scan times will be slower.\n",
      "Starting Nmap 7.91 ( https://nmap.org ) at 2021-10-20 18:33 PDT\n",
      "NSE: Loaded 46 scripts for scanning.\n",
      "NSE: Script Pre-scanning.\n",
      "Initiating NSE at 18:33\n",
      "Completed NSE at 18:33, 0.00s elapsed\n",
      "Initiating NSE at 18:33\n",
      "Completed NSE at 18:33, 0.00s elapsed\n",
      "Initiating Parallel DNS resolution of 1 host. at 18:33\n",
      "Completed Parallel DNS resolution of 1 host. at 18:33, 0.01s elapsed\n",
      "Initiating Connect Scan at 18:33\n",
      "Scanning 10.11.1.74 [3 ports]\n",
      "Discovered open port 139/tcp on 10.11.1.74\n",
      "Discovered open port 445/tcp on 10.11.1.74\n",
      "Completed Connect Scan at 18:33, 0.36s elapsed (3 total ports)\n",
      "Initiating Service scan at 18:33\n",
      "Scanning 2 services on 10.11.1.74\n",
      "Completed Service scan at 18:33, 11.48s elapsed (2 services on 1 host)\n",
      "NSE: Script scanning 10.11.1.74.\n",
      "Initiating NSE at 18:33\n",
      "Completed NSE at 18:33, 0.01s elapsed\n",
      "Initiating NSE at 18:33\n",
      "Completed NSE at 18:33, 0.00s elapsed\n",
      "Nmap scan report for 10.11.1.74\n",
      "Host is up (0.36s latency).\n",
      "Not shown: 1 closed port\n",
      "PORT    STATE SERVICE     VERSION\n",
      "139/tcp open  netbios-ssn Samba smbd 3.X - 4.X (workgroup: WORKGROUP)\n",
      "445/tcp open  netbios-ssn Samba smbd 3.X - 4.X (workgroup: WORKGROUP)\n",
      "Service Info: Host: MANTIS\n",
      "\n",
      "NSE: Script Post-scanning.\n",
      "Initiating NSE at 18:33\n",
      "Completed NSE at 18:33, 0.00s elapsed\n",
      "Initiating NSE at 18:33\n",
      "Completed NSE at 18:33, 0.00s elapsed\n",
      "Read data files from: /usr/bin/../share/nmap\n",
      "Service detection performed. Please report any incorrect results at https://nmap.org/submit/ .\n",
      "Nmap done: 1 IP address (1 host up) scanned in 12.12 seconds\n"
     ]
    }
   ],
   "source": [
    "!nmap -v -sV --open -Pn  -p 137,139,445 --script=smb-ls $TARGET"
   ]
  },
  {
   "cell_type": "code",
   "execution_count": 3,
   "id": "271f01bd-59db-4b97-adc8-ae825cc59ab5",
   "metadata": {},
   "outputs": [
    {
     "name": "stdout",
     "output_type": "stream",
     "text": [
      "Host discovery disabled (-Pn). All addresses will be marked 'up' and scan times will be slower.\n",
      "Starting Nmap 7.91 ( https://nmap.org ) at 2021-10-20 18:33 PDT\n",
      "NSE: Loaded 48 scripts for scanning.\n",
      "NSE: Script Pre-scanning.\n",
      "Initiating NSE at 18:33\n",
      "Completed NSE at 18:33, 0.00s elapsed\n",
      "Initiating NSE at 18:33\n",
      "Completed NSE at 18:33, 0.00s elapsed\n",
      "Initiating Parallel DNS resolution of 1 host. at 18:33\n",
      "Completed Parallel DNS resolution of 1 host. at 18:33, 0.02s elapsed\n",
      "Initiating Connect Scan at 18:33\n",
      "Scanning 10.11.1.74 [3 ports]\n",
      "Discovered open port 139/tcp on 10.11.1.74\n",
      "Discovered open port 445/tcp on 10.11.1.74\n",
      "Completed Connect Scan at 18:33, 0.10s elapsed (3 total ports)\n",
      "Initiating Service scan at 18:33\n",
      "Scanning 2 services on 10.11.1.74\n",
      "Completed Service scan at 18:33, 13.08s elapsed (2 services on 1 host)\n",
      "NSE: Script scanning 10.11.1.74.\n",
      "Initiating NSE at 18:33\n",
      "Completed NSE at 18:34, 30.00s elapsed\n",
      "Initiating NSE at 18:34\n",
      "Completed NSE at 18:34, 0.00s elapsed\n",
      "Nmap scan report for 10.11.1.74\n",
      "Host is up (0.10s latency).\n",
      "Not shown: 1 closed port\n",
      "PORT    STATE SERVICE     VERSION\n",
      "139/tcp open  netbios-ssn Samba smbd 3.X - 4.X (workgroup: WORKGROUP)\n",
      "445/tcp open  netbios-ssn Samba smbd 4.3.8-Ubuntu (workgroup: WORKGROUP)\n",
      "Service Info: Host: MANTIS\n",
      "\n",
      "Host script results:\n",
      "| smb-enum-shares: \n",
      "|   account_used: guest\n",
      "|   \\\\10.11.1.74\\IPC$: \n",
      "|     Type: STYPE_IPC_HIDDEN\n",
      "|     Comment: IPC Service (mantis server (Samba, Ubuntu))\n",
      "|     Users: 4\n",
      "|     Max Users: <unlimited>\n",
      "|     Path: C:\\tmp\n",
      "|     Anonymous access: READ/WRITE\n",
      "|     Current user access: READ/WRITE\n",
      "|   \\\\10.11.1.74\\print$: \n",
      "|     Type: STYPE_DISKTREE\n",
      "|     Comment: Printer Drivers\n",
      "|     Users: 0\n",
      "|     Max Users: <unlimited>\n",
      "|     Path: C:\\var\\lib\\samba\\printers\n",
      "|     Anonymous access: <none>\n",
      "|_    Current user access: <none>\n",
      "| smb-os-discovery: \n",
      "|   OS: Windows 6.1 (Samba 4.3.8-Ubuntu)\n",
      "|   NetBIOS computer name: MANTIS\\x00\n",
      "|   Workgroup: WORKGROUP\\x00\n",
      "|_  System time: 2021-10-20T21:33:23-04:00\n",
      "| smb-security-mode: \n",
      "|   account_used: guest\n",
      "|   authentication_level: user\n",
      "|   challenge_response: supported\n",
      "|_  message_signing: disabled (dangerous, but default)\n",
      "\n",
      "NSE: Script Post-scanning.\n",
      "Initiating NSE at 18:34\n",
      "Completed NSE at 18:34, 0.00s elapsed\n",
      "Initiating NSE at 18:34\n",
      "Completed NSE at 18:34, 0.00s elapsed\n",
      "Read data files from: /usr/bin/../share/nmap\n",
      "Service detection performed. Please report any incorrect results at https://nmap.org/submit/ .\n",
      "Nmap done: 1 IP address (1 host up) scanned in 43.44 seconds\n"
     ]
    }
   ],
   "source": [
    "!nmap -v -sV --open -Pn  -p 137,139,445 --script=smb-os-discovery,smb-enum-shares,smb-security-mode $TARGET --script-args=smbbasic=1,smbsign=ignore | tee smb_results.txt"
   ]
  },
  {
   "cell_type": "code",
   "execution_count": 4,
   "id": "8ce94cf9-8d82-4161-9b3f-7ffba4712207",
   "metadata": {},
   "outputs": [
    {
     "data": {
      "text/plain": [
       "'guest'"
      ]
     },
     "execution_count": 4,
     "metadata": {},
     "output_type": "execute_result"
    }
   ],
   "source": [
    "import os\n",
    "\n",
    "try:\n",
    "    result = !cat smb_results.txt | grep account_used\n",
    "\n",
    "    anon_user = result[0].split(':')[-1].strip()\n",
    "except:\n",
    "    anon_user = \"guest\"\n",
    "\n",
    "if anon_user == '<blank>':\n",
    "    anon_user = \"guest\"\n",
    "anon_user"
   ]
  },
  {
   "cell_type": "code",
   "execution_count": 5,
   "id": "beb8729d-1cbe-4971-a6f3-c58847a7e312",
   "metadata": {},
   "outputs": [
    {
     "name": "stdout",
     "output_type": "stream",
     "text": [
      "zsh:1: no such file or directory: ./enum4linux.pl\n"
     ]
    }
   ],
   "source": [
    "!~/hax/enum4linux.pl -a -u {anon_user} {os.environ['TARGET']}"
   ]
  },
  {
   "cell_type": "code",
   "execution_count": 6,
   "id": "495cc72a-75b3-4d6b-8d4f-dd957ad3c56c",
   "metadata": {},
   "outputs": [
    {
     "name": "stdout",
     "output_type": "stream",
     "text": [
      "zsh:1: no such file or directory: ./enum4linux.pl\n"
     ]
    }
   ],
   "source": [
    "!~/hax/enum4linux.pl $TARGET"
   ]
  },
  {
   "cell_type": "code",
   "execution_count": 7,
   "id": "6facd749-edae-4470-8dd1-59be1fdc0972",
   "metadata": {},
   "outputs": [
    {
     "name": "stdout",
     "output_type": "stream",
     "text": [
      "zsh:1: no such file or directory: ./enum4linux.pl\n"
     ]
    }
   ],
   "source": [
    "!~/hax/enum4linux.pl -u administrator $TARGET "
   ]
  },
  {
   "cell_type": "code",
   "execution_count": 8,
   "id": "781c280d-8532-43d7-80a3-8ea305ba08ab",
   "metadata": {},
   "outputs": [
    {
     "name": "stdout",
     "output_type": "stream",
     "text": [
      "zsh:1: no such file or directory: ./enum4linux.pl\n"
     ]
    }
   ],
   "source": [
    "!~/hax/enum4linux.pl -u guest $TARGET "
   ]
  },
  {
   "cell_type": "code",
   "execution_count": 9,
   "id": "a627629f-1537-44e7-8727-a2fc946b6c80",
   "metadata": {},
   "outputs": [
    {
     "name": "stdout",
     "output_type": "stream",
     "text": [
      "zsh:1: no such file or directory: ./enum4linux.pl\n"
     ]
    }
   ],
   "source": [
    "!~/hax/enum4linux.pl -u john $TARGET "
   ]
  },
  {
   "cell_type": "code",
   "execution_count": null,
   "id": "e5648ca8-75fa-47fc-8439-890fca91f590",
   "metadata": {},
   "outputs": [
    {
     "name": "stdout",
     "output_type": "stream",
     "text": [
      "Enter WORKGROUP\\guest's password: "
     ]
    }
   ],
   "source": [
    "!smbclient -L $TARGET -U guest"
   ]
  },
  {
   "cell_type": "code",
   "execution_count": null,
   "id": "ff8b062b-0e5d-40fb-a6a8-18576165a8ba",
   "metadata": {},
   "outputs": [],
   "source": [
    "%env SHARE=Users"
   ]
  },
  {
   "cell_type": "code",
   "execution_count": null,
   "id": "7731ed9e-b27b-49ce-9a9c-24d14e60f3d6",
   "metadata": {},
   "outputs": [],
   "source": [
    "!echo Run this:\n",
    "!echo cd \\'$(pwd)\\'\n",
    "!echo smbclient //$TARGET/$SHARE -U guest"
   ]
  },
  {
   "cell_type": "code",
   "execution_count": null,
   "id": "59613e52-7f58-429e-932c-b43edc35d829",
   "metadata": {},
   "outputs": [],
   "source": [
    "from web_footprinting_utils import show_term\n",
    "\n",
    "show_term()"
   ]
  },
  {
   "cell_type": "markdown",
   "id": "327a1317-eaa4-45e2-b771-152a7ddd740d",
   "metadata": {},
   "source": [
    "#### Use ls, get, cd to pull down any needed files in SMB..."
   ]
  },
  {
   "cell_type": "code",
   "execution_count": null,
   "id": "325c30c0-5b52-4aba-bd80-9e3390b94736",
   "metadata": {},
   "outputs": [],
   "source": [
    "!ls"
   ]
  },
  {
   "cell_type": "code",
   "execution_count": null,
   "id": "1c3a562d-a81b-4e1f-a5f4-962257726baa",
   "metadata": {
    "tags": []
   },
   "outputs": [],
   "source": [
    "!cat log.txt"
   ]
  },
  {
   "cell_type": "markdown",
   "id": "b0ecc06b-a7c4-4bf8-abe7-425a4b38defa",
   "metadata": {
    "jp-MarkdownHeadingCollapsed": true,
    "tags": []
   },
   "source": [
    "# NFS Anonymous Mounting:"
   ]
  },
  {
   "cell_type": "code",
   "execution_count": null,
   "id": "0492f285-b455-4edd-b3eb-1aadb42387ff",
   "metadata": {},
   "outputs": [],
   "source": [
    "from getpass import getpass\n",
    "import os\n",
    "\n",
    "%env RDIR = /var"
   ]
  },
  {
   "cell_type": "code",
   "execution_count": null,
   "id": "73745c96-001a-4ad3-9fb8-9288ba2bdc09",
   "metadata": {},
   "outputs": [],
   "source": [
    "# !mkdir -p my_mount\n",
    "# !echo { getpass() } | sudo -S sudo mount {os.environ['TARGET']}:{os.environ['RDIR']} my_mount\n",
    "# !ls -la my_mount"
   ]
  },
  {
   "cell_type": "markdown",
   "id": "f115675d-e198-4d00-a50b-48e09f525ba0",
   "metadata": {
    "tags": []
   },
   "source": [
    "# SQL Map:"
   ]
  },
  {
   "cell_type": "code",
   "execution_count": null,
   "id": "c7df2415-8125-4f69-beba-462d0efbf3fb",
   "metadata": {},
   "outputs": [],
   "source": [
    "!sqlmap -r bugle_user.txt --dbms=mariadb --dump --batch"
   ]
  },
  {
   "cell_type": "code",
   "execution_count": null,
   "id": "30839a99-5f75-4813-8fea-9f4d6dea2eff",
   "metadata": {},
   "outputs": [],
   "source": [
    "!sqlmap -r bugle_admin.txt --dbms=mariadb --dump --batch"
   ]
  },
  {
   "cell_type": "code",
   "execution_count": null,
   "id": "7adb8392-3cb5-4535-bcef-416d04fcd97c",
   "metadata": {},
   "outputs": [],
   "source": [
    "!sqlmap -r bugle_admin.txt --dbms=mariadb --dump --batch --level=5"
   ]
  },
  {
   "cell_type": "markdown",
   "id": "b3167879-28aa-4f4a-b3fa-ae784d2cd58e",
   "metadata": {},
   "source": [
    "# SQL Login:"
   ]
  },
  {
   "cell_type": "code",
   "execution_count": null,
   "id": "90644d00-50a9-4039-a4dc-bd2b03d46150",
   "metadata": {},
   "outputs": [],
   "source": [
    "mysql -h 127.0.0.1 -u techblog -p'z8n#DZf@Sa#X!4@tqG'"
   ]
  },
  {
   "cell_type": "markdown",
   "id": "e2e5b3a6-ae0d-4d7c-a2dd-afbc3eeb489b",
   "metadata": {},
   "source": [
    "# FTP:"
   ]
  },
  {
   "cell_type": "markdown",
   "id": "0f7b1b1c-296c-4039-9542-7f784236cb98",
   "metadata": {},
   "source": [
    "ftp 10.10.28.39\n",
    "\n",
    "anonymous\n",
    "\n",
    "no password"
   ]
  },
  {
   "cell_type": "markdown",
   "id": "1e283a13-9fec-48af-b58c-8d1aed40b4ad",
   "metadata": {},
   "source": [
    "#### remember to enable binary mode to download binaries:\n",
    "\n",
    "binary"
   ]
  },
  {
   "cell_type": "code",
   "execution_count": null,
   "id": "f8383462-e93d-4a36-9073-e11377cf5959",
   "metadata": {},
   "outputs": [],
   "source": []
  }
 ],
 "metadata": {
  "kernelspec": {
   "display_name": "Python 3 (ipykernel)",
   "language": "python",
   "name": "python3"
  },
  "language_info": {
   "codemirror_mode": {
    "name": "ipython",
    "version": 3
   },
   "file_extension": ".py",
   "mimetype": "text/x-python",
   "name": "python",
   "nbconvert_exporter": "python",
   "pygments_lexer": "ipython3",
   "version": "3.9.2"
  }
 },
 "nbformat": 4,
 "nbformat_minor": 5
}
