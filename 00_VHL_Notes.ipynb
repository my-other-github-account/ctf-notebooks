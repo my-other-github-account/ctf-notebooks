{
 "cells": [
  {
   "cell_type": "markdown",
   "id": "04bb86ed-cbd3-4ad4-8faf-2532005cd52d",
   "metadata": {},
   "source": [
    "# VHL Notes:"
   ]
  },
  {
   "cell_type": "raw",
   "id": "e374223b-5078-49d7-86c2-242135b24ef5",
   "metadata": {},
   "source": [
    "Need:\n",
    "\n",
    "Beginner:\n",
    "20 Beginner or Advanced Labs\n",
    "\n",
    "Advanced:\n",
    "10 Advanced+ Labs\n",
    "2 fully manual exploits on ANY two machines (any difficulty)\n",
    "    (You must have also exploited them normally first, so you can RE the vuln)\n",
    "\n",
    "----\n",
    "\n",
    "Need to provide:\n",
    "Documentation of all steps (don't include compiled exploits)\n",
    "Screenshots demonstrating root\n",
    "key.txt files from rooted machines\n",
    "\n",
    "----\n",
    "\n",
    "Documentation requirements: (send to info@virtualhackinglabs.com)\n",
    "Approx 5-10 pages incl screenshots\n",
    "\n",
    "VHL Student ID/Full Name\n",
    "All CVEs (w/ links)\n",
    "Links to all vulns/exploits used\n",
    "Attack narrative (aka, written text for everything included in screenshots)\n",
    "Screenshots of exploitation process\n",
    "Root demonstration screenshots: (multiple, should show all)\n",
    "    lab machine IP\n",
    "    VPN IP\n",
    "    Commands used (CLI, URLs, requests, metasploit handler, exploit compilation steps)\n",
    "    PrivEsc:\n",
    "        id/whoami/getuid BEFORE AND AFTER exploit\n",
    "        Contents of key.txt included in same screenshot\n",
    "        \n",
    "----\n",
    "\n",
    "Manual Exploitation:\n",
    "\n",
    "No metasploit, armitage, sqlmap, etc\n",
    "\n",
    "Reccomended: 36, 53, 58, 88, 95, 113, 200, 241\n",
    "\n",
    "msfvenom does not count as automated\n",
    "Metasploit multi handler shells are allowed\n"
   ]
  },
  {
   "cell_type": "code",
   "execution_count": null,
   "id": "2899f5e4-a357-4765-8c5c-cc89cbbb5946",
   "metadata": {},
   "outputs": [],
   "source": [
    "36\tSteven\t10.11.1.36\tBeginner\t1 day ago\t\n",
    "48\tAndroid\t10.11.1.48\tBeginner\t1 day ago\t\n",
    "60\tZero\t10.11.1.60\tBeginner\t13 hours ago\t\n",
    "74\tMantis\t10.11.1.74\tBeginner\t1 week ago\t\n",
    "83\tJohn\t10.11.1.83\tBeginner\t1 week ago\t\n",
    "95\tJames\t10.11.1.95\tBeginner\t5 hours ago\t\n",
    "109\tAS45\t10.11.1.109\tBeginner\t1 day ago\t\n",
    "113\tAnthony\t10.11.1.113\tBeginner\t13 hours ago\t\n",
    "124\tBreeze\t10.11.1.124\tBeginner\t4 days ago\t\n",
    "177\tCMS01\t10.11.1.177\tBeginner\t3 days ago\t"
   ]
  },
  {
   "cell_type": "code",
   "execution_count": 8,
   "id": "87dfadba-e1f3-4e12-99f9-5047838cdaf2",
   "metadata": {},
   "outputs": [],
   "source": [
    "!mkdir -p LabNotebooks/Beginner"
   ]
  },
  {
   "cell_type": "code",
   "execution_count": 9,
   "id": "2200a22c-efe1-4e16-89cb-425dcf1be006",
   "metadata": {},
   "outputs": [],
   "source": [
    "!cd LabNotebooks/Beginner && mkdir Steven Android Zero Mantis John James AS45 Anthony Breeze CMS01"
   ]
  },
  {
   "cell_type": "code",
   "execution_count": 11,
   "id": "2311e713-ce3e-4c43-9e1f-7e693cc8fa50",
   "metadata": {},
   "outputs": [
    {
     "name": "stdout",
     "output_type": "stream",
     "text": [
      "Cloning into 'ctf-notebooks'...\n",
      "remote: Enumerating objects: 265, done.\u001b[K\n",
      "remote: Counting objects: 100% (265/265), done.\u001b[K\n",
      "remote: Compressing objects: 100% (187/187), done.\u001b[K\n",
      "remote: Total 265 (delta 174), reused 164 (delta 76), pack-reused 0\u001b[K\n",
      "Receiving objects: 100% (265/265), 1.62 MiB | 6.89 MiB/s, done.\n",
      "Resolving deltas: 100% (174/174), done.\n",
      "Cloning into 'ctf-notebooks'...\n",
      "remote: Enumerating objects: 265, done.\u001b[K\n",
      "remote: Counting objects: 100% (265/265), done.\u001b[K\n",
      "remote: Compressing objects: 100% (187/187), done.\u001b[K\n",
      "remote: Total 265 (delta 174), reused 164 (delta 76), pack-reused 0\u001b[K\n",
      "Receiving objects: 100% (265/265), 1.62 MiB | 7.80 MiB/s, done.\n",
      "Resolving deltas: 100% (174/174), done.\n",
      "Cloning into 'ctf-notebooks'...\n",
      "remote: Enumerating objects: 265, done.\u001b[K\n",
      "remote: Counting objects: 100% (265/265), done.\u001b[K\n",
      "remote: Compressing objects: 100% (187/187), done.\u001b[K\n",
      "remote: Total 265 (delta 174), reused 164 (delta 76), pack-reused 0\u001b[K\n",
      "Receiving objects: 100% (265/265), 1.62 MiB | 7.16 MiB/s, done.\n",
      "Resolving deltas: 100% (174/174), done.\n",
      "Cloning into 'ctf-notebooks'...\n",
      "remote: Enumerating objects: 265, done.\u001b[K\n",
      "remote: Counting objects: 100% (265/265), done.\u001b[K\n",
      "remote: Compressing objects: 100% (187/187), done.\u001b[K\n",
      "remote: Total 265 (delta 174), reused 164 (delta 76), pack-reused 0\u001b[K\n",
      "Receiving objects: 100% (265/265), 1.62 MiB | 6.70 MiB/s, done.\n",
      "Resolving deltas: 100% (174/174), done.\n",
      "Cloning into 'ctf-notebooks'...\n",
      "remote: Enumerating objects: 265, done.\u001b[K\n",
      "remote: Counting objects: 100% (265/265), done.\u001b[K\n",
      "remote: Compressing objects: 100% (187/187), done.\u001b[K\n",
      "remote: Total 265 (delta 174), reused 164 (delta 76), pack-reused 0\u001b[K\n",
      "Receiving objects: 100% (265/265), 1.62 MiB | 6.44 MiB/s, done.\n",
      "Resolving deltas: 100% (174/174), done.\n",
      "Cloning into 'ctf-notebooks'...\n",
      "remote: Enumerating objects: 265, done.\u001b[K\n",
      "remote: Counting objects: 100% (265/265), done.\u001b[K\n",
      "remote: Compressing objects: 100% (187/187), done.\u001b[K\n",
      "remote: Total 265 (delta 174), reused 164 (delta 76), pack-reused 0\u001b[K\n",
      "Receiving objects: 100% (265/265), 1.62 MiB | 6.95 MiB/s, done.\n",
      "Resolving deltas: 100% (174/174), done.\n",
      "Cloning into 'ctf-notebooks'...\n",
      "remote: Enumerating objects: 265, done.\u001b[K\n",
      "remote: Counting objects: 100% (265/265), done.\u001b[K\n",
      "remote: Compressing objects: 100% (187/187), done.\u001b[K\n",
      "remote: Total 265 (delta 174), reused 164 (delta 76), pack-reused 0\u001b[K\n",
      "Receiving objects: 100% (265/265), 1.62 MiB | 7.42 MiB/s, done.\n",
      "Resolving deltas: 100% (174/174), done.\n",
      "Cloning into 'ctf-notebooks'...\n",
      "remote: Enumerating objects: 265, done.\u001b[K\n",
      "remote: Counting objects: 100% (265/265), done.\u001b[K\n",
      "remote: Compressing objects: 100% (187/187), done.\u001b[K\n",
      "remote: Total 265 (delta 174), reused 164 (delta 76), pack-reused 0\u001b[K\n",
      "Receiving objects: 100% (265/265), 1.62 MiB | 6.73 MiB/s, done.\n",
      "Resolving deltas: 100% (174/174), done.\n",
      "Cloning into 'ctf-notebooks'...\n",
      "remote: Enumerating objects: 265, done.\u001b[K\n",
      "remote: Counting objects: 100% (265/265), done.\u001b[K\n",
      "remote: Compressing objects: 100% (187/187), done.\u001b[K\n",
      "remote: Total 265 (delta 174), reused 164 (delta 76), pack-reused 0\u001b[K\n",
      "Receiving objects: 100% (265/265), 1.62 MiB | 7.58 MiB/s, done.\n",
      "Resolving deltas: 100% (174/174), done.\n"
     ]
    }
   ],
   "source": [
    "labs = ['Android', 'Zero', 'Mantis', 'John', 'James', 'AS45', 'Anthony', 'Breeze', 'CMS01']\n",
    "\n",
    "for lab in labs:\n",
    "    !cd LabNotebooks/Beginner/{lab} && git clone https://github.com/my-other-github-account/ctf-notebooks.git"
   ]
  },
  {
   "cell_type": "code",
   "execution_count": null,
   "id": "26489ab9-09be-4866-add9-4bb50e324e73",
   "metadata": {},
   "outputs": [],
   "source": [
    "2\tLucky\t10.11.1.2\tAdvanced\t1 day ago\t\n",
    "3\tTechblog\t10.11.1.3\tAdvanced\t1 day ago\t\n",
    "4\tBackupadmin\t10.11.1.4\tAdvanced\t1 day ago\t\n",
    "6\tWeb01-Dev\t10.11.1.6\tAdvanced\t2 days ago\t\n",
    "7\tWeb01-Prd\t10.11.1.7\tAdvanced\t2 weeks ago\t\n",
    "11\tHelpdesk\t10.11.1.11\tAdvanced\t2 weeks ago\t\n",
    "17\tPBX\t10.11.1.17\tAdvanced\t1 week ago\t\n",
    "20\tQuick\t10.11.1.20\tAdvanced\t1 week ago\t\n",
    "53\tVPS1723\t10.11.1.53\tAdvanced\t1 week ago\t\n",
    "58\tDolphin\t10.11.1.58\tAdvanced\t1 week ago\t\n",
    "\n",
    "77\tNatural\t10.11.1.77\tAdvanced\t2 weeks ago\t\n",
    "117\tPBX\t10.11.1.117\tAdvanced\t1 week ago\t\n",
    "121\tNAS\t10.11.1.121\tAdvanced\t2 weeks ago\t\n",
    "146\tJennifer\t10.11.1.146\tAdvanced\t2 weeks ago\t\n",
    "160\tCore\t10.11.1.160\tAdvanced\t1 week ago\t\n",
    "188\tReact\t10.11.1.188\tAdvanced\t2 weeks ago\t\n",
    "192\tWeb01\t10.11.1.192\tAdvanced\t2 weeks ago\t\n",
    "200\tFW01\t10.11.1.200\tAdvanced\t2 weeks ago\t\n",
    "240\trtr-vhl-01\t10.11.2.240\tAdvanced\t2 weeks ago\t"
   ]
  },
  {
   "cell_type": "code",
   "execution_count": null,
   "id": "2e8e8511-5ac4-49c5-b2ea-2ebe43894858",
   "metadata": {},
   "outputs": [],
   "source": [
    "27\tAaron\t10.11.1.27\tAdvanced+\t2 days ago\t\n",
    "30\tRecords\t10.11.1.30\tAdvanced+\t2 weeks ago\t\n",
    "35\tCMS02\t10.11.1.35\tAdvanced+\t1 week ago\t\n",
    "41\tTrails\t10.11.1.41\tAdvanced+\t2 weeks ago\t\n",
    "63\tCrash (New)\t10.11.1.63\tAdvanced+\t14 hours ago\t\n",
    "68\tFed\t10.11.1.68\tAdvanced+\t2 days ago\t\n",
    "88\tWebadmin\t10.11.1.88\tAdvanced+\t2 days ago\t\n",
    "129\tSam\t10.11.1.129\tAdvanced+\t1 day ago\t\n",
    "136\tWinAS01\t10.11.1.136\tAdvanced+\t18 hours ago\t\n",
    "142\tTeamspeak\t10.11.1.142\tAdvanced+\t2 hours ago\t\n",
    "\n",
    "156\tPM\t10.11.1.156\tAdvanced+\t1 day ago\t\n",
    "164\tNCM01\t10.11.1.164\tAdvanced+\t23 hours ago\n",
    "235\tTrace\t10.11.1.235\tAdvanced+\t20 hours ago\t\n",
    "241\tMon01\t10.11.2.241\tAdvanced+\t18 hours ago\t\n",
    "242\tJS01\t10.11.2.242\tAdvanced+\t1 week ago\t\n",
    "243\twebsrv01\t10.11.2.243\tAdvanced+\t1 week ago\t\n",
    "244\tMon02\t10.11.2.244\tAdvanced+\t1 week ago\t\n",
    "245\tGraphs01\t10.11.2.245\tAdvanced+\t1 week ago\t\n",
    "247\tSalt01\t10.11.2.247\tAdvanced+\t1 week ago\t"
   ]
  },
  {
   "cell_type": "code",
   "execution_count": null,
   "id": "30ecb631-9cbf-420d-921d-774449cfa2ca",
   "metadata": {},
   "outputs": [],
   "source": [
    "250\tMetasploitable 2\t10.11.1.250\tPractice\t1 month ago\t"
   ]
  }
 ],
 "metadata": {
  "kernelspec": {
   "display_name": "Python 3 (ipykernel)",
   "language": "python",
   "name": "python3"
  },
  "language_info": {
   "codemirror_mode": {
    "name": "ipython",
    "version": 3
   },
   "file_extension": ".py",
   "mimetype": "text/x-python",
   "name": "python",
   "nbconvert_exporter": "python",
   "pygments_lexer": "ipython3",
   "version": "3.9.2"
  }
 },
 "nbformat": 4,
 "nbformat_minor": 5
}
