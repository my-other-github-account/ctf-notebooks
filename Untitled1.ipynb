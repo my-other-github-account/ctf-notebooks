{
 "cells": [
  {
   "cell_type": "code",
   "execution_count": 1,
   "id": "d915f3eb-4c49-4132-a0d3-cb7244ecb7e7",
   "metadata": {},
   "outputs": [
    {
     "name": "stdout",
     "output_type": "stream",
     "text": [
      "/usr/share/python-wheels/pkg_resources-0.0.0-py3-none-any.whl/pkg_resources/py2_warn.py:21: UserWarning: Setuptools will stop working on Python 2\n",
      "************************************************************\n",
      "You are running Setuptools on Python 2, which is no longer\n",
      "supported and\n",
      ">>> SETUPTOOLS WILL STOP WORKING <<<\n",
      "in a subsequent release (no sooner than 2020-04-20).\n",
      "Please ensure you are installing\n",
      "Setuptools using pip 9.x or later or pin to `setuptools<45`\n",
      "in your environment.\n",
      "If you have done those things and are still encountering\n",
      "this message, please follow up at\n",
      "https://bit.ly/setuptools-py2-warning.\n",
      "************************************************************\n",
      "WARNING: pip is being invoked by an old script wrapper. This will fail in a future version of pip.\n",
      "Please see https://github.com/pypa/pip/issues/5599 for advice on fixing the underlying issue.\n",
      "To avoid this problem you can invoke Python with '-m pip' instead of running pip directly.\n",
      "\u001b[33mDEPRECATION: Python 2.7 reached the end of its life on January 1st, 2020. Please upgrade your Python as Python 2.7 is no longer maintained. A future version of pip will drop support for Python 2.7. More details about Python 2 support in pip, can be found at https://pip.pypa.io/en/latest/development/release-process/#python-2-support\u001b[0m\n",
      "\u001b[31mERROR: Could not find a version that satisfies the requirement tplmap (from versions: none)\u001b[0m\n",
      "\u001b[31mERROR: No matching distribution found for tplmap\u001b[0m\n"
     ]
    }
   ],
   "source": [
    "!pip install tplmap"
   ]
  },
  {
   "cell_type": "code",
   "execution_count": null,
   "id": "5712a1d1-02e1-4a2e-a67b-d1114f976011",
   "metadata": {},
   "outputs": [],
   "source": []
  }
 ],
 "metadata": {
  "kernelspec": {
   "display_name": "Python 3 (ipykernel)",
   "language": "python",
   "name": "python3"
  },
  "language_info": {
   "codemirror_mode": {
    "name": "ipython",
    "version": 3
   },
   "file_extension": ".py",
   "mimetype": "text/x-python",
   "name": "python",
   "nbconvert_exporter": "python",
   "pygments_lexer": "ipython3",
   "version": "3.9.5"
  }
 },
 "nbformat": 4,
 "nbformat_minor": 5
}
