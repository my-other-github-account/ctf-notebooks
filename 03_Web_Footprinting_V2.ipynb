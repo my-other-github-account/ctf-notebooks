{
 "cells": [
  {
   "cell_type": "markdown",
   "id": "ca2935c2-0e9b-4176-96c2-26e3dd4a5f02",
   "metadata": {},
   "source": [
    "# V2 Notebook\n",
    "\n",
    "# TODOs:\n",
    "\n",
    "### Auto extract forms: https://www.thepythoncode.com/article/extracting-and-submitting-web-page-forms-in-python\n",
    "### Autorecon\n",
    "### Wfuzz\n",
    "\n",
    "#\n",
    "\n",
    "### Searchsploit\n",
    "### Full auto cross tool URL collection and traversal\n",
    "### 'IP Forwarded By' hiding\n",
    "\n",
    "https://eightytwo.net/blog/brute-forcing-the-admin-password-on-nibbles/"
   ]
  },
  {
   "cell_type": "code",
   "execution_count": 1,
   "id": "8d802b06-8e92-49cc-a2c7-62ff6450e996",
   "metadata": {},
   "outputs": [],
   "source": [
    "from web_footprinting_utils import setup_ipython\n",
    "\n",
    "get_ipython, INTERACTIVE = setup_ipython()"
   ]
  },
  {
   "cell_type": "code",
   "execution_count": 2,
   "id": "403a8b52-e1da-4203-bbe7-4b3481965680",
   "metadata": {},
   "outputs": [
    {
     "name": "stdout",
     "output_type": "stream",
     "text": [
      "env: TARGET=10.10.129.98\n",
      "env: PORT=80\n"
     ]
    }
   ],
   "source": [
    "%env TARGET=10.10.129.98\n",
    "%env PORT=80"
   ]
  },
  {
   "cell_type": "code",
   "execution_count": 3,
   "id": "25d3d115-f4d3-453e-9ce4-9aba2f8af151",
   "metadata": {},
   "outputs": [
    {
     "name": "stdout",
     "output_type": "stream",
     "text": [
      "PING 10.10.129.98 (10.10.129.98) 56(84) bytes of data.\n",
      "64 bytes from 10.10.129.98: icmp_seq=1 ttl=64 time=0.427 ms\n",
      "64 bytes from 10.10.129.98: icmp_seq=2 ttl=64 time=0.575 ms\n",
      "64 bytes from 10.10.129.98: icmp_seq=3 ttl=64 time=0.441 ms\n",
      "64 bytes from 10.10.129.98: icmp_seq=4 ttl=64 time=7.61 ms\n",
      "64 bytes from 10.10.129.98: icmp_seq=5 ttl=64 time=0.361 ms\n",
      "\n",
      "--- 10.10.129.98 ping statistics ---\n",
      "5 packets transmitted, 5 received, 0% packet loss, time 4036ms\n",
      "rtt min/avg/max/mdev = 0.361/1.883/7.613/2.865 ms\n"
     ]
    }
   ],
   "source": [
    "import os \n",
    "\n",
    "port = os.environ['PORT']\n",
    "target_site = os.environ['TARGET']\n",
    "!ping -c 5 $TARGET"
   ]
  },
  {
   "cell_type": "code",
   "execution_count": 4,
   "id": "953b02a4-d927-4ed8-91a4-08ca6fbda3ad",
   "metadata": {},
   "outputs": [],
   "source": [
    "from web_footprinting_utils import WebsiteRecord, LinkRecorder\n",
    "\n",
    "record = WebsiteRecord(target_site, directory=\"\", port=port)"
   ]
  },
  {
   "cell_type": "code",
   "execution_count": null,
   "id": "f0ed67d2-1ff0-46ef-b254-588f3fcc433c",
   "metadata": {},
   "outputs": [
    {
     "name": "stdout",
     "output_type": "stream",
     "text": [
      "fingerprinting http://10.10.129.98:80\n",
      "\u001b[31m\n",
      "\n",
      "Whatweb:\u001b[0m\n",
      "\u001b[1m\u001b[34mhttp://10.10.129.98:80\u001b[0m [200 OK] \u001b[1m\u001b[37mApache\u001b[0m[\u001b[1m\u001b[32m2.4.18\u001b[0m], \u001b[1m\u001b[37mCountry\u001b[0m[\u001b[37mRESERVED\u001b[0m][\u001b[1m\u001b[31mZZ\u001b[0m], \u001b[1m\u001b[37mHTML5\u001b[0m, \u001b[1m\u001b[37mHTTPServer\u001b[0m[\u001b[1m\u001b[31mUbuntu Linux\u001b[0m][\u001b[1m\u001b[36mApache/2.4.18 (Ubuntu)\u001b[0m], \u001b[1m\u001b[37mIP\u001b[0m[\u001b[37m10.10.129.98\u001b[0m], \u001b[1m\u001b[37mJQuery\u001b[0m[\u001b[1m\u001b[32m1.7.1\u001b[0m], \u001b[1m\u001b[37mScript\u001b[0m, \u001b[1m\u001b[37mTitle\u001b[0m[\u001b[1m\u001b[33mWelcome to FUEL CMS\u001b[0m]\n",
      "\u001b[31m\n",
      "\n",
      "Ffuf:\u001b[0m\n",
      "\n",
      "        /'___\\  /'___\\           /'___\\       \n",
      "       /\\ \\__/ /\\ \\__/  __  __  /\\ \\__/       \n",
      "       \\ \\ ,__\\\\ \\ ,__\\/\\ \\/\\ \\ \\ \\ ,__\\      \n",
      "        \\ \\ \\_/ \\ \\ \\_/\\ \\ \\_\\ \\ \\ \\ \\_/      \n",
      "         \\ \\_\\   \\ \\_\\  \\ \\____/  \\ \\_\\       \n",
      "          \\/_/    \\/_/   \\/___/    \\/_/       \n",
      "\n",
      "       v1.3.1 Kali Exclusive \u001b[31m<3\u001b[0m\n",
      "________________________________________________\n",
      "\n",
      " :: Method           : GET\n",
      " :: URL              : http://10.10.129.98:80/FUZZ\n",
      " :: Wordlist         : FUZZ: /usr/share/dirb/wordlists/common.txt\n",
      " :: Output file      : ffuf_out.json\n",
      " :: File format      : json\n",
      " :: Follow redirects : true\n",
      " :: Calibration      : false\n",
      " :: Timeout          : 10\n",
      " :: Threads          : 50\n",
      " :: Matcher          : Response status: 200,204,301,302,307,401,403,405\n",
      "________________________________________________\n",
      "\n",
      "\u001b[2K[Status: 200, Size: 16601, Words: 770, Lines: 232]\u001b[0m Duration: [0:00:02] :: Errors: 0 ::\u001b[32m\n",
      "\u001b[2K| URL | http://10.10.129.98:80/0\n",
      "\u001b[2K    * FUZZ: 0\n",
      "\n",
      "\u001b[2K[Status: 403, Size: 296, Words: 22, Lines: 12]\u001b[0mc :: Duration: [0:00:06] :: Errors: 0 ::\u001b[33m\n",
      "\u001b[2K| URL | http://10.10.129.98:80/.htpasswd\n",
      "\u001b[2K    * FUZZ: .htpasswd\n",
      "\n",
      "\u001b[2K[Status: 403, Size: 296, Words: 22, Lines: 12]\u001b[0mc :: Duration: [0:00:06] :: Errors: 0 ::\u001b[33m\n",
      "\u001b[2K| URL | http://10.10.129.98:80/.htaccess\n",
      "\u001b[2K    * FUZZ: .htaccess\n",
      "\n",
      "\u001b[2K[Status: 403, Size: 291, Words: 22, Lines: 12]\u001b[0mc :: Duration: [0:00:06] :: Errors: 0 ::\u001b[33m\n",
      "\u001b[2K| URL | http://10.10.129.98:80/.hta\n",
      "\u001b[2K    * FUZZ: .hta\n",
      "\n",
      "\u001b[2K[Status: 403, Size: 294, Words: 22, Lines: 12]\u001b[0mc :: Duration: [0:00:13] :: Errors: 0 ::\u001b[33m\n",
      "\u001b[2K| URL | http://10.10.129.98:80/assets\n",
      "\u001b[2K    * FUZZ: assets\n",
      "\n",
      "\u001b[2K[Status: 200, Size: 16601, Words: 770, Lines: 232]\u001b[0m Duration: [0:00:14] :: Errors: 0 ::\u001b[32m\n",
      "\u001b[2K| URL | http://10.10.129.98:80/\n",
      "\u001b[2K    * FUZZ: \n",
      "\n",
      "\u001b[2K:: Progress: [1507/4614] :: Job [1/1] :: 130 req/sec :: Duration: [0:00:37] :: Errors: 3 ::"
     ]
    }
   ],
   "source": [
    "%matplotlib inline\n",
    "results = record.fingerprint_page()"
   ]
  },
  {
   "cell_type": "code",
   "execution_count": null,
   "id": "0a4f1d6c-a138-4fbc-bfab-d0ac94d8ad6b",
   "metadata": {},
   "outputs": [],
   "source": [
    "record.fingerprint_extended()"
   ]
  },
  {
   "cell_type": "markdown",
   "id": "4f108fcd-7985-4b83-9b14-5fc0866c1d17",
   "metadata": {},
   "source": [
    "# Main Checks Complete!"
   ]
  },
  {
   "cell_type": "code",
   "execution_count": null,
   "id": "ce831442-bdfa-4fc9-9405-9b140d00a315",
   "metadata": {},
   "outputs": [],
   "source": [
    "input(\"Press any keys...\")"
   ]
  },
  {
   "cell_type": "code",
   "execution_count": null,
   "id": "47cb625d-aecf-45f3-a1a3-86ca8a212c21",
   "metadata": {
    "tags": []
   },
   "outputs": [],
   "source": [
    "%matplotlib inline\n",
    "record_alt = WebsiteRecord(target_site, directory=\"/blog\", port=80)\n",
    "record_alt.fingerprint_page()\n",
    "record_alt.fingerprint_extended()"
   ]
  },
  {
   "cell_type": "code",
   "execution_count": null,
   "id": "d06fca23-93db-407e-ac04-b82acc0e9f7e",
   "metadata": {},
   "outputs": [],
   "source": [
    "%matplotlib inline\n",
    "record_alt = WebsiteRecord(target_site, directory=\"/blog/wp-content\", port=80)\n",
    "record_alt.fingerprint_page()\n",
    "record_alt.fingerprint_extended()"
   ]
  },
  {
   "cell_type": "code",
   "execution_count": null,
   "id": "00529ad0-538f-4307-a88d-c6a8442b566b",
   "metadata": {
    "scrolled": true,
    "tags": []
   },
   "outputs": [],
   "source": [
    "%matplotlib inline\n",
    "record_alt = WebsiteRecord(target_site, directory=\"/blog/wp-content/plugins\", port=80)\n",
    "record_alt.fingerprint_page()\n",
    "record_alt.fingerprint_extended()"
   ]
  },
  {
   "cell_type": "code",
   "execution_count": null,
   "id": "5fdba2d5-91e7-4c7d-9420-fa0deeb47bcc",
   "metadata": {},
   "outputs": [],
   "source": [
    "%matplotlib inline\n",
    "record_alt = WebsiteRecord(target_site, directory=\"/blog/wp-content/plugins/akismet\", port=80)\n",
    "record_alt.fingerprint_page()\n",
    "record_alt.fingerprint_extended()"
   ]
  },
  {
   "cell_type": "code",
   "execution_count": null,
   "id": "aa7acfe1-0834-4fe2-b770-12eaad3ac554",
   "metadata": {},
   "outputs": [],
   "source": [
    "from web_footprinting_utils import save_notebook\n",
    "\n",
    "save_notebook()"
   ]
  },
  {
   "cell_type": "code",
   "execution_count": null,
   "id": "adced135-1e1b-4c6a-9121-7fc4f0a9d1c6",
   "metadata": {},
   "outputs": [],
   "source": [
    "if INTERACTIVE:\n",
    "    !jupyter nbconvert --to script \"3_Web_Footprinting_V2.ipynb\""
   ]
  }
 ],
 "metadata": {
  "kernelspec": {
   "display_name": "Python 3 (ipykernel)",
   "language": "python",
   "name": "python3"
  },
  "language_info": {
   "codemirror_mode": {
    "name": "ipython",
    "version": 3
   },
   "file_extension": ".py",
   "mimetype": "text/x-python",
   "name": "python",
   "nbconvert_exporter": "python",
   "pygments_lexer": "ipython3",
   "version": "3.9.5"
  }
 },
 "nbformat": 4,
 "nbformat_minor": 5
}
