{
 "cells": [
  {
   "cell_type": "markdown",
   "id": "ca2935c2-0e9b-4176-96c2-26e3dd4a5f02",
   "metadata": {},
   "source": [
    "# V2 Notebook\n",
    "\n",
    "# TODOs:\n",
    "\n",
    "### Auto extract forms: https://www.thepythoncode.com/article/extracting-and-submitting-web-page-forms-in-python\n",
    "### Autorecon\n",
    "### Wfuzz\n",
    "\n",
    "#\n",
    "\n",
    "### Searchsploit\n",
    "### Full auto cross tool URL collection and traversal\n",
    "### 'IP Forwarded By' hiding\n",
    "\n",
    "https://eightytwo.net/blog/brute-forcing-the-admin-password-on-nibbles/"
   ]
  },
  {
   "cell_type": "code",
   "execution_count": 1,
   "id": "8d802b06-8e92-49cc-a2c7-62ff6450e996",
   "metadata": {},
   "outputs": [],
   "source": [
    "from web_footprinting_utils import setup_ipython\n",
    "\n",
    "get_ipython, INTERACTIVE = setup_ipython()"
   ]
  },
  {
   "cell_type": "code",
   "execution_count": 2,
   "id": "403a8b52-e1da-4203-bbe7-4b3481965680",
   "metadata": {},
   "outputs": [
    {
     "name": "stdout",
     "output_type": "stream",
     "text": [
      "env: TARGET=10.10.215.33\n",
      "env: PORT=8080\n"
     ]
    }
   ],
   "source": [
    "%env TARGET=10.10.215.33\n",
    "%env PORT=80"
   ]
  },
  {
   "cell_type": "code",
   "execution_count": 3,
   "id": "25d3d115-f4d3-453e-9ce4-9aba2f8af151",
   "metadata": {},
   "outputs": [
    {
     "name": "stdout",
     "output_type": "stream",
     "text": [
      "PING 10.10.215.33 (10.10.215.33) 56(84) bytes of data.\n",
      "64 bytes from 10.10.215.33: icmp_seq=1 ttl=64 time=0.774 ms\n",
      "64 bytes from 10.10.215.33: icmp_seq=2 ttl=64 time=0.653 ms\n",
      "64 bytes from 10.10.215.33: icmp_seq=3 ttl=64 time=0.446 ms\n"
     ]
    },
    {
     "name": "stderr",
     "output_type": "stream",
     "text": [
      "\n",
      "KeyboardInterrupt\n",
      "\n"
     ]
    },
    {
     "name": "stdout",
     "output_type": "stream",
     "text": [
      "\n",
      "--- 10.10.215.33 ping statistics ---\n",
      "3 packets transmitted, 3 received, 0% packet loss, time 2008ms\n",
      "rtt min/avg/max/mdev = 0.446/0.624/0.774/0.135 ms\n"
     ]
    }
   ],
   "source": [
    "import os \n",
    "\n",
    "port = os.environ['PORT']\n",
    "target_site = os.environ['TARGET']\n",
    "!ping -c 5 $TARGET"
   ]
  },
  {
   "cell_type": "code",
   "execution_count": 4,
   "id": "953b02a4-d927-4ed8-91a4-08ca6fbda3ad",
   "metadata": {},
   "outputs": [
    {
     "ename": "KeyboardInterrupt",
     "evalue": "",
     "output_type": "error",
     "traceback": [
      "\u001b[0;31m---------------------------------------------------------------------------\u001b[0m",
      "\u001b[0;31mKeyboardInterrupt\u001b[0m                         Traceback (most recent call last)",
      "\u001b[0;32m/tmp/ipykernel_31307/628936709.py\u001b[0m in \u001b[0;36m<module>\u001b[0;34m\u001b[0m\n\u001b[1;32m      1\u001b[0m \u001b[0;32mfrom\u001b[0m \u001b[0mweb_footprinting_utils\u001b[0m \u001b[0;32mimport\u001b[0m \u001b[0mWebsiteRecord\u001b[0m\u001b[0;34m,\u001b[0m \u001b[0mLinkRecorder\u001b[0m\u001b[0;34m\u001b[0m\u001b[0;34m\u001b[0m\u001b[0m\n\u001b[1;32m      2\u001b[0m \u001b[0;34m\u001b[0m\u001b[0m\n\u001b[0;32m----> 3\u001b[0;31m \u001b[0mrecord\u001b[0m \u001b[0;34m=\u001b[0m \u001b[0mWebsiteRecord\u001b[0m\u001b[0;34m(\u001b[0m\u001b[0mtarget_site\u001b[0m\u001b[0;34m,\u001b[0m \u001b[0mdirectory\u001b[0m\u001b[0;34m=\u001b[0m\u001b[0;34m\"\"\u001b[0m\u001b[0;34m,\u001b[0m \u001b[0mport\u001b[0m\u001b[0;34m=\u001b[0m\u001b[0mport\u001b[0m\u001b[0;34m)\u001b[0m\u001b[0;34m\u001b[0m\u001b[0;34m\u001b[0m\u001b[0m\n\u001b[0m",
      "\u001b[0;32m~/ctf-notebooks/web_footprinting_utils.py\u001b[0m in \u001b[0;36m__init__\u001b[0;34m(self, target, directory, port, status)\u001b[0m\n\u001b[1;32m     87\u001b[0m         \u001b[0moptions\u001b[0m\u001b[0;34m.\u001b[0m\u001b[0madd_argument\u001b[0m\u001b[0;34m(\u001b[0m\u001b[0;34m\"--no-sandbox\"\u001b[0m\u001b[0;34m)\u001b[0m\u001b[0;34m\u001b[0m\u001b[0;34m\u001b[0m\u001b[0m\n\u001b[1;32m     88\u001b[0m \u001b[0;34m\u001b[0m\u001b[0m\n\u001b[0;32m---> 89\u001b[0;31m         \u001b[0mself\u001b[0m\u001b[0;34m.\u001b[0m\u001b[0mdriver\u001b[0m \u001b[0;34m=\u001b[0m \u001b[0mwebdriver\u001b[0m\u001b[0;34m.\u001b[0m\u001b[0mChrome\u001b[0m\u001b[0;34m(\u001b[0m\u001b[0mchrome_options\u001b[0m\u001b[0;34m=\u001b[0m\u001b[0moptions\u001b[0m\u001b[0;34m,\u001b[0m \u001b[0mexecutable_path\u001b[0m\u001b[0;34m=\u001b[0m\u001b[0mos\u001b[0m\u001b[0;34m.\u001b[0m\u001b[0mpath\u001b[0m\u001b[0;34m.\u001b[0m\u001b[0mjoin\u001b[0m\u001b[0;34m(\u001b[0m\u001b[0mos\u001b[0m\u001b[0;34m.\u001b[0m\u001b[0mgetcwd\u001b[0m\u001b[0;34m(\u001b[0m\u001b[0;34m)\u001b[0m\u001b[0;34m,\u001b[0m \u001b[0;34m\"chromedriver\"\u001b[0m\u001b[0;34m)\u001b[0m\u001b[0;34m)\u001b[0m\u001b[0;34m\u001b[0m\u001b[0;34m\u001b[0m\u001b[0m\n\u001b[0m\u001b[1;32m     90\u001b[0m \u001b[0;34m\u001b[0m\u001b[0m\n\u001b[1;32m     91\u001b[0m     \u001b[0;32mdef\u001b[0m \u001b[0mwhatweb\u001b[0m\u001b[0;34m(\u001b[0m\u001b[0mself\u001b[0m\u001b[0;34m,\u001b[0m \u001b[0mverbose\u001b[0m \u001b[0;34m=\u001b[0m \u001b[0;32mTrue\u001b[0m\u001b[0;34m)\u001b[0m\u001b[0;34m:\u001b[0m\u001b[0;34m\u001b[0m\u001b[0;34m\u001b[0m\u001b[0m\n",
      "\u001b[0;32m~/miniconda/lib/python3.9/site-packages/selenium/webdriver/chrome/webdriver.py\u001b[0m in \u001b[0;36m__init__\u001b[0;34m(self, executable_path, port, options, service_args, desired_capabilities, service_log_path, chrome_options, service, keep_alive)\u001b[0m\n\u001b[1;32m     67\u001b[0m             \u001b[0mservice\u001b[0m \u001b[0;34m=\u001b[0m \u001b[0mService\u001b[0m\u001b[0;34m(\u001b[0m\u001b[0mexecutable_path\u001b[0m\u001b[0;34m,\u001b[0m \u001b[0mport\u001b[0m\u001b[0;34m,\u001b[0m \u001b[0mservice_args\u001b[0m\u001b[0;34m,\u001b[0m \u001b[0mservice_log_path\u001b[0m\u001b[0;34m)\u001b[0m\u001b[0;34m\u001b[0m\u001b[0;34m\u001b[0m\u001b[0m\n\u001b[1;32m     68\u001b[0m \u001b[0;34m\u001b[0m\u001b[0m\n\u001b[0;32m---> 69\u001b[0;31m         super(WebDriver, self).__init__(DesiredCapabilities.CHROME['browserName'], \"goog\",\n\u001b[0m\u001b[1;32m     70\u001b[0m                                         \u001b[0mport\u001b[0m\u001b[0;34m,\u001b[0m \u001b[0moptions\u001b[0m\u001b[0;34m,\u001b[0m\u001b[0;34m\u001b[0m\u001b[0;34m\u001b[0m\u001b[0m\n\u001b[1;32m     71\u001b[0m                                         \u001b[0mservice_args\u001b[0m\u001b[0;34m,\u001b[0m \u001b[0mdesired_capabilities\u001b[0m\u001b[0;34m,\u001b[0m\u001b[0;34m\u001b[0m\u001b[0;34m\u001b[0m\u001b[0m\n",
      "\u001b[0;32m~/miniconda/lib/python3.9/site-packages/selenium/webdriver/chromium/webdriver.py\u001b[0m in \u001b[0;36m__init__\u001b[0;34m(self, browser_name, vendor_prefix, port, options, service_args, desired_capabilities, service_log_path, service, keep_alive)\u001b[0m\n\u001b[1;32m     88\u001b[0m \u001b[0;34m\u001b[0m\u001b[0m\n\u001b[1;32m     89\u001b[0m         \u001b[0mself\u001b[0m\u001b[0;34m.\u001b[0m\u001b[0mservice\u001b[0m \u001b[0;34m=\u001b[0m \u001b[0mservice\u001b[0m\u001b[0;34m\u001b[0m\u001b[0;34m\u001b[0m\u001b[0m\n\u001b[0;32m---> 90\u001b[0;31m         \u001b[0mself\u001b[0m\u001b[0;34m.\u001b[0m\u001b[0mservice\u001b[0m\u001b[0;34m.\u001b[0m\u001b[0mstart\u001b[0m\u001b[0;34m(\u001b[0m\u001b[0;34m)\u001b[0m\u001b[0;34m\u001b[0m\u001b[0;34m\u001b[0m\u001b[0m\n\u001b[0m\u001b[1;32m     91\u001b[0m \u001b[0;34m\u001b[0m\u001b[0m\n\u001b[1;32m     92\u001b[0m         \u001b[0;32mtry\u001b[0m\u001b[0;34m:\u001b[0m\u001b[0;34m\u001b[0m\u001b[0;34m\u001b[0m\u001b[0m\n",
      "\u001b[0;32m~/miniconda/lib/python3.9/site-packages/selenium/webdriver/common/service.py\u001b[0m in \u001b[0;36mstart\u001b[0;34m(self)\u001b[0m\n\u001b[1;32m    104\u001b[0m \u001b[0;34m\u001b[0m\u001b[0m\n\u001b[1;32m    105\u001b[0m             \u001b[0mcount\u001b[0m \u001b[0;34m+=\u001b[0m \u001b[0;36m1\u001b[0m\u001b[0;34m\u001b[0m\u001b[0;34m\u001b[0m\u001b[0m\n\u001b[0;32m--> 106\u001b[0;31m             \u001b[0msleep\u001b[0m\u001b[0;34m(\u001b[0m\u001b[0;36m0.5\u001b[0m\u001b[0;34m)\u001b[0m\u001b[0;34m\u001b[0m\u001b[0;34m\u001b[0m\u001b[0m\n\u001b[0m\u001b[1;32m    107\u001b[0m             \u001b[0;32mif\u001b[0m \u001b[0mcount\u001b[0m \u001b[0;34m==\u001b[0m \u001b[0;36m60\u001b[0m\u001b[0;34m:\u001b[0m\u001b[0;34m\u001b[0m\u001b[0;34m\u001b[0m\u001b[0m\n\u001b[1;32m    108\u001b[0m                 \u001b[0;32mraise\u001b[0m \u001b[0mWebDriverException\u001b[0m\u001b[0;34m(\u001b[0m\u001b[0;34m\"Can not connect to the Service %s\"\u001b[0m \u001b[0;34m%\u001b[0m \u001b[0mself\u001b[0m\u001b[0;34m.\u001b[0m\u001b[0mpath\u001b[0m\u001b[0;34m)\u001b[0m\u001b[0;34m\u001b[0m\u001b[0;34m\u001b[0m\u001b[0m\n",
      "\u001b[0;31mKeyboardInterrupt\u001b[0m: "
     ]
    }
   ],
   "source": [
    "from web_footprinting_utils import WebsiteRecord, LinkRecorder\n",
    "\n",
    "record = WebsiteRecord(target_site, directory=\"\", port=port)"
   ]
  },
  {
   "cell_type": "code",
   "execution_count": null,
   "id": "f8d2a159-70cd-483c-bce4-b26c9b1be6e5",
   "metadata": {},
   "outputs": [],
   "source": [
    "record = WebsiteRecord(target_site, directory=\"/r/a/b/b/i/t\", port=port)\n",
    "record.ffuf(wordlist='alice_words.txt')"
   ]
  },
  {
   "cell_type": "code",
   "execution_count": null,
   "id": "f0ed67d2-1ff0-46ef-b254-588f3fcc433c",
   "metadata": {
    "scrolled": true,
    "tags": []
   },
   "outputs": [],
   "source": [
    "%matplotlib inline\n",
    "results = record.fingerprint_page()"
   ]
  },
  {
   "cell_type": "code",
   "execution_count": null,
   "id": "0a4f1d6c-a138-4fbc-bfab-d0ac94d8ad6b",
   "metadata": {},
   "outputs": [],
   "source": [
    "record.fingerprint_extended()"
   ]
  },
  {
   "cell_type": "markdown",
   "id": "4f108fcd-7985-4b83-9b14-5fc0866c1d17",
   "metadata": {},
   "source": [
    "# Main Checks Complete!"
   ]
  },
  {
   "cell_type": "code",
   "execution_count": null,
   "id": "ce831442-bdfa-4fc9-9405-9b140d00a315",
   "metadata": {},
   "outputs": [],
   "source": [
    "input(\"Press any keys...\")"
   ]
  },
  {
   "cell_type": "code",
   "execution_count": null,
   "id": "47cb625d-aecf-45f3-a1a3-86ca8a212c21",
   "metadata": {
    "scrolled": true,
    "tags": []
   },
   "outputs": [],
   "source": [
    "%matplotlib inline\n",
    "record_alt = WebsiteRecord(target_site, directory=\"/r/a/b/b/i/t\", port=80)\n",
    "record_alt.fingerprint_page()\n",
    "record_alt.fingerprint_extended()"
   ]
  },
  {
   "cell_type": "code",
   "execution_count": null,
   "id": "d06fca23-93db-407e-ac04-b82acc0e9f7e",
   "metadata": {
    "tags": []
   },
   "outputs": [],
   "source": [
    "%matplotlib inline\n",
    "record_alt = WebsiteRecord(target_site, directory=\"/poem\", port=80)\n",
    "record_alt.fingerprint_page()\n",
    "record_alt.fingerprint_extended()"
   ]
  },
  {
   "cell_type": "code",
   "execution_count": null,
   "id": "5c4a2491-8d38-4a83-9059-487d4ab437f9",
   "metadata": {},
   "outputs": [],
   "source": [
    "record_alt = WebsiteRecord(target_site, directory=\"/poem/index.html\", port=80)\n",
    "!cd CeWL && unbuffer ./cewl.rb -c {target_site}\"/poem\"\n",
    "!cd CeWL && unbuffer ./cewl.rb {target_site}\"/poem\""
   ]
  },
  {
   "cell_type": "code",
   "execution_count": null,
   "id": "0dd02b44-d966-4df1-b463-45bcc017f1ca",
   "metadata": {},
   "outputs": [],
   "source": [
    "input(\"Press any keys...\")"
   ]
  },
  {
   "cell_type": "code",
   "execution_count": null,
   "id": "00529ad0-538f-4307-a88d-c6a8442b566b",
   "metadata": {
    "scrolled": true,
    "tags": []
   },
   "outputs": [],
   "source": [
    "%matplotlib inline\n",
    "record_alt = WebsiteRecord(target_site, directory=\"/blog/wp-content/plugins\", port=80)\n",
    "record_alt.fingerprint_page()\n",
    "record_alt.fingerprint_extended()"
   ]
  },
  {
   "cell_type": "code",
   "execution_count": null,
   "id": "5fdba2d5-91e7-4c7d-9420-fa0deeb47bcc",
   "metadata": {},
   "outputs": [],
   "source": [
    "%matplotlib inline\n",
    "record_alt = WebsiteRecord(target_site, directory=\"/blog/wp-content/plugins/akismet\", port=80)\n",
    "record_alt.fingerprint_page()\n",
    "record_alt.fingerprint_extended()"
   ]
  },
  {
   "cell_type": "code",
   "execution_count": null,
   "id": "aa7acfe1-0834-4fe2-b770-12eaad3ac554",
   "metadata": {},
   "outputs": [],
   "source": [
    "from web_footprinting_utils import save_notebook\n",
    "\n",
    "save_notebook()"
   ]
  },
  {
   "cell_type": "code",
   "execution_count": null,
   "id": "adced135-1e1b-4c6a-9121-7fc4f0a9d1c6",
   "metadata": {},
   "outputs": [],
   "source": [
    "if INTERACTIVE:\n",
    "    !jupyter nbconvert --to script \"3_Web_Footprinting_V2.ipynb\""
   ]
  }
 ],
 "metadata": {
  "kernelspec": {
   "display_name": "Python 3 (ipykernel)",
   "language": "python",
   "name": "python3"
  },
  "language_info": {
   "codemirror_mode": {
    "name": "ipython",
    "version": 3
   },
   "file_extension": ".py",
   "mimetype": "text/x-python",
   "name": "python",
   "nbconvert_exporter": "python",
   "pygments_lexer": "ipython3",
   "version": "3.9.5"
  }
 },
 "nbformat": 4,
 "nbformat_minor": 5
}
