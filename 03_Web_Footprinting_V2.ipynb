{
 "cells": [
  {
   "cell_type": "markdown",
   "id": "b87c6ea5-a2f2-482a-92cb-0c5d71e14f66",
   "metadata": {
    "tags": []
   },
   "source": [
    "# ASSIGNMENT:"
   ]
  },
  {
   "cell_type": "markdown",
   "id": "ca2935c2-0e9b-4176-96c2-26e3dd4a5f02",
   "metadata": {},
   "source": [
    "# V2 Notebook\n",
    "\n",
    "# TODOs:\n",
    "\n",
    "### Auto extract forms: https://www.thepythoncode.com/article/extracting-and-submitting-web-page-forms-in-python\n",
    "### Autorecon\n",
    "### Wfuzz\n",
    "\n",
    "#\n",
    "\n",
    "### Searchsploit\n",
    "### Full auto cross tool URL collection and traversal\n",
    "### 'IP Forwarded By' hiding\n",
    "\n",
    "https://eightytwo.net/blog/brute-forcing-the-admin-password-on-nibbles/"
   ]
  },
  {
   "cell_type": "code",
   "execution_count": 1,
   "id": "8d802b06-8e92-49cc-a2c7-62ff6450e996",
   "metadata": {},
   "outputs": [],
   "source": [
    "from web_footprinting_utils import setup_ipython\n",
    "\n",
    "get_ipython, INTERACTIVE = setup_ipython()"
   ]
  },
  {
   "cell_type": "code",
   "execution_count": 2,
   "id": "403a8b52-e1da-4203-bbe7-4b3481965680",
   "metadata": {},
   "outputs": [
    {
     "name": "stdout",
     "output_type": "stream",
     "text": [
      "env: TARGET=10.11.1.74\n",
      "env: PORT=80\n"
     ]
    }
   ],
   "source": [
    "%env TARGET=10.11.1.74\n",
    "%env PORT=80"
   ]
  },
  {
   "cell_type": "code",
   "execution_count": 3,
   "id": "25d3d115-f4d3-453e-9ce4-9aba2f8af151",
   "metadata": {},
   "outputs": [
    {
     "name": "stdout",
     "output_type": "stream",
     "text": [
      "PING 10.11.1.74 (10.11.1.74) 56(84) bytes of data.\n",
      "64 bytes from 10.11.1.74: icmp_seq=1 ttl=63 time=4884 ms\n",
      "64 bytes from 10.11.1.74: icmp_seq=2 ttl=63 time=3866 ms\n",
      "64 bytes from 10.11.1.74: icmp_seq=3 ttl=63 time=3021 ms\n",
      "64 bytes from 10.11.1.74: icmp_seq=4 ttl=63 time=2501 ms\n",
      "64 bytes from 10.11.1.74: icmp_seq=5 ttl=63 time=1807 ms\n",
      "\n",
      "--- 10.11.1.74 ping statistics ---\n",
      "5 packets transmitted, 5 received, 0% packet loss, time 4066ms\n",
      "rtt min/avg/max/mdev = 1807.252/3215.767/4884.246/1071.366 ms, pipe 5\n"
     ]
    }
   ],
   "source": [
    "import os \n",
    "\n",
    "port = os.environ['PORT']\n",
    "target_site = os.environ['TARGET']\n",
    "!ping -c 5 $TARGET"
   ]
  },
  {
   "cell_type": "code",
   "execution_count": 4,
   "id": "953b02a4-d927-4ed8-91a4-08ca6fbda3ad",
   "metadata": {},
   "outputs": [
    {
     "ename": "WebDriverException",
     "evalue": "Message: 'chromedriver' executable needs to be in PATH. Please see https://sites.google.com/a/chromium.org/chromedriver/home\n",
     "output_type": "error",
     "traceback": [
      "\u001b[0;31m---------------------------------------------------------------------------\u001b[0m",
      "\u001b[0;31mFileNotFoundError\u001b[0m                         Traceback (most recent call last)",
      "\u001b[0;32m~/.local/lib/python3.9/site-packages/selenium/webdriver/common/service.py\u001b[0m in \u001b[0;36mstart\u001b[0;34m(self)\u001b[0m\n\u001b[1;32m     61\u001b[0m             \u001b[0mcmd\u001b[0m\u001b[0;34m.\u001b[0m\u001b[0mextend\u001b[0m\u001b[0;34m(\u001b[0m\u001b[0mself\u001b[0m\u001b[0;34m.\u001b[0m\u001b[0mcommand_line_args\u001b[0m\u001b[0;34m(\u001b[0m\u001b[0;34m)\u001b[0m\u001b[0;34m)\u001b[0m\u001b[0;34m\u001b[0m\u001b[0;34m\u001b[0m\u001b[0m\n\u001b[0;32m---> 62\u001b[0;31m             self.process = subprocess.Popen(cmd, env=self.env,\n\u001b[0m\u001b[1;32m     63\u001b[0m                                             \u001b[0mclose_fds\u001b[0m\u001b[0;34m=\u001b[0m\u001b[0mplatform\u001b[0m\u001b[0;34m.\u001b[0m\u001b[0msystem\u001b[0m\u001b[0;34m(\u001b[0m\u001b[0;34m)\u001b[0m \u001b[0;34m!=\u001b[0m \u001b[0;34m'Windows'\u001b[0m\u001b[0;34m,\u001b[0m\u001b[0;34m\u001b[0m\u001b[0;34m\u001b[0m\u001b[0m\n",
      "\u001b[0;32m/usr/lib/python3.9/subprocess.py\u001b[0m in \u001b[0;36m__init__\u001b[0;34m(self, args, bufsize, executable, stdin, stdout, stderr, preexec_fn, close_fds, shell, cwd, env, universal_newlines, startupinfo, creationflags, restore_signals, start_new_session, pass_fds, user, group, extra_groups, encoding, errors, text, umask)\u001b[0m\n\u001b[1;32m    950\u001b[0m \u001b[0;34m\u001b[0m\u001b[0m\n\u001b[0;32m--> 951\u001b[0;31m             self._execute_child(args, executable, preexec_fn, close_fds,\n\u001b[0m\u001b[1;32m    952\u001b[0m                                 \u001b[0mpass_fds\u001b[0m\u001b[0;34m,\u001b[0m \u001b[0mcwd\u001b[0m\u001b[0;34m,\u001b[0m \u001b[0menv\u001b[0m\u001b[0;34m,\u001b[0m\u001b[0;34m\u001b[0m\u001b[0;34m\u001b[0m\u001b[0m\n",
      "\u001b[0;32m/usr/lib/python3.9/subprocess.py\u001b[0m in \u001b[0;36m_execute_child\u001b[0;34m(self, args, executable, preexec_fn, close_fds, pass_fds, cwd, env, startupinfo, creationflags, shell, p2cread, p2cwrite, c2pread, c2pwrite, errread, errwrite, restore_signals, gid, gids, uid, umask, start_new_session)\u001b[0m\n\u001b[1;32m   1822\u001b[0m                         \u001b[0merr_msg\u001b[0m \u001b[0;34m=\u001b[0m \u001b[0mos\u001b[0m\u001b[0;34m.\u001b[0m\u001b[0mstrerror\u001b[0m\u001b[0;34m(\u001b[0m\u001b[0merrno_num\u001b[0m\u001b[0;34m)\u001b[0m\u001b[0;34m\u001b[0m\u001b[0;34m\u001b[0m\u001b[0m\n\u001b[0;32m-> 1823\u001b[0;31m                     \u001b[0;32mraise\u001b[0m \u001b[0mchild_exception_type\u001b[0m\u001b[0;34m(\u001b[0m\u001b[0merrno_num\u001b[0m\u001b[0;34m,\u001b[0m \u001b[0merr_msg\u001b[0m\u001b[0;34m,\u001b[0m \u001b[0merr_filename\u001b[0m\u001b[0;34m)\u001b[0m\u001b[0;34m\u001b[0m\u001b[0;34m\u001b[0m\u001b[0m\n\u001b[0m\u001b[1;32m   1824\u001b[0m                 \u001b[0;32mraise\u001b[0m \u001b[0mchild_exception_type\u001b[0m\u001b[0;34m(\u001b[0m\u001b[0merr_msg\u001b[0m\u001b[0;34m)\u001b[0m\u001b[0;34m\u001b[0m\u001b[0;34m\u001b[0m\u001b[0m\n",
      "\u001b[0;31mFileNotFoundError\u001b[0m: [Errno 2] No such file or directory: '/home/parallels/ctf-notebooks/chromedriver'",
      "\nDuring handling of the above exception, another exception occurred:\n",
      "\u001b[0;31mWebDriverException\u001b[0m                        Traceback (most recent call last)",
      "\u001b[0;32m/tmp/ipykernel_197877/628936709.py\u001b[0m in \u001b[0;36m<module>\u001b[0;34m\u001b[0m\n\u001b[1;32m      1\u001b[0m \u001b[0;32mfrom\u001b[0m \u001b[0mweb_footprinting_utils\u001b[0m \u001b[0;32mimport\u001b[0m \u001b[0mWebsiteRecord\u001b[0m\u001b[0;34m,\u001b[0m \u001b[0mLinkRecorder\u001b[0m\u001b[0;34m\u001b[0m\u001b[0;34m\u001b[0m\u001b[0m\n\u001b[1;32m      2\u001b[0m \u001b[0;34m\u001b[0m\u001b[0m\n\u001b[0;32m----> 3\u001b[0;31m \u001b[0mrecord\u001b[0m \u001b[0;34m=\u001b[0m \u001b[0mWebsiteRecord\u001b[0m\u001b[0;34m(\u001b[0m\u001b[0mtarget_site\u001b[0m\u001b[0;34m,\u001b[0m \u001b[0mdirectory\u001b[0m\u001b[0;34m=\u001b[0m\u001b[0;34m\"\"\u001b[0m\u001b[0;34m,\u001b[0m \u001b[0mport\u001b[0m\u001b[0;34m=\u001b[0m\u001b[0mport\u001b[0m\u001b[0;34m)\u001b[0m\u001b[0;34m\u001b[0m\u001b[0;34m\u001b[0m\u001b[0m\n\u001b[0m",
      "\u001b[0;32m~/ctf-notebooks/web_footprinting_utils.py\u001b[0m in \u001b[0;36m__init__\u001b[0;34m(self, target, directory, port, status)\u001b[0m\n\u001b[1;32m     87\u001b[0m         \u001b[0moptions\u001b[0m\u001b[0;34m.\u001b[0m\u001b[0madd_argument\u001b[0m\u001b[0;34m(\u001b[0m\u001b[0;34m\"--no-sandbox\"\u001b[0m\u001b[0;34m)\u001b[0m\u001b[0;34m\u001b[0m\u001b[0;34m\u001b[0m\u001b[0m\n\u001b[1;32m     88\u001b[0m \u001b[0;34m\u001b[0m\u001b[0m\n\u001b[0;32m---> 89\u001b[0;31m         \u001b[0mself\u001b[0m\u001b[0;34m.\u001b[0m\u001b[0mdriver\u001b[0m \u001b[0;34m=\u001b[0m \u001b[0mwebdriver\u001b[0m\u001b[0;34m.\u001b[0m\u001b[0mChrome\u001b[0m\u001b[0;34m(\u001b[0m\u001b[0mchrome_options\u001b[0m\u001b[0;34m=\u001b[0m\u001b[0moptions\u001b[0m\u001b[0;34m,\u001b[0m \u001b[0mexecutable_path\u001b[0m\u001b[0;34m=\u001b[0m\u001b[0mos\u001b[0m\u001b[0;34m.\u001b[0m\u001b[0mpath\u001b[0m\u001b[0;34m.\u001b[0m\u001b[0mjoin\u001b[0m\u001b[0;34m(\u001b[0m\u001b[0mos\u001b[0m\u001b[0;34m.\u001b[0m\u001b[0mgetcwd\u001b[0m\u001b[0;34m(\u001b[0m\u001b[0;34m)\u001b[0m\u001b[0;34m,\u001b[0m \u001b[0;34m\"chromedriver\"\u001b[0m\u001b[0;34m)\u001b[0m\u001b[0;34m)\u001b[0m\u001b[0;34m\u001b[0m\u001b[0;34m\u001b[0m\u001b[0m\n\u001b[0m\u001b[1;32m     90\u001b[0m \u001b[0;34m\u001b[0m\u001b[0m\n\u001b[1;32m     91\u001b[0m     \u001b[0;32mdef\u001b[0m \u001b[0mwhatweb\u001b[0m\u001b[0;34m(\u001b[0m\u001b[0mself\u001b[0m\u001b[0;34m,\u001b[0m \u001b[0mverbose\u001b[0m \u001b[0;34m=\u001b[0m \u001b[0;32mTrue\u001b[0m\u001b[0;34m)\u001b[0m\u001b[0;34m:\u001b[0m\u001b[0;34m\u001b[0m\u001b[0;34m\u001b[0m\u001b[0m\n",
      "\u001b[0;32m~/.local/lib/python3.9/site-packages/selenium/webdriver/chrome/webdriver.py\u001b[0m in \u001b[0;36m__init__\u001b[0;34m(self, executable_path, port, chrome_options, service_args, desired_capabilities, service_log_path)\u001b[0m\n\u001b[1;32m     60\u001b[0m             \u001b[0mservice_args\u001b[0m\u001b[0;34m=\u001b[0m\u001b[0mservice_args\u001b[0m\u001b[0;34m,\u001b[0m\u001b[0;34m\u001b[0m\u001b[0;34m\u001b[0m\u001b[0m\n\u001b[1;32m     61\u001b[0m             log_path=service_log_path)\n\u001b[0;32m---> 62\u001b[0;31m         \u001b[0mself\u001b[0m\u001b[0;34m.\u001b[0m\u001b[0mservice\u001b[0m\u001b[0;34m.\u001b[0m\u001b[0mstart\u001b[0m\u001b[0;34m(\u001b[0m\u001b[0;34m)\u001b[0m\u001b[0;34m\u001b[0m\u001b[0;34m\u001b[0m\u001b[0m\n\u001b[0m\u001b[1;32m     63\u001b[0m \u001b[0;34m\u001b[0m\u001b[0m\n\u001b[1;32m     64\u001b[0m         \u001b[0;32mtry\u001b[0m\u001b[0;34m:\u001b[0m\u001b[0;34m\u001b[0m\u001b[0;34m\u001b[0m\u001b[0m\n",
      "\u001b[0;32m~/.local/lib/python3.9/site-packages/selenium/webdriver/common/service.py\u001b[0m in \u001b[0;36mstart\u001b[0;34m(self)\u001b[0m\n\u001b[1;32m     67\u001b[0m         \u001b[0;32mexcept\u001b[0m \u001b[0mOSError\u001b[0m \u001b[0;32mas\u001b[0m \u001b[0merr\u001b[0m\u001b[0;34m:\u001b[0m\u001b[0;34m\u001b[0m\u001b[0;34m\u001b[0m\u001b[0m\n\u001b[1;32m     68\u001b[0m             \u001b[0;32mif\u001b[0m \u001b[0merr\u001b[0m\u001b[0;34m.\u001b[0m\u001b[0merrno\u001b[0m \u001b[0;34m==\u001b[0m \u001b[0merrno\u001b[0m\u001b[0;34m.\u001b[0m\u001b[0mENOENT\u001b[0m\u001b[0;34m:\u001b[0m\u001b[0;34m\u001b[0m\u001b[0;34m\u001b[0m\u001b[0m\n\u001b[0;32m---> 69\u001b[0;31m                 raise WebDriverException(\n\u001b[0m\u001b[1;32m     70\u001b[0m                     \"'%s' executable needs to be in PATH. %s\" % (\n\u001b[1;32m     71\u001b[0m                         os.path.basename(self.path), self.start_error_message)\n",
      "\u001b[0;31mWebDriverException\u001b[0m: Message: 'chromedriver' executable needs to be in PATH. Please see https://sites.google.com/a/chromium.org/chromedriver/home\n"
     ]
    }
   ],
   "source": [
    "from web_footprinting_utils import WebsiteRecord, LinkRecorder\n",
    "\n",
    "record = WebsiteRecord(target_site, directory=\"\", port=port)"
   ]
  },
  {
   "cell_type": "code",
   "execution_count": null,
   "id": "f0ed67d2-1ff0-46ef-b254-588f3fcc433c",
   "metadata": {
    "scrolled": true,
    "tags": []
   },
   "outputs": [],
   "source": [
    "%matplotlib inline\n",
    "results = record.fingerprint_page()"
   ]
  },
  {
   "cell_type": "code",
   "execution_count": null,
   "id": "0a4f1d6c-a138-4fbc-bfab-d0ac94d8ad6b",
   "metadata": {},
   "outputs": [],
   "source": [
    "record.fingerprint_extended()"
   ]
  },
  {
   "cell_type": "markdown",
   "id": "4f108fcd-7985-4b83-9b14-5fc0866c1d17",
   "metadata": {},
   "source": [
    "# Main Checks Complete!"
   ]
  },
  {
   "cell_type": "code",
   "execution_count": null,
   "id": "ce831442-bdfa-4fc9-9405-9b140d00a315",
   "metadata": {},
   "outputs": [],
   "source": [
    "input(\"Press any keys...\")"
   ]
  },
  {
   "cell_type": "code",
   "execution_count": null,
   "id": "47cb625d-aecf-45f3-a1a3-86ca8a212c21",
   "metadata": {
    "scrolled": true,
    "tags": []
   },
   "outputs": [],
   "source": [
    "%matplotlib inline\n",
    "record_alt = WebsiteRecord(target_site, directory=\"/r/a/b/b/i/t\", port=80)\n",
    "record_alt.fingerprint_page()\n",
    "record_alt.fingerprint_extended()"
   ]
  },
  {
   "cell_type": "code",
   "execution_count": null,
   "id": "d06fca23-93db-407e-ac04-b82acc0e9f7e",
   "metadata": {
    "tags": []
   },
   "outputs": [],
   "source": [
    "%matplotlib inline\n",
    "record_alt = WebsiteRecord(target_site, directory=\"/poem\", port=80)\n",
    "record_alt.fingerprint_page()\n",
    "record_alt.fingerprint_extended()"
   ]
  },
  {
   "cell_type": "code",
   "execution_count": null,
   "id": "5c4a2491-8d38-4a83-9059-487d4ab437f9",
   "metadata": {},
   "outputs": [],
   "source": [
    "record_alt = WebsiteRecord(target_site, directory=\"/poem/index.html\", port=80)\n",
    "!cd CeWL && unbuffer ./cewl.rb -c {target_site}\"/poem\"\n",
    "!cd CeWL && unbuffer ./cewl.rb {target_site}\"/poem\""
   ]
  },
  {
   "cell_type": "code",
   "execution_count": null,
   "id": "0dd02b44-d966-4df1-b463-45bcc017f1ca",
   "metadata": {},
   "outputs": [],
   "source": [
    "input(\"Press any keys...\")"
   ]
  },
  {
   "cell_type": "code",
   "execution_count": null,
   "id": "00529ad0-538f-4307-a88d-c6a8442b566b",
   "metadata": {
    "scrolled": true,
    "tags": []
   },
   "outputs": [],
   "source": [
    "%matplotlib inline\n",
    "record_alt = WebsiteRecord(target_site, directory=\"/blog/wp-content/plugins\", port=80)\n",
    "record_alt.fingerprint_page()\n",
    "record_alt.fingerprint_extended()"
   ]
  },
  {
   "cell_type": "code",
   "execution_count": null,
   "id": "5fdba2d5-91e7-4c7d-9420-fa0deeb47bcc",
   "metadata": {},
   "outputs": [],
   "source": [
    "%matplotlib inline\n",
    "record_alt = WebsiteRecord(target_site, directory=\"/blog/wp-content/plugins/akismet\", port=80)\n",
    "record_alt.fingerprint_page()\n",
    "record_alt.fingerprint_extended()"
   ]
  },
  {
   "cell_type": "code",
   "execution_count": null,
   "id": "aa7acfe1-0834-4fe2-b770-12eaad3ac554",
   "metadata": {},
   "outputs": [],
   "source": [
    "from web_footprinting_utils import save_notebook\n",
    "\n",
    "save_notebook()"
   ]
  },
  {
   "cell_type": "code",
   "execution_count": null,
   "id": "adced135-1e1b-4c6a-9121-7fc4f0a9d1c6",
   "metadata": {},
   "outputs": [],
   "source": [
    "if INTERACTIVE:\n",
    "    !jupyter nbconvert --to script \"3_Web_Footprinting_V2.ipynb\""
   ]
  }
 ],
 "metadata": {
  "kernelspec": {
   "display_name": "Python 3 (ipykernel)",
   "language": "python",
   "name": "python3"
  },
  "language_info": {
   "codemirror_mode": {
    "name": "ipython",
    "version": 3
   },
   "file_extension": ".py",
   "mimetype": "text/x-python",
   "name": "python",
   "nbconvert_exporter": "python",
   "pygments_lexer": "ipython3",
   "version": "3.9.2"
  }
 },
 "nbformat": 4,
 "nbformat_minor": 5
}
