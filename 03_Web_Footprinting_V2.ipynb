{
 "cells": [
  {
   "cell_type": "markdown",
   "id": "ca2935c2-0e9b-4176-96c2-26e3dd4a5f02",
   "metadata": {},
   "source": [
    "# V2 Notebook\n",
    "\n",
    "# TODOs:\n",
    "\n",
    "### Searchsploit\n",
    "### Full auto cross tool URL collection and traversal\n",
    "### 'IP Forwarded By' hiding\n",
    "\n",
    "https://eightytwo.net/blog/brute-forcing-the-admin-password-on-nibbles/"
   ]
  },
  {
   "cell_type": "code",
   "execution_count": 1,
   "id": "8d802b06-8e92-49cc-a2c7-62ff6450e996",
   "metadata": {},
   "outputs": [],
   "source": [
    "from web_footprinting_utils import setup_ipython\n",
    "\n",
    "get_ipython, INTERACTIVE = setup_ipython()"
   ]
  },
  {
   "cell_type": "code",
   "execution_count": 2,
   "id": "403a8b52-e1da-4203-bbe7-4b3481965680",
   "metadata": {},
   "outputs": [
    {
     "name": "stdout",
     "output_type": "stream",
     "text": [
      "env: TARGET=10.10.28.39\n",
      "env: PORT=9999\n"
     ]
    }
   ],
   "source": [
    "%env TARGET=10.10.28.39\n",
    "%env PORT=9999"
   ]
  },
  {
   "cell_type": "code",
   "execution_count": 3,
   "id": "25d3d115-f4d3-453e-9ce4-9aba2f8af151",
   "metadata": {},
   "outputs": [
    {
     "name": "stdout",
     "output_type": "stream",
     "text": [
      "PING 10.10.28.39 (10.10.28.39) 56(84) bytes of data.\n",
      "\n",
      "--- 10.10.28.39 ping statistics ---\n",
      "5 packets transmitted, 0 received, 100% packet loss, time 4083ms\n",
      "\n"
     ]
    }
   ],
   "source": [
    "import os \n",
    "\n",
    "port = os.environ['PORT']\n",
    "target_site = os.environ['TARGET']\n",
    "!ping -c 5 $TARGET"
   ]
  },
  {
   "cell_type": "code",
   "execution_count": 4,
   "id": "953b02a4-d927-4ed8-91a4-08ca6fbda3ad",
   "metadata": {},
   "outputs": [],
   "source": [
    "from web_footprinting_utils import WebsiteRecord, LinkRecorder\n",
    "\n",
    "record = WebsiteRecord(target_site, directory=\"\", port=port)"
   ]
  },
  {
   "cell_type": "code",
   "execution_count": 5,
   "id": "f0ed67d2-1ff0-46ef-b254-588f3fcc433c",
   "metadata": {},
   "outputs": [
    {
     "name": "stdout",
     "output_type": "stream",
     "text": [
      "fingerprinting http://10.10.28.39:9999\n",
      "\u001b[31m\n",
      "\n",
      "Whatweb:\u001b[0m\n",
      "\u001b[1m\u001b[31mERROR Opening: http://10.10.28.39:9999 - uninitialized constant #<Class:ExtendedHTTPResponse>::HTTPBadResponse\u001b[0m\n",
      "\u001b[31m\n",
      "\n",
      "Ffuf:\u001b[0m\n",
      "\n",
      "        /'___\\  /'___\\           /'___\\       \n",
      "       /\\ \\__/ /\\ \\__/  __  __  /\\ \\__/       \n",
      "       \\ \\ ,__\\\\ \\ ,__\\/\\ \\/\\ \\ \\ \\ ,__\\      \n",
      "        \\ \\ \\_/ \\ \\ \\_/\\ \\ \\_\\ \\ \\ \\ \\_/      \n",
      "         \\ \\_\\   \\ \\_\\  \\ \\____/  \\ \\_\\       \n",
      "          \\/_/    \\/_/   \\/___/    \\/_/       \n",
      "\n",
      "       v1.3.1 Kali Exclusive \u001b[31m<3\u001b[0m\n",
      "________________________________________________\n",
      "\n",
      " :: Method           : GET\n",
      " :: URL              : http://10.10.28.39:9999/FUZZ\n",
      " :: Wordlist         : FUZZ: /usr/share/dirb/wordlists/common.txt\n",
      " :: Output file      : ffuf_out.json\n",
      " :: File format      : json\n",
      " :: Follow redirects : true\n",
      " :: Calibration      : false\n",
      " :: Timeout          : 10\n",
      " :: Threads          : 50\n",
      " :: Matcher          : Response status: 200,204,301,302,307,401,403,405\n",
      "________________________________________________\n",
      "\n",
      "\u001b[2K:: Progress: [4614/4614] :: Job [1/1] :: 1486 req/sec :: Duration: [0:00:03] :: Errors: 4614 ::\n",
      "\u001b[31m\n",
      "\n",
      "Source:\u001b[0m\n",
      "\n",
      "\u001b[31m\n",
      "\n",
      "NMAP:\u001b[0m\n",
      "nmap -Pn -p 9999 --script=http-sitemap-generator 10.10.28.39\n",
      "Starting Nmap 7.80 ( https://nmap.org ) at 2021-09-26 19:13 UTC\n",
      "Nmap scan report for ip-10-10-28-39.eu-west-1.compute.internal (10.10.28.39)\n",
      "Host is up (0.00018s latency).\n",
      "\n",
      "PORT     STATE SERVICE\n",
      "9999/tcp open  abyss\n",
      "MAC Address: 02:4A:93:16:E8:75 (Unknown)\n",
      "\n",
      "Nmap done: 1 IP address (1 host up) scanned in 1.02 seconds\n",
      "nmap -Pn -p 9999 --script=http-auth-finder 10.10.28.39\n",
      "Starting Nmap 7.80 ( https://nmap.org ) at 2021-09-26 19:13 UTC\n",
      "Nmap scan report for ip-10-10-28-39.eu-west-1.compute.internal (10.10.28.39)\n",
      "Host is up (0.00018s latency).\n",
      "\n",
      "PORT     STATE SERVICE\n",
      "9999/tcp open  abyss\n",
      "MAC Address: 02:4A:93:16:E8:75 (Unknown)\n",
      "\n",
      "Nmap done: 1 IP address (1 host up) scanned in 0.44 seconds\n",
      "nmap -Pn -p 9999 --script=http-comments-displayer 10.10.28.39\n",
      "Starting Nmap 7.80 ( https://nmap.org ) at 2021-09-26 19:13 UTC\n",
      "Nmap scan report for ip-10-10-28-39.eu-west-1.compute.internal (10.10.28.39)\n",
      "Host is up (0.00018s latency).\n",
      "\n",
      "PORT     STATE SERVICE\n",
      "9999/tcp open  abyss\n",
      "MAC Address: 02:4A:93:16:E8:75 (Unknown)\n",
      "\n",
      "Nmap done: 1 IP address (1 host up) scanned in 0.41 seconds\n",
      "nmap -Pn -p 9999 --script=http-backup-finder 10.10.28.39\n",
      "Starting Nmap 7.80 ( https://nmap.org ) at 2021-09-26 19:13 UTC\n",
      "Nmap scan report for ip-10-10-28-39.eu-west-1.compute.internal (10.10.28.39)\n",
      "Host is up (0.00019s latency).\n",
      "\n",
      "PORT     STATE SERVICE\n",
      "9999/tcp open  abyss\n",
      "MAC Address: 02:4A:93:16:E8:75 (Unknown)\n",
      "\n",
      "Nmap done: 1 IP address (1 host up) scanned in 0.41 seconds\n",
      "\u001b[31m\n",
      "\n",
      "Word Counts:\u001b[0m\n",
      "CeWL 5.5.2 (Grouping) Robin Wood (robin@digi.ninja) (https://digi.ninja/)\n",
      "\n",
      "Unable to connect to the site (http://10.10.28.39:9999/)\n",
      "Run in verbose mode (-v) for more information\n",
      "\n",
      "\n",
      "\u001b[31m\n",
      "\n",
      "Screencap:\u001b[0m\n"
     ]
    },
    {
     "data": {
      "image/png": "[encoded data removed]",
      "text/plain": [
       "<Figure size 1800x720 with 1 Axes>"
      ]
     },
     "metadata": {
      "needs_background": "light"
     },
     "output_type": "display_data"
    }
   ],
   "source": [
    "%matplotlib inline\n",
    "results = record.fingerprint_page()"
   ]
  },
  {
   "cell_type": "code",
   "execution_count": 6,
   "id": "0a4f1d6c-a138-4fbc-bfab-d0ac94d8ad6b",
   "metadata": {},
   "outputs": [
    {
     "name": "stdout",
     "output_type": "stream",
     "text": [
      "\u001b[31m\n",
      "\n",
      "Ffuf Extensions:\u001b[0m\n",
      "\n",
      "        /'___\\  /'___\\           /'___\\       \n",
      "       /\\ \\__/ /\\ \\__/  __  __  /\\ \\__/       \n",
      "       \\ \\ ,__\\\\ \\ ,__\\/\\ \\/\\ \\ \\ \\ ,__\\      \n",
      "        \\ \\ \\_/ \\ \\ \\_/\\ \\ \\_\\ \\ \\ \\ \\_/      \n",
      "         \\ \\_\\   \\ \\_\\  \\ \\____/  \\ \\_\\       \n",
      "          \\/_/    \\/_/   \\/___/    \\/_/       \n",
      "\n",
      "       v1.3.1 Kali Exclusive \u001b[31m<3\u001b[0m\n",
      "________________________________________________\n",
      "\n",
      " :: Method           : GET\n",
      " :: URL              : http://10.10.28.39:9999/FUZZ\n",
      " :: Wordlist         : FUZZ: /usr/share/dirb/wordlists/common.txt\n",
      " :: Extensions       : .asp .aspx .bat .c .cfm .cgi .com .dll .exe .htm .html .inc .jhtml .jsa .jsp .log .mdb .nsf .php .phtml .pl .reg .sh .shtml .sql .txt .xml / \n",
      " :: Output file      : ffuf_out.json\n",
      " :: File format      : json\n",
      " :: Follow redirects : true\n",
      " :: Calibration      : false\n",
      " :: Timeout          : 5\n",
      " :: Threads          : 120\n",
      " :: Matcher          : Response status: 200,204,301,302,307,401,403,405\n",
      "________________________________________________\n",
      "\n",
      "\u001b[2K:: Progress: [6810/133806] :: Job [1/1] :: 488 req/sec :: Duration: [0:00:10] :: Errors: 6690 ::^C\n",
      "\u001b[2K[\u001b[31mWARN\u001b[0m] Caught keyboard interrupt (Ctrl-C)/sec :: Duration: [0:00:10] :: Errors: 6829 ::\n",
      "\n",
      "\n",
      "\u001b[31m\n",
      "\n",
      "Ffuf Large:\u001b[0m\n",
      "\n",
      "        /'___\\  /'___\\           /'___\\       \n",
      "       /\\ \\__/ /\\ \\__/  __  __  /\\ \\__/       \n",
      "       \\ \\ ,__\\\\ \\ ,__\\/\\ \\/\\ \\ \\ \\ ,__\\      \n",
      "        \\ \\ \\_/ \\ \\ \\_/\\ \\ \\_\\ \\ \\ \\ \\_/      \n",
      "         \\ \\_\\   \\ \\_\\  \\ \\____/  \\ \\_\\       \n",
      "          \\/_/    \\/_/   \\/___/    \\/_/       \n",
      "\n",
      "       v1.3.1 Kali Exclusive \u001b[31m<3\u001b[0m\n",
      "________________________________________________\n",
      "\n",
      " :: Method           : GET\n",
      " :: URL              : http://10.10.28.39:9999/FUZZ\n",
      " :: Wordlist         : FUZZ: /usr/share/dirbuster/wordlists/directory-list-2.3-medium.txt\n",
      " :: Output file      : ffuf_out.json\n",
      " :: File format      : json\n",
      " :: Follow redirects : true\n",
      " :: Calibration      : false\n",
      " :: Timeout          : 5\n",
      " :: Threads          : 120\n",
      " :: Matcher          : Response status: 200,204,301,302,307,401,403,405\n",
      "________________________________________________\n",
      "\n",
      "\u001b[2K:: Progress: [566/220547] :: Job [1/1] :: 0 req/sec :: Duration: [0:00:00] :: Errors: 446 ::^C\n",
      "\u001b[2K[\u001b[31mWARN\u001b[0m] Caught keyboard interrupt (Ctrl-C)sec :: Duration: [0:00:01] :: Errors: 666 ::\n",
      "\n",
      "\n",
      "\u001b[31m\n",
      "\n",
      "OkAdmin:\u001b[0m\n",
      "^C\n"
     ]
    }
   ],
   "source": [
    "record.fingerprint_extended()"
   ]
  },
  {
   "cell_type": "markdown",
   "id": "4f108fcd-7985-4b83-9b14-5fc0866c1d17",
   "metadata": {},
   "source": [
    "# Main Checks Complete!"
   ]
  },
  {
   "cell_type": "code",
   "execution_count": 7,
   "id": "47cb625d-aecf-45f3-a1a3-86ca8a212c21",
   "metadata": {
    "tags": []
   },
   "outputs": [
    {
     "name": "stderr",
     "output_type": "stream",
     "text": [
      "ERROR:root:Internal Python error in the inspect module.\n",
      "Below is the traceback from this internal error.\n",
      "\n"
     ]
    },
    {
     "name": "stdout",
     "output_type": "stream",
     "text": [
      "Traceback (most recent call last):\n",
      "  File \"/root/miniconda/lib/python3.9/site-packages/IPython/core/interactiveshell.py\", line 3441, in run_code\n",
      "    exec(code_obj, self.user_global_ns, self.user_ns)\n",
      "  File \"/tmp/ipykernel_5298/3417071707.py\", line 2, in <module>\n",
      "    record_alt = WebsiteRecord(target_site, directory=\"/blog\", port=80)\n",
      "  File \"/root/ctf-notebooks/web_footprinting_utils.py\", line 89, in __init__\n",
      "    self.driver = webdriver.Chrome(chrome_options=options, executable_path=os.path.join(os.getcwd(), \"chromedriver\"))\n",
      "  File \"/root/miniconda/lib/python3.9/site-packages/selenium/webdriver/chrome/webdriver.py\", line 73, in __init__\n",
      "    self.service.start()\n",
      "  File \"/root/miniconda/lib/python3.9/site-packages/selenium/webdriver/common/service.py\", line 102, in start\n",
      "    time.sleep(1)\n",
      "KeyboardInterrupt\n",
      "\n",
      "During handling of the above exception, another exception occurred:\n",
      "\n",
      "Traceback (most recent call last):\n",
      "  File \"/root/miniconda/lib/python3.9/site-packages/IPython/core/interactiveshell.py\", line 2061, in showtraceback\n",
      "    stb = value._render_traceback_()\n",
      "AttributeError: 'KeyboardInterrupt' object has no attribute '_render_traceback_'\n",
      "\n",
      "During handling of the above exception, another exception occurred:\n",
      "\n",
      "Traceback (most recent call last):\n",
      "  File \"/root/miniconda/lib/python3.9/site-packages/IPython/core/ultratb.py\", line 1101, in get_records\n",
      "    return _fixed_getinnerframes(etb, number_of_lines_of_context, tb_offset)\n",
      "  File \"/root/miniconda/lib/python3.9/site-packages/IPython/core/ultratb.py\", line 248, in wrapped\n",
      "    return f(*args, **kwargs)\n",
      "  File \"/root/miniconda/lib/python3.9/site-packages/IPython/core/ultratb.py\", line 281, in _fixed_getinnerframes\n",
      "    records = fix_frame_records_filenames(inspect.getinnerframes(etb, context))\n",
      "  File \"/root/miniconda/lib/python3.9/inspect.py\", line 1541, in getinnerframes\n",
      "    frameinfo = (tb.tb_frame,) + getframeinfo(tb, context)\n",
      "  File \"/root/miniconda/lib/python3.9/inspect.py\", line 1499, in getframeinfo\n",
      "    filename = getsourcefile(frame) or getfile(frame)\n",
      "  File \"/root/miniconda/lib/python3.9/inspect.py\", line 709, in getsourcefile\n",
      "    if getattr(getmodule(object, filename), '__loader__', None) is not None:\n",
      "  File \"/root/miniconda/lib/python3.9/inspect.py\", line 755, in getmodule\n",
      "    os.path.realpath(f)] = module.__name__\n",
      "  File \"/root/miniconda/lib/python3.9/posixpath.py\", line 391, in realpath\n",
      "    path, ok = _joinrealpath(filename[:0], filename, {})\n",
      "  File \"/root/miniconda/lib/python3.9/posixpath.py\", line 425, in _joinrealpath\n",
      "    if not islink(newpath):\n",
      "  File \"/root/miniconda/lib/python3.9/posixpath.py\", line 167, in islink\n",
      "    st = os.lstat(path)\n",
      "KeyboardInterrupt\n"
     ]
    },
    {
     "ename": "TypeError",
     "evalue": "object of type 'NoneType' has no len()",
     "output_type": "error",
     "traceback": [
      "\u001b[0;31m---------------------------------------------------------------------------\u001b[0m",
      "\u001b[0;31mKeyboardInterrupt\u001b[0m                         Traceback (most recent call last)",
      "    \u001b[0;31m[... skipping hidden 1 frame]\u001b[0m\n",
      "\u001b[0;32m/tmp/ipykernel_5298/3417071707.py\u001b[0m in \u001b[0;36m<module>\u001b[0;34m\u001b[0m\n\u001b[1;32m      1\u001b[0m \u001b[0mget_ipython\u001b[0m\u001b[0;34m(\u001b[0m\u001b[0;34m)\u001b[0m\u001b[0;34m.\u001b[0m\u001b[0mrun_line_magic\u001b[0m\u001b[0;34m(\u001b[0m\u001b[0;34m'matplotlib'\u001b[0m\u001b[0;34m,\u001b[0m \u001b[0;34m'inline'\u001b[0m\u001b[0;34m)\u001b[0m\u001b[0;34m\u001b[0m\u001b[0;34m\u001b[0m\u001b[0m\n\u001b[0;32m----> 2\u001b[0;31m \u001b[0mrecord_alt\u001b[0m \u001b[0;34m=\u001b[0m \u001b[0mWebsiteRecord\u001b[0m\u001b[0;34m(\u001b[0m\u001b[0mtarget_site\u001b[0m\u001b[0;34m,\u001b[0m \u001b[0mdirectory\u001b[0m\u001b[0;34m=\u001b[0m\u001b[0;34m\"/blog\"\u001b[0m\u001b[0;34m,\u001b[0m \u001b[0mport\u001b[0m\u001b[0;34m=\u001b[0m\u001b[0;36m80\u001b[0m\u001b[0;34m)\u001b[0m\u001b[0;34m\u001b[0m\u001b[0;34m\u001b[0m\u001b[0m\n\u001b[0m\u001b[1;32m      3\u001b[0m \u001b[0mrecord_alt\u001b[0m\u001b[0;34m.\u001b[0m\u001b[0mfingerprint_page\u001b[0m\u001b[0;34m(\u001b[0m\u001b[0;34m)\u001b[0m\u001b[0;34m\u001b[0m\u001b[0;34m\u001b[0m\u001b[0m\n",
      "\u001b[0;32m~/ctf-notebooks/web_footprinting_utils.py\u001b[0m in \u001b[0;36m__init__\u001b[0;34m(self, target, directory, port, status)\u001b[0m\n\u001b[1;32m     88\u001b[0m \u001b[0;34m\u001b[0m\u001b[0m\n\u001b[0;32m---> 89\u001b[0;31m         \u001b[0mself\u001b[0m\u001b[0;34m.\u001b[0m\u001b[0mdriver\u001b[0m \u001b[0;34m=\u001b[0m \u001b[0mwebdriver\u001b[0m\u001b[0;34m.\u001b[0m\u001b[0mChrome\u001b[0m\u001b[0;34m(\u001b[0m\u001b[0mchrome_options\u001b[0m\u001b[0;34m=\u001b[0m\u001b[0moptions\u001b[0m\u001b[0;34m,\u001b[0m \u001b[0mexecutable_path\u001b[0m\u001b[0;34m=\u001b[0m\u001b[0mos\u001b[0m\u001b[0;34m.\u001b[0m\u001b[0mpath\u001b[0m\u001b[0;34m.\u001b[0m\u001b[0mjoin\u001b[0m\u001b[0;34m(\u001b[0m\u001b[0mos\u001b[0m\u001b[0;34m.\u001b[0m\u001b[0mgetcwd\u001b[0m\u001b[0;34m(\u001b[0m\u001b[0;34m)\u001b[0m\u001b[0;34m,\u001b[0m \u001b[0;34m\"chromedriver\"\u001b[0m\u001b[0;34m)\u001b[0m\u001b[0;34m)\u001b[0m\u001b[0;34m\u001b[0m\u001b[0;34m\u001b[0m\u001b[0m\n\u001b[0m\u001b[1;32m     90\u001b[0m \u001b[0;34m\u001b[0m\u001b[0m\n",
      "\u001b[0;32m~/miniconda/lib/python3.9/site-packages/selenium/webdriver/chrome/webdriver.py\u001b[0m in \u001b[0;36m__init__\u001b[0;34m(self, executable_path, port, options, service_args, desired_capabilities, service_log_path, chrome_options, keep_alive)\u001b[0m\n\u001b[1;32m     72\u001b[0m             log_path=service_log_path)\n\u001b[0;32m---> 73\u001b[0;31m         \u001b[0mself\u001b[0m\u001b[0;34m.\u001b[0m\u001b[0mservice\u001b[0m\u001b[0;34m.\u001b[0m\u001b[0mstart\u001b[0m\u001b[0;34m(\u001b[0m\u001b[0;34m)\u001b[0m\u001b[0;34m\u001b[0m\u001b[0;34m\u001b[0m\u001b[0m\n\u001b[0m\u001b[1;32m     74\u001b[0m \u001b[0;34m\u001b[0m\u001b[0m\n",
      "\u001b[0;32m~/miniconda/lib/python3.9/site-packages/selenium/webdriver/common/service.py\u001b[0m in \u001b[0;36mstart\u001b[0;34m(self)\u001b[0m\n\u001b[1;32m    101\u001b[0m             \u001b[0mcount\u001b[0m \u001b[0;34m+=\u001b[0m \u001b[0;36m1\u001b[0m\u001b[0;34m\u001b[0m\u001b[0;34m\u001b[0m\u001b[0m\n\u001b[0;32m--> 102\u001b[0;31m             \u001b[0mtime\u001b[0m\u001b[0;34m.\u001b[0m\u001b[0msleep\u001b[0m\u001b[0;34m(\u001b[0m\u001b[0;36m1\u001b[0m\u001b[0;34m)\u001b[0m\u001b[0;34m\u001b[0m\u001b[0;34m\u001b[0m\u001b[0m\n\u001b[0m\u001b[1;32m    103\u001b[0m             \u001b[0;32mif\u001b[0m \u001b[0mcount\u001b[0m \u001b[0;34m==\u001b[0m \u001b[0;36m30\u001b[0m\u001b[0;34m:\u001b[0m\u001b[0;34m\u001b[0m\u001b[0;34m\u001b[0m\u001b[0m\n",
      "\u001b[0;31mKeyboardInterrupt\u001b[0m: ",
      "\nDuring handling of the above exception, another exception occurred:\n",
      "\u001b[0;31mAttributeError\u001b[0m                            Traceback (most recent call last)",
      "\u001b[0;32m~/miniconda/lib/python3.9/site-packages/IPython/core/interactiveshell.py\u001b[0m in \u001b[0;36mshowtraceback\u001b[0;34m(self, exc_tuple, filename, tb_offset, exception_only, running_compiled_code)\u001b[0m\n\u001b[1;32m   2060\u001b[0m                         \u001b[0;31m# in the engines. This should return a list of strings.\u001b[0m\u001b[0;34m\u001b[0m\u001b[0;34m\u001b[0m\u001b[0;34m\u001b[0m\u001b[0m\n\u001b[0;32m-> 2061\u001b[0;31m                         \u001b[0mstb\u001b[0m \u001b[0;34m=\u001b[0m \u001b[0mvalue\u001b[0m\u001b[0;34m.\u001b[0m\u001b[0m_render_traceback_\u001b[0m\u001b[0;34m(\u001b[0m\u001b[0;34m)\u001b[0m\u001b[0;34m\u001b[0m\u001b[0;34m\u001b[0m\u001b[0m\n\u001b[0m\u001b[1;32m   2062\u001b[0m                     \u001b[0;32mexcept\u001b[0m \u001b[0mException\u001b[0m\u001b[0;34m:\u001b[0m\u001b[0;34m\u001b[0m\u001b[0;34m\u001b[0m\u001b[0m\n",
      "\u001b[0;31mAttributeError\u001b[0m: 'KeyboardInterrupt' object has no attribute '_render_traceback_'",
      "\nDuring handling of the above exception, another exception occurred:\n",
      "\u001b[0;31mTypeError\u001b[0m                                 Traceback (most recent call last)",
      "    \u001b[0;31m[... skipping hidden 1 frame]\u001b[0m\n",
      "\u001b[0;32m~/miniconda/lib/python3.9/site-packages/IPython/core/interactiveshell.py\u001b[0m in \u001b[0;36mshowtraceback\u001b[0;34m(self, exc_tuple, filename, tb_offset, exception_only, running_compiled_code)\u001b[0m\n\u001b[1;32m   2061\u001b[0m                         \u001b[0mstb\u001b[0m \u001b[0;34m=\u001b[0m \u001b[0mvalue\u001b[0m\u001b[0;34m.\u001b[0m\u001b[0m_render_traceback_\u001b[0m\u001b[0;34m(\u001b[0m\u001b[0;34m)\u001b[0m\u001b[0;34m\u001b[0m\u001b[0;34m\u001b[0m\u001b[0m\n\u001b[1;32m   2062\u001b[0m                     \u001b[0;32mexcept\u001b[0m \u001b[0mException\u001b[0m\u001b[0;34m:\u001b[0m\u001b[0;34m\u001b[0m\u001b[0;34m\u001b[0m\u001b[0m\n\u001b[0;32m-> 2063\u001b[0;31m                         stb = self.InteractiveTB.structured_traceback(etype,\n\u001b[0m\u001b[1;32m   2064\u001b[0m                                             value, tb, tb_offset=tb_offset)\n\u001b[1;32m   2065\u001b[0m \u001b[0;34m\u001b[0m\u001b[0m\n",
      "\u001b[0;32m~/miniconda/lib/python3.9/site-packages/IPython/core/ultratb.py\u001b[0m in \u001b[0;36mstructured_traceback\u001b[0;34m(self, etype, value, tb, tb_offset, number_of_lines_of_context)\u001b[0m\n\u001b[1;32m   1365\u001b[0m         \u001b[0;32melse\u001b[0m\u001b[0;34m:\u001b[0m\u001b[0;34m\u001b[0m\u001b[0;34m\u001b[0m\u001b[0m\n\u001b[1;32m   1366\u001b[0m             \u001b[0mself\u001b[0m\u001b[0;34m.\u001b[0m\u001b[0mtb\u001b[0m \u001b[0;34m=\u001b[0m \u001b[0mtb\u001b[0m\u001b[0;34m\u001b[0m\u001b[0;34m\u001b[0m\u001b[0m\n\u001b[0;32m-> 1367\u001b[0;31m         return FormattedTB.structured_traceback(\n\u001b[0m\u001b[1;32m   1368\u001b[0m             self, etype, value, tb, tb_offset, number_of_lines_of_context)\n\u001b[1;32m   1369\u001b[0m \u001b[0;34m\u001b[0m\u001b[0m\n",
      "\u001b[0;32m~/miniconda/lib/python3.9/site-packages/IPython/core/ultratb.py\u001b[0m in \u001b[0;36mstructured_traceback\u001b[0;34m(self, etype, value, tb, tb_offset, number_of_lines_of_context)\u001b[0m\n\u001b[1;32m   1265\u001b[0m         \u001b[0;32mif\u001b[0m \u001b[0mmode\u001b[0m \u001b[0;32min\u001b[0m \u001b[0mself\u001b[0m\u001b[0;34m.\u001b[0m\u001b[0mverbose_modes\u001b[0m\u001b[0;34m:\u001b[0m\u001b[0;34m\u001b[0m\u001b[0;34m\u001b[0m\u001b[0m\n\u001b[1;32m   1266\u001b[0m             \u001b[0;31m# Verbose modes need a full traceback\u001b[0m\u001b[0;34m\u001b[0m\u001b[0;34m\u001b[0m\u001b[0;34m\u001b[0m\u001b[0m\n\u001b[0;32m-> 1267\u001b[0;31m             return VerboseTB.structured_traceback(\n\u001b[0m\u001b[1;32m   1268\u001b[0m                 \u001b[0mself\u001b[0m\u001b[0;34m,\u001b[0m \u001b[0metype\u001b[0m\u001b[0;34m,\u001b[0m \u001b[0mvalue\u001b[0m\u001b[0;34m,\u001b[0m \u001b[0mtb\u001b[0m\u001b[0;34m,\u001b[0m \u001b[0mtb_offset\u001b[0m\u001b[0;34m,\u001b[0m \u001b[0mnumber_of_lines_of_context\u001b[0m\u001b[0;34m\u001b[0m\u001b[0;34m\u001b[0m\u001b[0m\n\u001b[1;32m   1269\u001b[0m             )\n",
      "\u001b[0;32m~/miniconda/lib/python3.9/site-packages/IPython/core/ultratb.py\u001b[0m in \u001b[0;36mstructured_traceback\u001b[0;34m(self, etype, evalue, etb, tb_offset, number_of_lines_of_context)\u001b[0m\n\u001b[1;32m   1122\u001b[0m         \u001b[0;34m\"\"\"Return a nice text document describing the traceback.\"\"\"\u001b[0m\u001b[0;34m\u001b[0m\u001b[0;34m\u001b[0m\u001b[0m\n\u001b[1;32m   1123\u001b[0m \u001b[0;34m\u001b[0m\u001b[0m\n\u001b[0;32m-> 1124\u001b[0;31m         formatted_exception = self.format_exception_as_a_whole(etype, evalue, etb, number_of_lines_of_context,\n\u001b[0m\u001b[1;32m   1125\u001b[0m                                                                tb_offset)\n\u001b[1;32m   1126\u001b[0m \u001b[0;34m\u001b[0m\u001b[0m\n",
      "\u001b[0;32m~/miniconda/lib/python3.9/site-packages/IPython/core/ultratb.py\u001b[0m in \u001b[0;36mformat_exception_as_a_whole\u001b[0;34m(self, etype, evalue, etb, number_of_lines_of_context, tb_offset)\u001b[0m\n\u001b[1;32m   1080\u001b[0m \u001b[0;34m\u001b[0m\u001b[0m\n\u001b[1;32m   1081\u001b[0m \u001b[0;34m\u001b[0m\u001b[0m\n\u001b[0;32m-> 1082\u001b[0;31m         \u001b[0mlast_unique\u001b[0m\u001b[0;34m,\u001b[0m \u001b[0mrecursion_repeat\u001b[0m \u001b[0;34m=\u001b[0m \u001b[0mfind_recursion\u001b[0m\u001b[0;34m(\u001b[0m\u001b[0morig_etype\u001b[0m\u001b[0;34m,\u001b[0m \u001b[0mevalue\u001b[0m\u001b[0;34m,\u001b[0m \u001b[0mrecords\u001b[0m\u001b[0;34m)\u001b[0m\u001b[0;34m\u001b[0m\u001b[0;34m\u001b[0m\u001b[0m\n\u001b[0m\u001b[1;32m   1083\u001b[0m \u001b[0;34m\u001b[0m\u001b[0m\n\u001b[1;32m   1084\u001b[0m         \u001b[0mframes\u001b[0m \u001b[0;34m=\u001b[0m \u001b[0mself\u001b[0m\u001b[0;34m.\u001b[0m\u001b[0mformat_records\u001b[0m\u001b[0;34m(\u001b[0m\u001b[0mrecords\u001b[0m\u001b[0;34m,\u001b[0m \u001b[0mlast_unique\u001b[0m\u001b[0;34m,\u001b[0m \u001b[0mrecursion_repeat\u001b[0m\u001b[0;34m)\u001b[0m\u001b[0;34m\u001b[0m\u001b[0;34m\u001b[0m\u001b[0m\n",
      "\u001b[0;32m~/miniconda/lib/python3.9/site-packages/IPython/core/ultratb.py\u001b[0m in \u001b[0;36mfind_recursion\u001b[0;34m(etype, value, records)\u001b[0m\n\u001b[1;32m    380\u001b[0m     \u001b[0;31m# first frame (from in to out) that looks different.\u001b[0m\u001b[0;34m\u001b[0m\u001b[0;34m\u001b[0m\u001b[0;34m\u001b[0m\u001b[0m\n\u001b[1;32m    381\u001b[0m     \u001b[0;32mif\u001b[0m \u001b[0;32mnot\u001b[0m \u001b[0mis_recursion_error\u001b[0m\u001b[0;34m(\u001b[0m\u001b[0metype\u001b[0m\u001b[0;34m,\u001b[0m \u001b[0mvalue\u001b[0m\u001b[0;34m,\u001b[0m \u001b[0mrecords\u001b[0m\u001b[0;34m)\u001b[0m\u001b[0;34m:\u001b[0m\u001b[0;34m\u001b[0m\u001b[0;34m\u001b[0m\u001b[0m\n\u001b[0;32m--> 382\u001b[0;31m         \u001b[0;32mreturn\u001b[0m \u001b[0mlen\u001b[0m\u001b[0;34m(\u001b[0m\u001b[0mrecords\u001b[0m\u001b[0;34m)\u001b[0m\u001b[0;34m,\u001b[0m \u001b[0;36m0\u001b[0m\u001b[0;34m\u001b[0m\u001b[0;34m\u001b[0m\u001b[0m\n\u001b[0m\u001b[1;32m    383\u001b[0m \u001b[0;34m\u001b[0m\u001b[0m\n\u001b[1;32m    384\u001b[0m     \u001b[0;31m# Select filename, lineno, func_name to track frames with\u001b[0m\u001b[0;34m\u001b[0m\u001b[0;34m\u001b[0m\u001b[0;34m\u001b[0m\u001b[0m\n",
      "\u001b[0;31mTypeError\u001b[0m: object of type 'NoneType' has no len()"
     ]
    }
   ],
   "source": [
    "%matplotlib inline\n",
    "record_alt = WebsiteRecord(target_site, directory=\"/blog\", port=80)\n",
    "record_alt.fingerprint_page()\n",
    "record_alt.fingerprint_extended()"
   ]
  },
  {
   "cell_type": "code",
   "execution_count": null,
   "id": "d06fca23-93db-407e-ac04-b82acc0e9f7e",
   "metadata": {},
   "outputs": [],
   "source": [
    "%matplotlib inline\n",
    "record_alt = WebsiteRecord(target_site, directory=\"/blog/wp-content\", port=80)\n",
    "record_alt.fingerprint_page()\n",
    "record_alt.fingerprint_extended()"
   ]
  },
  {
   "cell_type": "code",
   "execution_count": null,
   "id": "00529ad0-538f-4307-a88d-c6a8442b566b",
   "metadata": {
    "scrolled": true,
    "tags": []
   },
   "outputs": [],
   "source": [
    "%matplotlib inline\n",
    "record_alt = WebsiteRecord(target_site, directory=\"/blog/wp-content/plugins\", port=80)\n",
    "record_alt.fingerprint_page()\n",
    "record_alt.fingerprint_extended()"
   ]
  },
  {
   "cell_type": "code",
   "execution_count": null,
   "id": "5fdba2d5-91e7-4c7d-9420-fa0deeb47bcc",
   "metadata": {},
   "outputs": [],
   "source": [
    "%matplotlib inline\n",
    "record_alt = WebsiteRecord(target_site, directory=\"/blog/wp-content/plugins/akismet\", port=80)\n",
    "record_alt.fingerprint_page()\n",
    "record_alt.fingerprint_extended()"
   ]
  },
  {
   "cell_type": "code",
   "execution_count": null,
   "id": "aa7acfe1-0834-4fe2-b770-12eaad3ac554",
   "metadata": {},
   "outputs": [],
   "source": [
    "from web_footprinting_utils import save_notebook\n",
    "\n",
    "save_notebook()"
   ]
  },
  {
   "cell_type": "code",
   "execution_count": null,
   "id": "adced135-1e1b-4c6a-9121-7fc4f0a9d1c6",
   "metadata": {},
   "outputs": [],
   "source": [
    "if INTERACTIVE:\n",
    "    !jupyter nbconvert --to script \"3_Web_Footprinting_V2.ipynb\""
   ]
  }
 ],
 "metadata": {
  "kernelspec": {
   "display_name": "Python 3 (ipykernel)",
   "language": "python",
   "name": "python3"
  },
  "language_info": {
   "codemirror_mode": {
    "name": "ipython",
    "version": 3
   },
   "file_extension": ".py",
   "mimetype": "text/x-python",
   "name": "python",
   "nbconvert_exporter": "python",
   "pygments_lexer": "ipython3",
   "version": "3.9.5"
  }
 },
 "nbformat": 4,
 "nbformat_minor": 5
}
