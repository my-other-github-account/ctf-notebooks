{
 "cells": [
  {
   "cell_type": "markdown",
   "id": "d83b056a-0a59-4681-87ed-44976f855858",
   "metadata": {},
   "source": [
    "# Anthony"
   ]
  },
  {
   "cell_type": "markdown",
   "id": "ca2935c2-0e9b-4176-96c2-26e3dd4a5f02",
   "metadata": {},
   "source": [
    "# V2 Notebook\n",
    "\n",
    "# TODOs:\n",
    "\n",
    "### Auto extract forms: https://www.thepythoncode.com/article/extracting-and-submitting-web-page-forms-in-python\n",
    "### Autorecon\n",
    "### Wfuzz\n",
    "\n",
    "#\n",
    "\n",
    "### Searchsploit\n",
    "### Full auto cross tool URL collection and traversal\n",
    "### 'IP Forwarded By' hiding\n",
    "\n",
    "https://eightytwo.net/blog/brute-forcing-the-admin-password-on-nibbles/"
   ]
  },
  {
   "cell_type": "code",
   "execution_count": null,
   "id": "8d802b06-8e92-49cc-a2c7-62ff6450e996",
   "metadata": {},
   "outputs": [],
   "source": [
    "from web_footprinting_utils import setup_ipython\n",
    "\n",
    "get_ipython, INTERACTIVE = setup_ipython()"
   ]
  },
  {
   "cell_type": "code",
   "execution_count": null,
   "id": "403a8b52-e1da-4203-bbe7-4b3481965680",
   "metadata": {},
   "outputs": [],
   "source": [
    "%env TARGET=10.10.215.33\n",
    "%env PORT=80"
   ]
  },
  {
   "cell_type": "code",
   "execution_count": null,
   "id": "25d3d115-f4d3-453e-9ce4-9aba2f8af151",
   "metadata": {},
   "outputs": [],
   "source": [
    "import os \n",
    "\n",
    "port = os.environ['PORT']\n",
    "target_site = os.environ['TARGET']\n",
    "!ping -c 5 $TARGET"
   ]
  },
  {
   "cell_type": "code",
   "execution_count": null,
   "id": "953b02a4-d927-4ed8-91a4-08ca6fbda3ad",
   "metadata": {},
   "outputs": [],
   "source": [
    "from web_footprinting_utils import WebsiteRecord, LinkRecorder\n",
    "\n",
    "record = WebsiteRecord(target_site, directory=\"\", port=port)"
   ]
  },
  {
   "cell_type": "code",
   "execution_count": null,
   "id": "f0ed67d2-1ff0-46ef-b254-588f3fcc433c",
   "metadata": {
    "scrolled": true,
    "tags": []
   },
   "outputs": [],
   "source": [
    "%matplotlib inline\n",
    "results = record.fingerprint_page()"
   ]
  },
  {
   "cell_type": "code",
   "execution_count": null,
   "id": "0a4f1d6c-a138-4fbc-bfab-d0ac94d8ad6b",
   "metadata": {},
   "outputs": [],
   "source": [
    "record.fingerprint_extended()"
   ]
  },
  {
   "cell_type": "markdown",
   "id": "4f108fcd-7985-4b83-9b14-5fc0866c1d17",
   "metadata": {},
   "source": [
    "# Main Checks Complete!"
   ]
  },
  {
   "cell_type": "code",
   "execution_count": null,
   "id": "ce831442-bdfa-4fc9-9405-9b140d00a315",
   "metadata": {},
   "outputs": [],
   "source": [
    "input(\"Press any keys...\")"
   ]
  },
  {
   "cell_type": "code",
   "execution_count": null,
   "id": "47cb625d-aecf-45f3-a1a3-86ca8a212c21",
   "metadata": {
    "scrolled": true,
    "tags": []
   },
   "outputs": [],
   "source": [
    "%matplotlib inline\n",
    "record_alt = WebsiteRecord(target_site, directory=\"/r/a/b/b/i/t\", port=80)\n",
    "record_alt.fingerprint_page()\n",
    "record_alt.fingerprint_extended()"
   ]
  },
  {
   "cell_type": "code",
   "execution_count": null,
   "id": "d06fca23-93db-407e-ac04-b82acc0e9f7e",
   "metadata": {
    "tags": []
   },
   "outputs": [],
   "source": [
    "%matplotlib inline\n",
    "record_alt = WebsiteRecord(target_site, directory=\"/poem\", port=80)\n",
    "record_alt.fingerprint_page()\n",
    "record_alt.fingerprint_extended()"
   ]
  },
  {
   "cell_type": "code",
   "execution_count": null,
   "id": "5c4a2491-8d38-4a83-9059-487d4ab437f9",
   "metadata": {},
   "outputs": [],
   "source": [
    "record_alt = WebsiteRecord(target_site, directory=\"/poem/index.html\", port=80)\n",
    "!cd CeWL && unbuffer ./cewl.rb -c {target_site}\"/poem\"\n",
    "!cd CeWL && unbuffer ./cewl.rb {target_site}\"/poem\""
   ]
  },
  {
   "cell_type": "code",
   "execution_count": null,
   "id": "0dd02b44-d966-4df1-b463-45bcc017f1ca",
   "metadata": {},
   "outputs": [],
   "source": [
    "input(\"Press any keys...\")"
   ]
  },
  {
   "cell_type": "code",
   "execution_count": null,
   "id": "00529ad0-538f-4307-a88d-c6a8442b566b",
   "metadata": {
    "scrolled": true,
    "tags": []
   },
   "outputs": [],
   "source": [
    "%matplotlib inline\n",
    "record_alt = WebsiteRecord(target_site, directory=\"/blog/wp-content/plugins\", port=80)\n",
    "record_alt.fingerprint_page()\n",
    "record_alt.fingerprint_extended()"
   ]
  },
  {
   "cell_type": "code",
   "execution_count": null,
   "id": "5fdba2d5-91e7-4c7d-9420-fa0deeb47bcc",
   "metadata": {},
   "outputs": [],
   "source": [
    "%matplotlib inline\n",
    "record_alt = WebsiteRecord(target_site, directory=\"/blog/wp-content/plugins/akismet\", port=80)\n",
    "record_alt.fingerprint_page()\n",
    "record_alt.fingerprint_extended()"
   ]
  },
  {
   "cell_type": "code",
   "execution_count": null,
   "id": "aa7acfe1-0834-4fe2-b770-12eaad3ac554",
   "metadata": {},
   "outputs": [],
   "source": [
    "from web_footprinting_utils import save_notebook\n",
    "\n",
    "save_notebook()"
   ]
  },
  {
   "cell_type": "code",
   "execution_count": null,
   "id": "adced135-1e1b-4c6a-9121-7fc4f0a9d1c6",
   "metadata": {},
   "outputs": [],
   "source": [
    "if INTERACTIVE:\n",
    "    !jupyter nbconvert --to script \"3_Web_Footprinting_V2.ipynb\""
   ]
  }
 ],
 "metadata": {
  "kernelspec": {
   "display_name": "Python 3 (ipykernel)",
   "language": "python",
   "name": "python3"
  },
  "language_info": {
   "codemirror_mode": {
    "name": "ipython",
    "version": 3
   },
   "file_extension": ".py",
   "mimetype": "text/x-python",
   "name": "python",
   "nbconvert_exporter": "python",
   "pygments_lexer": "ipython3",
   "version": "3.9.2"
  }
 },
 "nbformat": 4,
 "nbformat_minor": 5
}
