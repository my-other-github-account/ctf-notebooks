{
 "cells": [
  {
   "cell_type": "markdown",
   "id": "ca2935c2-0e9b-4176-96c2-26e3dd4a5f02",
   "metadata": {},
   "source": [
    "# V2 Notebook\n",
    "\n",
    "# TODOs:\n",
    "\n",
    "### Searchsploit\n",
    "### Full auto cross tool URL collection and traversal\n",
    "### 'IP Forwarded By' hiding\n",
    "\n",
    "https://eightytwo.net/blog/brute-forcing-the-admin-password-on-nibbles/"
   ]
  },
  {
   "cell_type": "code",
   "execution_count": 1,
   "id": "8d802b06-8e92-49cc-a2c7-62ff6450e996",
   "metadata": {},
   "outputs": [],
   "source": [
    "from web_footprinting_utils import setup_ipython\n",
    "\n",
    "get_ipython, INTERACTIVE = setup_ipython()"
   ]
  },
  {
   "cell_type": "code",
   "execution_count": 2,
   "id": "403a8b52-e1da-4203-bbe7-4b3481965680",
   "metadata": {},
   "outputs": [
    {
     "name": "stdout",
     "output_type": "stream",
     "text": [
      "env: TARGET=127.0.0.1\n",
      "env: PORT=444\n"
     ]
    }
   ],
   "source": [
    "%env TARGET=127.0.0.1\n",
    "%env PORT=444"
   ]
  },
  {
   "cell_type": "code",
   "execution_count": 3,
   "id": "25d3d115-f4d3-453e-9ce4-9aba2f8af151",
   "metadata": {},
   "outputs": [
    {
     "name": "stdout",
     "output_type": "stream",
     "text": [
      "PING 127.0.0.1 (127.0.0.1) 56(84) bytes of data.\n",
      "64 bytes from 127.0.0.1: icmp_seq=1 ttl=64 time=0.041 ms\n",
      "64 bytes from 127.0.0.1: icmp_seq=2 ttl=64 time=0.031 ms\n",
      "64 bytes from 127.0.0.1: icmp_seq=3 ttl=64 time=0.023 ms\n",
      "64 bytes from 127.0.0.1: icmp_seq=4 ttl=64 time=0.038 ms\n",
      "64 bytes from 127.0.0.1: icmp_seq=5 ttl=64 time=0.043 ms\n",
      "\n",
      "--- 127.0.0.1 ping statistics ---\n",
      "5 packets transmitted, 5 received, 0% packet loss, time 4103ms\n",
      "rtt min/avg/max/mdev = 0.023/0.035/0.043/0.007 ms\n"
     ]
    }
   ],
   "source": [
    "import os \n",
    "\n",
    "port = os.environ['PORT']\n",
    "target_site = os.environ['TARGET']\n",
    "!ping -c 5 $TARGET"
   ]
  },
  {
   "cell_type": "code",
   "execution_count": 4,
   "id": "953b02a4-d927-4ed8-91a4-08ca6fbda3ad",
   "metadata": {},
   "outputs": [
    {
     "ename": "WebDriverException",
     "evalue": "Message: session not created\nfrom timeout: Timed out receiving message from renderer: 600.000\n  (Session info: headless chrome=90.0.4430.212)\n  (Driver info: chromedriver=90.0.4430.212 (e3cd97fc771b893b7fd1879196d1215b622c2bed-refs/branch-heads/4430@{#1429}),platform=Linux 5.10.0-kali9-arm64 aarch64)\n",
     "output_type": "error",
     "traceback": [
      "\u001b[0;31m---------------------------------------------------------------------------\u001b[0m",
      "\u001b[0;31mWebDriverException\u001b[0m                        Traceback (most recent call last)",
      "\u001b[0;32m/tmp/ipykernel_6465/628936709.py\u001b[0m in \u001b[0;36m<module>\u001b[0;34m\u001b[0m\n\u001b[1;32m      1\u001b[0m \u001b[0;32mfrom\u001b[0m \u001b[0mweb_footprinting_utils\u001b[0m \u001b[0;32mimport\u001b[0m \u001b[0mWebsiteRecord\u001b[0m\u001b[0;34m,\u001b[0m \u001b[0mLinkRecorder\u001b[0m\u001b[0;34m\u001b[0m\u001b[0;34m\u001b[0m\u001b[0m\n\u001b[1;32m      2\u001b[0m \u001b[0;34m\u001b[0m\u001b[0m\n\u001b[0;32m----> 3\u001b[0;31m \u001b[0mrecord\u001b[0m \u001b[0;34m=\u001b[0m \u001b[0mWebsiteRecord\u001b[0m\u001b[0;34m(\u001b[0m\u001b[0mtarget_site\u001b[0m\u001b[0;34m,\u001b[0m \u001b[0mdirectory\u001b[0m\u001b[0;34m=\u001b[0m\u001b[0;34m\"\"\u001b[0m\u001b[0;34m,\u001b[0m \u001b[0mport\u001b[0m\u001b[0;34m=\u001b[0m\u001b[0mport\u001b[0m\u001b[0;34m)\u001b[0m\u001b[0;34m\u001b[0m\u001b[0;34m\u001b[0m\u001b[0m\n\u001b[0m",
      "\u001b[0;32m~/Desktop/HTB Academy/8_THM_CTF/web_footprinting_utils.py\u001b[0m in \u001b[0;36m__init__\u001b[0;34m(self, target, directory, port, status)\u001b[0m\n\u001b[1;32m     85\u001b[0m         \u001b[0moptions\u001b[0m\u001b[0;34m.\u001b[0m\u001b[0madd_argument\u001b[0m\u001b[0;34m(\u001b[0m\u001b[0;34m\"--headless\"\u001b[0m\u001b[0;34m)\u001b[0m\u001b[0;34m\u001b[0m\u001b[0;34m\u001b[0m\u001b[0m\n\u001b[1;32m     86\u001b[0m \u001b[0;34m\u001b[0m\u001b[0m\n\u001b[0;32m---> 87\u001b[0;31m         \u001b[0mself\u001b[0m\u001b[0;34m.\u001b[0m\u001b[0mdriver\u001b[0m \u001b[0;34m=\u001b[0m \u001b[0mwebdriver\u001b[0m\u001b[0;34m.\u001b[0m\u001b[0mChrome\u001b[0m\u001b[0;34m(\u001b[0m\u001b[0mchrome_options\u001b[0m\u001b[0;34m=\u001b[0m\u001b[0moptions\u001b[0m\u001b[0;34m)\u001b[0m\u001b[0;34m\u001b[0m\u001b[0;34m\u001b[0m\u001b[0m\n\u001b[0m\u001b[1;32m     88\u001b[0m \u001b[0;34m\u001b[0m\u001b[0m\n\u001b[1;32m     89\u001b[0m     \u001b[0;32mdef\u001b[0m \u001b[0mwhatweb\u001b[0m\u001b[0;34m(\u001b[0m\u001b[0mself\u001b[0m\u001b[0;34m,\u001b[0m \u001b[0mverbose\u001b[0m \u001b[0;34m=\u001b[0m \u001b[0;32mTrue\u001b[0m\u001b[0;34m)\u001b[0m\u001b[0;34m:\u001b[0m\u001b[0;34m\u001b[0m\u001b[0;34m\u001b[0m\u001b[0m\n",
      "\u001b[0;32m~/.local/lib/python3.9/site-packages/selenium/webdriver/chrome/webdriver.py\u001b[0m in \u001b[0;36m__init__\u001b[0;34m(self, executable_path, port, chrome_options, service_args, desired_capabilities, service_log_path)\u001b[0m\n\u001b[1;32m     63\u001b[0m \u001b[0;34m\u001b[0m\u001b[0m\n\u001b[1;32m     64\u001b[0m         \u001b[0;32mtry\u001b[0m\u001b[0;34m:\u001b[0m\u001b[0;34m\u001b[0m\u001b[0;34m\u001b[0m\u001b[0m\n\u001b[0;32m---> 65\u001b[0;31m             RemoteWebDriver.__init__(\n\u001b[0m\u001b[1;32m     66\u001b[0m                 \u001b[0mself\u001b[0m\u001b[0;34m,\u001b[0m\u001b[0;34m\u001b[0m\u001b[0;34m\u001b[0m\u001b[0m\n\u001b[1;32m     67\u001b[0m                 command_executor=ChromeRemoteConnection(\n",
      "\u001b[0;32m~/.local/lib/python3.9/site-packages/selenium/webdriver/remote/webdriver.py\u001b[0m in \u001b[0;36m__init__\u001b[0;34m(self, command_executor, desired_capabilities, browser_profile, proxy, keep_alive, file_detector)\u001b[0m\n\u001b[1;32m     88\u001b[0m         \u001b[0mself\u001b[0m\u001b[0;34m.\u001b[0m\u001b[0merror_handler\u001b[0m \u001b[0;34m=\u001b[0m \u001b[0mErrorHandler\u001b[0m\u001b[0;34m(\u001b[0m\u001b[0;34m)\u001b[0m\u001b[0;34m\u001b[0m\u001b[0;34m\u001b[0m\u001b[0m\n\u001b[1;32m     89\u001b[0m         \u001b[0mself\u001b[0m\u001b[0;34m.\u001b[0m\u001b[0mstart_client\u001b[0m\u001b[0;34m(\u001b[0m\u001b[0;34m)\u001b[0m\u001b[0;34m\u001b[0m\u001b[0;34m\u001b[0m\u001b[0m\n\u001b[0;32m---> 90\u001b[0;31m         \u001b[0mself\u001b[0m\u001b[0;34m.\u001b[0m\u001b[0mstart_session\u001b[0m\u001b[0;34m(\u001b[0m\u001b[0mdesired_capabilities\u001b[0m\u001b[0;34m,\u001b[0m \u001b[0mbrowser_profile\u001b[0m\u001b[0;34m)\u001b[0m\u001b[0;34m\u001b[0m\u001b[0;34m\u001b[0m\u001b[0m\n\u001b[0m\u001b[1;32m     91\u001b[0m         \u001b[0mself\u001b[0m\u001b[0;34m.\u001b[0m\u001b[0m_switch_to\u001b[0m \u001b[0;34m=\u001b[0m \u001b[0mSwitchTo\u001b[0m\u001b[0;34m(\u001b[0m\u001b[0mself\u001b[0m\u001b[0;34m)\u001b[0m\u001b[0;34m\u001b[0m\u001b[0;34m\u001b[0m\u001b[0m\n\u001b[1;32m     92\u001b[0m         \u001b[0mself\u001b[0m\u001b[0;34m.\u001b[0m\u001b[0m_mobile\u001b[0m \u001b[0;34m=\u001b[0m \u001b[0mMobile\u001b[0m\u001b[0;34m(\u001b[0m\u001b[0mself\u001b[0m\u001b[0;34m)\u001b[0m\u001b[0;34m\u001b[0m\u001b[0;34m\u001b[0m\u001b[0m\n",
      "\u001b[0;32m~/.local/lib/python3.9/site-packages/selenium/webdriver/remote/webdriver.py\u001b[0m in \u001b[0;36mstart_session\u001b[0;34m(self, desired_capabilities, browser_profile)\u001b[0m\n\u001b[1;32m    175\u001b[0m         \u001b[0;32mif\u001b[0m \u001b[0mbrowser_profile\u001b[0m\u001b[0;34m:\u001b[0m\u001b[0;34m\u001b[0m\u001b[0;34m\u001b[0m\u001b[0m\n\u001b[1;32m    176\u001b[0m             \u001b[0mcapabilities\u001b[0m\u001b[0;34m[\u001b[0m\u001b[0;34m'desiredCapabilities'\u001b[0m\u001b[0;34m]\u001b[0m\u001b[0;34m[\u001b[0m\u001b[0;34m'firefox_profile'\u001b[0m\u001b[0;34m]\u001b[0m \u001b[0;34m=\u001b[0m \u001b[0mbrowser_profile\u001b[0m\u001b[0;34m.\u001b[0m\u001b[0mencoded\u001b[0m\u001b[0;34m\u001b[0m\u001b[0;34m\u001b[0m\u001b[0m\n\u001b[0;32m--> 177\u001b[0;31m         \u001b[0mresponse\u001b[0m \u001b[0;34m=\u001b[0m \u001b[0mself\u001b[0m\u001b[0;34m.\u001b[0m\u001b[0mexecute\u001b[0m\u001b[0;34m(\u001b[0m\u001b[0mCommand\u001b[0m\u001b[0;34m.\u001b[0m\u001b[0mNEW_SESSION\u001b[0m\u001b[0;34m,\u001b[0m \u001b[0mcapabilities\u001b[0m\u001b[0;34m)\u001b[0m\u001b[0;34m\u001b[0m\u001b[0;34m\u001b[0m\u001b[0m\n\u001b[0m\u001b[1;32m    178\u001b[0m         \u001b[0mself\u001b[0m\u001b[0;34m.\u001b[0m\u001b[0msession_id\u001b[0m \u001b[0;34m=\u001b[0m \u001b[0mresponse\u001b[0m\u001b[0;34m[\u001b[0m\u001b[0;34m'sessionId'\u001b[0m\u001b[0;34m]\u001b[0m\u001b[0;34m\u001b[0m\u001b[0;34m\u001b[0m\u001b[0m\n\u001b[1;32m    179\u001b[0m         \u001b[0mself\u001b[0m\u001b[0;34m.\u001b[0m\u001b[0mcapabilities\u001b[0m \u001b[0;34m=\u001b[0m \u001b[0mresponse\u001b[0m\u001b[0;34m[\u001b[0m\u001b[0;34m'value'\u001b[0m\u001b[0;34m]\u001b[0m\u001b[0;34m\u001b[0m\u001b[0;34m\u001b[0m\u001b[0m\n",
      "\u001b[0;32m~/.local/lib/python3.9/site-packages/selenium/webdriver/remote/webdriver.py\u001b[0m in \u001b[0;36mexecute\u001b[0;34m(self, driver_command, params)\u001b[0m\n\u001b[1;32m    234\u001b[0m         \u001b[0mresponse\u001b[0m \u001b[0;34m=\u001b[0m \u001b[0mself\u001b[0m\u001b[0;34m.\u001b[0m\u001b[0mcommand_executor\u001b[0m\u001b[0;34m.\u001b[0m\u001b[0mexecute\u001b[0m\u001b[0;34m(\u001b[0m\u001b[0mdriver_command\u001b[0m\u001b[0;34m,\u001b[0m \u001b[0mparams\u001b[0m\u001b[0;34m)\u001b[0m\u001b[0;34m\u001b[0m\u001b[0;34m\u001b[0m\u001b[0m\n\u001b[1;32m    235\u001b[0m         \u001b[0;32mif\u001b[0m \u001b[0mresponse\u001b[0m\u001b[0;34m:\u001b[0m\u001b[0;34m\u001b[0m\u001b[0;34m\u001b[0m\u001b[0m\n\u001b[0;32m--> 236\u001b[0;31m             \u001b[0mself\u001b[0m\u001b[0;34m.\u001b[0m\u001b[0merror_handler\u001b[0m\u001b[0;34m.\u001b[0m\u001b[0mcheck_response\u001b[0m\u001b[0;34m(\u001b[0m\u001b[0mresponse\u001b[0m\u001b[0;34m)\u001b[0m\u001b[0;34m\u001b[0m\u001b[0;34m\u001b[0m\u001b[0m\n\u001b[0m\u001b[1;32m    237\u001b[0m             response['value'] = self._unwrap_value(\n\u001b[1;32m    238\u001b[0m                 response.get('value', None))\n",
      "\u001b[0;32m~/.local/lib/python3.9/site-packages/selenium/webdriver/remote/errorhandler.py\u001b[0m in \u001b[0;36mcheck_response\u001b[0;34m(self, response)\u001b[0m\n\u001b[1;32m    190\u001b[0m         \u001b[0;32melif\u001b[0m \u001b[0mexception_class\u001b[0m \u001b[0;34m==\u001b[0m \u001b[0mUnexpectedAlertPresentException\u001b[0m \u001b[0;32mand\u001b[0m \u001b[0;34m'alert'\u001b[0m \u001b[0;32min\u001b[0m \u001b[0mvalue\u001b[0m\u001b[0;34m:\u001b[0m\u001b[0;34m\u001b[0m\u001b[0;34m\u001b[0m\u001b[0m\n\u001b[1;32m    191\u001b[0m             \u001b[0;32mraise\u001b[0m \u001b[0mexception_class\u001b[0m\u001b[0;34m(\u001b[0m\u001b[0mmessage\u001b[0m\u001b[0;34m,\u001b[0m \u001b[0mscreen\u001b[0m\u001b[0;34m,\u001b[0m \u001b[0mstacktrace\u001b[0m\u001b[0;34m,\u001b[0m \u001b[0mvalue\u001b[0m\u001b[0;34m[\u001b[0m\u001b[0;34m'alert'\u001b[0m\u001b[0;34m]\u001b[0m\u001b[0;34m.\u001b[0m\u001b[0mget\u001b[0m\u001b[0;34m(\u001b[0m\u001b[0;34m'text'\u001b[0m\u001b[0;34m)\u001b[0m\u001b[0;34m)\u001b[0m\u001b[0;34m\u001b[0m\u001b[0;34m\u001b[0m\u001b[0m\n\u001b[0;32m--> 192\u001b[0;31m         \u001b[0;32mraise\u001b[0m \u001b[0mexception_class\u001b[0m\u001b[0;34m(\u001b[0m\u001b[0mmessage\u001b[0m\u001b[0;34m,\u001b[0m \u001b[0mscreen\u001b[0m\u001b[0;34m,\u001b[0m \u001b[0mstacktrace\u001b[0m\u001b[0;34m)\u001b[0m\u001b[0;34m\u001b[0m\u001b[0;34m\u001b[0m\u001b[0m\n\u001b[0m\u001b[1;32m    193\u001b[0m \u001b[0;34m\u001b[0m\u001b[0m\n\u001b[1;32m    194\u001b[0m     \u001b[0;32mdef\u001b[0m \u001b[0m_value_or_default\u001b[0m\u001b[0;34m(\u001b[0m\u001b[0mself\u001b[0m\u001b[0;34m,\u001b[0m \u001b[0mobj\u001b[0m\u001b[0;34m,\u001b[0m \u001b[0mkey\u001b[0m\u001b[0;34m,\u001b[0m \u001b[0mdefault\u001b[0m\u001b[0;34m)\u001b[0m\u001b[0;34m:\u001b[0m\u001b[0;34m\u001b[0m\u001b[0;34m\u001b[0m\u001b[0m\n",
      "\u001b[0;31mWebDriverException\u001b[0m: Message: session not created\nfrom timeout: Timed out receiving message from renderer: 600.000\n  (Session info: headless chrome=90.0.4430.212)\n  (Driver info: chromedriver=90.0.4430.212 (e3cd97fc771b893b7fd1879196d1215b622c2bed-refs/branch-heads/4430@{#1429}),platform=Linux 5.10.0-kali9-arm64 aarch64)\n"
     ]
    }
   ],
   "source": [
    "from web_footprinting_utils import WebsiteRecord, LinkRecorder\n",
    "\n",
    "record = WebsiteRecord(target_site, directory=\"\", port=port)"
   ]
  },
  {
   "cell_type": "code",
   "execution_count": null,
   "id": "f0ed67d2-1ff0-46ef-b254-588f3fcc433c",
   "metadata": {},
   "outputs": [],
   "source": [
    "%matplotlib inline\n",
    "results = record.fingerprint_page()"
   ]
  },
  {
   "cell_type": "code",
   "execution_count": null,
   "id": "0a4f1d6c-a138-4fbc-bfab-d0ac94d8ad6b",
   "metadata": {},
   "outputs": [],
   "source": [
    "record.fingerprint_extended()"
   ]
  },
  {
   "cell_type": "markdown",
   "id": "4f108fcd-7985-4b83-9b14-5fc0866c1d17",
   "metadata": {},
   "source": [
    "# Main Checks Complete!"
   ]
  },
  {
   "cell_type": "code",
   "execution_count": null,
   "id": "47cb625d-aecf-45f3-a1a3-86ca8a212c21",
   "metadata": {
    "tags": []
   },
   "outputs": [],
   "source": [
    "%matplotlib inline\n",
    "record_alt = WebsiteRecord(target_site, directory=\"/blog\", port=80)\n",
    "record_alt.fingerprint_page()\n",
    "record_alt.fingerprint_extended()"
   ]
  },
  {
   "cell_type": "code",
   "execution_count": null,
   "id": "d06fca23-93db-407e-ac04-b82acc0e9f7e",
   "metadata": {},
   "outputs": [],
   "source": [
    "%matplotlib inline\n",
    "record_alt = WebsiteRecord(target_site, directory=\"/blog/wp-content\", port=80)\n",
    "record_alt.fingerprint_page()\n",
    "record_alt.fingerprint_extended()"
   ]
  },
  {
   "cell_type": "code",
   "execution_count": null,
   "id": "00529ad0-538f-4307-a88d-c6a8442b566b",
   "metadata": {
    "scrolled": true,
    "tags": []
   },
   "outputs": [],
   "source": [
    "%matplotlib inline\n",
    "record_alt = WebsiteRecord(target_site, directory=\"/blog/wp-content/plugins\", port=80)\n",
    "record_alt.fingerprint_page()\n",
    "record_alt.fingerprint_extended()"
   ]
  },
  {
   "cell_type": "code",
   "execution_count": null,
   "id": "5fdba2d5-91e7-4c7d-9420-fa0deeb47bcc",
   "metadata": {},
   "outputs": [],
   "source": [
    "%matplotlib inline\n",
    "record_alt = WebsiteRecord(target_site, directory=\"/blog/wp-content/plugins/akismet\", port=80)\n",
    "record_alt.fingerprint_page()\n",
    "record_alt.fingerprint_extended()"
   ]
  },
  {
   "cell_type": "code",
   "execution_count": null,
   "id": "aa7acfe1-0834-4fe2-b770-12eaad3ac554",
   "metadata": {},
   "outputs": [],
   "source": [
    "from web_footprinting_utils import save_notebook\n",
    "\n",
    "save_notebook()"
   ]
  },
  {
   "cell_type": "code",
   "execution_count": null,
   "id": "adced135-1e1b-4c6a-9121-7fc4f0a9d1c6",
   "metadata": {},
   "outputs": [],
   "source": [
    "if INTERACTIVE:\n",
    "    !jupyter nbconvert --to script \"3_Web_Footprinting_V2.ipynb\""
   ]
  }
 ],
 "metadata": {
  "kernelspec": {
   "display_name": "Python 3 (ipykernel)",
   "language": "python",
   "name": "python3"
  },
  "language_info": {
   "codemirror_mode": {
    "name": "ipython",
    "version": 3
   },
   "file_extension": ".py",
   "mimetype": "text/x-python",
   "name": "python",
   "nbconvert_exporter": "python",
   "pygments_lexer": "ipython3",
   "version": "3.9.2"
  }
 },
 "nbformat": 4,
 "nbformat_minor": 5
}
