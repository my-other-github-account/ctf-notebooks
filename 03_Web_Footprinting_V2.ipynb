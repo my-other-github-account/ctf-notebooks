{
 "cells": [
  {
   "cell_type": "markdown",
   "id": "ca2935c2-0e9b-4176-96c2-26e3dd4a5f02",
   "metadata": {},
   "source": [
    "# V2 Notebook\n",
    "\n",
    "# TODOs:\n",
    "\n",
    "### Auto extract forms: https://www.thepythoncode.com/article/extracting-and-submitting-web-page-forms-in-python\n",
    "### Autorecon\n",
    "### Wfuzz\n",
    "\n",
    "#\n",
    "\n",
    "### Searchsploit\n",
    "### Full auto cross tool URL collection and traversal\n",
    "### 'IP Forwarded By' hiding\n",
    "\n",
    "https://eightytwo.net/blog/brute-forcing-the-admin-password-on-nibbles/"
   ]
  },
  {
   "cell_type": "code",
   "execution_count": 1,
   "id": "8d802b06-8e92-49cc-a2c7-62ff6450e996",
   "metadata": {},
   "outputs": [],
   "source": [
    "from web_footprinting_utils import setup_ipython\n",
    "\n",
    "get_ipython, INTERACTIVE = setup_ipython()"
   ]
  },
  {
   "cell_type": "code",
   "execution_count": 2,
   "id": "403a8b52-e1da-4203-bbe7-4b3481965680",
   "metadata": {},
   "outputs": [
    {
     "name": "stdout",
     "output_type": "stream",
     "text": [
      "env: TARGET=10.10.76.239\n",
      "env: PORT=8080\n"
     ]
    }
   ],
   "source": [
    "%env TARGET=10.10.76.239\n",
    "%env PORT=8080"
   ]
  },
  {
   "cell_type": "code",
   "execution_count": 3,
   "id": "25d3d115-f4d3-453e-9ce4-9aba2f8af151",
   "metadata": {},
   "outputs": [
    {
     "name": "stdout",
     "output_type": "stream",
     "text": [
      "PING 10.10.76.239 (10.10.76.239) 56(84) bytes of data.\n",
      "64 bytes from 10.10.76.239: icmp_seq=1 ttl=64 time=0.450 ms\n",
      "64 bytes from 10.10.76.239: icmp_seq=2 ttl=64 time=0.459 ms\n",
      "64 bytes from 10.10.76.239: icmp_seq=3 ttl=64 time=0.455 ms\n",
      "64 bytes from 10.10.76.239: icmp_seq=4 ttl=64 time=0.560 ms\n",
      "64 bytes from 10.10.76.239: icmp_seq=5 ttl=64 time=0.416 ms\n",
      "\n",
      "--- 10.10.76.239 ping statistics ---\n",
      "5 packets transmitted, 5 received, 0% packet loss, time 4081ms\n",
      "rtt min/avg/max/mdev = 0.416/0.468/0.560/0.048 ms\n"
     ]
    }
   ],
   "source": [
    "import os \n",
    "\n",
    "port = os.environ['PORT']\n",
    "target_site = os.environ['TARGET']\n",
    "!ping -c 5 $TARGET"
   ]
  },
  {
   "cell_type": "code",
   "execution_count": 4,
   "id": "953b02a4-d927-4ed8-91a4-08ca6fbda3ad",
   "metadata": {},
   "outputs": [],
   "source": [
    "from web_footprinting_utils import WebsiteRecord, LinkRecorder\n",
    "\n",
    "record = WebsiteRecord(target_site, directory=\"\", port=port)"
   ]
  },
  {
   "cell_type": "code",
   "execution_count": 5,
   "id": "f8d2a159-70cd-483c-bce4-b26c9b1be6e5",
   "metadata": {},
   "outputs": [
    {
     "name": "stdout",
     "output_type": "stream",
     "text": [
      "\n",
      "        /'___\\  /'___\\           /'___\\       \n",
      "       /\\ \\__/ /\\ \\__/  __  __  /\\ \\__/       \n",
      "       \\ \\ ,__\\\\ \\ ,__\\/\\ \\/\\ \\ \\ \\ ,__\\      \n",
      "        \\ \\ \\_/ \\ \\ \\_/\\ \\ \\_\\ \\ \\ \\ \\_/      \n",
      "         \\ \\_\\   \\ \\_\\  \\ \\____/  \\ \\_\\       \n",
      "          \\/_/    \\/_/   \\/___/    \\/_/       \n",
      "\n",
      "       v1.3.1 Kali Exclusive \u001b[31m<3\u001b[0m\n",
      "________________________________________________\n",
      "\n",
      " :: Method           : GET\n",
      " :: URL              : http://10.10.76.239:8080/r/a/b/b/i/t/FUZZ\n",
      " :: Wordlist         : FUZZ: alice_words.txt\n",
      " :: Output file      : ffuf_out.json\n",
      " :: File format      : json\n",
      " :: Follow redirects : true\n",
      " :: Calibration      : false\n",
      " :: Timeout          : 10\n",
      " :: Threads          : 50\n",
      " :: Matcher          : Response status: 200,204,301,302,307,401,403,405\n",
      "________________________________________________\n",
      "\n",
      "\u001b[2K:: Progress: [709/709] :: Job [1/1] :: 0 req/sec :: Duration: [0:00:00] :: Errors: 0 ::\n"
     ]
    }
   ],
   "source": [
    "record = WebsiteRecord(target_site, directory=\"/r/a/b/b/i/t\", port=port)\n",
    "record.ffuf(wordlist='alice_words.txt')"
   ]
  },
  {
   "cell_type": "code",
   "execution_count": 6,
   "id": "f0ed67d2-1ff0-46ef-b254-588f3fcc433c",
   "metadata": {
    "scrolled": true,
    "tags": []
   },
   "outputs": [
    {
     "name": "stdout",
     "output_type": "stream",
     "text": [
      "fingerprinting http://10.10.76.239:8080/r/a/b/b/i/t\n",
      "\u001b[31m\n",
      "\n",
      "Whatweb:\u001b[0m\n",
      "\u001b[1m\u001b[34mhttp://10.10.76.239:8080/r/a/b/b/i/t\u001b[0m [404 Not Found] \u001b[1m\u001b[37mApache-Tomcat\u001b[0m[\u001b[1m\u001b[32m9.0.30\u001b[0m], \u001b[1m\u001b[37mContent-Language\u001b[0m[\u001b[37men\u001b[0m], \u001b[1m\u001b[37mCountry\u001b[0m[\u001b[37mRESERVED\u001b[0m][\u001b[1m\u001b[31mZZ\u001b[0m], \u001b[1m\u001b[37mHTML5\u001b[0m, \u001b[1m\u001b[37mIP\u001b[0m[\u001b[37m10.10.76.239\u001b[0m], \u001b[1m\u001b[37mTitle\u001b[0m[\u001b[1m\u001b[33mHTTP Status 404 – Not Found\u001b[0m]\n",
      "\u001b[31m\n",
      "\n",
      "Ffuf:\u001b[0m\n",
      "\n",
      "        /'___\\  /'___\\           /'___\\       \n",
      "       /\\ \\__/ /\\ \\__/  __  __  /\\ \\__/       \n",
      "       \\ \\ ,__\\\\ \\ ,__\\/\\ \\/\\ \\ \\ \\ ,__\\      \n",
      "        \\ \\ \\_/ \\ \\ \\_/\\ \\ \\_\\ \\ \\ \\ \\_/      \n",
      "         \\ \\_\\   \\ \\_\\  \\ \\____/  \\ \\_\\       \n",
      "          \\/_/    \\/_/   \\/___/    \\/_/       \n",
      "\n",
      "       v1.3.1 Kali Exclusive \u001b[31m<3\u001b[0m\n",
      "________________________________________________\n",
      "\n",
      " :: Method           : GET\n",
      " :: URL              : http://10.10.76.239:8080/r/a/b/b/i/t/FUZZ\n",
      " :: Wordlist         : FUZZ: /usr/share/dirb/wordlists/common.txt\n",
      " :: Output file      : ffuf_out.json\n",
      " :: File format      : json\n",
      " :: Follow redirects : true\n",
      " :: Calibration      : false\n",
      " :: Timeout          : 10\n",
      " :: Threads          : 50\n",
      " :: Matcher          : Response status: 200,204,301,302,307,401,403,405\n",
      "________________________________________________\n",
      "\n",
      "\u001b[2K:: Progress: [4614/4614] :: Job [1/1] :: 3945 req/sec :: Duration: [0:00:01] :: Errors: 0 ::\n",
      "\u001b[31m\n",
      "\n",
      "Source:\u001b[0m\n",
      "<!DOCTYPE html>\n",
      "<html lang=\"en\">\n",
      " <head>\n",
      "  <title>\n",
      "   HTTP Status 404 – Not Found\n",
      "  </title>\n",
      "  <style type=\"text/css\">\n",
      "   body {font-family:Tahoma,Arial,sans-serif;} h1, h2, h3, b {color:white;background-color:#525D76;} h1 {font-size:22px;} h2 {font-size:16px;} h3 {font-size:14px;} p {font-size:12px;} a {color:black;} .line {height:1px;background-color:#525D76;border:none;}\n",
      "  </style>\n",
      " </head>\n",
      " <body>\n",
      "  <h1>\n",
      "   HTTP Status 404 – Not Found\n",
      "  </h1>\n",
      "  <hr class=\"line\"/>\n",
      "  <p>\n",
      "   <b>\n",
      "    Type\n",
      "   </b>\n",
      "   Status Report\n",
      "  </p>\n",
      "  <p>\n",
      "   <b>\n",
      "    Message\n",
      "   </b>\n",
      "   /r/a/b/b/i/t\n",
      "  </p>\n",
      "  <p>\n",
      "   <b>\n",
      "    Description\n",
      "   </b>\n",
      "   The origin server did not find a current representation for the target resource or is not willing to disclose that one exists.\n",
      "  </p>\n",
      "  <hr class=\"line\"/>\n",
      "  <h3>\n",
      "   Apache Tomcat/9.0.30\n",
      "  </h3>\n",
      " </body>\n",
      "</html>\n",
      "\u001b[31m\n",
      "\n",
      "NMAP:\u001b[0m\n",
      "nmap -Pn -p 8080 --script=http-sitemap-generator 10.10.76.239 --script-args=http-sitemap-generator.url=/r/a/b/b/i/t\n",
      "Starting Nmap 7.80 ( https://nmap.org ) at 2021-10-14 04:14 UTC\n",
      "Nmap scan report for ip-10-10-76-239.eu-west-1.compute.internal (10.10.76.239)\n",
      "Host is up (0.00018s latency).\n",
      "\n",
      "PORT     STATE SERVICE\n",
      "8080/tcp open  http-proxy\n",
      "MAC Address: 02:0B:FD:00:08:8D (Unknown)\n",
      "\n",
      "Nmap done: 1 IP address (1 host up) scanned in 0.39 seconds\n",
      "nmap -Pn -p 8080 --script=http-auth-finder 10.10.76.239 --script-args=http-auth-finder.url=/r/a/b/b/i/t\n",
      "Starting Nmap 7.80 ( https://nmap.org ) at 2021-10-14 04:14 UTC\n",
      "Nmap scan report for ip-10-10-76-239.eu-west-1.compute.internal (10.10.76.239)\n",
      "Host is up (0.00016s latency).\n",
      "\n",
      "PORT     STATE SERVICE\n",
      "8080/tcp open  http-proxy\n",
      "MAC Address: 02:0B:FD:00:08:8D (Unknown)\n",
      "\n",
      "Nmap done: 1 IP address (1 host up) scanned in 0.40 seconds\n",
      "nmap -Pn -p 8080 --script=http-comments-displayer 10.10.76.239 --script-args=http-comments-displayer.url=/r/a/b/b/i/t\n",
      "Starting Nmap 7.80 ( https://nmap.org ) at 2021-10-14 04:14 UTC\n",
      "Nmap scan report for ip-10-10-76-239.eu-west-1.compute.internal (10.10.76.239)\n",
      "Host is up (0.00017s latency).\n",
      "\n",
      "PORT     STATE SERVICE\n",
      "8080/tcp open  http-proxy\n",
      "MAC Address: 02:0B:FD:00:08:8D (Unknown)\n",
      "\n",
      "Nmap done: 1 IP address (1 host up) scanned in 0.40 seconds\n",
      "nmap -Pn -p 8080 --script=http-backup-finder 10.10.76.239 --script-args=http-backup-finder.url=/r/a/b/b/i/t\n",
      "Starting Nmap 7.80 ( https://nmap.org ) at 2021-10-14 04:14 UTC\n",
      "Nmap scan report for ip-10-10-76-239.eu-west-1.compute.internal (10.10.76.239)\n",
      "Host is up (0.00017s latency).\n",
      "\n",
      "PORT     STATE SERVICE\n",
      "8080/tcp open  http-proxy\n",
      "MAC Address: 02:0B:FD:00:08:8D (Unknown)\n",
      "\n",
      "Nmap done: 1 IP address (1 host up) scanned in 0.40 seconds\n",
      "\u001b[31m\n",
      "\n",
      "Word Counts:\u001b[0m\n",
      "CeWL 5.5.2 (Grouping) Robin Wood (robin@digi.ninja) (https://digi.ninja/)\n",
      "Status, 3\n",
      "HTTP, 2\n",
      "Not, 2\n",
      "Found, 2\n",
      "not, 2\n",
      "Type, 1\n",
      "Report, 1\n",
      "Message, 1\n",
      "Description, 1\n",
      "The, 1\n",
      "origin, 1\n",
      "server, 1\n",
      "did, 1\n",
      "find, 1\n",
      "current, 1\n",
      "representation, 1\n",
      "for, 1\n",
      "the, 1\n",
      "target, 1\n",
      "resource, 1\n",
      "willing, 1\n",
      "disclose, 1\n",
      "that, 1\n",
      "one, 1\n",
      "exists, 1\n",
      "Apache, 1\n",
      "Tomcat, 1\n",
      "\u001b[31m\n",
      "\n",
      "Screencap:\u001b[0m\n"
     ]
    },
    {
     "data": {
      "image/png": "[encoded data removed]",
      "text/plain": [
       "<Figure size 1800x720 with 1 Axes>"
      ]
     },
     "metadata": {
      "needs_background": "light"
     },
     "output_type": "display_data"
    }
   ],
   "source": [
    "%matplotlib inline\n",
    "results = record.fingerprint_page()"
   ]
  },
  {
   "cell_type": "code",
   "execution_count": 7,
   "id": "0a4f1d6c-a138-4fbc-bfab-d0ac94d8ad6b",
   "metadata": {},
   "outputs": [
    {
     "name": "stdout",
     "output_type": "stream",
     "text": [
      "\u001b[31m\n",
      "\n",
      "Ffuf Extensions:\u001b[0m\n",
      "\n",
      "        /'___\\  /'___\\           /'___\\       \n",
      "       /\\ \\__/ /\\ \\__/  __  __  /\\ \\__/       \n",
      "       \\ \\ ,__\\\\ \\ ,__\\/\\ \\/\\ \\ \\ \\ ,__\\      \n",
      "        \\ \\ \\_/ \\ \\ \\_/\\ \\ \\_\\ \\ \\ \\ \\_/      \n",
      "         \\ \\_\\   \\ \\_\\  \\ \\____/  \\ \\_\\       \n",
      "          \\/_/    \\/_/   \\/___/    \\/_/       \n",
      "\n",
      "       v1.3.1 Kali Exclusive \u001b[31m<3\u001b[0m\n",
      "________________________________________________\n",
      "\n",
      " :: Method           : GET\n",
      " :: URL              : http://10.10.76.239:8080/r/a/b/b/i/t/FUZZ\n",
      " :: Wordlist         : FUZZ: /usr/share/dirb/wordlists/common.txt\n",
      " :: Extensions       : .asp .aspx .bat .c .cfm .cgi .com .dll .exe .htm .html .inc .jhtml .jsa .jsp .log .mdb .nsf .php .phtml .pl .reg .sh .shtml .sql .txt .xml / \n",
      " :: Output file      : ffuf_out.json\n",
      " :: File format      : json\n",
      " :: Follow redirects : true\n",
      " :: Calibration      : false\n",
      " :: Timeout          : 5\n",
      " :: Threads          : 120\n",
      " :: Matcher          : Response status: 200,204,301,302,307,401,403,405\n",
      "________________________________________________\n",
      "\n",
      "\u001b[2K:: Progress: [133806/133806] :: Job [1/1] :: 5198 req/sec :: Duration: [0:00:36] :: Errors: 0 ::\n",
      "\u001b[31m\n",
      "\n",
      "Ffuf Large:\u001b[0m\n",
      "\n",
      "        /'___\\  /'___\\           /'___\\       \n",
      "       /\\ \\__/ /\\ \\__/  __  __  /\\ \\__/       \n",
      "       \\ \\ ,__\\\\ \\ ,__\\/\\ \\/\\ \\ \\ \\ ,__\\      \n",
      "        \\ \\ \\_/ \\ \\ \\_/\\ \\ \\_\\ \\ \\ \\ \\_/      \n",
      "         \\ \\_\\   \\ \\_\\  \\ \\____/  \\ \\_\\       \n",
      "          \\/_/    \\/_/   \\/___/    \\/_/       \n",
      "\n",
      "       v1.3.1 Kali Exclusive \u001b[31m<3\u001b[0m\n",
      "________________________________________________\n",
      "\n",
      " :: Method           : GET\n",
      " :: URL              : http://10.10.76.239:8080/r/a/b/b/i/t/FUZZ\n",
      " :: Wordlist         : FUZZ: /usr/share/dirbuster/wordlists/directory-list-2.3-medium.txt\n",
      " :: Output file      : ffuf_out.json\n",
      " :: File format      : json\n",
      " :: Follow redirects : true\n",
      " :: Calibration      : false\n",
      " :: Timeout          : 5\n",
      " :: Threads          : 120\n",
      " :: Matcher          : Response status: 200,204,301,302,307,401,403,405\n",
      "________________________________________________\n",
      "\n",
      "\u001b[2K:: Progress: [220547/220547] :: Job [1/1] :: 3832 req/sec :: Duration: [0:00:52] :: Errors: 0 ::\n",
      "\u001b[31m\n",
      "\n",
      "OkAdmin:\u001b[0m\n",
      "\u001b[32m\u001b[22m\n",
      "     ____  __ __          __          _       _______           __\n",
      "    / __ \\/ //_/___ _____/ /___ ___  (_)___  / ____(_)___  ____/ /__  _____\n",
      "   / / / / ,< / __ `/ __  / __ `__ \\/ / __ \\/ /_  / / __ \\/ __  / _ \\/ ___/\n",
      "  / /_/ / /| / /_/ / /_/ / / / / / / / / / / __/ / / / / / /_/ /  __/ /\n",
      "  \\____/_/ |_\\__,_/\\__,_/_/ /_/ /_/_/_/ /_/_/   /_/_/ /_/\\__,_/\\___/_/\n",
      "     version 2.5.3 created by O.Koleda & rewritten by mIcHy AmRaNe\n",
      "\n",
      "    \n",
      "\u001b[31m\u001b[22m  Something wrong with url\n",
      "                                                                                \u001b[31m\u001b[22m\n",
      "\t[x] Session Cancelled\n",
      "                                                                                \n",
      "\u001b[37m\u001b[22m\n"
     ]
    }
   ],
   "source": [
    "record.fingerprint_extended()"
   ]
  },
  {
   "cell_type": "markdown",
   "id": "4f108fcd-7985-4b83-9b14-5fc0866c1d17",
   "metadata": {},
   "source": [
    "# Main Checks Complete!"
   ]
  },
  {
   "cell_type": "code",
   "execution_count": null,
   "id": "ce831442-bdfa-4fc9-9405-9b140d00a315",
   "metadata": {},
   "outputs": [],
   "source": [
    "input(\"Press any keys...\")"
   ]
  },
  {
   "cell_type": "code",
   "execution_count": null,
   "id": "47cb625d-aecf-45f3-a1a3-86ca8a212c21",
   "metadata": {
    "scrolled": true,
    "tags": []
   },
   "outputs": [],
   "source": [
    "%matplotlib inline\n",
    "record_alt = WebsiteRecord(target_site, directory=\"/r/a/b/b/i/t\", port=80)\n",
    "record_alt.fingerprint_page()\n",
    "record_alt.fingerprint_extended()"
   ]
  },
  {
   "cell_type": "code",
   "execution_count": null,
   "id": "d06fca23-93db-407e-ac04-b82acc0e9f7e",
   "metadata": {
    "tags": []
   },
   "outputs": [],
   "source": [
    "%matplotlib inline\n",
    "record_alt = WebsiteRecord(target_site, directory=\"/poem\", port=80)\n",
    "record_alt.fingerprint_page()\n",
    "record_alt.fingerprint_extended()"
   ]
  },
  {
   "cell_type": "code",
   "execution_count": null,
   "id": "5c4a2491-8d38-4a83-9059-487d4ab437f9",
   "metadata": {},
   "outputs": [],
   "source": [
    "record_alt = WebsiteRecord(target_site, directory=\"/poem/index.html\", port=80)\n",
    "!cd CeWL && unbuffer ./cewl.rb -c {target_site}\"/poem\"\n",
    "!cd CeWL && unbuffer ./cewl.rb {target_site}\"/poem\""
   ]
  },
  {
   "cell_type": "code",
   "execution_count": null,
   "id": "0dd02b44-d966-4df1-b463-45bcc017f1ca",
   "metadata": {},
   "outputs": [],
   "source": [
    "input(\"Press any keys...\")"
   ]
  },
  {
   "cell_type": "code",
   "execution_count": null,
   "id": "00529ad0-538f-4307-a88d-c6a8442b566b",
   "metadata": {
    "scrolled": true,
    "tags": []
   },
   "outputs": [],
   "source": [
    "%matplotlib inline\n",
    "record_alt = WebsiteRecord(target_site, directory=\"/blog/wp-content/plugins\", port=80)\n",
    "record_alt.fingerprint_page()\n",
    "record_alt.fingerprint_extended()"
   ]
  },
  {
   "cell_type": "code",
   "execution_count": null,
   "id": "5fdba2d5-91e7-4c7d-9420-fa0deeb47bcc",
   "metadata": {},
   "outputs": [],
   "source": [
    "%matplotlib inline\n",
    "record_alt = WebsiteRecord(target_site, directory=\"/blog/wp-content/plugins/akismet\", port=80)\n",
    "record_alt.fingerprint_page()\n",
    "record_alt.fingerprint_extended()"
   ]
  },
  {
   "cell_type": "code",
   "execution_count": null,
   "id": "aa7acfe1-0834-4fe2-b770-12eaad3ac554",
   "metadata": {},
   "outputs": [],
   "source": [
    "from web_footprinting_utils import save_notebook\n",
    "\n",
    "save_notebook()"
   ]
  },
  {
   "cell_type": "code",
   "execution_count": null,
   "id": "adced135-1e1b-4c6a-9121-7fc4f0a9d1c6",
   "metadata": {},
   "outputs": [],
   "source": [
    "if INTERACTIVE:\n",
    "    !jupyter nbconvert --to script \"3_Web_Footprinting_V2.ipynb\""
   ]
  }
 ],
 "metadata": {
  "kernelspec": {
   "display_name": "Python 3 (ipykernel)",
   "language": "python",
   "name": "python3"
  },
  "language_info": {
   "codemirror_mode": {
    "name": "ipython",
    "version": 3
   },
   "file_extension": ".py",
   "mimetype": "text/x-python",
   "name": "python",
   "nbconvert_exporter": "python",
   "pygments_lexer": "ipython3",
   "version": "3.9.5"
  }
 },
 "nbformat": 4,
 "nbformat_minor": 5
}
