{
 "cells": [
  {
   "cell_type": "code",
   "execution_count": 1,
   "id": "3c43da3b-f5ba-4839-9bb8-b3c96941cc65",
   "metadata": {},
   "outputs": [
    {
     "name": "stdout",
     "output_type": "stream",
     "text": [
      "1: lo: <LOOPBACK,UP,LOWER_UP> mtu 65536 qdisc noqueue state UNKNOWN group default qlen 1000\n",
      "    link/loopback 00:00:00:00:00:00 brd 00:00:00:00:00:00\n",
      "    inet 127.0.0.1/8 scope host lo\n",
      "       valid_lft forever preferred_lft forever\n",
      "    inet6 ::1/128 scope host \n",
      "       valid_lft forever preferred_lft forever\n",
      "2: eth0: <BROADCAST,MULTICAST,UP,LOWER_UP> mtu 1500 qdisc pfifo_fast state UP group default qlen 1000\n",
      "    link/ether 00:1c:42:bb:30:6d brd ff:ff:ff:ff:ff:ff\n",
      "    inet 192.168.1.57/24 brd 192.168.1.255 scope global dynamic noprefixroute eth0\n",
      "       valid_lft 69477sec preferred_lft 69477sec\n",
      "    inet6 fe80::21c:42ff:febb:306d/64 scope link noprefixroute \n",
      "       valid_lft forever preferred_lft forever\n",
      "3: docker0: <BROADCAST,MULTICAST,UP,LOWER_UP> mtu 1500 qdisc noqueue state UP group default \n",
      "    link/ether 02:42:db:e1:39:ed brd ff:ff:ff:ff:ff:ff\n",
      "    inet 172.17.0.1/16 brd 172.17.255.255 scope global docker0\n",
      "       valid_lft forever preferred_lft forever\n",
      "    inet6 fe80::42:dbff:fee1:39ed/64 scope link \n",
      "       valid_lft forever preferred_lft forever\n",
      "16: veth666f7b5@if15: <BROADCAST,MULTICAST,UP,LOWER_UP> mtu 1500 qdisc noqueue master docker0 state UP group default \n",
      "    link/ether 2e:66:c6:0e:b8:8d brd ff:ff:ff:ff:ff:ff link-netnsid 0\n",
      "    inet6 fe80::2c66:c6ff:fe0e:b88d/64 scope link \n",
      "       valid_lft forever preferred_lft forever\n"
     ]
    }
   ],
   "source": [
    "!ip a"
   ]
  },
  {
   "cell_type": "code",
   "execution_count": null,
   "id": "8e662a77-853a-475f-bfeb-26790d8f25e9",
   "metadata": {},
   "outputs": [
    {
     "name": "stdin",
     "output_type": "stream",
     "text": [
      " ···········\n"
     ]
    },
    {
     "name": "stdout",
     "output_type": "stream",
     "text": [
      "[sudo] password for parallels: 2021-09-26 12:59:50 WARNING: Compression for receiving enabled. Compression has been used in the past to break encryption. Sent packets are not compressed unless \"allow-compression yes\" is also set.\n",
      "2021-09-26 12:59:50 DEPRECATED OPTION: --cipher set to 'AES-256-CBC' but missing in --data-ciphers (AES-256-GCM:AES-128-GCM). Future OpenVPN version will ignore --cipher for cipher negotiations. Add 'AES-256-CBC' to --data-ciphers or change --cipher 'AES-256-CBC' to --data-ciphers-fallback 'AES-256-CBC' to silence this warning.\n",
      "2021-09-26 12:59:50 OpenVPN 2.5.1 aarch64-unknown-linux-gnu [SSL (OpenSSL)] [LZO] [LZ4] [EPOLL] [PKCS11] [MH/PKTINFO] [AEAD] built on May 14 2021\n",
      "2021-09-26 12:59:50 library versions: OpenSSL 1.1.1l  24 Aug 2021, LZO 2.10\n",
      "2021-09-26 12:59:50 Outgoing Control Channel Authentication: Using 512 bit message hash 'SHA512' for HMAC authentication\n",
      "2021-09-26 12:59:50 Incoming Control Channel Authentication: Using 512 bit message hash 'SHA512' for HMAC authentication\n",
      "2021-09-26 12:59:50 TCP/UDP: Preserving recently used remote address: [AF_INET]54.193.240.194:1194\n",
      "2021-09-26 12:59:50 Socket Buffers: R=[212992->212992] S=[212992->212992]\n",
      "2021-09-26 12:59:50 UDP link local: (not bound)\n",
      "2021-09-26 12:59:50 UDP link remote: [AF_INET]54.193.240.194:1194\n",
      "2021-09-26 12:59:50 TLS: Initial packet from [AF_INET]54.193.240.194:1194, sid=43291276 a51b5433\n",
      "2021-09-26 12:59:50 VERIFY OK: depth=1, CN=ChangeMe\n",
      "2021-09-26 12:59:50 VERIFY KU OK\n",
      "2021-09-26 12:59:50 Validating certificate extended key usage\n",
      "2021-09-26 12:59:50 ++ Certificate has EKU (str) TLS Web Server Authentication, expects TLS Web Server Authentication\n",
      "2021-09-26 12:59:50 VERIFY EKU OK\n",
      "2021-09-26 12:59:50 VERIFY OK: depth=0, CN=server\n",
      "2021-09-26 12:59:50 Control Channel: TLSv1.3, cipher TLSv1.3 TLS_AES_256_GCM_SHA384, 2048 bit RSA\n",
      "2021-09-26 12:59:50 [server] Peer Connection Initiated with [AF_INET]54.193.240.194:1194\n",
      "2021-09-26 12:59:52 SENT CONTROL [server]: 'PUSH_REQUEST' (status=1)\n",
      "2021-09-26 12:59:52 PUSH: Received control message: 'PUSH_REPLY,route 10.10.0.0 255.255.0.0,route-metric 1000,route-gateway 10.2.0.1,topology subnet,ping 5,ping-restart 120,ifconfig 10.2.91.54 255.255.128.0,peer-id 20'\n",
      "2021-09-26 12:59:52 OPTIONS IMPORT: timers and/or timeouts modified\n",
      "2021-09-26 12:59:52 OPTIONS IMPORT: --ifconfig/up options modified\n",
      "2021-09-26 12:59:52 OPTIONS IMPORT: route options modified\n",
      "2021-09-26 12:59:52 OPTIONS IMPORT: route-related options modified\n",
      "2021-09-26 12:59:52 OPTIONS IMPORT: peer-id set\n",
      "2021-09-26 12:59:52 OPTIONS IMPORT: adjusting link_mtu to 1625\n",
      "2021-09-26 12:59:52 Using peer cipher 'AES-256-CBC'\n",
      "2021-09-26 12:59:52 Outgoing Data Channel: Cipher 'AES-256-CBC' initialized with 256 bit key\n",
      "2021-09-26 12:59:52 Outgoing Data Channel: Using 512 bit message hash 'SHA512' for HMAC authentication\n",
      "2021-09-26 12:59:52 Incoming Data Channel: Cipher 'AES-256-CBC' initialized with 256 bit key\n",
      "2021-09-26 12:59:52 Incoming Data Channel: Using 512 bit message hash 'SHA512' for HMAC authentication\n",
      "2021-09-26 12:59:52 net_route_v4_best_gw query: dst 0.0.0.0\n",
      "2021-09-26 12:59:52 net_route_v4_best_gw result: via 192.168.1.1 dev eth0\n",
      "2021-09-26 12:59:52 ROUTE_GATEWAY 192.168.1.1/255.255.255.0 IFACE=eth0 HWADDR=00:1c:42:bb:30:6d\n",
      "2021-09-26 12:59:52 TUN/TAP device tun0 opened\n",
      "2021-09-26 12:59:52 net_iface_mtu_set: mtu 1500 for tun0\n",
      "2021-09-26 12:59:52 net_iface_up: set tun0 up\n",
      "2021-09-26 12:59:52 net_addr_v4_add: 10.2.91.54/17 dev tun0\n",
      "2021-09-26 12:59:52 net_route_v4_add: 10.10.0.0/16 via 10.2.0.1 dev [NULL] table 0 metric 1000\n",
      "2021-09-26 12:59:52 WARNING: this configuration may cache passwords in memory -- use the auth-nocache option to prevent this\n",
      "2021-09-26 12:59:52 Initialization Sequence Completed\n"
     ]
    }
   ],
   "source": [
    "from getpass import getpass\n",
    "\n",
    "!echo { getpass() } | sudo -S openvpn ~/Desktop/HTB\\ Academy/succulentsteve.ovpn"
   ]
  },
  {
   "cell_type": "code",
   "execution_count": null,
   "id": "236a5e79-68b3-4e24-b350-f6a0eccd1a50",
   "metadata": {},
   "outputs": [],
   "source": []
  }
 ],
 "metadata": {
  "kernelspec": {
   "display_name": "Python 3 (ipykernel)",
   "language": "python",
   "name": "python3"
  },
  "language_info": {
   "codemirror_mode": {
    "name": "ipython",
    "version": 3
   },
   "file_extension": ".py",
   "mimetype": "text/x-python",
   "name": "python",
   "nbconvert_exporter": "python",
   "pygments_lexer": "ipython3",
   "version": "3.9.2"
  }
 },
 "nbformat": 4,
 "nbformat_minor": 5
}
