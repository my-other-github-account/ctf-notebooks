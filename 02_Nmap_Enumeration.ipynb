{
 "cells": [
  {
   "cell_type": "markdown",
   "id": "de36d110-c319-4d9c-87f7-d534ab7d8e02",
   "metadata": {},
   "source": [
    "# Setup/Test Environment:"
   ]
  },
  {
   "cell_type": "code",
   "execution_count": 1,
   "id": "f6716cd2-9223-40a5-b252-7a98ca055038",
   "metadata": {},
   "outputs": [
    {
     "name": "stderr",
     "output_type": "stream",
     "text": [
      "Matplotlib is building the font cache; this may take a moment.\n"
     ]
    }
   ],
   "source": [
    "from web_footprinting_utils import setup_ipython\n",
    "import os\n",
    "\n",
    "get_ipython, INTERACTIVE = setup_ipython()"
   ]
  },
  {
   "cell_type": "code",
   "execution_count": 2,
   "id": "29319d52-32e4-4641-9a05-43c632df175e",
   "metadata": {},
   "outputs": [
    {
     "data": {
      "text/plain": [
       "'/root/miniconda/bin/python'"
      ]
     },
     "execution_count": 2,
     "metadata": {},
     "output_type": "execute_result"
    }
   ],
   "source": [
    "import sys\n",
    "sys.executable"
   ]
  },
  {
   "cell_type": "code",
   "execution_count": 3,
   "id": "708723bd-df9b-4d54-91a0-713b0c3b03da",
   "metadata": {},
   "outputs": [
    {
     "name": "stdout",
     "output_type": "stream",
     "text": [
      "env: TARGET=10.10.232.160\n"
     ]
    }
   ],
   "source": [
    "%env TARGET=10.10.232.160"
   ]
  },
  {
   "cell_type": "code",
   "execution_count": 4,
   "id": "9cee99d5-c5d0-4ea4-9dd6-c7dd897edbe7",
   "metadata": {},
   "outputs": [
    {
     "name": "stdout",
     "output_type": "stream",
     "text": [
      "Make sure we are connected to VPN:\n",
      "Not connected!\n"
     ]
    },
    {
     "name": "stdin",
     "output_type": "stream",
     "text": [
      " \n"
     ]
    }
   ],
   "source": [
    "!echo Make sure we are connected to VPN:\n",
    "result = !ip a | grep tun0\n",
    "\n",
    "if not len(result)>0:\n",
    "    print(\"Not connected!\")\n",
    "    input()\n",
    "else:\n",
    "    print(\"Connected!\")\n",
    "    print(result)"
   ]
  },
  {
   "cell_type": "markdown",
   "id": "3ffd0caa-c820-41c6-88c2-dc30830ae6f0",
   "metadata": {},
   "source": [
    "# Initial (Unreliable) RustScan:"
   ]
  },
  {
   "cell_type": "code",
   "execution_count": 5,
   "id": "98747dd7-c941-49e4-8a28-6a5d81411a08",
   "metadata": {},
   "outputs": [],
   "source": [
    "import os\n",
    "pwd = os.getcwd()\n",
    "rustscan = \"docker run -v '%s':/workspace  --volume /etc/passwd:/etc/passwd:ro --volume /etc/group:/etc/group:ro --user $(id -u) --rm my-other-github-account/rustscan\" % pwd"
   ]
  },
  {
   "cell_type": "code",
   "execution_count": 6,
   "id": "d4ea8a20-0c2b-4875-b738-5b2591551651",
   "metadata": {},
   "outputs": [
    {
     "name": "stderr",
     "output_type": "stream",
     "text": [
      "/bin/bash: docker: command not found\n"
     ]
    }
   ],
   "source": [
    "!{rustscan} -t 4000 -r 1-65535 -a {os.environ[\"TARGET\"]} -- -Pn -A -sV"
   ]
  },
  {
   "cell_type": "markdown",
   "id": "d464182d-eb92-4ea0-8a58-80b7b466334f",
   "metadata": {},
   "source": [
    "# Initial Nmap:"
   ]
  },
  {
   "cell_type": "code",
   "execution_count": 7,
   "id": "f1753b94-01fd-49a1-a896-e392821c021b",
   "metadata": {},
   "outputs": [
    {
     "name": "stdout",
     "output_type": "stream",
     "text": [
      "10.10.232.160\n"
     ]
    }
   ],
   "source": [
    "!echo $TARGET\n",
    "!mkdir -p scans/quick scans/tcp scans/udp scans/scripts scans/http scans/no_ping"
   ]
  },
  {
   "cell_type": "code",
   "execution_count": 8,
   "id": "79245048-a43c-4c50-94c3-4273e1009748",
   "metadata": {},
   "outputs": [
    {
     "name": "stdout",
     "output_type": "stream",
     "text": [
      "PING 10.10.232.160 (10.10.232.160) 56(84) bytes of data.\n",
      "64 bytes from 10.10.232.160: icmp_seq=1 ttl=64 time=16.2 ms\n",
      "64 bytes from 10.10.232.160: icmp_seq=2 ttl=64 time=0.636 ms\n",
      "64 bytes from 10.10.232.160: icmp_seq=3 ttl=64 time=13.3 ms\n",
      "64 bytes from 10.10.232.160: icmp_seq=4 ttl=64 time=1.13 ms\n",
      "64 bytes from 10.10.232.160: icmp_seq=5 ttl=64 time=0.501 ms\n",
      "\n",
      "--- 10.10.232.160 ping statistics ---\n",
      "5 packets transmitted, 5 received, 0% packet loss, time 4052ms\n",
      "rtt min/avg/max/mdev = 0.501/6.351/16.208/6.917 ms\n"
     ]
    }
   ],
   "source": [
    "!ping -c 5 $TARGET"
   ]
  },
  {
   "cell_type": "markdown",
   "id": "58fac4d4-d06d-4ba8-aad3-97517c296720",
   "metadata": {},
   "source": [
    "# Quick Scan:"
   ]
  },
  {
   "cell_type": "code",
   "execution_count": 9,
   "id": "e2744cff-ebab-4506-9bc8-a8eb8d1eb4b4",
   "metadata": {},
   "outputs": [
    {
     "name": "stdout",
     "output_type": "stream",
     "text": [
      "Starting Nmap 7.80 ( https://nmap.org ) at 2021-10-12 07:59 UTC\n",
      "Initiating ARP Ping Scan at 07:59\n",
      "Scanning 10.10.232.160 [1 port]\n",
      "Completed ARP Ping Scan at 07:59, 0.28s elapsed (1 total hosts)\n",
      "Initiating Parallel DNS resolution of 1 host. at 07:59\n",
      "Completed Parallel DNS resolution of 1 host. at 07:59, 0.05s elapsed\n",
      "Initiating SYN Stealth Scan at 07:59\n",
      "Scanning ip-10-10-232-160.eu-west-1.compute.internal (10.10.232.160) [1000 ports]\n",
      "Discovered open port 21/tcp on 10.10.232.160\n",
      "Discovered open port 22/tcp on 10.10.232.160\n",
      "Discovered open port 80/tcp on 10.10.232.160\n",
      "Completed SYN Stealth Scan at 07:59, 0.44s elapsed (1000 total ports)\n",
      "Nmap scan report for ip-10-10-232-160.eu-west-1.compute.internal (10.10.232.160)\n",
      "Host is up, received arp-response (0.0016s latency).\n",
      "Scanned at 2021-10-12 07:59:58 UTC for 1s\n",
      "Not shown: 997 closed ports\n",
      "Reason: 997 resets\n",
      "PORT   STATE SERVICE REASON\n",
      "21/tcp open  ftp     syn-ack ttl 64\n",
      "22/tcp open  ssh     syn-ack ttl 64\n",
      "80/tcp open  http    syn-ack ttl 64\n",
      "MAC Address: 02:27:D1:2F:24:EB (Unknown)\n",
      "\n",
      "Read data files from: /usr/bin/../share/nmap\n",
      "Nmap done: 1 IP address (1 host up) scanned in 1.56 seconds\n",
      "           Raw packets sent: 1001 (44.028KB) | Rcvd: 1001 (40.040KB)\n"
     ]
    }
   ],
   "source": [
    "!nmap -vv -oA scans/quick/quick_scan $TARGET"
   ]
  },
  {
   "cell_type": "markdown",
   "id": "e915b5ee-4f66-402b-9d64-96ca11fa9f7a",
   "metadata": {},
   "source": [
    "# All Ports:"
   ]
  },
  {
   "cell_type": "code",
   "execution_count": 10,
   "id": "5e8c4f02-afa3-49cc-9fdf-bfcac2e4b58b",
   "metadata": {},
   "outputs": [
    {
     "name": "stdout",
     "output_type": "stream",
     "text": [
      "Starting Nmap 7.80 ( https://nmap.org ) at 2021-10-12 08:00 UTC\n",
      "NSE: Loaded 45 scripts for scanning.\n",
      "Initiating ARP Ping Scan at 08:00\n",
      "Scanning 10.10.232.160 [1 port]\n",
      "Completed ARP Ping Scan at 08:00, 0.33s elapsed (1 total hosts)\n",
      "Initiating Parallel DNS resolution of 1 host. at 08:00\n",
      "Completed Parallel DNS resolution of 1 host. at 08:00, 0.01s elapsed\n",
      "Initiating SYN Stealth Scan at 08:00\n",
      "Scanning ip-10-10-232-160.eu-west-1.compute.internal (10.10.232.160) [65535 ports]\n",
      "Discovered open port 22/tcp on 10.10.232.160\n",
      "Discovered open port 21/tcp on 10.10.232.160\n",
      "Discovered open port 80/tcp on 10.10.232.160\n",
      "Completed SYN Stealth Scan at 08:00, 6.24s elapsed (65535 total ports)\n",
      "Initiating Service scan at 08:00\n",
      "Scanning 3 services on ip-10-10-232-160.eu-west-1.compute.internal (10.10.232.160)\n",
      "Completed Service scan at 08:00, 6.03s elapsed (3 services on 1 host)\n",
      "NSE: Script scanning 10.10.232.160.\n",
      "NSE: Starting runlevel 1 (of 2) scan.\n",
      "Initiating NSE at 08:00\n",
      "Completed NSE at 08:00, 0.07s elapsed\n",
      "NSE: Starting runlevel 2 (of 2) scan.\n",
      "Initiating NSE at 08:00\n",
      "Completed NSE at 08:00, 0.05s elapsed\n",
      "Nmap scan report for ip-10-10-232-160.eu-west-1.compute.internal (10.10.232.160)\n",
      "Host is up, received arp-response (0.00086s latency).\n",
      "Scanned at 2021-10-12 08:00:04 UTC for 13s\n",
      "Not shown: 65532 closed ports\n",
      "Reason: 65532 resets\n",
      "PORT   STATE SERVICE REASON         VERSION\n",
      "21/tcp open  ftp     syn-ack ttl 64 vsftpd 3.0.3\n",
      "22/tcp open  ssh     syn-ack ttl 64 OpenSSH 7.6p1 Ubuntu 4ubuntu0.3 (Ubuntu Linux; protocol 2.0)\n",
      "80/tcp open  http    syn-ack ttl 64 Node.js Express framework\n",
      "MAC Address: 02:27:D1:2F:24:EB (Unknown)\n",
      "Service Info: OSs: Unix, Linux; CPE: cpe:/o:linux:linux_kernel\n",
      "\n",
      "Read data files from: /usr/bin/../share/nmap\n",
      "Service detection performed. Please report any incorrect results at https://nmap.org/submit/ .\n",
      "Nmap done: 1 IP address (1 host up) scanned in 17.92 seconds\n",
      "           Raw packets sent: 65536 (2.884MB) | Rcvd: 65536 (2.621MB)\n"
     ]
    }
   ],
   "source": [
    "!nmap -p- -sV -vv -oA  scans/tcp/tcp_scan $TARGET"
   ]
  },
  {
   "cell_type": "code",
   "execution_count": 11,
   "id": "d0d57d0d-a030-4a33-af05-6ec2541ad6c5",
   "metadata": {},
   "outputs": [],
   "source": [
    "import xmltodict\n",
    "\n",
    "with open('scans/tcp/tcp_scan.xml','r') as f:\n",
    "    xml_dict = xmltodict.parse(f.read())"
   ]
  },
  {
   "cell_type": "code",
   "execution_count": 12,
   "id": "da453ac6-0dc4-425f-aef4-b7a95c6c3505",
   "metadata": {},
   "outputs": [
    {
     "name": "stdout",
     "output_type": "stream",
     "text": [
      "env: PORTS=21,22,80\n"
     ]
    }
   ],
   "source": [
    "PING=True\n",
    "try:\n",
    "    port_list = [port['@portid'] for port in xml_dict['nmaprun']['host']['ports']['port']]\n",
    "    %env PORTS={\",\".join(port_list)}\n",
    "except:\n",
    "    print(\"Host is down\")\n",
    "    PING=False"
   ]
  },
  {
   "cell_type": "markdown",
   "id": "6c676c86-fec5-476c-9ca3-a32dcf99e420",
   "metadata": {},
   "source": [
    "# No Ping:"
   ]
  },
  {
   "cell_type": "code",
   "execution_count": 13,
   "id": "75c4ce70-909e-44a1-9325-30006ae51e5c",
   "metadata": {},
   "outputs": [
    {
     "name": "stdout",
     "output_type": "stream",
     "text": [
      "Starting Nmap 7.80 ( https://nmap.org ) at 2021-10-12 08:00 UTC\n",
      "NSE: Loaded 45 scripts for scanning.\n",
      "Initiating ARP Ping Scan at 08:00\n",
      "Scanning 10.10.232.160 [1 port]\n",
      "Completed ARP Ping Scan at 08:00, 0.03s elapsed (1 total hosts)\n",
      "Initiating Parallel DNS resolution of 1 host. at 08:00\n",
      "Completed Parallel DNS resolution of 1 host. at 08:00, 0.00s elapsed\n",
      "Initiating SYN Stealth Scan at 08:00\n",
      "Scanning ip-10-10-232-160.eu-west-1.compute.internal (10.10.232.160) [1000 ports]\n",
      "Discovered open port 80/tcp on 10.10.232.160\n",
      "Discovered open port 21/tcp on 10.10.232.160\n",
      "Discovered open port 22/tcp on 10.10.232.160\n",
      "Completed SYN Stealth Scan at 08:00, 0.09s elapsed (1000 total ports)\n",
      "Initiating Service scan at 08:00\n",
      "Scanning 3 services on ip-10-10-232-160.eu-west-1.compute.internal (10.10.232.160)\n",
      "Completed Service scan at 08:00, 6.02s elapsed (3 services on 1 host)\n",
      "NSE: Script scanning 10.10.232.160.\n",
      "NSE: Starting runlevel 1 (of 2) scan.\n",
      "Initiating NSE at 08:00\n",
      "Completed NSE at 08:00, 0.02s elapsed\n",
      "NSE: Starting runlevel 2 (of 2) scan.\n",
      "Initiating NSE at 08:00\n",
      "Completed NSE at 08:00, 0.04s elapsed\n",
      "Nmap scan report for ip-10-10-232-160.eu-west-1.compute.internal (10.10.232.160)\n",
      "Host is up, received arp-response (0.0012s latency).\n",
      "Scanned at 2021-10-12 08:00:19 UTC for 6s\n",
      "Not shown: 997 closed ports\n",
      "Reason: 997 resets\n",
      "PORT   STATE SERVICE REASON         VERSION\n",
      "21/tcp open  ftp     syn-ack ttl 64 vsftpd 3.0.3\n",
      "22/tcp open  ssh     syn-ack ttl 64 OpenSSH 7.6p1 Ubuntu 4ubuntu0.3 (Ubuntu Linux; protocol 2.0)\n",
      "80/tcp open  http    syn-ack ttl 64 Node.js Express framework\n",
      "MAC Address: 02:27:D1:2F:24:EB (Unknown)\n",
      "Service Info: OSs: Unix, Linux; CPE: cpe:/o:linux:linux_kernel\n",
      "\n",
      "Read data files from: /usr/bin/../share/nmap\n",
      "Service detection performed. Please report any incorrect results at https://nmap.org/submit/ .\n",
      "Nmap done: 1 IP address (1 host up) scanned in 7.20 seconds\n",
      "           Raw packets sent: 1001 (44.028KB) | Rcvd: 1001 (40.040KB)\n"
     ]
    }
   ],
   "source": [
    "!nmap -sV -Pn -vv -oA scans/no_ping/no_ping_scan $TARGET"
   ]
  },
  {
   "cell_type": "code",
   "execution_count": 14,
   "id": "0c0c1709-760c-41d8-9a88-3ce8cec580ed",
   "metadata": {},
   "outputs": [],
   "source": [
    "if not PING:\n",
    "    !nmap -sV -Pn -p- -vv -oA  scans/tcp/tcp_scan $TARGET"
   ]
  },
  {
   "cell_type": "markdown",
   "id": "113b941b-0872-48cc-9e5e-f98bb0f61ad2",
   "metadata": {},
   "source": [
    "# Run Default Scripts:"
   ]
  },
  {
   "cell_type": "code",
   "execution_count": 15,
   "id": "7272adf7-59fd-40c7-9f29-13edabfa0b24",
   "metadata": {
    "tags": []
   },
   "outputs": [
    {
     "name": "stdout",
     "output_type": "stream",
     "text": [
      "Starting Nmap 7.80 ( https://nmap.org ) at 2021-10-12 08:00 UTC\n",
      "NSE: Loaded 121 scripts for scanning.\n",
      "NSE: Script Pre-scanning.\n",
      "NSE: Starting runlevel 1 (of 2) scan.\n",
      "Initiating NSE at 08:00\n",
      "Completed NSE at 08:00, 0.00s elapsed\n",
      "NSE: Starting runlevel 2 (of 2) scan.\n",
      "Initiating NSE at 08:00\n",
      "Completed NSE at 08:00, 0.00s elapsed\n",
      "Initiating ARP Ping Scan at 08:00\n",
      "Scanning 10.10.232.160 [1 port]\n",
      "Completed ARP Ping Scan at 08:00, 0.04s elapsed (1 total hosts)\n",
      "Initiating Parallel DNS resolution of 1 host. at 08:00\n",
      "Completed Parallel DNS resolution of 1 host. at 08:00, 0.00s elapsed\n",
      "Initiating SYN Stealth Scan at 08:00\n",
      "Scanning ip-10-10-232-160.eu-west-1.compute.internal (10.10.232.160) [3 ports]\n",
      "Discovered open port 22/tcp on 10.10.232.160\n",
      "Discovered open port 80/tcp on 10.10.232.160\n",
      "Discovered open port 21/tcp on 10.10.232.160\n",
      "Completed SYN Stealth Scan at 08:00, 0.04s elapsed (3 total ports)\n",
      "NSE: Script scanning 10.10.232.160.\n",
      "NSE: Starting runlevel 1 (of 2) scan.\n",
      "Initiating NSE at 08:00\n",
      "Completed NSE at 08:00, 2.16s elapsed\n",
      "NSE: Starting runlevel 2 (of 2) scan.\n",
      "Initiating NSE at 08:00\n",
      "Completed NSE at 08:00, 0.00s elapsed\n",
      "Nmap scan report for ip-10-10-232-160.eu-west-1.compute.internal (10.10.232.160)\n",
      "Host is up, received arp-response (0.00027s latency).\n",
      "Scanned at 2021-10-12 08:00:26 UTC for 3s\n",
      "\n",
      "PORT   STATE SERVICE REASON\n",
      "21/tcp open  ftp     syn-ack ttl 64\n",
      "22/tcp open  ssh     syn-ack ttl 64\n",
      "| ssh-hostkey: \n",
      "|   2048 1a:50:ed:98:a7:87:1d:7f:3a:33:1c:20:cf:46:8c:2c (RSA)\n",
      "| ssh-rsa AAAAB3NzaC1yc2EAAAADAQABAAABAQD+bckNCZMIFQkp7K2bTP9IaEjkTO1/pSqTxV9mRFoAdZx/vwjU0hvBpQy861VmAsR91lQDCeegXJC7jgl1sApIQ/W/dweFnJWB6Wo7Jv961VNNuiR3Ptd1Am7FpMFapigUaT/XPMwS9CoIpyQdSee47ar67kr5W4vHOnGzVUUTU8hRuEBDZsslQNKg0T0C86W8O2UUtGqv02XQO83PSPt+At4agB/jL2oFRM59I4mLo3uSHbjqOIOye7Bwam3NrCE9iCLw1Bvu2Cx8bj85En0fcdnvnat0MyFHursXnTFNUf47bpQwILrk8crFG10FyFcl8nEsnPh5q0CcOjRcHZ5J\n",
      "|   256 23:c5:9c:e8:50:68:5d:1d:cb:c9:65:66:b3:d6:92:10 (ECDSA)\n",
      "| ecdsa-sha2-nistp256 AAAAE2VjZHNhLXNoYTItbmlzdHAyNTYAAAAIbmlzdHAyNTYAAABBBC9bjLrQ7Z7TVIPLEQKEnzsccN8yXLVUg/vD7+X+HMzqDVGffpo3lLR9Cpl1PQOSZzfLt1cb+HidGzWtEd6w3nA=\n",
      "|   256 d7:1d:e1:0d:b1:d0:4d:69:0c:8f:c3:93:a1:c3:90:ea (ED25519)\n",
      "|_ssh-ed25519 AAAAC3NzaC1lZDI1NTE5AAAAIHAc789ZxTJzpRKmSjT2f39olcMyN/mGVLIREr98APAJ\n",
      "80/tcp open  http    syn-ack ttl 64\n",
      "|_http-favicon: Unknown favicon MD5: E084507EB6547A72F9CEC12E0A9B7A36\n",
      "| http-methods: \n",
      "|_  Supported Methods: GET HEAD POST OPTIONS\n",
      "|_http-title: Avengers! Assemble!\n",
      "MAC Address: 02:27:D1:2F:24:EB (Unknown)\n",
      "\n",
      "NSE: Script Post-scanning.\n",
      "NSE: Starting runlevel 1 (of 2) scan.\n",
      "Initiating NSE at 08:00\n",
      "Completed NSE at 08:00, 0.00s elapsed\n",
      "NSE: Starting runlevel 2 (of 2) scan.\n",
      "Initiating NSE at 08:00\n",
      "Completed NSE at 08:00, 0.00s elapsed\n",
      "Read data files from: /usr/bin/../share/nmap\n",
      "Nmap done: 1 IP address (1 host up) scanned in 3.32 seconds\n",
      "           Raw packets sent: 4 (160B) | Rcvd: 4 (160B)\n"
     ]
    }
   ],
   "source": [
    "if PING:\n",
    "    !nmap -sC -p $PORTS -vv -oA scans/scripts/script_scan $TARGET"
   ]
  },
  {
   "cell_type": "code",
   "execution_count": 16,
   "id": "02e9f294-d7e9-44a3-9350-6208c1fe90fc",
   "metadata": {
    "scrolled": true,
    "tags": []
   },
   "outputs": [
    {
     "name": "stdout",
     "output_type": "stream",
     "text": [
      "Starting Nmap 7.80 ( https://nmap.org ) at 2021-10-12 08:00 UTC\n",
      "NSE: Loaded 417 scripts for scanning.\n",
      "NSE: Script Pre-scanning.\n",
      "NSE: Starting runlevel 1 (of 3) scan.\n",
      "Initiating NSE at 08:00\n",
      "NSE: [targets-ipv6-map4to6] This script is IPv6 only.\n",
      "NSE: [targets-ipv6-wordlist] Need to be executed for IPv6.\n",
      "NSE: [broadcast-sonicwall-discover] No network interface was supplied, aborting.\n",
      "NSE: [url-snarf] no network interface was supplied, aborting ...\n",
      "NSE: [targets-xml] Need to supply a file name with the targets-xml.iX argument\n",
      "NSE: [shodan-api] Error: Please specify your ShodanAPI key with the shodan-api.apikey argument\n",
      "NSE: [mtrace] A source IP must be provided through fromip argument.\n",
      "NSE: [broadcast-ataoe-discover] No interface supplied, use -e\n",
      "too short\n",
      "NSE Timing: About 97.70% done; ETC: 08:01 (0:00:01 remaining)\n",
      "Completed NSE at 08:01, 40.00s elapsed\n",
      "NSE: Starting runlevel 2 (of 3) scan.\n",
      "Initiating NSE at 08:01\n",
      "Completed NSE at 08:01, 0.00s elapsed\n",
      "NSE: Starting runlevel 3 (of 3) scan.\n",
      "Initiating NSE at 08:01\n",
      "Completed NSE at 08:01, 0.00s elapsed\n",
      "Pre-scan script results:\n",
      "|_eap-info: please specify an interface with -e\n",
      "| targets-asn: \n",
      "|_  targets-asn.asn is a mandatory parameter\n",
      "Initiating ARP Ping Scan at 08:01\n",
      "Scanning 10.10.232.160 [1 port]\n",
      "Completed ARP Ping Scan at 08:01, 0.24s elapsed (1 total hosts)\n",
      "Initiating Parallel DNS resolution of 1 host. at 08:01\n",
      "Completed Parallel DNS resolution of 1 host. at 08:01, 0.04s elapsed\n",
      "Initiating SYN Stealth Scan at 08:01\n",
      "Scanning ip-10-10-232-160.eu-west-1.compute.internal (10.10.232.160) [1000 ports]\n",
      "Discovered open port 22/tcp on 10.10.232.160\n",
      "Discovered open port 80/tcp on 10.10.232.160\n",
      "Discovered open port 21/tcp on 10.10.232.160\n",
      "Completed SYN Stealth Scan at 08:01, 0.39s elapsed (1000 total ports)\n",
      "Initiating Service scan at 08:01\n",
      "Scanning 3 services on ip-10-10-232-160.eu-west-1.compute.internal (10.10.232.160)\n",
      "Completed Service scan at 08:01, 6.24s elapsed (3 services on 1 host)\n",
      "Initiating OS detection (try #1) against ip-10-10-232-160.eu-west-1.compute.internal (10.10.232.160)\n",
      "Retrying OS detection (try #2) against ip-10-10-232-160.eu-west-1.compute.internal (10.10.232.160)\n",
      "NSE: Script scanning 10.10.232.160.\n",
      "NSE: Starting runlevel 1 (of 3) scan.\n",
      "Initiating NSE at 08:01\n",
      "NSE Timing: About 98.67% done; ETC: 08:01 (0:00:00 remaining)\n",
      "NSE Timing: About 99.62% done; ETC: 08:02 (0:00:00 remaining)\n",
      "NSE Timing: About 99.62% done; ETC: 08:02 (0:00:00 remaining)\n",
      "NSE Timing: About 99.62% done; ETC: 08:03 (0:00:00 remaining)\n",
      "Completed NSE at 08:03, 148.73s elapsed\n",
      "NSE: Starting runlevel 2 (of 3) scan.\n",
      "Initiating NSE at 08:03\n",
      "Completed NSE at 08:03, 0.21s elapsed\n",
      "NSE: Starting runlevel 3 (of 3) scan.\n",
      "Initiating NSE at 08:03\n",
      "Completed NSE at 08:03, 0.02s elapsed\n",
      "Nmap scan report for ip-10-10-232-160.eu-west-1.compute.internal (10.10.232.160)\n",
      "Host is up, received arp-response (0.0042s latency).\n",
      "Scanned at 2021-10-12 08:01:13 UTC for 162s\n",
      "Not shown: 997 closed ports\n",
      "Reason: 997 resets\n",
      "PORT   STATE SERVICE REASON         VERSION\n",
      "21/tcp open  ftp     syn-ack ttl 64 vsftpd 3.0.3\n",
      "|_banner: 220 (vsFTPd 3.0.3)\n",
      "22/tcp open  ssh     syn-ack ttl 64 OpenSSH 7.6p1 Ubuntu 4ubuntu0.3 (Ubuntu Linux; protocol 2.0)\n",
      "|_banner: SSH-2.0-OpenSSH_7.6p1 Ubuntu-4ubuntu0.3\n",
      "| ssh-hostkey: \n",
      "|   2048 1a:50:ed:98:a7:87:1d:7f:3a:33:1c:20:cf:46:8c:2c (RSA)\n",
      "| ssh-rsa AAAAB3NzaC1yc2EAAAADAQABAAABAQD+bckNCZMIFQkp7K2bTP9IaEjkTO1/pSqTxV9mRFoAdZx/vwjU0hvBpQy861VmAsR91lQDCeegXJC7jgl1sApIQ/W/dweFnJWB6Wo7Jv961VNNuiR3Ptd1Am7FpMFapigUaT/XPMwS9CoIpyQdSee47ar67kr5W4vHOnGzVUUTU8hRuEBDZsslQNKg0T0C86W8O2UUtGqv02XQO83PSPt+At4agB/jL2oFRM59I4mLo3uSHbjqOIOye7Bwam3NrCE9iCLw1Bvu2Cx8bj85En0fcdnvnat0MyFHursXnTFNUf47bpQwILrk8crFG10FyFcl8nEsnPh5q0CcOjRcHZ5J\n",
      "|   256 23:c5:9c:e8:50:68:5d:1d:cb:c9:65:66:b3:d6:92:10 (ECDSA)\n",
      "| ecdsa-sha2-nistp256 AAAAE2VjZHNhLXNoYTItbmlzdHAyNTYAAAAIbmlzdHAyNTYAAABBBC9bjLrQ7Z7TVIPLEQKEnzsccN8yXLVUg/vD7+X+HMzqDVGffpo3lLR9Cpl1PQOSZzfLt1cb+HidGzWtEd6w3nA=\n",
      "|   256 d7:1d:e1:0d:b1:d0:4d:69:0c:8f:c3:93:a1:c3:90:ea (ED25519)\n",
      "|_ssh-ed25519 AAAAC3NzaC1lZDI1NTE5AAAAIHAc789ZxTJzpRKmSjT2f39olcMyN/mGVLIREr98APAJ\n",
      "| ssh2-enum-algos: \n",
      "|   kex_algorithms: (10)\n",
      "|       curve25519-sha256\n",
      "|       curve25519-sha256@libssh.org\n",
      "|       ecdh-sha2-nistp256\n",
      "|       ecdh-sha2-nistp384\n",
      "|       ecdh-sha2-nistp521\n",
      "|       diffie-hellman-group-exchange-sha256\n",
      "|       diffie-hellman-group16-sha512\n",
      "|       diffie-hellman-group18-sha512\n",
      "|       diffie-hellman-group14-sha256\n",
      "|       diffie-hellman-group14-sha1\n",
      "|   server_host_key_algorithms: (5)\n",
      "|       ssh-rsa\n",
      "|       rsa-sha2-512\n",
      "|       rsa-sha2-256\n",
      "|       ecdsa-sha2-nistp256\n",
      "|       ssh-ed25519\n",
      "|   encryption_algorithms: (6)\n",
      "|       chacha20-poly1305@openssh.com\n",
      "|       aes128-ctr\n",
      "|       aes192-ctr\n",
      "|       aes256-ctr\n",
      "|       aes128-gcm@openssh.com\n",
      "|       aes256-gcm@openssh.com\n",
      "|   mac_algorithms: (10)\n",
      "|       umac-64-etm@openssh.com\n",
      "|       umac-128-etm@openssh.com\n",
      "|       hmac-sha2-256-etm@openssh.com\n",
      "|       hmac-sha2-512-etm@openssh.com\n",
      "|       hmac-sha1-etm@openssh.com\n",
      "|       umac-64@openssh.com\n",
      "|       umac-128@openssh.com\n",
      "|       hmac-sha2-256\n",
      "|       hmac-sha2-512\n",
      "|       hmac-sha1\n",
      "|   compression_algorithms: (2)\n",
      "|       none\n",
      "|_      zlib@openssh.com\n",
      "| vulners: \n",
      "|   cpe:/a:openbsd:openssh:7.6p1: \n",
      "|     \tMSF:ILITIES/UBUNTU-CVE-2019-6111/\t5.8\thttps://vulners.com/metasploit/MSF:ILITIES/UBUNTU-CVE-2019-6111/\t*EXPLOIT*\n",
      "|     \tMSF:ILITIES/SUSE-CVE-2019-6111/\t5.8\thttps://vulners.com/metasploit/MSF:ILITIES/SUSE-CVE-2019-6111/\t*EXPLOIT*\n",
      "|     \tMSF:ILITIES/SUSE-CVE-2019-25017/\t5.8\thttps://vulners.com/metasploit/MSF:ILITIES/SUSE-CVE-2019-25017/\t*EXPLOIT*\n",
      "|     \tMSF:ILITIES/REDHAT_LINUX-CVE-2019-6111/\t5.8\thttps://vulners.com/metasploit/MSF:ILITIES/REDHAT_LINUX-CVE-2019-6111/\t*EXPLOIT*\n",
      "|     \tMSF:ILITIES/REDHAT-OPENSHIFT-CVE-2019-6111/\t5.8\thttps://vulners.com/metasploit/MSF:ILITIES/REDHAT-OPENSHIFT-CVE-2019-6111/\t*EXPLOIT*\n",
      "|     \tMSF:ILITIES/ORACLE-SOLARIS-CVE-2019-6111/\t5.8\thttps://vulners.com/metasploit/MSF:ILITIES/ORACLE-SOLARIS-CVE-2019-6111/\t*EXPLOIT*\n",
      "|     \tMSF:ILITIES/OPENBSD-OPENSSH-CVE-2019-6111/\t5.8\thttps://vulners.com/metasploit/MSF:ILITIES/OPENBSD-OPENSSH-CVE-2019-6111/\t*EXPLOIT*\n",
      "|     \tMSF:ILITIES/IBM-AIX-CVE-2019-6111/\t5.8\thttps://vulners.com/metasploit/MSF:ILITIES/IBM-AIX-CVE-2019-6111/\t*EXPLOIT*\n",
      "|     \tMSF:ILITIES/HUAWEI-EULEROS-2_0_SP8-CVE-2019-6111/\t5.8\thttps://vulners.com/metasploit/MSF:ILITIES/HUAWEI-EULEROS-2_0_SP8-CVE-2019-6111/\t*EXPLOIT*\n",
      "|     \tMSF:ILITIES/HUAWEI-EULEROS-2_0_SP5-CVE-2019-6111/\t5.8\thttps://vulners.com/metasploit/MSF:ILITIES/HUAWEI-EULEROS-2_0_SP5-CVE-2019-6111/\t*EXPLOIT*\n",
      "|     \tMSF:ILITIES/HUAWEI-EULEROS-2_0_SP3-CVE-2019-6111/\t5.8\thttps://vulners.com/metasploit/MSF:ILITIES/HUAWEI-EULEROS-2_0_SP3-CVE-2019-6111/\t*EXPLOIT*\n",
      "|     \tMSF:ILITIES/HUAWEI-EULEROS-2_0_SP2-CVE-2019-6111/\t5.8\thttps://vulners.com/metasploit/MSF:ILITIES/HUAWEI-EULEROS-2_0_SP2-CVE-2019-6111/\t*EXPLOIT*\n",
      "|     \tMSF:ILITIES/GENTOO-LINUX-CVE-2019-6111/\t5.8\thttps://vulners.com/metasploit/MSF:ILITIES/GENTOO-LINUX-CVE-2019-6111/\t*EXPLOIT*\n",
      "|     \tMSF:ILITIES/F5-BIG-IP-CVE-2019-6111/\t5.8\thttps://vulners.com/metasploit/MSF:ILITIES/F5-BIG-IP-CVE-2019-6111/\t*EXPLOIT*\n",
      "|     \tMSF:ILITIES/DEBIAN-CVE-2019-6111/\t5.8\thttps://vulners.com/metasploit/MSF:ILITIES/DEBIAN-CVE-2019-6111/\t*EXPLOIT*\n",
      "|     \tMSF:ILITIES/CENTOS_LINUX-CVE-2019-6111/\t5.8\thttps://vulners.com/metasploit/MSF:ILITIES/CENTOS_LINUX-CVE-2019-6111/\t*EXPLOIT*\n",
      "|     \tMSF:ILITIES/AMAZON_LINUX-CVE-2019-6111/\t5.8\thttps://vulners.com/metasploit/MSF:ILITIES/AMAZON_LINUX-CVE-2019-6111/\t*EXPLOIT*\n",
      "|     \tMSF:ILITIES/AMAZON-LINUX-AMI-2-CVE-2019-6111/\t5.8\thttps://vulners.com/metasploit/MSF:ILITIES/AMAZON-LINUX-AMI-2-CVE-2019-6111/\t*EXPLOIT*\n",
      "|     \tMSF:ILITIES/ALPINE-LINUX-CVE-2019-6111/\t5.8\thttps://vulners.com/metasploit/MSF:ILITIES/ALPINE-LINUX-CVE-2019-6111/\t*EXPLOIT*\n",
      "|     \tEXPLOITPACK:98FE96309F9524B8C84C508837551A19\t5.8\thttps://vulners.com/exploitpack/EXPLOITPACK:98FE96309F9524B8C84C508837551A19\t*EXPLOIT*\n",
      "|     \tEXPLOITPACK:5330EA02EBDE345BFC9D6DDDD97F9E97\t5.8\thttps://vulners.com/exploitpack/EXPLOITPACK:5330EA02EBDE345BFC9D6DDDD97F9E97\t*EXPLOIT*\n",
      "|     \tEDB-ID:46516\t5.8\thttps://vulners.com/exploitdb/EDB-ID:46516\t*EXPLOIT*\n",
      "|     \tCVE-2019-6111\t5.8\thttps://vulners.com/cve/CVE-2019-6111\n",
      "|     \t1337DAY-ID-32328\t5.8\thttps://vulners.com/zdt/1337DAY-ID-32328\t*EXPLOIT*\n",
      "|     \t1337DAY-ID-32009\t5.8\thttps://vulners.com/zdt/1337DAY-ID-32009\t*EXPLOIT*\n",
      "|     \tSSH_ENUM\t5.0\thttps://vulners.com/canvas/SSH_ENUM\t*EXPLOIT*\n",
      "|     \tPACKETSTORM:150621\t5.0\thttps://vulners.com/packetstorm/PACKETSTORM:150621\t*EXPLOIT*\n",
      "|     \tMSF:AUXILIARY/SCANNER/SSH/SSH_ENUMUSERS\t5.0\thttps://vulners.com/metasploit/MSF:AUXILIARY/SCANNER/SSH/SSH_ENUMUSERS\t*EXPLOIT*\n",
      "|     \tEXPLOITPACK:F957D7E8A0CC1E23C3C649B764E13FB0\t5.0\thttps://vulners.com/exploitpack/EXPLOITPACK:F957D7E8A0CC1E23C3C649B764E13FB0\t*EXPLOIT*\n",
      "|     \tEXPLOITPACK:EBDBC5685E3276D648B4D14B75563283\t5.0\thttps://vulners.com/exploitpack/EXPLOITPACK:EBDBC5685E3276D648B4D14B75563283\t*EXPLOIT*\n",
      "|     \tEDB-ID:45939\t5.0\thttps://vulners.com/exploitdb/EDB-ID:45939\t*EXPLOIT*\n",
      "|     \tCVE-2018-15919\t5.0\thttps://vulners.com/cve/CVE-2018-15919\n",
      "|     \tCVE-2018-15473\t5.0\thttps://vulners.com/cve/CVE-2018-15473\n",
      "|     \t1337DAY-ID-31730\t5.0\thttps://vulners.com/zdt/1337DAY-ID-31730\t*EXPLOIT*\n",
      "|     \tEDB-ID:45233\t4.6\thttps://vulners.com/exploitdb/EDB-ID:45233\t*EXPLOIT*\n",
      "|     \tCVE-2021-41617\t4.4\thttps://vulners.com/cve/CVE-2021-41617\n",
      "|     \tMSF:ILITIES/OPENBSD-OPENSSH-CVE-2020-14145/\t4.3\thttps://vulners.com/metasploit/MSF:ILITIES/OPENBSD-OPENSSH-CVE-2020-14145/\t*EXPLOIT*\n",
      "|     \tMSF:ILITIES/HUAWEI-EULEROS-2_0_SP9-CVE-2020-14145/\t4.3\thttps://vulners.com/metasploit/MSF:ILITIES/HUAWEI-EULEROS-2_0_SP9-CVE-2020-14145/\t*EXPLOIT*\n",
      "|     \tMSF:ILITIES/HUAWEI-EULEROS-2_0_SP8-CVE-2020-14145/\t4.3\thttps://vulners.com/metasploit/MSF:ILITIES/HUAWEI-EULEROS-2_0_SP8-CVE-2020-14145/\t*EXPLOIT*\n",
      "|     \tMSF:ILITIES/HUAWEI-EULEROS-2_0_SP5-CVE-2020-14145/\t4.3\thttps://vulners.com/metasploit/MSF:ILITIES/HUAWEI-EULEROS-2_0_SP5-CVE-2020-14145/\t*EXPLOIT*\n",
      "|     \tMSF:ILITIES/F5-BIG-IP-CVE-2020-14145/\t4.3\thttps://vulners.com/metasploit/MSF:ILITIES/F5-BIG-IP-CVE-2020-14145/\t*EXPLOIT*\n",
      "|     \tCVE-2020-14145\t4.3\thttps://vulners.com/cve/CVE-2020-14145\n",
      "|     \tCVE-2019-6110\t4.0\thttps://vulners.com/cve/CVE-2019-6110\n",
      "|     \tCVE-2019-6109\t4.0\thttps://vulners.com/cve/CVE-2019-6109\n",
      "|     \tCVE-2018-20685\t2.6\thttps://vulners.com/cve/CVE-2018-20685\n",
      "|     \tPACKETSTORM:151227\t0.0\thttps://vulners.com/packetstorm/PACKETSTORM:151227\t*EXPLOIT*\n",
      "|     \tEDB-ID:46193\t0.0\thttps://vulners.com/exploitdb/EDB-ID:46193\t*EXPLOIT*\n",
      "|_    \t1337DAY-ID-30937\t0.0\thttps://vulners.com/zdt/1337DAY-ID-30937\t*EXPLOIT*\n",
      "80/tcp open  http    syn-ack ttl 64 Node.js Express framework\n",
      "|_http-aspnet-debug: ERROR: Script execution failed (use -d to debug)\n",
      "|_http-chrono: Request times for /; avg: 1410.71ms; min: 1001.23ms; max: 2636.58ms\n",
      "| http-comments-displayer: \n",
      "| Spidering limited to: maxdepth=3; maxpagecount=20; withinhost=ip-10-10-232-160.eu-west-1.compute.internal\n",
      "|     \n",
      "|     Path: http://ip-10-10-232-160.eu-west-1.compute.internal:80/\n",
      "|     Line number: 93\n",
      "|     Comment: \n",
      "|         <!-- <div class=\"container jumbotron text-center\"></div> -->\n",
      "|     \n",
      "|     Path: http://ip-10-10-232-160.eu-west-1.compute.internal:80/css/avengers.css\n",
      "|     Line number: 11\n",
      "|     Comment: \n",
      "|         /* -webkit-animation: shake 7s infinite;\n",
      "|                   animation: shake 7s infinite; */\n",
      "|     \n",
      "|     Path: http://ip-10-10-232-160.eu-west-1.compute.internal:80/css/bootstrap.min.css\n",
      "|     Line number: 7\n",
      "|     Comment: \n",
      "|         /*# sourceMappingURL=bootstrap.min.css.map */\n",
      "|     \n",
      "|     Path: http://ip-10-10-232-160.eu-west-1.compute.internal:80/css/avengers.css\n",
      "|     Line number: 962\n",
      "|     Comment: \n",
      "|         /*Hand Animation*/\n",
      "|     \n",
      "|     Path: http://ip-10-10-232-160.eu-west-1.compute.internal:80/js/bootstrap.min.js\n",
      "|     Line number: 7\n",
      "|     Comment: \n",
      "|         \n",
      "|         //# sourceMappingURL=bootstrap.min.js.map\n",
      "|     \n",
      "|     Path: http://ip-10-10-232-160.eu-west-1.compute.internal:80/js/jquery.slim.min.js\n",
      "|     Line number: 1\n",
      "|     Comment: \n",
      "|         /*! jQuery v3.3.1 | (c) JS Foundation and other contributors | jquery.org/license */\n",
      "|     \n",
      "|     Path: http://ip-10-10-232-160.eu-west-1.compute.internal:80/js/bootstrap.min.js\n",
      "|     Line number: 1\n",
      "|     Comment: \n",
      "|         /*!\n",
      "|           * Bootstrap v4.3.1 (https://getbootstrap.com/)\n",
      "|           * Copyright 2011-2019 The Bootstrap Authors (https://github.com/twbs/bootstrap/graphs/contributors)\n",
      "|           * Licensed under MIT (https://github.com/twbs/bootstrap/blob/master/LICENSE)\n",
      "|           */\n",
      "|     \n",
      "|     Path: http://ip-10-10-232-160.eu-west-1.compute.internal:80/css/bootstrap.min.css\n",
      "|     Line number: 1\n",
      "|     Comment: \n",
      "|         /*!\n",
      "|          * Bootstrap v4.3.1 (https://getbootstrap.com/)\n",
      "|          * Copyright 2011-2019 The Bootstrap Authors\n",
      "|          * Copyright 2011-2019 Twitter, Inc.\n",
      "|          * Licensed under MIT (https://github.com/twbs/bootstrap/blob/master/LICENSE)\n",
      "|          */\n",
      "|     \n",
      "|     Path: http://ip-10-10-232-160.eu-west-1.compute.internal:80/css/avengers.css\n",
      "|     Line number: 904\n",
      "|     Comment: \n",
      "|         /* fallback */\n",
      "|     \n",
      "|     Path: http://ip-10-10-232-160.eu-west-1.compute.internal:80/\n",
      "|     Line number: 189\n",
      "|     Comment: \n",
      "|         <!-- Hint -->\n",
      "|     \n",
      "|     Path: http://ip-10-10-232-160.eu-west-1.compute.internal:80/js/popper.min.js\n",
      "|     Line number: 5\n",
      "|     Comment: \n",
      "|         \n",
      "|         //# sourceMappingURL=popper.min.js.map\n",
      "|     \n",
      "|     Path: http://ip-10-10-232-160.eu-west-1.compute.internal:80/js/popper.min.js\n",
      "|     Line number: 1\n",
      "|     Comment: \n",
      "|         /*\n",
      "|          Copyright (C) Federico Zivolo 2017\n",
      "|          Distributed under the MIT License (license terms are at http://opensource.org/licenses/MIT).\n",
      "|_         */\n",
      "|_http-date: Tue, 12 Oct 2021 08:01:34 GMT; -2s from local time.\n",
      "|_http-devframework: Express detected. Found Express in X-Powered-By Header\n",
      "|_http-drupal-enum: Nothing found amongst the top 100 resources,use --script-args number=<number|all> for deeper analysis)\n",
      "|_http-errors: Couldn't find any error pages.\n",
      "|_http-favicon: Unknown favicon MD5: E084507EB6547A72F9CEC12E0A9B7A36\n",
      "|_http-feed: Couldn't find any feeds.\n",
      "|_http-fetch: Please enter the complete path of the directory to save data in.\n",
      "| http-headers: \n",
      "|   X-Powered-By: Express\n",
      "|   flag2: headers_are_important\n",
      "|   Content-Type: text/html; charset=utf-8\n",
      "|   Content-Length: 7292\n",
      "|   ETag: W/\"1c7c-b4Vh59Xa/FV0DZE2ey13jTNNa4A\"\n",
      "|   Set-Cookie: connect.sid=s%3AsMpDwYpeMivr5CDmtv7taMq32-WvB-oA.pqc9AzFa%2Bqnrb%2Bsm3yLFI8Nc2IQsKBPeswWzDHHO0P4; Path=/; HttpOnly\n",
      "|   Date: Tue, 12 Oct 2021 08:01:31 GMT\n",
      "|   Connection: close\n",
      "|   \n",
      "|_  (Request type: HEAD)\n",
      "|_http-jsonp-detection: Couldn't find any JSONP endpoints.\n",
      "|_http-malware-host: Host appears to be clean\n",
      "| http-methods: \n",
      "|_  Supported Methods: GET HEAD POST OPTIONS\n",
      "|_http-mobileversion-checker: No mobile version detected.\n",
      "| http-php-version: Logo query returned unknown hash c9e227a2c0574d29026d5baa9df508af\n",
      "|_Credits query returned unknown hash c9e227a2c0574d29026d5baa9df508af\n",
      "|_http-referer-checker: Couldn't find any cross-domain scripts.\n",
      "|_http-security-headers: \n",
      "| http-sitemap-generator: \n",
      "|   Directory structure:\n",
      "|     /\n",
      "|       Other: 1\n",
      "|     /css/\n",
      "|       css: 2\n",
      "|     /img/\n",
      "|       jpg: 6; png: 1\n",
      "|     /js/\n",
      "|       js: 4\n",
      "|   Longest directory structure:\n",
      "|     Depth: 1\n",
      "|     Dir: /img/\n",
      "|   Total files found (by extension):\n",
      "|_    Other: 1; css: 2; jpg: 6; js: 4; png: 1\n",
      "| http-slowloris-check: \n",
      "|   VULNERABLE:\n",
      "|   Slowloris DOS attack\n",
      "|     State: LIKELY VULNERABLE\n",
      "|     IDs:  CVE:CVE-2007-6750\n",
      "|       Slowloris tries to keep many connections to the target web server open and hold\n",
      "|       them open as long as possible.  It accomplishes this by opening connections to\n",
      "|       the target web server and sending a partial request. By doing so, it starves\n",
      "|       the http server's resources causing Denial Of Service.\n",
      "|       \n",
      "|     Disclosure date: 2009-09-17\n",
      "|     References:\n",
      "|       http://ha.ckers.org/slowloris/\n",
      "|_      https://cve.mitre.org/cgi-bin/cvename.cgi?name=CVE-2007-6750\n",
      "|_http-title: Avengers! Assemble!\n",
      "| http-useragent-tester: \n",
      "|   Status for browser useragent: 200\n",
      "|   Allowed User Agents: \n",
      "|     Mozilla/5.0 (compatible; Nmap Scripting Engine; https://nmap.org/book/nse.html)\n",
      "|     libwww\n",
      "|     lwp-trivial\n",
      "|     libcurl-agent/1.0\n",
      "|     PHP/\n",
      "|     Python-urllib/2.5\n",
      "|     GT::WWW\n",
      "|     Snoopy\n",
      "|     MFC_Tear_Sample\n",
      "|     HTTP::Lite\n",
      "|     PHPCrawl\n",
      "|     URI::Fetch\n",
      "|     Zend_Http_Client\n",
      "|     http client\n",
      "|     PECL::HTTP\n",
      "|     Wget/1.13.4 (linux-gnu)\n",
      "|_    WWW-Mechanize/1.34\n",
      "| http-vhosts: \n",
      "|_127 names had status 200\n",
      "|_http-wordpress-enum: Nothing found amongst the top 100 resources,use --script-args search-limit=<number|all> for deeper analysis)\n",
      "|_http-xssed: No previously reported XSS vuln.\n",
      "MAC Address: 02:27:D1:2F:24:EB (Unknown)\n",
      "OS fingerprint not ideal because: Timing level 5 (Insane) used\n",
      "Aggressive OS guesses: Linux 3.10 - 3.13 (97%), Linux 3.1 (95%), Linux 3.2 (95%), AXIS 210A or 211 Network Camera (Linux 2.6.17) (94%), Linux 3.8 (94%), ASUS RT-N56U WAP (Linux 3.4) (93%), Linux 3.16 (93%), Linux 2.6.32 (92%), Linux 2.6.39 - 3.2 (92%), Linux 3.1 - 3.2 (92%)\n",
      "No exact OS matches for host (test conditions non-ideal).\n",
      "TCP/IP fingerprint:\n",
      "SCAN(V=7.80%E=4%D=10/12%OT=21%CT=1%CU=36842%PV=Y%DS=1%DC=D%G=N%M=0227D1%TM=6165416B%P=x86_64-pc-linux-gnu)\n",
      "SEQ(SP=108%GCD=1%ISR=10B%TI=Z%CI=Z%II=I%TS=A)\n",
      "OPS(O1=M2301ST11NW7%O2=M2301ST11NW7%O3=M2301NNT11NW7%O4=M2301ST11NW7%O5=M2301ST11NW7%O6=M2301ST11)\n",
      "WIN(W1=68DF%W2=68DF%W3=68DF%W4=68DF%W5=68DF%W6=68DF)\n",
      "ECN(R=Y%DF=Y%T=40%W=6903%O=M2301NNSNW7%CC=Y%Q=)\n",
      "T1(R=Y%DF=Y%T=40%S=O%A=S+%F=AS%RD=0%Q=)\n",
      "T2(R=N)\n",
      "T3(R=N)\n",
      "T4(R=Y%DF=Y%T=40%W=0%S=A%A=Z%F=R%O=%RD=0%Q=)\n",
      "T5(R=Y%DF=Y%T=40%W=0%S=Z%A=S+%F=AR%O=%RD=0%Q=)\n",
      "T6(R=Y%DF=Y%T=40%W=0%S=A%A=Z%F=R%O=%RD=0%Q=)\n",
      "T7(R=Y%DF=Y%T=40%W=0%S=Z%A=S+%F=AR%O=%RD=0%Q=)\n",
      "U1(R=Y%DF=N%T=40%IPL=164%UN=0%RIPL=G%RID=G%RIPCK=G%RUCK=G%RUD=G)\n",
      "IE(R=Y%DFI=N%T=40%CD=S)\n",
      "\n",
      "Uptime guess: 49.561 days (since Mon Aug 23 18:35:26 2021)\n",
      "Network Distance: 1 hop\n",
      "TCP Sequence Prediction: Difficulty=263 (Good luck!)\n",
      "IP ID Sequence Generation: All zeros\n",
      "Service Info: OSs: Unix, Linux; CPE: cpe:/o:linux:linux_kernel\n",
      "\n",
      "Host script results:\n",
      "|_clock-skew: -2s\n",
      "| dns-blacklist: \n",
      "|   SPAM\n",
      "|_    l2.apews.org - FAIL\n",
      "| dns-brute: \n",
      "|   DNS Brute-force hostnames: \n",
      "|_    ns0.eu-west-1.compute.internal - 172.16.0.23\n",
      "| fcrdns: \n",
      "|   ip-10-10-232-160.eu-west-1.compute.internal: \n",
      "|     status: pass\n",
      "|     addresses: \n",
      "|_      10.10.232.160\n",
      "| hostmap-crtsh: \n",
      "|_  subdomains: Error: found no hostnames but not the marker for \"name_value\" (pattern error?)\n",
      "|_ipidseq: All zeros\n",
      "|_path-mtu: PMTU == 9001\n",
      "| qscan: \n",
      "| PORT  FAMILY  MEAN (us)  STDDEV   LOSS (%)\n",
      "| 1     0       3184.90    4323.98  0.0%\n",
      "| 21    0       1837.00    3925.51  0.0%\n",
      "| 22    1       8550.60    8440.76  0.0%\n",
      "|_80    0       1443.80    1687.39  0.0%\n",
      "| traceroute-geolocation: \n",
      "|   HOP  RTT   ADDRESS                                                      GEOLOCATION\n",
      "|_  1    4.18  ip-10-10-232-160.eu-west-1.compute.internal (10.10.232.160)  - ,- \n",
      "\n",
      "TRACEROUTE\n",
      "HOP RTT     ADDRESS\n",
      "1   4.18 ms ip-10-10-232-160.eu-west-1.compute.internal (10.10.232.160)\n",
      "\n",
      "NSE: Script Post-scanning.\n",
      "NSE: Starting runlevel 1 (of 3) scan.\n",
      "Initiating NSE at 08:03\n",
      "Completed NSE at 08:03, 0.02s elapsed\n",
      "NSE: Starting runlevel 2 (of 3) scan.\n",
      "Initiating NSE at 08:03\n",
      "Completed NSE at 08:03, 0.00s elapsed\n",
      "NSE: Starting runlevel 3 (of 3) scan.\n",
      "Initiating NSE at 08:03\n",
      "Completed NSE at 08:03, 0.00s elapsed\n",
      "Post-scan script results:\n",
      "| reverse-index: \n",
      "|   21/tcp: 10.10.232.160\n",
      "|   22/tcp: 10.10.232.160\n",
      "|_  80/tcp: 10.10.232.160\n",
      "Read data files from: /usr/bin/../share/nmap\n",
      "OS and Service detection performed. Please report any incorrect results at https://nmap.org/submit/ .\n",
      "Nmap done: 1 IP address (1 host up) scanned in 206.42 seconds\n",
      "           Raw packets sent: 1092 (58.609KB) | Rcvd: 1030 (42.624KB)\n"
     ]
    }
   ],
   "source": [
    "if PING:\n",
    "    !nmap -A -T5 -vv --script=default,safe,discovery $TARGET\n",
    "else:\n",
    "    !nmap -A -T5 -Pn -vv --script=default,safe,discovery $TARGET"
   ]
  },
  {
   "cell_type": "code",
   "execution_count": null,
   "id": "bc3f5e71-3371-480a-862e-f734bce39e36",
   "metadata": {},
   "outputs": [
    {
     "name": "stdout",
     "output_type": "stream",
     "text": [
      "Starting Nmap 7.80 ( https://nmap.org ) at 2021-10-12 08:03 UTC\n",
      "NSE: Loaded 417 scripts for scanning.\n",
      "NSE: Script Pre-scanning.\n",
      "NSE: Starting runlevel 1 (of 3) scan.\n",
      "Initiating NSE at 08:04\n",
      "NSE: [targets-xml] Need to supply a file name with the targets-xml.iX argument\n",
      "NSE: [broadcast-sonicwall-discover] No network interface was supplied, aborting.\n",
      "NSE: [targets-ipv6-map4to6] This script is IPv6 only.\n",
      "NSE: [url-snarf] no network interface was supplied, aborting ...\n",
      "NSE: [broadcast-ataoe-discover] No interface supplied, use -e\n",
      "NSE: [shodan-api] Error: Please specify your ShodanAPI key with the shodan-api.apikey argument\n",
      "NSE: [mtrace] A source IP must be provided through fromip argument.\n",
      "NSE: [targets-ipv6-wordlist] Need to be executed for IPv6.\n",
      "too short\n",
      "NSE Timing: About 96.55% done; ETC: 08:04 (0:00:01 remaining)\n",
      "Completed NSE at 08:04, 40.01s elapsed\n",
      "NSE: Starting runlevel 2 (of 3) scan.\n",
      "Initiating NSE at 08:04\n",
      "Completed NSE at 08:04, 0.00s elapsed\n",
      "NSE: Starting runlevel 3 (of 3) scan.\n",
      "Initiating NSE at 08:04\n",
      "Completed NSE at 08:04, 0.00s elapsed\n",
      "Pre-scan script results:\n",
      "|_eap-info: please specify an interface with -e\n",
      "| targets-asn: \n",
      "|_  targets-asn.asn is a mandatory parameter\n",
      "Initiating ARP Ping Scan at 08:04\n",
      "Scanning 10.10.232.160 [1 port]\n",
      "Completed ARP Ping Scan at 08:04, 0.10s elapsed (1 total hosts)\n",
      "Initiating Parallel DNS resolution of 1 host. at 08:04\n",
      "Completed Parallel DNS resolution of 1 host. at 08:04, 0.00s elapsed\n",
      "Initiating SYN Stealth Scan at 08:04\n",
      "Scanning ip-10-10-232-160.eu-west-1.compute.internal (10.10.232.160) [1000 ports]\n",
      "Discovered open port 21/tcp on 10.10.232.160\n",
      "Discovered open port 80/tcp on 10.10.232.160\n",
      "Discovered open port 22/tcp on 10.10.232.160\n",
      "Completed SYN Stealth Scan at 08:04, 0.44s elapsed (1000 total ports)\n",
      "Initiating Service scan at 08:04\n",
      "Scanning 3 services on ip-10-10-232-160.eu-west-1.compute.internal (10.10.232.160)\n",
      "Completed Service scan at 08:04, 6.09s elapsed (3 services on 1 host)\n",
      "Initiating OS detection (try #1) against ip-10-10-232-160.eu-west-1.compute.internal (10.10.232.160)\n",
      "Retrying OS detection (try #2) against ip-10-10-232-160.eu-west-1.compute.internal (10.10.232.160)\n",
      "Retrying OS detection (try #3) against ip-10-10-232-160.eu-west-1.compute.internal (10.10.232.160)\n",
      "Retrying OS detection (try #4) against ip-10-10-232-160.eu-west-1.compute.internal (10.10.232.160)\n",
      "Retrying OS detection (try #5) against ip-10-10-232-160.eu-west-1.compute.internal (10.10.232.160)\n",
      "NSE: Script scanning 10.10.232.160.\n",
      "NSE: Starting runlevel 1 (of 3) scan.\n",
      "Initiating NSE at 08:05\n",
      "NSE Timing: About 99.62% done; ETC: 08:05 (0:00:00 remaining)\n",
      "NSE Timing: About 99.62% done; ETC: 08:06 (0:00:00 remaining)\n"
     ]
    }
   ],
   "source": [
    "if PING:\n",
    "    !nmap -A -T3 -vv --script=default,safe,discovery $TARGET\n",
    "else:\n",
    "    !nmap -A -T3 -Pn -vv --script=default,safe,discovery $TARGET"
   ]
  },
  {
   "cell_type": "code",
   "execution_count": null,
   "id": "51258c10-e060-403b-bbb5-853787cd6646",
   "metadata": {
    "tags": []
   },
   "outputs": [],
   "source": [
    "from getpass import getpass\n",
    "import os\n",
    "\n",
    "if PING:\n",
    "    !echo { getpass() } | sudo -S nmap -A -p- -T5 -vv --script=default,safe,discovery {os.environ['TARGET']}\n",
    "else:\n",
    "    !echo { getpass() } | sudo -S nmap -A -p- -Pn -T5 -vv --script=default,safe,discovery {os.environ['TARGET']}"
   ]
  },
  {
   "cell_type": "code",
   "execution_count": null,
   "id": "d98487c6-24cb-4ad3-a531-a92462446320",
   "metadata": {},
   "outputs": [],
   "source": [
    "# UDP Scan, this takes forever...\n",
    "\n",
    "# from getpass import getpass\n",
    "\n",
    "# !echo { getpass() } > tmp.txt\n",
    "# !cat tmp.txt | sudo -S nmap -sU --open -oA scans/udp/udp_scan $TARGET\n",
    "# !cat tmp.txt | sudo -S nmap -sU --open -p- -oA scans/udp/udp_scan $TARGET\n",
    "# !rm -rf tmp.txt"
   ]
  },
  {
   "cell_type": "code",
   "execution_count": null,
   "id": "f0761438-2418-4c06-9e0f-fb1387cbb50b",
   "metadata": {},
   "outputs": [],
   "source": []
  }
 ],
 "metadata": {
  "kernelspec": {
   "display_name": "Python 3 (ipykernel)",
   "language": "python",
   "name": "python3"
  },
  "language_info": {
   "codemirror_mode": {
    "name": "ipython",
    "version": 3
   },
   "file_extension": ".py",
   "mimetype": "text/x-python",
   "name": "python",
   "nbconvert_exporter": "python",
   "pygments_lexer": "ipython3",
   "version": "3.9.5"
  }
 },
 "nbformat": 4,
 "nbformat_minor": 5
}
