{
 "cells": [
  {
   "cell_type": "markdown",
   "id": "de36d110-c319-4d9c-87f7-d534ab7d8e02",
   "metadata": {},
   "source": [
    "# Setup/Test Environment:"
   ]
  },
  {
   "cell_type": "code",
   "execution_count": 1,
   "id": "f6716cd2-9223-40a5-b252-7a98ca055038",
   "metadata": {},
   "outputs": [],
   "source": [
    "from web_footprinting_utils import setup_ipython\n",
    "import os\n",
    "\n",
    "get_ipython, INTERACTIVE = setup_ipython()"
   ]
  },
  {
   "cell_type": "code",
   "execution_count": 2,
   "id": "29319d52-32e4-4641-9a05-43c632df175e",
   "metadata": {},
   "outputs": [
    {
     "data": {
      "text/plain": [
       "'/root/miniconda/bin/python'"
      ]
     },
     "execution_count": 2,
     "metadata": {},
     "output_type": "execute_result"
    }
   ],
   "source": [
    "import sys\n",
    "sys.executable"
   ]
  },
  {
   "cell_type": "code",
   "execution_count": 3,
   "id": "708723bd-df9b-4d54-91a0-713b0c3b03da",
   "metadata": {},
   "outputs": [
    {
     "name": "stdout",
     "output_type": "stream",
     "text": [
      "env: TARGET=10.10.129.98\n"
     ]
    }
   ],
   "source": [
    "%env TARGET=10.10.129.98"
   ]
  },
  {
   "cell_type": "code",
   "execution_count": 4,
   "id": "9cee99d5-c5d0-4ea4-9dd6-c7dd897edbe7",
   "metadata": {},
   "outputs": [
    {
     "name": "stdout",
     "output_type": "stream",
     "text": [
      "Make sure we are connected to VPN:\n",
      "Not connected!\n"
     ]
    }
   ],
   "source": [
    "!echo Make sure we are connected to VPN:\n",
    "result = !ip a | grep tun0\n",
    "\n",
    "if not len(result)>0:\n",
    "    print(\"Not connected!\")\n",
    "#     input()\n",
    "else:\n",
    "    print(\"Connected!\")\n",
    "    print(result)"
   ]
  },
  {
   "cell_type": "markdown",
   "id": "3ffd0caa-c820-41c6-88c2-dc30830ae6f0",
   "metadata": {},
   "source": [
    "# Initial (Unreliable) RustScan:"
   ]
  },
  {
   "cell_type": "code",
   "execution_count": 5,
   "id": "98747dd7-c941-49e4-8a28-6a5d81411a08",
   "metadata": {},
   "outputs": [],
   "source": [
    "import os\n",
    "pwd = os.getcwd()\n",
    "rustscan = \"docker run -v '%s':/workspace  --volume /etc/passwd:/etc/passwd:ro --volume /etc/group:/etc/group:ro --user $(id -u) --rm my-other-github-account/rustscan\" % pwd"
   ]
  },
  {
   "cell_type": "code",
   "execution_count": null,
   "id": "d4ea8a20-0c2b-4875-b738-5b2591551651",
   "metadata": {},
   "outputs": [
    {
     "name": "stdout",
     "output_type": "stream",
     "text": [
      "\u001b[1m\u001b[38;2;0;255;0m.\u001b[38;2;0;255;6m-\u001b[38;2;0;255;13m-\u001b[38;2;0;255;19m-\u001b[38;2;0;255;25m-\u001b[38;2;0;255;32m.\u001b[38;2;0;255;38m \u001b[38;2;0;255;45m.\u001b[38;2;0;255;51m-\u001b[38;2;0;255;57m.\u001b[38;2;0;255;64m \u001b[38;2;0;255;70m.\u001b[38;2;0;255;76m-\u001b[38;2;0;255;83m.\u001b[38;2;0;255;89m \u001b[38;2;0;255;96m.\u001b[38;2;0;255;102m-\u001b[38;2;0;255;108m-\u001b[38;2;0;255;115m-\u001b[38;2;0;255;121m-\u001b[38;2;0;255;127m.\u001b[38;2;0;255;134m.\u001b[38;2;0;255;140m-\u001b[38;2;0;255;147m-\u001b[38;2;0;255;153m-\u001b[38;2;0;255;159m.\u001b[38;2;0;255;166m \u001b[38;2;0;255;172m \u001b[38;2;0;255;178m.\u001b[38;2;0;255;185m-\u001b[38;2;0;255;191m-\u001b[38;2;0;255;198m-\u001b[38;2;0;255;204m-\u001b[38;2;0;255;210m.\u001b[38;2;0;255;217m \u001b[38;2;0;255;223m.\u001b[38;2;0;255;229m-\u001b[38;2;0;255;236m-\u001b[38;2;0;255;242m-\u001b[38;2;0;255;249m.\u001b[38;2;0;255;255m \u001b[38;2;0;249;255m \u001b[38;2;0;242;255m \u001b[38;2;0;236;255m.\u001b[38;2;0;230;255m-\u001b[38;2;0;223;255m-\u001b[38;2;0;217;255m.\u001b[38;2;0;210;255m \u001b[38;2;0;204;255m \u001b[38;2;0;198;255m.\u001b[38;2;0;191;255m-\u001b[38;2;0;185;255m.\u001b[38;2;0;179;255m \u001b[38;2;0;172;255m.\u001b[38;2;0;166;255m-\u001b[38;2;0;159;255m.\u001b[0m\n",
      "\u001b[38;2;0;255;0m|\u001b[38;2;0;255;6m \u001b[38;2;0;255;13m{\u001b[38;2;0;255;19m}\u001b[38;2;0;255;25m \u001b[38;2;0;255;32m \u001b[38;2;0;255;38m}\u001b[38;2;0;255;45m|\u001b[38;2;0;255;51m \u001b[38;2;0;255;57m{\u001b[38;2;0;255;64m \u001b[38;2;0;255;70m}\u001b[38;2;0;255;76m \u001b[38;2;0;255;83m|\u001b[38;2;0;255;89m{\u001b[38;2;0;255;96m \u001b[38;2;0;255;102m{\u001b[38;2;0;255;108m_\u001b[38;2;0;255;115m_\u001b[38;2;0;255;121m \u001b[38;2;0;255;127m{\u001b[38;2;0;255;134m_\u001b[38;2;0;255;140m \u001b[38;2;0;255;147m \u001b[38;2;0;255;153m \u001b[38;2;0;255;159m_\u001b[38;2;0;255;166m}\u001b[38;2;0;255;172m{\u001b[38;2;0;255;178m \u001b[38;2;0;255;185m{\u001b[38;2;0;255;191m_\u001b[38;2;0;255;198m_\u001b[38;2;0;255;204m \u001b[38;2;0;255;210m \u001b[38;2;0;255;217m/\u001b[38;2;0;255;223m \u001b[38;2;0;255;229m \u001b[38;2;0;255;236m_\u001b[38;2;0;255;242m_\u001b[38;2;0;255;249m_\u001b[38;2;0;255;255m}\u001b[38;2;0;249;255m \u001b[38;2;0;242;255m/\u001b[38;2;0;236;255m \u001b[38;2;0;230;255m{\u001b[38;2;0;223;255m}\u001b[38;2;0;217;255m \u001b[38;2;0;210;255m\\\u001b[38;2;0;204;255m \u001b[38;2;0;198;255m|\u001b[38;2;0;191;255m \u001b[38;2;0;185;255m \u001b[38;2;0;179;255m`\u001b[38;2;0;172;255m|\u001b[38;2;0;166;255m \u001b[38;2;0;159;255m|\u001b[0m\n",
      "\u001b[38;2;0;255;0m|\u001b[38;2;0;255;6m \u001b[38;2;0;255;13m.\u001b[38;2;0;255;19m-\u001b[38;2;0;255;25m.\u001b[38;2;0;255;32m \u001b[38;2;0;255;38m\\\u001b[38;2;0;255;45m|\u001b[38;2;0;255;51m \u001b[38;2;0;255;57m{\u001b[38;2;0;255;64m_\u001b[38;2;0;255;70m}\u001b[38;2;0;255;76m \u001b[38;2;0;255;83m|\u001b[38;2;0;255;89m.\u001b[38;2;0;255;96m-\u001b[38;2;0;255;102m.\u001b[38;2;0;255;108m_\u001b[38;2;0;255;115m}\u001b[38;2;0;255;121m \u001b[38;2;0;255;127m}\u001b[38;2;0;255;134m \u001b[38;2;0;255;140m|\u001b[38;2;0;255;147m \u001b[38;2;0;255;153m|\u001b[38;2;0;255;159m \u001b[38;2;0;255;166m \u001b[38;2;0;255;172m.\u001b[38;2;0;255;178m-\u001b[38;2;0;255;185m.\u001b[38;2;0;255;191m_\u001b[38;2;0;255;198m}\u001b[38;2;0;255;204m \u001b[38;2;0;255;210m}\u001b[38;2;0;255;217m\\\u001b[38;2;0;255;223m \u001b[38;2;0;255;229m \u001b[38;2;0;255;236m \u001b[38;2;0;255;242m \u001b[38;2;0;255;249m \u001b[38;2;0;255;255m}\u001b[38;2;0;249;255m/\u001b[38;2;0;242;255m \u001b[38;2;0;236;255m \u001b[38;2;0;230;255m/\u001b[38;2;0;223;255m\\\u001b[38;2;0;217;255m \u001b[38;2;0;210;255m \u001b[38;2;0;204;255m\\\u001b[38;2;0;198;255m|\u001b[38;2;0;191;255m \u001b[38;2;0;185;255m|\u001b[38;2;0;179;255m\\\u001b[38;2;0;172;255m \u001b[38;2;0;166;255m \u001b[38;2;0;159;255m|\u001b[0m\n",
      "\u001b[38;2;0;255;0m`\u001b[38;2;0;255;6m-\u001b[38;2;0;255;13m'\u001b[38;2;0;255;19m \u001b[38;2;0;255;25m`\u001b[38;2;0;255;32m-\u001b[38;2;0;255;38m'\u001b[38;2;0;255;45m`\u001b[38;2;0;255;51m-\u001b[38;2;0;255;57m-\u001b[38;2;0;255;64m-\u001b[38;2;0;255;70m-\u001b[38;2;0;255;76m-\u001b[38;2;0;255;83m'\u001b[38;2;0;255;89m`\u001b[38;2;0;255;96m-\u001b[38;2;0;255;102m-\u001b[38;2;0;255;108m-\u001b[38;2;0;255;115m-\u001b[38;2;0;255;121m'\u001b[38;2;0;255;127m \u001b[38;2;0;255;134m \u001b[38;2;0;255;140m`\u001b[38;2;0;255;147m-\u001b[38;2;0;255;153m'\u001b[38;2;0;255;159m \u001b[38;2;0;255;166m \u001b[38;2;0;255;172m`\u001b[38;2;0;255;178m-\u001b[38;2;0;255;185m-\u001b[38;2;0;255;191m-\u001b[38;2;0;255;198m-\u001b[38;2;0;255;204m'\u001b[38;2;0;255;210m \u001b[38;2;0;255;217m \u001b[38;2;0;255;223m`\u001b[38;2;0;255;229m-\u001b[38;2;0;255;236m-\u001b[38;2;0;255;242m-\u001b[38;2;0;255;249m'\u001b[38;2;0;255;255m \u001b[38;2;0;249;255m`\u001b[38;2;0;242;255m-\u001b[38;2;0;236;255m'\u001b[38;2;0;230;255m \u001b[38;2;0;223;255m \u001b[38;2;0;217;255m`\u001b[38;2;0;210;255m-\u001b[38;2;0;204;255m'\u001b[38;2;0;198;255m`\u001b[38;2;0;191;255m-\u001b[38;2;0;185;255m'\u001b[38;2;0;179;255m \u001b[38;2;0;172;255m`\u001b[38;2;0;166;255m-\u001b[38;2;0;159;255m'\u001b[0m\n",
      "\u001b[38;2;0;255;0mT\u001b[38;2;0;255;6mh\u001b[38;2;0;255;13me\u001b[38;2;0;255;19m \u001b[38;2;0;255;25mM\u001b[38;2;0;255;32mo\u001b[38;2;0;255;38md\u001b[38;2;0;255;45me\u001b[38;2;0;255;51mr\u001b[38;2;0;255;57mn\u001b[38;2;0;255;64m \u001b[38;2;0;255;70mD\u001b[38;2;0;255;76ma\u001b[38;2;0;255;83my\u001b[38;2;0;255;89m \u001b[38;2;0;255;96mP\u001b[38;2;0;255;102mo\u001b[38;2;0;255;108mr\u001b[38;2;0;255;115mt\u001b[38;2;0;255;121m \u001b[38;2;0;255;127mS\u001b[38;2;0;255;134mc\u001b[38;2;0;255;140ma\u001b[38;2;0;255;147mn\u001b[38;2;0;255;153mn\u001b[38;2;0;255;159me\u001b[38;2;0;255;166mr\u001b[38;2;0;255;172m.\u001b[0m\u001b[0m\n",
      "\u001b[1m\u001b[38;2;255;255;0m_\u001b[38;2;249;255;0m_\u001b[38;2;242;255;0m_\u001b[38;2;236;255;0m_\u001b[38;2;230;255;0m_\u001b[38;2;223;255;0m_\u001b[38;2;217;255;0m_\u001b[38;2;210;255;0m_\u001b[38;2;204;255;0m_\u001b[38;2;198;255;0m_\u001b[38;2;191;255;0m_\u001b[38;2;185;255;0m_\u001b[38;2;179;255;0m_\u001b[38;2;172;255;0m_\u001b[38;2;166;255;0m_\u001b[38;2;159;255;0m_\u001b[38;2;153;255;0m_\u001b[38;2;147;255;0m_\u001b[38;2;140;255;0m_\u001b[38;2;134;255;0m_\u001b[38;2;128;255;0m_\u001b[38;2;121;255;0m_\u001b[38;2;115;255;0m_\u001b[38;2;108;255;0m_\u001b[38;2;102;255;0m_\u001b[38;2;96;255;0m_\u001b[38;2;89;255;0m_\u001b[38;2;83;255;0m_\u001b[38;2;77;255;0m_\u001b[38;2;70;255;0m_\u001b[38;2;64;255;0m_\u001b[38;2;57;255;0m_\u001b[38;2;51;255;0m_\u001b[38;2;45;255;0m_\u001b[38;2;38;255;0m_\u001b[38;2;32;255;0m_\u001b[38;2;26;255;0m_\u001b[38;2;19;255;0m_\u001b[38;2;13;255;0m_\u001b[38;2;6;255;0m_\u001b[0m\n",
      "\u001b[38;2;255;255;0m:\u001b[38;2;249;255;0m \u001b[38;2;242;255;0mh\u001b[38;2;236;255;0mt\u001b[38;2;230;255;0mt\u001b[38;2;223;255;0mp\u001b[38;2;217;255;0ms\u001b[38;2;210;255;0m:\u001b[38;2;204;255;0m/\u001b[38;2;198;255;0m/\u001b[38;2;191;255;0md\u001b[38;2;185;255;0mi\u001b[38;2;179;255;0ms\u001b[38;2;172;255;0mc\u001b[38;2;166;255;0mo\u001b[38;2;159;255;0mr\u001b[38;2;153;255;0md\u001b[38;2;147;255;0m.\u001b[38;2;140;255;0mg\u001b[38;2;134;255;0mg\u001b[38;2;128;255;0m/\u001b[38;2;121;255;0mG\u001b[38;2;115;255;0mF\u001b[38;2;108;255;0mr\u001b[38;2;102;255;0mQ\u001b[38;2;96;255;0ms\u001b[38;2;89;255;0mG\u001b[38;2;83;255;0my\u001b[38;2;77;255;0m \u001b[38;2;70;255;0m \u001b[38;2;64;255;0m \u001b[38;2;57;255;0m \u001b[38;2;51;255;0m \u001b[38;2;45;255;0m \u001b[38;2;38;255;0m \u001b[38;2;32;255;0m \u001b[38;2;26;255;0m \u001b[38;2;19;255;0m \u001b[38;2;13;255;0m \u001b[38;2;6;255;0m:\u001b[0m\n",
      "\u001b[38;2;255;255;0m:\u001b[38;2;249;255;0m \u001b[38;2;242;255;0mh\u001b[38;2;236;255;0mt\u001b[38;2;230;255;0mt\u001b[38;2;223;255;0mp\u001b[38;2;217;255;0ms\u001b[38;2;210;255;0m:\u001b[38;2;204;255;0m/\u001b[38;2;198;255;0m/\u001b[38;2;191;255;0mg\u001b[38;2;185;255;0mi\u001b[38;2;179;255;0mt\u001b[38;2;172;255;0mh\u001b[38;2;166;255;0mu\u001b[38;2;159;255;0mb\u001b[38;2;153;255;0m.\u001b[38;2;147;255;0mc\u001b[38;2;140;255;0mo\u001b[38;2;134;255;0mm\u001b[38;2;128;255;0m/\u001b[38;2;121;255;0mR\u001b[38;2;115;255;0mu\u001b[38;2;108;255;0ms\u001b[38;2;102;255;0mt\u001b[38;2;96;255;0mS\u001b[38;2;89;255;0mc\u001b[38;2;83;255;0ma\u001b[38;2;77;255;0mn\u001b[38;2;70;255;0m/\u001b[38;2;64;255;0mR\u001b[38;2;57;255;0mu\u001b[38;2;51;255;0ms\u001b[38;2;45;255;0mt\u001b[38;2;38;255;0mS\u001b[38;2;32;255;0mc\u001b[38;2;26;255;0ma\u001b[38;2;19;255;0mn\u001b[38;2;13;255;0m \u001b[38;2;6;255;0m:\u001b[0m\n",
      "\u001b[38;2;255;255;0m \u001b[38;2;249;255;0m-\u001b[38;2;242;255;0m-\u001b[38;2;236;255;0m-\u001b[38;2;230;255;0m-\u001b[38;2;223;255;0m-\u001b[38;2;217;255;0m-\u001b[38;2;210;255;0m-\u001b[38;2;204;255;0m-\u001b[38;2;198;255;0m-\u001b[38;2;191;255;0m-\u001b[38;2;185;255;0m-\u001b[38;2;179;255;0m-\u001b[38;2;172;255;0m-\u001b[38;2;166;255;0m-\u001b[38;2;159;255;0m-\u001b[38;2;153;255;0m-\u001b[38;2;147;255;0m-\u001b[38;2;140;255;0m-\u001b[38;2;134;255;0m-\u001b[38;2;128;255;0m-\u001b[38;2;121;255;0m-\u001b[38;2;115;255;0m-\u001b[38;2;108;255;0m-\u001b[38;2;102;255;0m-\u001b[38;2;96;255;0m-\u001b[38;2;89;255;0m-\u001b[38;2;83;255;0m-\u001b[38;2;77;255;0m-\u001b[38;2;70;255;0m-\u001b[38;2;64;255;0m-\u001b[38;2;57;255;0m-\u001b[38;2;51;255;0m-\u001b[38;2;45;255;0m-\u001b[38;2;38;255;0m-\u001b[38;2;32;255;0m-\u001b[38;2;26;255;0m-\u001b[38;2;19;255;0m-\u001b[38;2;13;255;0m-\u001b[0m\u001b[0m\n",
      "Real hackers hack time ⌛\n",
      "\n",
      "\u001b[1;34m[~]\u001b[0m The config file is expected to be at \"/root/.rustscan.toml\"\n",
      "\u001b[1;34m[~]\u001b[0m File limit higher than batch size. Can increase speed by increasing batch size '-b 1048476'.\n"
     ]
    }
   ],
   "source": [
    "!{rustscan} -t 4000 -r 1-65535 -a {os.environ[\"TARGET\"]} -- -Pn -A -sV"
   ]
  },
  {
   "cell_type": "markdown",
   "id": "d464182d-eb92-4ea0-8a58-80b7b466334f",
   "metadata": {},
   "source": [
    "# Initial Nmap:"
   ]
  },
  {
   "cell_type": "code",
   "execution_count": null,
   "id": "f1753b94-01fd-49a1-a896-e392821c021b",
   "metadata": {},
   "outputs": [],
   "source": [
    "!echo $TARGET\n",
    "!mkdir -p scans/quick scans/tcp scans/udp scans/scripts scans/http scans/no_ping"
   ]
  },
  {
   "cell_type": "code",
   "execution_count": null,
   "id": "79245048-a43c-4c50-94c3-4273e1009748",
   "metadata": {},
   "outputs": [],
   "source": [
    "!ping -c 5 $TARGET"
   ]
  },
  {
   "cell_type": "markdown",
   "id": "58fac4d4-d06d-4ba8-aad3-97517c296720",
   "metadata": {},
   "source": [
    "# Quick Scan:"
   ]
  },
  {
   "cell_type": "code",
   "execution_count": null,
   "id": "e2744cff-ebab-4506-9bc8-a8eb8d1eb4b4",
   "metadata": {},
   "outputs": [],
   "source": [
    "!nmap -vv -oA scans/quick/quick_scan $TARGET"
   ]
  },
  {
   "cell_type": "markdown",
   "id": "e915b5ee-4f66-402b-9d64-96ca11fa9f7a",
   "metadata": {},
   "source": [
    "# All Ports:"
   ]
  },
  {
   "cell_type": "code",
   "execution_count": null,
   "id": "5e8c4f02-afa3-49cc-9fdf-bfcac2e4b58b",
   "metadata": {},
   "outputs": [],
   "source": [
    "!nmap -p- -sV -vv -oA  scans/tcp/tcp_scan $TARGET"
   ]
  },
  {
   "cell_type": "code",
   "execution_count": null,
   "id": "d0d57d0d-a030-4a33-af05-6ec2541ad6c5",
   "metadata": {},
   "outputs": [],
   "source": [
    "import xmltodict\n",
    "\n",
    "with open('scans/tcp/tcp_scan.xml','r') as f:\n",
    "    xml_dict = xmltodict.parse(f.read())"
   ]
  },
  {
   "cell_type": "code",
   "execution_count": null,
   "id": "da453ac6-0dc4-425f-aef4-b7a95c6c3505",
   "metadata": {},
   "outputs": [],
   "source": [
    "PING=True\n",
    "try:\n",
    "    port_list = [port['@portid'] for port in xml_dict['nmaprun']['host']['ports']['port']]\n",
    "    %env PORTS={\",\".join(port_list)}\n",
    "except:\n",
    "    print(\"Host is down\")\n",
    "    PING=False"
   ]
  },
  {
   "cell_type": "markdown",
   "id": "6c676c86-fec5-476c-9ca3-a32dcf99e420",
   "metadata": {},
   "source": [
    "# No Ping:"
   ]
  },
  {
   "cell_type": "code",
   "execution_count": null,
   "id": "75c4ce70-909e-44a1-9325-30006ae51e5c",
   "metadata": {},
   "outputs": [],
   "source": [
    "!nmap -sV -Pn -vv -oA scans/no_ping/no_ping_scan $TARGET"
   ]
  },
  {
   "cell_type": "code",
   "execution_count": null,
   "id": "0c0c1709-760c-41d8-9a88-3ce8cec580ed",
   "metadata": {},
   "outputs": [],
   "source": [
    "if not PING:\n",
    "    !nmap -sV -Pn -p- -vv -oA  scans/tcp/tcp_scan $TARGET"
   ]
  },
  {
   "cell_type": "markdown",
   "id": "113b941b-0872-48cc-9e5e-f98bb0f61ad2",
   "metadata": {},
   "source": [
    "# Run Default Scripts:"
   ]
  },
  {
   "cell_type": "code",
   "execution_count": null,
   "id": "7272adf7-59fd-40c7-9f29-13edabfa0b24",
   "metadata": {
    "tags": []
   },
   "outputs": [],
   "source": [
    "if PING:\n",
    "    !nmap -sC -p $PORTS -vv -oA scans/scripts/script_scan $TARGET"
   ]
  },
  {
   "cell_type": "code",
   "execution_count": null,
   "id": "02e9f294-d7e9-44a3-9350-6208c1fe90fc",
   "metadata": {
    "scrolled": true,
    "tags": []
   },
   "outputs": [],
   "source": [
    "if PING:\n",
    "    !nmap -A -T5 -vv --script=default,safe,discovery $TARGET\n",
    "else:\n",
    "    !nmap -A -T5 -Pn -vv --script=default,safe,discovery $TARGET"
   ]
  },
  {
   "cell_type": "code",
   "execution_count": null,
   "id": "bc3f5e71-3371-480a-862e-f734bce39e36",
   "metadata": {},
   "outputs": [],
   "source": [
    "if PING:\n",
    "    !nmap -A -T3 -vv --script=default,safe,discovery $TARGET\n",
    "else:\n",
    "    !nmap -A -T3 -Pn -vv --script=default,safe,discovery $TARGET"
   ]
  },
  {
   "cell_type": "code",
   "execution_count": null,
   "id": "51258c10-e060-403b-bbb5-853787cd6646",
   "metadata": {
    "tags": []
   },
   "outputs": [],
   "source": [
    "from getpass import getpass\n",
    "import os\n",
    "\n",
    "if PING:\n",
    "    !echo { getpass() } | sudo -S nmap -A -p- -T5 -vv --script=default,safe,discovery {os.environ['TARGET']}\n",
    "else:\n",
    "    !echo { getpass() } | sudo -S nmap -A -p- -Pn -T5 -vv --script=default,safe,discovery {os.environ['TARGET']}"
   ]
  },
  {
   "cell_type": "code",
   "execution_count": null,
   "id": "d98487c6-24cb-4ad3-a531-a92462446320",
   "metadata": {},
   "outputs": [],
   "source": [
    "# UDP Scan, this takes forever...\n",
    "\n",
    "# from getpass import getpass\n",
    "\n",
    "# !echo { getpass() } > tmp.txt\n",
    "# !cat tmp.txt | sudo -S nmap -sU --open -oA scans/udp/udp_scan $TARGET\n",
    "# !cat tmp.txt | sudo -S nmap -sU --open -p- -oA scans/udp/udp_scan $TARGET\n",
    "# !rm -rf tmp.txt"
   ]
  },
  {
   "cell_type": "code",
   "execution_count": null,
   "id": "f0761438-2418-4c06-9e0f-fb1387cbb50b",
   "metadata": {},
   "outputs": [],
   "source": []
  }
 ],
 "metadata": {
  "kernelspec": {
   "display_name": "Python 3 (ipykernel)",
   "language": "python",
   "name": "python3"
  },
  "language_info": {
   "codemirror_mode": {
    "name": "ipython",
    "version": 3
   },
   "file_extension": ".py",
   "mimetype": "text/x-python",
   "name": "python",
   "nbconvert_exporter": "python",
   "pygments_lexer": "ipython3",
   "version": "3.9.5"
  }
 },
 "nbformat": 4,
 "nbformat_minor": 5
}
