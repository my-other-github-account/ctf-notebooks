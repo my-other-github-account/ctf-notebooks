{
 "cells": [
  {
   "cell_type": "markdown",
   "id": "de36d110-c319-4d9c-87f7-d534ab7d8e02",
   "metadata": {},
   "source": [
    "# Setup/Test Environment:"
   ]
  },
  {
   "cell_type": "code",
   "execution_count": 1,
   "id": "f6716cd2-9223-40a5-b252-7a98ca055038",
   "metadata": {},
   "outputs": [],
   "source": [
    "from web_footprinting_utils import setup_ipython\n",
    "import os\n",
    "\n",
    "get_ipython, INTERACTIVE = setup_ipython()"
   ]
  },
  {
   "cell_type": "code",
   "execution_count": 2,
   "id": "29319d52-32e4-4641-9a05-43c632df175e",
   "metadata": {},
   "outputs": [
    {
     "data": {
      "text/plain": [
       "'/miniconda/bin/python'"
      ]
     },
     "execution_count": 2,
     "metadata": {},
     "output_type": "execute_result"
    }
   ],
   "source": [
    "import sys\n",
    "sys.executable"
   ]
  },
  {
   "cell_type": "code",
   "execution_count": 3,
   "id": "708723bd-df9b-4d54-91a0-713b0c3b03da",
   "metadata": {},
   "outputs": [
    {
     "name": "stdout",
     "output_type": "stream",
     "text": [
      "env: TARGET=10.10.129.232\n"
     ]
    }
   ],
   "source": [
    "%env TARGET=10.10.129.232"
   ]
  },
  {
   "cell_type": "code",
   "execution_count": 4,
   "id": "9cee99d5-c5d0-4ea4-9dd6-c7dd897edbe7",
   "metadata": {},
   "outputs": [
    {
     "name": "stdout",
     "output_type": "stream",
     "text": [
      "Make sure we are connected to VPN:\n",
      "Not connected!\n"
     ]
    },
    {
     "name": "stdin",
     "output_type": "stream",
     "text": [
      " \n"
     ]
    }
   ],
   "source": [
    "!echo Make sure we are connected to VPN:\n",
    "result = !ip a | grep tun0\n",
    "\n",
    "if not len(result)>0:\n",
    "    print(\"Not connected!\")\n",
    "    input()\n",
    "else:\n",
    "    print(\"Connected!\")\n",
    "    print(result)"
   ]
  },
  {
   "cell_type": "markdown",
   "id": "3ffd0caa-c820-41c6-88c2-dc30830ae6f0",
   "metadata": {},
   "source": [
    "# Initial (Unreliable) RustScan:"
   ]
  },
  {
   "cell_type": "code",
   "execution_count": 5,
   "id": "98747dd7-c941-49e4-8a28-6a5d81411a08",
   "metadata": {},
   "outputs": [],
   "source": [
    "import os\n",
    "pwd = os.getcwd()\n",
    "rustscan = \"docker run -v '%s':/workspace  --volume /etc/passwd:/etc/passwd:ro --volume /etc/group:/etc/group:ro --user $(id -u) --rm my-other-github-account/rustscan\" % pwd"
   ]
  },
  {
   "cell_type": "code",
   "execution_count": 6,
   "id": "d4ea8a20-0c2b-4875-b738-5b2591551651",
   "metadata": {},
   "outputs": [
    {
     "name": "stderr",
     "output_type": "stream",
     "text": [
      "zsh:1: command not found: docker\n"
     ]
    }
   ],
   "source": [
    "!{rustscan} -t 4000 -r 1-65535 -a {os.environ[\"TARGET\"]} -- -Pn -A -sV"
   ]
  },
  {
   "cell_type": "markdown",
   "id": "d464182d-eb92-4ea0-8a58-80b7b466334f",
   "metadata": {},
   "source": [
    "# Initial Nmap:"
   ]
  },
  {
   "cell_type": "code",
   "execution_count": 7,
   "id": "f1753b94-01fd-49a1-a896-e392821c021b",
   "metadata": {},
   "outputs": [
    {
     "name": "stdout",
     "output_type": "stream",
     "text": [
      "10.10.129.232\n"
     ]
    }
   ],
   "source": [
    "!echo $TARGET\n",
    "!mkdir -p scans/quick scans/tcp scans/udp scans/scripts scans/http scans/no_ping"
   ]
  },
  {
   "cell_type": "code",
   "execution_count": 8,
   "id": "79245048-a43c-4c50-94c3-4273e1009748",
   "metadata": {},
   "outputs": [
    {
     "name": "stdout",
     "output_type": "stream",
     "text": [
      "PING 10.10.129.232 (10.10.129.232) 56(84) bytes of data.\n",
      "\n",
      "--- 10.10.129.232 ping statistics ---\n",
      "5 packets transmitted, 0 received, 100% packet loss, time 4051ms\n",
      "\n"
     ]
    }
   ],
   "source": [
    "!ping -c 5 $TARGET"
   ]
  },
  {
   "cell_type": "markdown",
   "id": "58fac4d4-d06d-4ba8-aad3-97517c296720",
   "metadata": {},
   "source": [
    "# Quick Scan:"
   ]
  },
  {
   "cell_type": "code",
   "execution_count": 9,
   "id": "e2744cff-ebab-4506-9bc8-a8eb8d1eb4b4",
   "metadata": {},
   "outputs": [
    {
     "name": "stdout",
     "output_type": "stream",
     "text": [
      "Starting Nmap 7.91 ( https://nmap.org ) at 2021-10-07 02:43 UTC\n",
      "Initiating ARP Ping Scan at 02:43\n",
      "Scanning 10.10.129.232 [1 port]\n",
      "Completed ARP Ping Scan at 02:43, 0.05s elapsed (1 total hosts)\n",
      "Initiating Parallel DNS resolution of 1 host. at 02:43\n",
      "Completed Parallel DNS resolution of 1 host. at 02:43, 0.00s elapsed\n",
      "Initiating SYN Stealth Scan at 02:43\n",
      "Scanning ip-10-10-129-232.eu-west-1.compute.internal (10.10.129.232) [1000 ports]\n",
      "Discovered open port 3389/tcp on 10.10.129.232\n",
      "Discovered open port 80/tcp on 10.10.129.232\n",
      "Completed SYN Stealth Scan at 02:44, 4.56s elapsed (1000 total ports)\n",
      "Nmap scan report for ip-10-10-129-232.eu-west-1.compute.internal (10.10.129.232)\n",
      "Host is up, received arp-response (0.00037s latency).\n",
      "Scanned at 2021-10-07 02:43:57 UTC for 5s\n",
      "Not shown: 998 filtered ports\n",
      "Reason: 998 no-responses\n",
      "PORT     STATE SERVICE       REASON\n",
      "80/tcp   open  http          syn-ack ttl 128\n",
      "3389/tcp open  ms-wbt-server syn-ack ttl 128\n",
      "MAC Address: 02:33:AC:39:48:09 (Unknown)\n",
      "\n",
      "Read data files from: /usr/bin/../share/nmap\n",
      "Nmap done: 1 IP address (1 host up) scanned in 4.77 seconds\n",
      "           Raw packets sent: 2001 (88.028KB) | Rcvd: 29 (2.814KB)\n"
     ]
    }
   ],
   "source": [
    "!nmap -vv -oA scans/quick/quick_scan $TARGET"
   ]
  },
  {
   "cell_type": "markdown",
   "id": "e915b5ee-4f66-402b-9d64-96ca11fa9f7a",
   "metadata": {},
   "source": [
    "# All Ports:"
   ]
  },
  {
   "cell_type": "code",
   "execution_count": 10,
   "id": "5e8c4f02-afa3-49cc-9fdf-bfcac2e4b58b",
   "metadata": {},
   "outputs": [
    {
     "name": "stdout",
     "output_type": "stream",
     "text": [
      "Starting Nmap 7.91 ( https://nmap.org ) at 2021-10-07 02:44 UTC\n",
      "NSE: Loaded 45 scripts for scanning.\n",
      "Initiating ARP Ping Scan at 02:44\n",
      "Scanning 10.10.129.232 [1 port]\n",
      "Completed ARP Ping Scan at 02:44, 0.06s elapsed (1 total hosts)\n",
      "Initiating Parallel DNS resolution of 1 host. at 02:44\n",
      "Completed Parallel DNS resolution of 1 host. at 02:44, 0.00s elapsed\n",
      "Initiating SYN Stealth Scan at 02:44\n",
      "Scanning ip-10-10-129-232.eu-west-1.compute.internal (10.10.129.232) [65535 ports]\n",
      "Discovered open port 80/tcp on 10.10.129.232\n",
      "Discovered open port 3389/tcp on 10.10.129.232\n",
      "SYN Stealth Scan Timing: About 19.95% done; ETC: 02:46 (0:02:04 remaining)\n",
      "SYN Stealth Scan Timing: About 48.31% done; ETC: 02:46 (0:01:05 remaining)\n",
      "Discovered open port 5985/tcp on 10.10.129.232\n",
      "Completed SYN Stealth Scan at 02:45, 103.97s elapsed (65535 total ports)\n",
      "Initiating Service scan at 02:45\n",
      "Scanning 3 services on ip-10-10-129-232.eu-west-1.compute.internal (10.10.129.232)\n",
      "Completed Service scan at 02:45, 6.12s elapsed (3 services on 1 host)\n",
      "NSE: Script scanning 10.10.129.232.\n",
      "NSE: Starting runlevel 1 (of 2) scan.\n",
      "Initiating NSE at 02:45\n",
      "Completed NSE at 02:45, 0.01s elapsed\n",
      "NSE: Starting runlevel 2 (of 2) scan.\n",
      "Initiating NSE at 02:45\n",
      "Completed NSE at 02:45, 0.00s elapsed\n",
      "Nmap scan report for ip-10-10-129-232.eu-west-1.compute.internal (10.10.129.232)\n",
      "Host is up, received arp-response (0.00058s latency).\n",
      "Scanned at 2021-10-07 02:44:02 UTC for 111s\n",
      "Not shown: 65532 filtered ports\n",
      "Reason: 65532 no-responses\n",
      "PORT     STATE SERVICE       REASON          VERSION\n",
      "80/tcp   open  http          syn-ack ttl 128 Microsoft IIS httpd 10.0\n",
      "3389/tcp open  ms-wbt-server syn-ack ttl 128 Microsoft Terminal Services\n",
      "5985/tcp open  http          syn-ack ttl 128 Microsoft HTTPAPI httpd 2.0 (SSDP/UPnP)\n",
      "MAC Address: 02:33:AC:39:48:09 (Unknown)\n",
      "Service Info: OS: Windows; CPE: cpe:/o:microsoft:windows\n",
      "\n",
      "Read data files from: /usr/bin/../share/nmap\n",
      "Service detection performed. Please report any incorrect results at https://nmap.org/submit/ .\n",
      "Nmap done: 1 IP address (1 host up) scanned in 110.72 seconds\n",
      "           Raw packets sent: 131149 (5.771MB) | Rcvd: 109 (6.912KB)\n"
     ]
    }
   ],
   "source": [
    "!nmap -p- -sV -vv -oA  scans/tcp/tcp_scan $TARGET"
   ]
  },
  {
   "cell_type": "code",
   "execution_count": 11,
   "id": "d0d57d0d-a030-4a33-af05-6ec2541ad6c5",
   "metadata": {},
   "outputs": [],
   "source": [
    "import xmltodict\n",
    "\n",
    "with open('scans/tcp/tcp_scan.xml','r') as f:\n",
    "    xml_dict = xmltodict.parse(f.read())"
   ]
  },
  {
   "cell_type": "code",
   "execution_count": 12,
   "id": "da453ac6-0dc4-425f-aef4-b7a95c6c3505",
   "metadata": {},
   "outputs": [
    {
     "name": "stdout",
     "output_type": "stream",
     "text": [
      "env: PORTS=80,3389,5985\n"
     ]
    }
   ],
   "source": [
    "PING=True\n",
    "try:\n",
    "    port_list = [port['@portid'] for port in xml_dict['nmaprun']['host']['ports']['port']]\n",
    "    %env PORTS={\",\".join(port_list)}\n",
    "except:\n",
    "    print(\"Host is down\")\n",
    "    PING=False"
   ]
  },
  {
   "cell_type": "markdown",
   "id": "6c676c86-fec5-476c-9ca3-a32dcf99e420",
   "metadata": {},
   "source": [
    "# No Ping:"
   ]
  },
  {
   "cell_type": "code",
   "execution_count": 13,
   "id": "75c4ce70-909e-44a1-9325-30006ae51e5c",
   "metadata": {},
   "outputs": [
    {
     "name": "stdout",
     "output_type": "stream",
     "text": [
      "Starting Nmap 7.91 ( https://nmap.org ) at 2021-10-07 02:45 UTC\n"
     ]
    },
    {
     "name": "stderr",
     "output_type": "stream",
     "text": [
      "Host discovery disabled (-Pn). All addresses will be marked 'up' and scan times will be slower.\n"
     ]
    },
    {
     "name": "stdout",
     "output_type": "stream",
     "text": [
      "NSE: Loaded 45 scripts for scanning.\n",
      "Initiating ARP Ping Scan at 02:45\n",
      "Scanning 10.10.129.232 [1 port]\n",
      "Completed ARP Ping Scan at 02:45, 0.05s elapsed (1 total hosts)\n",
      "Initiating Parallel DNS resolution of 1 host. at 02:45\n",
      "Completed Parallel DNS resolution of 1 host. at 02:45, 0.00s elapsed\n",
      "Initiating SYN Stealth Scan at 02:45\n",
      "Scanning ip-10-10-129-232.eu-west-1.compute.internal (10.10.129.232) [1000 ports]\n",
      "Discovered open port 80/tcp on 10.10.129.232\n",
      "Discovered open port 3389/tcp on 10.10.129.232\n",
      "Completed SYN Stealth Scan at 02:45, 4.87s elapsed (1000 total ports)\n",
      "Initiating Service scan at 02:45\n",
      "Scanning 2 services on ip-10-10-129-232.eu-west-1.compute.internal (10.10.129.232)\n",
      "Completed Service scan at 02:46, 6.01s elapsed (2 services on 1 host)\n",
      "NSE: Script scanning 10.10.129.232.\n",
      "NSE: Starting runlevel 1 (of 2) scan.\n",
      "Initiating NSE at 02:46\n",
      "Completed NSE at 02:46, 0.01s elapsed\n",
      "NSE: Starting runlevel 2 (of 2) scan.\n",
      "Initiating NSE at 02:46\n",
      "Completed NSE at 02:46, 0.00s elapsed\n",
      "Nmap scan report for ip-10-10-129-232.eu-west-1.compute.internal (10.10.129.232)\n",
      "Host is up, received arp-response (0.0013s latency).\n",
      "Scanned at 2021-10-07 02:45:53 UTC for 11s\n",
      "Not shown: 998 filtered ports\n",
      "Reason: 998 no-responses\n",
      "PORT     STATE SERVICE       REASON          VERSION\n",
      "80/tcp   open  http          syn-ack ttl 128 Microsoft IIS httpd 10.0\n",
      "3389/tcp open  ms-wbt-server syn-ack ttl 128 Microsoft Terminal Services\n",
      "MAC Address: 02:33:AC:39:48:09 (Unknown)\n",
      "Service Info: OS: Windows; CPE: cpe:/o:microsoft:windows\n",
      "\n",
      "Read data files from: /usr/bin/../share/nmap\n",
      "Service detection performed. Please report any incorrect results at https://nmap.org/submit/ .\n",
      "Nmap done: 1 IP address (1 host up) scanned in 11.42 seconds\n",
      "           Raw packets sent: 2001 (88.028KB) | Rcvd: 5 (204B)\n"
     ]
    }
   ],
   "source": [
    "!nmap -sV -Pn -vv -oA scans/no_ping/no_ping_scan $TARGET"
   ]
  },
  {
   "cell_type": "code",
   "execution_count": 14,
   "id": "0c0c1709-760c-41d8-9a88-3ce8cec580ed",
   "metadata": {},
   "outputs": [],
   "source": [
    "if not PING:\n",
    "    !nmap -sV -Pn -p- -vv -oA  scans/tcp/tcp_scan $TARGET"
   ]
  },
  {
   "cell_type": "markdown",
   "id": "113b941b-0872-48cc-9e5e-f98bb0f61ad2",
   "metadata": {},
   "source": [
    "# Run Default Scripts:"
   ]
  },
  {
   "cell_type": "code",
   "execution_count": 15,
   "id": "7272adf7-59fd-40c7-9f29-13edabfa0b24",
   "metadata": {
    "tags": []
   },
   "outputs": [
    {
     "name": "stdout",
     "output_type": "stream",
     "text": [
      "Starting Nmap 7.91 ( https://nmap.org ) at 2021-10-07 02:46 UTC\n",
      "NSE: Loaded 123 scripts for scanning.\n",
      "NSE: Script Pre-scanning.\n",
      "NSE: Starting runlevel 1 (of 2) scan.\n",
      "Initiating NSE at 02:46\n",
      "Completed NSE at 02:46, 0.00s elapsed\n",
      "NSE: Starting runlevel 2 (of 2) scan.\n",
      "Initiating NSE at 02:46\n",
      "Completed NSE at 02:46, 0.00s elapsed\n",
      "Initiating ARP Ping Scan at 02:46\n",
      "Scanning 10.10.129.232 [1 port]\n",
      "Completed ARP Ping Scan at 02:46, 0.04s elapsed (1 total hosts)\n",
      "Initiating Parallel DNS resolution of 1 host. at 02:46\n",
      "Completed Parallel DNS resolution of 1 host. at 02:46, 0.00s elapsed\n",
      "Initiating SYN Stealth Scan at 02:46\n",
      "Scanning ip-10-10-129-232.eu-west-1.compute.internal (10.10.129.232) [3 ports]\n",
      "Discovered open port 80/tcp on 10.10.129.232\n",
      "Discovered open port 3389/tcp on 10.10.129.232\n",
      "Discovered open port 5985/tcp on 10.10.129.232\n",
      "Completed SYN Stealth Scan at 02:46, 0.03s elapsed (3 total ports)\n",
      "NSE: Script scanning 10.10.129.232.\n",
      "NSE: Starting runlevel 1 (of 2) scan.\n",
      "Initiating NSE at 02:46\n",
      "Completed NSE at 02:46, 0.19s elapsed\n",
      "NSE: Starting runlevel 2 (of 2) scan.\n",
      "Initiating NSE at 02:46\n",
      "Completed NSE at 02:46, 0.00s elapsed\n",
      "Nmap scan report for ip-10-10-129-232.eu-west-1.compute.internal (10.10.129.232)\n",
      "Host is up, received arp-response (0.00030s latency).\n",
      "Scanned at 2021-10-07 02:46:05 UTC for 0s\n",
      "\n",
      "PORT     STATE SERVICE       REASON\n",
      "80/tcp   open  http          syn-ack ttl 128\n",
      "| http-methods: \n",
      "|   Supported Methods: OPTIONS TRACE GET HEAD POST\n",
      "|_  Potentially risky methods: TRACE\n",
      "|_http-title: IIS Windows Server\n",
      "3389/tcp open  ms-wbt-server syn-ack ttl 128\n",
      "| rdp-ntlm-info: \n",
      "|   Target_Name: RETROWEB\n",
      "|   NetBIOS_Domain_Name: RETROWEB\n",
      "|   NetBIOS_Computer_Name: RETROWEB\n",
      "|   DNS_Domain_Name: RetroWeb\n",
      "|   DNS_Computer_Name: RetroWeb\n",
      "|   Product_Version: 10.0.14393\n",
      "|_  System_Time: 2021-10-07T02:46:05+00:00\n",
      "| ssl-cert: Subject: commonName=RetroWeb\n",
      "| Issuer: commonName=RetroWeb\n",
      "| Public Key type: rsa\n",
      "| Public Key bits: 2048\n",
      "| Signature Algorithm: sha256WithRSAEncryption\n",
      "| Not valid before: 2021-10-06T02:42:14\n",
      "| Not valid after:  2022-04-07T02:42:14\n",
      "| MD5:   f21b 90d1 5d7b 5252 1da2 70e0 1043 b876\n",
      "| SHA-1: f3d6 66da 4dee f446 ef9b bf9d ce8e 4ad2 2823 8572\n",
      "| -----BEGIN CERTIFICATE-----\n",
      "| MIIC1DCCAbygAwIBAgIQPwsLQQSqW7RD7VPBaVfycTANBgkqhkiG9w0BAQsFADAT\n",
      "| MREwDwYDVQQDEwhSZXRyb1dlYjAeFw0yMTEwMDYwMjQyMTRaFw0yMjA0MDcwMjQy\n",
      "| MTRaMBMxETAPBgNVBAMTCFJldHJvV2ViMIIBIjANBgkqhkiG9w0BAQEFAAOCAQ8A\n",
      "| MIIBCgKCAQEA1OleBVx03tiqFQxKEpt11uY/gO9WJLJ+UDstb6+PxTy/gKiMuC+N\n",
      "| An2IWEYMjwb3RSOgcIsAjVaqWde0aDbNhq8n3qlMCk5So9lAKIdt2B+BA/E0tWaR\n",
      "| WAsMHnOJl8mOKse8mX7/bJjFm3oyWX6wBUkJ2rUZzSHNtuljrWb+ya4Ng5yf7aqI\n",
      "| c4evsWy0+xMr0ZK3vu3tJvhXQGM4AMGGys5WadZn0LdboEeg7u+mouw+MzuMghR9\n",
      "| ydf3r1Dbu+Cy+oK1x81KvnNwH3p5Fhg4K6ztb62tIOZD9Y28Wu61ElIOxxmWJWnm\n",
      "| aotfRZ5u34jv4EgGZ+xtXSPI1iBk8HjVJwIDAQABoyQwIjATBgNVHSUEDDAKBggr\n",
      "| BgEFBQcDATALBgNVHQ8EBAMCBDAwDQYJKoZIhvcNAQELBQADggEBAEjwsgIf9abt\n",
      "| 9/uP4tI62j3HV6HRmt790Ae1DI1MMYaPq7Tnja+3TJXj6aYPuyk/EMQl2//9/YaF\n",
      "| o9lmbc97sFQuCMqVfip0BtnblEPNcRtyijkhWu+eBSpVR9ArgEhaBRNZRPsQcE6l\n",
      "| 2rI8Qn2pgEgEP0CYbwfLuadRKViyh4IWVcWtuE1belDrKJT+/glAPmyCBXOKWXL8\n",
      "| Ssch/uNf59WC1163jDWoprOKuqOHiuGWZ7d3FFA+gFp1tWZe3YrMakQHCuDVyJ3Y\n",
      "| QKPUtKuLtLLltTHow3Uv/IT39ZEj4ADnsgqL/TWTb62kvNcCajPJeidWrvwWqS8w\n",
      "| BhPMdHO3lmo=\n",
      "|_-----END CERTIFICATE-----\n",
      "|_ssl-date: 2021-10-07T02:46:05+00:00; 0s from scanner time.\n",
      "5985/tcp open  wsman         syn-ack ttl 128\n",
      "MAC Address: 02:33:AC:39:48:09 (Unknown)\n",
      "\n",
      "Host script results:\n",
      "|_clock-skew: mean: 0s, deviation: 0s, median: 0s\n",
      "\n",
      "NSE: Script Post-scanning.\n",
      "NSE: Starting runlevel 1 (of 2) scan.\n",
      "Initiating NSE at 02:46\n",
      "Completed NSE at 02:46, 0.00s elapsed\n",
      "NSE: Starting runlevel 2 (of 2) scan.\n",
      "Initiating NSE at 02:46\n",
      "Completed NSE at 02:46, 0.00s elapsed\n",
      "Read data files from: /usr/bin/../share/nmap\n",
      "Nmap done: 1 IP address (1 host up) scanned in 0.83 seconds\n",
      "           Raw packets sent: 4 (160B) | Rcvd: 4 (160B)\n"
     ]
    }
   ],
   "source": [
    "if PING:\n",
    "    !nmap -sC -p $PORTS -vv -oA scans/scripts/script_scan $TARGET"
   ]
  },
  {
   "cell_type": "code",
   "execution_count": null,
   "id": "02e9f294-d7e9-44a3-9350-6208c1fe90fc",
   "metadata": {
    "scrolled": true,
    "tags": []
   },
   "outputs": [
    {
     "name": "stdout",
     "output_type": "stream",
     "text": [
      "Starting Nmap 7.91 ( https://nmap.org ) at 2021-10-07 02:46 UTC\n",
      "NSE: Loaded 419 scripts for scanning.\n",
      "NSE: Script Pre-scanning.\n",
      "NSE: Starting runlevel 1 (of 3) scan.\n",
      "Initiating NSE at 02:46\n",
      "NSE: [targets-ipv6-map4to6] This script is IPv6 only.\n",
      "NSE: [broadcast-ataoe-discover] No interface supplied, use -e\n",
      "NSE: [broadcast-sonicwall-discover] No network interface was supplied, aborting.\n",
      "NSE: [url-snarf] no network interface was supplied, aborting ...\n",
      "NSE: [shodan-api] Error: Please specify your ShodanAPI key with the shodan-api.apikey argument\n",
      "NSE: [targets-xml] Need to supply a file name with the targets-xml.iX argument\n",
      "NSE: [targets-ipv6-wordlist] Need to be executed for IPv6.\n",
      "NSE: [mtrace] A source IP must be provided through fromip argument.\n",
      "NSE Timing: About 95.88% done; ETC: 02:46 (0:00:01 remaining)\n",
      "Completed NSE at 02:46, 40.08s elapsed\n",
      "NSE: Starting runlevel 2 (of 3) scan.\n",
      "Initiating NSE at 02:46\n",
      "Completed NSE at 02:46, 0.00s elapsed\n",
      "NSE: Starting runlevel 3 (of 3) scan.\n",
      "Initiating NSE at 02:46\n",
      "Completed NSE at 02:46, 0.00s elapsed\n",
      "Pre-scan script results:\n",
      "|_eap-info: please specify an interface with -e\n",
      "|_hostmap-robtex: *TEMPORARILY DISABLED* due to changes in Robtex's API. See https://www.robtex.com/api/\n",
      "|_http-robtex-shared-ns: *TEMPORARILY DISABLED* due to changes in Robtex's API. See https://www.robtex.com/api/\n",
      "| targets-asn: \n",
      "|_  targets-asn.asn is a mandatory parameter\n",
      "Initiating ARP Ping Scan at 02:46\n",
      "Scanning 10.10.129.232 [1 port]\n",
      "Completed ARP Ping Scan at 02:46, 0.04s elapsed (1 total hosts)\n",
      "Initiating Parallel DNS resolution of 1 host. at 02:46\n",
      "Completed Parallel DNS resolution of 1 host. at 02:46, 0.00s elapsed\n",
      "Initiating SYN Stealth Scan at 02:46\n",
      "Scanning ip-10-10-129-232.eu-west-1.compute.internal (10.10.129.232) [1000 ports]\n",
      "Discovered open port 80/tcp on 10.10.129.232\n",
      "Discovered open port 3389/tcp on 10.10.129.232\n",
      "Completed SYN Stealth Scan at 02:46, 3.16s elapsed (1000 total ports)\n",
      "Initiating Service scan at 02:46\n",
      "Scanning 2 services on ip-10-10-129-232.eu-west-1.compute.internal (10.10.129.232)\n",
      "Completed Service scan at 02:46, 6.01s elapsed (2 services on 1 host)\n",
      "Initiating OS detection (try #1) against ip-10-10-129-232.eu-west-1.compute.internal (10.10.129.232)\n",
      "Retrying OS detection (try #2) against ip-10-10-129-232.eu-west-1.compute.internal (10.10.129.232)\n",
      "NSE: Script scanning 10.10.129.232.\n",
      "NSE: Starting runlevel 1 (of 3) scan.\n",
      "Initiating NSE at 02:47\n"
     ]
    }
   ],
   "source": [
    "if PING:\n",
    "    !nmap -A -T5 -vv --script=default,safe,discovery $TARGET\n",
    "else:\n",
    "    !nmap -A -T5 -Pn -vv --script=default,safe,discovery $TARGET"
   ]
  },
  {
   "cell_type": "code",
   "execution_count": null,
   "id": "bc3f5e71-3371-480a-862e-f734bce39e36",
   "metadata": {},
   "outputs": [],
   "source": [
    "if PING:\n",
    "    !nmap -A -T3 -vv --script=default,safe,discovery $TARGET\n",
    "else:\n",
    "    !nmap -A -T3 -Pn -vv --script=default,safe,discovery $TARGET"
   ]
  },
  {
   "cell_type": "code",
   "execution_count": null,
   "id": "51258c10-e060-403b-bbb5-853787cd6646",
   "metadata": {
    "tags": []
   },
   "outputs": [],
   "source": [
    "from getpass import getpass\n",
    "import os\n",
    "\n",
    "if PING:\n",
    "    !echo { getpass() } | sudo -S nmap -A -p- -T5 -vv --script=default,safe,discovery {os.environ['TARGET']}\n",
    "else:\n",
    "    !echo { getpass() } | sudo -S nmap -A -p- -Pn -T5 -vv --script=default,safe,discovery {os.environ['TARGET']}"
   ]
  },
  {
   "cell_type": "code",
   "execution_count": null,
   "id": "d98487c6-24cb-4ad3-a531-a92462446320",
   "metadata": {},
   "outputs": [],
   "source": [
    "# UDP Scan, this takes forever...\n",
    "\n",
    "# from getpass import getpass\n",
    "\n",
    "# !echo { getpass() } > tmp.txt\n",
    "# !cat tmp.txt | sudo -S nmap -sU --open -oA scans/udp/udp_scan $TARGET\n",
    "# !cat tmp.txt | sudo -S nmap -sU --open -p- -oA scans/udp/udp_scan $TARGET\n",
    "# !rm -rf tmp.txt"
   ]
  },
  {
   "cell_type": "code",
   "execution_count": null,
   "id": "f0761438-2418-4c06-9e0f-fb1387cbb50b",
   "metadata": {},
   "outputs": [],
   "source": []
  }
 ],
 "metadata": {
  "kernelspec": {
   "display_name": "Python 3 (ipykernel)",
   "language": "python",
   "name": "python3"
  },
  "language_info": {
   "codemirror_mode": {
    "name": "ipython",
    "version": 3
   },
   "file_extension": ".py",
   "mimetype": "text/x-python",
   "name": "python",
   "nbconvert_exporter": "python",
   "pygments_lexer": "ipython3",
   "version": "3.9.5"
  }
 },
 "nbformat": 4,
 "nbformat_minor": 5
}
