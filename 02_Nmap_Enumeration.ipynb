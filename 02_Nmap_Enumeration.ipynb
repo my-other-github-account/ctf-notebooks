{
 "cells": [
  {
   "cell_type": "markdown",
   "id": "de36d110-c319-4d9c-87f7-d534ab7d8e02",
   "metadata": {},
   "source": [
    "# Setup/Test Environment:"
   ]
  },
  {
   "cell_type": "code",
   "execution_count": 1,
   "id": "f6716cd2-9223-40a5-b252-7a98ca055038",
   "metadata": {},
   "outputs": [],
   "source": [
    "from web_footprinting_utils import setup_ipython\n",
    "import os\n",
    "\n",
    "get_ipython, INTERACTIVE = setup_ipython()"
   ]
  },
  {
   "cell_type": "code",
   "execution_count": 2,
   "id": "708723bd-df9b-4d54-91a0-713b0c3b03da",
   "metadata": {},
   "outputs": [
    {
     "name": "stdout",
     "output_type": "stream",
     "text": [
      "env: TARGET=10.10.165.36\n"
     ]
    }
   ],
   "source": [
    "%env TARGET=10.10.165.36"
   ]
  },
  {
   "cell_type": "code",
   "execution_count": 3,
   "id": "9cee99d5-c5d0-4ea4-9dd6-c7dd897edbe7",
   "metadata": {},
   "outputs": [
    {
     "name": "stdout",
     "output_type": "stream",
     "text": [
      "Make sure we are connected to VPN:\n",
      "Not connected!\n"
     ]
    },
    {
     "name": "stdin",
     "output_type": "stream",
     "text": [
      " \n"
     ]
    }
   ],
   "source": [
    "!echo Make sure we are connected to VPN:\n",
    "result = !ip a | grep tun0\n",
    "\n",
    "if not len(result)>0:\n",
    "    print(\"Not connected!\")\n",
    "    input()\n",
    "else:\n",
    "    print(\"Connected!\")\n",
    "    print(result)"
   ]
  },
  {
   "cell_type": "markdown",
   "id": "3ffd0caa-c820-41c6-88c2-dc30830ae6f0",
   "metadata": {},
   "source": [
    "# Initial (Unreliable) RustScan:"
   ]
  },
  {
   "cell_type": "code",
   "execution_count": 4,
   "id": "98747dd7-c941-49e4-8a28-6a5d81411a08",
   "metadata": {},
   "outputs": [],
   "source": [
    "import os\n",
    "pwd = os.getcwd()\n",
    "rustscan = \"docker run -v '%s':/workspace  --volume /etc/passwd:/etc/passwd:ro --volume /etc/group:/etc/group:ro --user $(id -u) --rm my-other-github-account/rustscan\" % pwd"
   ]
  },
  {
   "cell_type": "code",
   "execution_count": 5,
   "id": "d4ea8a20-0c2b-4875-b738-5b2591551651",
   "metadata": {},
   "outputs": [
    {
     "name": "stderr",
     "output_type": "stream",
     "text": [
      "/bin/bash: docker: command not found\n"
     ]
    }
   ],
   "source": [
    "!{rustscan} -t 4000 -r 1-65535 -a {os.environ[\"TARGET\"]} -- -Pn -A -sV"
   ]
  },
  {
   "cell_type": "markdown",
   "id": "d464182d-eb92-4ea0-8a58-80b7b466334f",
   "metadata": {},
   "source": [
    "# Initial Nmap:"
   ]
  },
  {
   "cell_type": "code",
   "execution_count": 3,
   "id": "f1753b94-01fd-49a1-a896-e392821c021b",
   "metadata": {},
   "outputs": [
    {
     "name": "stdout",
     "output_type": "stream",
     "text": [
      "10.10.165.36\n"
     ]
    }
   ],
   "source": [
    "!echo $TARGET\n",
    "!mkdir -p scans/quick scans/tcp scans/udp scans/scripts scans/http scans/no_ping"
   ]
  },
  {
   "cell_type": "code",
   "execution_count": 7,
   "id": "79245048-a43c-4c50-94c3-4273e1009748",
   "metadata": {},
   "outputs": [
    {
     "name": "stdout",
     "output_type": "stream",
     "text": [
      "PING 10.10.207.10 (10.10.207.10) 56(84) bytes of data.\n",
      "64 bytes from 10.10.207.10: icmp_seq=1 ttl=128 time=0.443 ms\n",
      "64 bytes from 10.10.207.10: icmp_seq=2 ttl=128 time=0.431 ms\n",
      "64 bytes from 10.10.207.10: icmp_seq=3 ttl=128 time=1.39 ms\n",
      "64 bytes from 10.10.207.10: icmp_seq=4 ttl=128 time=0.436 ms\n",
      "64 bytes from 10.10.207.10: icmp_seq=5 ttl=128 time=0.487 ms\n",
      "\n",
      "--- 10.10.207.10 ping statistics ---\n",
      "5 packets transmitted, 5 received, 0% packet loss, time 4069ms\n",
      "rtt min/avg/max/mdev = 0.431/0.638/1.394/0.378 ms\n"
     ]
    }
   ],
   "source": [
    "!ping -c 5 $TARGET"
   ]
  },
  {
   "cell_type": "markdown",
   "id": "58fac4d4-d06d-4ba8-aad3-97517c296720",
   "metadata": {},
   "source": [
    "# Quick Scan:"
   ]
  },
  {
   "cell_type": "code",
   "execution_count": 9,
   "id": "e2744cff-ebab-4506-9bc8-a8eb8d1eb4b4",
   "metadata": {},
   "outputs": [
    {
     "name": "stdout",
     "output_type": "stream",
     "text": [
      "Starting Nmap 7.91 ( https://nmap.org ) at 2021-10-04 01:21 UTC\n",
      "Initiating ARP Ping Scan at 01:21\n",
      "Scanning 10.10.165.36 [1 port]\n",
      "Completed ARP Ping Scan at 01:21, 0.05s elapsed (1 total hosts)\n",
      "Initiating Parallel DNS resolution of 1 host. at 01:21\n",
      "Completed Parallel DNS resolution of 1 host. at 01:21, 0.00s elapsed\n",
      "Initiating SYN Stealth Scan at 01:21\n",
      "Scanning ip-10-10-165-36.eu-west-1.compute.internal (10.10.165.36) [1000 ports]\n",
      "Discovered open port 10000/tcp on 10.10.165.36\n",
      "Discovered open port 9999/tcp on 10.10.165.36\n",
      "Completed SYN Stealth Scan at 01:21, 0.12s elapsed (1000 total ports)\n",
      "Nmap scan report for ip-10-10-165-36.eu-west-1.compute.internal (10.10.165.36)\n",
      "Host is up, received arp-response (0.0043s latency).\n",
      "Scanned at 2021-10-04 01:21:25 UTC for 0s\n",
      "Not shown: 998 closed ports\n",
      "Reason: 998 resets\n",
      "PORT      STATE SERVICE          REASON\n",
      "9999/tcp  open  abyss            syn-ack ttl 64\n",
      "10000/tcp open  snet-sensor-mgmt syn-ack ttl 64\n",
      "MAC Address: 02:EB:CF:EF:F4:31 (Unknown)\n",
      "\n",
      "Read data files from: /usr/bin/../share/nmap\n",
      "Nmap done: 1 IP address (1 host up) scanned in 0.31 seconds\n",
      "           Raw packets sent: 1001 (44.028KB) | Rcvd: 1001 (40.036KB)\n"
     ]
    }
   ],
   "source": [
    "!nmap -vv -oA scans/quick/quick_scan $TARGET"
   ]
  },
  {
   "cell_type": "markdown",
   "id": "e915b5ee-4f66-402b-9d64-96ca11fa9f7a",
   "metadata": {},
   "source": [
    "# All Ports:"
   ]
  },
  {
   "cell_type": "code",
   "execution_count": 9,
   "id": "5e8c4f02-afa3-49cc-9fdf-bfcac2e4b58b",
   "metadata": {},
   "outputs": [
    {
     "name": "stdout",
     "output_type": "stream",
     "text": [
      "Starting Nmap 7.80 ( https://nmap.org ) at 2021-09-30 00:46 UTC\n",
      "NSE: Loaded 45 scripts for scanning.\n",
      "Initiating ARP Ping Scan at 00:46\n",
      "Scanning 10.10.207.10 [1 port]\n",
      "Completed ARP Ping Scan at 00:46, 0.03s elapsed (1 total hosts)\n",
      "Initiating Parallel DNS resolution of 1 host. at 00:46\n",
      "Completed Parallel DNS resolution of 1 host. at 00:46, 0.00s elapsed\n",
      "Initiating SYN Stealth Scan at 00:46\n",
      "Scanning ip-10-10-207-10.eu-west-1.compute.internal (10.10.207.10) [65535 ports]\n",
      "Discovered open port 139/tcp on 10.10.207.10\n",
      "Discovered open port 135/tcp on 10.10.207.10\n",
      "Discovered open port 445/tcp on 10.10.207.10\n",
      "Increasing send delay for 10.10.207.10 from 0 to 5 due to 24 out of 78 dropped probes since last increase.\n",
      "SYN Stealth Scan Timing: About 8.87% done; ETC: 00:52 (0:05:18 remaining)\n",
      "SYN Stealth Scan Timing: About 17.78% done; ETC: 00:52 (0:04:42 remaining)\n",
      "SYN Stealth Scan Timing: About 26.68% done; ETC: 00:52 (0:04:10 remaining)\n",
      "Discovered open port 49162/tcp on 10.10.207.10\n",
      "Discovered open port 49161/tcp on 10.10.207.10\n",
      "SYN Stealth Scan Timing: About 35.58% done; ETC: 00:52 (0:03:39 remaining)\n",
      "Discovered open port 49160/tcp on 10.10.207.10\n",
      "Discovered open port 49153/tcp on 10.10.207.10\n",
      "Discovered open port 31337/tcp on 10.10.207.10\n",
      "SYN Stealth Scan Timing: About 44.46% done; ETC: 00:52 (0:03:09 remaining)\n",
      "SYN Stealth Scan Timing: About 53.36% done; ETC: 00:52 (0:02:38 remaining)\n",
      "SYN Stealth Scan Timing: About 62.25% done; ETC: 00:52 (0:02:08 remaining)\n",
      "SYN Stealth Scan Timing: About 71.12% done; ETC: 00:52 (0:01:38 remaining)\n",
      "Discovered open port 49152/tcp on 10.10.207.10\n",
      "SYN Stealth Scan Timing: About 80.00% done; ETC: 00:52 (0:01:08 remaining)\n",
      "Discovered open port 49154/tcp on 10.10.207.10\n",
      "SYN Stealth Scan Timing: About 88.88% done; ETC: 00:52 (0:00:38 remaining)\n",
      "Completed SYN Stealth Scan at 00:52, 337.96s elapsed (65535 total ports)\n",
      "Initiating Service scan at 00:52\n",
      "Scanning 10 services on ip-10-10-207-10.eu-west-1.compute.internal (10.10.207.10)\n",
      "Service scan Timing: About 40.00% done; ETC: 00:54 (0:01:21 remaining)\n",
      "Completed Service scan at 00:54, 156.14s elapsed (10 services on 1 host)\n",
      "NSE: Script scanning 10.10.207.10.\n",
      "NSE: Starting runlevel 1 (of 2) scan.\n",
      "Initiating NSE at 00:54\n",
      "Completed NSE at 00:54, 0.04s elapsed\n",
      "NSE: Starting runlevel 2 (of 2) scan.\n",
      "Initiating NSE at 00:54\n",
      "Completed NSE at 00:54, 1.01s elapsed\n",
      "Nmap scan report for ip-10-10-207-10.eu-west-1.compute.internal (10.10.207.10)\n",
      "Host is up, received arp-response (0.00029s latency).\n",
      "Scanned at 2021-09-30 00:46:37 UTC for 495s\n",
      "Not shown: 65525 closed ports\n",
      "Reason: 65525 resets\n",
      "PORT      STATE SERVICE      REASON          VERSION\n",
      "135/tcp   open  msrpc        syn-ack ttl 128 Microsoft Windows RPC\n",
      "139/tcp   open  netbios-ssn  syn-ack ttl 128 Microsoft Windows netbios-ssn\n",
      "445/tcp   open  microsoft-ds syn-ack ttl 128 Microsoft Windows 7 - 10 microsoft-ds (workgroup: WORKGROUP)\n",
      "31337/tcp open  Elite?       syn-ack ttl 128\n",
      "49152/tcp open  msrpc        syn-ack ttl 128 Microsoft Windows RPC\n",
      "49153/tcp open  msrpc        syn-ack ttl 128 Microsoft Windows RPC\n",
      "49154/tcp open  msrpc        syn-ack ttl 128 Microsoft Windows RPC\n",
      "49160/tcp open  msrpc        syn-ack ttl 128 Microsoft Windows RPC\n",
      "49161/tcp open  msrpc        syn-ack ttl 128 Microsoft Windows RPC\n",
      "49162/tcp open  msrpc        syn-ack ttl 128 Microsoft Windows RPC\n",
      "1 service unrecognized despite returning data. If you know the service/version, please submit the following fingerprint at https://nmap.org/cgi-bin/submit.cgi?new-service :\n",
      "SF-Port31337-TCP:V=7.80%I=7%D=9/30%Time=61550A4A%P=x86_64-pc-linux-gnu%r(G\n",
      "SF:etRequest,24,\"Hello\\x20GET\\x20/\\x20HTTP/1\\.0\\r!!!\\nHello\\x20\\r!!!\\n\")%r\n",
      "SF:(SIPOptions,142,\"Hello\\x20OPTIONS\\x20sip:nm\\x20SIP/2\\.0\\r!!!\\nHello\\x20\n",
      "SF:Via:\\x20SIP/2\\.0/TCP\\x20nm;branch=foo\\r!!!\\nHello\\x20From:\\x20<sip:nm@n\n",
      "SF:m>;tag=root\\r!!!\\nHello\\x20To:\\x20<sip:nm2@nm2>\\r!!!\\nHello\\x20Call-ID:\n",
      "SF:\\x2050000\\r!!!\\nHello\\x20CSeq:\\x2042\\x20OPTIONS\\r!!!\\nHello\\x20Max-Forw\n",
      "SF:ards:\\x2070\\r!!!\\nHello\\x20Content-Length:\\x200\\r!!!\\nHello\\x20Contact:\n",
      "SF:\\x20<sip:nm@nm>\\r!!!\\nHello\\x20Accept:\\x20application/sdp\\r!!!\\nHello\\x\n",
      "SF:20\\r!!!\\n\")%r(GenericLines,16,\"Hello\\x20\\r!!!\\nHello\\x20\\r!!!\\n\")%r(HTT\n",
      "SF:POptions,28,\"Hello\\x20OPTIONS\\x20/\\x20HTTP/1\\.0\\r!!!\\nHello\\x20\\r!!!\\n\"\n",
      "SF:)%r(RTSPRequest,28,\"Hello\\x20OPTIONS\\x20/\\x20RTSP/1\\.0\\r!!!\\nHello\\x20\\\n",
      "SF:r!!!\\n\")%r(Help,F,\"Hello\\x20HELP\\r!!!\\n\")%r(SSLSessionReq,C,\"Hello\\x20\\\n",
      "SF:x16\\x03!!!\\n\")%r(TerminalServerCookie,B,\"Hello\\x20\\x03!!!\\n\")%r(TLSSess\n",
      "SF:ionReq,C,\"Hello\\x20\\x16\\x03!!!\\n\")%r(Kerberos,A,\"Hello\\x20!!!\\n\")%r(Fou\n",
      "SF:rOhFourRequest,47,\"Hello\\x20GET\\x20/nice%20ports%2C/Tri%6Eity\\.txt%2eba\n",
      "SF:k\\x20HTTP/1\\.0\\r!!!\\nHello\\x20\\r!!!\\n\")%r(LPDString,12,\"Hello\\x20\\x01de\n",
      "SF:fault!!!\\n\")%r(LDAPSearchReq,17,\"Hello\\x200\\x84!!!\\nHello\\x20\\x01!!!\\n\"\n",
      "SF:);\n",
      "MAC Address: 02:D2:98:C7:60:E7 (Unknown)\n",
      "Service Info: Host: GATEKEEPER; OS: Windows; CPE: cpe:/o:microsoft:windows\n",
      "\n",
      "Read data files from: /usr/bin/../share/nmap\n",
      "Service detection performed. Please report any incorrect results at https://nmap.org/submit/ .\n",
      "Nmap done: 1 IP address (1 host up) scanned in 495.65 seconds\n",
      "           Raw packets sent: 65600 (2.886MB) | Rcvd: 66855 (2.774MB)\n"
     ]
    }
   ],
   "source": [
    "!nmap -p- -sV -vv -oA  scans/tcp/tcp_scan $TARGET"
   ]
  },
  {
   "cell_type": "code",
   "execution_count": 10,
   "id": "d0d57d0d-a030-4a33-af05-6ec2541ad6c5",
   "metadata": {},
   "outputs": [],
   "source": [
    "import xmltodict\n",
    "\n",
    "with open('scans/tcp/tcp_scan.xml','r') as f:\n",
    "    xml_dict = xmltodict.parse(f.read())"
   ]
  },
  {
   "cell_type": "code",
   "execution_count": 11,
   "id": "da453ac6-0dc4-425f-aef4-b7a95c6c3505",
   "metadata": {},
   "outputs": [
    {
     "name": "stdout",
     "output_type": "stream",
     "text": [
      "env: PORTS=135,139,445,31337,49152,49153,49154,49160,49161,49162\n"
     ]
    }
   ],
   "source": [
    "PING=True\n",
    "try:\n",
    "    port_list = [port['@portid'] for port in xml_dict['nmaprun']['host']['ports']['port']]\n",
    "    %env PORTS={\",\".join(port_list)}\n",
    "except:\n",
    "    print(\"Host is down\")\n",
    "    PING=False"
   ]
  },
  {
   "cell_type": "markdown",
   "id": "6c676c86-fec5-476c-9ca3-a32dcf99e420",
   "metadata": {},
   "source": [
    "# No Ping:"
   ]
  },
  {
   "cell_type": "code",
   "execution_count": 12,
   "id": "75c4ce70-909e-44a1-9325-30006ae51e5c",
   "metadata": {},
   "outputs": [
    {
     "name": "stdout",
     "output_type": "stream",
     "text": [
      "Starting Nmap 7.80 ( https://nmap.org ) at 2021-09-30 00:54 UTC\n",
      "NSE: Loaded 45 scripts for scanning.\n",
      "Initiating ARP Ping Scan at 00:54\n",
      "Scanning 10.10.207.10 [1 port]\n",
      "Completed ARP Ping Scan at 00:54, 0.04s elapsed (1 total hosts)\n",
      "Initiating Parallel DNS resolution of 1 host. at 00:54\n",
      "Completed Parallel DNS resolution of 1 host. at 00:54, 0.00s elapsed\n",
      "Initiating SYN Stealth Scan at 00:54\n",
      "Scanning ip-10-10-207-10.eu-west-1.compute.internal (10.10.207.10) [1000 ports]\n",
      "Discovered open port 139/tcp on 10.10.207.10\n",
      "Discovered open port 445/tcp on 10.10.207.10\n",
      "Discovered open port 3389/tcp on 10.10.207.10\n",
      "Discovered open port 135/tcp on 10.10.207.10\n",
      "Increasing send delay for 10.10.207.10 from 0 to 5 due to 45 out of 149 dropped probes since last increase.\n",
      "Discovered open port 49160/tcp on 10.10.207.10\n",
      "Discovered open port 31337/tcp on 10.10.207.10\n",
      "Discovered open port 49154/tcp on 10.10.207.10\n",
      "Discovered open port 49161/tcp on 10.10.207.10\n",
      "Discovered open port 49153/tcp on 10.10.207.10\n",
      "Discovered open port 49152/tcp on 10.10.207.10\n",
      "Completed SYN Stealth Scan at 00:54, 5.48s elapsed (1000 total ports)\n",
      "Initiating Service scan at 00:54\n",
      "Scanning 10 services on ip-10-10-207-10.eu-west-1.compute.internal (10.10.207.10)\n",
      "Service scan Timing: About 50.00% done; ETC: 00:56 (0:00:54 remaining)\n",
      "Completed Service scan at 00:57, 156.15s elapsed (10 services on 1 host)\n",
      "NSE: Script scanning 10.10.207.10.\n",
      "NSE: Starting runlevel 1 (of 2) scan.\n",
      "Initiating NSE at 00:57\n",
      "Completed NSE at 00:57, 7.04s elapsed\n",
      "NSE: Starting runlevel 2 (of 2) scan.\n",
      "Initiating NSE at 00:57\n",
      "Completed NSE at 00:57, 1.01s elapsed\n",
      "Nmap scan report for ip-10-10-207-10.eu-west-1.compute.internal (10.10.207.10)\n",
      "Host is up, received arp-response (0.00033s latency).\n",
      "Scanned at 2021-09-30 00:54:53 UTC for 170s\n",
      "Not shown: 990 closed ports\n",
      "Reason: 990 resets\n",
      "PORT      STATE SERVICE      REASON          VERSION\n",
      "135/tcp   open  msrpc        syn-ack ttl 128 Microsoft Windows RPC\n",
      "139/tcp   open  netbios-ssn  syn-ack ttl 128 Microsoft Windows netbios-ssn\n",
      "445/tcp   open  microsoft-ds syn-ack ttl 128 Microsoft Windows 7 - 10 microsoft-ds (workgroup: WORKGROUP)\n",
      "3389/tcp  open  tcpwrapped   syn-ack ttl 128\n",
      "31337/tcp open  Elite?       syn-ack ttl 128\n",
      "49152/tcp open  msrpc        syn-ack ttl 128 Microsoft Windows RPC\n",
      "49153/tcp open  msrpc        syn-ack ttl 128 Microsoft Windows RPC\n",
      "49154/tcp open  msrpc        syn-ack ttl 128 Microsoft Windows RPC\n",
      "49160/tcp open  msrpc        syn-ack ttl 128 Microsoft Windows RPC\n",
      "49161/tcp open  msrpc        syn-ack ttl 128 Microsoft Windows RPC\n",
      "1 service unrecognized despite returning data. If you know the service/version, please submit the following fingerprint at https://nmap.org/cgi-bin/submit.cgi?new-service :\n",
      "SF-Port31337-TCP:V=7.80%I=7%D=9/30%Time=61550AEE%P=x86_64-pc-linux-gnu%r(G\n",
      "SF:etRequest,24,\"Hello\\x20GET\\x20/\\x20HTTP/1\\.0\\r!!!\\nHello\\x20\\r!!!\\n\")%r\n",
      "SF:(SIPOptions,142,\"Hello\\x20OPTIONS\\x20sip:nm\\x20SIP/2\\.0\\r!!!\\nHello\\x20\n",
      "SF:Via:\\x20SIP/2\\.0/TCP\\x20nm;branch=foo\\r!!!\\nHello\\x20From:\\x20<sip:nm@n\n",
      "SF:m>;tag=root\\r!!!\\nHello\\x20To:\\x20<sip:nm2@nm2>\\r!!!\\nHello\\x20Call-ID:\n",
      "SF:\\x2050000\\r!!!\\nHello\\x20CSeq:\\x2042\\x20OPTIONS\\r!!!\\nHello\\x20Max-Forw\n",
      "SF:ards:\\x2070\\r!!!\\nHello\\x20Content-Length:\\x200\\r!!!\\nHello\\x20Contact:\n",
      "SF:\\x20<sip:nm@nm>\\r!!!\\nHello\\x20Accept:\\x20application/sdp\\r!!!\\nHello\\x\n",
      "SF:20\\r!!!\\n\")%r(GenericLines,16,\"Hello\\x20\\r!!!\\nHello\\x20\\r!!!\\n\")%r(HTT\n",
      "SF:POptions,28,\"Hello\\x20OPTIONS\\x20/\\x20HTTP/1\\.0\\r!!!\\nHello\\x20\\r!!!\\n\"\n",
      "SF:)%r(RTSPRequest,28,\"Hello\\x20OPTIONS\\x20/\\x20RTSP/1\\.0\\r!!!\\nHello\\x20\\\n",
      "SF:r!!!\\n\")%r(Help,F,\"Hello\\x20HELP\\r!!!\\n\")%r(SSLSessionReq,C,\"Hello\\x20\\\n",
      "SF:x16\\x03!!!\\n\")%r(TerminalServerCookie,B,\"Hello\\x20\\x03!!!\\n\")%r(TLSSess\n",
      "SF:ionReq,C,\"Hello\\x20\\x16\\x03!!!\\n\")%r(Kerberos,A,\"Hello\\x20!!!\\n\")%r(Fou\n",
      "SF:rOhFourRequest,47,\"Hello\\x20GET\\x20/nice%20ports%2C/Tri%6Eity\\.txt%2eba\n",
      "SF:k\\x20HTTP/1\\.0\\r!!!\\nHello\\x20\\r!!!\\n\")%r(LPDString,12,\"Hello\\x20\\x01de\n",
      "SF:fault!!!\\n\")%r(LDAPSearchReq,17,\"Hello\\x200\\x84!!!\\nHello\\x20\\x01!!!\\n\"\n",
      "SF:);\n",
      "MAC Address: 02:D2:98:C7:60:E7 (Unknown)\n",
      "Service Info: Host: GATEKEEPER; OS: Windows; CPE: cpe:/o:microsoft:windows\n",
      "\n",
      "Read data files from: /usr/bin/../share/nmap\n",
      "Service detection performed. Please report any incorrect results at https://nmap.org/submit/ .\n",
      "Nmap done: 1 IP address (1 host up) scanned in 170.16 seconds\n",
      "           Raw packets sent: 1077 (47.372KB) | Rcvd: 1001 (40.068KB)\n"
     ]
    }
   ],
   "source": [
    "!nmap -sV -Pn -vv -oA scans/no_ping/no_ping_scan $TARGET"
   ]
  },
  {
   "cell_type": "code",
   "execution_count": 13,
   "id": "0c0c1709-760c-41d8-9a88-3ce8cec580ed",
   "metadata": {},
   "outputs": [],
   "source": [
    "if not PING:\n",
    "    !nmap -sV -Pn -p- -vv -oA  scans/tcp/tcp_scan $TARGET"
   ]
  },
  {
   "cell_type": "markdown",
   "id": "113b941b-0872-48cc-9e5e-f98bb0f61ad2",
   "metadata": {},
   "source": [
    "# Run Default Scripts:"
   ]
  },
  {
   "cell_type": "code",
   "execution_count": 14,
   "id": "7272adf7-59fd-40c7-9f29-13edabfa0b24",
   "metadata": {
    "tags": []
   },
   "outputs": [
    {
     "name": "stdout",
     "output_type": "stream",
     "text": [
      "Starting Nmap 7.80 ( https://nmap.org ) at 2021-09-30 00:57 UTC\n",
      "NSE: Loaded 121 scripts for scanning.\n",
      "NSE: Script Pre-scanning.\n",
      "NSE: Starting runlevel 1 (of 2) scan.\n",
      "Initiating NSE at 00:57\n",
      "Completed NSE at 00:57, 0.00s elapsed\n",
      "NSE: Starting runlevel 2 (of 2) scan.\n",
      "Initiating NSE at 00:57\n",
      "Completed NSE at 00:57, 0.00s elapsed\n",
      "Initiating ARP Ping Scan at 00:57\n",
      "Scanning 10.10.207.10 [1 port]\n",
      "Completed ARP Ping Scan at 00:57, 0.03s elapsed (1 total hosts)\n",
      "Initiating Parallel DNS resolution of 1 host. at 00:57\n",
      "Completed Parallel DNS resolution of 1 host. at 00:57, 0.00s elapsed\n",
      "Initiating SYN Stealth Scan at 00:57\n",
      "Scanning ip-10-10-207-10.eu-west-1.compute.internal (10.10.207.10) [10 ports]\n",
      "Discovered open port 445/tcp on 10.10.207.10\n",
      "Discovered open port 139/tcp on 10.10.207.10\n",
      "Discovered open port 49160/tcp on 10.10.207.10\n",
      "Discovered open port 135/tcp on 10.10.207.10\n",
      "Discovered open port 31337/tcp on 10.10.207.10\n",
      "Discovered open port 49152/tcp on 10.10.207.10\n",
      "Discovered open port 49154/tcp on 10.10.207.10\n",
      "Discovered open port 49161/tcp on 10.10.207.10\n",
      "Discovered open port 49162/tcp on 10.10.207.10\n",
      "Discovered open port 49153/tcp on 10.10.207.10\n",
      "Completed SYN Stealth Scan at 00:57, 0.03s elapsed (10 total ports)\n",
      "NSE: Script scanning 10.10.207.10.\n",
      "NSE: Starting runlevel 1 (of 2) scan.\n",
      "Initiating NSE at 00:57\n",
      "NSE Timing: About 93.96% done; ETC: 00:58 (0:00:02 remaining)\n",
      "NSE Timing: About 94.86% done; ETC: 00:58 (0:00:03 remaining)\n",
      "NSE Timing: About 99.37% done; ETC: 00:59 (0:00:01 remaining)\n",
      "Completed NSE at 00:59, 98.06s elapsed\n",
      "NSE: Starting runlevel 2 (of 2) scan.\n",
      "Initiating NSE at 00:59\n",
      "Completed NSE at 00:59, 0.00s elapsed\n",
      "Nmap scan report for ip-10-10-207-10.eu-west-1.compute.internal (10.10.207.10)\n",
      "Host is up, received arp-response (0.00039s latency).\n",
      "Scanned at 2021-09-30 00:57:43 UTC for 99s\n",
      "\n",
      "PORT      STATE SERVICE      REASON\n",
      "135/tcp   open  msrpc        syn-ack ttl 128\n",
      "139/tcp   open  netbios-ssn  syn-ack ttl 128\n",
      "445/tcp   open  microsoft-ds syn-ack ttl 128\n",
      "31337/tcp open  Elite        syn-ack ttl 128\n",
      "49152/tcp open  unknown      syn-ack ttl 128\n",
      "49153/tcp open  unknown      syn-ack ttl 128\n",
      "49154/tcp open  unknown      syn-ack ttl 128\n",
      "49160/tcp open  unknown      syn-ack ttl 128\n",
      "49161/tcp open  unknown      syn-ack ttl 128\n",
      "49162/tcp open  unknown      syn-ack ttl 128\n",
      "MAC Address: 02:D2:98:C7:60:E7 (Unknown)\n",
      "\n",
      "Host script results:\n",
      "|_clock-skew: mean: 1h19m58s, deviation: 2h18m33s, median: -1s\n",
      "| nbstat: NetBIOS name: GATEKEEPER, NetBIOS user: <unknown>, NetBIOS MAC: 02:d2:98:c7:60:e7 (unknown)\n",
      "| Names:\n",
      "|   GATEKEEPER<00>       Flags: <unique><active>\n",
      "|   WORKGROUP<00>        Flags: <group><active>\n",
      "|   GATEKEEPER<20>       Flags: <unique><active>\n",
      "|   WORKGROUP<1e>        Flags: <group><active>\n",
      "|   WORKGROUP<1d>        Flags: <unique><active>\n",
      "|   \\x01\\x02__MSBROWSE__\\x02<01>  Flags: <group><active>\n",
      "| Statistics:\n",
      "|   02 d2 98 c7 60 e7 00 00 00 00 00 00 00 00 00 00 00\n",
      "|   00 00 00 00 00 00 00 00 00 00 00 00 00 00 00 00 00\n",
      "|_  00 00 00 00 00 00 00 00 00 00 00 00 00 00\n",
      "| p2p-conficker: \n",
      "|   Checking for Conficker.C or higher...\n",
      "|   Check 1 (port 50818/tcp): CLEAN (Couldn't connect)\n",
      "|   Check 2 (port 63663/tcp): CLEAN (Couldn't connect)\n",
      "|   Check 3 (port 54147/udp): CLEAN (Timeout)\n",
      "|   Check 4 (port 47281/udp): CLEAN (Failed to receive data)\n",
      "|_  0/4 checks are positive: Host is CLEAN or ports are blocked\n",
      "| smb-os-discovery: \n",
      "|   OS: Windows 7 Professional 7601 Service Pack 1 (Windows 7 Professional 6.1)\n",
      "|   OS CPE: cpe:/o:microsoft:windows_7::sp1:professional\n",
      "|   Computer name: gatekeeper\n",
      "|   NetBIOS computer name: GATEKEEPER\\x00\n",
      "|   Workgroup: WORKGROUP\\x00\n",
      "|_  System time: 2021-09-29T20:57:43-04:00\n",
      "| smb-security-mode: \n",
      "|   account_used: guest\n",
      "|   authentication_level: user\n",
      "|   challenge_response: supported\n",
      "|_  message_signing: disabled (dangerous, but default)\n",
      "| smb2-security-mode: \n",
      "|   2.02: \n",
      "|_    Message signing enabled but not required\n",
      "| smb2-time: \n",
      "|   date: 2021-09-30T00:57:43\n",
      "|_  start_date: 2021-09-30T00:35:44\n",
      "\n",
      "NSE: Script Post-scanning.\n",
      "NSE: Starting runlevel 1 (of 2) scan.\n",
      "Initiating NSE at 00:59\n",
      "Completed NSE at 00:59, 0.00s elapsed\n",
      "NSE: Starting runlevel 2 (of 2) scan.\n",
      "Initiating NSE at 00:59\n",
      "Completed NSE at 00:59, 0.00s elapsed\n",
      "Read data files from: /usr/bin/../share/nmap\n",
      "Nmap done: 1 IP address (1 host up) scanned in 98.75 seconds\n",
      "           Raw packets sent: 11 (468B) | Rcvd: 11 (468B)\n"
     ]
    }
   ],
   "source": [
    "if PING:\n",
    "    !nmap -sC -p $PORTS -vv -oA scans/scripts/script_scan $TARGET"
   ]
  },
  {
   "cell_type": "code",
   "execution_count": 15,
   "id": "02e9f294-d7e9-44a3-9350-6208c1fe90fc",
   "metadata": {
    "tags": []
   },
   "outputs": [
    {
     "name": "stdout",
     "output_type": "stream",
     "text": [
      "Starting Nmap 7.80 ( https://nmap.org ) at 2021-09-30 00:59 UTC\n",
      "NSE: Loaded 417 scripts for scanning.\n",
      "NSE: Script Pre-scanning.\n",
      "NSE: Starting runlevel 1 (of 3) scan.\n",
      "Initiating NSE at 00:59\n",
      "NSE: [shodan-api] Error: Please specify your ShodanAPI key with the shodan-api.apikey argument\n",
      "NSE: [targets-ipv6-map4to6] This script is IPv6 only.\n",
      "NSE: [broadcast-ataoe-discover] No interface supplied, use -e\n",
      "NSE: [mtrace] A source IP must be provided through fromip argument.\n",
      "NSE: [broadcast-sonicwall-discover] No network interface was supplied, aborting.\n",
      "NSE: [targets-xml] Need to supply a file name with the targets-xml.iX argument\n",
      "NSE: [targets-ipv6-wordlist] Need to be executed for IPv6.\n",
      "NSE: [url-snarf] no network interface was supplied, aborting ...\n",
      "too short\n",
      "NSE Timing: About 98.85% done; ETC: 00:59 (0:00:00 remaining)\n",
      "Completed NSE at 01:00, 40.04s elapsed\n",
      "NSE: Starting runlevel 2 (of 3) scan.\n",
      "Initiating NSE at 01:00\n",
      "Completed NSE at 01:00, 0.00s elapsed\n",
      "NSE: Starting runlevel 3 (of 3) scan.\n",
      "Initiating NSE at 01:00\n",
      "Completed NSE at 01:00, 0.00s elapsed\n",
      "Pre-scan script results:\n",
      "|_eap-info: please specify an interface with -e\n",
      "| targets-asn: \n",
      "|_  targets-asn.asn is a mandatory parameter\n",
      "Initiating ARP Ping Scan at 01:00\n",
      "Scanning 10.10.207.10 [1 port]\n",
      "Completed ARP Ping Scan at 01:00, 0.03s elapsed (1 total hosts)\n",
      "Initiating Parallel DNS resolution of 1 host. at 01:00\n",
      "Completed Parallel DNS resolution of 1 host. at 01:00, 0.00s elapsed\n",
      "Initiating SYN Stealth Scan at 01:00\n",
      "Scanning ip-10-10-207-10.eu-west-1.compute.internal (10.10.207.10) [1000 ports]\n",
      "Discovered open port 139/tcp on 10.10.207.10\n",
      "Discovered open port 135/tcp on 10.10.207.10\n",
      "Discovered open port 3389/tcp on 10.10.207.10\n",
      "Discovered open port 445/tcp on 10.10.207.10\n",
      "Increasing send delay for 10.10.207.10 from 0 to 5 due to 71 out of 177 dropped probes since last increase.\n",
      "Discovered open port 31337/tcp on 10.10.207.10\n",
      "Discovered open port 49153/tcp on 10.10.207.10\n",
      "Discovered open port 49161/tcp on 10.10.207.10\n",
      "Discovered open port 49160/tcp on 10.10.207.10\n",
      "Discovered open port 49152/tcp on 10.10.207.10\n",
      "Discovered open port 49154/tcp on 10.10.207.10\n",
      "Completed SYN Stealth Scan at 01:00, 5.21s elapsed (1000 total ports)\n",
      "Initiating Service scan at 01:00\n",
      "Scanning 10 services on ip-10-10-207-10.eu-west-1.compute.internal (10.10.207.10)\n",
      "Service scan Timing: About 40.00% done; ETC: 01:02 (0:01:20 remaining)\n",
      "Completed Service scan at 01:02, 156.13s elapsed (10 services on 1 host)\n",
      "Initiating OS detection (try #1) against ip-10-10-207-10.eu-west-1.compute.internal (10.10.207.10)\n",
      "Retrying OS detection (try #2) against ip-10-10-207-10.eu-west-1.compute.internal (10.10.207.10)\n",
      "NSE: Script scanning 10.10.207.10.\n",
      "NSE: Starting runlevel 1 (of 3) scan.\n",
      "Initiating NSE at 01:02\n",
      "NSE Timing: About 99.90% done; ETC: 01:03 (0:00:00 remaining)\n",
      "Completed NSE at 01:03, 51.09s elapsed\n",
      "NSE: Starting runlevel 2 (of 3) scan.\n",
      "Initiating NSE at 01:03\n"
     ]
    },
    {
     "name": "stderr",
     "output_type": "stream",
     "text": [
      "nmap: nse_nsock.cc:369: void callback(nsock_pool, nsock_event, void*): Assertion `lua_status(L) == LUA_YIELD' failed.\n"
     ]
    }
   ],
   "source": [
    "if PING:\n",
    "    !nmap -A -T5 -vv --script=default,safe,discovery $TARGET\n",
    "else:\n",
    "    !nmap -A -T5 -Pn -vv --script=default,safe,discovery $TARGET"
   ]
  },
  {
   "cell_type": "code",
   "execution_count": 16,
   "id": "bc3f5e71-3371-480a-862e-f734bce39e36",
   "metadata": {},
   "outputs": [
    {
     "name": "stdout",
     "output_type": "stream",
     "text": [
      "Starting Nmap 7.80 ( https://nmap.org ) at 2021-09-30 01:03 UTC\n",
      "NSE: Loaded 417 scripts for scanning.\n",
      "NSE: Script Pre-scanning.\n",
      "NSE: Starting runlevel 1 (of 3) scan.\n",
      "Initiating NSE at 01:03\n",
      "NSE: [broadcast-sonicwall-discover] No network interface was supplied, aborting.\n",
      "NSE: [targets-ipv6-wordlist] Need to be executed for IPv6.\n",
      "NSE: [url-snarf] no network interface was supplied, aborting ...\n",
      "NSE: [targets-xml] Need to supply a file name with the targets-xml.iX argument\n",
      "NSE: [mtrace] A source IP must be provided through fromip argument.\n",
      "NSE: [broadcast-ataoe-discover] No interface supplied, use -e\n",
      "NSE: [targets-ipv6-map4to6] This script is IPv6 only.\n",
      "NSE: [shodan-api] Error: Please specify your ShodanAPI key with the shodan-api.apikey argument\n",
      "too short\n",
      "NSE Timing: About 98.85% done; ETC: 01:04 (0:00:00 remaining)\n",
      "Completed NSE at 01:04, 40.03s elapsed\n",
      "NSE: Starting runlevel 2 (of 3) scan.\n",
      "Initiating NSE at 01:04\n",
      "Completed NSE at 01:04, 0.00s elapsed\n",
      "NSE: Starting runlevel 3 (of 3) scan.\n",
      "Initiating NSE at 01:04\n",
      "Completed NSE at 01:04, 0.00s elapsed\n",
      "Pre-scan script results:\n",
      "|_eap-info: please specify an interface with -e\n",
      "| targets-asn: \n",
      "|_  targets-asn.asn is a mandatory parameter\n",
      "Initiating ARP Ping Scan at 01:04\n",
      "Scanning 10.10.207.10 [1 port]\n",
      "Completed ARP Ping Scan at 01:04, 0.04s elapsed (1 total hosts)\n",
      "Initiating Parallel DNS resolution of 1 host. at 01:04\n",
      "Completed Parallel DNS resolution of 1 host. at 01:04, 0.00s elapsed\n",
      "Initiating SYN Stealth Scan at 01:04\n",
      "Scanning ip-10-10-207-10.eu-west-1.compute.internal (10.10.207.10) [1000 ports]\n",
      "Discovered open port 3389/tcp on 10.10.207.10\n",
      "Discovered open port 445/tcp on 10.10.207.10\n",
      "Discovered open port 135/tcp on 10.10.207.10\n",
      "Discovered open port 139/tcp on 10.10.207.10\n",
      "Discovered open port 49160/tcp on 10.10.207.10\n",
      "Increasing send delay for 10.10.207.10 from 0 to 5 due to 25 out of 81 dropped probes since last increase.\n",
      "Discovered open port 49161/tcp on 10.10.207.10\n",
      "Discovered open port 49153/tcp on 10.10.207.10\n",
      "Discovered open port 49154/tcp on 10.10.207.10\n",
      "Discovered open port 49152/tcp on 10.10.207.10\n",
      "Discovered open port 31337/tcp on 10.10.207.10\n",
      "Completed SYN Stealth Scan at 01:04, 5.75s elapsed (1000 total ports)\n",
      "Initiating Service scan at 01:04\n",
      "Scanning 10 services on ip-10-10-207-10.eu-west-1.compute.internal (10.10.207.10)\n",
      "Service scan Timing: About 50.00% done; ETC: 01:06 (0:00:54 remaining)\n",
      "Completed Service scan at 01:07, 156.14s elapsed (10 services on 1 host)\n",
      "Initiating OS detection (try #1) against ip-10-10-207-10.eu-west-1.compute.internal (10.10.207.10)\n",
      "Retrying OS detection (try #2) against ip-10-10-207-10.eu-west-1.compute.internal (10.10.207.10)\n",
      "Retrying OS detection (try #3) against ip-10-10-207-10.eu-west-1.compute.internal (10.10.207.10)\n",
      "Retrying OS detection (try #4) against ip-10-10-207-10.eu-west-1.compute.internal (10.10.207.10)\n",
      "Retrying OS detection (try #5) against ip-10-10-207-10.eu-west-1.compute.internal (10.10.207.10)\n",
      "NSE: Script scanning 10.10.207.10.\n",
      "NSE: Starting runlevel 1 (of 3) scan.\n",
      "Initiating NSE at 01:07\n",
      "NSE Timing: About 99.86% done; ETC: 01:07 (0:00:00 remaining)\n",
      "Completed NSE at 01:08, 52.61s elapsed\n",
      "NSE: Starting runlevel 2 (of 3) scan.\n",
      "Initiating NSE at 01:08\n"
     ]
    },
    {
     "name": "stderr",
     "output_type": "stream",
     "text": [
      "nmap: nse_nsock.cc:369: void callback(nsock_pool, nsock_event, void*): Assertion `lua_status(L) == LUA_YIELD' failed.\n"
     ]
    }
   ],
   "source": [
    "if PING:\n",
    "    !nmap -A -T3 -vv --script=default,safe,discovery $TARGET\n",
    "else:\n",
    "    !nmap -A -T3 -Pn -vv --script=default,safe,discovery $TARGET"
   ]
  },
  {
   "cell_type": "code",
   "execution_count": null,
   "id": "51258c10-e060-403b-bbb5-853787cd6646",
   "metadata": {
    "tags": []
   },
   "outputs": [],
   "source": [
    "from getpass import getpass\n",
    "import os\n",
    "\n",
    "if PING:\n",
    "    !echo { getpass() } | sudo -S nmap -A -p- -T5 -vv --script=default,safe,discovery {os.environ['TARGET']}\n",
    "else:\n",
    "    !echo { getpass() } | sudo -S nmap -A -p- -Pn -T5 -vv --script=default,safe,discovery {os.environ['TARGET']}"
   ]
  },
  {
   "cell_type": "code",
   "execution_count": null,
   "id": "d98487c6-24cb-4ad3-a531-a92462446320",
   "metadata": {},
   "outputs": [],
   "source": [
    "# UDP Scan, this takes forever...\n",
    "\n",
    "# from getpass import getpass\n",
    "\n",
    "# !echo { getpass() } > tmp.txt\n",
    "# !cat tmp.txt | sudo -S nmap -sU --open -oA scans/udp/udp_scan $TARGET\n",
    "# !cat tmp.txt | sudo -S nmap -sU --open -p- -oA scans/udp/udp_scan $TARGET\n",
    "# !rm -rf tmp.txt"
   ]
  },
  {
   "cell_type": "code",
   "execution_count": null,
   "id": "f0761438-2418-4c06-9e0f-fb1387cbb50b",
   "metadata": {},
   "outputs": [],
   "source": []
  }
 ],
 "metadata": {
  "kernelspec": {
   "display_name": "Python 3 (ipykernel)",
   "language": "python",
   "name": "python3"
  },
  "language_info": {
   "codemirror_mode": {
    "name": "ipython",
    "version": 3
   },
   "file_extension": ".py",
   "mimetype": "text/x-python",
   "name": "python",
   "nbconvert_exporter": "python",
   "pygments_lexer": "ipython3",
   "version": "3.9.5"
  }
 },
 "nbformat": 4,
 "nbformat_minor": 5
}
