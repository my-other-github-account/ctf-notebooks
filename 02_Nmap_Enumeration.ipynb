{
 "cells": [
  {
   "cell_type": "markdown",
   "id": "de36d110-c319-4d9c-87f7-d534ab7d8e02",
   "metadata": {},
   "source": [
    "# Setup/Test Environment:"
   ]
  },
  {
   "cell_type": "code",
   "execution_count": 1,
   "id": "f6716cd2-9223-40a5-b252-7a98ca055038",
   "metadata": {},
   "outputs": [],
   "source": [
    "from web_footprinting_utils import setup_ipython\n",
    "import os\n",
    "\n",
    "get_ipython, INTERACTIVE = setup_ipython()"
   ]
  },
  {
   "cell_type": "code",
   "execution_count": 2,
   "id": "708723bd-df9b-4d54-91a0-713b0c3b03da",
   "metadata": {},
   "outputs": [
    {
     "name": "stdout",
     "output_type": "stream",
     "text": [
      "env: TARGET=10.10.220.12\n"
     ]
    }
   ],
   "source": [
    "%env TARGET=10.10.220.12"
   ]
  },
  {
   "cell_type": "code",
   "execution_count": 3,
   "id": "9cee99d5-c5d0-4ea4-9dd6-c7dd897edbe7",
   "metadata": {},
   "outputs": [
    {
     "name": "stdout",
     "output_type": "stream",
     "text": [
      "Make sure we are connected to VPN:\n",
      "Not connected!\n"
     ]
    },
    {
     "name": "stdin",
     "output_type": "stream",
     "text": [
      " \n"
     ]
    }
   ],
   "source": [
    "!echo Make sure we are connected to VPN:\n",
    "result = !ip a | grep tun0\n",
    "\n",
    "if not len(result)>0:\n",
    "    print(\"Not connected!\")\n",
    "    input()\n",
    "else:\n",
    "    print(\"Connected!\")\n",
    "    print(result)"
   ]
  },
  {
   "cell_type": "markdown",
   "id": "3ffd0caa-c820-41c6-88c2-dc30830ae6f0",
   "metadata": {},
   "source": [
    "# Initial (Unreliable) RustScan:"
   ]
  },
  {
   "cell_type": "code",
   "execution_count": 4,
   "id": "98747dd7-c941-49e4-8a28-6a5d81411a08",
   "metadata": {},
   "outputs": [],
   "source": [
    "import os\n",
    "pwd = os.getcwd()\n",
    "rustscan = \"docker run -v '%s':/workspace  --volume /etc/passwd:/etc/passwd:ro --volume /etc/group:/etc/group:ro --user $(id -u) --rm my-other-github-account/rustscan\" % pwd"
   ]
  },
  {
   "cell_type": "code",
   "execution_count": 5,
   "id": "d4ea8a20-0c2b-4875-b738-5b2591551651",
   "metadata": {},
   "outputs": [
    {
     "name": "stderr",
     "output_type": "stream",
     "text": [
      "Unable to find image 'dnola/rustscan:latest' locally\n",
      "docker: Error response from daemon: pull access denied for dnola/rustscan, repository does not exist or may require 'docker login': denied: requested access to the resource is denied.\n",
      "See 'docker run --help'.\n"
     ]
    }
   ],
   "source": [
    "!{rustscan} -t 4000 -r 1-65535 -a {os.environ[\"TARGET\"]} -- -Pn -A -sV"
   ]
  },
  {
   "cell_type": "markdown",
   "id": "d464182d-eb92-4ea0-8a58-80b7b466334f",
   "metadata": {},
   "source": [
    "# Initial Nmap:"
   ]
  },
  {
   "cell_type": "code",
   "execution_count": 6,
   "id": "f1753b94-01fd-49a1-a896-e392821c021b",
   "metadata": {},
   "outputs": [
    {
     "name": "stdout",
     "output_type": "stream",
     "text": [
      "10.10.220.12\n"
     ]
    }
   ],
   "source": [
    "!echo $TARGET\n",
    "!mkdir -p scans/quick scans/tcp scans/udp scans/scripts scans/http scans/no_ping"
   ]
  },
  {
   "cell_type": "code",
   "execution_count": 7,
   "id": "79245048-a43c-4c50-94c3-4273e1009748",
   "metadata": {},
   "outputs": [
    {
     "name": "stdout",
     "output_type": "stream",
     "text": [
      "PING 10.10.220.12 (10.10.220.12) 56(84) bytes of data.\n",
      "\n",
      "--- 10.10.220.12 ping statistics ---\n",
      "5 packets transmitted, 0 received, 100% packet loss, time 4093ms\n",
      "\n"
     ]
    }
   ],
   "source": [
    "!ping -c 5 $TARGET"
   ]
  },
  {
   "cell_type": "markdown",
   "id": "58fac4d4-d06d-4ba8-aad3-97517c296720",
   "metadata": {},
   "source": [
    "# Quick Scan:"
   ]
  },
  {
   "cell_type": "code",
   "execution_count": 8,
   "id": "e2744cff-ebab-4506-9bc8-a8eb8d1eb4b4",
   "metadata": {},
   "outputs": [
    {
     "name": "stdout",
     "output_type": "stream",
     "text": [
      "\n",
      "Starting Nmap 7.60 ( https://nmap.org ) at 2021-09-26 18:24 BST\n",
      "Initiating ARP Ping Scan at 18:24\n",
      "Scanning 10.10.220.12 [1 port]\n",
      "Completed ARP Ping Scan at 18:24, 0.22s elapsed (1 total hosts)\n",
      "Initiating Parallel DNS resolution of 1 host. at 18:24\n",
      "Completed Parallel DNS resolution of 1 host. at 18:24, 0.00s elapsed\n",
      "Initiating SYN Stealth Scan at 18:24\n",
      "Scanning ip-10-10-220-12.eu-west-1.compute.internal (10.10.220.12) [1000 ports]\n",
      "Discovered open port 3389/tcp on 10.10.220.12\n",
      "Discovered open port 21/tcp on 10.10.220.12\n",
      "Discovered open port 9999/tcp on 10.10.220.12\n",
      "Completed SYN Stealth Scan at 18:24, 7.56s elapsed (1000 total ports)\n",
      "Nmap scan report for ip-10-10-220-12.eu-west-1.compute.internal (10.10.220.12)\n",
      "Host is up, received arp-response (0.00033s latency).\n",
      "Scanned at 2021-09-26 18:24:17 BST for 8s\n",
      "Not shown: 997 filtered ports\n",
      "Reason: 997 no-responses\n",
      "PORT     STATE SERVICE       REASON\n",
      "21/tcp   open  ftp           syn-ack ttl 128\n",
      "3389/tcp open  ms-wbt-server syn-ack ttl 128\n",
      "9999/tcp open  abyss         syn-ack ttl 128\n",
      "MAC Address: 02:EF:4F:0D:3F:A9 (Unknown)\n",
      "\n",
      "Read data files from: /usr/bin/../share/nmap\n",
      "Nmap done: 1 IP address (1 host up) scanned in 7.92 seconds\n",
      "           Raw packets sent: 2002 (88.072KB) | Rcvd: 7 (292B)\n"
     ]
    }
   ],
   "source": [
    "!nmap -vv -oA scans/quick/quick_scan $TARGET"
   ]
  },
  {
   "cell_type": "markdown",
   "id": "e915b5ee-4f66-402b-9d64-96ca11fa9f7a",
   "metadata": {},
   "source": [
    "# All Ports:"
   ]
  },
  {
   "cell_type": "code",
   "execution_count": 9,
   "id": "5e8c4f02-afa3-49cc-9fdf-bfcac2e4b58b",
   "metadata": {},
   "outputs": [
    {
     "name": "stdout",
     "output_type": "stream",
     "text": [
      "\n",
      "Starting Nmap 7.60 ( https://nmap.org ) at 2021-09-26 18:24 BST\n",
      "NSE: Loaded 42 scripts for scanning.\n",
      "Initiating ARP Ping Scan at 18:24\n",
      "Scanning 10.10.220.12 [1 port]\n",
      "Completed ARP Ping Scan at 18:24, 0.23s elapsed (1 total hosts)\n",
      "Initiating Parallel DNS resolution of 1 host. at 18:24\n",
      "Completed Parallel DNS resolution of 1 host. at 18:24, 0.00s elapsed\n",
      "Initiating SYN Stealth Scan at 18:24\n",
      "Scanning ip-10-10-220-12.eu-west-1.compute.internal (10.10.220.12) [65535 ports]\n",
      "Discovered open port 3389/tcp on 10.10.220.12\n",
      "Discovered open port 21/tcp on 10.10.220.12\n",
      "Increasing send delay for 10.10.220.12 from 0 to 5 due to 11 out of 30 dropped probes since last increase.\n",
      "SYN Stealth Scan Timing: About 4.36% done; ETC: 18:36 (0:11:20 remaining)\n",
      "Increasing send delay for 10.10.220.12 from 5 to 10 due to 11 out of 29 dropped probes since last increase.\n",
      "SYN Stealth Scan Timing: About 6.31% done; ETC: 18:40 (0:15:06 remaining)\n",
      "Increasing send delay for 10.10.220.12 from 10 to 20 due to 11 out of 31 dropped probes since last increase.\n",
      "SYN Stealth Scan Timing: About 7.39% done; ETC: 18:44 (0:19:00 remaining)\n",
      "Increasing send delay for 10.10.220.12 from 20 to 40 due to 11 out of 31 dropped probes since last increase.\n",
      "SYN Stealth Scan Timing: About 7.95% done; ETC: 18:49 (0:23:21 remaining)\n",
      "Increasing send delay for 10.10.220.12 from 40 to 80 due to 11 out of 32 dropped probes since last increase.\n",
      "SYN Stealth Scan Timing: About 8.24% done; ETC: 18:54 (0:28:01 remaining)\n",
      "SYN Stealth Scan Timing: About 8.51% done; ETC: 18:59 (0:32:26 remaining)\n",
      "SYN Stealth Scan Timing: About 8.78% done; ETC: 19:04 (0:36:33 remaining)\n",
      "SYN Stealth Scan Timing: About 9.04% done; ETC: 19:08 (0:40:24 remaining)\n",
      "SYN Stealth Scan Timing: About 9.31% done; ETC: 19:12 (0:44:00 remaining)\n",
      "SYN Stealth Scan Timing: About 9.58% done; ETC: 19:16 (0:47:23 remaining)\n",
      "SYN Stealth Scan Timing: About 9.84% done; ETC: 19:20 (0:50:32 remaining)\n",
      "SYN Stealth Scan Timing: About 10.11% done; ETC: 19:23 (0:53:30 remaining)\n",
      "SYN Stealth Scan Timing: About 10.40% done; ETC: 19:27 (0:56:34 remaining)\n",
      "SYN Stealth Scan Timing: About 10.75% done; ETC: 19:31 (0:59:55 remaining)\n",
      "SYN Stealth Scan Timing: About 11.15% done; ETC: 19:35 (1:03:30 remaining)\n",
      "SYN Stealth Scan Timing: About 11.60% done; ETC: 19:40 (1:07:11 remaining)\n",
      "SYN Stealth Scan Timing: About 12.13% done; ETC: 19:45 (1:11:05 remaining)\n",
      "SYN Stealth Scan Timing: About 12.77% done; ETC: 19:50 (1:15:14 remaining)\n"
     ]
    },
    {
     "name": "stderr",
     "output_type": "stream",
     "text": [
      "\n",
      "KeyboardInterrupt\n",
      "\n"
     ]
    }
   ],
   "source": [
    "!nmap -p- -sV -vv -oA  scans/tcp/tcp_scan $TARGET"
   ]
  },
  {
   "cell_type": "code",
   "execution_count": 10,
   "id": "d0d57d0d-a030-4a33-af05-6ec2541ad6c5",
   "metadata": {},
   "outputs": [
    {
     "ename": "ExpatError",
     "evalue": "no element found: line 32, column 0",
     "output_type": "error",
     "traceback": [
      "\u001b[0;31m---------------------------------------------------------------------------\u001b[0m",
      "\u001b[0;31mExpatError\u001b[0m                                Traceback (most recent call last)",
      "\u001b[0;32m/tmp/ipykernel_11083/3389005101.py\u001b[0m in \u001b[0;36m<module>\u001b[0;34m\u001b[0m\n\u001b[1;32m      2\u001b[0m \u001b[0;34m\u001b[0m\u001b[0m\n\u001b[1;32m      3\u001b[0m \u001b[0;32mwith\u001b[0m \u001b[0mopen\u001b[0m\u001b[0;34m(\u001b[0m\u001b[0;34m'scans/tcp/tcp_scan.xml'\u001b[0m\u001b[0;34m,\u001b[0m\u001b[0;34m'r'\u001b[0m\u001b[0;34m)\u001b[0m \u001b[0;32mas\u001b[0m \u001b[0mf\u001b[0m\u001b[0;34m:\u001b[0m\u001b[0;34m\u001b[0m\u001b[0;34m\u001b[0m\u001b[0m\n\u001b[0;32m----> 4\u001b[0;31m     \u001b[0mxml_dict\u001b[0m \u001b[0;34m=\u001b[0m \u001b[0mxmltodict\u001b[0m\u001b[0;34m.\u001b[0m\u001b[0mparse\u001b[0m\u001b[0;34m(\u001b[0m\u001b[0mf\u001b[0m\u001b[0;34m.\u001b[0m\u001b[0mread\u001b[0m\u001b[0;34m(\u001b[0m\u001b[0;34m)\u001b[0m\u001b[0;34m)\u001b[0m\u001b[0;34m\u001b[0m\u001b[0;34m\u001b[0m\u001b[0m\n\u001b[0m",
      "\u001b[0;32m~/miniconda/lib/python3.9/site-packages/xmltodict.py\u001b[0m in \u001b[0;36mparse\u001b[0;34m(xml_input, encoding, expat, process_namespaces, namespace_separator, disable_entities, **kwargs)\u001b[0m\n\u001b[1;32m    325\u001b[0m         \u001b[0mparser\u001b[0m\u001b[0;34m.\u001b[0m\u001b[0mParseFile\u001b[0m\u001b[0;34m(\u001b[0m\u001b[0mxml_input\u001b[0m\u001b[0;34m)\u001b[0m\u001b[0;34m\u001b[0m\u001b[0;34m\u001b[0m\u001b[0m\n\u001b[1;32m    326\u001b[0m     \u001b[0;32melse\u001b[0m\u001b[0;34m:\u001b[0m\u001b[0;34m\u001b[0m\u001b[0;34m\u001b[0m\u001b[0m\n\u001b[0;32m--> 327\u001b[0;31m         \u001b[0mparser\u001b[0m\u001b[0;34m.\u001b[0m\u001b[0mParse\u001b[0m\u001b[0;34m(\u001b[0m\u001b[0mxml_input\u001b[0m\u001b[0;34m,\u001b[0m \u001b[0;32mTrue\u001b[0m\u001b[0;34m)\u001b[0m\u001b[0;34m\u001b[0m\u001b[0;34m\u001b[0m\u001b[0m\n\u001b[0m\u001b[1;32m    328\u001b[0m     \u001b[0;32mreturn\u001b[0m \u001b[0mhandler\u001b[0m\u001b[0;34m.\u001b[0m\u001b[0mitem\u001b[0m\u001b[0;34m\u001b[0m\u001b[0;34m\u001b[0m\u001b[0m\n\u001b[1;32m    329\u001b[0m \u001b[0;34m\u001b[0m\u001b[0m\n",
      "\u001b[0;31mExpatError\u001b[0m: no element found: line 32, column 0"
     ]
    }
   ],
   "source": [
    "import xmltodict\n",
    "\n",
    "with open('scans/tcp/tcp_scan.xml','r') as f:\n",
    "    xml_dict = xmltodict.parse(f.read())"
   ]
  },
  {
   "cell_type": "code",
   "execution_count": 11,
   "id": "da453ac6-0dc4-425f-aef4-b7a95c6c3505",
   "metadata": {},
   "outputs": [
    {
     "name": "stdout",
     "output_type": "stream",
     "text": [
      "Host is down\n"
     ]
    }
   ],
   "source": [
    "PING=True\n",
    "try:\n",
    "    port_list = [port['@portid'] for port in xml_dict['nmaprun']['host']['ports']['port']]\n",
    "    %env PORTS={\",\".join(port_list)}\n",
    "except:\n",
    "    print(\"Host is down\")\n",
    "    PING=False"
   ]
  },
  {
   "cell_type": "markdown",
   "id": "6c676c86-fec5-476c-9ca3-a32dcf99e420",
   "metadata": {},
   "source": [
    "# No Ping:"
   ]
  },
  {
   "cell_type": "code",
   "execution_count": 12,
   "id": "75c4ce70-909e-44a1-9325-30006ae51e5c",
   "metadata": {},
   "outputs": [
    {
     "name": "stdout",
     "output_type": "stream",
     "text": [
      "\n",
      "Starting Nmap 7.60 ( https://nmap.org ) at 2021-09-26 18:35 BST\n",
      "NSE: Loaded 42 scripts for scanning.\n",
      "Initiating ARP Ping Scan at 18:35\n",
      "Scanning 10.10.220.12 [1 port]\n",
      "Completed ARP Ping Scan at 18:35, 0.22s elapsed (1 total hosts)\n",
      "Initiating Parallel DNS resolution of 1 host. at 18:35\n",
      "Completed Parallel DNS resolution of 1 host. at 18:35, 0.12s elapsed\n",
      "Initiating SYN Stealth Scan at 18:35\n",
      "Scanning ip-10-10-220-12.eu-west-1.compute.internal (10.10.220.12) [1000 ports]\n",
      "Discovered open port 21/tcp on 10.10.220.12\n",
      "Discovered open port 9999/tcp on 10.10.220.12\n",
      "Completed SYN Stealth Scan at 18:35, 17.02s elapsed (1000 total ports)\n",
      "Initiating Service scan at 18:35\n"
     ]
    },
    {
     "name": "stderr",
     "output_type": "stream",
     "text": [
      "\n",
      "KeyboardInterrupt\n",
      "\n"
     ]
    }
   ],
   "source": [
    "!nmap -sV -Pn -vv -oA scans/no_ping/no_ping_scan $TARGET"
   ]
  },
  {
   "cell_type": "code",
   "execution_count": null,
   "id": "0c0c1709-760c-41d8-9a88-3ce8cec580ed",
   "metadata": {},
   "outputs": [
    {
     "name": "stdout",
     "output_type": "stream",
     "text": [
      "\n",
      "Starting Nmap 7.60 ( https://nmap.org ) at 2021-09-26 18:36 BST\n",
      "NSE: Loaded 42 scripts for scanning.\n",
      "Initiating ARP Ping Scan at 18:36\n",
      "Scanning 10.10.220.12 [1 port]\n",
      "Completed ARP Ping Scan at 18:36, 0.22s elapsed (1 total hosts)\n",
      "Initiating Parallel DNS resolution of 1 host. at 18:36\n",
      "Completed Parallel DNS resolution of 1 host. at 18:36, 0.00s elapsed\n",
      "Initiating SYN Stealth Scan at 18:36\n",
      "Scanning ip-10-10-220-12.eu-west-1.compute.internal (10.10.220.12) [65535 ports]\n",
      "Discovered open port 21/tcp on 10.10.220.12\n",
      "Increasing send delay for 10.10.220.12 from 0 to 5 due to 11 out of 32 dropped probes since last increase.\n",
      "SYN Stealth Scan Timing: About 2.93% done; ETC: 18:53 (0:17:08 remaining)\n",
      "Increasing send delay for 10.10.220.12 from 5 to 10 due to 11 out of 27 dropped probes since last increase.\n",
      "SYN Stealth Scan Timing: About 4.50% done; ETC: 18:58 (0:21:36 remaining)\n",
      "SYN Stealth Scan Timing: About 5.65% done; ETC: 19:02 (0:25:21 remaining)\n",
      "SYN Stealth Scan Timing: About 6.85% done; ETC: 19:05 (0:27:25 remaining)\n",
      "SYN Stealth Scan Timing: About 8.11% done; ETC: 19:07 (0:29:04 remaining)\n",
      "SYN Stealth Scan Timing: About 10.15% done; ETC: 19:10 (0:30:42 remaining)\n",
      "SYN Stealth Scan Timing: About 28.56% done; ETC: 19:16 (0:28:56 remaining)\n",
      "SYN Stealth Scan Timing: About 34.98% done; ETC: 19:17 (0:26:54 remaining)\n",
      "SYN Stealth Scan Timing: About 40.46% done; ETC: 19:17 (0:24:49 remaining)\n",
      "SYN Stealth Scan Timing: About 46.09% done; ETC: 19:18 (0:22:42 remaining)\n",
      "SYN Stealth Scan Timing: About 51.58% done; ETC: 19:18 (0:20:34 remaining)\n",
      "SYN Stealth Scan Timing: About 56.89% done; ETC: 19:18 (0:18:26 remaining)\n",
      "SYN Stealth Scan Timing: About 62.03% done; ETC: 19:18 (0:16:17 remaining)\n",
      "SYN Stealth Scan Timing: About 67.21% done; ETC: 19:19 (0:14:08 remaining)\n",
      "SYN Stealth Scan Timing: About 72.35% done; ETC: 19:19 (0:11:58 remaining)\n",
      "SYN Stealth Scan Timing: About 77.48% done; ETC: 19:19 (0:09:47 remaining)\n",
      "SYN Stealth Scan Timing: About 82.57% done; ETC: 19:19 (0:07:35 remaining)\n",
      "Discovered open port 9999/tcp on 10.10.220.12\n",
      "SYN Stealth Scan Timing: About 87.70% done; ETC: 19:19 (0:05:22 remaining)\n",
      "SYN Stealth Scan Timing: About 92.78% done; ETC: 19:19 (0:03:09 remaining)\n"
     ]
    }
   ],
   "source": [
    "if not PING:\n",
    "    !nmap -sV -Pn -p- -vv -oA  scans/tcp/tcp_scan $TARGET"
   ]
  },
  {
   "cell_type": "markdown",
   "id": "113b941b-0872-48cc-9e5e-f98bb0f61ad2",
   "metadata": {},
   "source": [
    "# Run Default Scripts:"
   ]
  },
  {
   "cell_type": "code",
   "execution_count": null,
   "id": "7272adf7-59fd-40c7-9f29-13edabfa0b24",
   "metadata": {
    "tags": []
   },
   "outputs": [],
   "source": [
    "if PING:\n",
    "    !nmap -sC -p $PORTS -vv -oA scans/scripts/script_scan $TARGET"
   ]
  },
  {
   "cell_type": "code",
   "execution_count": null,
   "id": "02e9f294-d7e9-44a3-9350-6208c1fe90fc",
   "metadata": {
    "tags": []
   },
   "outputs": [],
   "source": [
    "if PING:\n",
    "    !nmap -A -T5 -vv --script=default,safe,discovery $TARGET\n",
    "else:\n",
    "    !nmap -A -T5 -Pn -vv --script=default,safe,discovery $TARGET"
   ]
  },
  {
   "cell_type": "code",
   "execution_count": null,
   "id": "bc3f5e71-3371-480a-862e-f734bce39e36",
   "metadata": {},
   "outputs": [],
   "source": [
    "if PING:\n",
    "    !nmap -A -T3 -vv --script=default,safe,discovery $TARGET\n",
    "else:\n",
    "    !nmap -A -T3 -Pn -vv --script=default,safe,discovery $TARGET"
   ]
  },
  {
   "cell_type": "code",
   "execution_count": null,
   "id": "51258c10-e060-403b-bbb5-853787cd6646",
   "metadata": {
    "tags": []
   },
   "outputs": [],
   "source": [
    "from getpass import getpass\n",
    "import os\n",
    "\n",
    "if PING:\n",
    "    !echo { getpass() } | sudo -S nmap -A -p- -T5 -vv --script=default,safe,discovery {os.environ['TARGET']}\n",
    "else:\n",
    "    !echo { getpass() } | sudo -S nmap -A -p- -Pn -T5 -vv --script=default,safe,discovery {os.environ['TARGET']}"
   ]
  },
  {
   "cell_type": "code",
   "execution_count": null,
   "id": "d98487c6-24cb-4ad3-a531-a92462446320",
   "metadata": {},
   "outputs": [],
   "source": [
    "# UDP Scan, this takes forever...\n",
    "\n",
    "# from getpass import getpass\n",
    "\n",
    "# !echo { getpass() } > tmp.txt\n",
    "# !cat tmp.txt | sudo -S nmap -sU --open -oA scans/udp/udp_scan $TARGET\n",
    "# !cat tmp.txt | sudo -S nmap -sU --open -p- -oA scans/udp/udp_scan $TARGET\n",
    "# !rm -rf tmp.txt"
   ]
  },
  {
   "cell_type": "code",
   "execution_count": null,
   "id": "f0761438-2418-4c06-9e0f-fb1387cbb50b",
   "metadata": {},
   "outputs": [],
   "source": []
  }
 ],
 "metadata": {
  "kernelspec": {
   "display_name": "Python 3 (ipykernel)",
   "language": "python",
   "name": "python3"
  },
  "language_info": {
   "codemirror_mode": {
    "name": "ipython",
    "version": 3
   },
   "file_extension": ".py",
   "mimetype": "text/x-python",
   "name": "python",
   "nbconvert_exporter": "python",
   "pygments_lexer": "ipython3",
   "version": "3.9.5"
  }
 },
 "nbformat": 4,
 "nbformat_minor": 5
}
