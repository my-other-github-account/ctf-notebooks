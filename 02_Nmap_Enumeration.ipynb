{
 "cells": [
  {
   "cell_type": "markdown",
   "id": "a4e5759e-e288-40b9-84f8-da4d512b51a1",
   "metadata": {},
   "source": [
    "# ASSIGNMENT:"
   ]
  },
  {
   "cell_type": "markdown",
   "id": "de36d110-c319-4d9c-87f7-d534ab7d8e02",
   "metadata": {},
   "source": [
    "# Setup/Test Environment:"
   ]
  },
  {
   "cell_type": "code",
   "execution_count": 1,
   "id": "f6716cd2-9223-40a5-b252-7a98ca055038",
   "metadata": {},
   "outputs": [],
   "source": [
    "from web_footprinting_utils import setup_ipython\n",
    "import os\n",
    "\n",
    "get_ipython, INTERACTIVE = setup_ipython()"
   ]
  },
  {
   "cell_type": "code",
   "execution_count": 2,
   "id": "29319d52-32e4-4641-9a05-43c632df175e",
   "metadata": {},
   "outputs": [
    {
     "data": {
      "text/plain": [
       "'/usr/bin/python3'"
      ]
     },
     "execution_count": 2,
     "metadata": {},
     "output_type": "execute_result"
    }
   ],
   "source": [
    "import sys\n",
    "sys.executable"
   ]
  },
  {
   "cell_type": "code",
   "execution_count": 3,
   "id": "708723bd-df9b-4d54-91a0-713b0c3b03da",
   "metadata": {},
   "outputs": [
    {
     "name": "stdout",
     "output_type": "stream",
     "text": [
      "env: TARGET=10.11.1.74\n"
     ]
    }
   ],
   "source": [
    "%env TARGET=10.11.1.74"
   ]
  },
  {
   "cell_type": "code",
   "execution_count": 4,
   "id": "9cee99d5-c5d0-4ea4-9dd6-c7dd897edbe7",
   "metadata": {},
   "outputs": [
    {
     "name": "stdout",
     "output_type": "stream",
     "text": [
      "Make sure we are connected to VPN:\n",
      "Not connected!\n"
     ]
    }
   ],
   "source": [
    "!echo Make sure we are connected to VPN:\n",
    "result = !ip a | grep ppp\n",
    "\n",
    "if not len(result)>0:\n",
    "    print(\"Not connected!\")\n",
    "#     input()\n",
    "else:\n",
    "    print(\"Connected!\")\n",
    "    print(result)"
   ]
  },
  {
   "cell_type": "markdown",
   "id": "3ffd0caa-c820-41c6-88c2-dc30830ae6f0",
   "metadata": {},
   "source": [
    "# Initial (Unreliable) RustScan:"
   ]
  },
  {
   "cell_type": "code",
   "execution_count": 5,
   "id": "98747dd7-c941-49e4-8a28-6a5d81411a08",
   "metadata": {},
   "outputs": [],
   "source": [
    "import os\n",
    "pwd = os.getcwd()\n",
    "rustscan = \"docker run -v '%s':/workspace  --volume /etc/passwd:/etc/passwd:ro --volume /etc/group:/etc/group:ro --user $(id -u) --rm my-other-github-account/rustscan\" % pwd"
   ]
  },
  {
   "cell_type": "code",
   "execution_count": 6,
   "id": "d4ea8a20-0c2b-4875-b738-5b2591551651",
   "metadata": {},
   "outputs": [
    {
     "name": "stderr",
     "output_type": "stream",
     "text": [
      "Unable to find image 'my-other-github-account/rustscan:latest' locally\n",
      "docker: Error response from daemon: pull access denied for my-other-github-account/rustscan, repository does not exist or may require 'docker login': denied: requested access to the resource is denied.\n",
      "See 'docker run --help'.\n"
     ]
    }
   ],
   "source": [
    "!{rustscan} -t 4000 -r 1-65535 -a {os.environ[\"TARGET\"]} -- -Pn -A -sV"
   ]
  },
  {
   "cell_type": "markdown",
   "id": "d464182d-eb92-4ea0-8a58-80b7b466334f",
   "metadata": {},
   "source": [
    "# Initial Nmap:"
   ]
  },
  {
   "cell_type": "code",
   "execution_count": 7,
   "id": "f1753b94-01fd-49a1-a896-e392821c021b",
   "metadata": {},
   "outputs": [
    {
     "name": "stdout",
     "output_type": "stream",
     "text": [
      "10.11.1.74\n"
     ]
    }
   ],
   "source": [
    "!echo $TARGET\n",
    "!mkdir -p scans/quick scans/tcp scans/udp scans/scripts scans/http scans/no_ping"
   ]
  },
  {
   "cell_type": "code",
   "execution_count": 8,
   "id": "79245048-a43c-4c50-94c3-4273e1009748",
   "metadata": {},
   "outputs": [
    {
     "name": "stdout",
     "output_type": "stream",
     "text": [
      "PING 10.11.1.74 (10.11.1.74) 56(84) bytes of data.\n",
      "64 bytes from 10.11.1.74: icmp_seq=1 ttl=63 time=1142 ms\n",
      "64 bytes from 10.11.1.74: icmp_seq=2 ttl=63 time=203 ms\n",
      "64 bytes from 10.11.1.74: icmp_seq=3 ttl=63 time=312 ms\n",
      "\n",
      "--- 10.11.1.74 ping statistics ---\n",
      "5 packets transmitted, 3 received, 40% packet loss, time 4012ms\n",
      "rtt min/avg/max/mdev = 202.840/552.251/1141.610/419.128 ms, pipe 2\n"
     ]
    }
   ],
   "source": [
    "!ping -c 5 $TARGET"
   ]
  },
  {
   "cell_type": "markdown",
   "id": "58fac4d4-d06d-4ba8-aad3-97517c296720",
   "metadata": {},
   "source": [
    "# Quick Scan:"
   ]
  },
  {
   "cell_type": "code",
   "execution_count": 9,
   "id": "e2744cff-ebab-4506-9bc8-a8eb8d1eb4b4",
   "metadata": {},
   "outputs": [
    {
     "name": "stdout",
     "output_type": "stream",
     "text": [
      "sudo nmap -vv -oA scans/quick/quick_scan 10.11.1.74\n",
      "\n",
      "Starting Nmap 7.91 ( https://nmap.org ) at 2021-10-20 18:33 PDT\n",
      "Initiating Ping Scan at 18:33\n",
      "Scanning 10.11.1.74 [4 ports]\n",
      "Completed Ping Scan at 18:33, 3.06s elapsed (1 total hosts)\n",
      "Nmap scan report for 10.11.1.74 [host down, received no-response]\n",
      "Read data files from: /usr/bin/../share/nmap\n",
      "Note: Host seems down. If it is really up, but blocking our ping probes, try -Pn\n",
      "Nmap done: 1 IP address (0 hosts up) scanned in 3.14 seconds\n",
      "           Raw packets sent: 8 (304B) | Rcvd: 1379 (55.319KB)\n"
     ]
    }
   ],
   "source": [
    "!echo sudo nmap -vv -oA scans/quick/quick_scan $TARGET\n",
    "!echo\n",
    "!sudo nmap -vv -oA scans/quick/quick_scan $TARGET"
   ]
  },
  {
   "cell_type": "markdown",
   "id": "e915b5ee-4f66-402b-9d64-96ca11fa9f7a",
   "metadata": {},
   "source": [
    "# All Ports:"
   ]
  },
  {
   "cell_type": "code",
   "execution_count": null,
   "id": "da759f33-26a9-4f38-8202-e44564b9290c",
   "metadata": {},
   "outputs": [],
   "source": [
    "!echo sudo nmap -sC -p- $TARGET\n",
    "!sudo nmap -sC -p- $TARGET"
   ]
  },
  {
   "cell_type": "code",
   "execution_count": null,
   "id": "5e8c4f02-afa3-49cc-9fdf-bfcac2e4b58b",
   "metadata": {},
   "outputs": [
    {
     "name": "stdout",
     "output_type": "stream",
     "text": [
      "sudo nmap -p- -sV -O -vv -oA scans/tcp/tcp_scan 10.11.1.74\n",
      "\n",
      "Starting Nmap 7.91 ( https://nmap.org ) at 2021-10-20 18:33 PDT\n",
      "NSE: Loaded 45 scripts for scanning.\n",
      "Initiating Ping Scan at 18:33\n",
      "Scanning 10.11.1.74 [4 ports]\n",
      "Completed Ping Scan at 18:33, 1.49s elapsed (1 total hosts)\n",
      "Initiating Parallel DNS resolution of 1 host. at 18:33\n",
      "Completed Parallel DNS resolution of 1 host. at 18:33, 0.01s elapsed\n",
      "Initiating SYN Stealth Scan at 18:33\n",
      "Scanning 10.11.1.74 [65535 ports]\n",
      "Discovered open port 139/tcp on 10.11.1.74\n",
      "Discovered open port 445/tcp on 10.11.1.74\n",
      "Discovered open port 22/tcp on 10.11.1.74\n",
      "Discovered open port 80/tcp on 10.11.1.74\n",
      "Increasing send delay for 10.11.1.74 from 0 to 5 due to max_successful_tryno increase to 4\n",
      "SYN Stealth Scan Timing: About 10.44% done; ETC: 18:38 (0:04:26 remaining)\n",
      "SYN Stealth Scan Timing: About 12.25% done; ETC: 18:41 (0:07:17 remaining)\n",
      "SYN Stealth Scan Timing: About 14.22% done; ETC: 18:43 (0:09:09 remaining)\n",
      "SYN Stealth Scan Timing: About 16.46% done; ETC: 18:45 (0:10:14 remaining)\n",
      "SYN Stealth Scan Timing: About 22.18% done; ETC: 18:45 (0:09:32 remaining)\n",
      "SYN Stealth Scan Timing: About 26.55% done; ETC: 18:45 (0:08:54 remaining)\n",
      "SYN Stealth Scan Timing: About 31.77% done; ETC: 18:44 (0:07:59 remaining)\n",
      "SYN Stealth Scan Timing: About 36.97% done; ETC: 18:44 (0:07:22 remaining)\n"
     ]
    }
   ],
   "source": [
    "!echo sudo nmap -p- -sV -O -vv -oA  scans/tcp/tcp_scan $TARGET\n",
    "!echo\n",
    "!sudo nmap -p- -sV -O -vv -oA  scans/tcp/tcp_scan $TARGET"
   ]
  },
  {
   "cell_type": "code",
   "execution_count": null,
   "id": "d0d57d0d-a030-4a33-af05-6ec2541ad6c5",
   "metadata": {},
   "outputs": [],
   "source": [
    "import xmltodict\n",
    "\n",
    "with open('scans/tcp/tcp_scan.xml','r') as f:\n",
    "    xml_dict = xmltodict.parse(f.read())"
   ]
  },
  {
   "cell_type": "code",
   "execution_count": null,
   "id": "da453ac6-0dc4-425f-aef4-b7a95c6c3505",
   "metadata": {},
   "outputs": [],
   "source": [
    "PING=True\n",
    "try:\n",
    "    port_list = [port['@portid'] for port in xml_dict['nmaprun']['host']['ports']['port']]\n",
    "    %env PORTS={\",\".join(port_list)}\n",
    "except:\n",
    "    print(\"Host is down\")\n",
    "    PING=False"
   ]
  },
  {
   "cell_type": "markdown",
   "id": "6c676c86-fec5-476c-9ca3-a32dcf99e420",
   "metadata": {},
   "source": [
    "# No Ping:"
   ]
  },
  {
   "cell_type": "code",
   "execution_count": null,
   "id": "75c4ce70-909e-44a1-9325-30006ae51e5c",
   "metadata": {},
   "outputs": [],
   "source": [
    "!echo sudo nmap -sV -Pn -vv -oA scans/no_ping/no_ping_scan $TARGET\n",
    "!echo\n",
    "!sudo nmap -sV -Pn -vv -oA scans/no_ping/no_ping_scan $TARGET"
   ]
  },
  {
   "cell_type": "code",
   "execution_count": null,
   "id": "0c0c1709-760c-41d8-9a88-3ce8cec580ed",
   "metadata": {},
   "outputs": [],
   "source": [
    "if not PING:\n",
    "    !sudo nmap -sV -Pn -p- -vv -oA  scans/tcp/tcp_scan $TARGET"
   ]
  },
  {
   "cell_type": "markdown",
   "id": "113b941b-0872-48cc-9e5e-f98bb0f61ad2",
   "metadata": {},
   "source": [
    "# Run Default Scripts:"
   ]
  },
  {
   "cell_type": "code",
   "execution_count": null,
   "id": "7272adf7-59fd-40c7-9f29-13edabfa0b24",
   "metadata": {
    "tags": []
   },
   "outputs": [],
   "source": [
    "if PING:\n",
    "    !sudo nmap -sC -p $PORTS -vv -oA scans/scripts/script_scan $TARGET"
   ]
  },
  {
   "cell_type": "code",
   "execution_count": null,
   "id": "02e9f294-d7e9-44a3-9350-6208c1fe90fc",
   "metadata": {
    "scrolled": true,
    "tags": []
   },
   "outputs": [],
   "source": [
    "if PING:\n",
    "    !sudo nmap -A -T5 -vv --script=default,safe,discovery $TARGET\n",
    "else:\n",
    "    !sudo nmap -A -T5 -Pn -vv --script=default,safe,discovery $TARGET"
   ]
  },
  {
   "cell_type": "code",
   "execution_count": null,
   "id": "bc3f5e71-3371-480a-862e-f734bce39e36",
   "metadata": {
    "tags": []
   },
   "outputs": [],
   "source": [
    "if PING:\n",
    "    !sudo nmap -A -T3 -vv --script=default,safe,discovery $TARGET\n",
    "else:\n",
    "    !sudo nmap -A -T3 -Pn -vv --script=default,safe,discovery $TARGET"
   ]
  },
  {
   "cell_type": "code",
   "execution_count": null,
   "id": "51258c10-e060-403b-bbb5-853787cd6646",
   "metadata": {
    "tags": []
   },
   "outputs": [],
   "source": [
    "from getpass import getpass\n",
    "import os\n",
    "\n",
    "if PING:\n",
    "    !sudo nmap -A -p- -T5 -vv --script=default,safe,discovery {os.environ['TARGET']}\n",
    "else:\n",
    "    !sudo nmap -A -p- -Pn -T5 -vv --script=default,safe,discovery {os.environ['TARGET']}"
   ]
  },
  {
   "cell_type": "code",
   "execution_count": null,
   "id": "d98487c6-24cb-4ad3-a531-a92462446320",
   "metadata": {},
   "outputs": [],
   "source": [
    "UDP Scan, this takes forever...\n",
    "\n",
    "from getpass import getpass\n",
    "\n",
    "!sudo nmap -sU --open -oA scans/udp/udp_scan $TARGET\n",
    "!sudo nmap -sU --open -p- -oA scans/udp/udp_scan $TARGET"
   ]
  }
 ],
 "metadata": {
  "kernelspec": {
   "display_name": "Python 3 (ipykernel)",
   "language": "python",
   "name": "python3"
  },
  "language_info": {
   "codemirror_mode": {
    "name": "ipython",
    "version": 3
   },
   "file_extension": ".py",
   "mimetype": "text/x-python",
   "name": "python",
   "nbconvert_exporter": "python",
   "pygments_lexer": "ipython3",
   "version": "3.9.2"
  }
 },
 "nbformat": 4,
 "nbformat_minor": 5
}
